{
  "nbformat": 4,
  "nbformat_minor": 0,
  "metadata": {
    "colab": {
      "provenance": [],
      "toc_visible": true
    },
    "kernelspec": {
      "name": "python3",
      "display_name": "Python 3"
    },
    "language_info": {
      "name": "python"
    }
  },
  "cells": [
    {
      "cell_type": "markdown",
      "source": [
        "#### 파이썬 이란\n",
        "- 1990년 암스테르담의 귀도 반 로섬(Guido Van Rossum)이 개발한 인터프리터 언어\n",
        "- 컴퓨터 프로그래밍 교육을 위해 많이 사용하지만, 기업의 실무를 위해서도 많이 사용하는 언어. 구글에서 만든 소프트웨어의 50%이상이 파이썬으로 작성\n",
        "\n",
        "#### 파이썬의 특징\n",
        "- 파이썬은 인간다운 언어이다\n",
        "- 파이썬은 문법이 쉬워 빠르게 배울 수 있다\n",
        "- 파이썬은 무료이지만 강력하다\n",
        "- 파이썬은 간결하다\n",
        "- 파이썬은 프로그래밍을 즐기게 해준다\n",
        "- 파이썬은 개발 속도가 빠르다\n",
        "\n",
        "#### 파이썬으로 할 수 있는 일\n",
        "- 웹 개발: Django, Flask 등의 프레임워크를 사용하여 웹 애플리케이션을 개발할 수 있습니다.\n",
        "- 데이터 분석: Pandas, NumPy, SciPy와 같은 라이브러리를 사용하여 데이터를 분석하고 처리할 수 있습니다.\n",
        "- 머신 러닝과 인공지능: TensorFlow, PyTorch, Scikit-learn 등의 라이브러리를 활용하여 머신 러닝 모델을 구축하고 훈련시킬 수 있습니다.\n",
        "- 자동화: 파이썬 스크립트를 작성하여 일상적인 작업을 자동화하고, 시스템 관리 작업을 수행할 수 있습니다.\n",
        "- 게임 개발: Pygame과 같은 라이브러리를 사용하여 간단한 게임을 개발할 수 있습니다.\n",
        "- 모바일 애플리케이션 개발: Kivy 또는 BeeWare와 같은 라이브러리를 사용하여 모바일 애플리케이션을 개발할 수 있습니다.\n",
        "- 데스크탑 애플리케이션 개발: PyQt, Tkinter 등의 라이브러리를 활용하여 데스크탑 애플리케이션을 개발할 수 있습니다.\n",
        "- 시스템 스크립팅과 네트워킹: 시스템 유틸리티를 개발하거나 네트워크 프로토콜을 구현할 수 있습니다.\n",
        "- 임베디드 시스템과 하드웨어 제어: 라즈베리 파이와 같은 임베디드 시스템을 제어하고 하드웨어를 프로그래밍할 수 있습니다.\n",
        "- 사이언티픽 컴퓨팅: 과학적 연산과 시뮬레이션을 위해 파이썬을 활용할 수 있습니다.\n",
        "- 교육: 파이썬은 초보자에게 프로그래밍을 가르치는 데 이상적인 언어로 평가받고 있습니다.\n",
        "- 파이썬의 다양한 라이브러리와 프레임워크 덕분에, 이러한 분야에서의 작업이 더욱 쉽고 효율적으로 수행될 수 있습니다."
      ],
      "metadata": {
        "id": "qXr4h7ir7ij1"
      }
    },
    {
      "cell_type": "code",
      "source": [
        "## ! 기호는 Colab 셀에서 Unix/Linux 셀 명령어를 실행\n",
        "!python --version"
      ],
      "metadata": {
        "colab": {
          "base_uri": "https://localhost:8080/"
        },
        "id": "si8BAXu9Bmem",
        "outputId": "346e2b82-df07-49b0-c708-437bc74106bc"
      },
      "execution_count": null,
      "outputs": [
        {
          "output_type": "stream",
          "name": "stdout",
          "text": [
            "Python 3.10.12\n"
          ]
        }
      ]
    },
    {
      "cell_type": "code",
      "source": [
        "## % 기호는 IPython 환경 (즉, Colab이 포함된  Jupyter 환경)에서 제공하는 매직 명령어를 사용\n",
        "## 라인 매직은 단일 라인에 대해 실행되며 %하나를 사용하고 셀 매직은 셀 전체에 적용되며 %%를 사용\n",
        "##  현재 작업폴더 확인\n",
        "%pwd"
      ],
      "metadata": {
        "colab": {
          "base_uri": "https://localhost:8080/",
          "height": 35
        },
        "id": "RVqCFLORBoTk",
        "outputId": "220834ed-0185-4161-a6c8-990b29869d5f"
      },
      "execution_count": null,
      "outputs": [
        {
          "output_type": "execute_result",
          "data": {
            "text/plain": [
              "'/content'"
            ],
            "application/vnd.google.colaboratory.intrinsic+json": {
              "type": "string"
            }
          },
          "metadata": {},
          "execution_count": 7
        }
      ]
    },
    {
      "cell_type": "code",
      "source": [
        "%%time\n",
        "#간단한 for 루프를 사용한 계산\n",
        "sum = 0\n",
        "for i in range(1000000000):\n",
        "      sum += i\n",
        "print(sum)"
      ],
      "metadata": {
        "colab": {
          "base_uri": "https://localhost:8080/"
        },
        "id": "GN3YZhgLCaHe",
        "outputId": "58308b66-d88f-4e53-f1e4-4f0625ee029b"
      },
      "execution_count": null,
      "outputs": [
        {
          "output_type": "stream",
          "name": "stdout",
          "text": [
            "499999999500000000\n",
            "CPU times: user 2min 33s, sys: 347 ms, total: 2min 33s\n",
            "Wall time: 2min 37s\n"
          ]
        }
      ]
    },
    {
      "cell_type": "markdown",
      "source": [
        "#### 용어\n",
        "- 식별자 : 프로그램밍 언어에서 이름을 붙일 때 사용하는 단어. 주로 변수 또는 함수 이름 등으로 사용\n",
        "- 주석 : 프로그램을 설명하기 위해 사용. # 기호로 주석 처리\n",
        "- 연산자 : 스스로 값이 되는 것이 아니고 값과 값 사이에 무언가 기능을 적용할 때 사용\n",
        "- 자료 : 리터럴이라고 하는데 숫자이든 문자이든 어떠한 값 자체를 의미. 1, 10, \"Hello\"\n",
        "- 키워드 : 파이썬이 만들어질 때 이미 사용하겠다고 예약해 놓는 것. False, None, True, ...\n",
        "- 프로그램밍 언어에서 사용자가 이름을 정할 때 키워드는 사용할 수 없음\n"
      ],
      "metadata": {
        "id": "vTTQUSH_DTzx"
      }
    },
    {
      "cell_type": "markdown",
      "source": [
        "#### 식별자\n",
        "count, user_name, _is_valid, calculate_area, Car, model, year, math 및 m 모두 유효한 식별자. 각각의 식별자는 특정한 데이터 또는 기능에 이름을 부여하여 코드 내에서 해당 데이터나 기능을 참조할 수 있게하며 코드의 가독성과 유지 보수성을 높이는 데 중요한 역할"
      ],
      "metadata": {
        "id": "3d9GzFVwESFC"
      }
    },
    {
      "cell_type": "code",
      "source": [
        "# 변수 식별자\n",
        "count = 10\n",
        "user_name = \"Alice\"\n",
        "_is_valid = True\n",
        "\n",
        "#함수 식별자\n",
        "def calculate_area(radius):\n",
        "  return 3.14159 * radius * radius\n",
        "\n",
        "#클래스 식별자\n",
        "class Car:\n",
        "  def __init__(self, model, year):\n",
        "    self.model = model\n",
        "    self.year = year\n",
        "\n",
        "#모듈 식별자\n",
        "import math as m"
      ],
      "metadata": {
        "id": "ENTEuubfEUag"
      },
      "execution_count": null,
      "outputs": []
    },
    {
      "cell_type": "code",
      "source": [
        "calculate_area(50)"
      ],
      "metadata": {
        "colab": {
          "base_uri": "https://localhost:8080/"
        },
        "id": "ezDppaNj0Owq",
        "outputId": "2840a3c0-06c8-464a-ff6b-8d4409eb3e8b"
      },
      "execution_count": null,
      "outputs": [
        {
          "output_type": "execute_result",
          "data": {
            "text/plain": [
              "7853.974999999999"
            ]
          },
          "metadata": {},
          "execution_count": 17
        }
      ]
    },
    {
      "cell_type": "markdown",
      "source": [
        "###식별자 기본규칙\n",
        " - 키워드를 사용하면 안된다\n",
        " - 특수문자는 언더 바(_)만 사용\n",
        " - 숫자로 시작하면 안된다\n",
        " - 공백을 포함할 수 없다"
      ],
      "metadata": {
        "id": "QHoYswiGIJyR"
      }
    },
    {
      "cell_type": "code",
      "source": [
        "import keyword\n",
        "print(keyword.kwlist,'\\n')\n",
        "len(keyword.kwlist)"
      ],
      "metadata": {
        "colab": {
          "base_uri": "https://localhost:8080/"
        },
        "id": "zkQEJSgnDWaX",
        "outputId": "3209a159-1000-4be6-c833-c17125ea0b79"
      },
      "execution_count": null,
      "outputs": [
        {
          "output_type": "stream",
          "name": "stdout",
          "text": [
            "['False', 'None', 'True', 'and', 'as', 'assert', 'async', 'await', 'break', 'class', 'continue', 'def', 'del', 'elif', 'else', 'except', 'finally', 'for', 'from', 'global', 'if', 'import', 'in', 'is', 'lambda', 'nonlocal', 'not', 'or', 'pass', 'raise', 'return', 'try', 'while', 'with', 'yield'] \n",
            "\n"
          ]
        },
        {
          "output_type": "execute_result",
          "data": {
            "text/plain": [
              "35"
            ]
          },
          "metadata": {},
          "execution_count": 21
        }
      ]
    },
    {
      "cell_type": "code",
      "source": [
        "alpha\n",
        "break # 키워드\n",
        "alpha10\n",
        "_273alpha # 숫자\n",
        "AlpHa\n",
        "ALPHA\n",
        "has space # 공백"
      ],
      "metadata": {
        "colab": {
          "base_uri": "https://localhost:8080/",
          "height": 110
        },
        "id": "1mSzCY5MJjj2",
        "outputId": "a3a42fb9-2df0-4f41-f3f4-dbec81ffcc79"
      },
      "execution_count": null,
      "outputs": [
        {
          "output_type": "error",
          "ename": "SyntaxError",
          "evalue": "invalid syntax (<ipython-input-22-824c97f13239>, line 7)",
          "traceback": [
            "\u001b[0;36m  File \u001b[0;32m\"<ipython-input-22-824c97f13239>\"\u001b[0;36m, line \u001b[0;32m7\u001b[0m\n\u001b[0;31m    has space # 공백\u001b[0m\n\u001b[0m        ^\u001b[0m\n\u001b[0;31mSyntaxError\u001b[0m\u001b[0;31m:\u001b[0m invalid syntax\n"
          ]
        }
      ]
    },
    {
      "cell_type": "markdown",
      "source": [
        "Q. 주어진 문자열 리스트에서 유효한 Python 변수 이름만을 추출하여 반환하는 함수를 작성하세요."
      ],
      "metadata": {
        "id": "RIUg_Ze2J6Uq"
      }
    },
    {
      "cell_type": "code",
      "source": [
        "identifiers = [\"var1\", \"2things\", \"variable_name\", \"time!\", \"break\"]"
      ],
      "metadata": {
        "id": "MtxAoN_4NK2v"
      },
      "execution_count": null,
      "outputs": []
    },
    {
      "cell_type": "code",
      "source": [
        "import keyword\n",
        "\n",
        "def isidentifier_test(identifiers):\n",
        "    output = list()\n",
        "    for element in identifiers:\n",
        "        if element.isidentifier() and (not keyword.iskeyword(element)):\n",
        "            output.append(element)\n",
        "\n",
        "    return output\n",
        "\n",
        "\n",
        "identifiers = [\"var1\", \"2things\", \"variable_name\", \"time!\", \"break\"]\n",
        "print(isidentifier_test(identifiers))"
      ],
      "metadata": {
        "colab": {
          "base_uri": "https://localhost:8080/"
        },
        "id": "TyebkMthKqAq",
        "outputId": "a18404a8-06e2-41c2-90de-0706b23c259b"
      },
      "execution_count": null,
      "outputs": [
        {
          "output_type": "stream",
          "name": "stdout",
          "text": [
            "['var1', 'variable_name']\n"
          ]
        }
      ]
    },
    {
      "cell_type": "code",
      "source": [
        "for element in identifiers:\n",
        "        print((not keyword.iskeyword(element)))"
      ],
      "metadata": {
        "colab": {
          "base_uri": "https://localhost:8080/"
        },
        "id": "FikVjpnt35fF",
        "outputId": "fb8f9d1e-eced-40b3-84f4-6acce1bdb73e"
      },
      "execution_count": null,
      "outputs": [
        {
          "output_type": "stream",
          "name": "stdout",
          "text": [
            "True\n",
            "True\n",
            "True\n",
            "True\n",
            "False\n"
          ]
        }
      ]
    },
    {
      "cell_type": "markdown",
      "source": [
        "##파이썬은 snake_case와 CamelCase를 모두 사용\n",
        " - itemlist : liem_list itemList\n",
        " - loginstatus : login_status loginStatus\n",
        " - 캐멀 케이스(대문자로 시작) 클래스\n",
        " - 스네이크 케이스(소문자로 시작) 뒤에()가 있다 - 함수\n",
        " - 스네이크 케이스(소문자로 시작) 뒤에()가 없다 - 변수"
      ],
      "metadata": {
        "id": "q32Fie0L7IaJ"
      }
    },
    {
      "cell_type": "code",
      "source": [
        "a=5\n",
        "b=3\n",
        "c=b%a\n",
        "d=b//a\n",
        "e=b/a\n",
        "print(a)\n",
        "print(b)\n",
        "print(c)\n",
        "print(d)\n",
        "print(e)"
      ],
      "metadata": {
        "id": "O_w7-xla4-NM",
        "colab": {
          "base_uri": "https://localhost:8080/"
        },
        "outputId": "4e894df1-29fb-4ff1-fea0-7a7129c4cd35"
      },
      "execution_count": null,
      "outputs": [
        {
          "output_type": "stream",
          "name": "stdout",
          "text": [
            "5\n",
            "3\n",
            "3\n",
            "0\n",
            "0.6\n"
          ]
        }
      ]
    },
    {
      "cell_type": "code",
      "source": [
        "num1 = 0\n",
        "num2 = 0\n",
        "\n",
        "\n",
        "num1 = int(input(\"처음 숫자 입력 : \"))\n",
        "num2 = int(input(\"두번째 숫자 입력 : \"))\n",
        "print(\"첫 숫자가 클때 발표 \")\n",
        "if num1 > num2:\n",
        "    print(num1)"
      ],
      "metadata": {
        "colab": {
          "base_uri": "https://localhost:8080/"
        },
        "id": "mg2ytYE-ALSg",
        "outputId": "5ef00069-ffaa-4b3a-b0a4-4c7b3e0f025c"
      },
      "execution_count": null,
      "outputs": [
        {
          "output_type": "stream",
          "name": "stdout",
          "text": [
            "처음 숫자 입력 : 1\n",
            "두번째 숫자 입력 : 2\n",
            "첫 숫자가 클때 발표 \n"
          ]
        }
      ]
    },
    {
      "cell_type": "markdown",
      "source": [
        "새 섹션"
      ],
      "metadata": {
        "id": "rheSuJXWA8b2"
      }
    },
    {
      "cell_type": "markdown",
      "source": [
        "#### 자료형\n",
        "- 자료형 또는 데이터 타입이란 숫자, 문자 등과 같이 여러 종류의 데이터를 구분하기 위한 분류\n",
        "- 파이썬의 자료형은 크게 숫자(numbers), 시퀀스(sequence), 매핑(mapping) 등으로 나눌 수 있다.\n",
        "- 파이썬의 기본 자료형\n",
        "  - 수치형\n",
        "    - 정수형 : int는 정수(integer)를 나타낸다. 양의 정수와 음의 정수, 숫자 0\n",
        "    - 실수형 : float는 원래 부동소수점수(floating-point number)를 가리키는데, 지금은 단순히 소수점 이하를 표현할 수 있는 수이다.\n",
        "    - 복소수형 : 복소수를 complex로 나타내고 제곱하면 -1이 되는 수 i를 ‘허수(imaginary number)’라고 하는데 허수 i를 j로 표현\n",
        "  - 시퀀스 : 문자열(str), 리스트(list), 튜플(tuple), 사용자 정의 클래스가 시퀀스에 속한다. for 문에서 사용할 수 있는 것들이 바로 시퀀스\n",
        "    - 문자열 : 문자를 한 줄로 표현하며 문자열 인덱스를 이용해 문자열의 일부를 복사\n",
        "    - 리스트 : 대괄호([ ])로 감싸 주고 각 요솟값은 쉼표(,)로 구분\n",
        "    - 튜플 : 튜플은 ( )으로 둘러싸고 각 요솟값은 쉼표(,)로 구분\n",
        "  - 매핑\n",
        "    - 사전 : 딕셔너리(dict)는 키(key)와 값(value)의 짝으로 이뤄지는데 이런 것을 매핑\n",
        "  - 집합 : 집합을 표현하는 세트(set)\n",
        "  - 블린 : 참, 거짓을 표현"
      ],
      "metadata": {
        "id": "4XMxvpFzA_KU"
      }
    },
    {
      "cell_type": "code",
      "source": [
        "i1 = 3\n",
        "f1 = 3.5\n",
        "print(i1)\n",
        "print(f1)"
      ],
      "metadata": {
        "colab": {
          "base_uri": "https://localhost:8080/"
        },
        "id": "O9vX2sUUA9K4",
        "outputId": "8c3c7b03-26be-47d6-b494-2a2056741c0e"
      },
      "execution_count": null,
      "outputs": [
        {
          "output_type": "stream",
          "name": "stdout",
          "text": [
            "3\n",
            "3.5\n"
          ]
        }
      ]
    },
    {
      "cell_type": "code",
      "source": [
        "# 정수(int)\n",
        "print(int(True))\n",
        "print(int(False))\n",
        "print(int('104'))\n",
        "print(int(3.14))"
      ],
      "metadata": {
        "colab": {
          "base_uri": "https://localhost:8080/"
        },
        "id": "ltbAnq5oCjRV",
        "outputId": "f0072923-1cfb-4c6f-e9bc-f0918ab59355"
      },
      "execution_count": null,
      "outputs": [
        {
          "output_type": "stream",
          "name": "stdout",
          "text": [
            "1\n",
            "0\n",
            "104\n",
            "3\n"
          ]
        }
      ]
    },
    {
      "cell_type": "code",
      "source": [
        "# 실수(float)\n",
        "print(float(True))\n",
        "print(float(False))\n",
        "print(float('104'))\n",
        "print(float(3.140000010))"
      ],
      "metadata": {
        "colab": {
          "base_uri": "https://localhost:8080/"
        },
        "id": "z938UnL0DPTe",
        "outputId": "31b294bb-61ca-4bfa-d0b8-99bdca12521f"
      },
      "execution_count": null,
      "outputs": [
        {
          "output_type": "stream",
          "name": "stdout",
          "text": [
            "1.0\n",
            "0.0\n",
            "104.0\n",
            "3.14000001\n"
          ]
        }
      ]
    },
    {
      "cell_type": "code",
      "source": [
        "# 사칙연산 : +, *, /, //, %, **\n",
        "a = 10\n",
        "b = 2.3\n",
        "print(a+b)\n",
        "print(a*b)\n",
        "print(a/b)\n",
        "print(a//b)\n",
        "print(a%b)\n",
        "print(a**b)"
      ],
      "metadata": {
        "colab": {
          "base_uri": "https://localhost:8080/"
        },
        "id": "qq5V-FlbEAYM",
        "outputId": "7f64112e-d7a0-4f9c-f327-6c0e1867c5d4"
      },
      "execution_count": null,
      "outputs": [
        {
          "output_type": "stream",
          "name": "stdout",
          "text": [
            "12.3\n",
            "23.0\n",
            "4.347826086956522\n",
            "4.0\n",
            "0.8000000000000007\n",
            "199.52623149688787\n"
          ]
        }
      ]
    },
    {
      "cell_type": "code",
      "source": [
        "# 문자열\n",
        "string = '문자열'\n",
        "a = \"100\""
      ],
      "metadata": {
        "id": "ncODcj6bFNBi"
      },
      "execution_count": null,
      "outputs": []
    },
    {
      "cell_type": "code",
      "source": [
        "print(string)\n",
        "a"
      ],
      "metadata": {
        "colab": {
          "base_uri": "https://localhost:8080/",
          "height": 54
        },
        "id": "yI7WpW-MFi6B",
        "outputId": "91910eb4-6307-4ade-b681-30e8d1c095d5"
      },
      "execution_count": null,
      "outputs": [
        {
          "output_type": "stream",
          "name": "stdout",
          "text": [
            "문자열\n"
          ]
        },
        {
          "output_type": "execute_result",
          "data": {
            "text/plain": [
              "'100'"
            ],
            "application/vnd.google.colaboratory.intrinsic+json": {
              "type": "string"
            }
          },
          "metadata": {},
          "execution_count": 94
        }
      ]
    },
    {
      "cell_type": "code",
      "source": [
        "a"
      ],
      "metadata": {
        "colab": {
          "base_uri": "https://localhost:8080/",
          "height": 35
        },
        "id": "y3sS_fYhFvCQ",
        "outputId": "5fab9bc3-af46-4e89-8dce-7e710e91c997"
      },
      "execution_count": null,
      "outputs": [
        {
          "output_type": "execute_result",
          "data": {
            "text/plain": [
              "'100'"
            ],
            "application/vnd.google.colaboratory.intrinsic+json": {
              "type": "string"
            }
          },
          "metadata": {},
          "execution_count": 91
        }
      ]
    },
    {
      "cell_type": "code",
      "source": [
        "a = 100\n",
        "b = 50\n",
        "print(a+b)\n",
        "a = '100 '\n",
        "b = '50'\n",
        "print(a+b)\n"
      ],
      "metadata": {
        "colab": {
          "base_uri": "https://localhost:8080/"
        },
        "id": "vmcc52WqGAPG",
        "outputId": "9dbb614c-09a4-4376-d612-e2b0ac59cbed"
      },
      "execution_count": null,
      "outputs": [
        {
          "output_type": "stream",
          "name": "stdout",
          "text": [
            "150\n",
            "100 50\n"
          ]
        }
      ]
    },
    {
      "cell_type": "code",
      "source": [
        "\n",
        "a = int('100 ')\n",
        "b = float('50')\n",
        "print(a+b)\n"
      ],
      "metadata": {
        "colab": {
          "base_uri": "https://localhost:8080/"
        },
        "id": "nhAL8bchGbE0",
        "outputId": "d4b0de1f-bad8-4a1a-bb73-bdce9089abf3"
      },
      "execution_count": null,
      "outputs": [
        {
          "output_type": "stream",
          "name": "stdout",
          "text": [
            "150.0\n"
          ]
        }
      ]
    },
    {
      "cell_type": "code",
      "source": [
        "input('인사말을 입력하세요 :')"
      ],
      "metadata": {
        "colab": {
          "base_uri": "https://localhost:8080/",
          "height": 54
        },
        "id": "dobFVXMsHCVx",
        "outputId": "a4e5df7a-a7cf-4e37-e5cd-95b95c977839"
      },
      "execution_count": null,
      "outputs": [
        {
          "name": "stdout",
          "output_type": "stream",
          "text": [
            "인사말을 입력하세요 :hi\n"
          ]
        },
        {
          "output_type": "execute_result",
          "data": {
            "text/plain": [
              "'hi'"
            ],
            "application/vnd.google.colaboratory.intrinsic+json": {
              "type": "string"
            }
          },
          "metadata": {},
          "execution_count": 102
        }
      ]
    },
    {
      "cell_type": "code",
      "source": [
        "a = int(input())\n",
        "b = int(input())\n",
        "print(a+b)"
      ],
      "metadata": {
        "colab": {
          "base_uri": "https://localhost:8080/"
        },
        "id": "3KLt5fUzH1fP",
        "outputId": "e57a237f-8e7c-4f8f-ea36-84209895be16"
      },
      "execution_count": null,
      "outputs": [
        {
          "output_type": "stream",
          "name": "stdout",
          "text": [
            "5\n",
            "5\n",
            "10\n"
          ]
        }
      ]
    },
    {
      "cell_type": "code",
      "source": [
        "num1 = int(input(\"첫 숫자: \"))\n",
        "num2 = int(input(\"두번째 숫자: \"))\n",
        "\n",
        "print(num1+num2)"
      ],
      "metadata": {
        "colab": {
          "base_uri": "https://localhost:8080/"
        },
        "id": "q831UzaCI-26",
        "outputId": "41b6c83d-e186-4983-c428-2801d76828a5"
      },
      "execution_count": null,
      "outputs": [
        {
          "output_type": "stream",
          "name": "stdout",
          "text": [
            "첫 숫자: 1\n",
            "두번째 숫자: 2\n",
            "3\n"
          ]
        }
      ]
    },
    {
      "cell_type": "code",
      "source": [
        "# 실수 + 실수 -> 실수\n",
        "#Q. 3과 3.3을 입력하고 숫자 연산을 수행하여 6.3을 출력하세요.\n",
        "\n",
        "num1 = float(input(\"실수를 입력하세요 :\"))\n",
        "num2 = float(input(\"실수를 입력하세요 :\"))\n",
        "\n",
        "print(num1 + num2)"
      ],
      "metadata": {
        "colab": {
          "base_uri": "https://localhost:8080/"
        },
        "id": "Kiuhcd9SJMA2",
        "outputId": "c8efc73a-bf47-42d0-81de-8bd76b43fc22"
      },
      "execution_count": null,
      "outputs": [
        {
          "output_type": "stream",
          "name": "stdout",
          "text": [
            "정수를 입력하세요 :3\n",
            "실수를 입력하세요 :3.3\n",
            "6.3\n"
          ]
        }
      ]
    },
    {
      "cell_type": "code",
      "source": [
        "# 정수 + 실수 -> 실수\n",
        "#Q. 3과 3.3을 입력하고 숫자 연산을 수행하여 6.3을 출력하세요.\n",
        "\n",
        "num1 = int(input(\"정수를 입력하세요 :\"))\n",
        "num2 = float(input(\"실수를 입력하세요 :\"))\n",
        "\n",
        "print(num1 + num2)"
      ],
      "metadata": {
        "id": "McHL0v2aJlkU"
      },
      "execution_count": null,
      "outputs": []
    },
    {
      "cell_type": "code",
      "source": [
        "# Q. a = 50와 b = 52.273일때 a+b는 5252.273으로 출력되도록  a와b를 문자열 자료형으로 변환하세요\n",
        "a = 52\n",
        "b = 52.273\n",
        "a = str(a)\n",
        "b = str(b)\n",
        "print(a+b)"
      ],
      "metadata": {
        "colab": {
          "base_uri": "https://localhost:8080/"
        },
        "id": "phJ7AH92NVks",
        "outputId": "86739323-3ba9-445a-df50-76389315b18c"
      },
      "execution_count": null,
      "outputs": [
        {
          "output_type": "stream",
          "name": "stdout",
          "text": [
            "5252.273\n"
          ]
        }
      ]
    },
    {
      "cell_type": "code",
      "source": [
        "# 문자열 : \"\", '', \"\"\" \"\"\", ''' '''\n",
        "# p1 = 'Python's value is great' <=오류남\n",
        "p1 = \"Python's value is great\"\n",
        "print(p1)"
      ],
      "metadata": {
        "colab": {
          "base_uri": "https://localhost:8080/"
        },
        "id": "R0gfg60aNuXE",
        "outputId": "3ce2459b-3e88-4d1f-e57b-747dfb814fea"
      },
      "execution_count": null,
      "outputs": [
        {
          "output_type": "stream",
          "name": "stdout",
          "text": [
            "Python's value is great\n"
          ]
        }
      ]
    },
    {
      "cell_type": "code",
      "source": [
        "#백슬래시 (\\)는 문자열 안에서 작은따옴표 (')를 문자열의 끝을 의미하지 않는 일반 문자로 포함시키기 위해 사용\n",
        "#이 기술을 이스케이프라고 함\n",
        "p1 = 'Python\\'s value is great'\n",
        "print(p1)"
      ],
      "metadata": {
        "colab": {
          "base_uri": "https://localhost:8080/"
        },
        "id": "NWIoTNxtOnz3",
        "outputId": "bd7cd919-7703-4e0f-fe59-92a8ad2ff0d6"
      },
      "execution_count": null,
      "outputs": [
        {
          "output_type": "stream",
          "name": "stdout",
          "text": [
            "Python's value is great\n"
          ]
        }
      ]
    },
    {
      "cell_type": "code",
      "source": [
        "# \\n 행 바꿈\n",
        "#y1 = \"Close your eyes \\nGive me your hand darring\"\n",
        "#y1 = \"Close your eyes \\tGive me your hand darring\"\n",
        "#y1 = \"Close your eyes \\000Give me your hand darring\"\n",
        "#y1 = \"Close your eyes \\vGive me your hand darring\"\n",
        "print(y1)\n",
        "y1"
      ],
      "metadata": {
        "colab": {
          "base_uri": "https://localhost:8080/",
          "height": 54
        },
        "id": "Yq8XUe3RPyee",
        "outputId": "dca00adf-d8ef-4d0d-bd3a-b58e44d41681"
      },
      "execution_count": null,
      "outputs": [
        {
          "output_type": "stream",
          "name": "stdout",
          "text": [
            "Close your eyes \u000bGive me your hand darring\n"
          ]
        },
        {
          "output_type": "execute_result",
          "data": {
            "text/plain": [
              "'Close your eyes \\x0bGive me your hand darring'"
            ],
            "application/vnd.google.colaboratory.intrinsic+json": {
              "type": "string"
            }
          },
          "metadata": {},
          "execution_count": 134
        }
      ]
    },
    {
      "cell_type": "code",
      "source": [
        "y2 = '''\n",
        "동해물과\n",
        "백두산이\n",
        "마르고 닳도록\n",
        "'''\n",
        "print(y2)"
      ],
      "metadata": {
        "colab": {
          "base_uri": "https://localhost:8080/"
        },
        "id": "3yxDkylVRUu9",
        "outputId": "739b8894-9306-40f8-dc17-594d4110e991"
      },
      "execution_count": null,
      "outputs": [
        {
          "output_type": "stream",
          "name": "stdout",
          "text": [
            "\n",
            "동해물과\n",
            "백두산이\n",
            "마르고 닳도록\n",
            "\n"
          ]
        }
      ]
    },
    {
      "cell_type": "code",
      "source": [
        "y2 = \"\"\"\n",
        "동해물과\n",
        "백두산이\n",
        "마르고 닳도록\n",
        "\"\"\"\n",
        "y3 = '''\n",
        "동해물과\n",
        "백두산이\n",
        "마르고 닳도록\n",
        "'''\n",
        "print(y2)\n",
        "print(y3)"
      ],
      "metadata": {
        "colab": {
          "base_uri": "https://localhost:8080/"
        },
        "id": "rS8puUB8SPcB",
        "outputId": "4836941d-f33d-4a60-a427-1ed893633cf8"
      },
      "execution_count": null,
      "outputs": [
        {
          "output_type": "stream",
          "name": "stdout",
          "text": [
            "\n",
            "동해물과\n",
            "백두산이\n",
            "마르고 닳도록\n",
            "\n",
            "\n",
            "동해물과\n",
            "백두산이\n",
            "마르고 닳도록\n",
            "\n"
          ]
        }
      ]
    },
    {
      "cell_type": "code",
      "source": [
        "a1 = \"동해물과\"\n",
        "a2 = \" 백두산이 \\n마르고 닳도록\"\n",
        "print(a1+a2)\n",
        "print('-=-=-='*5)"
      ],
      "metadata": {
        "colab": {
          "base_uri": "https://localhost:8080/"
        },
        "id": "Hc35tQ63TII3",
        "outputId": "7a0cd142-b871-47b1-eaa7-1cc9079664d8"
      },
      "execution_count": null,
      "outputs": [
        {
          "output_type": "stream",
          "name": "stdout",
          "text": [
            "동해물과 백두산이 \n",
            "마르고 닳도록\n",
            "-=-=-=-=-=-=-=-=-=-=-=-=-=-=-=\n"
          ]
        }
      ]
    },
    {
      "cell_type": "code",
      "source": [
        "#Q . 아래와 같이 출력할 수 있는 string을 만드세요.\n",
        "#\"What a wonderful world\"\n",
        "#he said loudly\n",
        "\n",
        "quz=str(\"\\\"What a woderful world\\\"\\nhe said loudly\")\n",
        "print(quz)"
      ],
      "metadata": {
        "colab": {
          "base_uri": "https://localhost:8080/"
        },
        "id": "NUtIqjNITyx_",
        "outputId": "597519b8-53d7-4de3-b1fa-802d00712258"
      },
      "execution_count": null,
      "outputs": [
        {
          "output_type": "stream",
          "name": "stdout",
          "text": [
            "\"What a woderful world\"\n",
            "he said loudly\n"
          ]
        }
      ]
    },
    {
      "cell_type": "code",
      "source": [
        "#Q. 다른 타입의 숫자 2개를 입력받아 큰 수를 출력하세요.\n",
        "\n",
        "num1=int(input(\"정수를 입력하세요\"))\n",
        "num2=float(input(\"실수를 입력하세요\"))\n",
        "\n",
        "if num1<num2:\n",
        "  print(num2)\n",
        "elif num1==num2:\n",
        "  print (\"같은 수는 입력하지 마세요\")\n",
        "elif num1>num2:\n",
        "  print(num1)"
      ],
      "metadata": {
        "colab": {
          "base_uri": "https://localhost:8080/"
        },
        "id": "NVeJeudmUpf_",
        "outputId": "9d8e5f1e-5947-4b6d-f7a3-9af2e9c45e29"
      },
      "execution_count": null,
      "outputs": [
        {
          "output_type": "stream",
          "name": "stdout",
          "text": [
            "정수를 입력하세요555\n",
            "실수를 입력하세요444\n",
            "555\n"
          ]
        }
      ]
    },
    {
      "cell_type": "markdown",
      "source": [
        "## 자료형 - List\n",
        " - 리스트는 [] 로 표시하며 []안의 요소를 콤마로 구분하여 순서있게 나열"
      ],
      "metadata": {
        "id": "76vYHFnAJ3U1"
      }
    },
    {
      "cell_type": "code",
      "source": [
        "# 자료형 - List\n",
        "# 리스트는 [] 로 표시하며 []안의 요소를 콤마로 구분하여 순서있게 나열\n",
        "list1 = [1,2,3,4,5]\n",
        "list2 = ['a','b','c']\n",
        "list3 = [1,'a','abc',[1,2,3,4,5], ['a','b','c']]\n",
        "print(list1)\n",
        "print(list2)\n",
        "print(list3)"
      ],
      "metadata": {
        "colab": {
          "base_uri": "https://localhost:8080/"
        },
        "id": "go8AeGY6Vvgw",
        "outputId": "e97170af-9a4c-4fe8-dab4-7d27ff1e0320"
      },
      "execution_count": null,
      "outputs": [
        {
          "output_type": "stream",
          "name": "stdout",
          "text": [
            "[1, 2, 3, 4, 5]\n",
            "['a', 'b', 'c']\n",
            "[1, 'a', 'abc', [1, 2, 3, 4, 5], ['a', 'b', 'c']]\n"
          ]
        }
      ]
    },
    {
      "cell_type": "code",
      "source": [
        "#인덱싱\n",
        "list1 = [1,2,3,4,5]\n",
        "print(list1[1])\n",
        "print(list1[1:4])\n",
        "list1[:5]"
      ],
      "metadata": {
        "colab": {
          "base_uri": "https://localhost:8080/"
        },
        "id": "oerOi8CPXbyI",
        "outputId": "b8ecc0c3-ea09-4b51-bdc3-3292f6ed4b29"
      },
      "execution_count": null,
      "outputs": [
        {
          "output_type": "stream",
          "name": "stdout",
          "text": [
            "2\n",
            "[2, 3, 4]\n"
          ]
        },
        {
          "output_type": "execute_result",
          "data": {
            "text/plain": [
              "[1, 2, 3, 4, 5]"
            ]
          },
          "metadata": {},
          "execution_count": 165
        }
      ]
    },
    {
      "cell_type": "code",
      "source": [
        "list3=[1,'a','abc',[1,2,3,4,5],['a','b','c']]\n",
        "print(list3[3][2:5])\n",
        "print(list3[4][2])"
      ],
      "metadata": {
        "colab": {
          "base_uri": "https://localhost:8080/"
        },
        "id": "c4Z_4FCfp_XC",
        "outputId": "c94b5cc8-6c5f-4bfe-8e0c-29a0889e1e55"
      },
      "execution_count": null,
      "outputs": [
        {
          "output_type": "stream",
          "name": "stdout",
          "text": [
            "[3, 4, 5]\n",
            "c\n"
          ]
        }
      ]
    },
    {
      "cell_type": "code",
      "source": [
        "# 리스트 수정, 삭제\n",
        "a = [0,1,2,3,4,5,6,7,8,9]\n",
        "b = ['a', 'b', 'c']\n",
        "a[0] = 1\n",
        "print(a)\n",
        "b[1]='a'\n",
        "print(b)\n",
        "del a[0]\n",
        "print(a)\n",
        "del a[0]\n",
        "print(a)\n",
        "del b[1]\n",
        "print(b)"
      ],
      "metadata": {
        "colab": {
          "base_uri": "https://localhost:8080/"
        },
        "id": "LhAM90-qr_hk",
        "outputId": "277bfb27-b171-4607-bef0-6f8369d4a481"
      },
      "execution_count": null,
      "outputs": [
        {
          "output_type": "stream",
          "name": "stdout",
          "text": [
            "[1, 1, 2, 3, 4, 5, 6, 7, 8, 9]\n",
            "['a', 'a', 'c']\n",
            "[1, 2, 3, 4, 5, 6, 7, 8, 9]\n",
            "[2, 3, 4, 5, 6, 7, 8, 9]\n",
            "['a', 'c']\n"
          ]
        }
      ]
    },
    {
      "cell_type": "code",
      "source": [
        "# 끝에서 부터 인덱싱 : -1\n",
        "a = [0,1,2,3,4,5,6,7,8,9]\n",
        "b = ['a', 'b', 'c']\n",
        "print(a[-2])\n",
        "print(a[-4:-1])\n",
        "print(a[-4:])"
      ],
      "metadata": {
        "colab": {
          "base_uri": "https://localhost:8080/"
        },
        "id": "bppazV4Wswga",
        "outputId": "7763ee01-61af-4cf6-e6f7-15157dabfcaa"
      },
      "execution_count": null,
      "outputs": [
        {
          "output_type": "stream",
          "name": "stdout",
          "text": [
            "8\n",
            "[6, 7, 8]\n",
            "[6, 7, 8, 9]\n"
          ]
        }
      ]
    },
    {
      "cell_type": "code",
      "source": [
        "#리스트 확장\n",
        "h = [1,2,3]\n",
        "h.extend([1,5])\n",
        "print(h)\n",
        "h.append(6)\n",
        "print(h)\n",
        "h.insert(0,5)\n",
        "print(h)\n",
        "del h[3]\n",
        "h.insert(3,10)\n",
        "print(h)"
      ],
      "metadata": {
        "colab": {
          "base_uri": "https://localhost:8080/"
        },
        "id": "VJQf7I34so6w",
        "outputId": "ed844b38-88ee-4859-ded9-f62bc65e972a"
      },
      "execution_count": null,
      "outputs": [
        {
          "output_type": "stream",
          "name": "stdout",
          "text": [
            "[1, 2, 3, 1, 5]\n",
            "[1, 2, 3, 1, 5, 6]\n",
            "[5, 1, 2, 3, 1, 5, 6]\n",
            "[5, 1, 2, 10, 1, 5, 6]\n"
          ]
        }
      ]
    },
    {
      "cell_type": "markdown",
      "source": [
        "Q. list1에서 다음을 수행하세요\n",
        "- 33을 출력\n",
        "- 82를 리스트에 추가\n",
        "- 87의 인덱스 구하기 - 도전\n",
        "- 인덱스 3에서 10까지의 값을 출력하고 list2에 저장한 후 내림차순 정렬하기 - 도전\n",
        "- 39를 11로 변경\n",
        "- [69,45,58] 출력\n",
        "- 짝수 인덱스의 값으로 구성된 리스트 출력하기\n",
        "- 인덱스가 가장 큰수를 삭제하기\n",
        "- 인덱스 3, 5인 값으로 4칙 연산하기\n",
        "\n",
        "list1 = [58, 45, 69, 19,  4, 87, 29, 13, 39, 15, 54, [8, 33, 11], 27, 49, 63, 98, 22, 82]"
      ],
      "metadata": {
        "id": "dGndIvRCvnM7"
      }
    },
    {
      "cell_type": "code",
      "source": [
        "list1 = [58, 45, 69, 19, 4, 87, 29, 13, 39, 15, 54, [8, 33, 11], 27, 49, 63, 98, 22, 82]\n",
        "\n",
        "\n",
        "print(list1[11][1])#1\n",
        "\n",
        "\n",
        "list1.append(82)#2\n",
        "print(list1)#2\n",
        "\n",
        "\n",
        "\n",
        "\n",
        "\n",
        "def find_index():\n",
        "  count=0\n",
        "  i=0\n",
        "  for list1[i] in list1:\n",
        "      i +=1\n",
        "      count += 1\n",
        "      if list1[i]==87:\n",
        "        break\n",
        "  return count\n",
        "\n",
        "\n",
        "print(find_index())#3\n",
        "#3번 정답\n",
        "print(list1.index(87))#3\n",
        "\n",
        "\n",
        "print(list1[3:11])#4\n",
        "list2=list1[3:11]#4\n",
        "print(list2)#4\n",
        "list2.sort(reverse=True)#4\n",
        "print(list2)#4\n",
        "\n",
        "\n",
        "\n",
        "del list1[8]#5\n",
        "list1.insert(8,11)#5\n",
        "print(list1)#5\n",
        "\n",
        "\n",
        "\n",
        "print(list1[2::-1])#6\n",
        "\n",
        "\n",
        "\n",
        "\n",
        "def find_2x():#7\n",
        "  output=list()\n",
        "  i=0\n",
        "  for list1[i] in list1:\n",
        "    if i%2 == 0:\n",
        "      output.append(list1[i])\n",
        "    i+= 1\n",
        "  return output\n",
        "print(find_2x())\n",
        "#7번 정답\n",
        "print(list1[0::2])##****\n",
        "\n",
        "\n",
        "\n",
        "\n",
        "del list1[-1]#8\n",
        "print(list1)\n",
        "\n",
        "\n",
        "\n",
        "\n",
        "print(list1[3]+list1[5])#9\n",
        "print(list1[3]-list1[5])\n",
        "print(list1[3]*list1[5])\n",
        "print(list1[3]/list1[5])\n",
        "print(list1[3]//list1[5])\n",
        "print(list1[3]%list1[5])"
      ],
      "metadata": {
        "colab": {
          "base_uri": "https://localhost:8080/"
        },
        "id": "BK9um3YIvlPa",
        "outputId": "62d220f0-256f-4d37-c4b9-c972fcd2fb99"
      },
      "execution_count": null,
      "outputs": [
        {
          "output_type": "stream",
          "name": "stdout",
          "text": [
            "33\n",
            "[58, 45, 69, 19, 4, 87, 29, 13, 39, 15, 54, [8, 33, 11], 27, 49, 63, 98, 22, 82, 82]\n",
            "5\n",
            "5\n",
            "[19, 4, 87, 29, 13, 39, 15, 54]\n",
            "[19, 4, 87, 29, 13, 39, 15, 54]\n",
            "[87, 54, 39, 29, 19, 15, 13, 4]\n",
            "[58, 45, 69, 19, 4, 87, 29, 13, 11, 15, 54, [8, 33, 11], 27, 49, 63, 98, 22, 82, 82]\n",
            "[69, 45, 58]\n",
            "[58, 69, 4, 29, 11, 54, 27, 63, 22, 82]\n",
            "[58, 69, 4, 29, 11, 54, 27, 63, 22, 82]\n",
            "[58, 45, 69, 19, 4, 87, 29, 13, 11, 15, 54, [8, 33, 11], 27, 49, 63, 98, 22, 82]\n",
            "106\n",
            "-68\n",
            "1653\n",
            "0.21839080459770116\n",
            "0\n",
            "19\n"
          ]
        }
      ]
    },
    {
      "cell_type": "code",
      "source": [
        "list1 = [58, 45, 69, 19, 4, 87, 29, 13, 39, 15, 54, [8, 33, 11], 27, 49, 63, 98, 22, 82]\n",
        "\n",
        "print(list1)\n",
        "\n",
        "print(list1[::-1])\n",
        "\n",
        "print(list1[::-2])\n",
        "\n",
        "print(list1[7:11:2])\n",
        "\n",
        "#lista[a:b:c]\n",
        "#a는 시작점 b는 끝점 c는 증가폭"
      ],
      "metadata": {
        "colab": {
          "base_uri": "https://localhost:8080/"
        },
        "id": "kzSIiKZTv02m",
        "outputId": "2620ee91-0616-4df2-c546-30dee8ac51cb"
      },
      "execution_count": null,
      "outputs": [
        {
          "output_type": "stream",
          "name": "stdout",
          "text": [
            "[58, 45, 69, 19, 4, 87, 29, 13, 39, 15, 54, [8, 33, 11], 27, 49, 63, 98, 22, 82]\n",
            "[82, 22, 98, 63, 49, 27, [8, 33, 11], 54, 15, 39, 13, 29, 87, 4, 19, 69, 45, 58]\n",
            "[82, 98, 49, [8, 33, 11], 15, 13, 87, 19, 45]\n",
            "[13, 15]\n"
          ]
        }
      ]
    },
    {
      "cell_type": "markdown",
      "source": [
        "#### sort 와 sorted 차이점\n",
        "\n",
        "1. 메서드 vs 함수:\n",
        "- sort(): 리스트 객체의 내장 메서드입니다. 즉, 리스트에서만 사용할 수 있습니다.\n",
        "- sorted(): 내장 함수로, 어떤 반복 가능한(iterable) 객체에도 사용될 수 있습니다. 예를 들면 리스트, 튜플, 딕셔너리, 문자열 등에 사용할 수 있습니다.\n",
        "\n",
        "2. 반환 값:(이거 햇갈림)\n",
        "- sort(): 리스트를 원 위치에서(in-place) 정렬하고 None을 반환합니다. 따라서 원래의 리스트 자체가 변경됩니다.\n",
        "- sorted(): 정렬된 새로운 리스트를 반환합니다. 원래의 객체는 변경되지 않습니다.\n",
        "\n",
        "3. 유용성:\n",
        "- sort(): 리스트에서만 작동하기 때문에 리스트만 정렬할 수 있습니다.\n",
        "- sorted(): 다양한 객체를 정렬할 수 있으며 결과는 항상 리스트로 반환됩니다."
      ],
      "metadata": {
        "id": "BHVtgwnf9uyR"
      }
    },
    {
      "cell_type": "code",
      "source": [
        "list2=[1,2,3,4,5,6,7,8,9,12,1,3,3,1,4]\n",
        "list2.sort()\n",
        "print(list2)"
      ],
      "metadata": {
        "colab": {
          "base_uri": "https://localhost:8080/"
        },
        "id": "m2nSAGKk9xBS",
        "outputId": "d4bfa92e-afce-4216-c4c7-56da585a68fd"
      },
      "execution_count": null,
      "outputs": [
        {
          "output_type": "stream",
          "name": "stdout",
          "text": [
            "[1, 1, 1, 2, 3, 3, 3, 4, 4, 5, 6, 7, 8, 9, 12]\n"
          ]
        }
      ]
    },
    {
      "cell_type": "code",
      "source": [
        "# sort()\n",
        "\n",
        "my_list = [1,3,2]\n",
        "my_list.sort()\n",
        "print(my_list)\n",
        "print('\\n\\n\\n\\n\\n')\n",
        "\n",
        "\n",
        "\n",
        "# sorted()\n",
        "my_tuple = (3,1,2)\n",
        "new_list = sorted(my_tuple)\n",
        "print(my_tuple)\n",
        "print(new_list)"
      ],
      "metadata": {
        "colab": {
          "base_uri": "https://localhost:8080/"
        },
        "id": "8jc__6mZ99JD",
        "outputId": "1c5a6ef1-4fd8-4e64-9d50-aeadb35d0e33"
      },
      "execution_count": null,
      "outputs": [
        {
          "output_type": "stream",
          "name": "stdout",
          "text": [
            "[1, 2, 3]\n",
            "\n",
            "\n",
            "\n",
            "\n",
            "\n",
            "\n",
            "(3, 1, 2)\n",
            "[1, 2, 3]\n"
          ]
        }
      ]
    },
    {
      "cell_type": "code",
      "source": [
        "list1 = [1,2,6,43,2,4,1]\n",
        "new_list=list1.sort()#sort는 list내에서 실행이라 반환값이 없음\n",
        "print(list1)\n",
        "print(new_list)\n",
        "new_list=list1\n",
        "print(new_list)"
      ],
      "metadata": {
        "colab": {
          "base_uri": "https://localhost:8080/"
        },
        "id": "Vq55prMZESaV",
        "outputId": "af6162c9-fe92-4f96-b416-c209e32b7a7b"
      },
      "execution_count": null,
      "outputs": [
        {
          "output_type": "stream",
          "name": "stdout",
          "text": [
            "[1, 1, 2, 2, 4, 6, 43]\n",
            "None\n",
            "[1, 1, 2, 2, 4, 6, 43]\n"
          ]
        }
      ]
    },
    {
      "cell_type": "code",
      "source": [
        "list1 = [1,2,6,43,2,4,1]\n",
        "new_list = sorted(list1,reverse=True)\n",
        "print(list1)\n",
        "print(new_list)"
      ],
      "metadata": {
        "colab": {
          "base_uri": "https://localhost:8080/"
        },
        "id": "iRaJOGL6EcQJ",
        "outputId": "f7a2e870-e7a9-44c5-99aa-e7880802990a"
      },
      "execution_count": null,
      "outputs": [
        {
          "output_type": "stream",
          "name": "stdout",
          "text": [
            "[1, 2, 6, 43, 2, 4, 1]\n",
            "[43, 6, 4, 2, 2, 1, 1]\n"
          ]
        }
      ]
    },
    {
      "cell_type": "code",
      "source": [
        "list1 = [58, 45, 69, 19, 4, 87, 29, 13, 39, 15, 54, [8, 33, 11], 27, 49, 63, 98, 22, 82]\n",
        "list2 = list1[3:11]\n",
        "l_sort = sorted(list2,reverse=True)\n",
        "print(l_sort)"
      ],
      "metadata": {
        "colab": {
          "base_uri": "https://localhost:8080/"
        },
        "id": "5Bx0YTVpFGM-",
        "outputId": "10ba164a-d521-46fb-e9f8-c70fba6a5d82"
      },
      "execution_count": null,
      "outputs": [
        {
          "output_type": "stream",
          "name": "stdout",
          "text": [
            "[87, 54, 39, 29, 19, 15, 13, 4]\n"
          ]
        }
      ]
    },
    {
      "cell_type": "code",
      "source": [
        "list2 = list1[11]\n",
        "print(list2)"
      ],
      "metadata": {
        "colab": {
          "base_uri": "https://localhost:8080/"
        },
        "id": "FC2Yi8OEGLKI",
        "outputId": "9c9025a0-9630-461d-ef59-bde8db1697dd"
      },
      "execution_count": null,
      "outputs": [
        {
          "output_type": "stream",
          "name": "stdout",
          "text": [
            "[8, 33, 11]\n"
          ]
        }
      ]
    },
    {
      "cell_type": "code",
      "source": [
        "list2.sort()\n",
        "print(list2)"
      ],
      "metadata": {
        "colab": {
          "base_uri": "https://localhost:8080/"
        },
        "id": "Ntf5LKyrGaF4",
        "outputId": "9a540d2a-eac0-4f89-9289-2d04eade3484"
      },
      "execution_count": null,
      "outputs": [
        {
          "output_type": "stream",
          "name": "stdout",
          "text": [
            "[8, 11, 33]\n"
          ]
        }
      ]
    },
    {
      "cell_type": "markdown",
      "source": [
        "Task1_0425. 주어진 숫자 리스트에서 최소값과 최대값을 찾아 출력하세요.\n",
        "\n",
        "numbers = [58, 45, 69, 19, 4, 87, 29, 13, 39, 15]"
      ],
      "metadata": {
        "id": "JV8dHHcaHYYF"
      }
    },
    {
      "cell_type": "code",
      "source": [
        "numbers = [58, 45, 69, 19, 4, 87, 29, 13, 39, 15]\n",
        "numbers.sort()\n",
        "print(f'최솟값 : {numbers[0]} 최댓값 : {numbers[-1]}')\n",
        "\n",
        "#정답 => min, max 내장함수 사용\n",
        "\n",
        "min_value = min(numbers)\n",
        "max_value = max(numbers)\n",
        "print(min_value, max_value)"
      ],
      "metadata": {
        "colab": {
          "base_uri": "https://localhost:8080/"
        },
        "id": "jQl_25EBHcsT",
        "outputId": "c088b72f-e6af-473c-ea60-ab2f60241b2d"
      },
      "execution_count": null,
      "outputs": [
        {
          "output_type": "stream",
          "name": "stdout",
          "text": [
            "최솟값 : 4 최댓값 : 87\n",
            "4 87\n"
          ]
        }
      ]
    },
    {
      "cell_type": "code",
      "source": [
        "numbers = [58, 45, 69, 19, 4, 87, 29, 13, 39, 15, ]\n",
        "\n",
        "\n",
        "max_num=numbers[0]\n",
        "min_num=numbers[0]\n",
        "\n",
        "for num in numbers :\n",
        "  if min_num > num:\n",
        "    min_num = num\n",
        "  if max_num < num:\n",
        "    max_num = num\n",
        "\n",
        "  print(max_num, min_num)\n",
        "\n"
      ],
      "metadata": {
        "colab": {
          "base_uri": "https://localhost:8080/"
        },
        "id": "smpiD0hYwilc",
        "outputId": "ef9f1a0b-c8cf-4475-f527-ad452bd6e6bf"
      },
      "execution_count": null,
      "outputs": [
        {
          "output_type": "stream",
          "name": "stdout",
          "text": [
            "58 58\n",
            "58 45\n",
            "69 45\n",
            "69 19\n",
            "69 4\n",
            "87 4\n",
            "87 4\n",
            "87 4\n",
            "87 4\n",
            "87 4\n"
          ]
        }
      ]
    },
    {
      "cell_type": "code",
      "source": [
        "for i in [38, 21, 53, 62, 19]:\n",
        "    print(i)"
      ],
      "metadata": {
        "colab": {
          "base_uri": "https://localhost:8080/"
        },
        "id": "NGSC6rO5yFNU",
        "outputId": "c61eb9b9-a5f9-4d93-a0e7-57d20f9d9473"
      },
      "execution_count": null,
      "outputs": [
        {
          "output_type": "stream",
          "name": "stdout",
          "text": [
            "38\n",
            "21\n",
            "53\n",
            "62\n",
            "19\n"
          ]
        }
      ]
    },
    {
      "cell_type": "markdown",
      "source": [
        "Task2_0425. 주어진 숫자 리스트의 모든 요소의 합계와 평균을 계산하고 출력하세요\n",
        "\n",
        "numbers = [58, 45, 69, 19, 4, 87, 29, 13, 39, 15]"
      ],
      "metadata": {
        "id": "0ipZC2tuHdJc"
      }
    },
    {
      "cell_type": "code",
      "source": [
        "numbers = [58, 45, 69, 19, 4, 87, 29, 13, 39, 15]\n",
        "i=0\n",
        "output = 0\n",
        "for numbers[i] in numbers:\n",
        "  output += numbers[i]\n",
        "  i += 1\n",
        "\n",
        "print(f'모든 요소의 합 : {output}\\n')\n",
        "print(f'요소의 평균 : {output/len(numbers)}')\n",
        "\n",
        "\n",
        "#정답\n",
        "total= sum(numbers)\n",
        "\n",
        "print(total)\n",
        "print(total/len(numbers))\n",
        "## 평균 관련한 내장 함수는 없음"
      ],
      "metadata": {
        "colab": {
          "base_uri": "https://localhost:8080/"
        },
        "id": "FJgM-Q00IbDG",
        "outputId": "d5fb3911-1e34-417e-a93f-8ebdd08d1aa7"
      },
      "execution_count": null,
      "outputs": [
        {
          "output_type": "stream",
          "name": "stdout",
          "text": [
            "모든 요소의 합 : 378\n",
            "\n",
            "요소의 평균 : 37.8\n",
            "378\n",
            "37.8\n"
          ]
        }
      ]
    },
    {
      "cell_type": "code",
      "source": [
        "import numpy as aa\n",
        "numbers = [58, 45, 69, 19, 4, 87, 29, 13, 39, 15]\n",
        "print(sum(numbers), aa.mean(numbers))"
      ],
      "metadata": {
        "colab": {
          "base_uri": "https://localhost:8080/"
        },
        "id": "HWVei9JC1IVT",
        "outputId": "b5c1edc9-eb27-4740-ff7f-20177b8c41af"
      },
      "execution_count": null,
      "outputs": [
        {
          "output_type": "stream",
          "name": "stdout",
          "text": [
            "378 37.8\n"
          ]
        }
      ]
    },
    {
      "cell_type": "code",
      "source": [
        "import statistics as st\n",
        "numbers = [58, 45, 69, 19, 4, 87, 29, 13, 39, 15]\n",
        "avg=st.mean(numbers)\n",
        "print(avg)"
      ],
      "metadata": {
        "colab": {
          "base_uri": "https://localhost:8080/"
        },
        "id": "i-q_nTmd1mAu",
        "outputId": "991da9ac-ca6d-435c-fde7-6964e6f37cc1"
      },
      "execution_count": null,
      "outputs": [
        {
          "output_type": "stream",
          "name": "stdout",
          "text": [
            "37.8\n"
          ]
        }
      ]
    },
    {
      "cell_type": "markdown",
      "source": [
        "Task3_0425. 주어진 리스트에서 특정 요소가 등장하는 모든 인덱스를 리스트로 만들어 출력하세요.\n",
        "\n",
        "items = ['apple', 'banana', 'cherry', 'apple', 'cherry', 'apple']\n",
        "\n",
        "target = 'apple'"
      ],
      "metadata": {
        "id": "VDsHfvIDHfYY"
      }
    },
    {
      "cell_type": "code",
      "source": [
        "items = ['apple', 'banana', 'cherry', 'apple', 'cherry', 'apple']\n",
        "target = 'apple'\n",
        "i=0\n",
        "output = []\n",
        "\n",
        "\n",
        "for items[i] in items:\n",
        "  if items[i]==target:\n",
        "    output.append(i)\n",
        "  i += 1\n",
        "\n",
        "print(output)"
      ],
      "metadata": {
        "colab": {
          "base_uri": "https://localhost:8080/"
        },
        "id": "WsbzztrvJqzU",
        "outputId": "8f08302c-2b20-440e-f915-1ca36b590881"
      },
      "execution_count": null,
      "outputs": [
        {
          "output_type": "stream",
          "name": "stdout",
          "text": [
            "[0, 3, 5]\n"
          ]
        }
      ]
    },
    {
      "cell_type": "code",
      "source": [
        "indexes = [index for index, value in enumerate(items) if value == target]\n",
        "\n",
        "print(indexes)"
      ],
      "metadata": {
        "colab": {
          "base_uri": "https://localhost:8080/"
        },
        "id": "3vCI_32k3cLO",
        "outputId": "95e1f8d9-e311-4057-b961-c5358487d28a"
      },
      "execution_count": null,
      "outputs": [
        {
          "output_type": "stream",
          "name": "stdout",
          "text": [
            "[0, 3, 5]\n"
          ]
        }
      ]
    },
    {
      "cell_type": "markdown",
      "source": [
        "Task4_0425. 주어진 리스트에서 연속해서 반복되는 요소만 제거하고, 결과 리스트를 반환하세요. 단, 처음 등장하는 요소는 유지해야 합니다.\n",
        "\n",
        "예를 들어, ['a', 'a', 'b', 'c', 'c', 'c', 'd', 'e', 'e']가 입력되면, ['a', 'b', 'c', 'd', 'e']를 출력해야 합니다."
      ],
      "metadata": {
        "id": "Uj73IfdtHhx2"
      }
    },
    {
      "cell_type": "code",
      "source": [
        "list_task = ['a', 'a', 'b', 'c', 'c', 'c', 'd', 'e', 'e']\n",
        "i = 0\n",
        "\n",
        "while i < len(list_task)-1:\n",
        "  if list_task[i]==list_task[i+1]:\n",
        "    list_task.remove(list_task[i+1])\n",
        "  else:\n",
        "    i+=1\n",
        "\n",
        "\n",
        "\n",
        "\n",
        "print(list_task)"
      ],
      "metadata": {
        "colab": {
          "base_uri": "https://localhost:8080/"
        },
        "id": "oLA0gDURLP0Q",
        "outputId": "40e42a5d-46c1-414a-b14f-c5f0a8d9643a"
      },
      "execution_count": null,
      "outputs": [
        {
          "output_type": "stream",
          "name": "stdout",
          "text": [
            "['a', 'a', 'b', 'c', 'c', 'd', 'e']\n"
          ]
        }
      ]
    },
    {
      "cell_type": "code",
      "source": [
        "## 정답 예시\n",
        "\n",
        "list_task = ['a', 'a', 'b', 'c', 'c', 'c', 'd', 'e', 'e']\n",
        "result = [list_task[0]]\n",
        "for i in list_task[1:]:\n",
        "  if i != result[-1]:\n",
        "    result.append(i)\n",
        "print(result)"
      ],
      "metadata": {
        "colab": {
          "base_uri": "https://localhost:8080/"
        },
        "id": "2uNFA7Ew8H1a",
        "outputId": "dee67d8e-e862-4a1d-88ad-655af4cc3238"
      },
      "execution_count": null,
      "outputs": [
        {
          "output_type": "stream",
          "name": "stdout",
          "text": [
            "['a', 'b', 'c', 'd', 'e']\n"
          ]
        }
      ]
    },
    {
      "cell_type": "code",
      "source": [
        "def remove_consecutive_duplicates(items):\n",
        "  #아이템이 없으면 실행하지 말것\n",
        "  if not items:\n",
        "    return []\n",
        "  i=0\n",
        "\n",
        "  while i < len(items)-1:\n",
        "    if items[i]==items[i+1]:\n",
        "     items.remove(items[i+1])\n",
        "    else:\n",
        "      i+=1\n",
        "\n",
        "\n",
        "  return items\n",
        "\n",
        "\n",
        "sorce=['a', 'a', 'b', 'c', 'c', 'c', 'd', 'e', 'e']\n",
        "da=0\n",
        "print(remove_consecutive_duplicates(sorce))\n",
        "print(remove_consecutive_duplicates(da))"
      ],
      "metadata": {
        "colab": {
          "base_uri": "https://localhost:8080/"
        },
        "id": "BZRRrNcc9skR",
        "outputId": "c4289468-31ad-4013-fd68-4de7c4854638"
      },
      "execution_count": null,
      "outputs": [
        {
          "output_type": "stream",
          "name": "stdout",
          "text": [
            "['a', 'b', 'c', 'd', 'e']\n",
            "[]\n"
          ]
        }
      ]
    },
    {
      "cell_type": "markdown",
      "source": [
        "Task5_0425 주어진 정수 리스트와 회전 횟수 k에 대해 리스트를 오른쪽으로 k만큼 회전시킨 결과를 반환하세요. k가 리스트의 길이보다 클 수 있으며, 이 경우 k를 리스트 길이로 나눈 나머지만큼 실제 회전시키면 됩니다.\n",
        "\n",
        "예를 들어, [1, 2, 3, 4, 5]와 k=2가 주어지면, 결과는 [4, 5, 1, 2, 3]이 되어야 합니다."
      ],
      "metadata": {
        "id": "0051yEumHjMq"
      }
    },
    {
      "cell_type": "code",
      "source": [
        "list_task = [1,2,3,4,5]\n",
        "k = int(input('k 값을 입력하세요 :'))\n",
        "i = 1\n",
        "\n",
        "if k>len(list_task):\n",
        "    k=k%len(list_task)\n",
        "\n",
        "while i <= k:\n",
        "  list_task.insert(0,list_task.pop())\n",
        "  i+=1\n",
        "\n",
        "print(list_task)"
      ],
      "metadata": {
        "colab": {
          "base_uri": "https://localhost:8080/"
        },
        "id": "G9lUWC9NK46I",
        "outputId": "0f4379b6-a999-46f0-c1a3-fcd65f2dfed9"
      },
      "execution_count": null,
      "outputs": [
        {
          "output_type": "stream",
          "name": "stdout",
          "text": [
            "k 값을 입력하세요 :2\n",
            "[4, 5, 1, 2, 3]\n"
          ]
        }
      ]
    },
    {
      "cell_type": "code",
      "source": [
        "## 정답 예시\n",
        "def rotate_list(nums, k):\n",
        "  if not nums:\n",
        "    return nums\n",
        "  #회전 횟수를 리스트 길이로 나눈 나머지로 계산\n",
        "  k = k % len(nums)\n",
        "  #리스트의 끝부분을 앞으로, 앞부분을 끝으로 옮김\n",
        "  rotated = nums[-k:] + nums[:-k]\n",
        "\n",
        "  return rotated\n",
        "\n",
        "nums = [1,2,3,4,5]\n",
        "k=3\n",
        "\n",
        "print(rotate_list(nums, k))"
      ],
      "metadata": {
        "colab": {
          "base_uri": "https://localhost:8080/"
        },
        "id": "LyQSnglECGDT",
        "outputId": "e411e21c-2e8f-4e3e-aa39-a955b7df038b"
      },
      "execution_count": null,
      "outputs": [
        {
          "output_type": "stream",
          "name": "stdout",
          "text": [
            "[3, 4, 5, 1, 2]\n"
          ]
        }
      ]
    },
    {
      "cell_type": "code",
      "source": [
        "def rotate_list(nums, k):\n",
        "  if not nums:\n",
        "    return nums\n",
        "  #회전 횟수를 리스트 길이로 나눈 나머지로 계산\n",
        "  k = k % len(nums)\n",
        "  #역순\n",
        "  rotated = nums[k:] + nums[:k]\n",
        "\n",
        "  return rotated\n",
        "\n",
        "nums = [1,2,3,4,5]\n",
        "k=3\n",
        "\n",
        "print(rotate_list(nums, k))"
      ],
      "metadata": {
        "colab": {
          "base_uri": "https://localhost:8080/"
        },
        "id": "GeGjNVw1DhDU",
        "outputId": "68b26341-8235-4742-af28-3773197fcad0"
      },
      "execution_count": null,
      "outputs": [
        {
          "output_type": "stream",
          "name": "stdout",
          "text": [
            "[4, 5, 1, 2, 3]\n"
          ]
        }
      ]
    },
    {
      "cell_type": "markdown",
      "source": [
        "## 자료형 - Tuple\n",
        "\n",
        " - 튜플은 변경할 수 없는(immutable) 순서가 있는 컬렉션\n",
        " - 프로그램에서 그 값이 항상 변하지 않아야되는 경우 사용"
      ],
      "metadata": {
        "id": "W75GA2vYJiuY"
      }
    },
    {
      "cell_type": "code",
      "source": [
        "tuple1 = (1,2,3,4,5)\n",
        "tuple2 = ('a', 'b', 'c')\n",
        "tuple3 = (1,'a','abc', [1,2,3,4,5], ['a','b','c'])\n",
        "\n",
        "print(tuple1[:])\n",
        "print(tuple1[2])\n",
        "print(tuple3[3][3])"
      ],
      "metadata": {
        "id": "eWtXsJR9WK8Q",
        "outputId": "0a1ad421-ddc1-4356-dc40-a1c84d65b8ed",
        "colab": {
          "base_uri": "https://localhost:8080/"
        }
      },
      "execution_count": null,
      "outputs": [
        {
          "output_type": "stream",
          "name": "stdout",
          "text": [
            "(1, 2, 3, 4, 5)\n",
            "3\n",
            "[1, 2, 3, 4, 5]\n"
          ]
        }
      ]
    },
    {
      "cell_type": "code",
      "source": [
        "list  = [ 1,2,3,4,5]\n",
        "list[0]=50\n",
        "list"
      ],
      "metadata": {
        "id": "G2Aym9e_Klz3",
        "colab": {
          "base_uri": "https://localhost:8080/"
        },
        "outputId": "7168e2bc-502e-403f-e399-6e696266c387"
      },
      "execution_count": null,
      "outputs": [
        {
          "output_type": "execute_result",
          "data": {
            "text/plain": [
              "[50, 2, 3, 4, 5]"
            ]
          },
          "metadata": {},
          "execution_count": 1
        }
      ]
    },
    {
      "cell_type": "code",
      "source": [
        "#튜플의 요소 값은 변경할 수 없음\n",
        "tuple = (1,2,3,4,5)\n",
        "tuple[0]=50\n",
        "tuple\n"
      ],
      "metadata": {
        "id": "XhVbK7pJLDBk"
      },
      "execution_count": null,
      "outputs": []
    },
    {
      "cell_type": "code",
      "source": [
        "l1 = [1]\n",
        "print(l1)\n",
        "type(l1)"
      ],
      "metadata": {
        "colab": {
          "base_uri": "https://localhost:8080/"
        },
        "id": "iU8hYHxXLwH_",
        "outputId": "d04b65ec-cbc7-41ba-bcc4-59b36bf552d5"
      },
      "execution_count": null,
      "outputs": [
        {
          "output_type": "stream",
          "name": "stdout",
          "text": [
            "[1]\n"
          ]
        },
        {
          "output_type": "execute_result",
          "data": {
            "text/plain": [
              "list"
            ]
          },
          "metadata": {},
          "execution_count": 5
        }
      ]
    },
    {
      "cell_type": "code",
      "source": [
        "t1 = (1,) #1개의 요소만 가질 때는 요소뒤에 콤마를 붙여야 함\n",
        "print(t1)\n",
        "type(t1)"
      ],
      "metadata": {
        "colab": {
          "base_uri": "https://localhost:8080/"
        },
        "id": "whng42hhMGEL",
        "outputId": "2a39abba-9812-4c3f-a9cf-29b23598034c"
      },
      "execution_count": null,
      "outputs": [
        {
          "output_type": "stream",
          "name": "stdout",
          "text": [
            "(1,)\n"
          ]
        },
        {
          "output_type": "execute_result",
          "data": {
            "text/plain": [
              "tuple"
            ]
          },
          "metadata": {},
          "execution_count": 12
        }
      ]
    },
    {
      "cell_type": "code",
      "source": [
        "t1=(1)\n",
        "print(t1)\n",
        "type(t1)"
      ],
      "metadata": {
        "colab": {
          "base_uri": "https://localhost:8080/"
        },
        "id": "YQ7qCDzEMN_u",
        "outputId": "0f512494-af5d-48e0-90c1-eaad83c10a3c"
      },
      "execution_count": null,
      "outputs": [
        {
          "output_type": "stream",
          "name": "stdout",
          "text": [
            "1\n"
          ]
        },
        {
          "output_type": "execute_result",
          "data": {
            "text/plain": [
              "int"
            ]
          },
          "metadata": {},
          "execution_count": 7
        }
      ]
    },
    {
      "cell_type": "code",
      "source": [
        "t2 = 1, 2, 3  #()<= 소괄호 생략해도 튜플로 표현가능\n",
        "print(t2)\n",
        "type(t2)"
      ],
      "metadata": {
        "colab": {
          "base_uri": "https://localhost:8080/"
        },
        "id": "DTtVLYwtMRAR",
        "outputId": "70dec5a1-6669-453d-9bee-f6f2e17e6e67"
      },
      "execution_count": null,
      "outputs": [
        {
          "output_type": "stream",
          "name": "stdout",
          "text": [
            "(1, 2, 3)\n"
          ]
        },
        {
          "output_type": "execute_result",
          "data": {
            "text/plain": [
              "tuple"
            ]
          },
          "metadata": {},
          "execution_count": 9
        }
      ]
    },
    {
      "cell_type": "code",
      "source": [
        "print(t2 * 3)"
      ],
      "metadata": {
        "colab": {
          "base_uri": "https://localhost:8080/"
        },
        "id": "G6rKfrK_Mnjz",
        "outputId": "1a43c64c-3486-4efa-b017-ae0891666f56"
      },
      "execution_count": null,
      "outputs": [
        {
          "output_type": "stream",
          "name": "stdout",
          "text": [
            "(1, 2, 3, 1, 2, 3, 1, 2, 3)\n"
          ]
        }
      ]
    },
    {
      "cell_type": "code",
      "source": [
        "t1 + t2"
      ],
      "metadata": {
        "colab": {
          "base_uri": "https://localhost:8080/"
        },
        "id": "EbfCEgR1N0Xx",
        "outputId": "cc633834-a1f9-43db-e061-cb3ec5fed848"
      },
      "execution_count": null,
      "outputs": [
        {
          "output_type": "execute_result",
          "data": {
            "text/plain": [
              "(1, 1, 2, 3)"
            ]
          },
          "metadata": {},
          "execution_count": 13
        }
      ]
    },
    {
      "cell_type": "code",
      "source": [
        "## Q. 'red','green','blue'값을 갖는 튜플에서 각 값을 각각r,g,b, 변수에 할당하고 출력하세요.\n",
        "\n",
        "colors = ('red', 'green', 'blue' )\n",
        "r,g,b = colors\n",
        "print(r)\n",
        "print(g)\n",
        "print(b)"
      ],
      "metadata": {
        "colab": {
          "base_uri": "https://localhost:8080/"
        },
        "id": "lemXFiPQN2l8",
        "outputId": "51364437-c496-4f98-97f3-4fc8dd426893"
      },
      "execution_count": null,
      "outputs": [
        {
          "output_type": "stream",
          "name": "stdout",
          "text": [
            "red\n",
            "green\n",
            "blue\n"
          ]
        }
      ]
    },
    {
      "cell_type": "markdown",
      "source": [
        "함수에서 여러 값을 반환할 때 튜플을 사용하는 것이 일반적입니다.\n",
        "Q. 주어진 리스트의 총합과 평균을 동시에 반환하는 함수를 작성하세요ㅣ\n",
        "numbers = [10,20,30,40,50]"
      ],
      "metadata": {
        "id": "eTx4RsYVPFno"
      }
    },
    {
      "cell_type": "code",
      "source": [
        "def aclculate_sum_and_average(numbers):\n",
        "  sum1=sum(numbers)\n",
        "  avg1=sum(numbers)/len(numbers)\n",
        "\n",
        "\n",
        "\n",
        "  return (sum1, avg1)\n",
        "\n",
        "numbers = [10,20,30,40,50]\n",
        "tot, avg = aclculate_sum_and_average(numbers)\n",
        "print(f'총합 : {tot}  평균 : {avg}')"
      ],
      "metadata": {
        "colab": {
          "base_uri": "https://localhost:8080/"
        },
        "id": "T3hki6UrOuWB",
        "outputId": "5eae6be4-a384-4fa8-bae6-842d48e57e28"
      },
      "execution_count": null,
      "outputs": [
        {
          "output_type": "stream",
          "name": "stdout",
          "text": [
            "총합 : 150  평균 : 30.0\n"
          ]
        }
      ]
    },
    {
      "cell_type": "markdown",
      "source": [
        "### 자료형 - 사전\n",
        " - 키와 값을 하나의 요소로 하는 순서가 없는 집합"
      ],
      "metadata": {
        "id": "gGUYaNFlRPuv"
      }
    },
    {
      "cell_type": "code",
      "source": [
        "d1 = {'a':1, 'b':2, 'c':3}\n",
        "print(d1['a'])"
      ],
      "metadata": {
        "colab": {
          "base_uri": "https://localhost:8080/"
        },
        "id": "8635jkrARoP4",
        "outputId": "4024aa11-bdfb-47c1-9628-ccefd7ce7345"
      },
      "execution_count": null,
      "outputs": [
        {
          "output_type": "stream",
          "name": "stdout",
          "text": [
            "1\n"
          ]
        }
      ]
    },
    {
      "cell_type": "code",
      "source": [
        "d1.values()"
      ],
      "metadata": {
        "colab": {
          "base_uri": "https://localhost:8080/"
        },
        "id": "R6ZNidGTR43b",
        "outputId": "f63305cd-40f1-46c3-ad43-9d86427ff0b4"
      },
      "execution_count": null,
      "outputs": [
        {
          "output_type": "execute_result",
          "data": {
            "text/plain": [
              "dict_values([1, 2, 3])"
            ]
          },
          "metadata": {},
          "execution_count": 26
        }
      ]
    },
    {
      "cell_type": "code",
      "source": [
        "d1.items()\n",
        "#튜플 형태의 리스트로 나옴"
      ],
      "metadata": {
        "colab": {
          "base_uri": "https://localhost:8080/"
        },
        "id": "SM-VbudQSAW5",
        "outputId": "2122144b-d1a5-4048-ba1f-b81b282e3122"
      },
      "execution_count": null,
      "outputs": [
        {
          "output_type": "execute_result",
          "data": {
            "text/plain": [
              "dict_items([('a', 1), ('b', 2), ('c', 3)])"
            ]
          },
          "metadata": {},
          "execution_count": 28
        }
      ]
    },
    {
      "cell_type": "code",
      "source": [
        "d1['a']=3\n",
        "d1"
      ],
      "metadata": {
        "colab": {
          "base_uri": "https://localhost:8080/"
        },
        "id": "uU9_4qGbSVGt",
        "outputId": "d1d8a1fe-5ad4-44cf-9f83-9fe732756ef4"
      },
      "execution_count": null,
      "outputs": [
        {
          "output_type": "execute_result",
          "data": {
            "text/plain": [
              "{'a': 3, 'b': 7, 'c': 3, 'd': 4, 'h': 1}"
            ]
          },
          "metadata": {},
          "execution_count": 32
        }
      ]
    },
    {
      "cell_type": "code",
      "source": [
        "d1['b']=7\n",
        "d1"
      ],
      "metadata": {
        "colab": {
          "base_uri": "https://localhost:8080/"
        },
        "id": "EzOHrhcSSwFl",
        "outputId": "6ab70835-d485-48ec-e4d3-d28686daa991"
      },
      "execution_count": null,
      "outputs": [
        {
          "output_type": "execute_result",
          "data": {
            "text/plain": [
              "{'a': 3, 'b': 7, 'c': 3, 'd': 4, 'h': 1}"
            ]
          },
          "metadata": {},
          "execution_count": 33
        }
      ]
    },
    {
      "cell_type": "code",
      "source": [
        "del d1['b']"
      ],
      "metadata": {
        "colab": {
          "base_uri": "https://localhost:8080/",
          "height": 166
        },
        "id": "kUenUxX5Tg02",
        "outputId": "091f6186-27c8-4822-f683-0400e2aeae76"
      },
      "execution_count": null,
      "outputs": [
        {
          "output_type": "error",
          "ename": "KeyError",
          "evalue": "'b'",
          "traceback": [
            "\u001b[0;31m---------------------------------------------------------------------------\u001b[0m",
            "\u001b[0;31mKeyError\u001b[0m                                  Traceback (most recent call last)",
            "\u001b[0;32m<ipython-input-36-0a9a194fb8db>\u001b[0m in \u001b[0;36m<cell line: 1>\u001b[0;34m()\u001b[0m\n\u001b[0;32m----> 1\u001b[0;31m \u001b[0;32mdel\u001b[0m \u001b[0md1\u001b[0m\u001b[0;34m[\u001b[0m\u001b[0;34m'b'\u001b[0m\u001b[0;34m]\u001b[0m\u001b[0;34m\u001b[0m\u001b[0;34m\u001b[0m\u001b[0m\n\u001b[0m\u001b[1;32m      2\u001b[0m \u001b[0md1\u001b[0m\u001b[0;34m\u001b[0m\u001b[0;34m\u001b[0m\u001b[0m\n",
            "\u001b[0;31mKeyError\u001b[0m: 'b'"
          ]
        }
      ]
    },
    {
      "cell_type": "code",
      "source": [
        "d1"
      ],
      "metadata": {
        "colab": {
          "base_uri": "https://localhost:8080/"
        },
        "id": "p1Z5a3mJTlWH",
        "outputId": "374e2f6f-7e2f-4d71-c2de-0a1a48e3b079"
      },
      "execution_count": null,
      "outputs": [
        {
          "output_type": "execute_result",
          "data": {
            "text/plain": [
              "{'a': 3, 'c': 3, 'd': 4, 'h': 1}"
            ]
          },
          "metadata": {},
          "execution_count": 37
        }
      ]
    },
    {
      "cell_type": "markdown",
      "source": [
        "Q.딕셔너리 d에서'b'의 값을 확인하면서 그 값을 삭제하세요"
      ],
      "metadata": {
        "id": "-L2FU-l6WZxW"
      }
    },
    {
      "cell_type": "code",
      "source": [
        "d = {'a':1, 'b':2, 'c':3, 'd':4}\n",
        "\n",
        "\n",
        "def surch_and_del(target, dict):\n",
        "\n",
        "  while True:\n",
        "    ans = input(f\"{target}의 값은 {dict[target]} 입니다 삭제하시겠습니까? y/n : \")\n",
        "    if ans == 'y':\n",
        "      del dict[target]\n",
        "      print(f'삭제 성공 {dict}')\n",
        "      break\n",
        "\n",
        "\n",
        "\n",
        "\n",
        "target = input('지울 알파벳을 입력하세요 :')\n",
        "\n",
        "surch_and_del(target, d)\n"
      ],
      "metadata": {
        "colab": {
          "base_uri": "https://localhost:8080/"
        },
        "id": "0I9YpL2FTvkY",
        "outputId": "c79302c7-2561-442c-9935-7005a14be7a2"
      },
      "execution_count": null,
      "outputs": [
        {
          "output_type": "stream",
          "name": "stdout",
          "text": [
            "지울 알파벳을 입력하세요 :a\n",
            "a의 값은 1 입니다 삭제하시겠습니까? y/n : y\n",
            "삭제 성공 {'b': 2, 'c': 3, 'd': 4}\n"
          ]
        }
      ]
    },
    {
      "cell_type": "code",
      "source": [
        "#문제 예시\n",
        "d = {'a':1, 'b':2, 'c':3, 'd':4}\n",
        "value = d.pop('b')## pop 사용\n",
        "print('삭제 값: ', value)\n",
        "print(d)"
      ],
      "metadata": {
        "colab": {
          "base_uri": "https://localhost:8080/"
        },
        "id": "wh41XLBvff57",
        "outputId": "c983150b-c4d5-4821-e22b-fc7a3492d098"
      },
      "execution_count": null,
      "outputs": [
        {
          "output_type": "stream",
          "name": "stdout",
          "text": [
            "삭제 값:  2\n",
            "{'a': 1, 'c': 3, 'd': 4}\n"
          ]
        }
      ]
    },
    {
      "cell_type": "markdown",
      "source": [
        "Q.다음과 같이 학생의 이름과 점수를튜플로 묶은 리스트가 있습니다: [(\"Tom\",85),(\"Jane\",90),(\"Bob\",75)]\n",
        "이 리스트를 사용해 학생 이름을 키로, 점수를 값으로 하는 딕셔너리를 생성하고 출력하세요."
      ],
      "metadata": {
        "id": "M5raRKk9Wu8h"
      }
    },
    {
      "cell_type": "code",
      "source": [
        "list_student = [(\"Tom\",85),(\"Jane\",90),(\"Bob\",75)]\n",
        "list_student[0][0]\n",
        "def mk_dict(list_student):\n",
        "  dict_student = {}\n",
        "  i=0\n",
        "  for student in list_student:\n",
        "    dict_student[list_student[i][0]]=list_student[i][1]\n",
        "    i+=1\n",
        "  return dict_student\n",
        "\n",
        "\n",
        "print(mk_dict(list_student))"
      ],
      "metadata": {
        "colab": {
          "base_uri": "https://localhost:8080/"
        },
        "id": "LtkmN-59XIM_",
        "outputId": "0bd29eb9-4480-46c6-d1e9-6c5af10dc78b"
      },
      "execution_count": null,
      "outputs": [
        {
          "output_type": "stream",
          "name": "stdout",
          "text": [
            "{'Tom': 85, 'Jane': 90, 'Bob': 75}\n"
          ]
        }
      ]
    },
    {
      "cell_type": "code",
      "source": [
        "#정답 예시\n",
        "list_student = [(\"Tom\",85),(\"Jane\",90),(\"Bob\",75)]\n",
        "student_dict = dict(list_student)\n",
        "print(student_dict)"
      ],
      "metadata": {
        "colab": {
          "base_uri": "https://localhost:8080/"
        },
        "id": "7Yr1BLXRgqUQ",
        "outputId": "37be6b74-04a4-449a-9e4f-75691859d48f"
      },
      "execution_count": null,
      "outputs": [
        {
          "output_type": "stream",
          "name": "stdout",
          "text": [
            "{'Tom': 85, 'Jane': 90, 'Bob': 75}\n"
          ]
        }
      ]
    },
    {
      "cell_type": "markdown",
      "source": [
        "Q.튜플의 불변성 때문에 튜플은 딕셔너리의 키로 사용될 수 있습니다. 주어진 위치 좌표 리스트에서 각 위치가 몇 번 나타나는지 계산하는 딕셔너리를 만드세요."
      ],
      "metadata": {
        "id": "WKnkajE0XI3f"
      }
    },
    {
      "cell_type": "code",
      "source": [
        "positions = [(1,1),(2,2),(1,1),(3,3),(2,2)]\n",
        "\n",
        "\n",
        "def count_positions_and_mk_dict(positions):\n",
        "  dict_positions = {}\n",
        "  count = 0\n",
        "  count_pos = set(positions)#(1,1)(2,2)(3,3)\n",
        "\n",
        "  for ps in count_pos:\n",
        "    i=0\n",
        "    while i < len(positions):\n",
        "      if ps == positions[i]:\n",
        "        count += 1\n",
        "\n",
        "      i+=1\n",
        "    dict_positions[ps]=count\n",
        "  return dict_positions\n",
        "\n",
        "print(count_positions_and_mk_dict(positions))"
      ],
      "metadata": {
        "colab": {
          "base_uri": "https://localhost:8080/"
        },
        "id": "SG4yP21bXQ2B",
        "outputId": "e1026ef6-c469-41ca-ad88-24ee5908bddd"
      },
      "execution_count": null,
      "outputs": [
        {
          "output_type": "stream",
          "name": "stdout",
          "text": [
            "{(1, 1), (3, 3), (2, 2)}\n",
            "{(1, 1): 2, (3, 3): 3, (2, 2): 5}\n"
          ]
        }
      ]
    },
    {
      "cell_type": "code",
      "source": [
        "#정답 예시\n",
        "\n",
        "positions = [(1,1),(2,2),(1,1),(3,3),(2,2)]\n",
        "\n",
        "position_count = {}\n",
        "\n",
        "for pos in positions:\n",
        "  if pos in position_count:\n",
        "    position_count[pos] += 1\n",
        "  else:\n",
        "    position_count[pos] = 1\n",
        "\n",
        "print(position_count)"
      ],
      "metadata": {
        "colab": {
          "base_uri": "https://localhost:8080/"
        },
        "id": "fycQeKIPdkY6",
        "outputId": "0f8c0c95-e646-435d-bf8e-46dc1bcad983"
      },
      "execution_count": null,
      "outputs": [
        {
          "output_type": "stream",
          "name": "stdout",
          "text": [
            "{(1, 1): 2, (2, 2): 2, (3, 3): 1}\n"
          ]
        }
      ]
    },
    {
      "cell_type": "markdown",
      "source": [
        "## 자료형 - 집합,set\n",
        "\n",
        "- 중복을 허용하지 않으며 순서가 없다.=인덱스가 없다."
      ],
      "metadata": {
        "id": "nZH1Ufqry5JL"
      }
    },
    {
      "cell_type": "code",
      "source": [
        "s1 = set([1,5,3,2,4])\n",
        "s2 = set('Hello')\n",
        "print(s1)\n",
        "print(s2)"
      ],
      "metadata": {
        "colab": {
          "base_uri": "https://localhost:8080/"
        },
        "id": "GxQFYJdUebV1",
        "outputId": "03555827-7322-4e8f-da0c-8d905d1a2a69"
      },
      "execution_count": null,
      "outputs": [
        {
          "output_type": "stream",
          "name": "stdout",
          "text": [
            "{1, 2, 3, 4, 5}\n",
            "{'l', 'e', 'o', 'H'}\n"
          ]
        }
      ]
    },
    {
      "cell_type": "code",
      "source": [
        "l1 = list(s1)\n",
        "print(l1)\n",
        "print(l1[1])"
      ],
      "metadata": {
        "colab": {
          "base_uri": "https://localhost:8080/"
        },
        "id": "zvN72NP_0MQu",
        "outputId": "078f4760-46b9-4804-a4cb-42d8cd8f4665"
      },
      "execution_count": null,
      "outputs": [
        {
          "output_type": "stream",
          "name": "stdout",
          "text": [
            "[1, 2, 3, 4, 5]\n",
            "2\n"
          ]
        }
      ]
    },
    {
      "cell_type": "code",
      "source": [
        "o1 = list(s2)\n",
        "save = 0\n",
        "for pos in o1:\n",
        "  if pos == 'l':\n",
        "    save = pos\n",
        "\n",
        "print(save)"
      ],
      "metadata": {
        "colab": {
          "base_uri": "https://localhost:8080/"
        },
        "id": "a2s9nBGt0VS_",
        "outputId": "1e9d089c-0d1a-4f87-d65a-d70691f8e84c"
      },
      "execution_count": null,
      "outputs": [
        {
          "output_type": "stream",
          "name": "stdout",
          "text": [
            "l\n"
          ]
        }
      ]
    },
    {
      "cell_type": "code",
      "source": [
        "l2 = list(s2)\n",
        "print(l2)\n",
        "print(l2[0])"
      ],
      "metadata": {
        "colab": {
          "base_uri": "https://localhost:8080/"
        },
        "id": "XVRFWk-a1CMJ",
        "outputId": "ac75b5f5-c136-4588-8e16-439a72eb49dc"
      },
      "execution_count": null,
      "outputs": [
        {
          "output_type": "stream",
          "name": "stdout",
          "text": [
            "['l', 'e', 'o', 'H']\n",
            "l\n"
          ]
        }
      ]
    },
    {
      "cell_type": "markdown",
      "source": [
        " Q. 주어진 리스트에서 중복 요소를 제거하고 결과를 출력하세요.\n",
        " num=[1,2,2,3,4,4,4,5]"
      ],
      "metadata": {
        "id": "BLJCY34p1ona"
      }
    },
    {
      "cell_type": "code",
      "source": [
        "num=[1,2,2,3,4,4,4,5]\n",
        "print(set(num))"
      ],
      "metadata": {
        "colab": {
          "base_uri": "https://localhost:8080/"
        },
        "id": "pcOSzE701Xvm",
        "outputId": "42d93039-21e1-42b6-96ca-bf5b81cf670b"
      },
      "execution_count": null,
      "outputs": [
        {
          "output_type": "stream",
          "name": "stdout",
          "text": [
            "{1, 2, 3, 4, 5}\n"
          ]
        }
      ]
    },
    {
      "cell_type": "markdown",
      "source": [
        "Q. s1, s2의 합집합과 교집합을 각각 리스트로 출력하세요.\n"
      ],
      "metadata": {
        "id": "RA6b_o5W2iw3"
      }
    },
    {
      "cell_type": "code",
      "source": [
        "s1 = [1,2,3,4,5,6]\n",
        "s2 = [4,5,6,7,8,9]"
      ],
      "metadata": {
        "id": "OMHUN6LI4U_u"
      },
      "execution_count": null,
      "outputs": []
    },
    {
      "cell_type": "code",
      "source": [
        "s1 = set([1,2,3,4,5,6])\n",
        "s2 = set([4,5,6,7,8,9])\n",
        "\n",
        "print(list(s1 | s2))#교집합\n",
        "print(list(s1&s2))#합집합 => list에선 사용 불가능"
      ],
      "metadata": {
        "colab": {
          "base_uri": "https://localhost:8080/"
        },
        "id": "v_zflji_12IZ",
        "outputId": "a66c62db-c779-4669-a3ff-951236ec1393"
      },
      "execution_count": null,
      "outputs": [
        {
          "output_type": "stream",
          "name": "stdout",
          "text": [
            "[1, 2, 3, 4, 5, 6, 7, 8, 9]\n",
            "[4, 5, 6]\n"
          ]
        }
      ]
    },
    {
      "cell_type": "markdown",
      "source": [
        "Q.첫 번째 집합에서 두 번째 집합의 요소를 제외한 차집합을 구하고 출력하세요."
      ],
      "metadata": {
        "id": "EjZf80bg5FGe"
      }
    },
    {
      "cell_type": "code",
      "source": [
        "set1 = {1,2,3,4,5}\n",
        "set2 = {4,5,6,7}\n",
        "\n",
        "print(set1-set2)\n",
        "set1.difference(set2)\n"
      ],
      "metadata": {
        "colab": {
          "base_uri": "https://localhost:8080/"
        },
        "id": "2o4JKW7W2tcs",
        "outputId": "0424b824-7d5e-4f92-cffd-17b70bf7fb8b"
      },
      "execution_count": null,
      "outputs": [
        {
          "output_type": "stream",
          "name": "stdout",
          "text": [
            "{1, 2, 3}\n"
          ]
        },
        {
          "output_type": "execute_result",
          "data": {
            "text/plain": [
              "{1, 2, 3}"
            ]
          },
          "metadata": {},
          "execution_count": 26
        }
      ]
    },
    {
      "cell_type": "markdown",
      "source": [
        "Task1_0426. 주어진 리스트에서 중복된 요소를 제외하고 고유한 요소의 개수를 세는 프로그램을 작성하세요.\n",
        "\n",
        "data = [1, 2, 2, 3, 4, 4, 4, 5]"
      ],
      "metadata": {
        "id": "clw5LDpl5pO-"
      }
    },
    {
      "cell_type": "code",
      "source": [
        "data = [1, 2, 2, 3, 4, 4, 4, 5]\n",
        "\n",
        "set_data = set(data)\n",
        "print(len(set_data))"
      ],
      "metadata": {
        "colab": {
          "base_uri": "https://localhost:8080/"
        },
        "id": "WmUB5Izc5e6D",
        "outputId": "643d9f6a-9286-43ff-dcca-084a86021eca"
      },
      "execution_count": null,
      "outputs": [
        {
          "output_type": "stream",
          "name": "stdout",
          "text": [
            "5\n"
          ]
        }
      ]
    },
    {
      "cell_type": "markdown",
      "source": [
        "Task2_0426. 두 개의 리스트에서 공통으로 나타나는 요소들을 찾아 리스트로 반환하는 프로그램을 작성하세요.\n",
        "\n",
        "예시 입력: list1 = [1, 2, 3, 4, 5], list2 = [4, 5, 6, 7, 8]\n",
        "\n",
        "예시 출력: [4, 5]"
      ],
      "metadata": {
        "id": "KG3yiXgD625E"
      }
    },
    {
      "cell_type": "code",
      "source": [
        "list1 = [1, 2, 3, 4, 5]\n",
        "list2 = [4, 5, 6, 7, 8]\n",
        "\n",
        "def a_and_b(l1, l2):\n",
        "    set_l1 = set(l1)\n",
        "    set_l2 = set(l2)\n",
        "\n",
        "    return set_l1 & set_l2\n",
        "\n",
        "print(a_and_b(list1,list2))"
      ],
      "metadata": {
        "colab": {
          "base_uri": "https://localhost:8080/"
        },
        "id": "-MvbQnSo56tc",
        "outputId": "ca52aae5-20f1-4207-8a52-12b94521cc24"
      },
      "execution_count": null,
      "outputs": [
        {
          "output_type": "stream",
          "name": "stdout",
          "text": [
            "{4, 5}\n"
          ]
        }
      ]
    },
    {
      "cell_type": "markdown",
      "source": [
        "##자료형 - 논리(Bool) True와 False\n",
        "- 파이썬에서 참과 거짓을 나타내는 상수. True는 1, False는 0의 값을 가짐\n",
        "- 조건을 판단해서 그 조건이 참이면 True, 거짓이면 False를 return"
      ],
      "metadata": {
        "id": "fRtuiQiZ7R7C"
      }
    },
    {
      "cell_type": "code",
      "source": [
        "print(bool(0))\n",
        "print(bool(''))\n",
        "print(bool([]))\n",
        "print(bool(1))\n",
        "print(bool(100))"
      ],
      "metadata": {
        "colab": {
          "base_uri": "https://localhost:8080/"
        },
        "id": "DK2s8xUn7jcg",
        "outputId": "66bd5902-d597-42ae-e056-f816a985c473"
      },
      "execution_count": null,
      "outputs": [
        {
          "output_type": "stream",
          "name": "stdout",
          "text": [
            "False\n",
            "False\n",
            "False\n",
            "True\n",
            "True\n"
          ]
        }
      ]
    },
    {
      "cell_type": "markdown",
      "source": [
        "##아스키코드\n",
        "ASCII 값에서 'a'는 97이고 'p'는 112입니다. 'a'는 'p'보다 작으므로 str1<str2는 True를 반환"
      ],
      "metadata": {
        "id": "fUXUyLr4-eIU"
      }
    },
    {
      "cell_type": "code",
      "source": [
        "x=1;y=2\n",
        "str1 = 'abc' ; str2 = 'python'\n",
        "print(x==y)\n",
        "print(x!=y)\n",
        "print(str1 == str2)\n",
        "print(str2 == 'python')\n",
        "print(str1 <str2)"
      ],
      "metadata": {
        "colab": {
          "base_uri": "https://localhost:8080/"
        },
        "id": "qX9OHef38dv3",
        "outputId": "e1548b44-7ee0-4a1b-8809-50a3f5e92f61"
      },
      "execution_count": null,
      "outputs": [
        {
          "output_type": "stream",
          "name": "stdout",
          "text": [
            "False\n",
            "True\n",
            "False\n",
            "True\n",
            "True\n"
          ]
        }
      ]
    },
    {
      "cell_type": "code",
      "source": [
        "#논리 연산자\n",
        "bool1 = True; bool2 = False; bool3 = True; bool4 = False\n",
        "print(bool1 and bool2)\n",
        "print(bool1 or bool2)\n",
        "print(not bool3)\n",
        "print(not bool4)"
      ],
      "metadata": {
        "colab": {
          "base_uri": "https://localhost:8080/"
        },
        "id": "17g05zOg7sIP",
        "outputId": "1dac874f-5398-4949-fab7-76efc7a2f464"
      },
      "execution_count": null,
      "outputs": [
        {
          "output_type": "stream",
          "name": "stdout",
          "text": [
            "False\n",
            "True\n",
            "False\n",
            "True\n"
          ]
        }
      ]
    },
    {
      "cell_type": "markdown",
      "source": [
        "#### 파이썬에서 들여쓰기\n",
        "- 파이썬에는 실행 코드 부분을 묶어주는 {} 괄호가 없다.\n",
        "- 대신 들여쓰기(indentation)로 {}를 대신한다.\n",
        "- 제어문이나 함수이름, 클래스 이름 뒤에 콜론(':')으로 제어문, 함수이름, 클래스 이름의 끝을 표시하며 ':' 다음에 실행 코드를 작성"
      ],
      "metadata": {
        "id": "XbKnMyRKCrJ2"
      }
    },
    {
      "cell_type": "code",
      "source": [
        "li = ['a', 'b', 'c']\n",
        "if 'a' in li:\n",
        "    print('a가 li에 있습니다')\n",
        "else:\n",
        "    print('a가 li에 없습니다')\n"
      ],
      "metadata": {
        "colab": {
          "base_uri": "https://localhost:8080/"
        },
        "id": "ajRVYyksDPcS",
        "outputId": "a9e57b8e-1ce3-43c4-90c5-d7b73462aa60"
      },
      "execution_count": null,
      "outputs": [
        {
          "output_type": "stream",
          "name": "stdout",
          "text": [
            "a가 li에 있습니다\n"
          ]
        }
      ]
    },
    {
      "cell_type": "markdown",
      "source": [
        "##사용자 함수"
      ],
      "metadata": {
        "id": "QcZig8sTFuoY"
      }
    },
    {
      "cell_type": "markdown",
      "source": [
        "사용자 함수의 형태\n",
        "\n",
        "입력값, 출력값 모두 있는 경우\n",
        "입력값만 있는경우\n",
        "출력값만 있는경우\n",
        "입출력값이 없는 경우"
      ],
      "metadata": {
        "id": "aPVNSJKvUvE3"
      }
    },
    {
      "cell_type": "code",
      "source": [
        "numbers = [1,2,3]\n",
        "sum(numbers)#파이썬 내장함수"
      ],
      "metadata": {
        "colab": {
          "base_uri": "https://localhost:8080/"
        },
        "id": "_-YTCMB1DntA",
        "outputId": "2ddc8162-b9c1-43d4-db98-0687693d241d"
      },
      "execution_count": null,
      "outputs": [
        {
          "output_type": "execute_result",
          "data": {
            "text/plain": [
              "6"
            ]
          },
          "metadata": {},
          "execution_count": 27
        }
      ]
    },
    {
      "cell_type": "code",
      "source": [
        "def add(a,b,c):\n",
        "    return a+b+c\n",
        "\n",
        "add(1,2,3)"
      ],
      "metadata": {
        "colab": {
          "base_uri": "https://localhost:8080/"
        },
        "id": "kMS2h4sxF2U1",
        "outputId": "93148eac-f5ed-491c-b0d6-5f7c628a3017"
      },
      "execution_count": null,
      "outputs": [
        {
          "output_type": "execute_result",
          "data": {
            "text/plain": [
              "6"
            ]
          },
          "metadata": {},
          "execution_count": 28
        }
      ]
    },
    {
      "cell_type": "code",
      "source": [
        "def mul(a,b,c):\n",
        "    return a*b*c\n",
        "\n",
        "mul(10,5,7)"
      ],
      "metadata": {
        "colab": {
          "base_uri": "https://localhost:8080/"
        },
        "id": "IQVas859F8Fj",
        "outputId": "cc8dda43-57ef-44c4-c524-be8701e872d5"
      },
      "execution_count": null,
      "outputs": [
        {
          "output_type": "execute_result",
          "data": {
            "text/plain": [
              "350"
            ]
          },
          "metadata": {},
          "execution_count": 29
        }
      ]
    },
    {
      "cell_type": "markdown",
      "source": [
        "Q.뺄셈, 나눗셈을 수행하는 사용자 함수를 작성하세요."
      ],
      "metadata": {
        "id": "ns6YvpMGHXWv"
      }
    },
    {
      "cell_type": "code",
      "source": [
        "a = int(input('첫 숫자 입력: '))\n",
        "b = int(input('두번째 숫자 입력: '))\n",
        "c = int(input('세번째 숫자 입력: '))\n",
        "def mul_minu(num1, num2, num3):\n",
        "    if num2 == 0 or num3 ==0:\n",
        "        print(\"0으로 나눌 수 없습니다\")\n",
        "    return num1/num2/num3,num1-num2-num3\n",
        "print(mul_minu(a,b,c))"
      ],
      "metadata": {
        "colab": {
          "base_uri": "https://localhost:8080/"
        },
        "id": "MpsA0gd_HXJW",
        "outputId": "59151084-b3d6-4fea-c163-fc54ba3b733a"
      },
      "execution_count": null,
      "outputs": [
        {
          "output_type": "stream",
          "name": "stdout",
          "text": [
            "첫 숫자 입력: 5\n",
            "두번째 숫자 입력: 2\n",
            "세번째 숫자 입력: 1\n",
            "(2.5, 2)\n"
          ]
        }
      ]
    },
    {
      "cell_type": "markdown",
      "source": [
        "##클래스"
      ],
      "metadata": {
        "id": "SNgmiBIBJeXO"
      }
    },
    {
      "cell_type": "code",
      "source": [
        "class Addmul:\n",
        "    def add(self,a1,a2):\n",
        "        return a1+a2\n",
        "    def mul(self,a1,a2):\n",
        "        return a1*a2\n",
        "\n",
        "obj1 =Addmul()\n",
        "print(obj1.add(1,2))\n",
        "onj2=Addmul()\n",
        "print(obj1.mul(1,2))"
      ],
      "metadata": {
        "colab": {
          "base_uri": "https://localhost:8080/"
        },
        "id": "vbCG7eMhGufv",
        "outputId": "cd61a0de-02c2-43d3-f366-6ecd75db8ffd"
      },
      "execution_count": null,
      "outputs": [
        {
          "output_type": "stream",
          "name": "stdout",
          "text": [
            "3\n",
            "2\n"
          ]
        }
      ]
    },
    {
      "cell_type": "code",
      "source": [
        "#split() 함수\n",
        "text = '나는 오늘 기분이 좋아요'\n",
        "words = text.split()\n",
        "words"
      ],
      "metadata": {
        "id": "xlua8rR7K9aG",
        "colab": {
          "base_uri": "https://localhost:8080/"
        },
        "outputId": "c7bd2971-3c20-4db4-df67-ce5e17b92a20"
      },
      "execution_count": 1,
      "outputs": [
        {
          "output_type": "execute_result",
          "data": {
            "text/plain": [
              "['나는', '오늘', '기분이', '좋아요']"
            ]
          },
          "metadata": {},
          "execution_count": 1
        }
      ]
    },
    {
      "cell_type": "code",
      "source": [
        "text = 'apple, banana, orange'\n",
        "words = text.split(',') #, 기준으로 잘라줌\n",
        "words"
      ],
      "metadata": {
        "colab": {
          "base_uri": "https://localhost:8080/"
        },
        "id": "DPW_dPzVhW9e",
        "outputId": "8e65bdb5-a9e3-4afb-d985-28f2a6927046"
      },
      "execution_count": 3,
      "outputs": [
        {
          "output_type": "execute_result",
          "data": {
            "text/plain": [
              "['apple', ' banana', ' orange']"
            ]
          },
          "metadata": {},
          "execution_count": 3
        }
      ]
    },
    {
      "cell_type": "code",
      "source": [
        "time_string = '12:30:55'\n",
        "time_list = time_string.split(':')\n",
        "time_list"
      ],
      "metadata": {
        "colab": {
          "base_uri": "https://localhost:8080/"
        },
        "id": "bTffb8Kchkgp",
        "outputId": "f3bf76ea-9096-4a6b-f577-a3b227c0544d"
      },
      "execution_count": 5,
      "outputs": [
        {
          "output_type": "execute_result",
          "data": {
            "text/plain": [
              "['12', '30', '55']"
            ]
          },
          "metadata": {},
          "execution_count": 5
        }
      ]
    },
    {
      "cell_type": "code",
      "source": [
        "#Q. 아래 text를 분리해 보세요.\n",
        "multi_line_text = \"hello\\nWorld\\nPython\\nProgramming\"\n",
        "print(multi_line_text)\n",
        "multi_line_text = multi_line_text.split('\\n')\n",
        "print(multi_line_text)"
      ],
      "metadata": {
        "colab": {
          "base_uri": "https://localhost:8080/"
        },
        "id": "_pF5UnU1hwmb",
        "outputId": "43fa9747-e3be-4514-c9ae-cc97319ed40e"
      },
      "execution_count": 10,
      "outputs": [
        {
          "output_type": "stream",
          "name": "stdout",
          "text": [
            "hello\n",
            "World\n",
            "Python\n",
            "Programming\n",
            "['hello', 'World', 'Python', 'Programming']\n"
          ]
        }
      ]
    },
    {
      "cell_type": "code",
      "source": [
        "#복합 대입 연산자\n",
        "num = 10\n",
        "num += 10\n",
        "num"
      ],
      "metadata": {
        "colab": {
          "base_uri": "https://localhost:8080/"
        },
        "id": "Jdc0oBPjiVZf",
        "outputId": "ca4c27e8-3913-49fc-ae3c-380e27c0085d"
      },
      "execution_count": 11,
      "outputs": [
        {
          "output_type": "execute_result",
          "data": {
            "text/plain": [
              "20"
            ]
          },
          "metadata": {},
          "execution_count": 11
        }
      ]
    },
    {
      "cell_type": "code",
      "source": [
        "# Q. 복합 대입 연산자를 이용해서 4칙연산을 수행하세요\n",
        "\n",
        "a = 10\n",
        "\n",
        "a+=10\n",
        "print(a)\n",
        "\n",
        "a-=10\n",
        "print(a)\n",
        "\n",
        "a*=10\n",
        "print(a)\n",
        "\n",
        "a/=10\n",
        "print(a)"
      ],
      "metadata": {
        "colab": {
          "base_uri": "https://localhost:8080/"
        },
        "id": "B5VMVhHylzoV",
        "outputId": "ece38357-9252-4152-95df-1df3aa9ae86d"
      },
      "execution_count": 15,
      "outputs": [
        {
          "output_type": "stream",
          "name": "stdout",
          "text": [
            "20\n",
            "10\n",
            "100\n",
            "10.0\n"
          ]
        }
      ]
    },
    {
      "cell_type": "code",
      "source": [
        "# 소문자, 대문자 변환\n",
        "word = 'DoG'\n",
        "w1 = word.lower()\n",
        "print(w1)\n",
        "w2 = word.upper()\n",
        "print(w2)"
      ],
      "metadata": {
        "colab": {
          "base_uri": "https://localhost:8080/"
        },
        "id": "BtUy7h6umE2b",
        "outputId": "a83b485c-909e-4e61-e149-7c8861480c89"
      },
      "execution_count": 21,
      "outputs": [
        {
          "output_type": "stream",
          "name": "stdout",
          "text": [
            "dog\n",
            "DOG\n"
          ]
        }
      ]
    },
    {
      "cell_type": "markdown",
      "source": [
        "#이스케이프 문자\n",
        "\n",
        "- 키보드로 입력하기 어려운 기호 등을 나타낸다.\n",
        "- \\로 시작, \\n줄바꾸기, \\t탭,"
      ],
      "metadata": {
        "id": "wW1xhwZ5pQSp"
      }
    },
    {
      "cell_type": "code",
      "source": [
        "print('나는 파이썬을 사랑합니다.\\n파이썬은 자바보다 훨씬 쉽습니다.')\n",
        "print('나는 파이썬을 사랑합니다.\\t파이썬은 자바보다 훨씬 쉽습니다.')"
      ],
      "metadata": {
        "colab": {
          "base_uri": "https://localhost:8080/"
        },
        "id": "ciW_yME6nwtm",
        "outputId": "dcd6b837-5f67-4fb7-fbeb-e502134e89bf"
      },
      "execution_count": 23,
      "outputs": [
        {
          "output_type": "stream",
          "name": "stdout",
          "text": [
            "나는 파이썬을 사랑합니다.\n",
            "파이썬은 자바보다 훨씬 쉽습니다.\n",
            "나는 파이썬을 사랑합니다.\t파이썬은 자바보다 훨씬 쉽습니다.\n"
          ]
        }
      ]
    },
    {
      "cell_type": "code",
      "source": [
        "print('Hello\\tWorld!')      #탭 문자를 사용하여 \"Hello\"와 \"World!\" 사이에 탭 간격을 줍니다.\n",
        "print('Hello\\nWorld!')      #줄 바꿈 문자를 사용하여 \"Hello\"와 \"World!\"를 다른 줄에 출력합니다.\n",
        "print('She said, \\\"hi!\\\"')  #큰따옴표를 문자열 내부에 포함시킵니다.\n",
        "print('It\\'s raining.')     #작은따옴표를 문자열 내부에 포함시킵니다.\n",
        "print('Backslash:\\\\')       #백슬래시를 출력합니다."
      ],
      "metadata": {
        "colab": {
          "base_uri": "https://localhost:8080/"
        },
        "id": "Dwg5kL3apmMD",
        "outputId": "cb4e5679-8d81-4b58-fb54-8a3c8fda70ef"
      },
      "execution_count": 24,
      "outputs": [
        {
          "output_type": "stream",
          "name": "stdout",
          "text": [
            "Hello\tWorld!\n",
            "Hello\n",
            "World!\n",
            "She said, \"hi!\"\n",
            "It's raining.\n",
            "Backslash:\\\n"
          ]
        }
      ]
    },
    {
      "cell_type": "markdown",
      "source": [
        "#### 문자열 포멧\n",
        "- % operator 사용 : % 연산자를 사용하려면 %(VAR_NAME)TYPE 형식으로 적어주며 VAR_NAME 은 바인딩할 변수명을 TYPE 은 변수의 유형을 적어준다.\n",
        "- str.format : str.format() 은 파이썬 표현식 값을 바인딩할 부분을 중괄호 {} 로 표시하고 .format() 뒤에 바인딩할 값을 기술해 준다.\n",
        "- f-string : 문자열에 f 나 F 접두사를 붙이고 표현식을 {expr} 형식으로 작성하면 출력 문자열이 파이썬 표현식의 값으로 바뀐다."
      ],
      "metadata": {
        "id": "XUNXxvaOq312"
      }
    },
    {
      "cell_type": "code",
      "source": [
        "\n",
        "print('%(num)d, %(float)f, %(string)s' % {\"num\":3, \"float\":4,\"string\":'hello'})"
      ],
      "metadata": {
        "colab": {
          "base_uri": "https://localhost:8080/"
        },
        "id": "w9pW7m0qqDA2",
        "outputId": "e2a89781-33ba-4370-f689-c6cc857bf701"
      },
      "execution_count": 25,
      "outputs": [
        {
          "output_type": "stream",
          "name": "stdout",
          "text": [
            "3, 4.000000, hello\n"
          ]
        }
      ]
    },
    {
      "cell_type": "code",
      "source": [
        "txt1='자바';txt2='파이썬'\n",
        "num1 = 5; num2 = 3\n",
        "print('나는 %s보다 %s에 더 익숙합니다' %(num1,num2))\n",
        "print('%s은 %s 보다 %d배 더 쉽습니다' %(txt2, txt1, num1))\n",
        "print('%d + %d = %d' %(num1, num2, num1+num2));\n",
        "print('작년 세계 경제 성장률은 전년에 비해 %d%% 포인트 증가했다.' %num1)"
      ],
      "metadata": {
        "colab": {
          "base_uri": "https://localhost:8080/"
        },
        "id": "0QbK2rL5r7D_",
        "outputId": "e928cfb1-067b-4048-81b8-c66ec16f4e35"
      },
      "execution_count": 27,
      "outputs": [
        {
          "output_type": "stream",
          "name": "stdout",
          "text": [
            "나는 5보다 3에 더 익숙합니다\n",
            "파이썬은 자바 보다 5배 더 쉽습니다\n",
            "5 + 3 = 8\n",
            "작년 세계 경제 성장률은 전년에 비해 5% 포인트 증가했다.\n"
          ]
        }
      ]
    },
    {
      "cell_type": "code",
      "source": [
        "#str.format\n",
        "print('We are the  {} who say \"{}!\"'.format('knights', 'Ni'))"
      ],
      "metadata": {
        "colab": {
          "base_uri": "https://localhost:8080/"
        },
        "id": "fkrDOcWEsL7_",
        "outputId": "1e9825bc-778c-49a1-af6c-71a90b3f84ce"
      },
      "execution_count": 31,
      "outputs": [
        {
          "output_type": "stream",
          "name": "stdout",
          "text": [
            "We are the  knights who say \"Ni!\"\n"
          ]
        }
      ]
    },
    {
      "cell_type": "code",
      "source": [
        "#f-string\n",
        "name = '홍길동'\n",
        "age = 30\n",
        "f'나의 이름은 {name}입니다. 나이는 {age}입니다.'"
      ],
      "metadata": {
        "colab": {
          "base_uri": "https://localhost:8080/",
          "height": 35
        },
        "id": "7HscTe3zt__b",
        "outputId": "5028cde0-c529-4bf7-9b42-c08a3a335764"
      },
      "execution_count": 32,
      "outputs": [
        {
          "output_type": "execute_result",
          "data": {
            "text/plain": [
              "'나의 이름은홍길동입니다. 나이는 30입니다.'"
            ],
            "application/vnd.google.colaboratory.intrinsic+json": {
              "type": "string"
            }
          },
          "metadata": {},
          "execution_count": 32
        }
      ]
    },
    {
      "cell_type": "code",
      "source": [
        "table = {'Tom': 1234, 'Jack': 4518, 'Eddie' : 9638}\n",
        "for name, phone in table.items():\n",
        "    print(f'{name:5}  ==> {phone:5d}')"
      ],
      "metadata": {
        "colab": {
          "base_uri": "https://localhost:8080/"
        },
        "id": "TyXVVL-du2It",
        "outputId": "07975d3d-02e8-42b4-c3fe-63fcb3c7d912"
      },
      "execution_count": 34,
      "outputs": [
        {
          "output_type": "stream",
          "name": "stdout",
          "text": [
            "Tom    ==>  1234\n",
            "Jack   ==>  4518\n",
            "Eddie  ==>  9638\n"
          ]
        }
      ]
    },
    {
      "cell_type": "code",
      "source": [
        "# 소수점 4자리까지만 표현\n",
        "y = 3.142592\n",
        "f'{y:0.4f}'"
      ],
      "metadata": {
        "colab": {
          "base_uri": "https://localhost:8080/",
          "height": 35
        },
        "id": "6L_YCRPcvNRA",
        "outputId": "fe9abc6f-0d35-4589-ef9e-0f52e403308e"
      },
      "execution_count": 35,
      "outputs": [
        {
          "output_type": "execute_result",
          "data": {
            "text/plain": [
              "'3.1426'"
            ],
            "application/vnd.google.colaboratory.intrinsic+json": {
              "type": "string"
            }
          },
          "metadata": {},
          "execution_count": 35
        }
      ]
    },
    {
      "cell_type": "code",
      "source": [
        "#소수점 4자리까지 표현하고 총 자리수를 10으로 맞춤\n",
        "\n",
        "y= 3.54123123\n",
        "f'{y:10.4f}'"
      ],
      "metadata": {
        "colab": {
          "base_uri": "https://localhost:8080/",
          "height": 35
        },
        "id": "7ngOcs9rwneb",
        "outputId": "f424fe9d-2b9b-4ae7-fb08-1765900b0575"
      },
      "execution_count": 36,
      "outputs": [
        {
          "output_type": "execute_result",
          "data": {
            "text/plain": [
              "'    3.5412'"
            ],
            "application/vnd.google.colaboratory.intrinsic+json": {
              "type": "string"
            }
          },
          "metadata": {},
          "execution_count": 36
        }
      ]
    },
    {
      "cell_type": "code",
      "source": [
        "# Q. num1=12345, num2=12.345679 을 아래와 같이 출력하세요.\n",
        "#12345\n",
        "#    12345\n",
        " #   12.345679\n",
        "  #          12.346\n",
        "\n",
        "num1=12345\n",
        "num2=12.345679\n",
        "print(num1)\n",
        "print(f'{num1:10d}')\n",
        "print(num2)\n",
        "print(f'{num2:17.3f}')"
      ],
      "metadata": {
        "colab": {
          "base_uri": "https://localhost:8080/"
        },
        "id": "YbXB_dwTwt96",
        "outputId": "f3bb9c1e-687d-46a7-a27b-e4052c398209"
      },
      "execution_count": 50,
      "outputs": [
        {
          "output_type": "stream",
          "name": "stdout",
          "text": [
            "12345\n",
            "     12345\n",
            "12.345679\n",
            "           12.346\n"
          ]
        }
      ]
    },
    {
      "cell_type": "markdown",
      "source": [
        "#### 2진수, 8진수, 16진수의 데이터 표현 방법\n",
        "\n",
        "- 우리가 프로그래밍을 하면서 변수에 어떤 값을 저장할 때 10진수는 일상적 표현을 그대로 대입한다.\n",
        "- 예를들어 15를 저장하고 싶다면 int a= 15; 와 같이 15라는 숫자를 그대로 대입하면 된다.\n",
        "- 하지만 2진수, 8진수, 16진수는 표현법이 따로 정해져있다.<br><br>  \n",
        "\n",
        "- 2진수는 대입하고자 하는 값 앞에 0b를 붙인다. (숫자0과 영문자b)\n",
        "- 8진수는 대입하고자 하는 값 앞에 0o 을 붙인다. (숫자0 영문자o)\n",
        "- 16진수는 대입하고자 하는 값 앞에 0x 를 붙인다. (숫자0과 영문자x)\n",
        "\n",
        "아래의 예시를 보자.\n",
        "변수 a,b,c,d 는 모두 10진수 122 이라는 값을 저장하는 코드이다.\n",
        "\n",
        "122는\n",
        "- 2진수로 1111010\n",
        "- 8진수로 172\n",
        "- 16진수로 7A 이다."
      ],
      "metadata": {
        "id": "6eIXNYxj0xgJ"
      }
    },
    {
      "cell_type": "code",
      "source": [
        "a= 0o172\n",
        "b= 0x7a\n",
        "c= 0b1111010\n",
        "print(a)\n",
        "print(b)\n",
        "print(c)"
      ],
      "metadata": {
        "colab": {
          "base_uri": "https://localhost:8080/"
        },
        "id": "awWR_a2h0717",
        "outputId": "9b5fbf29-fb73-4275-b9c2-04bebbe77bb5"
      },
      "execution_count": 1,
      "outputs": [
        {
          "output_type": "stream",
          "name": "stdout",
          "text": [
            "122\n",
            "122\n",
            "122\n"
          ]
        }
      ]
    },
    {
      "cell_type": "code",
      "source": [
        "# Q. 10을 10진수, 2진수, 8진수, 16진수로 출력하세요.\n",
        "a = 10\n",
        "\n",
        "print(a)\n",
        "print(0b10)\n",
        "print(0o10)\n",
        "print(0x10)"
      ],
      "metadata": {
        "colab": {
          "base_uri": "https://localhost:8080/",
          "height": 111
        },
        "id": "ubD3lu8N1qib",
        "outputId": "f904bf1e-1a48-45a9-f070-eb6eea427b63"
      },
      "execution_count": 57,
      "outputs": [
        {
          "output_type": "error",
          "ename": "SyntaxError",
          "evalue": "invalid binary literal (<ipython-input-57-cbda762dca5f>, line 5)",
          "traceback": [
            "\u001b[0;36m  File \u001b[0;32m\"<ipython-input-57-cbda762dca5f>\"\u001b[0;36m, line \u001b[0;32m5\u001b[0m\n\u001b[0;31m    print(f'{0ba}')\u001b[0m\n\u001b[0m      ^\u001b[0m\n\u001b[0;31mSyntaxError\u001b[0m\u001b[0;31m:\u001b[0m invalid binary literal\n"
          ]
        }
      ]
    },
    {
      "cell_type": "code",
      "source": [
        "#파이썬 자료형 - 숫자형(정수, 실수, 8진수, 16진수)\n",
        "#16진수 10 a , 11b, 12c, 13d, 14e, 15f\n",
        "\n",
        "e = 0o177\n",
        "f = 0xABC\n",
        "g = 0b101010\n",
        "\n",
        "print(e)\n",
        "print(f)\n",
        "print(g)"
      ],
      "metadata": {
        "colab": {
          "base_uri": "https://localhost:8080/"
        },
        "id": "lrOO8LXJ2KWh",
        "outputId": "6deb006b-4738-4734-b23b-6db65b58eb89"
      },
      "execution_count": 58,
      "outputs": [
        {
          "output_type": "stream",
          "name": "stdout",
          "text": [
            "127\n",
            "2748\n",
            "42\n"
          ]
        }
      ]
    },
    {
      "cell_type": "code",
      "source": [
        "g1 = 0b001000\n",
        "g2 = 0b100\n",
        "g3 = 0b10\n",
        "\n",
        "print(g1)\n",
        "print(g2)\n",
        "print(g3)"
      ],
      "metadata": {
        "colab": {
          "base_uri": "https://localhost:8080/"
        },
        "id": "UYbsHg5W3xSG",
        "outputId": "affab350-8ea2-4d06-ce9c-f27a56c27f24"
      },
      "execution_count": 60,
      "outputs": [
        {
          "output_type": "stream",
          "name": "stdout",
          "text": [
            "8\n",
            "4\n",
            "2\n"
          ]
        }
      ]
    },
    {
      "cell_type": "code",
      "source": [
        "#16진수를 10진수로 표현\n",
        "f1 = 0xA\n",
        "f2 = 0xB\n",
        "f3 = 0xAB\n",
        "print(f1)\n",
        "print(f2)\n",
        "print(f3)\n",
        "print(16*10+1*11)"
      ],
      "metadata": {
        "colab": {
          "base_uri": "https://localhost:8080/"
        },
        "id": "w9Wkgalh4a91",
        "outputId": "9490ae54-0971-4b40-c14e-9a76032f8e33"
      },
      "execution_count": 62,
      "outputs": [
        {
          "output_type": "stream",
          "name": "stdout",
          "text": [
            "10\n",
            "11\n",
            "171\n",
            "171\n"
          ]
        }
      ]
    },
    {
      "cell_type": "code",
      "source": [
        "#Q. 0xABC를 계산하세요.\n",
        "\n",
        "print(0xABC)\n",
        "print(16*16*10+16*11+1*12)"
      ],
      "metadata": {
        "colab": {
          "base_uri": "https://localhost:8080/"
        },
        "id": "Xjo9IUHi5HPV",
        "outputId": "57cf6655-208c-4181-fb40-89e061b7e12d"
      },
      "execution_count": 64,
      "outputs": [
        {
          "output_type": "stream",
          "name": "stdout",
          "text": [
            "2748\n",
            "2748\n"
          ]
        }
      ]
    },
    {
      "cell_type": "code",
      "source": [
        "\n"
      ],
      "metadata": {
        "id": "sAr7hcfq6Djs"
      },
      "execution_count": null,
      "outputs": []
    }
  ]
}
