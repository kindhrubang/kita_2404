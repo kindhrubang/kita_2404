{
  "nbformat": 4,
  "nbformat_minor": 0,
  "metadata": {
    "colab": {
      "provenance": []
    },
    "kernelspec": {
      "name": "python3",
      "display_name": "Python 3"
    },
    "language_info": {
      "name": "python"
    }
  },
  "cells": [
    {
      "cell_type": "markdown",
      "source": [
        "Task1_0430. 남녀 파트너 정해주기 프로그램(zip)\n",
        "\n",
        "같은 수의 남녀 모임에서 파트너를 랜덤하게 정해주는 프로그램을 만들어 보세요\n",
        "\n",
        "male = ['철수','갑돌','로미오','이몽룡','온돌']\n",
        "\n",
        "female = ['미미','갑순','줄리엣','성춘향','평강']"
      ],
      "metadata": {
        "id": "bsINM46Bwr-H"
      }
    },
    {
      "cell_type": "code",
      "execution_count": 3,
      "metadata": {
        "colab": {
          "base_uri": "https://localhost:8080/"
        },
        "id": "Vbnwa4ptwl8-",
        "outputId": "8edaf733-e642-494e-bb1a-16c5e3b4de99"
      },
      "outputs": [
        {
          "output_type": "stream",
          "name": "stdout",
          "text": [
            "남자: 이몽룡 , 여자: 미미 짝궁입니다\n",
            "남자: 로미오 , 여자: 갑순 짝궁입니다\n",
            "남자: 철수 , 여자: 성춘향 짝궁입니다\n",
            "남자: 갑돌 , 여자: 줄리엣 짝궁입니다\n",
            "남자: 온돌 , 여자: 평강 짝궁입니다\n"
          ]
        }
      ],
      "source": [
        "from random import shuffle as sf\n",
        "\n",
        "male = ['철수','갑돌','로미오','이몽룡','온돌']\n",
        "\n",
        "female = ['미미','갑순','줄리엣','성춘향','평강']\n",
        "\n",
        "sf(male)\n",
        "sf(female)\n",
        "\n",
        "couple = zip(male, female)\n",
        "\n",
        "for ma, fe in couple:\n",
        "    print(f'남자: {ma} , 여자: {fe} 짝궁입니다')"
      ]
    },
    {
      "cell_type": "markdown",
      "source": [
        "Task2_0430. 대문자, 소문자, 숫자를 포함하는 8자리 랜덤 비밀번호를 생성하는 프로그램을 작성하세요."
      ],
      "metadata": {
        "id": "15eEPZWywsXn"
      }
    },
    {
      "cell_type": "code",
      "source": [
        "import random as rd\n",
        "\n",
        "print('<랜덤 비밀번호 생성기>')\n",
        "aList =[chr(i) for i in range(97,123)]\n",
        "AList =[chr(i) for i in range(65,91)]\n",
        "num = ['1','2','3','4','5','6','7','8','9']\n",
        "save_point = aList+AList+num\n",
        "sit = rd.sample(save_point, 8)\n",
        "output =''\n",
        "for i in sit:\n",
        "    output =output + i\n",
        "print(f'추천 비밀 번호는 : {output}')"
      ],
      "metadata": {
        "colab": {
          "base_uri": "https://localhost:8080/"
        },
        "id": "tAWJ-Ay9KOM3",
        "outputId": "006c5757-58a9-4894-d7e2-44a8a8dd54a9"
      },
      "execution_count": 103,
      "outputs": [
        {
          "output_type": "stream",
          "name": "stdout",
          "text": [
            "<랜덤 비밀번호 생성기>\n",
            "추천 비밀 번호는 : 8rzSac9s\n"
          ]
        }
      ]
    },
    {
      "cell_type": "markdown",
      "source": [
        "Task3_0430. 발표자 수를 랜덤하게 출력하는 프로그램을 작성하세요.(발표자 수 입력)\n",
        "\n",
        "kita = ['김성현','황강민','윤호준','류윤선','이상협','박지환','최환욱','서보선','김한결','김도현','김하준',\n",
        "        '김도원','신현진','소지승','이범석','이현석','이명신','박윤경','이도헌','김홍준']"
      ],
      "metadata": {
        "id": "DaJ8BloHws61"
      }
    },
    {
      "cell_type": "code",
      "source": [
        "from random import sample as sp\n",
        "kita = ['김성현','황강민','윤호준','류윤선','이상협','박지환','최환욱','서보선','김한결','김도현','김하준', '김도원','신현진','소지승','이범석','이현석','이명신','박윤경','이도헌','김홍준']\n",
        "while True:\n",
        "    try:\n",
        "        choice = int(input('뽑을 인원을 입력하세요: '))\n",
        "        break\n",
        "    except ValueError:\n",
        "        print('정수를 입력하세요')\n",
        "\n",
        "print(sp(kita, choice), '당첨!')\n"
      ],
      "metadata": {
        "colab": {
          "base_uri": "https://localhost:8080/"
        },
        "id": "wvP_zz0FwtNY",
        "outputId": "d9821312-88df-40fe-e91a-bed67a0e5e43"
      },
      "execution_count": 8,
      "outputs": [
        {
          "output_type": "stream",
          "name": "stdout",
          "text": [
            "뽑을 인원을 입력하세요: 3\n",
            "['박윤경', '황강민', '윤호준'] 당첨!\n"
          ]
        }
      ]
    },
    {
      "cell_type": "markdown",
      "source": [
        "Task4_0430. 사용자로부터 숫자를 입력받아 해당 숫자의 구구단을 출력하는 프로그램을 작성하세요."
      ],
      "metadata": {
        "id": "gmYF1UNgwtZf"
      }
    },
    {
      "cell_type": "code",
      "source": [
        "while True:\n",
        "    try:\n",
        "        num = int(input('1에서 9사이의 정수를 입력하세요: '))\n",
        "        if num>=10:\n",
        "            print(\"9이하의 숫자만!!!\")\n",
        "            continue\n",
        "\n",
        "        break\n",
        "    except ValueError:\n",
        "        print('정수를 입력하세요')\n",
        "\n",
        "\n",
        "for b in range(1, 10):\n",
        "    print(f'{num}*{b} = {num * b}')"
      ],
      "metadata": {
        "colab": {
          "base_uri": "https://localhost:8080/"
        },
        "id": "PNA9_dkXwtut",
        "outputId": "1ec681dc-b7c7-4274-cd3c-4d607e0ba636"
      },
      "execution_count": 15,
      "outputs": [
        {
          "output_type": "stream",
          "name": "stdout",
          "text": [
            "1에서 9사이의 정수를 입력하세요: 4\n",
            "4*1 = 4\n",
            "4*2 = 8\n",
            "4*3 = 12\n",
            "4*4 = 16\n",
            "4*5 = 20\n",
            "4*6 = 24\n",
            "4*7 = 28\n",
            "4*8 = 32\n",
            "4*9 = 36\n"
          ]
        }
      ]
    },
    {
      "cell_type": "markdown",
      "source": [
        "Task5_0430. 사용자로부터 숫자를 입력받아 해당 숫자의 팩토리얼을 계산하세요."
      ],
      "metadata": {
        "id": "LkjmShS2zPdM"
      }
    },
    {
      "cell_type": "code",
      "source": [
        "while True:\n",
        "    try:\n",
        "        num = int(input('정수를 입력하세요: '))\n",
        "        break\n",
        "    except ValueError:\n",
        "        print('정수를 입력하세요')\n",
        "a = 1\n",
        "gob = 1\n",
        "while a<(num+1):\n",
        "    gob = a * gob\n",
        "    a += 1\n",
        "print(f'{num}!의 결과는 : {gob}')"
      ],
      "metadata": {
        "colab": {
          "base_uri": "https://localhost:8080/"
        },
        "id": "mmNeFSlYzQrP",
        "outputId": "e4e71ed3-0fe3-452a-f441-b34f5174e198"
      },
      "execution_count": 22,
      "outputs": [
        {
          "output_type": "stream",
          "name": "stdout",
          "text": [
            "정수를 입력하세요: 5\n",
            "5!의 결과는 : 120\n"
          ]
        }
      ]
    },
    {
      "cell_type": "markdown",
      "source": [
        "Task6_0430. 0부터 20까지의 숫자 중에서 짝수와 홀수를 분리하여 두 개의 리스트에 저장하세요."
      ],
      "metadata": {
        "id": "lEBipKC7zSzB"
      }
    },
    {
      "cell_type": "code",
      "source": [
        "cp = []\n",
        "so = []\n",
        "\n",
        "for i in range(1, 21):\n",
        "    if i%2==0:\n",
        "        cp.append(i)\n",
        "    else:\n",
        "        so.append(i)\n",
        "print(cp, so)"
      ],
      "metadata": {
        "colab": {
          "base_uri": "https://localhost:8080/"
        },
        "id": "ljW8tUnVzTMH",
        "outputId": "05febd15-5f7e-45de-abb0-76ddc5801b83"
      },
      "execution_count": 26,
      "outputs": [
        {
          "output_type": "stream",
          "name": "stdout",
          "text": [
            "[2, 4, 6, 8, 10, 12, 14, 16, 18, 20] [1, 3, 5, 7, 9, 11, 13, 15, 17, 19]\n"
          ]
        }
      ]
    },
    {
      "cell_type": "markdown",
      "source": [
        "Task7_0430. 주어진 리스트에서 최대값을 찾아 출력하세요.\n",
        "\n",
        "numbers = [34,78,2,45,99,23]"
      ],
      "metadata": {
        "id": "AdiCLXgzzUj_"
      }
    },
    {
      "cell_type": "code",
      "source": [
        "numbers = [34,78,2,45,99,23]\n",
        "numbers.sort(reverse = True)\n",
        "print(numbers[0])"
      ],
      "metadata": {
        "colab": {
          "base_uri": "https://localhost:8080/"
        },
        "id": "K_E7brLJzU-K",
        "outputId": "853a9f5c-2955-4692-9120-ad84d58f0e79"
      },
      "execution_count": 27,
      "outputs": [
        {
          "output_type": "stream",
          "name": "stdout",
          "text": [
            "99\n"
          ]
        }
      ]
    },
    {
      "cell_type": "markdown",
      "source": [
        "Task8_0430.  1부터 10 사이의 임의의 숫자를 맞추는 게임을 만드세요. 사용자가 숫자를 맞출 때까지 입력을 계속 받으며, 정답을 맞추면 게임을 종료하세요."
      ],
      "metadata": {
        "id": "NeqbOD7CzW7x"
      }
    },
    {
      "cell_type": "code",
      "source": [
        "import random as rd\n",
        "\n",
        "print('숫자 맞추기 게임에 오신것을\\n\\t환영합니다!!!')\n",
        "target=rd.randint(1,10)\n",
        "print('콤퓨타가 숫자 선택을 완료했습니다\\n')\n",
        "\n",
        "\n",
        "\n",
        "while True:\n",
        "\n",
        "\n",
        "    while True:\n",
        "\n",
        "        try:\n",
        "            num = int(input('1부터 10사이의 숫자를 골라주세요~: '))\n",
        "            if num not in range(1,11):\n",
        "                print('올바른 값을 입력하세요\\n')\n",
        "                continue\n",
        "\n",
        "            break\n",
        "        except ValueError:\n",
        "            print('정수를 입력하세요\\n')\n",
        "\n",
        "\n",
        "    if num > target:\n",
        "        print(f'{num}보다 작은수입니다!\\n')\n",
        "    elif num < target:\n",
        "        print(f'{num}보다 큰수입니다!\\n')\n",
        "    else:\n",
        "        print('정답입니다~')\n",
        "        break"
      ],
      "metadata": {
        "colab": {
          "base_uri": "https://localhost:8080/"
        },
        "id": "wkItRCUmzXMm",
        "outputId": "0a912a55-2eba-46a1-e400-fe6d58b60ef4"
      },
      "execution_count": 36,
      "outputs": [
        {
          "output_type": "stream",
          "name": "stdout",
          "text": [
            "숫자 맞추기 게임에 오신것을\n",
            "\t환영합니다!!!\n",
            "콤퓨타가 숫자 선택을 완료했습니다\n",
            "\n",
            "1부터 10사이의 숫자를 골라주세요~: 11\n",
            "올바른 값을 입력하세요\n",
            "\n",
            "1부터 10사이의 숫자를 골라주세요~: 12\n",
            "올바른 값을 입력하세요\n",
            "\n",
            "1부터 10사이의 숫자를 골라주세요~: 0\n",
            "올바른 값을 입력하세요\n",
            "\n",
            "1부터 10사이의 숫자를 골라주세요~: 0.1\n",
            "정수를 입력하세요\n",
            "\n",
            "1부터 10사이의 숫자를 골라주세요~: 5\n",
            "5보다 큰수입니다!\n",
            "\n",
            "1부터 10사이의 숫자를 골라주세요~: 8\n",
            "8보다 큰수입니다!\n",
            "\n",
            "1부터 10사이의 숫자를 골라주세요~: 9\n",
            "9보다 큰수입니다!\n",
            "\n",
            "1부터 10사이의 숫자를 골라주세요~: 10\n",
            "정답입니다~\n"
          ]
        }
      ]
    },
    {
      "cell_type": "markdown",
      "source": [
        "Task9_0430. 태어난 연도를 입력받아 띠를 출력하는 프로그램을 작성하세요"
      ],
      "metadata": {
        "id": "KGWAnH7dzYL3"
      }
    },
    {
      "cell_type": "code",
      "source": [
        "while True:\n",
        "    try:\n",
        "        year = int(input('태어난 연도를 입력하세요: '))\n",
        "        break\n",
        "    except ValueError:\n",
        "        print('정수를 입력하세요')\n",
        "\n",
        "zodiac = ['쥐', '소', '호랑이', '토끼', '용', '뱀', '말', '양', '원숭이', '닭', '개', '돼지']\n",
        "print(f'{year}년 출생자의 띠는 {zodiac[(year%12)-4]}')"
      ],
      "metadata": {
        "colab": {
          "base_uri": "https://localhost:8080/"
        },
        "id": "6KewYWU1zYaz",
        "outputId": "3cdc2f8b-1687-4976-f349-44829a90bc3e"
      },
      "execution_count": 54,
      "outputs": [
        {
          "output_type": "stream",
          "name": "stdout",
          "text": [
            "태어난 연도를 입력하세요: 2004\n",
            "2004의 띠는 원숭이\n"
          ]
        }
      ]
    },
    {
      "cell_type": "markdown",
      "source": [
        "Task10_0430. 아래 사항을 반영하여 커피 자판기 프로그램을 작성하세요.\n",
        "- 시나리오 : 자판기 커피 재고 5잔, 커피 1잔 가격 300원, 재고 범위내에서 300원 이상 돈을 넣으면 거스름돈과 커피를 주고 그렇지 않으면 반환하며 재고가 소진되면 안내멘트 출력\n",
        "- 각 Case별 멘트 출력은 상황에 맞게 창작\n",
        "- while, if ~ elif ~ else 제어문을 사용하여 작성"
      ],
      "metadata": {
        "id": "eIIj5Y3IzZgq"
      }
    },
    {
      "cell_type": "code",
      "source": [
        "prize={1:['Coffe', 500, 5], 2:['Hot Milk', 300, 3], 3:['Monster', 700, 4] }\n",
        "\n",
        "\n",
        "\n",
        "while True:\n",
        "    print('<자판기>')\n",
        "    for i in range(1,4):\n",
        "        print(f'{i}. {prize[i][0]}', end = ' ')\n",
        "\n",
        "    print('\\n')\n",
        "    while True:\n",
        "        try:\n",
        "            num = int(input('원하시는 음료의 번호를 입력하세요(4번은 종료): '))\n",
        "            if num not in range(1,5):\n",
        "                print('올바른 번호를 입력하세요\\n')\n",
        "                continue\n",
        "            break\n",
        "        except ValueError:\n",
        "            print('정수를 입력하세요')\n",
        "\n",
        "    if num == 1: # 1번\n",
        "\n",
        "        if prize[num][2]==0:\n",
        "            print('\\n<남아있는 음료가 없습니다!>')\n",
        "            continue\n",
        "\n",
        "        print(f'{prize[num][0]}을 선택하셧습니다 가격은 {prize[num][1]}원 입니다')\n",
        "        while True:\n",
        "            try:\n",
        "                money = int(input('투입할 금액을 입력하세요: '))\n",
        "                break\n",
        "            except ValueError:\n",
        "                print('올바른 금액을 입력하세요')\n",
        "\n",
        "        if money < prize[num][1]:\n",
        "            print('금액이 부족합니다')\n",
        "            continue\n",
        "        elif money > prize[num][1]:\n",
        "            print(f'{money-prize[num][1]}원을 거슬러 드렸습니다 음료수를 챙겨가세요!')\n",
        "            prize[num][2] -= 1\n",
        "        else:\n",
        "            print('음료가 준비되었습니다 챙겨가세요!')\n",
        "            prize[num][2] -= 1\n",
        "\n",
        "\n",
        "    elif num ==2:\n",
        "        if prize[num][2]==0:\n",
        "            print('\\n<남아있는 음료가 없습니다!>')\n",
        "            continue\n",
        "\n",
        "        print(f'{prize[num][0]}을 선택하셧습니다 가격은 {prize[num][1]}원 입니다')\n",
        "        while True:\n",
        "            try:\n",
        "                money = int(input('투입할 금액을 입력하세요: '))\n",
        "                break\n",
        "            except ValueError:\n",
        "                print('<올바른 금액을 입력하세요>')\n",
        "\n",
        "        if money < prize[num][1]:\n",
        "            print('금액이 부족합니다')\n",
        "            continue\n",
        "        elif money > prize[num][1]:\n",
        "            print(f'{money-prize[num][1]}원을 거슬러 드렸습니다 음료수를 챙겨가세요!')\n",
        "            prize[num][2] -= 1\n",
        "        else:\n",
        "            print('<음료가 준비되었습니다 챙겨가세요!>')\n",
        "            prize[num][2] -= 1\n",
        "\n",
        "\n",
        "    elif num == 3:\n",
        "        if prize[num][2]==0:\n",
        "            print('\\n<남아있는 음료가 없습니다!>')\n",
        "            continue\n",
        "\n",
        "        print(f'{prize[num][0]}을 선택하셧습니다 가격은 {prize[num][1]}원 입니다')\n",
        "        while True:\n",
        "            try:\n",
        "                money = int(input('투입할 금액을 입력하세요: '))\n",
        "                break\n",
        "            except ValueError:\n",
        "                print('올바른 금액을 입력하세요')\n",
        "\n",
        "        if money < prize[num][1]:\n",
        "            print('금액이 부족합니다')\n",
        "            continue\n",
        "        elif money > prize[num][1]:\n",
        "            print(f'{money-prize[num][1]}원을 거슬러 드렸습니다 음료수를 챙겨가세요!')\n",
        "            prize[num][2] -= 1\n",
        "        else:\n",
        "            print('<음료가 준비되었습니다 챙겨가세요!>')\n",
        "            prize[num][2] -= 1\n",
        "\n",
        "    else:\n",
        "        break"
      ],
      "metadata": {
        "colab": {
          "base_uri": "https://localhost:8080/"
        },
        "id": "7h6Ske1izZ5-",
        "outputId": "20ac12f5-e89b-4d62-ca44-f9db5fbc86b3"
      },
      "execution_count": 85,
      "outputs": [
        {
          "name": "stdout",
          "output_type": "stream",
          "text": [
            "<자판기>\n",
            "1. Coffe 2. Hot Milk 3. Monster \n",
            "\n",
            "원하시는 음료의 번호를 입력하세요(4번은 종료): 1\n",
            "Coffe을 선택하셧습니다 가격은 500원 입니다\n",
            "투입할 금액을 입력하세요: 500\n",
            "음료가 준비되었습니다 챙겨가세요!\n",
            "<자판기>\n",
            "1. Coffe 2. Hot Milk 3. Monster \n",
            "\n",
            "원하시는 음료의 번호를 입력하세요(4번은 종료): 1\n",
            "Coffe을 선택하셧습니다 가격은 500원 입니다\n",
            "투입할 금액을 입력하세요: 700\n",
            "200원을 거슬러 드렸습니다 음료수를 챙겨가세요!\n",
            "<자판기>\n",
            "1. Coffe 2. Hot Milk 3. Monster \n",
            "\n",
            "원하시는 음료의 번호를 입력하세요(4번은 종료): 3\n",
            "Monster을 선택하셧습니다 가격은 700원 입니다\n",
            "투입할 금액을 입력하세요: 700\n",
            "음료가 준비되었습니다 챙겨가세요!\n",
            "<자판기>\n",
            "1. Coffe 2. Hot Milk 3. Monster \n",
            "\n",
            "원하시는 음료의 번호를 입력하세요(4번은 종료): 1\n",
            "Coffe을 선택하셧습니다 가격은 500원 입니다\n",
            "투입할 금액을 입력하세요: 5000\n",
            "4500원을 거슬러 드렸습니다 음료수를 챙겨가세요!\n",
            "<자판기>\n",
            "1. Coffe 2. Hot Milk 3. Monster \n",
            "\n",
            "원하시는 음료의 번호를 입력하세요(4번은 종료): 1\n",
            "Coffe을 선택하셧습니다 가격은 500원 입니다\n",
            "투입할 금액을 입력하세요: 7000\n",
            "6500원을 거슬러 드렸습니다 음료수를 챙겨가세요!\n",
            "<자판기>\n",
            "1. Coffe 2. Hot Milk 3. Monster \n",
            "\n",
            "원하시는 음료의 번호를 입력하세요(4번은 종료): 1\n",
            "Coffe을 선택하셧습니다 가격은 500원 입니다\n",
            "투입할 금액을 입력하세요: 90000\n",
            "89500원을 거슬러 드렸습니다 음료수를 챙겨가세요!\n",
            "<자판기>\n",
            "1. Coffe 2. Hot Milk 3. Monster \n",
            "\n",
            "원하시는 음료의 번호를 입력하세요(4번은 종료): 1\n",
            "남아있는 음료가 없습니다!\n",
            "<자판기>\n",
            "1. Coffe 2. Hot Milk 3. Monster \n",
            "\n",
            "원하시는 음료의 번호를 입력하세요(4번은 종료): 4\n"
          ]
        }
      ]
    },
    {
      "cell_type": "code",
      "source": [],
      "metadata": {
        "id": "RQMUb_41CZiQ"
      },
      "execution_count": null,
      "outputs": []
    }
  ]
}