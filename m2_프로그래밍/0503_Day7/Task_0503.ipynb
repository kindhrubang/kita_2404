{
  "nbformat": 4,
  "nbformat_minor": 0,
  "metadata": {
    "colab": {
      "provenance": [],
      "toc_visible": true
    },
    "kernelspec": {
      "name": "python3",
      "display_name": "Python 3"
    },
    "language_info": {
      "name": "python"
    }
  },
  "cells": [
    {
      "cell_type": "markdown",
      "source": [
        "Task1_0503. 여러개의 음식을 동시에 주문할 수 있는 주문 시스템을 작성하세요.(구조 지향)"
      ],
      "metadata": {
        "id": "dTSlBhIzDN_H"
      }
    },
    {
      "cell_type": "code",
      "execution_count": null,
      "metadata": {
        "id": "qmY0sGNaDDhE"
      },
      "outputs": [],
      "source": [
        "# global <= 전역변수 설정 수정해야됨@@@@@@@@@@@@@@@@@@@\n",
        "def display_menu():\n",
        "    print(\"\\nKITA 식당에 오신 것을 환영합니다\")\n",
        "    print(\"\\n\" + \"=\" * 40)\n",
        "    print(\"\\n          - 메  뉴 -\")\n",
        "    print(\"    1. 불고기 비빔밥 : 12,000원\")\n",
        "    print(\"    2. 야채 비빔밥 : 8,000원\")\n",
        "    print(\"    3. 전주 비빔밥 : 10,000원\")\n",
        "    print(\"\\n    세트 주문시 : 3,000원 추가\")\n",
        "    print(\"    (세트는 밥과 반찬이 추가됩니다.)\")\n",
        "    print(\"\\n\" + \"=\" * 40)\n",
        "\n",
        "\n",
        "def order():\n",
        "    # 메뉴별 가격을 설정한다.\n",
        "    prices = {1: 12000, 2: 8000, 3: 10000}\n",
        "\n",
        "    # 사용자로부터 메뉴 선택을 받는다.\n",
        "    menu_choice = int(input(\"\\n비빔밥 메뉴를 선택해 주세요. 1, 2, 3 >>> \"))\n",
        "\n",
        "    # 사용자가 선택한 메뉴의 가격을 가져온다.\n",
        "    total_price = prices.get(menu_choice, 0)\n",
        "\n",
        "    # 세트 주문 여부를 확인한다.\n",
        "    set_order = input(\"세트 주문을 하시겠습니까? 3,000원 추가. y, n >>> \").lower()\n",
        "    if set_order == 'y':\n",
        "        total_price += 3000\n",
        "\n",
        "    print(f\"총 금액은 {total_price}원 입니다.\")\n",
        "\n",
        "\n",
        "def main():\n",
        "    while True:\n",
        "        display_menu()\n",
        "        order()\n",
        "\n",
        "        # 계속 주문하거나 종료 여부를 확인한다.\n",
        "        continue_ordering = input(\"\\n다시 주문하시겠습니까? (주문: enter, 종료: '종료' 입력) >>> \")\n",
        "        if continue_ordering == '종료':\n",
        "            break\n",
        "\n",
        "    print(\"\\n감사합니다! 다음에 또 방문해 주세요.\")\n",
        "\n",
        "\n",
        "if __name__ == \"__main__\":\n",
        "    main()"
      ]
    },
    {
      "cell_type": "markdown",
      "source": [
        "Task2_0503. 내장함수 5개를 활용해서 사용자 함수로 간단한 프로그램을 만드세요.\n",
        "\n",
        "[예시] 문서관리 프로그램\n",
        "\n",
        "len() - 문자열의 길이를 계산합니다.\\\n",
        "input() - 사용자로부터 입력을 받습니다.\\\n",
        "print() - 결과를 출력합니다.\\\n",
        "sum() - 주어진 조건에 따라 특정 개수를 계산합니다.\\\n",
        "Counter (from collections) - 문자의 빈도수를 계산합니다.\\"
      ],
      "metadata": {
        "id": "1z_xp244UTs_"
      }
    },
    {
      "cell_type": "code",
      "source": [
        "def main():\n",
        "    tool = opening()\n",
        "\n",
        "    if tool == 1:\n",
        "        text_list.append(text_reg())\n",
        "\n",
        "    elif tool == 2:\n",
        "        text_len_sum(text_list)\n",
        "\n",
        "    elif tool == 3:\n",
        "\n",
        "        text_print(text_list)\n",
        "    else:\n",
        "        print('입력오류!')\n",
        "        return 0\n",
        "\n",
        "def text_reg():\n",
        "    text = input('원하시는 문자열을 입력하세요 :')\n",
        "    return text\n",
        "\n",
        "def text_len_sum(text_list):\n",
        "    global text_str\n",
        "    text_str = ''\n",
        "    for i in range(len(text_list)):\n",
        "        text_str = text_str+ text_list[i]\n",
        "    print(f'지금까지 입력하신 문자열의 길이는 {len(text_str)}입니다')\n",
        "\n",
        "\n",
        "def text_print(text_list):\n",
        "    text_str = ''\n",
        "    for i in range(len(text_list)):\n",
        "\n",
        "        text_str += text_list[i]\n",
        "    print(f'지금까지 입력하신 문자열은 \\n\\n\\n{text_str}')\n",
        "    return\n",
        "\n",
        "\n",
        "def opening():\n",
        "    print('\\n\\n|<문서 관리 프로그램>|\\n\\n')\n",
        "    print('1. 문자열 등록\\n2. 입력한 문자열 길이 구하기\\n3. 지금까지 작성한 문자열 확인\\n')\n",
        "    tool = int(input('원하시는 기능을 입력하세요 :'))\n",
        "    return tool\n",
        "\n",
        "text_list = []\n",
        "while 1 :\n",
        "    a = main()\n",
        "    if a == 0:\n",
        "        break"
      ],
      "metadata": {
        "colab": {
          "base_uri": "https://localhost:8080/"
        },
        "id": "f0idq1mmUXf-",
        "outputId": "f517e3ab-f351-4863-8abb-9f3216fb1281"
      },
      "execution_count": 9,
      "outputs": [
        {
          "output_type": "stream",
          "name": "stdout",
          "text": [
            "\n",
            "\n",
            "|<문서 관리 프로그램>|\n",
            "\n",
            "\n",
            "1. 문자열 등록\n",
            "2. 입력한 문자열 길이 구하기\n",
            "3. 지금까지 작성한 문자열 확인\n",
            "\n",
            "원하시는 기능을 입력하세요 :1\n",
            "원하시는 문자열을 입력하세요 :asd\n",
            "\n",
            "\n",
            "|<문서 관리 프로그램>|\n",
            "\n",
            "\n",
            "1. 문자열 등록\n",
            "2. 입력한 문자열 길이 구하기\n",
            "3. 지금까지 작성한 문자열 확인\n",
            "\n",
            "원하시는 기능을 입력하세요 :1\n",
            "원하시는 문자열을 입력하세요 :qwe\n",
            "\n",
            "\n",
            "|<문서 관리 프로그램>|\n",
            "\n",
            "\n",
            "1. 문자열 등록\n",
            "2. 입력한 문자열 길이 구하기\n",
            "3. 지금까지 작성한 문자열 확인\n",
            "\n",
            "원하시는 기능을 입력하세요 :2\n",
            "지금까지 입력하신 문자열의 길이는 6입니다\n",
            "\n",
            "\n",
            "|<문서 관리 프로그램>|\n",
            "\n",
            "\n",
            "1. 문자열 등록\n",
            "2. 입력한 문자열 길이 구하기\n",
            "3. 지금까지 작성한 문자열 확인\n",
            "\n",
            "원하시는 기능을 입력하세요 :3\n",
            "지금까지 입력하신 문자열은 \n",
            "\n",
            "\n",
            "asdqwe\n",
            "\n",
            "\n",
            "|<문서 관리 프로그램>|\n",
            "\n",
            "\n",
            "1. 문자열 등록\n",
            "2. 입력한 문자열 길이 구하기\n",
            "3. 지금까지 작성한 문자열 확인\n",
            "\n",
            "원하시는 기능을 입력하세요 :4\n",
            "입력오류!\n"
          ]
        }
      ]
    },
    {
      "cell_type": "markdown",
      "source": [
        "Task3_0503. 외장함수 3개 이상 활용해서 간단한 프로그램을 만드세요as"
      ],
      "metadata": {
        "id": "Wng6bhPTUnSO"
      }
    },
    {
      "cell_type": "code",
      "source": [
        "import random\n",
        "import time\n",
        "from google.colab import output\n",
        "\n",
        "\n",
        "\n",
        "rd = random.randint(1,3)\n",
        "for i in range(7):\n",
        "    num_list = random.sample([a for a in range(1,45)],7)\n",
        "def lotto(num_list):\n",
        "    print('이번주 복권 번호는?!?')\n",
        "    time.sleep(3)\n",
        "    output.clear()\n",
        "    for i in range(7):\n",
        "        time.sleep(2.5)\n",
        "        if i == 6:\n",
        "            print(f'마지막 뽀나스 숫자는~ : {num_list[i]}')\n",
        "        else:\n",
        "            print(f'{i+1}번째 숫자는 {num_list[i]}')\n",
        "            output.clear()\n",
        "\n",
        "\n",
        "lotto(num_list)"
      ],
      "metadata": {
        "colab": {
          "base_uri": "https://localhost:8080/"
        },
        "id": "lOQkOt-mWDc8",
        "outputId": "dc243bab-baba-4b0b-d843-d56ca92c60c0"
      },
      "execution_count": 17,
      "outputs": [
        {
          "output_type": "stream",
          "name": "stdout",
          "text": [
            "마지막 뽀나스 숫자는~ 9\n"
          ]
        }
      ]
    },
    {
      "cell_type": "markdown",
      "source": [
        "Task4_0503. 리스트를 작성하고 람다 함수를 이용해서 한번에 함수를 적용하여 결과값을 출력하세요."
      ],
      "metadata": {
        "id": "9hP5oWrrWDum"
      }
    },
    {
      "cell_type": "code",
      "source": [
        "numbers = [1,2,3,4,5]\n",
        "squared_numbers = map(lambda x: x*x, numbers)\n",
        "squared_numbers"
      ],
      "metadata": {
        "colab": {
          "base_uri": "https://localhost:8080/"
        },
        "id": "NXoe7i26WEsJ",
        "outputId": "7c86b895-2e7f-4e42-d30b-67b6b755d51b"
      },
      "execution_count": 4,
      "outputs": [
        {
          "output_type": "execute_result",
          "data": {
            "text/plain": [
              "<map at 0x7dd48b3257e0>"
            ]
          },
          "metadata": {},
          "execution_count": 4
        }
      ]
    },
    {
      "cell_type": "code",
      "source": [
        "strs = ['바보', '미남','고수', '초보']\n",
        "head_adept = map(lambda x : '나는 ' + x ,strs )\n",
        "\n",
        "for i in range(len(strs)):\n",
        "    print(next(head_adept))"
      ],
      "metadata": {
        "colab": {
          "base_uri": "https://localhost:8080/"
        },
        "id": "gr6UwkWNk0g_",
        "outputId": "3bf4965c-74d0-495c-a3ce-530a6d6c7793"
      },
      "execution_count": 20,
      "outputs": [
        {
          "output_type": "stream",
          "name": "stdout",
          "text": [
            "나는 바보\n",
            "나는 미남\n",
            "나는 고수\n",
            "나는 초보\n"
          ]
        }
      ]
    },
    {
      "cell_type": "markdown",
      "source": [
        "Task5_0503. 외부 라리브러리를 임포트해서 간단한 프로그램을 만드세요."
      ],
      "metadata": {
        "id": "mO-e3YYWWE71"
      }
    },
    {
      "cell_type": "code",
      "source": [
        "import numpy as np\n",
        "\n",
        "A = np.array([[0, 5],\n",
        "              [7, 1]])\n",
        "B = np.array([[2, 8],\n",
        "              [3, 0]])\n",
        "\n",
        "print(A * B)\n",
        "print()\n",
        "print(A - B)"
      ],
      "metadata": {
        "colab": {
          "base_uri": "https://localhost:8080/"
        },
        "id": "bqBjntNjWJnf",
        "outputId": "7f3a55e5-5c98-4d5c-f35e-c8f4fc454feb"
      },
      "execution_count": 27,
      "outputs": [
        {
          "output_type": "stream",
          "name": "stdout",
          "text": [
            "[[ 0 40]\n",
            " [21  0]]\n",
            "\n",
            "[[-2 -3]\n",
            " [ 4  1]]\n"
          ]
        }
      ]
    },
    {
      "cell_type": "code",
      "source": [],
      "metadata": {
        "id": "H_NGF_htnAvO"
      },
      "execution_count": null,
      "outputs": []
    }
  ]
}