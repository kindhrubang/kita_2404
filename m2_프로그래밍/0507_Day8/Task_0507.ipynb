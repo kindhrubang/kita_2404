{
  "nbformat": 4,
  "nbformat_minor": 0,
  "metadata": {
    "colab": {
      "provenance": [],
      "toc_visible": true
    },
    "kernelspec": {
      "name": "python3",
      "display_name": "Python 3"
    },
    "language_info": {
      "name": "python"
    }
  },
  "cells": [
    {
      "cell_type": "markdown",
      "source": [
        "Task1_0507. 튜플 형태인 strings를 다양한 문자가 포함된 순서로 정렬하세요\n",
        "\n",
        "strings = ('a','ca','bar',aaaa','ababa')"
      ],
      "metadata": {
        "id": "giNwC3hxsOb0"
      }
    },
    {
      "cell_type": "code",
      "source": [
        "strings = ('a' ,'ca' ,'bar','aaaa','ababa')\n",
        "strings_sorted = sorted(strings, key = lambda x: )"
      ],
      "metadata": {
        "id": "XPW4q2dOsWqf"
      },
      "execution_count": 2,
      "outputs": []
    },
    {
      "cell_type": "code",
      "execution_count": 19,
      "metadata": {
        "colab": {
          "base_uri": "https://localhost:8080/"
        },
        "id": "s2A9-r5jsH8v",
        "outputId": "e5afd311-7baf-48e8-f312-88ea0d104e14"
      },
      "outputs": [
        {
          "output_type": "stream",
          "name": "stdout",
          "text": [
            "<map object at 0x7fcf94b2f940>\n",
            "[{'a'}, {'c', 'a'}, {'a', 'b', 'r'}, {'a'}, {'a', 'b'}]\n",
            "[1, 2, 3, 1, 2]\n",
            "{'a': 1, 'ca': 2, 'bar': 3, 'aaaa': 1, 'ababa': 2}\n",
            "[('bar', 3), ('ca', 2), ('ababa', 2), ('a', 1), ('aaaa', 1)]\n",
            "['bar', 'ca', 'ababa', 'a', 'aaaa']\n"
          ]
        }
      ],
      "source": [
        "strings = ('a' ,'ca' ,'bar','aaaa','ababa')\n",
        "strings_map = map(lambda x: set(x), strings)\n",
        "new_str = []\n",
        "len_str = []\n",
        "new_dic = {}\n",
        "print(strings_map)\n",
        "for i in range(len(strings)):\n",
        "    new_str.append(next(strings_map))\n",
        "print(new_str)\n",
        "for i in range(len(new_str)):\n",
        "    len_str.append(len(new_str[i]))\n",
        "print(len_str)\n",
        "a= 0\n",
        "for i in strings:\n",
        "    new_dic[i] = len_str[a]\n",
        "    a += 1\n",
        "\n",
        "print(new_dic)\n",
        "dic_sorted = sorted(new_dic.items(), key = lambda x:x[1],reverse=True)\n",
        "print(dic_sorted)\n",
        "\n",
        "output = []\n",
        "for i in range(len(dic_sorted)):\n",
        "    output.append(dic_sorted[i][0])\n",
        "\n",
        "print(output)"
      ]
    },
    {
      "cell_type": "markdown",
      "source": [
        "Task2_0507. a,b 변수와 연산자를 입력하면 사칙연산을 수행하는 코드를 작성하세요.(eval 사용하는 경우와 안하는 경우)"
      ],
      "metadata": {
        "id": "ddDvm-e8wizA"
      }
    },
    {
      "cell_type": "code",
      "source": [
        "print(eval(input('연산거리 주세요 : ')))"
      ],
      "metadata": {
        "colab": {
          "base_uri": "https://localhost:8080/"
        },
        "id": "QFd8ELGvtNYV",
        "outputId": "bde0f293-3e0c-4a1d-8ffc-620566b060eb"
      },
      "execution_count": 9,
      "outputs": [
        {
          "output_type": "stream",
          "name": "stdout",
          "text": [
            "연산거리 주세요 : 5*5\n",
            "25\n"
          ]
        }
      ]
    },
    {
      "cell_type": "code",
      "source": [
        "cd = input('연산거리 주세요 : ')\n",
        "rp = cd.replace(\" \", \"\")\n",
        "\n",
        "type(rp)\n",
        "new = list(rp)\n",
        "if new[1] == '+':\n",
        "    print(int(new[0]) + int(new[2]))\n",
        "elif new[1] == '-':\n",
        "    print(int(new[0]) - int(new[2]))\n",
        "elif new[1] == '/':\n",
        "    print(int(new[0]) / int(new[2]))\n",
        "elif new[1] == '*':\n",
        "    print(int(new[0]) * int(new[2]))"
      ],
      "metadata": {
        "colab": {
          "base_uri": "https://localhost:8080/"
        },
        "id": "kHKoMCdUyJda",
        "outputId": "e3a632fb-a886-4605-cabb-748e72581708"
      },
      "execution_count": 6,
      "outputs": [
        {
          "output_type": "stream",
          "name": "stdout",
          "text": [
            "연산거리 주세요 : 5  - 4\n",
            "1\n"
          ]
        }
      ]
    },
    {
      "cell_type": "markdown",
      "source": [
        "Task3_0507. list1에 대해서 아래와 같이 출력하는 코드를 작성하세요.\n",
        "\n",
        "인사평가 1번째 해당자는 김부장입니다. 회의실A로 오시기 바랍니다.\\\n",
        "인사평가 2번째 해당자는 이차장입니다. 회의실A로 오시기 바랍니다.\\\n",
        "인사평가 3번째 해당자는 김과장입니다. 회의실A로 오시기 바랍니다.\\\n",
        "인사평가 4번째 해당자는 이대리입니다. 회의실A로 오시기 바랍니다.\\\n",
        "인사평가 5번째 해당자는 오사원입니다. 회의실A로 오시기 바랍니다.\\\n",
        "인사평가 6번째 해당자는 김인턴입니다. 회의실A로 오시기 바랍니다"
      ],
      "metadata": {
        "id": "E1XUezCEzZqO"
      }
    },
    {
      "cell_type": "code",
      "source": [
        "list1 = ['김부장', '이차장', '김과장', '이대리', '오사원', '김인턴']\n",
        "\n",
        "for idx, element in enumerate(list1):\n",
        "    print(f'인사평가 {idx +1}번째 해당자는 {element}입니다. 회의실 A로 오시기 바랍니다.')"
      ],
      "metadata": {
        "colab": {
          "base_uri": "https://localhost:8080/"
        },
        "id": "f1sZF_-IyVXc",
        "outputId": "cc069e0f-d3f8-4907-a229-0813cb37fd88"
      },
      "execution_count": 43,
      "outputs": [
        {
          "output_type": "stream",
          "name": "stdout",
          "text": [
            "인사평가 1번째 해당자는 김부장입니다. 회의실 A로 오시기 바랍니다.\n",
            "인사평가 2번째 해당자는 이차장입니다. 회의실 A로 오시기 바랍니다.\n",
            "인사평가 3번째 해당자는 김과장입니다. 회의실 A로 오시기 바랍니다.\n",
            "인사평가 4번째 해당자는 이대리입니다. 회의실 A로 오시기 바랍니다.\n",
            "인사평가 5번째 해당자는 오사원입니다. 회의실 A로 오시기 바랍니다.\n",
            "인사평가 6번째 해당자는 김인턴입니다. 회의실 A로 오시기 바랍니다.\n"
          ]
        }
      ]
    },
    {
      "cell_type": "markdown",
      "source": [
        "Task4_0507. 주어진 문자열 리스트의 요소들을 대문자로 변환하세요.\n",
        "\n",
        "words = [\"hello\", \"world\", \"python\", \"map\"]"
      ],
      "metadata": {
        "id": "ynafj6aozvRn"
      }
    },
    {
      "cell_type": "code",
      "source": [
        "words = [\"hello\", \"world\", \"python\", \"map\"]\n",
        "new_words = []\n",
        "upper_words = map(lambda x: x.upper(),words)\n",
        "for i in range(len(words)):\n",
        "    new_words.append(next(upper_words))\n",
        "\n",
        "print(new_words)"
      ],
      "metadata": {
        "colab": {
          "base_uri": "https://localhost:8080/"
        },
        "id": "TUAT89eBzvw-",
        "outputId": "7e2680f6-7d70-4c2e-9be9-2b57ef496ab2"
      },
      "execution_count": 42,
      "outputs": [
        {
          "output_type": "stream",
          "name": "stdout",
          "text": [
            "['HELLO', 'WORLD', 'PYTHON', 'MAP']\n"
          ]
        }
      ]
    },
    {
      "cell_type": "markdown",
      "source": [
        "Task5_0507. 주어진 리스트에서 'p'로 시작하는 단어만 필터링하세요.\n",
        "\n",
        "words = [\"python\", \"is\", \"powerful\", \"programming\", \"language\", \"pandas\"]"
      ],
      "metadata": {
        "id": "1HC0mjU00Cml"
      }
    },
    {
      "cell_type": "code",
      "source": [
        "words = [\"python\", \"is\", \"powerful\", \"programming\", \"language\", \"pandas\"]\n",
        "p_words = []\n",
        "for i in range(len(words)):\n",
        "    if words[i][0] == 'p':\n",
        "        p_words.append(words[i])\n",
        "\n",
        "print(p_words)"
      ],
      "metadata": {
        "colab": {
          "base_uri": "https://localhost:8080/"
        },
        "id": "_-L_j6bH0DNU",
        "outputId": "9772bf65-c5be-4d17-f8fd-725d260a9e81"
      },
      "execution_count": 40,
      "outputs": [
        {
          "output_type": "stream",
          "name": "stdout",
          "text": [
            "['python', 'powerful', 'programming', 'pandas']\n"
          ]
        }
      ]
    },
    {
      "cell_type": "markdown",
      "source": [
        "Task6_0507. 내장함수를 이용해서 list = [0,1,2,3,4,5,6]에서 2를 삭제 후 출력하세요.(2가지 방법)"
      ],
      "metadata": {
        "id": "eob7jzd70Mfm"
      }
    },
    {
      "cell_type": "code",
      "source": [
        "list = [0,1,2,3,4,5,6]\n",
        "list.pop(2)\n",
        "print(list)"
      ],
      "metadata": {
        "colab": {
          "base_uri": "https://localhost:8080/"
        },
        "id": "y2Ma-A990NB_",
        "outputId": "c264e752-3585-45fc-8958-9a2009c84596"
      },
      "execution_count": 14,
      "outputs": [
        {
          "output_type": "stream",
          "name": "stdout",
          "text": [
            "[0, 1, 3, 4, 5, 6]\n"
          ]
        }
      ]
    },
    {
      "cell_type": "code",
      "source": [
        "list = [0,1,2,3,4,5,6]\n",
        "list.remove(2)\n",
        "print(list)"
      ],
      "metadata": {
        "colab": {
          "base_uri": "https://localhost:8080/"
        },
        "id": "cyN5AVEk0SRW",
        "outputId": "51f63d26-ef4a-46a3-ee35-6f15bd951710"
      },
      "execution_count": 15,
      "outputs": [
        {
          "output_type": "stream",
          "name": "stdout",
          "text": [
            "[0, 1, 3, 4, 5, 6]\n"
          ]
        }
      ]
    },
    {
      "cell_type": "code",
      "source": [],
      "metadata": {
        "id": "3t2vgFyB0g8g"
      },
      "execution_count": null,
      "outputs": []
    },
    {
      "cell_type": "markdown",
      "source": [
        "Task7_0507. 내장함수를 이용하여 동일한 개수로 이루어진 자료형을 화살표 좌측에서 우측으로 변환하세요.\n",
        "\n",
        "[1,2,3],[4,5,6] -> [(1,4),(2,5),(3,6)]\\\n",
        "[1,2,3],[4,5,6] [7,8,9] -> [(1,4,7),(2,5,8),(3,6,9)]\\\n",
        "('abc','def') -> [('a','d'),('b','e'),('c','f')]"
      ],
      "metadata": {
        "id": "T0zQcCrm2I23"
      }
    },
    {
      "cell_type": "code",
      "source": [
        "a = [1,2,3]\n",
        "b = [4,5,6]\n",
        "c = [7,8,9]\n",
        "result = []\n",
        "for i in range(3):\n",
        "    result.append((a[i],b[i]))\n",
        "print(result)"
      ],
      "metadata": {
        "colab": {
          "base_uri": "https://localhost:8080/"
        },
        "id": "k4JGqXWR2Jw6",
        "outputId": "50646c05-ac63-407e-8c4d-6eeea9505126"
      },
      "execution_count": 18,
      "outputs": [
        {
          "output_type": "stream",
          "name": "stdout",
          "text": [
            "[(1, 4), (2, 5), (3, 6)]\n"
          ]
        }
      ]
    },
    {
      "cell_type": "code",
      "source": [
        "a = [1,2,3]\n",
        "b = [4,5,6]\n",
        "c = [7,8,9]\n",
        "result = []\n",
        "for i in range(3):\n",
        "    result.append((a[i],b[i],c[i]))\n",
        "print(result)"
      ],
      "metadata": {
        "colab": {
          "base_uri": "https://localhost:8080/"
        },
        "id": "yaSzc1dY3SrX",
        "outputId": "9f58032e-949b-4df7-a1d0-0f54a3400d6e"
      },
      "execution_count": 19,
      "outputs": [
        {
          "output_type": "stream",
          "name": "stdout",
          "text": [
            "[(1, 4, 7), (2, 5, 8), (3, 6, 9)]\n"
          ]
        }
      ]
    },
    {
      "cell_type": "code",
      "source": [
        "asd = ('abc','def')\n",
        "qwe = []\n",
        "for i in range(3):\n",
        "    qwe.append((asd[0][i],asd[1][i]))\n",
        "print((qwe))"
      ],
      "metadata": {
        "colab": {
          "base_uri": "https://localhost:8080/"
        },
        "id": "lFQ4lbYa3YJJ",
        "outputId": "05aac8e5-460c-46a5-cdfd-7fe0a9074955"
      },
      "execution_count": 22,
      "outputs": [
        {
          "output_type": "stream",
          "name": "stdout",
          "text": [
            "[('a', 'd'), ('b', 'e'), ('c', 'f')]\n"
          ]
        }
      ]
    },
    {
      "cell_type": "markdown",
      "source": [
        "Task8_0507. url에서 호스트 도메인(news.naver.com)을 추출하여 출력하세요.\n",
        "\n",
        "url = 'http://news.naver.com/main/read.nhn?mode=LSD&mid=shm&sid1=105&oid=028&aid=0002334601'"
      ],
      "metadata": {
        "id": "49jJEfAU2LyY"
      }
    },
    {
      "cell_type": "code",
      "source": [
        "import requests\n",
        "from bs4 import BeautifulSoup\n",
        "\n",
        "def fetch_website_content(url):\n",
        "\n",
        "    response = requests.get(url)\n",
        "    if response.status_code == 200:\n",
        "\n",
        "        soup = BeautifulSoup(response.text, 'html.parser')\n",
        "        li = soup.select_one('li')\n",
        "        a = li.a\n",
        "        path1 = a['href']\n",
        "        print(\"Host domain:\", path1 if soup.title else \"No title found\")\n",
        "    else:\n",
        "        print(\"failed to retrieve the webpage\")\n",
        "        print(\"Status code:\", response.status_code)\n",
        "\n",
        "if __name__ == \"__main__\":\n",
        "    url = input('url을 복붙하세요 >>>')\n",
        "    fetch_website_content(url)"
      ],
      "metadata": {
        "colab": {
          "base_uri": "https://localhost:8080/"
        },
        "id": "lbS7tdr-2MO3",
        "outputId": "5b14be4d-15d1-447a-f2c9-f8d8a16b7ce4"
      },
      "execution_count": 39,
      "outputs": [
        {
          "output_type": "stream",
          "name": "stdout",
          "text": [
            "url을 복붙하세요 >>>https://n.news.naver.com/mnews/article/028/0002334601?sid=105\n",
            "Host domain: https://news.naver.com/\n"
          ]
        }
      ]
    },
    {
      "cell_type": "code",
      "source": [],
      "metadata": {
        "id": "uM1iHS_n-drr"
      },
      "execution_count": null,
      "outputs": []
    }
  ]
}
