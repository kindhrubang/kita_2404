{
  "nbformat": 4,
  "nbformat_minor": 0,
  "metadata": {
    "colab": {
      "provenance": []
    },
    "kernelspec": {
      "name": "python3",
      "display_name": "Python 3"
    },
    "language_info": {
      "name": "python"
    }
  },
  "cells": [
    {
      "cell_type": "markdown",
      "source": [
        "NumPy는 “Numerical Python“의 약자로 대규모 다차원 배열과 행렬 연산에 필요한 다양한 함수를 제공\n",
        "* Numerical Python을 의미하는 NumPy는 파이썬에서 선형대수 기반의 프로그램을 쉽게 만들 수 있도록 지원하는 대표적인 패키지\n",
        "* 많은 머신러닝 알고리즘이 넘파이 기반으로 작성돼 있으며 알고리즘의 입출력 데이터를 넘파이 배열 타입으로 사용함\n",
        "* 넘파이의 기본 데이터 타입은 ndarray. ndarray를 이용해 넘파이에서 다차원 배열을 쉽게 생성하고 다양한 연산 수행\n",
        "\n",
        "1. NumPy 기본 개념\n",
        "  - NumPy는 과학 계산을 위한 Python 라이브러리.\n",
        "  - 다차원 배열 객체인 ndarray를 중심으로 작동.\n",
        "  - 벡터화 연산, 브로드캐스팅 기능을 제공.\n",
        "\n",
        "2. NumPy 배열 생성 및 조작\n",
        "  - np.array(): 리스트나 튜플로부터 배열 생성.\n",
        "  - np.arange(), np.linspace(): 연속된 값으로 배열 생성.\n",
        "  - 배열의 형태 변경: reshape(), flatten() 등.\n",
        "\n",
        "3. 배열 인덱싱 및 슬라이싱\n",
        "  - 배열 요소에 접근하고 수정하는 방법.\n",
        "  - 슬라이싱을 사용해 배열의 부분집합 추출.\n",
        "\n",
        "4. NumPy의 수학적 연산\n",
        "  - 기본 수학 연산: 덧셈, 뺄셈, 곱셈, 나눗셈.\n",
        "  - 통계 연산: mean(), median(), std(), sum() 등.\n",
        "  - 선형 대수 연산: 내적, 외적, 행렬 곱셈.\n",
        "\n",
        "5. 브로드캐스팅:\n",
        "  - 서로 다른 크기의 배열 간 연산을 가능하게 하는 기능.\n",
        "  - 브로드캐스팅 규칙 이해 및 적용.\n",
        "\n",
        "6. 부울 인덱싱 및 팬시 인덱싱\n",
        "  - 조건에 맞는 데이터 선택.\n",
        "  - 특정 인덱스 집합에 대한 데이터 접근.\n",
        "\n",
        "7. 파일 입출력\n",
        "  - NumPy 배열을 파일로 저장하고 불러오기: np.save(), np.load().\n",
        "\n",
        "8. 실용적 예제: 데이터 분석에 NumPy 활용\n",
        "  - 실제 데이터셋을 가지고 기본적인 데이터 처리 및 분석 수행.\n",
        "\n",
        "Numpy Documentation  "
      ],
      "metadata": {
        "id": "3ONVPkA1yoUD"
      }
    },
    {
      "cell_type": "code",
      "execution_count": 1,
      "metadata": {
        "colab": {
          "base_uri": "https://localhost:8080/"
        },
        "id": "2KW7UtrqtLno",
        "outputId": "0c0b081c-7282-4d67-9949-ed1bb0f532ac"
      },
      "outputs": [
        {
          "output_type": "stream",
          "name": "stdout",
          "text": [
            "Original array: [1 2 3 4]\n",
            "Array + 2 : [3 4 5 6]\n",
            "Array squard : [ 1  4  9 16]\n",
            "Mean of array: 2.5\n"
          ]
        }
      ],
      "source": [
        "# 배열 생성 및 기본 작업\n",
        "import numpy as np\n",
        "\n",
        "#Creating a NumPy array\n",
        "array = np.array([1,2,3,4])\n",
        "\n",
        "# Basic operations\n",
        "print('Original array:', array)\n",
        "print('Array + 2 :', array+2)\n",
        "print('Array squard :', array**2)\n",
        "\n",
        "\n",
        "# Basic statistics\n",
        "print('Mean of array:', np.mean(array))"
      ]
    },
    {
      "cell_type": "code",
      "source": [
        "# 배열 생성 및 속성 탐색:\n",
        "# Create a ID array from a list\n",
        "array_1d = np.array([3,6,9,12])\n",
        "print(\" ID Array:\", array_1d)\n",
        "\n",
        "# Array attributes\n",
        "print(\"Shape:\", array_1d.shape)\n",
        "print(\"Size:\", array_1d.size)\n",
        "print(\"Type:\", array_1d.dtype)\n",
        "\n",
        "# Create a 2D array using a nested list\n",
        "array_2d = np.array([[1,2,3,],[4,5,6]])\n",
        "print(\"\\n 2D Array: \\n:\", array_2d.shape)\n",
        "print(\"Shape:\", array_2d.size)\n",
        "print(\"Shape:\", array_2d.dtype)"
      ],
      "metadata": {
        "colab": {
          "base_uri": "https://localhost:8080/"
        },
        "id": "2DNtpSnk2oAE",
        "outputId": "2a8a516c-ea94-452c-f246-bb95a6a6c5c9"
      },
      "execution_count": 2,
      "outputs": [
        {
          "output_type": "stream",
          "name": "stdout",
          "text": [
            " ID Array: [ 3  6  9 12]\n",
            "Shape: (4,)\n",
            "Size: 4\n",
            "Type: int64\n",
            "\n",
            " 2D Array: \n",
            ": (2, 3)\n",
            "Shape: 6\n",
            "Shape: int64\n"
          ]
        }
      ]
    },
    {
      "cell_type": "code",
      "source": [
        "print(array_1d, '\\n')\n",
        "print(array_2d)"
      ],
      "metadata": {
        "colab": {
          "base_uri": "https://localhost:8080/"
        },
        "id": "7yO8L_VA6_at",
        "outputId": "d4d53715-9911-4bdb-8fbb-9cf3e70caf96"
      },
      "execution_count": 3,
      "outputs": [
        {
          "output_type": "stream",
          "name": "stdout",
          "text": [
            "[ 3  6  9 12] \n",
            "\n",
            "[[1 2 3]\n",
            " [4 5 6]]\n"
          ]
        }
      ]
    },
    {
      "cell_type": "code",
      "source": [
        "# 인덱싱 및 슬라이싱:\n",
        "#indexing\n",
        "print('\\nElement at index:', array_1d[2])\n",
        "\n",
        "# Slicing\n",
        "print('Elements from index 1 to 3:', array_1d[1:4])\n",
        "\n",
        "# 2D Array Indexing\n",
        "print(\"\\nElement in 2nd row, 3rd column:\", array_2d[1,2])\n",
        "\n",
        "#Slicing in 2d\n",
        "print(\"First row:\", array_2d[0,:])\n",
        "print(\"first row:\", array_2d[0])\n",
        "print(\"first column:\", array_2d[:,0])\n",
        "print(\"first column:\", array_2d[:,:])\n"
      ],
      "metadata": {
        "colab": {
          "base_uri": "https://localhost:8080/"
        },
        "id": "uNF66vjo7DOh",
        "outputId": "7350c63d-adc7-49d8-91a5-c508949c370e"
      },
      "execution_count": 4,
      "outputs": [
        {
          "output_type": "stream",
          "name": "stdout",
          "text": [
            "\n",
            "Element at index: 9\n",
            "Elements from index 1 to 3: [ 6  9 12]\n",
            "\n",
            "Element in 2nd row, 3rd column: 6\n",
            "First row: [1 2 3]\n",
            "first row: [1 2 3]\n",
            "first column: [1 4]\n",
            "first column: [[1 2 3]\n",
            " [4 5 6]]\n"
          ]
        }
      ]
    },
    {
      "cell_type": "code",
      "source": [
        "# Creating two arrays\n",
        "a= np.array([1,2,3])\n",
        "b= np.array([4,5,6])\n",
        "\n",
        "#Addition\n",
        "print(\"Addition:\",a+b)\n",
        "\n",
        "#Subtraction\n",
        "print(\"Subtraction:\", a-b)\n",
        "\n",
        "# Element-wise multiplication\n",
        "print(\"Multiplcation:\", a*b)\n",
        "\n",
        "# Division\n",
        "print(\"Division:\",a/b)"
      ],
      "metadata": {
        "colab": {
          "base_uri": "https://localhost:8080/"
        },
        "id": "GQnUFi2p7o2W",
        "outputId": "c40571b1-a99f-490f-d286-d674894783e5"
      },
      "execution_count": 5,
      "outputs": [
        {
          "output_type": "stream",
          "name": "stdout",
          "text": [
            "Addition: [5 7 9]\n",
            "Subtraction: [-3 -3 -3]\n",
            "Multiplcation: [ 4 10 18]\n",
            "Division: [0.25 0.4  0.5 ]\n"
          ]
        }
      ]
    },
    {
      "cell_type": "code",
      "source": [
        "array = np.array([1,2,3,4])\n",
        "\n",
        "print('따블', array**2)"
      ],
      "metadata": {
        "colab": {
          "base_uri": "https://localhost:8080/"
        },
        "id": "lLfYMahh9Ybl",
        "outputId": "60d20f74-666c-4d0c-8557-a48fca7449b7"
      },
      "execution_count": 6,
      "outputs": [
        {
          "output_type": "stream",
          "name": "stdout",
          "text": [
            "따블 [ 1  4  9 16]\n"
          ]
        }
      ]
    },
    {
      "cell_type": "markdown",
      "source": [
        "#### 파이썬 리스트와 넘파이 배열의 주요 차이점\n",
        "\n",
        "데이터 타입:\n",
        "- 파이썬 리스트: 다양한 타입의 데이터를 저장할 수 있다. 즉, 하나의 리스트에 정수, 문자열, 객체 등 다양한 타입의 요소를 포함할 수 있다.\n",
        "- 넘파이 배열: 모든 요소가 동일한 데이터 타입을 가져야 한다. 이는 메모리 사용과 계산 속도를 최적화하는 데 도움이 된다.\n",
        "\n",
        "메모리 사용:\n",
        "- 파이썬 리스트: 비연속적으로 메모리에 요소를 저장. 각 요소는 객체로서 별도의 메모리 공간을 차지하며, 리스트는 이러한 객체들의 참조를 저장.\n",
        "- 넘파이 배열: 모든 요소가 연속된 메모리 블록에 저장. 이는 데이터 접근과 조작을 더 빠르고 효율적으로 만든다.\n",
        "\n",
        "성능:\n",
        "- 파이썬 리스트: 다양한 타입의 데이터를 유연하게 처리할 수 있지만, 이로 인해 넘파이 배열에 비해 연산 속도가 느릴 수 있다.\n",
        "- 넘파이 배열: 수학적이고 과학적인 계산에 최적화되어 있으며, 특히 대량의 데이터를 다룰 때 높은 성능을 제공.\n",
        "\n",
        "크기 조정:\n",
        "- 파이썬 리스트: 동적으로 크기가 조정. 요소를 추가하거나 제거하면 리스트의 크기가 자동으로 변경.\n",
        "- 넘파이 배열: 고정된 크기를 가진다. 배열의 크기를 변경하려면 새로운 배열을 생성하고 기존 데이터를 복사해야 한다.\n",
        "\n",
        "다양한 기능과 연산:\n",
        "- 파이썬 리스트: 기본적인 연산과 기능을 제공.\n",
        "- 넘파이 배열: 다차원 배열을 지원하며, 선형대수, 통계, 푸리에 변환 등 고급 수학적 및 과학적 연산을 위한 광범위한 함수와 메서드를 제공.\n",
        "\n",
        "용도:\n",
        "- 파이썬 리스트: 일반적인 프로그래밍 작업 및 다양한 타입의 데이터를 유연하게 관리할 때 사용.\n",
        "- 넘파이 배열: 과학 계산, 데이터 분석, 대규모 수치 연산 등에서 주로 사용.\n",
        "\n",
        "결론적으로, 파이썬 리스트는 유연성과 범용성에 초점을 맞추고 있으며, 넘파이 배열은 고성능 수치 계산과 데이터 처리에 최적화되어 있다."
      ],
      "metadata": {
        "id": "5rWbfSNF_RCF"
      }
    },
    {
      "cell_type": "code",
      "source": [
        "li = [1,'a']\n",
        "print(f1,type(li))"
      ],
      "metadata": {
        "colab": {
          "base_uri": "https://localhost:8080/",
          "height": 165
        },
        "id": "wVLK83QT9d73",
        "outputId": "a83bed4c-2284-4507-8cd5-d213c9d0526f"
      },
      "execution_count": 7,
      "outputs": [
        {
          "output_type": "error",
          "ename": "NameError",
          "evalue": "name 'f1' is not defined",
          "traceback": [
            "\u001b[0;31m---------------------------------------------------------------------------\u001b[0m",
            "\u001b[0;31mNameError\u001b[0m                                 Traceback (most recent call last)",
            "\u001b[0;32m<ipython-input-7-2d0f90c22e8e>\u001b[0m in \u001b[0;36m<cell line: 2>\u001b[0;34m()\u001b[0m\n\u001b[1;32m      1\u001b[0m \u001b[0mli\u001b[0m \u001b[0;34m=\u001b[0m \u001b[0;34m[\u001b[0m\u001b[0;36m1\u001b[0m\u001b[0;34m,\u001b[0m\u001b[0;34m'a'\u001b[0m\u001b[0;34m]\u001b[0m\u001b[0;34m\u001b[0m\u001b[0;34m\u001b[0m\u001b[0m\n\u001b[0;32m----> 2\u001b[0;31m \u001b[0mprint\u001b[0m\u001b[0;34m(\u001b[0m\u001b[0mf1\u001b[0m\u001b[0;34m,\u001b[0m\u001b[0mtype\u001b[0m\u001b[0;34m(\u001b[0m\u001b[0mli\u001b[0m\u001b[0;34m)\u001b[0m\u001b[0;34m)\u001b[0m\u001b[0;34m\u001b[0m\u001b[0;34m\u001b[0m\u001b[0m\n\u001b[0m",
            "\u001b[0;31mNameError\u001b[0m: name 'f1' is not defined"
          ]
        }
      ]
    },
    {
      "cell_type": "code",
      "source": [
        "ar = np.array([1,'a'])\n",
        "print(ar,type(ar))"
      ],
      "metadata": {
        "id": "-iMPbE7H_hFF"
      },
      "execution_count": null,
      "outputs": []
    },
    {
      "cell_type": "code",
      "source": [
        "z = np.arange(10)\n",
        "print(z)\n",
        "print(z.size)\n",
        "print(z.itemsize)"
      ],
      "metadata": {
        "id": "dnX-hlSI_ytW"
      },
      "execution_count": null,
      "outputs": []
    },
    {
      "cell_type": "code",
      "source": [
        "z = np.arange(5)\n",
        "print(f'{z.size*z.itemsize} bytes')"
      ],
      "metadata": {
        "id": "NYQiQyL9AbBN"
      },
      "execution_count": null,
      "outputs": []
    },
    {
      "cell_type": "code",
      "source": [
        "# Numpy 는 내부적으로 데이터를 다른 내장 파이썬 객체와 구분된 연속된 메모리 블록에 저장\n",
        "import numpy as np\n",
        "my_arr = np.arange(10000000)\n",
        "my_list = list(range(1000000))"
      ],
      "metadata": {
        "id": "bmVSFKlVAkUD"
      },
      "execution_count": null,
      "outputs": []
    },
    {
      "cell_type": "code",
      "source": [
        "#  \"_\"은 값을 무시하고 싶은 경우 사용(여기서는 인덱스 무시)\n",
        "# %time는 뒤따르는 한 줄의 코드 실행 시간을 측정하는 매직 명령어\n",
        "%time for _ in range(10): my_array2 = my_arr *2\n"
      ],
      "metadata": {
        "id": "XFhbQd-wBphZ"
      },
      "execution_count": null,
      "outputs": []
    },
    {
      "cell_type": "code",
      "source": [
        "%time for _ in range(10): my_list2 = [x*2 for x in my_list]"
      ],
      "metadata": {
        "id": "oVt3z8MoB58j"
      },
      "execution_count": null,
      "outputs": []
    },
    {
      "cell_type": "code",
      "source": [
        "# 배열 연산\n",
        "data = np.random.randn(2,3)\n",
        "print(data, '\\n')\n",
        "print(data * 10,'\\n')\n",
        "print(data +data)"
      ],
      "metadata": {
        "id": "Dq3poDYCCBBe"
      },
      "execution_count": null,
      "outputs": []
    },
    {
      "cell_type": "code",
      "source": [
        "print(data.ndim)"
      ],
      "metadata": {
        "id": "3V9iIDu_Ccvh"
      },
      "execution_count": null,
      "outputs": []
    },
    {
      "cell_type": "markdown",
      "source": [
        "(3, 2, 5) : 배열이 3개의 (2x5) 행렬로 구성\n",
        "- 첫 번째 차원 (Depth): 최상위 레벨에 3개의 배열\n",
        "- 두 번째 차원 (Rows): 각 최상위 배열은 2개의 하위 배열\n",
        "- 세 번째 차원 (Columns): 각 하위 배열은 5개의 요소\n"
      ],
      "metadata": {
        "id": "Cfpd_jxAEL6O"
      }
    },
    {
      "cell_type": "code",
      "source": [
        "# 3차원\n",
        "array3 = np.array([[[1,2,3,4,5],[6,7,8,9,10]],\n",
        "                   [[1,2,3,4,5],[6,7,8,9,10]],\n",
        "                   [[1,2,3,4,5],[6,7,8,9,10]]])\n",
        "print(array3, array3.shape, '\\n')\n",
        "print(type(array3))"
      ],
      "metadata": {
        "id": "3krCGDi2CpAZ"
      },
      "execution_count": null,
      "outputs": []
    },
    {
      "cell_type": "markdown",
      "source": [
        "배열 생성 및 초기화\n",
        "- Numpy는 원하는 shape로 배열을 설정하고 각 요소를 특정 값으로 초기화하는 zeros, ones, full, eye 함수 제공\n",
        "- 파라미터로 입력한 배열과 같은 shape의 배열을 만드는 zeros_like, ones_like, full_like 함수도 제공"
      ],
      "metadata": {
        "id": "IAmXQf2qE4Ga"
      }
    },
    {
      "cell_type": "code",
      "source": [
        "# zeros가 입력으로 튜플을 받기 때문에 두 번 괄호 사용\n",
        "print(np.zeros(10))\n",
        "print(np.zeros((3,6)))\n",
        "print(np.zeros((2,3,2)))"
      ],
      "metadata": {
        "id": "DnK7vgKSDX45"
      },
      "execution_count": null,
      "outputs": []
    },
    {
      "cell_type": "code",
      "source": [
        "a = np.arange(10).reshape(2,5)\n",
        "a"
      ],
      "metadata": {
        "id": "WabZM8HzGHPZ"
      },
      "execution_count": null,
      "outputs": []
    },
    {
      "cell_type": "code",
      "source": [
        "a = np.arange(10).reshape(2,5)\n",
        "z = np.zeros_like(a)\n",
        "o = np.ones_like(a)\n",
        "f = np.full_like(a,5)\n",
        "print(z,'\\n')\n",
        "print(o,'\\n')\n",
        "print(f)"
      ],
      "metadata": {
        "id": "EdXO9ww_FIOJ"
      },
      "execution_count": null,
      "outputs": []
    },
    {
      "cell_type": "code",
      "source": [
        "# arange 함수 : 파이썬의 range함수의 배열 버전\n",
        "arr3 = np.arange(15)\n",
        "arr3"
      ],
      "metadata": {
        "id": "QaVWDm0lImob"
      },
      "execution_count": null,
      "outputs": []
    },
    {
      "cell_type": "code",
      "source": [
        "arr_1d = np.arange(6)\n",
        "arr_2d = arr_1d.reshape(2,3)\n",
        "arr_3d = arr_1d.reshape(2,3,1)\n",
        "print(arr_1d, '\\n')\n",
        "print(arr_2d, '\\n')\n",
        "print(arr_3d)"
      ],
      "metadata": {
        "id": "2ZcqBSDcItf_"
      },
      "execution_count": null,
      "outputs": []
    },
    {
      "cell_type": "markdown",
      "source": [
        "Q. 1차원 배열을 생성한 후 -1을 이용해서 배열의"
      ],
      "metadata": {
        "id": "tK_p-8duJQcu"
      }
    },
    {
      "cell_type": "code",
      "source": [
        "ar = np.arange(12)\n",
        "ar"
      ],
      "metadata": {
        "id": "0NkFOMFlJO7d"
      },
      "execution_count": null,
      "outputs": []
    },
    {
      "cell_type": "code",
      "source": [
        "\n",
        "print('1차원 => 2차원: \\n', ar.reshape(3,-1),'\\n')\n",
        "print('1차원 => 2차원: \\n', ar.reshape(3,4),'\\n')\n",
        "print('1차원 => 3차원: \\n', ar.reshape(2,3,-1),'\\n')\n",
        "print('1차원 => 3차원: \\n', ar.reshape(2,3,2),'\\n')"
      ],
      "metadata": {
        "id": "R3y2xdaKJzRq"
      },
      "execution_count": null,
      "outputs": []
    },
    {
      "cell_type": "code",
      "source": [
        "ar = np.arange(30).reshape(2,-1)\n",
        "ar"
      ],
      "metadata": {
        "id": "U63FO6JSKFzd"
      },
      "execution_count": null,
      "outputs": []
    },
    {
      "cell_type": "code",
      "source": [
        "ar21 = ar.reshape(-1,)\n",
        "print(ar21,'\\n')\n",
        "ar23 = ar.reshape(-1,2,5)\n",
        "print(ar23,)"
      ],
      "metadata": {
        "id": "PyYWngbDKgVa"
      },
      "execution_count": null,
      "outputs": []
    },
    {
      "cell_type": "code",
      "source": [
        "# 모양 변경 및 크기 조절\n",
        "import numpy as np\n",
        "\n",
        "# Reshaping\n",
        "a = np.arange(6)\n",
        "reshaped = a.reshape(2,3)\n",
        "print(\"Reshaped Array:\\n\", reshaped)\n",
        "\n",
        "# Resizing\n",
        "resized = np.resize(a,(3,2))\n",
        "print(\"Resized Array: \\n\", resized)"
      ],
      "metadata": {
        "id": "qoAyDPjCKu0z"
      },
      "execution_count": null,
      "outputs": []
    },
    {
      "cell_type": "code",
      "source": [
        "a= np.arange(6)\n",
        "reshaped = a.reshape(2,3)\n",
        "reshaped"
      ],
      "metadata": {
        "id": "KD7bCrixLnLm"
      },
      "execution_count": null,
      "outputs": []
    },
    {
      "cell_type": "code",
      "source": [
        "# Splitting : 배열을 여러 하위 배열로 나눈다.\n",
        "split1, split2 = np.split(reshaped,2)\n",
        "print('Split Arrays:\\n', split1,\"\\n\",split2)"
      ],
      "metadata": {
        "id": "TRyK2VxbMSTx"
      },
      "execution_count": null,
      "outputs": []
    },
    {
      "cell_type": "code",
      "source": [
        "a  = np.array([[1,2], [3,4]])\n",
        "b = np.array([[5,6]])\n",
        "print(a,'\\n')\n",
        "print(b)"
      ],
      "metadata": {
        "id": "pOH-PNb5MzxD"
      },
      "execution_count": null,
      "outputs": []
    },
    {
      "cell_type": "code",
      "source": [
        "a  = np.array([[1,2], [3,4]])\n",
        "b = np.array([[5,6]])\n",
        "\n",
        "#Concatenating\n",
        "concatenated = np.concatenate((a,b), axis=0)\n",
        "print('Concatenated Array:\\n', concatenated)\n",
        "\n",
        "#Stacking\n",
        "stacked = np.vstack((a,b,a,b,a,b,a,b))\n",
        "print(\"Stacked Array:\\n\", stacked)"
      ],
      "metadata": {
        "id": "c8J05Z5FMiqK"
      },
      "execution_count": null,
      "outputs": []
    },
    {
      "cell_type": "code",
      "source": [
        "array1 = np.arange(30)\n",
        "array3d = array1.reshape(3,2,5)\n",
        "print(array3d, '\\n', type(array3d),'\\n')\n",
        "li = array3d.tolist()\n",
        "print(li, '\\n',type(li))"
      ],
      "metadata": {
        "id": "a4_IQtqQNzGi"
      },
      "execution_count": null,
      "outputs": []
    },
    {
      "cell_type": "markdown",
      "source": [
        "Q. 1차원 배열을 생성해서 2차원 배열로 변환한 후 다음 사항을 수행하세요\n",
        "- 2차원 배열을 리스트로 타입 변경하세요.\n",
        "- 리스트를 다시 배열로 변경하세요."
      ],
      "metadata": {
        "id": "DP_ZFk7lNysO"
      }
    },
    {
      "cell_type": "code",
      "source": [
        "#1차원 배열생성\n",
        "ar = np.arange(20)\n",
        "#2차원 배열로 변환\n",
        "ar1 = ar.reshape(4,5)\n",
        "#2차원 배열을 리스트로 변환\n",
        "li = ar1.tolist()\n",
        "li\n",
        "#리스트를 다시 배열로 변경\n",
        "ar2 = np.array(li)\n",
        "ar2"
      ],
      "metadata": {
        "id": "MRL7gCFTNDYu"
      },
      "execution_count": null,
      "outputs": []
    },
    {
      "cell_type": "markdown",
      "source": [
        "Q. 두 배열 [[1, 2], [3, 4]]와 [[5, 6], [7, 8]]를 가로로 연결하기"
      ],
      "metadata": {
        "id": "l_xkokn6OKJV"
      }
    },
    {
      "cell_type": "code",
      "source": [
        "a1 = np.array([1,2,3,4])\n",
        "b1 = np.array([5,6,7,8])\n",
        "a2 = a1.reshape(2,2)\n",
        "b2 = b1.reshape(2,2)\n",
        "concatenated = np.concatenate((a2,b2), axis=1)\n",
        "concatenated"
      ],
      "metadata": {
        "id": "_P6x_BKqOKum"
      },
      "execution_count": null,
      "outputs": []
    },
    {
      "cell_type": "markdown",
      "source": [
        "Q.두 배열 [[1, 2, 3]]와 [[4, 5, 6]]을 세로로 연결하기"
      ],
      "metadata": {
        "id": "USpywsqMOK5-"
      }
    },
    {
      "cell_type": "code",
      "source": [
        "a1 = np.array([[1,2,3]])\n",
        "b1 = np.array([[4,5,6]])\n",
        "concatenated = np.concatenate((a1,b1), axis = 0)\n",
        "concatenated"
      ],
      "metadata": {
        "id": "ZC84_wnNOMud"
      },
      "execution_count": null,
      "outputs": []
    },
    {
      "cell_type": "code",
      "source": [
        "a1 = np.array([[1,2,3]])\n",
        "b1 = np.array([[4,5,6]])\n",
        "stacked = np.vstack((a1,b1))\n",
        "stacked"
      ],
      "metadata": {
        "id": "DXrEXVbRXAgh"
      },
      "execution_count": null,
      "outputs": []
    },
    {
      "cell_type": "markdown",
      "source": [
        "Q. 배열 [0, 1, 2, 3, 4, 5, 6, 7, 8]를 세 부분으로 나누기"
      ],
      "metadata": {
        "id": "dRcjZANlOM7s"
      }
    },
    {
      "cell_type": "code",
      "source": [
        "a1 = np.array([0,1,2,3,4,5,6,7,8])\n",
        "baby1, baby2, baby3 = np.split(a1,3)\n",
        "\n",
        "print(baby1,'\\n',baby2,'\\n',baby3)"
      ],
      "metadata": {
        "id": "bqa_KN5dP8MT"
      },
      "execution_count": null,
      "outputs": []
    },
    {
      "cell_type": "code",
      "source": [
        "# 기본 통계 연산\n",
        "import numpy as np\n",
        "#Creating an array\n",
        "data = np.array([1,2,3,4,5])\n",
        "\n",
        "\n",
        "#Mean\n",
        "print('Mean:', np.mean(data))\n",
        "\n",
        "print('Median:', np.median(data))\n",
        "\n",
        "print('Standard Deviation:', np.std(data))"
      ],
      "metadata": {
        "id": "foI7JsmaW_TM"
      },
      "execution_count": null,
      "outputs": []
    },
    {
      "cell_type": "code",
      "source": [
        "# 수학적 함수:\n",
        "\n",
        "# Creating an array\n",
        "angles = np.array([0, np.pi/2, np.pi])\n",
        "angles"
      ],
      "metadata": {
        "id": "tqYbUB9AQA7t"
      },
      "execution_count": null,
      "outputs": []
    },
    {
      "cell_type": "code",
      "source": [
        "# Sin function\n",
        "print(\"Sine:\", np.sin(angles))\n",
        "# Cosine function\n",
        "print('Cosine:', np.cos(angles))\n",
        "\n",
        "# Exponential function\n",
        "print(\"Exponetial:\", np.exp([1,2,3]))"
      ],
      "metadata": {
        "id": "VfRCdCihYWSt"
      },
      "execution_count": null,
      "outputs": []
    },
    {
      "cell_type": "code",
      "source": [
        "# 부동 소수점 연산에서 발생하는 미세한 오차로 0에 가까운 값으로 출력될 수 있음\n",
        "\n",
        "pi_value = np.pi\n",
        "result = np.sin(pi_value)\n",
        "print(result)"
      ],
      "metadata": {
        "id": "JLvQKkYNeTkt"
      },
      "execution_count": null,
      "outputs": []
    },
    {
      "cell_type": "code",
      "source": [
        "from PIL import Image\n",
        "import matplotlib.pyplot as plt\n",
        "\n",
        "# Replace 'image_name.jpg' with your image file's name\n",
        "image = Image.open('/content/drive/MyDrive/kdt_240224/m3_분석라이브러리/numpy/KakaoTalk_20240605_121559345 (1).jpg')\n",
        "plt.imshow(image)\n",
        "plt.axis('off')  # Turn off axis numbers\n",
        "plt.show()"
      ],
      "metadata": {
        "id": "p_7Lrt21Ysxa"
      },
      "execution_count": null,
      "outputs": []
    },
    {
      "cell_type": "markdown",
      "source": [
        "NumPy에서 부호없는 양수 정수형(unsigned integer)\n",
        "\n",
        "음수가 없고 0과 양의 정수만을 표현할 수 있는 데이터 유형.<br>\n",
        "이는 일반적으로 데이터를 저장할 때 필요한 메모리 크기를 최적화하는 데 사용.<br>  \n",
        "부호없는 정수형 데이터 타입은 numpy 모듈에서 제공하며, 각 타입은 표현할 수 있는 값의 범위에 따라 구분. <br><br>\n",
        "\n",
        "numpy.uint8: 8비트 부호없는 정수<br>\n",
        "값의 범위: 0 ~ 255<br>\n",
        "예: numpy.uint8(255)<br><br>\n",
        "numpy.uint16: 16비트 부호없는 정수<br>\n",
        "값의 범위: 0 ~ 65535<br>\n",
        "예: numpy.uint16(65535)<br><br>\n",
        "numpy.uint32: 32비트 부호없는 정수<br>\n",
        "값의 범위: 0 ~ 4294967295<br>\n",
        "예: numpy.uint32(4294967295)<br><br>\n",
        "numpy.uint64: 64비트 부호없는 정수<br>\n",
        "값의 범위: 0 ~ 18446744073709551615<br>\n",
        "예: numpy.uint64(18446744073709551615)<br><br>\n",
        "\n",
        "이러한 부호없는 정수형은 이미지 처리, 바이너리 데이터 저장, 비트 연산 등에서 자주 사용. 예를 들어, 8비트 부호없는 정수는 이미지의 픽셀 값을 표현하는 데 유용하며, 16비트 부호없는 정수는 더 큰 범위의 데이터를 처리할 때 유용."
      ],
      "metadata": {
        "id": "zPONrPFgamA6"
      }
    },
    {
      "cell_type": "code",
      "source": [
        "arr1 = np.array([1,2,3], dtype = np.float64)\n",
        "arr2 = np.array([1,2,3], dtype = np.int32)\n",
        "arr3 = np.array([1,2,3])\n",
        "print(arr1.dtype)\n",
        "print(arr2.dtype)\n",
        "print(arr3.dtype)"
      ],
      "metadata": {
        "id": "6b8z8RPMamjQ"
      },
      "execution_count": null,
      "outputs": []
    },
    {
      "cell_type": "code",
      "source": [
        "arr = np.array([1,2,3,4,5])\n",
        "print(arr.dtype)\n",
        "float_arr = arr.astype(np.float64)\n",
        "print(float_arr.dtype)"
      ],
      "metadata": {
        "id": "3XN9eUorcr0v"
      },
      "execution_count": null,
      "outputs": []
    },
    {
      "cell_type": "code",
      "source": [
        "int_array = np.arange(10)\n",
        "calibers = np.array([.22,.270,.357,.380,.44,.50], dtype=np.float64)\n",
        "int_array = int_array.astype(calibers.dtype)\n",
        "print(int_array, int_array.dtype)"
      ],
      "metadata": {
        "id": "Uqj1dcwOc_Mo"
      },
      "execution_count": null,
      "outputs": []
    },
    {
      "cell_type": "markdown",
      "source": [
        "Q. int_array의 dtype을 정수(int32)로 변경하세요"
      ],
      "metadata": {
        "id": "G8wtVPu1dzj4"
      }
    },
    {
      "cell_type": "code",
      "source": [
        "int_array.astype(np.int32)"
      ],
      "metadata": {
        "id": "XZWpxE0rdxTo"
      },
      "execution_count": null,
      "outputs": []
    },
    {
      "cell_type": "markdown",
      "source": [
        "int32 와 int64의 차이 : 정수의 범위와 메모리 사용량\n",
        "1. int32\n",
        "- 32비트 정수를 저장\n",
        "- 범위: -2,147,483,648에서 2,147,483,647까지의 정수를 표현\n",
        "2. int64\n",
        "- 64비트 정수를 저장\n",
        "- 범위: -9,223,372,036,854,775,808에서 9,223,372,036,854,775,807까지의 정수를 표현"
      ],
      "metadata": {
        "id": "9S3YQr4meqiV"
      }
    },
    {
      "cell_type": "code",
      "source": [
        "# zeros 함수 : shape과 dtype을 입력받아 0으로 초기화된 배열을 만들어준다.\n",
        "# empty 함수 : shape과 dtype을 입력받아 0으로 초기화되지 않은 배열을 만들어준다.\n",
        "# 특정 크기와 데이터 타입을 가진 새로운 배열을 빠르게 생성, 배열의 요소는 임의의 값으로 채워진다(메모리에 이미 존재하는 값).\n",
        "print(np.empty(shape=(10,), dtype=np.int8))\n",
        "print(np.zeros(shape=(10,), dtype=np.int8))"
      ],
      "metadata": {
        "id": "mlvfJBoueDPl"
      },
      "execution_count": null,
      "outputs": []
    },
    {
      "cell_type": "code",
      "source": [
        "empty_unit32 = np.empty(8, dtype='u4')\n",
        "empty_unit32"
      ],
      "metadata": {
        "id": "a4G7GCC0ffmH"
      },
      "execution_count": null,
      "outputs": []
    },
    {
      "cell_type": "code",
      "source": [
        "# 문자열 타입으로 배열 만들기( S: 바이트 문자열)\n",
        "import numpy as np\n",
        "\n",
        "arr = np.array([1,2,3,4], dtype='S')\n",
        "print(arr)\n",
        "print(arr.dtype)"
      ],
      "metadata": {
        "id": "-Szwkz89gAw_"
      },
      "execution_count": null,
      "outputs": []
    },
    {
      "cell_type": "code",
      "source": [
        "numeric_string = np.array(['1.25','-9.5','42'], dtype=np.string_)# dtype=np.string_는 배열의 데이터 타입이\n",
        "#바이트 문자열임을 명시. dtype='S'와 동일\n",
        "print(numeric_string\n",
        "\n",
        "\n",
        "      )\n",
        "numeric_string.astype(float)"
      ],
      "metadata": {
        "id": "nwZKhmMVgWM0"
      },
      "execution_count": null,
      "outputs": []
    },
    {
      "cell_type": "markdown",
      "source": [
        "[Random 함수]  \n",
        "\n",
        "- np.random.seed       # seed를 통한 난수 생성\n",
        "- np.random.randint    # 균일분포의 정수 난수 1개 생성\n",
        "- np.random.rand       # 0부터 1사이의 균일분포에서 난수 매트릭스 array 생성\n",
        "- np.random.randn      # 가우시안 표준 정규 분포에서 난수 매트릭스 array 생성\n",
        "- np.random.shuffle    # 기존의 데이터의 순서 바꾸기\n",
        "- np.random.choice     # 기존의 데이터에서 sampling"
      ],
      "metadata": {
        "id": "Rw8LqX1AziCd"
      }
    },
    {
      "cell_type": "code",
      "source": [
        "# 0부터 1사이의 균일분포에서 난수 매트릭스 array 생성\n",
        "print(np.random.rand(5),'\\n')\n",
        "# 0~1사이의 균일 분포로 구성된 5행 5열의 배열읠 생성\n",
        "print(np.random.rand(5,5))"
      ],
      "metadata": {
        "id": "xd27E1wUg6BE"
      },
      "execution_count": null,
      "outputs": []
    },
    {
      "cell_type": "code",
      "source": [
        "import numpy as np\n",
        "print(np.random.choice([1,2,3,4,5],10),'\\n')\n",
        "print(np.random.choice([1,2,3,4,5]),'\\n')\n",
        "print(np.random.choice(10,5,replace=False),'\\n')\n",
        "np.random.choice(10,9)"
      ],
      "metadata": {
        "id": "BBgfRKsv0TKC"
      },
      "execution_count": null,
      "outputs": []
    },
    {
      "cell_type": "code",
      "source": [
        "#np.uniform: 균일 분포를 따르는 난수 생성\n",
        "print(np.random.uniform(1,2,3),'\\n')\n",
        "print(np.random.uniform(0,1,(2,3)),'\\n')\n",
        "np.random.uniform(1,2,10)"
      ],
      "metadata": {
        "id": "NqnSEabI09n1"
      },
      "execution_count": null,
      "outputs": []
    },
    {
      "cell_type": "code",
      "source": [
        "import random\n",
        "pop =[1,2,3,4,5]\n",
        "sample= random.sample(pop,3)\n",
        "print(sample)\n",
        "print(pop)"
      ],
      "metadata": {
        "id": "7HUcBjmv1c0e"
      },
      "execution_count": null,
      "outputs": []
    },
    {
      "cell_type": "code",
      "source": [
        "# 중복 혀옹햐지 않는 numpy 샘플링"
      ],
      "metadata": {
        "id": "4_2_nN2z3iRc"
      },
      "execution_count": null,
      "outputs": []
    },
    {
      "cell_type": "code",
      "source": [
        "#np.random.random_sample은 중복 혀용\n",
        "r_ar = np.random.random_sample(486546454)\n",
        "unique_values = len(np.unique(r_ar))\n",
        "total_values = len(r_ar)\n",
        "print(f\"Unique values : {unique_values}\")\n",
        "print(f\"Total values : {total_values}\")\n"
      ],
      "metadata": {
        "id": "UOnZ9oHu2Miu"
      },
      "execution_count": null,
      "outputs": []
    },
    {
      "cell_type": "markdown",
      "source": [
        "Q. 정수와 실수로 구성된 list_e = [1,2,2.3,3]을 numpy를 이용해서 실수형과 정수형으로 각각 출력하세요."
      ],
      "metadata": {
        "id": "j7lPVL9dj_iw"
      }
    },
    {
      "cell_type": "code",
      "source": [
        "import numpy as np\n",
        "list_e = [1,2,2.3,3]\n",
        "array_e1 = np.array(list_e)\n",
        "print(array_e1, array_e1.dtype)\n",
        "array_e2 = array_e1.astype('int32')\n",
        "print(array_e2, array_e2.dtype)"
      ],
      "metadata": {
        "id": "GqO0Zfe03RFV"
      },
      "execution_count": null,
      "outputs": []
    },
    {
      "cell_type": "code",
      "source": [
        "#배열의 연산\n",
        "import numpy as np\n",
        "arr = np.array([[1.,2.,3.],[4.,5.,6.]])\n",
        "print(arr, arr.dtype)"
      ],
      "metadata": {
        "id": "7YNlu677kZcV"
      },
      "execution_count": null,
      "outputs": []
    },
    {
      "cell_type": "code",
      "source": [
        "arr2 = np.array([[0.,4.,1.],[7.,2.,12.]])\n",
        "arr2"
      ],
      "metadata": {
        "id": "SHa8ZUnYk1qx"
      },
      "execution_count": null,
      "outputs": []
    },
    {
      "cell_type": "code",
      "source": [
        "arr2 > arr"
      ],
      "metadata": {
        "id": "8mVsHMQdlWEv"
      },
      "execution_count": null,
      "outputs": []
    },
    {
      "cell_type": "markdown",
      "source": [
        " 인덱싱, 슬라이싱\n"
      ],
      "metadata": {
        "id": "5Zc0RRx5lhV9"
      }
    },
    {
      "cell_type": "code",
      "source": [
        "arr2 = np.array([[1,2,3],[4,5,6],[7,8,9]])\n",
        "arr2d = np.arange(1,10).reshape(3,3)\n",
        "print(arr2d)"
      ],
      "metadata": {
        "id": "mSTtRN54lYSj"
      },
      "execution_count": null,
      "outputs": []
    },
    {
      "cell_type": "code",
      "source": [
        "arr2d[2]"
      ],
      "metadata": {
        "id": "iwDni6yilvTy"
      },
      "execution_count": null,
      "outputs": []
    },
    {
      "cell_type": "code",
      "source": [
        "arr2d[0][2]"
      ],
      "metadata": {
        "id": "KtTXXSUol3rL"
      },
      "execution_count": null,
      "outputs": []
    },
    {
      "cell_type": "code",
      "source": [
        "arr2d[0,2]"
      ],
      "metadata": {
        "id": "7813JmgWl6ty"
      },
      "execution_count": null,
      "outputs": []
    },
    {
      "cell_type": "code",
      "source": [
        "arr2d = np.arange(20).reshape(5,4)\n",
        "arr2d"
      ],
      "metadata": {
        "id": "3xM_kWrXl76M"
      },
      "execution_count": null,
      "outputs": []
    },
    {
      "cell_type": "code",
      "source": [
        "arr2d[:2,1:]"
      ],
      "metadata": {
        "id": "qJ69nsQFmW3B"
      },
      "execution_count": null,
      "outputs": []
    },
    {
      "cell_type": "markdown",
      "source": [
        "Q. array2d에서 슬라이싱을 사용해서 아래와 같이 출력하세요.\n",
        "```\n",
        "[[1 2]\n",
        "[4 5]]\n",
        "\n",
        "(2가지 방법)\n",
        "[[4 5 6]\n",
        "[7 8 9]]\n",
        "\n",
        "[[1 2 3]\n",
        "[4 5 6]\n",
        "[7 8 9]]\n",
        "\n",
        "[[2 3]\n",
        "[5 6]]\n",
        "\n",
        "[1 4]\n",
        "```"
      ],
      "metadata": {
        "id": "pmLvPgpzm-FU"
      }
    },
    {
      "cell_type": "code",
      "source": [
        "array2d = np.arange(1,10).reshape(3,3)\n",
        "print(array2d)\n",
        "\n",
        "ans1 = array2d[:2,:2]\n",
        "print(ans1)"
      ],
      "metadata": {
        "id": "fN_ydbW3nU7d"
      },
      "execution_count": null,
      "outputs": []
    },
    {
      "cell_type": "code",
      "source": [
        "ans2 = array2d[1:,0:]\n",
        "ans2"
      ],
      "metadata": {
        "id": "o8EQVP2zrXCx"
      },
      "execution_count": null,
      "outputs": []
    },
    {
      "cell_type": "code",
      "source": [
        "ans3 = array2d[1:]\n",
        "ans3"
      ],
      "metadata": {
        "id": "Cbl-aPX1rzTb"
      },
      "execution_count": null,
      "outputs": []
    },
    {
      "cell_type": "code",
      "source": [
        "ans4 = array2d\n",
        "print(ans4)"
      ],
      "metadata": {
        "id": "D6ovqVExr50D"
      },
      "execution_count": null,
      "outputs": []
    },
    {
      "cell_type": "code",
      "source": [
        "ans5 = array2d[:2,1:]\n",
        "ans5"
      ],
      "metadata": {
        "id": "J_KiSW68sCkG"
      },
      "execution_count": null,
      "outputs": []
    },
    {
      "cell_type": "code",
      "source": [
        "ans6 = array2d[0:2,0]\n",
        "ans6"
      ],
      "metadata": {
        "id": "h9bR0uslsPL3"
      },
      "execution_count": null,
      "outputs": []
    },
    {
      "cell_type": "code",
      "source": [
        "# Boolean indexing\n",
        "array1d = np.arange(1,10)\n",
        "print(array1d)\n",
        "array3 = array1d[array1d >5 ]\n",
        "print(array3)\n",
        "print(array1d>5)"
      ],
      "metadata": {
        "id": "FEPld8bMsZ-h"
      },
      "execution_count": null,
      "outputs": []
    },
    {
      "cell_type": "markdown",
      "source": [
        "array1d에서 일반 인덱스를 이용 [6,7,8,9]를 출력하세요."
      ],
      "metadata": {
        "id": "h3fhQVqltYpT"
      }
    },
    {
      "cell_type": "code",
      "source": [
        "# A.\n",
        "indexes = np.array([5,6,7,8])\n",
        "array_e2 = array1d[indexes]\n",
        "# array_e2 = array1d[5:]\n",
        "print(array_e2)"
      ],
      "metadata": {
        "id": "Qvqga1tKtGS7"
      },
      "execution_count": null,
      "outputs": []
    },
    {
      "cell_type": "markdown",
      "source": [
        "Q. 1~14까지 ndarray를 만들어 array_e로 저장하고 (array_e/2) >5 를 만족하는 값을 불린 인덱스로 출력하세요."
      ],
      "metadata": {
        "id": "VXJL2O5et8LW"
      }
    },
    {
      "cell_type": "code",
      "source": [
        "array_e = np.arange(1,15)\n",
        "print(array_e)\n",
        "\n",
        "newarr = array_e[(array_e / 2)>5]\n",
        "\n",
        "#newarr = (array_e/2)>5\n",
        "print(newarr)"
      ],
      "metadata": {
        "id": "nXuNHLGHtqQV"
      },
      "execution_count": null,
      "outputs": []
    },
    {
      "cell_type": "markdown",
      "source": [
        "Q. 1~100까지 정수에서 5의 배수이면서 2의 배수인것만을 출력(for문과 배열 두가지 방식)"
      ],
      "metadata": {
        "id": "qJb4_1smuUCY"
      }
    },
    {
      "cell_type": "code",
      "source": [
        "for i in range(1,101):\n",
        "  if i % 5 == 0 and i % 2 == 0:\n",
        "    print(i)"
      ],
      "metadata": {
        "id": "jF3fr3MwuP01"
      },
      "execution_count": null,
      "outputs": []
    },
    {
      "cell_type": "code",
      "source": [
        "array1 = np.arange(1,101)\n",
        "array2 = array1[(array1 % 5 == 0) & (array1 % 2 == 0)]\n",
        "print(array2)"
      ],
      "metadata": {
        "id": "kkuATNPLugNE"
      },
      "execution_count": null,
      "outputs": []
    },
    {
      "cell_type": "markdown",
      "source": [
        "Q. 표준정규분포로 구성된 5행 5열 다차원 배열을 생성하고 함수를 이용하여 평균과 표준편차를 구하세요"
      ],
      "metadata": {
        "id": "FAyos74iuygr"
      }
    },
    {
      "cell_type": "code",
      "source": [
        "array1 = np.random.randn(5,5)\n",
        "array1"
      ],
      "metadata": {
        "id": "w3Ttx3Aiurpv"
      },
      "execution_count": null,
      "outputs": []
    },
    {
      "cell_type": "code",
      "source": [
        "print(array1.mean())\n",
        "print(array1.std())\n"
      ],
      "metadata": {
        "id": "gvVZE4JQvae2"
      },
      "execution_count": null,
      "outputs": []
    },
    {
      "cell_type": "markdown",
      "source": [
        "Q. 인덱싱을 이용하여 아래 배열을 내림차순으로 정렬하세요.\n",
        "\n",
        "[0,1,2,3,4,5,6,7,8,9]"
      ],
      "metadata": {
        "id": "AILw13_cvtuO"
      }
    },
    {
      "cell_type": "code",
      "source": [
        "array1 = [0,1,2,3,4,5,6,7,8,9]\n",
        "array1[::-1]"
      ],
      "metadata": {
        "id": "vDkvf8ujvevc"
      },
      "execution_count": null,
      "outputs": []
    },
    {
      "cell_type": "markdown",
      "source": [
        "Q.[1,2,0,0,4,0]에서 zero가 아닌 인덱스를 배열 형태로 출력하세요."
      ],
      "metadata": {
        "id": "An1w35ULyYmq"
      }
    },
    {
      "cell_type": "code",
      "source": [
        "arr =np.array([1,2,0,0,4,0])\n",
        "print(np.where(arr != 0))"
      ],
      "metadata": {
        "id": "0bLyJ_2Gv-Ac"
      },
      "execution_count": null,
      "outputs": []
    },
    {
      "cell_type": "code",
      "source": [
        "print(np.nonzero(arr))"
      ],
      "metadata": {
        "id": "nDCQhUVlyunJ"
      },
      "execution_count": null,
      "outputs": []
    },
    {
      "cell_type": "markdown",
      "source": [
        "팬시 인덱싱\n",
        "\n",
        "정수 배열을 사용한 인덱싱:\n",
        "- 정수로 이루어진 배열을 사용하여 다른 배열의 특정 요소를 선택\n",
        "\n",
        "부울 마스크를 사용한 인덱싱:\n",
        "- 부울 배열(마스크)을 생성하여, 마스크가 True인 위치의 요소를 선택\n",
        "\n",
        "정수 배열과 부울 마스크의 결합:\n",
        "- 이 방법들을 결합하여 더욱 강력한 선택과 수정을 할 수 있다."
      ],
      "metadata": {
        "id": "45hTiQ2DzOsL"
      }
    },
    {
      "cell_type": "code",
      "source": [
        "# 정수 배열을 사용한 인덱싱\n",
        "import numpy as np\n",
        "\n",
        "arr= np.array([10,20,30,40,50])\n",
        "index_arr = np.array([0,2,4])\n",
        "result = arr[index_arr]\n",
        "print(result)"
      ],
      "metadata": {
        "id": "mEHDK32ezP-X"
      },
      "execution_count": null,
      "outputs": []
    },
    {
      "cell_type": "code",
      "source": [
        "# 부울 마스크를 사용한 인덱싱\n",
        "\n",
        "arr = np.array([10,20,30,40,50])\n",
        "mask = arr > 25\n",
        "result = arr[mask]\n",
        "print(result)"
      ],
      "metadata": {
        "id": "zLLxkBWRz2Xz"
      },
      "execution_count": null,
      "outputs": []
    },
    {
      "cell_type": "code",
      "source": [
        "# 정수 배열과 부울 마스크의 결합\n",
        "arr= np.array([10,20,30,40,50])\n",
        "index_arr = np.array([0,2,4])\n",
        "mask =arr[index_arr] > 20\n",
        "\n",
        "result = arr[index_arr][mask]\n",
        "print(result)"
      ],
      "metadata": {
        "id": "Kq8dOl_C0Ozq"
      },
      "execution_count": null,
      "outputs": []
    },
    {
      "cell_type": "code",
      "source": [
        "arr = np.empty((8,4))\n",
        "print(arr, '\\n')\n",
        "for i in range(8):\n",
        "    arr[i] = i\n",
        "\n",
        "arr"
      ],
      "metadata": {
        "id": "Cm4SieVk0mJ2"
      },
      "execution_count": null,
      "outputs": []
    },
    {
      "cell_type": "code",
      "source": [
        "arr[[4,3,0,6]]"
      ],
      "metadata": {
        "id": "TXDZ-Geu1WQZ"
      },
      "execution_count": null,
      "outputs": []
    },
    {
      "cell_type": "code",
      "source": [
        "arr[[-3,-5,-7]]"
      ],
      "metadata": {
        "id": "57eWZEFr2HJY"
      },
      "execution_count": null,
      "outputs": []
    },
    {
      "cell_type": "code",
      "source": [
        "arr = np.arange(32).reshape((8,4))\n",
        "print(arr,'\\n')\n",
        "arr[[1,5,7,2],[0,3,1,2]]#행, 열 인덱스"
      ],
      "metadata": {
        "id": "InRrU8sU2cfW"
      },
      "execution_count": null,
      "outputs": []
    },
    {
      "cell_type": "markdown",
      "source": [
        "Q. arr에서 배열[14,21,30]을 출력하세요"
      ],
      "metadata": {
        "id": "IFAITRmI3NsM"
      }
    },
    {
      "cell_type": "code",
      "source": [
        "arr[[3,5,7],[2,1,2]]"
      ],
      "metadata": {
        "id": "G7laQ8v62rP7"
      },
      "execution_count": null,
      "outputs": []
    },
    {
      "cell_type": "code",
      "source": [
        "print(arr[[1,5,7,2]],'\\n')\n",
        "print(arr[[1,5,7,2,]][:,[0,3,1,2]])"
      ],
      "metadata": {
        "id": "I05xwNwR3cR4"
      },
      "execution_count": null,
      "outputs": []
    },
    {
      "cell_type": "markdown",
      "source": [
        "## view\n",
        "Numpy에서 '뷰(View)'는 원본 배열의 데이터에 대한 새로운 참조. 뷰를 사용하면 원본 데이터를 복사하지 않고도 배열의 일부에 접근하거나 수정할 수 있다.\n",
        "\n",
        "뷰의 주요 특징과 작동 방식:\n",
        "- 메모리 효율성: 뷰는 원본 배열의 데이터를 복사하지 않기 때문에, 메모리 사용량이 적다. 뷰는 원본 배열의 메모리에 대한 참조만을 가진다.\n",
        "- 원본 배열과의 연결: 뷰를 통해 이루어진 변경사항은 원본 배열에도 반영. 마찬가지로, 원본 배열을 변경하면 뷰에도 해당 변경사항이 반영.\n",
        "- 생성 방법: 뷰는 슬라이싱 연산을 통해 생성될 수 있다. 예를 들어, arr[1:5]와 같은 슬라이싱 연산은 arr 배열의 일부에 대한 뷰를 반환.\n",
        "- 데이터 타입: 뷰는 원본 배열과 동일한 데이터 타입을 가진다.\n",
        "- 변경 가능성: 뷰는 원본 데이터를 변경할 수 있는 '가변' 객체.\n",
        "- 독립성: 뷰는 원본 배열로부터 독립적인 객체. 즉, 뷰에 대한 연산이 원본 배열의 구조에 영향을 주지 않는다(예: 뷰의 모양을 변경해도 원본 배열의 모양은 그대로 유지된다).\n",
        "\n",
        "#### NumPy에서 'view'를 생성하는 방법\n",
        "1. 슬라이싱을 사용하여 뷰 생성:\n",
        "  - 배열의 일부를 슬라이싱하여 뷰를 생성\n",
        "  - 본 배열의 연속적인 부분에 대한 뷰를 만든다. 예를 들어, arr[1:5]와 같은 표현식은 arr의 일부를 참조하는 뷰를 생성\n",
        "  - 뷰(view) : 넘파이의 ndarray(이하 배열)을 슬라이싱할 때 파이썬의 리스트(list)와 다르게 원본의 참조가 생성\n",
        "2. view() 메소드를 사용하여 뷰 생성:\n",
        "  - view() 메소드는 원본 배열의 데이터를 그대로 유지하면서 새로운 뷰 객체를 생성\n",
        "  - 이 방법은 슬라이싱과 다르게 배열 전체에 대한 뷰를 생성하며, 데이터 타입(dtype)을 변경할 수도 있다. 예를 들어, arr.view(dtype=np.float32)는 같은 데이터를 float32 타입으로 해석하는 새로운 뷰를 생성\n",
        "  - view() 메소드를 사용한 뷰는 원본 배열 전체에 대한 새로운 뷰를 생성\n",
        "  - view() 메소드를 사용하면, 데이터 타입을 변경할 수 있는 추가적인 유연성이 있다. 이 방법은 원본 배열의 전체 데이터에 대한 다른 데이터 타입이나 다른 모양의 해석이 필요할 때 유용"
      ],
      "metadata": {
        "id": "FfqbJZe27ViA"
      }
    },
    {
      "cell_type": "code",
      "source": [
        "import numpy as np\n",
        "\n",
        "#원본 배열 생성\n",
        "arr = np.array([1,2,3,4])\n",
        "\n",
        "# arr의 view생성\n",
        "arr_view = arr.view()\n",
        "\n",
        "#view 수정\n",
        "arr_view[0] = 100\n",
        "\n",
        "# 원본 배열과 view 출력\n",
        "print(\"Oraginal array : \", arr)\n",
        "print('View : ', arr_view)"
      ],
      "metadata": {
        "id": "fYLYZTeK6uwm"
      },
      "execution_count": null,
      "outputs": []
    },
    {
      "cell_type": "code",
      "source": [
        "original_array = np.array([[1,2,3],[4,5,6]])\n",
        "print(original_array)"
      ],
      "metadata": {
        "id": "oLGfOQpV9eu1"
      },
      "execution_count": null,
      "outputs": []
    },
    {
      "cell_type": "code",
      "source": [
        "view_of_array = original_array[:2,:2]\n",
        "print(view_of_array)"
      ],
      "metadata": {
        "id": "6Upv0DZR9_Ca"
      },
      "execution_count": null,
      "outputs": []
    },
    {
      "cell_type": "code",
      "source": [
        "# 뷰를 통해 이루어진 변경사항은 원본 배열에도 반영\n",
        "view_of_array[0,0] = 0\n",
        "print(view_of_array,'\\n')\n",
        "print(original_array)"
      ],
      "metadata": {
        "id": "nZXKB2r--DrH"
      },
      "execution_count": null,
      "outputs": []
    },
    {
      "cell_type": "code",
      "source": [
        "# 뷰의 모양을 변경해도 원본 배열의 모양은 그대로 유지된다\n",
        "reshaped_view = view_of_array.reshape(4)\n",
        "print(reshaped_view,'\\n')\n",
        "print(original_array)\n"
      ],
      "metadata": {
        "id": "LjMUzj1a-LJs"
      },
      "execution_count": null,
      "outputs": []
    },
    {
      "cell_type": "code",
      "source": [
        "#리스트는 뷰를 적용할 수 없음\n",
        "import numpy as np\n",
        "li = list(np.arange(1,11))\n",
        "print(li,'\\n')"
      ],
      "metadata": {
        "id": "WXLf-DH5-ifW"
      },
      "execution_count": null,
      "outputs": []
    },
    {
      "cell_type": "code",
      "source": [
        "li_slice = li[:5].copy()\n",
        "# li_slice = li[:5]\n",
        "print(li_slice,'\\n')\n",
        "li_slice[1] = 0\n",
        "print(li_slice,'\\n')\n",
        "print(li)"
      ],
      "metadata": {
        "id": "vxEofmtw_xDK"
      },
      "execution_count": null,
      "outputs": []
    },
    {
      "cell_type": "code",
      "source": [
        "# 배열 전치와 축 바꾸기\n",
        "arr = np.arange(15).reshape(3,5)\n",
        "arr"
      ],
      "metadata": {
        "id": "u8qzfuuz__Aw"
      },
      "execution_count": null,
      "outputs": []
    },
    {
      "cell_type": "code",
      "source": [
        "arr.T"
      ],
      "metadata": {
        "id": "9Rt3jx69AWpz"
      },
      "execution_count": null,
      "outputs": []
    },
    {
      "cell_type": "code",
      "source": [
        "np.transpose(arr)"
      ],
      "metadata": {
        "id": "pup-06cyAXMQ"
      },
      "execution_count": null,
      "outputs": []
    },
    {
      "cell_type": "markdown",
      "source": [
        "#### NumPy 배열의 축(Axes)과 형태(Shape)\n",
        "- 축(Axes): NumPy 배열에서 각 차원은 '축'이라고 불린다. 예를 들어, 2차원 배열에서 0번 축은 행을, 1번 축은 열을 나타낸다.\n",
        "- 형태(Shape): 배열의 '형태'는 각 차원의 크기를 튜플로 나타낸 것이다. 예를 들어, 2행 3열의 배열은 (2, 3)의 형태를 가진다.\n",
        "\n",
        "#### numpy.swapaxes\n",
        "- 기능: 두 축을 서로 바꾸는(교환하는) 함수\n",
        "- 사용법: np.swapaxes(arr, axis1, axis2)\n",
        "  - arr: 배열\n",
        "  - axis1, axis2: 서로 교환할 축의 번호\n",
        "- 예시: (2, 3, 4) 형태의 배열에서 축 0과 축 2를 교환하면, 결과 배열의 형태는 (4, 3, 2)가 됩니다.\n",
        "\n",
        "#### numpy.transpose\n",
        "- 기능: 축의 순서를 재배열하는 함수입니다.\n",
        "- 사용법: np.transpose(arr, axes)\n",
        "  - arr: 배열\n",
        "  - axes: 축의 새로운 순서를 나타내는 튜플\n",
        "- 예시: (2, 3, 4) 형태의 배열에 대해 np.transpose(arr, (1, 0, 2))를 사용하면, 결과 배열의 형태는 (3, 2, 4)가 된다.\n",
        "\n",
        "#### 비교\n",
        "- swapaxes: 두 축만을 대상으로 서로 위치를 교환.\n",
        "- transpose: 여러 축의 순서를 완전히 재배열할 수 있으며, swapaxes보다 더 일반적이고 유연."
      ],
      "metadata": {
        "id": "KpDAUF_XA2yn"
      }
    },
    {
      "cell_type": "code",
      "source": [
        "import numpy as np\n",
        "a = np.arange(6).reshape(2,3)\n",
        "print(a,a.shape)"
      ],
      "metadata": {
        "id": "ukB19y-GAYyb"
      },
      "execution_count": null,
      "outputs": []
    },
    {
      "cell_type": "code",
      "source": [
        "# np.swapaxes(a,0,1)를 사용하여 첫 번째 축(0번 축, 즉 행)과 두 번째 축(1번 축, 즉 열)을 교환\n",
        "y = np.swapaxes(a, 0,1)\n",
        "#y = np.swapaxes(a, 1,0)\n",
        "print(y,y.shape)"
      ],
      "metadata": {
        "id": "UjgeJEipCR-p"
      },
      "execution_count": null,
      "outputs": []
    },
    {
      "cell_type": "code",
      "source": [
        "y = np.transpose(a)         #np.transpose 전치\n",
        "print(y,y.shape,'\\n')\n",
        "y=a.T                       #T추가로 T attribute 도 이용할 수 있다\n",
        "print(y,y.shape)\n"
      ],
      "metadata": {
        "id": "M9pjmFNlC2WZ"
      },
      "execution_count": null,
      "outputs": []
    },
    {
      "cell_type": "code",
      "source": [
        "#(0,1,2)\n",
        "a = np.arange(6).reshape(1, 2,3)\n",
        "print(a,a.shape,'\\n')"
      ],
      "metadata": {
        "id": "GCbLiUsGD7k-"
      },
      "execution_count": null,
      "outputs": []
    },
    {
      "cell_type": "code",
      "source": [
        "# 다차원 배열에서 축의 순서를 재배열하여 배열의 모양을 변경\n",
        "# (0,1,2) -> (1,0,2) : 첫번째 차원과 두번째 차원을 바꾸라는 의미\n",
        "print(a,a.shape,'\\n')\n",
        "y = np.transpose(a, (1,0,2))\n",
        "\n",
        "print(y,y.shape)\n"
      ],
      "metadata": {
        "id": "BpA5MKxIDm5g"
      },
      "execution_count": null,
      "outputs": []
    },
    {
      "cell_type": "markdown",
      "source": [
        "Q. a배열에 대해서 첫번째 차원에 두번째 차원을 두번째 차원 자리에 세번째 차원을 세번째 차원 자리에 첫번째 차원을 넣어서 변환하세요"
      ],
      "metadata": {
        "id": "WWni2VAkEkow"
      }
    },
    {
      "cell_type": "code",
      "source": [
        "a = np.arange(6).reshape(1,2,3)\n",
        "print(a,a.shape,'\\n')"
      ],
      "metadata": {
        "id": "bR1kWmrEER1v"
      },
      "execution_count": null,
      "outputs": []
    },
    {
      "cell_type": "code",
      "source": [
        "# (0,1,2) -> (1,2,0) : 첫번째 차원에 두번째 차원을 두번째 차원 자리에 세번째 차원을 세번째 차원 자리에 첫번째 차원\n",
        "y =  np.transpose(a,(1,2,0))\n",
        "print(y,y.shape)"
      ],
      "metadata": {
        "id": "0VNVv978Esmn"
      },
      "execution_count": null,
      "outputs": []
    },
    {
      "cell_type": "code",
      "source": [
        "arr = np.arange(1,10).reshape(3,3)\n",
        "print(arr,'\\n')"
      ],
      "metadata": {
        "id": "hIc9q2PBEyJw"
      },
      "execution_count": null,
      "outputs": []
    },
    {
      "cell_type": "code",
      "source": [
        "print(arr.cumsum())"
      ],
      "metadata": {
        "id": "_JoXARRQLCMt"
      },
      "execution_count": null,
      "outputs": []
    },
    {
      "cell_type": "code",
      "source": [
        "# 나머지 구하기를 구할때 사용하는 함수\n",
        "Value = np.array([15,30,45])\n",
        "Value1 = np.array([2,7,9])\n",
        "print(np.mod(Value, Value1))\n",
        "print(np.remainder(Value, Value1))"
      ],
      "metadata": {
        "id": "s_WLKoUHLEIM"
      },
      "execution_count": null,
      "outputs": []
    },
    {
      "cell_type": "code",
      "source": [
        "# 각 수으 ㅣ역수를 구해주는 함수 : 0.85의 역수는 1/0.85임\n",
        "# 0을 역수를 추할 수 없기 때문에 divide by zero에 관련된 Warning 메시지를 표시\n",
        "Value = np.array([0.85,1.85,1,100])# 기본 float 형태\n",
        "print(np.reciprocal(Value))"
      ],
      "metadata": {
        "id": "SMdZGIglLY_v"
      },
      "execution_count": null,
      "outputs": []
    },
    {
      "cell_type": "code",
      "source": [
        "# 승수의 결과 값을 표시해주는 함수\n",
        "Value = np.array([2,10,15])\n",
        "Value1 = np.array([1,2,3])\n",
        "\n",
        "print(np.power(Value,2),'\\n')\n",
        "print(np.power(Value, Value1))\n"
      ],
      "metadata": {
        "id": "1ClqudmbL1Bz"
      },
      "execution_count": null,
      "outputs": []
    },
    {
      "cell_type": "code",
      "source": [
        "np.random.seed(0)\n",
        "arr = np.random.randn(10)\n",
        "arr"
      ],
      "metadata": {
        "id": "ggK4tWqIMg8m"
      },
      "execution_count": null,
      "outputs": []
    },
    {
      "cell_type": "code",
      "source": [
        "(arr>0).sum()#양수인 원소의 개수"
      ],
      "metadata": {
        "id": "UBToKIOmM1V7"
      },
      "execution_count": null,
      "outputs": []
    },
    {
      "cell_type": "code",
      "source": [
        "# any 메서드 : 하나 이상의 값이 True인지 검사\n",
        "bools = np.array([False, False, True,True])\n",
        "bools.any()\n"
      ],
      "metadata": {
        "id": "Wmh-E3R9M6Sm"
      },
      "execution_count": null,
      "outputs": []
    },
    {
      "cell_type": "code",
      "source": [
        "# all 메서드 : 모든 원소가 True인지 검사\n",
        "bools.all()"
      ],
      "metadata": {
        "id": "SI20Env7NNY1"
      },
      "execution_count": null,
      "outputs": []
    },
    {
      "cell_type": "code",
      "source": [
        "arr = np.random.randn(6)\n",
        "\n",
        "np.where(arr >0)"
      ],
      "metadata": {
        "id": "ZoGxMsHON3q2"
      },
      "execution_count": null,
      "outputs": []
    },
    {
      "cell_type": "code",
      "source": [
        "# numpy.where 함수는 삼향식의 백터화 버전\n",
        "arr = np.random.randn(4,4)\n",
        "print(arr)\n",
        "np.where(arr>0,1,-1)"
      ],
      "metadata": {
        "id": "N7YVjTbHNTuZ"
      },
      "execution_count": null,
      "outputs": []
    },
    {
      "cell_type": "markdown",
      "source": [
        "Q. arr의 모든 양수를 2로 바꾸어서 출력하세요 (음수는 변경없음)"
      ],
      "metadata": {
        "id": "8QpVzN-1PQ4y"
      }
    },
    {
      "cell_type": "code",
      "source": [
        "np.where(arr>0,2,arr)"
      ],
      "metadata": {
        "id": "N1Xh9JQtNY-b"
      },
      "execution_count": null,
      "outputs": []
    },
    {
      "cell_type": "markdown",
      "source": [
        "numpy.meshgrid 함수\n",
        "- 두 개 이상의 1차원 배열을 입력으로 받아서 각각의 배열을 기반으로 좌표 그리드를 생성하는 함수.\n",
        "- 이 함수는 종종 함수의 값에 대한 2D 표면 플롯이나 3D 표면 플롯을 생성할 때 유용하게 사용"
      ],
      "metadata": {
        "id": "tWH3RRTBP5EF"
      }
    },
    {
      "cell_type": "code",
      "source": [
        "# meshgrid 함수\n",
        "# 두개의 1차원 배열을 받아서 가능한 모든 (x,y) 짝을 만둘 수 있는 2ro"
      ],
      "metadata": {
        "id": "Hv3Ue-pMPaa4"
      },
      "execution_count": null,
      "outputs": []
    },
    {
      "cell_type": "code",
      "source": [
        "import matplotlib.pyplot as plt\n",
        "# 1차원 배열 생성\n",
        "x = np.arange(1, 4)\n",
        "y = np.arange(1, 4)\n",
        "\n",
        "# 2D 그리드 생성\n",
        "xs, ys = np.meshgrid(x, y)\n",
        "\n",
        "# 좌표 그리기\n",
        "plt.figure(figsize=(8, 6))\n",
        "plt.scatter(xs, ys, color='blue')\n",
        "for i in range(len(x)):\n",
        "    for j in range(len(y)):\n",
        "        plt.text(xs[i, j], ys[i, j], f'({xs[i, j]}, {ys[i, j]})', fontsize=12, ha='right')\n",
        "\n",
        "plt.title('2D Grid Coordinates with np.meshgrid')\n",
        "plt.xlabel('X axis')\n",
        "plt.ylabel('Y axis')\n",
        "plt.grid(True)\n",
        "plt.axhline(0, color='black', linewidth=0.5)\n",
        "plt.axvline(0, color='black', linewidth=0.5)\n",
        "plt.show()\n"
      ],
      "metadata": {
        "id": "sdKB1FKXQXSn"
      },
      "execution_count": null,
      "outputs": []
    },
    {
      "cell_type": "code",
      "source": [
        "import numpy as np\n",
        "\n",
        "my_list = [3,1,2]\n",
        "s_list = sorted(my_list)\n",
        "print(s_list)\n",
        "print(my_list)"
      ],
      "metadata": {
        "colab": {
          "base_uri": "https://localhost:8080/"
        },
        "id": "6yNuXjFJikHi",
        "outputId": "e2259a1d-e229-4268-91fb-4777fd8abc9a"
      },
      "execution_count": 1,
      "outputs": [
        {
          "output_type": "stream",
          "name": "stdout",
          "text": [
            "[1, 2, 3]\n",
            "[3, 1, 2]\n"
          ]
        }
      ]
    },
    {
      "cell_type": "code",
      "source": [
        "print(my_list.sort())"
      ],
      "metadata": {
        "colab": {
          "base_uri": "https://localhost:8080/"
        },
        "id": "-Ua3EZQrj6DY",
        "outputId": "837941bb-343f-47bb-8c6a-b52852395a3d"
      },
      "execution_count": 15,
      "outputs": [
        {
          "output_type": "stream",
          "name": "stdout",
          "text": [
            "None\n"
          ]
        }
      ]
    },
    {
      "cell_type": "code",
      "source": [
        "# np.sort() : 복사본을 반환\n",
        "arr = np.random.randint(1,100,size=10)\n",
        "print(arr, '\\n')\n",
        "print(np.sort(arr),'\\n')\n",
        "print(arr)"
      ],
      "metadata": {
        "colab": {
          "base_uri": "https://localhost:8080/"
        },
        "id": "awk9LJh1Qb8H",
        "outputId": "b4b3ed8c-2834-41b0-c58b-bea0be1ce5f6"
      },
      "execution_count": 10,
      "outputs": [
        {
          "output_type": "stream",
          "name": "stdout",
          "text": [
            "[41  9 39 95 68  3 14 41 37 57] \n",
            "\n",
            "[ 3  9 14 37 39 41 41 57 68 95] \n",
            "\n",
            "[41  9 39 95 68  3 14 41 37 57]\n"
          ]
        }
      ]
    },
    {
      "cell_type": "code",
      "source": [
        "sorted = np.sort(arr)\n",
        "print(sorted)"
      ],
      "metadata": {
        "colab": {
          "base_uri": "https://localhost:8080/"
        },
        "id": "hCuU44DnQ46z",
        "outputId": "6c66e0c9-575f-44ff-e820-0844bcb5d21f"
      },
      "execution_count": 11,
      "outputs": [
        {
          "output_type": "stream",
          "name": "stdout",
          "text": [
            "[ 3  9 14 37 39 41 41 57 68 95]\n"
          ]
        }
      ]
    },
    {
      "cell_type": "code",
      "source": [
        "# 행렬이 2차원 이상일 경우 axis 축 값 설정을 통해 로우 방향, 칼럼방향으로 정렬 수행\n",
        "array2d = np.array([[8,12],[7,1]])\n",
        "print(array2d, '\\n')\n",
        "sort_array2d_axis0 = np.sort(array2d, axis=0)\n",
        "print(sort_array2d_axis0, '\\n')\n",
        "sort_array2d_axis1 = np.sort(array2d, axis=1)\n",
        "print(sort_array2d_axis1)"
      ],
      "metadata": {
        "colab": {
          "base_uri": "https://localhost:8080/"
        },
        "id": "jQBEDpEnROIG",
        "outputId": "6f49156e-4dc9-4cac-85e1-1a7b6f90b2c6"
      },
      "execution_count": 12,
      "outputs": [
        {
          "output_type": "stream",
          "name": "stdout",
          "text": [
            "[[ 8 12]\n",
            " [ 7  1]] \n",
            "\n",
            "[[ 7  1]\n",
            " [ 8 12]] \n",
            "\n",
            "[[ 8 12]\n",
            " [ 1  7]]\n"
          ]
        }
      ]
    },
    {
      "cell_type": "code",
      "source": [
        "# ndarray.sort() : 원본 반영\n",
        "arr = np.random.randn(6)\n",
        "print(arr, '\\n')\n",
        "arr.sort()\n",
        "print(arr)"
      ],
      "metadata": {
        "colab": {
          "base_uri": "https://localhost:8080/"
        },
        "id": "_8C3FrR8RkNG",
        "outputId": "f05591cc-5692-403d-92c5-3a02b93e06f8"
      },
      "execution_count": 13,
      "outputs": [
        {
          "output_type": "stream",
          "name": "stdout",
          "text": [
            "[ 1.66050112 -0.81434862 -0.71885362  0.55359398 -0.26764781  1.0251092 ] \n",
            "\n",
            "[-0.81434862 -0.71885362 -0.26764781  0.55359398  1.0251092   1.66050112]\n"
          ]
        }
      ]
    },
    {
      "cell_type": "code",
      "source": [
        "# 다차원 배열의 정렬은 sort 메서드에 넘긴 축에 따라 1차원 부분을 정렬\n",
        "arr = np.random.randn(5,3)\n",
        "print(arr, '\\n')\n",
        "arr.sort(1)\n",
        "print(arr)"
      ],
      "metadata": {
        "colab": {
          "base_uri": "https://localhost:8080/"
        },
        "id": "3-fGppHfiLTB",
        "outputId": "db2674a2-799b-4528-a301-1f99f051e1de"
      },
      "execution_count": 2,
      "outputs": [
        {
          "output_type": "stream",
          "name": "stdout",
          "text": [
            "[[-0.04104448 -1.2782965  -0.05628656]\n",
            " [-0.89731951  0.07185912  0.17725886]\n",
            " [-0.03921917 -0.65548276 -0.77616646]\n",
            " [-0.28395181 -1.84013152  0.78439557]\n",
            " [-0.09458916 -2.13439003 -0.96527119]] \n",
            "\n",
            "[[-1.2782965  -0.05628656 -0.04104448]\n",
            " [-0.89731951  0.07185912  0.17725886]\n",
            " [-0.77616646 -0.65548276 -0.03921917]\n",
            " [-1.84013152 -0.28395181  0.78439557]\n",
            " [-2.13439003 -0.96527119 -0.09458916]]\n"
          ]
        }
      ]
    },
    {
      "cell_type": "code",
      "source": [
        "#default는 0으로 행방향 정렬\n",
        "arr.sort(0)\n",
        "arr"
      ],
      "metadata": {
        "colab": {
          "base_uri": "https://localhost:8080/"
        },
        "id": "y39zkARYkk9r",
        "outputId": "162307e3-6c2c-447e-e5eb-124084898f34"
      },
      "execution_count": 3,
      "outputs": [
        {
          "output_type": "execute_result",
          "data": {
            "text/plain": [
              "array([[-2.13439003, -0.96527119, -0.09458916],\n",
              "       [-1.84013152, -0.65548276, -0.04104448],\n",
              "       [-1.2782965 , -0.28395181, -0.03921917],\n",
              "       [-0.89731951, -0.05628656,  0.17725886],\n",
              "       [-0.77616646,  0.07185912,  0.78439557]])"
            ]
          },
          "metadata": {},
          "execution_count": 3
        }
      ]
    },
    {
      "cell_type": "code",
      "source": [
        "# 정렬된 행렬의 인덱스 반환 : 기존 원본 행렬의 원소에 대한 인덱스를 필요로 할때\n",
        "org_arry = np.array([3,1,9,5])\n",
        "sort_indices = np.argsort(org_arry)\n",
        "\n",
        "print(org_arry, '\\n')\n",
        "print(type(sort_indices))\n",
        "sort_indices"
      ],
      "metadata": {
        "colab": {
          "base_uri": "https://localhost:8080/"
        },
        "id": "UdU8zAQbk4hu",
        "outputId": "808867cd-db23-43fc-e71e-542961bf40e7"
      },
      "execution_count": 4,
      "outputs": [
        {
          "output_type": "stream",
          "name": "stdout",
          "text": [
            "[3 1 9 5] \n",
            "\n",
            "<class 'numpy.ndarray'>\n"
          ]
        },
        {
          "output_type": "execute_result",
          "data": {
            "text/plain": [
              "array([1, 0, 3, 2])"
            ]
          },
          "metadata": {},
          "execution_count": 4
        }
      ]
    },
    {
      "cell_type": "code",
      "source": [
        "np.random.seed(0)\n",
        "large_arr = np.random.randn(1000)\n",
        "large_arr.sort()\n",
        "print(large_arr[:5])\n",
        "large_arr[int(0.05*len(large_arr))] # 5% 분위수"
      ],
      "metadata": {
        "colab": {
          "base_uri": "https://localhost:8080/"
        },
        "id": "KUrDq1mcmEHe",
        "outputId": "5cbfdafe-1b57-4598-8a87-364101aacd3f"
      },
      "execution_count": 7,
      "outputs": [
        {
          "output_type": "stream",
          "name": "stdout",
          "text": [
            "[-3.04614305 -2.83455451 -2.77259276 -2.73967717 -2.65917224]\n"
          ]
        },
        {
          "output_type": "execute_result",
          "data": {
            "text/plain": [
              "-1.6326345262344952"
            ]
          },
          "metadata": {},
          "execution_count": 7
        }
      ]
    },
    {
      "cell_type": "markdown",
      "source": [
        "NumPy에서 unique, intersect1d, union1d,in1d 함수들은 배열 간의 연산 및 원소 처리"
      ],
      "metadata": {
        "id": "p5-SdSW9muhk"
      }
    },
    {
      "cell_type": "code",
      "source": [
        "# 배열 x 내의 모든 고유한 원소를 찾아 정렬된 형태로 반환\n",
        "x = [1,2,2,3,4,4,4]\n",
        "unique_x = np.unique(x)\n",
        "print(unique_x)"
      ],
      "metadata": {
        "colab": {
          "base_uri": "https://localhost:8080/"
        },
        "id": "bGUhsaO8mJgD",
        "outputId": "32a752c2-1293-4638-ebbd-d9cceb418948"
      },
      "execution_count": 8,
      "outputs": [
        {
          "output_type": "stream",
          "name": "stdout",
          "text": [
            "[1 2 3 4]\n"
          ]
        }
      ]
    },
    {
      "cell_type": "code",
      "source": [
        "# 두 배열 x와 y간의 공통 원소를 찾아 정렬된 형태로 반환\n",
        "x = [1,2,3,4]\n",
        "y = [2,3,5,6]\n",
        "intersect = np.intersect1d(x,y)\n",
        "intersect"
      ],
      "metadata": {
        "colab": {
          "base_uri": "https://localhost:8080/"
        },
        "id": "N_nA6Hfwm-Dx",
        "outputId": "76e8ffd5-78e5-4182-9552-4b08538ba8ad"
      },
      "execution_count": 10,
      "outputs": [
        {
          "output_type": "execute_result",
          "data": {
            "text/plain": [
              "array([2, 3])"
            ]
          },
          "metadata": {},
          "execution_count": 10
        }
      ]
    },
    {
      "cell_type": "code",
      "source": [
        "# 두 배열 x와 y를 합쳐 모든 고유한 원소를 정렬하여 반호나\n",
        "x = [1,2,3]\n",
        "y = [2,3,4,5]\n",
        "union = np.union1d(x,y)\n",
        "union"
      ],
      "metadata": {
        "colab": {
          "base_uri": "https://localhost:8080/"
        },
        "id": "nc9TwJRznIRJ",
        "outputId": "98bf6801-34f7-42e6-8100-c9c83cac57b0"
      },
      "execution_count": 11,
      "outputs": [
        {
          "output_type": "execute_result",
          "data": {
            "text/plain": [
              "array([1, 2, 3, 4, 5])"
            ]
          },
          "metadata": {},
          "execution_count": 11
        }
      ]
    },
    {
      "cell_type": "code",
      "source": [
        "# 배열 x의 각 원소가 배열 y에 존재하는지 여부를 불리언 배열로 반환\n",
        "x = [1,2,3,4]\n",
        "y = [2,4,6]\n",
        "result = np.in1d(x,y)\n",
        "result"
      ],
      "metadata": {
        "colab": {
          "base_uri": "https://localhost:8080/"
        },
        "id": "TkjyByZ3nRK3",
        "outputId": "71c7b753-dcd4-431d-b894-575ea25caa39"
      },
      "execution_count": 12,
      "outputs": [
        {
          "output_type": "execute_result",
          "data": {
            "text/plain": [
              "array([False,  True, False,  True])"
            ]
          },
          "metadata": {},
          "execution_count": 12
        }
      ]
    },
    {
      "cell_type": "code",
      "source": [
        "# set 함수는 주어진 반복 가능한 객체(여기서는 names 배열)에서 중복을 제거하고 모든 고유한 원소를 포함하는 집합을 생성\n",
        "import numpy as np\n",
        "names = np.array(['Bob','Joe','Will','Bob','Will','Joe','Joe'])\n",
        "# np.unique(names)\n",
        "set(names)"
      ],
      "metadata": {
        "colab": {
          "base_uri": "https://localhost:8080/"
        },
        "id": "rKl4X2SynrP5",
        "outputId": "9d67e7de-140e-4263-df4a-999d0b730658"
      },
      "execution_count": 13,
      "outputs": [
        {
          "output_type": "execute_result",
          "data": {
            "text/plain": [
              "{'Bob', 'Joe', 'Will'}"
            ]
          },
          "metadata": {},
          "execution_count": 13
        }
      ]
    },
    {
      "cell_type": "code",
      "source": [
        "#배열 데이터의 입출력\n",
        "# np.save, np.load는 바이너리 형식 .npy 파일로 저장\n",
        "arr = np.arange(10)\n",
        "np.save('some_array',arr)"
      ],
      "metadata": {
        "id": "BFaQVmYeoeUh"
      },
      "execution_count": 15,
      "outputs": []
    },
    {
      "cell_type": "code",
      "source": [
        "np.load('some_array.npy')"
      ],
      "metadata": {
        "colab": {
          "base_uri": "https://localhost:8080/"
        },
        "id": "_L-OwFgco4gd",
        "outputId": "35a1ecb9-d0e0-46d9-d705-a5a12e508665"
      },
      "execution_count": 16,
      "outputs": [
        {
          "output_type": "execute_result",
          "data": {
            "text/plain": [
              "array([0, 1, 2, 3, 4, 5, 6, 7, 8, 9])"
            ]
          },
          "metadata": {},
          "execution_count": 16
        }
      ]
    },
    {
      "cell_type": "code",
      "source": [
        "#np.savez : 여러개의 배열을 압축된 형식으로 저장\n",
        "np.savez('array_archive.npz', a= arr,b=arr)\n"
      ],
      "metadata": {
        "id": "nsKLsLiqo9I_"
      },
      "execution_count": 18,
      "outputs": []
    },
    {
      "cell_type": "code",
      "source": [
        "arch = np.load('array_archive.npz')\n",
        "print(arch['b'])\n",
        "arch['a']"
      ],
      "metadata": {
        "colab": {
          "base_uri": "https://localhost:8080/"
        },
        "id": "mzE_6TxepWrt",
        "outputId": "d5e5574f-a8ce-45fa-a848-5e461bfc23a8"
      },
      "execution_count": 19,
      "outputs": [
        {
          "output_type": "stream",
          "name": "stdout",
          "text": [
            "[0 1 2 3 4 5 6 7 8 9]\n"
          ]
        },
        {
          "output_type": "execute_result",
          "data": {
            "text/plain": [
              "array([0, 1, 2, 3, 4, 5, 6, 7, 8, 9])"
            ]
          },
          "metadata": {},
          "execution_count": 19
        }
      ]
    },
    {
      "cell_type": "markdown",
      "source": [
        "Q. 인덱싱을 사용하여 [1010101010]를 출력하세요"
      ],
      "metadata": {
        "id": "INtu6QeDp7Ji"
      }
    },
    {
      "cell_type": "code",
      "source": [
        "a = np.ones(10, dtype=int)\n",
        "print(a)\n",
        "a[[1,3,5,7,9]]=0\n",
        "print(a)"
      ],
      "metadata": {
        "colab": {
          "base_uri": "https://localhost:8080/"
        },
        "id": "6M4FgxCerxvx",
        "outputId": "31f51e84-e1ec-460c-ec74-df79012ac14f"
      },
      "execution_count": 25,
      "outputs": [
        {
          "output_type": "stream",
          "name": "stdout",
          "text": [
            "[1 1 1 1 1 1 1 1 1 1]\n",
            "[1 0 1 0 1 0 1 0 1 0]\n"
          ]
        }
      ]
    },
    {
      "cell_type": "code",
      "source": [
        "boos= arr%2 ==0"
      ],
      "metadata": {
        "id": "YUMQU8P3pguN"
      },
      "execution_count": 20,
      "outputs": []
    },
    {
      "cell_type": "code",
      "source": [
        "boos*1"
      ],
      "metadata": {
        "colab": {
          "base_uri": "https://localhost:8080/"
        },
        "id": "b-I8HkkCqbky",
        "outputId": "132d0889-184c-42a5-bc36-8da32c33a805"
      },
      "execution_count": 22,
      "outputs": [
        {
          "output_type": "execute_result",
          "data": {
            "text/plain": [
              "array([1, 0, 1, 0, 1, 0, 1, 0, 1, 0])"
            ]
          },
          "metadata": {},
          "execution_count": 22
        }
      ]
    },
    {
      "cell_type": "markdown",
      "source": [
        "Q. a배열의 최대값과 최소값의 인덱스를 반환하세요\n"
      ],
      "metadata": {
        "id": "4Rrn39--qnUH"
      }
    },
    {
      "cell_type": "code",
      "source": [
        "a=np.arange(1,11)\n",
        "a\n"
      ],
      "metadata": {
        "colab": {
          "base_uri": "https://localhost:8080/"
        },
        "id": "D-nkWb3iqcnN",
        "outputId": "cd1648eb-3d94-401d-f4d2-ad90f1043bea"
      },
      "execution_count": 24,
      "outputs": [
        {
          "output_type": "execute_result",
          "data": {
            "text/plain": [
              "array([ 1,  2,  3,  4,  5,  6,  7,  8,  9, 10])"
            ]
          },
          "metadata": {},
          "execution_count": 24
        }
      ]
    },
    {
      "cell_type": "code",
      "source": [
        "a=np.arange(1,11)\n",
        "print(a)\n",
        "print(np.argmax(a))\n",
        "print(np.argmin(a))"
      ],
      "metadata": {
        "colab": {
          "base_uri": "https://localhost:8080/"
        },
        "id": "jztRRJszsY1L",
        "outputId": "c81e10c1-dde5-4b41-dbd7-a99fa0a81afd"
      },
      "execution_count": 26,
      "outputs": [
        {
          "output_type": "stream",
          "name": "stdout",
          "text": [
            "[ 1  2  3  4  5  6  7  8  9 10]\n",
            "9\n",
            "0\n"
          ]
        }
      ]
    },
    {
      "cell_type": "code",
      "source": [],
      "metadata": {
        "id": "SbmUS_UKqvkR"
      },
      "execution_count": null,
      "outputs": []
    }
  ]
}