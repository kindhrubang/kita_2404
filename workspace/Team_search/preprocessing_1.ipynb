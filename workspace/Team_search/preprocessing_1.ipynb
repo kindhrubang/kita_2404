{
 "cells": [
  {
   "cell_type": "code",
   "execution_count": 2,
   "metadata": {},
   "outputs": [],
   "source": [
    "import pandas as pd"
   ]
  },
  {
   "cell_type": "code",
   "execution_count": 58,
   "metadata": {},
   "outputs": [
    {
     "data": {
      "text/html": [
       "<div>\n",
       "<style scoped>\n",
       "    .dataframe tbody tr th:only-of-type {\n",
       "        vertical-align: middle;\n",
       "    }\n",
       "\n",
       "    .dataframe tbody tr th {\n",
       "        vertical-align: top;\n",
       "    }\n",
       "\n",
       "    .dataframe thead th {\n",
       "        text-align: right;\n",
       "    }\n",
       "</style>\n",
       "<table border=\"1\" class=\"dataframe\">\n",
       "  <thead>\n",
       "    <tr style=\"text-align: right;\">\n",
       "      <th></th>\n",
       "      <th>title</th>\n",
       "      <th>coment</th>\n",
       "      <th>region</th>\n",
       "      <th>price</th>\n",
       "    </tr>\n",
       "  </thead>\n",
       "  <tbody>\n",
       "    <tr>\n",
       "      <th>0</th>\n",
       "      <td>아이폰13 128</td>\n",
       "      <td>아이폰 13  128기가 화이트색상입니다 선택약정 가능하며 쓰시던유심 그대로 끼워서...</td>\n",
       "      <td>서울 노원구 상계6.7동</td>\n",
       "      <td>440000</td>\n",
       "    </tr>\n",
       "    <tr>\n",
       "      <th>1</th>\n",
       "      <td>아이폰13프로 시에라블루 256g 배터리91</td>\n",
       "      <td>아이폰13프로 256g 정상해지 팝니다  충전기제외 풀박스  수리이력 정식 및 사설...</td>\n",
       "      <td>서울 금천구 독산제1동</td>\n",
       "      <td>720000</td>\n",
       "    </tr>\n",
       "    <tr>\n",
       "      <th>2</th>\n",
       "      <td>아이폰 13 128기가</td>\n",
       "      <td>아이폰 13 128기가 미드나잇 색상 입니다 배터리효율85퍼센트 짱짱해요 선택약정가...</td>\n",
       "      <td>서울 노원구 상계6.7동</td>\n",
       "      <td>480000</td>\n",
       "    </tr>\n",
       "    <tr>\n",
       "      <th>3</th>\n",
       "      <td>아이폰13 128기가 미드나잇 팔아여</td>\n",
       "      <td>&lt;통신사 3사 전부 사용가능&gt; 유심기변용!!! 정상 공기계 에요  100% 실사!!...</td>\n",
       "      <td>경기도 김포시 사우동</td>\n",
       "      <td>470000</td>\n",
       "    </tr>\n",
       "    <tr>\n",
       "      <th>4</th>\n",
       "      <td>아이폰 13프로맥스 셔터음 무음 자급제 팝니다</td>\n",
       "      <td>사진처럼 상태 좋습니다  128기가 배터리86프로  수리이력없고 액정기스없고 깨끗합...</td>\n",
       "      <td>경기도 파주시 탄현면</td>\n",
       "      <td>700000</td>\n",
       "    </tr>\n",
       "    <tr>\n",
       "      <th>...</th>\n",
       "      <td>...</td>\n",
       "      <td>...</td>\n",
       "      <td>...</td>\n",
       "      <td>...</td>\n",
       "    </tr>\n",
       "    <tr>\n",
       "      <th>2642</th>\n",
       "      <td>아이폰 13미니</td>\n",
       "      <td>아이폰13미니 미드나잇 블랙256기가 기스없는 a급 입니다. 박스,충전기, 사진에 ...</td>\n",
       "      <td>경기도 광주시 회덕동</td>\n",
       "      <td>450000</td>\n",
       "    </tr>\n",
       "    <tr>\n",
       "      <th>2643</th>\n",
       "      <td>아이폰13미니 256 미드나이트 (카메라 무음)</td>\n",
       "      <td>미국 LA 애플매장에서 구매한 자급제폰으로  카메라 촬영시 소리 안납니다   배터리...</td>\n",
       "      <td>인천 미추홀구 도화동</td>\n",
       "      <td>500000</td>\n",
       "    </tr>\n",
       "    <tr>\n",
       "      <th>2644</th>\n",
       "      <td>Iphone 13-128gb = 520.000</td>\n",
       "      <td>Iphone 13-128g. Pink 이쁜 핑크입니다  상태 좋아요  배터리 86%...</td>\n",
       "      <td>경기도 시흥시 정왕동</td>\n",
       "      <td>520000</td>\n",
       "    </tr>\n",
       "    <tr>\n",
       "      <th>2645</th>\n",
       "      <td>아이폰13프로 시에라블루 128g S급</td>\n",
       "      <td>아이폰 13 pro 시에라블루 128기가 팝니다 화면 상단의 깨짐은 부착되어있는 지...</td>\n",
       "      <td>경기도 광주시 송정동</td>\n",
       "      <td>650000</td>\n",
       "    </tr>\n",
       "    <tr>\n",
       "      <th>2646</th>\n",
       "      <td>아이폰13프로 시에라블루 128g S급</td>\n",
       "      <td>아이폰 13 pro 시에라블루 128기가 팝니다 화면 상단의 깨짐은 부착되어있는 지...</td>\n",
       "      <td>경기도 광주시 송정동</td>\n",
       "      <td>650000</td>\n",
       "    </tr>\n",
       "  </tbody>\n",
       "</table>\n",
       "<p>2647 rows × 4 columns</p>\n",
       "</div>"
      ],
      "text/plain": [
       "                           title  \\\n",
       "0                      아이폰13 128   \n",
       "1       아이폰13프로 시에라블루 256g 배터리91   \n",
       "2                   아이폰 13 128기가   \n",
       "3           아이폰13 128기가 미드나잇 팔아여   \n",
       "4      아이폰 13프로맥스 셔터음 무음 자급제 팝니다   \n",
       "...                          ...   \n",
       "2642                    아이폰 13미니   \n",
       "2643  아이폰13미니 256 미드나이트 (카메라 무음)   \n",
       "2644   Iphone 13-128gb = 520.000   \n",
       "2645       아이폰13프로 시에라블루 128g S급   \n",
       "2646       아이폰13프로 시에라블루 128g S급   \n",
       "\n",
       "                                                 coment  \\\n",
       "0     아이폰 13  128기가 화이트색상입니다 선택약정 가능하며 쓰시던유심 그대로 끼워서...   \n",
       "1     아이폰13프로 256g 정상해지 팝니다  충전기제외 풀박스  수리이력 정식 및 사설...   \n",
       "2     아이폰 13 128기가 미드나잇 색상 입니다 배터리효율85퍼센트 짱짱해요 선택약정가...   \n",
       "3     <통신사 3사 전부 사용가능> 유심기변용!!! 정상 공기계 에요  100% 실사!!...   \n",
       "4     사진처럼 상태 좋습니다  128기가 배터리86프로  수리이력없고 액정기스없고 깨끗합...   \n",
       "...                                                 ...   \n",
       "2642  아이폰13미니 미드나잇 블랙256기가 기스없는 a급 입니다. 박스,충전기, 사진에 ...   \n",
       "2643  미국 LA 애플매장에서 구매한 자급제폰으로  카메라 촬영시 소리 안납니다   배터리...   \n",
       "2644  Iphone 13-128g. Pink 이쁜 핑크입니다  상태 좋아요  배터리 86%...   \n",
       "2645  아이폰 13 pro 시에라블루 128기가 팝니다 화면 상단의 깨짐은 부착되어있는 지...   \n",
       "2646  아이폰 13 pro 시에라블루 128기가 팝니다 화면 상단의 깨짐은 부착되어있는 지...   \n",
       "\n",
       "                           region   price  \n",
       "0             서울 노원구 상계6.7동        440000  \n",
       "1              서울 금천구 독산제1동        720000  \n",
       "2             서울 노원구 상계6.7동        480000  \n",
       "3               경기도 김포시 사우동        470000  \n",
       "4               경기도 파주시 탄현면        700000  \n",
       "...                           ...     ...  \n",
       "2642            경기도 광주시 회덕동        450000  \n",
       "2643            인천 미추홀구 도화동        500000  \n",
       "2644            경기도 시흥시 정왕동        520000  \n",
       "2645            경기도 광주시 송정동        650000  \n",
       "2646            경기도 광주시 송정동        650000  \n",
       "\n",
       "[2647 rows x 4 columns]"
      ]
     },
     "execution_count": 58,
     "metadata": {},
     "output_type": "execute_result"
    }
   ],
   "source": [
    "df = pd.read_csv('아이폰_13_전처리.csv')\n",
    "df"
   ]
  },
  {
   "cell_type": "code",
   "execution_count": 59,
   "metadata": {},
   "outputs": [
    {
     "data": {
      "text/plain": [
       "2647"
      ]
     },
     "execution_count": 59,
     "metadata": {},
     "output_type": "execute_result"
    }
   ],
   "source": [
    "len(df)"
   ]
  },
  {
   "cell_type": "code",
   "execution_count": 60,
   "metadata": {},
   "outputs": [],
   "source": [
    "#price를 int로\n",
    "idx = df[df['price'] == \"나눔🧡\"].index\n",
    "df.drop(idx,inplace=True)"
   ]
  },
  {
   "cell_type": "code",
   "execution_count": 61,
   "metadata": {},
   "outputs": [],
   "source": [
    "idx = df[df['price'] =='가격없음'].index\n",
    "df.drop(idx,inplace=True)"
   ]
  },
  {
   "cell_type": "code",
   "execution_count": 62,
   "metadata": {},
   "outputs": [],
   "source": [
    "df['price']=df['price'].astype(int)"
   ]
  },
  {
   "cell_type": "code",
   "execution_count": 63,
   "metadata": {},
   "outputs": [],
   "source": [
    "idx = df[df['price']<10001].index\n",
    "df.drop(idx,inplace=True)"
   ]
  },
  {
   "cell_type": "code",
   "execution_count": 64,
   "metadata": {},
   "outputs": [],
   "source": [
    "idx = df[df['title'].str.contains('케이스')].index\n",
    "df.drop(idx,inplace=True)"
   ]
  },
  {
   "cell_type": "code",
   "execution_count": 65,
   "metadata": {},
   "outputs": [],
   "source": [
    "idx = df[df['title'].str.contains('필름')].index\n",
    "df.drop(idx,inplace=True)"
   ]
  },
  {
   "cell_type": "code",
   "execution_count": 66,
   "metadata": {},
   "outputs": [],
   "source": [
    "df = df.reset_index()"
   ]
  },
  {
   "cell_type": "code",
   "execution_count": 67,
   "metadata": {},
   "outputs": [],
   "source": [
    "# 중복 제거\n",
    "df = df.drop_duplicates()"
   ]
  },
  {
   "cell_type": "code",
   "execution_count": 68,
   "metadata": {},
   "outputs": [],
   "source": [
    "df = df.drop('index',axis=1)"
   ]
  },
  {
   "cell_type": "code",
   "execution_count": 69,
   "metadata": {},
   "outputs": [
    {
     "data": {
      "text/plain": [
       "2123"
      ]
     },
     "execution_count": 69,
     "metadata": {},
     "output_type": "execute_result"
    }
   ],
   "source": [
    "len(df['title'].unique())"
   ]
  },
  {
   "cell_type": "code",
   "execution_count": 70,
   "metadata": {},
   "outputs": [],
   "source": [
    "#region 전처리\n",
    "df['region']=df['region'].str.replace('\\n','')"
   ]
  },
  {
   "cell_type": "code",
   "execution_count": 80,
   "metadata": {},
   "outputs": [
    {
     "data": {
      "text/html": [
       "<div>\n",
       "<style scoped>\n",
       "    .dataframe tbody tr th:only-of-type {\n",
       "        vertical-align: middle;\n",
       "    }\n",
       "\n",
       "    .dataframe tbody tr th {\n",
       "        vertical-align: top;\n",
       "    }\n",
       "\n",
       "    .dataframe thead th {\n",
       "        text-align: right;\n",
       "    }\n",
       "</style>\n",
       "<table border=\"1\" class=\"dataframe\">\n",
       "  <thead>\n",
       "    <tr style=\"text-align: right;\">\n",
       "      <th></th>\n",
       "      <th>title</th>\n",
       "      <th>coment</th>\n",
       "      <th>region</th>\n",
       "      <th>price</th>\n",
       "    </tr>\n",
       "  </thead>\n",
       "  <tbody>\n",
       "    <tr>\n",
       "      <th>0</th>\n",
       "      <td>아이폰13 128</td>\n",
       "      <td>아이폰 13  128기가 화이트색상입니다 선택약정 가능하며 쓰시던유심 그대로 끼워서...</td>\n",
       "      <td>서울 노원구 상계6.7동</td>\n",
       "      <td>440000</td>\n",
       "    </tr>\n",
       "    <tr>\n",
       "      <th>1</th>\n",
       "      <td>아이폰13프로 시에라블루 256g 배터리91</td>\n",
       "      <td>아이폰13프로 256g 정상해지 팝니다  충전기제외 풀박스  수리이력 정식 및 사설...</td>\n",
       "      <td>서울 금천구 독산제1동</td>\n",
       "      <td>720000</td>\n",
       "    </tr>\n",
       "    <tr>\n",
       "      <th>2</th>\n",
       "      <td>아이폰 13 128기가</td>\n",
       "      <td>아이폰 13 128기가 미드나잇 색상 입니다 배터리효율85퍼센트 짱짱해요 선택약정가...</td>\n",
       "      <td>서울 노원구 상계6.7동</td>\n",
       "      <td>480000</td>\n",
       "    </tr>\n",
       "    <tr>\n",
       "      <th>3</th>\n",
       "      <td>아이폰13 128기가 미드나잇 팔아여</td>\n",
       "      <td>&lt;통신사 3사 전부 사용가능&gt; 유심기변용!!! 정상 공기계 에요  100% 실사!!...</td>\n",
       "      <td>경기도 김포시 사우동</td>\n",
       "      <td>470000</td>\n",
       "    </tr>\n",
       "    <tr>\n",
       "      <th>4</th>\n",
       "      <td>아이폰 13프로맥스 셔터음 무음 자급제 팝니다</td>\n",
       "      <td>사진처럼 상태 좋습니다  128기가 배터리86프로  수리이력없고 액정기스없고 깨끗합...</td>\n",
       "      <td>경기도 파주시 탄현면</td>\n",
       "      <td>700000</td>\n",
       "    </tr>\n",
       "    <tr>\n",
       "      <th>...</th>\n",
       "      <td>...</td>\n",
       "      <td>...</td>\n",
       "      <td>...</td>\n",
       "      <td>...</td>\n",
       "    </tr>\n",
       "    <tr>\n",
       "      <th>2607</th>\n",
       "      <td>아이폰 13미니</td>\n",
       "      <td>아이폰13미니 미드나잇 블랙256기가 기스없는 a급 입니다. 박스,충전기, 사진에 ...</td>\n",
       "      <td>경기도 광주시 회덕동</td>\n",
       "      <td>450000</td>\n",
       "    </tr>\n",
       "    <tr>\n",
       "      <th>2608</th>\n",
       "      <td>아이폰13미니 256 미드나이트 (카메라 무음)</td>\n",
       "      <td>미국 LA 애플매장에서 구매한 자급제폰으로  카메라 촬영시 소리 안납니다   배터리...</td>\n",
       "      <td>인천 미추홀구 도화동</td>\n",
       "      <td>500000</td>\n",
       "    </tr>\n",
       "    <tr>\n",
       "      <th>2609</th>\n",
       "      <td>Iphone 13-128gb = 520.000</td>\n",
       "      <td>Iphone 13-128g. Pink 이쁜 핑크입니다  상태 좋아요  배터리 86%...</td>\n",
       "      <td>경기도 시흥시 정왕동</td>\n",
       "      <td>520000</td>\n",
       "    </tr>\n",
       "    <tr>\n",
       "      <th>2610</th>\n",
       "      <td>아이폰13프로 시에라블루 128g S급</td>\n",
       "      <td>아이폰 13 pro 시에라블루 128기가 팝니다 화면 상단의 깨짐은 부착되어있는 지...</td>\n",
       "      <td>경기도 광주시 송정동</td>\n",
       "      <td>650000</td>\n",
       "    </tr>\n",
       "    <tr>\n",
       "      <th>2611</th>\n",
       "      <td>아이폰13프로 시에라블루 128g S급</td>\n",
       "      <td>아이폰 13 pro 시에라블루 128기가 팝니다 화면 상단의 깨짐은 부착되어있는 지...</td>\n",
       "      <td>경기도 광주시 송정동</td>\n",
       "      <td>650000</td>\n",
       "    </tr>\n",
       "  </tbody>\n",
       "</table>\n",
       "<p>2568 rows × 4 columns</p>\n",
       "</div>"
      ],
      "text/plain": [
       "                           title  \\\n",
       "0                      아이폰13 128   \n",
       "1       아이폰13프로 시에라블루 256g 배터리91   \n",
       "2                   아이폰 13 128기가   \n",
       "3           아이폰13 128기가 미드나잇 팔아여   \n",
       "4      아이폰 13프로맥스 셔터음 무음 자급제 팝니다   \n",
       "...                          ...   \n",
       "2607                    아이폰 13미니   \n",
       "2608  아이폰13미니 256 미드나이트 (카메라 무음)   \n",
       "2609   Iphone 13-128gb = 520.000   \n",
       "2610       아이폰13프로 시에라블루 128g S급   \n",
       "2611       아이폰13프로 시에라블루 128g S급   \n",
       "\n",
       "                                                 coment  \\\n",
       "0     아이폰 13  128기가 화이트색상입니다 선택약정 가능하며 쓰시던유심 그대로 끼워서...   \n",
       "1     아이폰13프로 256g 정상해지 팝니다  충전기제외 풀박스  수리이력 정식 및 사설...   \n",
       "2     아이폰 13 128기가 미드나잇 색상 입니다 배터리효율85퍼센트 짱짱해요 선택약정가...   \n",
       "3     <통신사 3사 전부 사용가능> 유심기변용!!! 정상 공기계 에요  100% 실사!!...   \n",
       "4     사진처럼 상태 좋습니다  128기가 배터리86프로  수리이력없고 액정기스없고 깨끗합...   \n",
       "...                                                 ...   \n",
       "2607  아이폰13미니 미드나잇 블랙256기가 기스없는 a급 입니다. 박스,충전기, 사진에 ...   \n",
       "2608  미국 LA 애플매장에서 구매한 자급제폰으로  카메라 촬영시 소리 안납니다   배터리...   \n",
       "2609  Iphone 13-128g. Pink 이쁜 핑크입니다  상태 좋아요  배터리 86%...   \n",
       "2610  아이폰 13 pro 시에라블루 128기가 팝니다 화면 상단의 깨짐은 부착되어있는 지...   \n",
       "2611  아이폰 13 pro 시에라블루 128기가 팝니다 화면 상단의 깨짐은 부착되어있는 지...   \n",
       "\n",
       "                           region   price  \n",
       "0             서울 노원구 상계6.7동        440000  \n",
       "1              서울 금천구 독산제1동        720000  \n",
       "2             서울 노원구 상계6.7동        480000  \n",
       "3               경기도 김포시 사우동        470000  \n",
       "4               경기도 파주시 탄현면        700000  \n",
       "...                           ...     ...  \n",
       "2607            경기도 광주시 회덕동        450000  \n",
       "2608            인천 미추홀구 도화동        500000  \n",
       "2609            경기도 시흥시 정왕동        520000  \n",
       "2610            경기도 광주시 송정동        650000  \n",
       "2611            경기도 광주시 송정동        650000  \n",
       "\n",
       "[2568 rows x 4 columns]"
      ]
     },
     "execution_count": 80,
     "metadata": {},
     "output_type": "execute_result"
    }
   ],
   "source": [
    "df"
   ]
  },
  {
   "cell_type": "code",
   "execution_count": 79,
   "metadata": {},
   "outputs": [],
   "source": [
    "idx = df[df['title'].str.contains('아이패드')].index\n",
    "df.drop(idx,inplace=True)"
   ]
  },
  {
   "cell_type": "code",
   "execution_count": 82,
   "metadata": {},
   "outputs": [],
   "source": [
    "df.to_csv('아이폰_13_전처리.csv',index=False, encoding=\"utf-8-sig\")"
   ]
  },
  {
   "cell_type": "code",
   "execution_count": 74,
   "metadata": {},
   "outputs": [
    {
     "data": {
      "text/plain": [
       "array(['아이폰13 128', '아이폰13프로 시에라블루 256g 배터리91', '아이폰 13 128기가', ...,\n",
       "       '아이폰13미니 256 미드나이트 (카메라 무음)', 'Iphone 13-128gb = 520.000',\n",
       "       '아이폰13프로 시에라블루 128g S급'], dtype=object)"
      ]
     },
     "execution_count": 74,
     "metadata": {},
     "output_type": "execute_result"
    }
   ],
   "source": [
    "df['title'].unique()"
   ]
  },
  {
   "cell_type": "code",
   "execution_count": null,
   "metadata": {},
   "outputs": [],
   "source": []
  },
  {
   "cell_type": "code",
   "execution_count": null,
   "metadata": {},
   "outputs": [],
   "source": []
  }
 ],
 "metadata": {
  "kernelspec": {
   "display_name": "myenv",
   "language": "python",
   "name": "python3"
  },
  "language_info": {
   "codemirror_mode": {
    "name": "ipython",
    "version": 3
   },
   "file_extension": ".py",
   "mimetype": "text/x-python",
   "name": "python",
   "nbconvert_exporter": "python",
   "pygments_lexer": "ipython3",
   "version": "3.10.11"
  }
 },
 "nbformat": 4,
 "nbformat_minor": 2
}
