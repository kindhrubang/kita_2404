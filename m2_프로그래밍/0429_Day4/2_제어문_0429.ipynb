{
  "nbformat": 4,
  "nbformat_minor": 0,
  "metadata": {
    "colab": {
      "provenance": [],
      "toc_visible": true
    },
    "kernelspec": {
      "name": "python3",
      "display_name": "Python 3"
    },
    "language_info": {
      "name": "python"
    }
  },
  "cells": [
    {
      "cell_type": "markdown",
      "source": [
        "제어문(control statement)은 프로그램의 흐름을 제어하는데 사용\n",
        "\n",
        "#### 조건문 (Conditional Statements):\n",
        "- if: 특정 조건이 참(True)일 때 코드 블록을 실행\n",
        "    - 조건은 비교 연산자(==, !=, <, >, <=, >=)와 논리 연산자(and, or, not)를 사용하여 표현할 수 있다\n",
        "- elif: 이전의 if 또는 elif 조건이 거짓(False)일 때 다른 조건을 검사\n",
        "    - elif는 'else if'의 축약형으로, 이전 if 또는 elif 문의 조건이 거짓(False)일 때 다른 조건을 검사\n",
        "    - 여러 elif 문을 사용하여 다양한 조건을 검사할 수 있다\n",
        "- else:\n",
        "    - 이전의 if 또는 elif 문의 조건이 모두 거짓일 때 실행할 코드 블록을 지정"
      ],
      "metadata": {
        "id": "ITv76F0S8R6z"
      }
    },
    {
      "cell_type": "code",
      "source": [
        "x = int(input('숫자 입력 :'))\n",
        "if x > 5:\n",
        "    print('x는 5보다 큽니다.')\n",
        "elif x==5:\n",
        "    print('x는 5입니다.')\n",
        "else:\n",
        "    print('x는 5보다 작습니다.')"
      ],
      "metadata": {
        "colab": {
          "base_uri": "https://localhost:8080/"
        },
        "id": "jYBNqdCo8pPl",
        "outputId": "2d9ab1aa-56d6-441f-eb01-45b11023679e"
      },
      "execution_count": 3,
      "outputs": [
        {
          "output_type": "stream",
          "name": "stdout",
          "text": [
            "숫자 입력 :22\n",
            "x는 5보다 큽니다.\n"
          ]
        }
      ]
    },
    {
      "cell_type": "code",
      "source": [
        "x = int(input('숫자 입력 :'))\n",
        "if x >= 5:\n",
        "    print(\"x는 5보다 크거나 같습니다.\")\n",
        "else:\n",
        "    print(\"x는 5보다 작습니다\")"
      ],
      "metadata": {
        "colab": {
          "base_uri": "https://localhost:8080/"
        },
        "id": "hC4tGYT--QpI",
        "outputId": "a6047f39-f7d6-4b74-f032-7ca67b00bc64"
      },
      "execution_count": 5,
      "outputs": [
        {
          "output_type": "stream",
          "name": "stdout",
          "text": [
            "숫자 입력 :1\n",
            "x는 5보다 작습니다\n"
          ]
        }
      ]
    },
    {
      "cell_type": "code",
      "source": [
        "x = int(input('숫자 입력 :'))\n",
        "y = int(input('숫자 입력 :'))\n",
        "if x>5:\n",
        "    print('x는 5보다 큽니다.')\n",
        "if y<10:\n",
        "    print('y 는 10보다 작습니다.')\n",
        "if x>y:\n",
        "    print('x는 y보다 큽니다')"
      ],
      "metadata": {
        "colab": {
          "base_uri": "https://localhost:8080/"
        },
        "id": "aN8PpaZ1R1Xu",
        "outputId": "a3ffb304-4acc-4de4-e3ab-cf237036e077"
      },
      "execution_count": 7,
      "outputs": [
        {
          "output_type": "stream",
          "name": "stdout",
          "text": [
            "숫자 입력 :4\n",
            "숫자 입력 :2\n",
            "y 는 10보다 작습니다.\n",
            "x는 y보다 큽니다\n"
          ]
        }
      ]
    },
    {
      "cell_type": "code",
      "source": [
        "x = int(input('숫자 입력 :'))\n",
        "y = int(input('숫자 입력 :'))\n",
        "if x>5:\n",
        "    if y>=3:\n",
        "        print('x는 5보다 크고  y는 3보다 크거나 같습니다.')\n",
        "    else:\n",
        "        print('x는 5보다 크고 y는 3보다 작습니다.')\n",
        "else:\n",
        "    print('x는 5보다 작거나 같습니다.')"
      ],
      "metadata": {
        "colab": {
          "base_uri": "https://localhost:8080/"
        },
        "id": "R02jH3TwSYP-",
        "outputId": "43e40cef-8fca-4638-f91a-2313492d98a3"
      },
      "execution_count": 8,
      "outputs": [
        {
          "output_type": "stream",
          "name": "stdout",
          "text": [
            "숫자 입력 :50\n",
            "숫자 입력 :3\n",
            "x는 5보다 크고  y는 3보다 크거나 같습니다.\n"
          ]
        }
      ]
    },
    {
      "cell_type": "code",
      "source": [
        "x = int(input('숫자 입력 :'))\n",
        "y = int(input('숫자 입력 :'))\n",
        "if x > y:\n",
        "    if x+y > 20:\n",
        "        print('욕심이 과했습니다!')\n",
        "    elif x+y == 20:\n",
        "        print('최대 상금을 수령했습니다!')\n",
        "    else:\n",
        "        if x+y==7:\n",
        "            print(f'행운의 숫자 당첨!{x**(-y)}만원!!')\n",
        "        else:\n",
        "            print(f'{x+y}만원 당첨!')\n",
        "elif x == y:\n",
        "    print('더블! 2만원 당첨!')\n",
        "else:\n",
        "    print('조건을 만족하지 못하여 0원!')"
      ],
      "metadata": {
        "colab": {
          "base_uri": "https://localhost:8080/"
        },
        "id": "cjJegm_wTyFR",
        "outputId": "e86c6941-daf7-4016-9fb5-cc5924d983e1"
      },
      "execution_count": 20,
      "outputs": [
        {
          "output_type": "stream",
          "name": "stdout",
          "text": [
            "숫자 입력 :10\n",
            "숫자 입력 :-3\n",
            "행운의 숫자 당첨!1000만원!!\n"
          ]
        }
      ]
    },
    {
      "cell_type": "code",
      "source": [
        "listdata = ['a', 'b', 'c']\n",
        "\n",
        "if 'a' in listdata:\n",
        "    print('a가 listdata에 있습니다.')\n",
        "if 'b' in listdata:\n",
        "    print('b가 listdata에 있습니다.')\n",
        "if 'c' in listdata:\n",
        "    print('c가 listdata에 있습니다.')"
      ],
      "metadata": {
        "colab": {
          "base_uri": "https://localhost:8080/"
        },
        "id": "DpSc5NL0ViDJ",
        "outputId": "5e3dcaa4-2128-43b4-bdfc-2063dfa90d82"
      },
      "execution_count": 21,
      "outputs": [
        {
          "output_type": "stream",
          "name": "stdout",
          "text": [
            "a가 listdata에 있습니다.\n",
            "b가 listdata에 있습니다.\n",
            "c가 listdata에 있습니다.\n"
          ]
        }
      ]
    },
    {
      "cell_type": "code",
      "source": [
        "listdata = ['a', 'b', 'c']\n",
        "\n",
        "for i in listdata:\n",
        "    print(f'{i}가 listdata에 있습니다.')"
      ],
      "metadata": {
        "colab": {
          "base_uri": "https://localhost:8080/"
        },
        "id": "zV1pilxKY1ya",
        "outputId": "6a632040-8448-4a97-c928-f232c7ae0589"
      },
      "execution_count": 22,
      "outputs": [
        {
          "output_type": "stream",
          "name": "stdout",
          "text": [
            "a가 listdata에 있습니다.\n",
            "b가 listdata에 있습니다.\n",
            "c가 listdata에 있습니다.\n"
          ]
        }
      ]
    },
    {
      "cell_type": "code",
      "source": [
        "#Q.\"돈이 있으면 택시를 타고, 돈이 없으면 걸어 간다\"를 만족하는 조건문을 작성하세요\n",
        "money = int(input('지금 갖고있는 돈은?(숫자로 입력): '))\n",
        "way = float(input('목적지 까지의 거리를 입력(1.5키로일 경우 1.5):'))\n",
        "\n",
        "if money<5000:\n",
        "    print('돈이 없으니 걸어가자')\n",
        "if money<5000*way:\n",
        "    print('돈이 부족하다! 걸어가도록 하자!')\n",
        "else:\n",
        "    print('택시타고 편하게 가자!')"
      ],
      "metadata": {
        "colab": {
          "base_uri": "https://localhost:8080/"
        },
        "id": "cZzA5nyBZcWw",
        "outputId": "fe04798b-fd98-4b57-d108-f14b695cbf28"
      },
      "execution_count": 29,
      "outputs": [
        {
          "output_type": "stream",
          "name": "stdout",
          "text": [
            "지금 갖고있는 돈은?(숫자로 입력): 61651651\n",
            "목적지 까지의 거리를 입력(1.5키로일 경우 1.5):34\n",
            "택시타고 편하게 가자!\n"
          ]
        }
      ]
    },
    {
      "cell_type": "code",
      "source": [
        "score = 69\n",
        "a= [\"sucess\" if score >= 70 else \"failure\"]\n",
        "a"
      ],
      "metadata": {
        "colab": {
          "base_uri": "https://localhost:8080/"
        },
        "id": "Lop73DyXev_n",
        "outputId": "7365feae-4440-4e78-d710-b8852f582230"
      },
      "execution_count": 42,
      "outputs": [
        {
          "output_type": "execute_result",
          "data": {
            "text/plain": [
              "['failure']"
            ]
          },
          "metadata": {},
          "execution_count": 42
        }
      ]
    },
    {
      "cell_type": "code",
      "source": [
        "# Q. \"수입과 지출금액을 비교해서 수입이 많으면 저축 증가, 반대이면 빚이 증가\" 프로그램을 작성해보시오\n",
        "\n",
        "\n",
        "total = 0\n",
        "i = 0\n",
        "while i < 12:\n",
        "    income = int(input(\"이번달 소득을 입력하세요 :\"))\n",
        "    spend = int(input(\"이번달 지출금액을 입력하세요 :\"))\n",
        "    if income > spend:\n",
        "        total += (income - spend)\n",
        "        print(f'잔고에 {income - spend}원이 추가되었습니다. 현제 잔액은{total}원 입니다.')\n",
        "    elif income == spend:\n",
        "        print(f\"현상 유지 현제 잔액은{total}원 입니다.\")\n",
        "    else:\n",
        "        total -= (spend - income)\n",
        "        print(f'통장에 {spend - income}원만큼  차감되었습니다 현제 잔액은{total}원 입니다.')\n",
        "    i += 1"
      ],
      "metadata": {
        "colab": {
          "base_uri": "https://localhost:8080/"
        },
        "id": "gjSPqPmCfm5g",
        "outputId": "dc19ab82-eb60-4388-8ac4-ce61b2e1c9fe"
      },
      "execution_count": 58,
      "outputs": [
        {
          "output_type": "stream",
          "name": "stdout",
          "text": [
            "이번달 소득을 입력하세요 :49999\n",
            "이번달 지출금액을 입력하세요 :500\n",
            "잔고에 49499원이 추가되었습니다. 현제 잔액은49499원 입니다.\n",
            "이번달 소득을 입력하세요 :50\n",
            "이번달 지출금액을 입력하세요 :100000\n",
            "통장에 99950원만큼  차감되었습니다 현제 잔액은-50451원 입니다.\n",
            "이번달 소득을 입력하세요 :99999\n",
            "이번달 지출금액을 입력하세요 :500\n",
            "잔고에 99499원이 추가되었습니다. 현제 잔액은49048원 입니다.\n",
            "이번달 소득을 입력하세요 :5000\n",
            "이번달 지출금액을 입력하세요 :40000\n",
            "통장에 35000원만큼  차감되었습니다 현제 잔액은14048원 입니다.\n",
            "이번달 소득을 입력하세요 :5000\n",
            "이번달 지출금액을 입력하세요 :20000\n",
            "통장에 15000원만큼  차감되었습니다 현제 잔액은-952원 입니다.\n",
            "이번달 소득을 입력하세요 :100000\n",
            "이번달 지출금액을 입력하세요 :555\n",
            "잔고에 99445원이 추가되었습니다. 현제 잔액은98493원 입니다.\n",
            "이번달 소득을 입력하세요 :3132132\n",
            "이번달 지출금액을 입력하세요 :15515\n",
            "잔고에 3116617원이 추가되었습니다. 현제 잔액은3215110원 입니다.\n",
            "이번달 소득을 입력하세요 :231213\n",
            "이번달 지출금액을 입력하세요 :51515\n",
            "잔고에 179698원이 추가되었습니다. 현제 잔액은3394808원 입니다.\n",
            "이번달 소득을 입력하세요 :1351531\n",
            "이번달 지출금액을 입력하세요 :51351321\n",
            "통장에 49999790원만큼  차감되었습니다 현제 잔액은-46604982원 입니다.\n",
            "이번달 소득을 입력하세요 :5151515161\n",
            "이번달 지출금액을 입력하세요 :50500000\n",
            "잔고에 5101015161원이 추가되었습니다. 현제 잔액은5054410179원 입니다.\n",
            "이번달 소득을 입력하세요 :50000\n",
            "이번달 지출금액을 입력하세요 :50000\n",
            "현상 유지 현제 잔액은5054410179원 입니다.\n",
            "이번달 소득을 입력하세요 :5000\n",
            "이번달 지출금액을 입력하세요 :5000\n",
            "현상 유지 현제 잔액은5054410179원 입니다.\n"
          ]
        }
      ]
    },
    {
      "cell_type": "markdown",
      "source": [
        "## 반복문 (Loop Statements):\n",
        "- for:시퀀스(리스트, 튜플,문자열 등)의 아이템을 순회하면서 코드 블록을 실행\n",
        "- while: 특정 조건이 참인 동안 코드 블록을 반복하여 실행"
      ],
      "metadata": {
        "id": "HiPaUjnXiBRM"
      }
    },
    {
      "cell_type": "code",
      "source": [
        "for i in range(5):\n",
        "    print(i, end='\\t')\n",
        "print('\\n\\n\\n\\n\\n\\n\\n')\n",
        "count = 0\n",
        "while count < 5:\n",
        "    count += 1\n",
        "    print(count, end='       ')\n"
      ],
      "metadata": {
        "colab": {
          "base_uri": "https://localhost:8080/"
        },
        "id": "uLihPr7YhjwH",
        "outputId": "699c1aa6-4128-4e70-f674-a6956895b826"
      },
      "execution_count": 57,
      "outputs": [
        {
          "output_type": "stream",
          "name": "stdout",
          "text": [
            "0\t1\t2\t3\t4\t\n",
            "\n",
            "\n",
            "\n",
            "\n",
            "\n",
            "\n",
            "\n",
            "1       2       3       4       5       "
          ]
        }
      ]
    },
    {
      "cell_type": "code",
      "source": [
        "for i in [1,2,3,4,5]:\n",
        "    print(i,end='    ')\n",
        "print('\\n\\n')\n",
        "\n",
        "for char in \"hello\":\n",
        "    print(char, end=' ')"
      ],
      "metadata": {
        "colab": {
          "base_uri": "https://localhost:8080/"
        },
        "id": "ZSZU0ZsrkE_8",
        "outputId": "2cd702aa-989d-4725-c8b4-6b3056a89bcd"
      },
      "execution_count": 59,
      "outputs": [
        {
          "output_type": "stream",
          "name": "stdout",
          "text": [
            "1    2    3    4    5    \n",
            "\n",
            "\n",
            "h e l l o "
          ]
        }
      ]
    },
    {
      "cell_type": "code",
      "source": [
        "count = 0\n",
        "sum = 0\n",
        "while count < 5:\n",
        "    sum += count\n",
        "    print(sum, end='       ')\n",
        "    count += 1\n"
      ],
      "metadata": {
        "colab": {
          "base_uri": "https://localhost:8080/"
        },
        "id": "Xey95TAVlKJ6",
        "outputId": "0f8362d0-5984-4be1-c5a4-ddc860d2e65b"
      },
      "execution_count": 62,
      "outputs": [
        {
          "output_type": "stream",
          "name": "stdout",
          "text": [
            "0       1       3       6       10       "
          ]
        }
      ]
    },
    {
      "cell_type": "code",
      "source": [
        "# Q. d에서 반복문을 사용하여 97 98 99 를 출력하세요.\n",
        "d = {'a':97, 'b':98, 'c':99}\n",
        "\n",
        "for i in d:\n",
        "    print(d[i], end=' ')"
      ],
      "metadata": {
        "colab": {
          "base_uri": "https://localhost:8080/"
        },
        "id": "nErOKCtFlzVT",
        "outputId": "1cd5e622-db48-4eb1-d115-37713784dd35"
      },
      "execution_count": 64,
      "outputs": [
        {
          "output_type": "stream",
          "name": "stdout",
          "text": [
            "97 98 99 "
          ]
        }
      ]
    },
    {
      "cell_type": "code",
      "source": [],
      "metadata": {
        "id": "qXa7A1MjnBBL"
      },
      "execution_count": null,
      "outputs": []
    },
    {
      "cell_type": "code",
      "source": [],
      "metadata": {
        "id": "I2jVDe14DTfz"
      },
      "execution_count": null,
      "outputs": []
    }
  ]
}