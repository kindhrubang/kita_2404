{
  "nbformat": 4,
  "nbformat_minor": 0,
  "metadata": {
    "colab": {
      "provenance": [],
      "toc_visible": true
    },
    "kernelspec": {
      "name": "python3",
      "display_name": "Python 3"
    },
    "language_info": {
      "name": "python"
    }
  },
  "cells": [
    {
      "cell_type": "markdown",
      "source": [
        "- 함수의 종류 및 예제\n",
        "- 패키지, 모듈, 함수, 클래스\n",
        "- 함수 vs 메소드\n",
        "- 내장함수 연습\n",
        "- 외장함수 연습 : 날짜 함수, os\n",
        "- 외부 라이브러리 연습\n",
        "- 람다함수 연습\n",
        "- 사용자 함수 연습\n",
        "- 함수 유형 : 입력 인자와 리턴값에 따른 4가지 형태\n",
        "- 지역변수와 전역변수\n",
        "- 프로그램 작성"
      ],
      "metadata": {
        "id": "6bjk-hh7iusQ"
      }
    },
    {
      "cell_type": "markdown",
      "source": [
        "파이썬에서 함수는 크게 내장 함수(Built-in Functions)와 외장 함수(External Functions)로 나뉩니다.\n",
        "\n",
        "1. 내장 함수 (Built-in Functions):\n",
        "- 내장 함수는 파이썬 인터프리터에 포함되어 있어, 별도의 모듈을 임포트(import)하지 않고도 사용 예를 들어, print(), len(), type(), range(), zip() 등이 내장 함수입니다.\n",
        "- 이러한 함수들은 기본적인 작업을 수행하며, 파이썬 프로그래밍의 기본적인 빌딩 블록(building blocks)으로 작동\n",
        "\n",
        "2. 외장 함수 (External Functions):\n",
        "- 표준 라이브러리에 포함된 모듈과 함수를 가리키는 것으로 모듈을 임포트하여 사용\n",
        "- 파이썬 표준 라이브러리의 os, sys, math, random, datetime 등의 모듈에는 다양한 외장 함수가 포함\n",
        "\n",
        "3. 외부 라이브러리나 패키지\n",
        "- 표준 라이브러리에 포함되지 않아 기본 설치에는 포함되지 않는다.\n",
        "- 이를 사용하려면 먼저 해당 라이브러리나 패키지를 설치\n",
        "- 외부 라이브러리는 통상적으로 파이썬의 패키지 관리자인 pip를 사용하여 설치\n",
        "- 설치 후에는 외장 함수와 마찬가지로 필요한 모듈을 임포트하여 사용\n",
        "- 예: numpy, pandas, requests 등의 외부 라이브러리에 포함된 함수들.\n",
        "\n",
        "3. 사용자 정의 함수(User-Defined Functions):\n",
        "- 사용자가 직접 정의하여 사용하는 함수\n",
        "- def 키워드를 사용하여 함수를 정의하며, 필요에 따라 매개변수와 반환 값을 지정\n",
        "\n",
        "4. 람다 함수(Lambda Functions):\n",
        "- 이름 없는 간단한 함수를 정의할 때 사용하는 익명 함수\n",
        "- lambda 키워드를 사용하여 한 줄로 함수를 정의하며, 주로 간단한 연산이 필요할 때 사용"
      ],
      "metadata": {
        "id": "HttC2jsBEMN6"
      }
    },
    {
      "cell_type": "code",
      "execution_count": null,
      "metadata": {
        "colab": {
          "base_uri": "https://localhost:8080/"
        },
        "id": "-p1z1F5MDxdI",
        "outputId": "ca27cc40-6ea3-4438-b555-9d11b18b703e"
      },
      "outputs": [
        {
          "output_type": "stream",
          "name": "stdout",
          "text": [
            "Hello, World!\n",
            "5\n",
            "<class 'int'>\n"
          ]
        }
      ],
      "source": [
        "#내장 함수 예제\n",
        "print('Hello, World!')\n",
        "print(len([1,2,3,4,5]))\n",
        "print(type(10))"
      ]
    },
    {
      "cell_type": "code",
      "source": [
        "# Q. 내장함수로 다음을 수행하세요.\n",
        "a = [1,2,3,4,5]\n",
        "print(sum(a))\n",
        "print(max(a))\n",
        "print(min(a))\n",
        "print(sorted(a))\n",
        "print(list(reversed(a)))"
      ],
      "metadata": {
        "colab": {
          "base_uri": "https://localhost:8080/"
        },
        "id": "phCFExuCGbvS",
        "outputId": "31863eea-8b25-40b5-dc23-7544c861da97"
      },
      "execution_count": null,
      "outputs": [
        {
          "output_type": "stream",
          "name": "stdout",
          "text": [
            "15\n",
            "5\n",
            "1\n",
            "[1, 2, 3, 4, 5]\n",
            "[5, 4, 3, 2, 1]\n"
          ]
        }
      ]
    },
    {
      "cell_type": "code",
      "source": [
        "print(type('a'))\n",
        "print(abs(-4))#절대값\n",
        "print(round(3.141592458, 3))#반올림\n",
        "print(pow(2,3))#2의 3승"
      ],
      "metadata": {
        "colab": {
          "base_uri": "https://localhost:8080/"
        },
        "id": "Edp_NnhfHGZN",
        "outputId": "53b37c80-102e-4f29-8324-682192033259"
      },
      "execution_count": null,
      "outputs": [
        {
          "output_type": "stream",
          "name": "stdout",
          "text": [
            "<class 'str'>\n",
            "4\n",
            "3.142\n",
            "8\n"
          ]
        }
      ]
    },
    {
      "cell_type": "code",
      "source": [
        "# 외장 함수 예제\n",
        "import math\n",
        "print(math.sqrt(16))\n",
        "\n",
        "import random\n",
        "print(random.randint(1,10))\n",
        "\n",
        "import datetime\n",
        "print(datetime.datetime.now())"
      ],
      "metadata": {
        "colab": {
          "base_uri": "https://localhost:8080/"
        },
        "id": "mOUlfEDGHmDL",
        "outputId": "06286da8-513a-4c69-9cdc-3051eb2b3d47"
      },
      "execution_count": null,
      "outputs": [
        {
          "output_type": "stream",
          "name": "stdout",
          "text": [
            "4.0\n",
            "10\n",
            "2024-05-03 06:25:12.663198\n"
          ]
        }
      ]
    },
    {
      "cell_type": "code",
      "source": [
        "# Q. datetime.datetime.now()에서 연도, 월, 일, 시, 분, 초, 마이크로초를 각각 출력하세요\n",
        "from datetime import datetime as dt\n",
        "\n",
        "now = dt.now()\n",
        "print(dt.now().year)\n",
        "print(now.month)\n",
        "print(now.day)\n",
        "print(now.hour)\n",
        "print(now.minute)\n",
        "print(now.second)\n",
        "print(now.microsecond)\n"
      ],
      "metadata": {
        "colab": {
          "base_uri": "https://localhost:8080/"
        },
        "id": "D0e7ljSjIJKt",
        "outputId": "00861bc0-9f44-49c6-8d03-d36361763d88"
      },
      "execution_count": null,
      "outputs": [
        {
          "output_type": "stream",
          "name": "stdout",
          "text": [
            "2024\n",
            "5\n",
            "3\n",
            "6\n",
            "33\n",
            "34\n",
            "223093\n"
          ]
        }
      ]
    },
    {
      "cell_type": "code",
      "source": [
        "import os\n",
        "print(os.getcwd())\n",
        "print(os)"
      ],
      "metadata": {
        "colab": {
          "base_uri": "https://localhost:8080/"
        },
        "id": "ZFNVwLNaJ8qh",
        "outputId": "21bcba55-6e79-4249-d63a-b26247220476"
      },
      "execution_count": null,
      "outputs": [
        {
          "output_type": "stream",
          "name": "stdout",
          "text": [
            "/content\n",
            "<module 'os' from '/usr/lib/python3.10/os.py'>\n"
          ]
        }
      ]
    },
    {
      "cell_type": "code",
      "source": [
        "os.mkdir('new_folder')"
      ],
      "metadata": {
        "id": "F_W6NYhULGC_"
      },
      "execution_count": null,
      "outputs": []
    },
    {
      "cell_type": "code",
      "source": [
        "os.rmdir('new_folder')"
      ],
      "metadata": {
        "id": "n0K8qFBzLlC_"
      },
      "execution_count": null,
      "outputs": []
    },
    {
      "cell_type": "code",
      "source": [
        "!ls -o"
      ],
      "metadata": {
        "colab": {
          "base_uri": "https://localhost:8080/"
        },
        "id": "DwRZj5jVLKcL",
        "outputId": "4c54959f-a567-46cc-8d8f-866f05971643"
      },
      "execution_count": null,
      "outputs": [
        {
          "output_type": "stream",
          "name": "stdout",
          "text": [
            "total 4\n",
            "drwxr-xr-x 1 root 4096 May  1 13:20 sample_data\n"
          ]
        }
      ]
    },
    {
      "cell_type": "code",
      "source": [
        "!pip install pandas"
      ],
      "metadata": {
        "colab": {
          "base_uri": "https://localhost:8080/"
        },
        "id": "bu1USoCjKinf",
        "outputId": "5ba22cbf-3aa5-40b5-9c7e-d5c8ced032ee"
      },
      "execution_count": null,
      "outputs": [
        {
          "output_type": "stream",
          "name": "stdout",
          "text": [
            "Requirement already satisfied: pandas in /usr/local/lib/python3.10/dist-packages (2.0.3)\n",
            "Requirement already satisfied: python-dateutil>=2.8.2 in /usr/local/lib/python3.10/dist-packages (from pandas) (2.8.2)\n",
            "Requirement already satisfied: pytz>=2020.1 in /usr/local/lib/python3.10/dist-packages (from pandas) (2023.4)\n",
            "Requirement already satisfied: tzdata>=2022.1 in /usr/local/lib/python3.10/dist-packages (from pandas) (2024.1)\n",
            "Requirement already satisfied: numpy>=1.21.0 in /usr/local/lib/python3.10/dist-packages (from pandas) (1.25.2)\n",
            "Requirement already satisfied: six>=1.5 in /usr/local/lib/python3.10/dist-packages (from python-dateutil>=2.8.2->pandas) (1.16.0)\n"
          ]
        }
      ]
    },
    {
      "cell_type": "code",
      "source": [
        "#외부 라이브러리 예제\n",
        "\n",
        "import pandas as pd\n",
        "\n",
        "#pandas의 DataFrame 객체 생성\n",
        "data = {'Name':['Alice', 'Bob', 'Charlie'], 'Age':[25,30,35]}\n",
        "df = pd.DataFrame(data)\n",
        "\n",
        "# pandas의 head() 함수를 사용하여 DataFrame의 처음 5행 출력 (여기서는 3행만 존재)\n",
        "print(df.head())"
      ],
      "metadata": {
        "colab": {
          "base_uri": "https://localhost:8080/"
        },
        "id": "ihoFmh5gL-PV",
        "outputId": "2f78d120-1747-44eb-c30d-b19077fa27b4"
      },
      "execution_count": null,
      "outputs": [
        {
          "output_type": "stream",
          "name": "stdout",
          "text": [
            "      Name  Age\n",
            "0    Alice   25\n",
            "1      Bob   30\n",
            "2  Charlie   35\n"
          ]
        }
      ]
    },
    {
      "cell_type": "code",
      "source": [
        "import numpy as np\n",
        "data = [1,2,3,4]\n",
        "arr = np.array(data)\n",
        "print(arr,type(arr))\n",
        "data_ar = list(arr)\n",
        "print(data_ar)"
      ],
      "metadata": {
        "colab": {
          "base_uri": "https://localhost:8080/"
        },
        "id": "5Or84YAqMp2S",
        "outputId": "9076111d-cfc4-43c1-dedc-ad255bdc9eb9"
      },
      "execution_count": null,
      "outputs": [
        {
          "output_type": "stream",
          "name": "stdout",
          "text": [
            "[1 2 3 4] <class 'numpy.ndarray'>\n",
            "[1, 2, 3, 4]\n"
          ]
        }
      ]
    },
    {
      "cell_type": "code",
      "source": [
        "# 사용자 함수 예제\n",
        "\n",
        "def greet(name):\n",
        "    return f\"Hello, {name}!\"\n",
        "\n",
        "print(greet('홍길동'))"
      ],
      "metadata": {
        "colab": {
          "base_uri": "https://localhost:8080/"
        },
        "id": "8cCMdS42Q8mg",
        "outputId": "83d1e087-b2a0-48d3-a473-3811840bbe21"
      },
      "execution_count": null,
      "outputs": [
        {
          "output_type": "stream",
          "name": "stdout",
          "text": [
            "Hello, 홍길동!\n"
          ]
        }
      ]
    },
    {
      "cell_type": "markdown",
      "source": [
        "##람다함수"
      ],
      "metadata": {
        "id": "TcABO92tSZvE"
      }
    },
    {
      "cell_type": "code",
      "source": [
        "# 람다 함수는 간단한 한 줄의 함수를 작성할 때 유용\n",
        "multiply = lambda x,y : x*y\n",
        "print(multiply(5,5))"
      ],
      "metadata": {
        "colab": {
          "base_uri": "https://localhost:8080/"
        },
        "id": "LCfruwyzSUlb",
        "outputId": "9e085c38-456a-4564-ad11-1d589b0b4da2"
      },
      "execution_count": null,
      "outputs": [
        {
          "output_type": "stream",
          "name": "stdout",
          "text": [
            "25\n"
          ]
        }
      ]
    },
    {
      "cell_type": "code",
      "source": [
        "# 조건 사용\n",
        "is_even = lambda x:True if x%2 ==0 else False\n",
        "print(is_even(4))\n",
        "print(is_even(3))"
      ],
      "metadata": {
        "colab": {
          "base_uri": "https://localhost:8080/"
        },
        "id": "Q-r4B9uQS7BV",
        "outputId": "1bdb63e0-097d-4cc7-c497-7bf689f1a810"
      },
      "execution_count": null,
      "outputs": [
        {
          "output_type": "stream",
          "name": "stdout",
          "text": [
            "True\n",
            "False\n"
          ]
        }
      ]
    },
    {
      "cell_type": "markdown",
      "source": [
        "#### 파이썬 패키지,  모듈, 함수, 클래스\n",
        "- 코드 작성 시 이미 만들어져 있는 함수들을 활용하면 보다 효율적이고 빠르게 개발 가능\n",
        "- 이미 만들어져 있고 안정성이 검증된 함수들을 성격에 맞게 하나의 파이썬 파일에 묶어 만들어 놓을 것을 모듈이라 함\n",
        "- 외부 모듈에 있는 함수들을 활용하려면 이 모듈을 먼저 가져와서 사용해야 하는데 이것을 모듈을 임포트한다고 한다.\n",
        "- 파이썬 모듈이 하나의 파이썬 파일이라면 패키지는 디렉토리로 볼 수 있다.\n",
        "\n",
        "패키지\n",
        "1. 라이브러리라고도 부름\n",
        "2. 특정 기능과 관련된 여러 모듈을 한 그룹으로 묶은 것\n",
        "3. 패키지 안에 서브패키지가 있을 수도 있다.\n",
        "4. import 패키지/모듈, from 패키지/모듈 import 서브패키지/모듈\n",
        "  \n",
        "   \n",
        "모듈\n",
        "1. 여러 기능들이 뭉쳐진 하나의. py파일\n",
        "2. 함수, 클래스, 변수 등 포함\n",
        "3. import 모듈\n",
        "\n",
        "함수\n",
        "1. 하나의 기능을 가진 코드의 집합\n",
        "2. 함수를 사용한다 = 함수를 호출한다\n",
        "3. 함수 사용 형태: 함수( )\n",
        "   - 필요한 경우 () 안에 매개변수 또는 옵션\n",
        "4. 종류\n",
        "   - 내장 함수(built in function)\n",
        "   - 외장 함수: import 해주어야 함\n",
        "   \n",
        "클래스   \n",
        "- 파이썬은 객체 지향 언어로클래스를 기반으로 객체를 만들어 사용한다.\n",
        "- 한 파이썬 파일(. py) 내에서 \"class class명():\"을 통해 클래스 선언"
      ],
      "metadata": {
        "id": "ZLHhZgH6ABiY"
      }
    },
    {
      "cell_type": "markdown",
      "source": [
        "#### 함수 vs 메소드\n",
        "- 함수 (Function)\n",
        "    - 함수는 특정 작업을 수행하거나 값을 계산하기 위해 정의된 코드의 블록\n",
        "    - 함수는 def 키워드를 사용하여 정의\n",
        "    - 함수는 전역적으로 호출할 수 있거나 다른 함수 내부에서 호출할 수 있다.    \n",
        "- 메소드 (Method)\n",
        "    - 메소드는 객체에 속한 함수, 메소드는 특정 객체의 기능으로 정의\n",
        "    - 메소드는 객체와 연결되어 있으며, . (점) 표기법을 사용하여 해당 객체에 대한 메소드를 호출\n",
        "    - 메소드는 첫 번째 매개변수로 self를 사용하여 객체 자체를 참조 (클래스 내부에서 메소드를 정의할 때)\n",
        "- 주요 차이점\n",
        "    - 정의: 함수는 독립적으로 정의되지만, 메소드는 클래스 내부에서 정의\n",
        "    - 호출: 함수는 이름만으로 호출될 수 있지만, 메소드는 객체를 통해 호출\n",
        "    - 참조: 메소드는 첫 번째 매개변수로 객체 자신을 참조(self), 반면 함수는 이런 자체 참조 매개변수를 갖지 않는다."
      ],
      "metadata": {
        "id": "D_kVM-XXd1T5"
      }
    },
    {
      "cell_type": "code",
      "source": [
        "def my_function():\n",
        "    print(\"Hello from a function\")\n",
        "\n",
        "my_function()"
      ],
      "metadata": {
        "id": "QAT2ONn5TdNe",
        "colab": {
          "base_uri": "https://localhost:8080/"
        },
        "outputId": "b4255cfd-f44a-499c-a83c-dcae7bf31ad1"
      },
      "execution_count": null,
      "outputs": [
        {
          "output_type": "stream",
          "name": "stdout",
          "text": [
            "Hello from a function\n"
          ]
        }
      ]
    },
    {
      "cell_type": "code",
      "source": [
        "class MyClass:\n",
        "    def my_method(self):\n",
        "        print(\"Hello from a method\")\n",
        "\n",
        "obj = MyClass()\n",
        "obj.my_method()"
      ],
      "metadata": {
        "colab": {
          "base_uri": "https://localhost:8080/"
        },
        "id": "SnrVt8mXg6MP",
        "outputId": "2807670c-d67b-4bf9-e97e-187fb0628949"
      },
      "execution_count": null,
      "outputs": [
        {
          "output_type": "stream",
          "name": "stdout",
          "text": [
            "Hello from a method\n"
          ]
        }
      ]
    },
    {
      "cell_type": "markdown",
      "source": [
        "내장함수 연습"
      ],
      "metadata": {
        "id": "PO2ugjMhiTMu"
      }
    },
    {
      "cell_type": "code",
      "source": [
        "print(abs(-3))\n",
        "print(all([1,2,3,0]))#x가 모두참이면 True 거짓이 하나라도있으면 False\n",
        "print(any([1,2,3,0]))#x가 하나라도 참이면 True 모두 거짓이면 False\n",
        "print(chr(65))#아스키 코드\n",
        "print(float(3))\n",
        "print(int(3.9))\n",
        "print(max(1,10))\n",
        "print(min(1,10))\n",
        "print(pow(10,2))#거듭제곱\n",
        "print(round(2.675,2))"
      ],
      "metadata": {
        "colab": {
          "base_uri": "https://localhost:8080/"
        },
        "id": "HVp5ymsdhIJM",
        "outputId": "7dd96c47-ae64-45a7-8b68-0d18bf5cdfad"
      },
      "execution_count": null,
      "outputs": [
        {
          "output_type": "stream",
          "name": "stdout",
          "text": [
            "3\n",
            "False\n",
            "True\n",
            "A\n",
            "3.0\n",
            "3\n",
            "10\n",
            "1\n",
            "100\n",
            "2.67\n"
          ]
        }
      ]
    },
    {
      "cell_type": "code",
      "source": [
        "type(pow)"
      ],
      "metadata": {
        "colab": {
          "base_uri": "https://localhost:8080/"
        },
        "id": "g9ex3jmti2_B",
        "outputId": "04f74968-850e-43b0-e315-a9f636c4f9be"
      },
      "execution_count": null,
      "outputs": [
        {
          "output_type": "execute_result",
          "data": {
            "text/plain": [
              "builtin_function_or_method"
            ]
          },
          "metadata": {},
          "execution_count": 2
        }
      ]
    },
    {
      "cell_type": "code",
      "source": [
        "#함수가 다른 객체와 마찬가지로 변수에 할당되거나, 다른 함수로 전달되거나, 다른 함수로부터 반환될 수 있음.\n",
        "#pow를 다른 변수에 할당\n",
        "my_pow = pow\n",
        "result = my_pow(2,3)\n",
        "print(result)\n",
        "\n",
        "def apply_func(func, x, y):\n",
        "    return func(x,y)\n",
        "result = apply_func(my_pow, 3, 4)# pow(3,4)\n",
        "print(result)"
      ],
      "metadata": {
        "colab": {
          "base_uri": "https://localhost:8080/"
        },
        "id": "v8boFwinjunk",
        "outputId": "8682c640-ee29-4326-ce6d-27539bf8f2e1"
      },
      "execution_count": null,
      "outputs": [
        {
          "output_type": "stream",
          "name": "stdout",
          "text": [
            "8\n",
            "81\n"
          ]
        }
      ]
    },
    {
      "cell_type": "code",
      "source": [
        "age = 30\n",
        "print(\"I am\"+ age + \"years old.\")"
      ],
      "metadata": {
        "colab": {
          "base_uri": "https://localhost:8080/",
          "height": 166
        },
        "id": "ceJ03U9skClY",
        "outputId": "3f8fc90f-7ca3-4a2e-d25a-23d7e0afdc76"
      },
      "execution_count": null,
      "outputs": [
        {
          "output_type": "error",
          "ename": "TypeError",
          "evalue": "can only concatenate str (not \"int\") to str",
          "traceback": [
            "\u001b[0;31m---------------------------------------------------------------------------\u001b[0m",
            "\u001b[0;31mTypeError\u001b[0m                                 Traceback (most recent call last)",
            "\u001b[0;32m<ipython-input-5-cc15f8e657a0>\u001b[0m in \u001b[0;36m<cell line: 2>\u001b[0;34m()\u001b[0m\n\u001b[1;32m      1\u001b[0m \u001b[0mage\u001b[0m \u001b[0;34m=\u001b[0m \u001b[0;36m30\u001b[0m\u001b[0;34m\u001b[0m\u001b[0;34m\u001b[0m\u001b[0m\n\u001b[0;32m----> 2\u001b[0;31m \u001b[0mprint\u001b[0m\u001b[0;34m(\u001b[0m\u001b[0;34m\"I am\"\u001b[0m\u001b[0;34m+\u001b[0m \u001b[0mage\u001b[0m \u001b[0;34m+\u001b[0m \u001b[0;34m\"years old.\"\u001b[0m\u001b[0;34m)\u001b[0m\u001b[0;34m\u001b[0m\u001b[0;34m\u001b[0m\u001b[0m\n\u001b[0m",
            "\u001b[0;31mTypeError\u001b[0m: can only concatenate str (not \"int\") to str"
          ]
        }
      ]
    },
    {
      "cell_type": "code",
      "source": [
        "age = 30\n",
        "print(\"I am\", age , \"years old.\")"
      ],
      "metadata": {
        "colab": {
          "base_uri": "https://localhost:8080/"
        },
        "id": "yCNQTN4LlaHc",
        "outputId": "14288b23-b455-4895-ccd6-a3fdd783bf20"
      },
      "execution_count": null,
      "outputs": [
        {
          "output_type": "stream",
          "name": "stdout",
          "text": [
            "I am 30 years old.\n"
          ]
        }
      ]
    },
    {
      "cell_type": "code",
      "source": [
        "age = 30\n",
        "print(\"I am \"+ str(age) + \" years old.\")"
      ],
      "metadata": {
        "colab": {
          "base_uri": "https://localhost:8080/"
        },
        "id": "hRn1gb1JlTEg",
        "outputId": "2fe06e8a-d412-4958-c38c-a8ca661bdb1b"
      },
      "execution_count": null,
      "outputs": [
        {
          "output_type": "stream",
          "name": "stdout",
          "text": [
            "I am 30 years old.\n"
          ]
        }
      ]
    },
    {
      "cell_type": "markdown",
      "source": [
        "##sort, sorted 모두 key,reverse 매개변수를 갖고 있다.\n",
        " - reverse : 기본값은 reverse=False(오름차순), reverse=True를 매개변수로 입력하면 내림차순으로 정렬\n",
        " - key:정렬을 목적으로 하는 함수를 값으로 넣는다. lambda를 이용할 수 있고 key값을 기준으로 정렬되고 기본값은 오름차순"
      ],
      "metadata": {
        "id": "xCG6oH-QmDhj"
      }
    },
    {
      "cell_type": "code",
      "source": [
        "my_list = [3,1,4,2]\n",
        "print(sorted(my_list))\n",
        "my_list"
      ],
      "metadata": {
        "colab": {
          "base_uri": "https://localhost:8080/"
        },
        "id": "0GDGLl85lYQo",
        "outputId": "630f2986-dc29-4641-8f62-7371a469de4a"
      },
      "execution_count": null,
      "outputs": [
        {
          "output_type": "stream",
          "name": "stdout",
          "text": [
            "[1, 2, 3, 4]\n"
          ]
        },
        {
          "output_type": "execute_result",
          "data": {
            "text/plain": [
              "[3, 1, 4, 2]"
            ]
          },
          "metadata": {},
          "execution_count": 9
        }
      ]
    },
    {
      "cell_type": "markdown",
      "source": [
        "Q.students = [('Alice',90), ('Bob',85),('Charlie',88)]를 점수를 기준으로 정렬하세요"
      ],
      "metadata": {
        "id": "is2y-wIto99u"
      }
    },
    {
      "cell_type": "code",
      "source": [
        "students = [('Alice',90), ('Bob',85),('Charlie',88)]\n",
        "students=sorted(students,key= lambda x : x[1] , reverse=True)\n",
        "print(students)"
      ],
      "metadata": {
        "colab": {
          "base_uri": "https://localhost:8080/"
        },
        "id": "bCErdNbqmk4a",
        "outputId": "0810cff1-718d-4339-c4c1-f933162d8c5d"
      },
      "execution_count": null,
      "outputs": [
        {
          "output_type": "stream",
          "name": "stdout",
          "text": [
            "[('Bob', 85), ('Alice', 90), ('Charlie', 88)]\n"
          ]
        }
      ]
    },
    {
      "cell_type": "code",
      "source": [
        "my_string = \"Python\"\n",
        "print(type(my_string))"
      ],
      "metadata": {
        "colab": {
          "base_uri": "https://localhost:8080/"
        },
        "id": "Bi3gezdgpXpT",
        "outputId": "69095ec6-cffc-40f4-ebec-1a51e9b11f94"
      },
      "execution_count": null,
      "outputs": [
        {
          "output_type": "stream",
          "name": "stdout",
          "text": [
            "<class 'str'>\n"
          ]
        }
      ]
    },
    {
      "cell_type": "code",
      "source": [
        "print(list(range(5)))\n",
        "print(list(range(1,6)))\n",
        "print(list(range(1,10,2)))\n",
        "print(list(range(0,-10,-1)))"
      ],
      "metadata": {
        "colab": {
          "base_uri": "https://localhost:8080/"
        },
        "id": "MYci2W2ltbVh",
        "outputId": "769c9340-3a03-4a9a-86ee-acf89ce13b0c"
      },
      "execution_count": null,
      "outputs": [
        {
          "output_type": "stream",
          "name": "stdout",
          "text": [
            "[0, 1, 2, 3, 4]\n",
            "[1, 2, 3, 4, 5]\n",
            "[1, 3, 5, 7, 9]\n",
            "[0, -1, -2, -3, -4, -5, -6, -7, -8, -9]\n"
          ]
        }
      ]
    },
    {
      "cell_type": "markdown",
      "source": [
        "Q. 실행 가능한 숫자를 문자열('5+5') 입력으로 받아 문자열을 숫자 연산으로 실행한 결과값을 출력하세요.\n"
      ],
      "metadata": {
        "id": "XLQynBFXuRKN"
      }
    },
    {
      "cell_type": "code",
      "source": [
        "print(eval(input('연산을 입력하세요.')))#eval함수"
      ],
      "metadata": {
        "colab": {
          "base_uri": "https://localhost:8080/"
        },
        "id": "mbi7SBqytf_a",
        "outputId": "2bdb7778-a854-47d4-a7fb-6afd8c702c68"
      },
      "execution_count": null,
      "outputs": [
        {
          "output_type": "stream",
          "name": "stdout",
          "text": [
            "연산을 입력하세요.100*1000\n",
            "100000\n"
          ]
        }
      ]
    },
    {
      "cell_type": "code",
      "source": [
        "expression = input(\"계산할 수식을 입력하세요: \")\n",
        "result = eval(expression)\n",
        "print(f\"계산 결과 :{result}\")"
      ],
      "metadata": {
        "colab": {
          "base_uri": "https://localhost:8080/"
        },
        "id": "XwTSXFgLuh_P",
        "outputId": "2f92bfb3-50e6-4b92-905f-5aa44d0d6f9b"
      },
      "execution_count": null,
      "outputs": [
        {
          "output_type": "stream",
          "name": "stdout",
          "text": [
            "계산할 수식을 입력하세요: 5-4\n",
            "계산 결과 :1\n"
          ]
        }
      ]
    },
    {
      "cell_type": "code",
      "source": [
        "data = [1,2,3,4,5]\n",
        "operation = input(\"실행할 리스트 연산을 입력하세요(예: 'data.append(6), data.pop()').>\")\n",
        "eval(operation)\n",
        "print(f'계산 결과 : {data}')"
      ],
      "metadata": {
        "colab": {
          "base_uri": "https://localhost:8080/"
        },
        "id": "kfHD20J3vBjE",
        "outputId": "bfa0c988-1812-4102-ad4d-560fe4155083"
      },
      "execution_count": null,
      "outputs": [
        {
          "output_type": "stream",
          "name": "stdout",
          "text": [
            "실행할 리스트 연산을 입력하세요(예: 'data.append(6), data.pop()').>data.pop(3)\n",
            "계산 결과 : [1, 2, 3, 5]\n"
          ]
        }
      ]
    },
    {
      "cell_type": "code",
      "source": [
        "for idx, element in enumerate(['ele1','ele2','ele3']):\n",
        "    print(idx+1,element)"
      ],
      "metadata": {
        "colab": {
          "base_uri": "https://localhost:8080/"
        },
        "id": "JHHfQ9bkvlkL",
        "outputId": "2b18d2ab-d0d1-477a-f71a-ddcace1fd9e2"
      },
      "execution_count": null,
      "outputs": [
        {
          "output_type": "stream",
          "name": "stdout",
          "text": [
            "1 ele1\n",
            "2 ele2\n",
            "3 ele3\n"
          ]
        }
      ]
    },
    {
      "cell_type": "code",
      "source": [
        "#Q. enumerate와 f-string을 사용해서 특정 리스트에서 원하는 형태로 출력을 하세요.(인덱스와 내용을 믹스하여)"
      ],
      "metadata": {
        "id": "SJS5BOtlxLGv"
      },
      "execution_count": null,
      "outputs": []
    },
    {
      "cell_type": "markdown",
      "source": [
        "과일의 종류\n",
        "0. 사과\n",
        "1. 키위\n",
        "2. 딸기\n",
        "3. 참외\n",
        "4. 수박"
      ],
      "metadata": {
        "id": "q2cq3Ayz2BzY"
      }
    },
    {
      "cell_type": "code",
      "source": [
        "frouts = ['사과', '키위', '딸기', '참외', '수박']\n",
        "print('과일의 종류')\n",
        "for idx , elements in enumerate(frouts):\n",
        "    print(f'{idx}. {elements}')"
      ],
      "metadata": {
        "colab": {
          "base_uri": "https://localhost:8080/"
        },
        "id": "NO77A8fqxdIM",
        "outputId": "afc05823-3f7f-47b6-ebe2-d9426a34b7e7"
      },
      "execution_count": null,
      "outputs": [
        {
          "output_type": "stream",
          "name": "stdout",
          "text": [
            "과일의 종류\n",
            "0. 사과\n",
            "1. 키위\n",
            "2. 딸기\n",
            "3. 참외\n",
            "4. 수박\n"
          ]
        }
      ]
    },
    {
      "cell_type": "code",
      "source": [
        "print(range(10),type(range(10)))\n",
        "print([i for i in  range(10)])\n",
        "print(type([ i for i in range(10)]))"
      ],
      "metadata": {
        "id": "mXR0hUbJxveD",
        "colab": {
          "base_uri": "https://localhost:8080/"
        },
        "outputId": "8286716b-f658-4509-c8cc-32d561e31d85"
      },
      "execution_count": null,
      "outputs": [
        {
          "output_type": "stream",
          "name": "stdout",
          "text": [
            "range(0, 10) <class 'range'>\n",
            "[0, 1, 2, 3, 4, 5, 6, 7, 8, 9]\n",
            "<class 'list'>\n"
          ]
        }
      ]
    },
    {
      "cell_type": "code",
      "source": [
        "print(list(range(10)))\n",
        "print(type(list(range(10))))"
      ],
      "metadata": {
        "colab": {
          "base_uri": "https://localhost:8080/"
        },
        "id": "-zaW2-oy1xa7",
        "outputId": "7c65f6db-a3f0-4a1b-bdf0-1b1820c2313c"
      },
      "execution_count": null,
      "outputs": [
        {
          "output_type": "stream",
          "name": "stdout",
          "text": [
            "[0, 1, 2, 3, 4, 5, 6, 7, 8, 9]\n",
            "<class 'list'>\n"
          ]
        }
      ]
    },
    {
      "cell_type": "code",
      "source": [
        "# 몫과 나머지\n",
        "print(divmod(7,3))"
      ],
      "metadata": {
        "colab": {
          "base_uri": "https://localhost:8080/"
        },
        "id": "1fjomQqH2H1y",
        "outputId": "7e997af4-df4e-4edd-b136-60ec254e0057"
      },
      "execution_count": null,
      "outputs": [
        {
          "output_type": "stream",
          "name": "stdout",
          "text": [
            "(2, 1)\n"
          ]
        }
      ]
    },
    {
      "cell_type": "code",
      "source": [
        "# Q. 150분을 시간과 분으로 변환해서 출력하세요.\n",
        "ah, mi = divmod(150,60)\n",
        "print(f'{ah}시간 {mi}분')"
      ],
      "metadata": {
        "colab": {
          "base_uri": "https://localhost:8080/"
        },
        "id": "aoQ1niH-2tgB",
        "outputId": "0e954fae-9eff-456e-c74a-398e5698893a"
      },
      "execution_count": null,
      "outputs": [
        {
          "output_type": "stream",
          "name": "stdout",
          "text": [
            "2시간 30분\n"
          ]
        }
      ]
    },
    {
      "cell_type": "code",
      "source": [
        "#예시\n",
        "def convert_time(minutes):\n",
        "    hours, minutes = divmod(minutes, 60)\n",
        "    return hours, minutes\n",
        "\n",
        "minutes = 150\n",
        "hours, minutes = convert_time(minutes)\n",
        "print(f'{hours}시간 {minutes}분')"
      ],
      "metadata": {
        "colab": {
          "base_uri": "https://localhost:8080/"
        },
        "id": "SAWO8tZT4gwW",
        "outputId": "4fcc8671-b5b6-4bd8-e7c8-fb98c9def2fc"
      },
      "execution_count": null,
      "outputs": [
        {
          "output_type": "stream",
          "name": "stdout",
          "text": [
            "2시간 30분\n"
          ]
        }
      ]
    },
    {
      "cell_type": "code",
      "source": [
        "#Q: url에서 쿼리문을 추출하여 출력하세요.\n",
        "#url에서 '?'뒤에 표시되는 문자열을 쿼리 문자열이라고 하며 변수=값 사이&로 구분되어 나열된다.\n",
        "url = 'http://news.naver.com/main/read.nhn?mode=LSD&mid=shm&sid1=105&oid=028&aid=0002334601'"
      ],
      "metadata": {
        "id": "JxjM-8H33Y1T"
      },
      "execution_count": null,
      "outputs": []
    },
    {
      "cell_type": "code",
      "source": [
        "tmp1 = url.split('/')\n",
        "tmp2 = tmp1[-1].split('?')\n",
        "result = tmp2[-1].split('&')\n",
        "\n",
        "print(result)"
      ],
      "metadata": {
        "colab": {
          "base_uri": "https://localhost:8080/"
        },
        "id": "BgXmu0bK5q_c",
        "outputId": "f290c7c6-3bd4-432d-9a22-1cdafeb6d87a"
      },
      "execution_count": null,
      "outputs": [
        {
          "output_type": "stream",
          "name": "stdout",
          "text": [
            "['mode=LSD', 'mid=shm', 'sid1=105', 'oid=028', 'aid=0002334601']\n"
          ]
        }
      ]
    },
    {
      "cell_type": "code",
      "source": [
        "#Q. List안의 단어가 있으면 해당 제목을 출력\n",
        "x = input(\"단어를 검색해 보세요 >>>\")\n",
        "tlist = ['Hello Word!', 'Nice Day', 'HappyBin', 'enDing_Story']\n",
        "n_tlist =[]\n",
        "\n",
        "x=x.lower()\n",
        "for i in range(len(tlist)):\n",
        "    n_tlist.append(tlist[i].lower())\n",
        "    if x in n_tlist[i]:\n",
        "        print(tlist[i])"
      ],
      "metadata": {
        "id": "38KAN-KN6THl",
        "colab": {
          "base_uri": "https://localhost:8080/"
        },
        "outputId": "4875b747-a701-46aa-86ec-1bc631af1df3"
      },
      "execution_count": null,
      "outputs": [
        {
          "output_type": "stream",
          "name": "stdout",
          "text": [
            "단어를 검색해 보세요 >>>d\n",
            "Hello Word!\n",
            "Nice Day\n",
            "enDing_Story\n"
          ]
        }
      ]
    },
    {
      "cell_type": "code",
      "source": [
        "#Q. 영어 이름을 적으면 앞에 글자를 대문자로 바꾸어 주는 프로그램\n",
        "wiyname = input('이름 입력 : ')\n",
        "\n",
        "txt = wiyname.title()\n",
        "\n",
        "print(txt)"
      ],
      "metadata": {
        "colab": {
          "base_uri": "https://localhost:8080/"
        },
        "id": "nTbEnSkz-Yay",
        "outputId": "2314726a-c5bc-44f5-f451-e2d60a670857"
      },
      "execution_count": null,
      "outputs": [
        {
          "output_type": "stream",
          "name": "stdout",
          "text": [
            "이름 입력 : lee sang hyeop\n",
            "Lee Sang Hyeop\n"
          ]
        }
      ]
    },
    {
      "cell_type": "code",
      "source": [
        "# 문자열에서 좌우 공백 제거\n",
        "txt = '   양쪽에 공백이 있는 문자열입니다   '\n",
        "ret1 = txt.lstrip()\n",
        "ret2 = txt.rstrip()\n",
        "ret3 = txt.strip()\n",
        "print('<' + ret1 + '>')\n",
        "print('<' + ret2 + '>')\n",
        "print('<' + ret3 + '>')"
      ],
      "metadata": {
        "colab": {
          "base_uri": "https://localhost:8080/"
        },
        "id": "29Oz0tYLB5SH",
        "outputId": "2cd970e5-4f67-4356-d248-65b616a94948"
      },
      "execution_count": null,
      "outputs": [
        {
          "output_type": "stream",
          "name": "stdout",
          "text": [
            "<양쪽에 공백이 있는 문자열입니다   >\n",
            "<   양쪽에 공백이 있는 문자열입니다>\n",
            "<양쪽에 공백이 있는 문자열입니다>\n"
          ]
        }
      ]
    },
    {
      "cell_type": "code",
      "source": [
        "# join : 특정 문자로 결합\n",
        "loglist = ['2016/08/26 10:12:11', '200', 'OK', '이 또한 지나가리라']\n",
        "bond = ', '\n",
        "log=bond.join(loglist)\n",
        "print(log)"
      ],
      "metadata": {
        "colab": {
          "base_uri": "https://localhost:8080/"
        },
        "id": "5SxRxoBlDnOF",
        "outputId": "641621b2-8dba-4a2b-c1ad-508cff729eae"
      },
      "execution_count": null,
      "outputs": [
        {
          "output_type": "stream",
          "name": "stdout",
          "text": [
            "2016/08/26 10:12:11, 200, OK, 이 또한 지나가리라\n"
          ]
        }
      ]
    },
    {
      "cell_type": "code",
      "source": [
        "#특정 문자(열)을 다른 문자(열)로 바꾸기 (replace)\n",
        "txt = \"My password is 1234\"\n",
        "ret1 = txt.replace('1', '0')\n",
        "ret2 = txt.replace('1','python')\n",
        "\n",
        "print(ret1)\n",
        "print(ret2)\n",
        "\n",
        "txt = '매일 많은 일들이 일어납니다.'\n",
        "\n",
        "ret3 = txt.replace(\"많은 일들이\", '아침 일찍')\n",
        "\n",
        "print(ret3)"
      ],
      "metadata": {
        "colab": {
          "base_uri": "https://localhost:8080/"
        },
        "id": "LoORLD15EWTc",
        "outputId": "d82611d3-4a78-4415-c998-a187f6f150a5"
      },
      "execution_count": null,
      "outputs": [
        {
          "output_type": "stream",
          "name": "stdout",
          "text": [
            "My password is 0234\n",
            "My password is python234\n",
            "매일 아침 일찍 일어납니다.\n"
          ]
        }
      ]
    },
    {
      "cell_type": "code",
      "source": [
        "# Q. 입력된 문장에서 'bad'를 'good'로 교체해서 출력하세요. (입력 예시 : This is a bad example)\n",
        "\n",
        "txt = input('문장 입력 >>')\n",
        "#txt = 'This is a bad example'\n",
        "\n",
        "ret1= txt.replace('bad', 'good')\n",
        "print(ret1)"
      ],
      "metadata": {
        "colab": {
          "base_uri": "https://localhost:8080/"
        },
        "id": "Tf93r_DmFquO",
        "outputId": "a8b1234b-57a0-46af-dd18-e90ca66ac1f6"
      },
      "execution_count": null,
      "outputs": [
        {
          "output_type": "stream",
          "name": "stdout",
          "text": [
            "문장 입력 >>This is a bad examplebadbadbadbadbadbadbad\n",
            "This is a good examplegoodgoodgoodgoodgoodgoodgood\n"
          ]
        }
      ]
    },
    {
      "cell_type": "code",
      "source": [
        "val = int(input('문자 코드값을 입력하세요 : '))\n",
        "ch = chr(val)\n",
        "\n",
        "print('코드값: %d  문자 : %s' %(val, ch))"
      ],
      "metadata": {
        "colab": {
          "base_uri": "https://localhost:8080/"
        },
        "id": "kzQsu3xoGj-h",
        "outputId": "ce2feb6e-b4d5-43ae-deda-b9577e93f904"
      },
      "execution_count": null,
      "outputs": [
        {
          "output_type": "stream",
          "name": "stdout",
          "text": [
            "문자 코드값을 입력하세요 : 60\n",
            "코드값: 60  문자 : <\n"
          ]
        }
      ]
    },
    {
      "cell_type": "code",
      "source": [
        "for i in range(128):\n",
        "    print(chr(i),end = \"\")"
      ],
      "metadata": {
        "colab": {
          "base_uri": "https://localhost:8080/"
        },
        "id": "H3A9GSHQJyd4",
        "outputId": "8ea18565-f58a-499f-b9e0-33bf58bc1813"
      },
      "execution_count": null,
      "outputs": [
        {
          "output_type": "stream",
          "name": "stdout",
          "text": [
            "\u0000\u0001\u0002\u0003\u0004\u0005\u0006\u0007\b\t\n",
            "\u000b\f\r\u000e\u000f\u0010\u0011\u0012\u0013\u0014\u0015\u0016\u0017\u0018\u0019\u001a\u001b\u001c\u001d\u001e\u001f !\"#$%&'()*+,-./0123456789:;<=>?@ABCDEFGHIJKLMNOPQRSTUVWXYZ[\\]^_`abcdefghijklmnopqrstuvwxyz{|}~"
          ]
        }
      ]
    },
    {
      "cell_type": "code",
      "source": [
        "while True:\n",
        "    val = int(input('문자 코드값을 입력하세요 (0을 입력하면 종료) : '))\n",
        "    if val == 0:\n",
        "        break\n",
        "\n",
        "    ch = chr(val)\n",
        "\n",
        "    print('코드값: %d  문자 : %s' %(val, ch))"
      ],
      "metadata": {
        "colab": {
          "base_uri": "https://localhost:8080/"
        },
        "id": "7p_WlXo7Kd6u",
        "outputId": "c8450067-f8d8-4245-a6fb-2342692fc32b"
      },
      "execution_count": null,
      "outputs": [
        {
          "name": "stdout",
          "output_type": "stream",
          "text": [
            "문자 코드값을 입력하세요 (0번 입력하면 종료) : 1\n",
            "코드값: 1  문자 : \u0001\n",
            "문자 코드값을 입력하세요 (0번 입력하면 종료) : 2\n",
            "코드값: 2  문자 : \u0002\n",
            "문자 코드값을 입력하세요 (0번 입력하면 종료) : 3\n",
            "코드값: 3  문자 : \u0003\n",
            "문자 코드값을 입력하세요 (0번 입력하면 종료) : 4\n",
            "코드값: 4  문자 : \u0004\n",
            "문자 코드값을 입력하세요 (0번 입력하면 종료) : 5\n",
            "코드값: 5  문자 : \u0005\n",
            "문자 코드값을 입력하세요 (0번 입력하면 종료) : 0\n"
          ]
        }
      ]
    },
    {
      "cell_type": "code",
      "source": [
        "# 문자열이 문자인지 검사\n",
        "txt1 = 'A'\n",
        "txt2 = '안녕'\n",
        "txt3 = 'Warcraft Three'\n",
        "txt4 = '3PO'\n",
        "ret1 = txt1.isalpha()\n",
        "ret2 = txt2.isalpha()\n",
        "ret3 = txt3.isalpha()\n",
        "ret4 = txt4.isalpha()\n",
        "print(ret1)\n",
        "print(ret2)\n",
        "print(ret3)\n",
        "print(ret4)"
      ],
      "metadata": {
        "colab": {
          "base_uri": "https://localhost:8080/"
        },
        "id": "-s-3A7E6Kxpw",
        "outputId": "db79e67c-b6de-4c45-89d0-ac196e7b1c08"
      },
      "execution_count": null,
      "outputs": [
        {
          "output_type": "stream",
          "name": "stdout",
          "text": [
            "True\n",
            "True\n",
            "False\n",
            "True\n"
          ]
        }
      ]
    },
    {
      "cell_type": "code",
      "source": [
        "# isdigit() 문자열이 숫자인지 검사\n",
        "\n",
        "txt1 = '010-1234-5678'\n",
        "txt2 = 'R2D2'\n",
        "txt3 = '1212'\n",
        "\n",
        "ret1= txt1.isdigit()\n",
        "ret2= txt2.isdigit()\n",
        "ret3= txt3.isdigit()\n",
        "\n",
        "print(ret1)\n",
        "print(ret2)\n",
        "print(ret3)"
      ],
      "metadata": {
        "colab": {
          "base_uri": "https://localhost:8080/"
        },
        "id": "4FChSR8UMEY6",
        "outputId": "f95cd964-8043-4310-b969-b7629e981999"
      },
      "execution_count": null,
      "outputs": [
        {
          "output_type": "stream",
          "name": "stdout",
          "text": [
            "False\n",
            "False\n",
            "True\n"
          ]
        }
      ]
    },
    {
      "cell_type": "code",
      "source": [
        "# isalnum() : 문자열이 문자 또는 숫자인지 검사: 문자열이 영어, 한글 혹은 숫자로 되어있으면 참 리턴 , 아니면 거짓 리턴\n",
        "txt1 = '안녕하세요?'\n",
        "txt2 = '1. Title-제목을 넣으세요'\n",
        "txt3 = '3피오R2D2'\n",
        "\n",
        "ret1 = txt1.isalnum()\n",
        "ret2 = txt2.isalnum()\n",
        "ret3 = txt3.isalnum()\n",
        "\n",
        "print(ret1,ret2,ret3)"
      ],
      "metadata": {
        "colab": {
          "base_uri": "https://localhost:8080/"
        },
        "id": "6S75HzcVM96m",
        "outputId": "72292616-ed2e-4ce0-8279-b2be67326d0d"
      },
      "execution_count": null,
      "outputs": [
        {
          "output_type": "stream",
          "name": "stdout",
          "text": [
            "False False True\n"
          ]
        }
      ]
    },
    {
      "cell_type": "code",
      "source": [
        "txt = \"A lot of Things occur each day.\"\n",
        "ret1 = txt.upper()\n",
        "ret2 = txt.lower()\n",
        "ret3 = txt.title()\n",
        "ret4 = txt.capitalize()\n",
        "\n",
        "print(ret1)\n",
        "print(ret2)\n",
        "print(ret3)\n",
        "print(ret4)"
      ],
      "metadata": {
        "colab": {
          "base_uri": "https://localhost:8080/"
        },
        "id": "Re1XUBuVPBrJ",
        "outputId": "216ab3dd-6889-4693-f111-40188fa1b672"
      },
      "execution_count": null,
      "outputs": [
        {
          "output_type": "stream",
          "name": "stdout",
          "text": [
            "A LOT OF THINGS OCCUR EACH DAY.\n",
            "a lot of things occur each day.\n",
            "A Lot Of Things Occur Each Day.\n",
            "A lot of things occur each day.\n"
          ]
        }
      ]
    },
    {
      "cell_type": "code",
      "source": [
        "#Q. numbers 내부에 들어 있는 숫자가 몇 번 등장하는지를 출력하는 코드를 작성하세요.\n",
        "numbers = [3,6,3,5,8,2,9,7,4,3,6,3,5,8,2,9,7,4]\n",
        "\n",
        "se_nums = set(numbers)\n",
        "\n",
        "output={}\n",
        "\n",
        "for se_num in se_nums:\n",
        "    count = 0\n",
        "    for i in numbers:\n",
        "        if i == se_num:\n",
        "            count += 1\n",
        "\n",
        "    output[se_num]=count\n",
        "\n",
        "print(output)\n",
        "for i in se_nums:\n",
        "    print(f'{i}는 {output[i]}번 나왔습니다.')"
      ],
      "metadata": {
        "colab": {
          "base_uri": "https://localhost:8080/"
        },
        "id": "-4_ixfLbQvN8",
        "outputId": "6c99cce9-06ce-4783-ad58-5784a14f6afa"
      },
      "execution_count": null,
      "outputs": [
        {
          "output_type": "stream",
          "name": "stdout",
          "text": [
            "{2: 2, 3: 4, 4: 2, 5: 2, 6: 2, 7: 2, 8: 2, 9: 2}\n",
            "2는 2번 나왔습니다.\n",
            "3는 4번 나왔습니다.\n",
            "4는 2번 나왔습니다.\n",
            "5는 2번 나왔습니다.\n",
            "6는 2번 나왔습니다.\n",
            "7는 2번 나왔습니다.\n",
            "8는 2번 나왔습니다.\n",
            "9는 2번 나왔습니다.\n"
          ]
        }
      ]
    },
    {
      "cell_type": "code",
      "source": [
        "\n",
        "numbers = [3,6,3,5,8,2,9,7,4,3,6,3,5,8,2,9,7,4]\n",
        "\n",
        "counter = {}\n",
        "for value in numbers:\n",
        "    if value in counter:\n",
        "        counter[value] += 1\n",
        "    else:\n",
        "        counter[value] = 1\n",
        "\n",
        "print(counter)"
      ],
      "metadata": {
        "colab": {
          "base_uri": "https://localhost:8080/"
        },
        "id": "-PqgU9Y2Rij6",
        "outputId": "8a26bc41-d749-4c8f-fb7d-373f557ae7c4"
      },
      "execution_count": null,
      "outputs": [
        {
          "output_type": "stream",
          "name": "stdout",
          "text": [
            "{3: 4, 6: 2, 5: 2, 8: 2, 2: 2, 9: 2, 7: 2, 4: 2}\n"
          ]
        }
      ]
    },
    {
      "cell_type": "code",
      "source": [
        "#list a의 모든 원소를 실수형으로 바꾸어 출력하세요\n",
        "a=[1,2,3,4,5]\n",
        "a_float = list(map(float, a))\n",
        "print(a_float)"
      ],
      "metadata": {
        "colab": {
          "base_uri": "https://localhost:8080/"
        },
        "id": "vdDe_pAXTTsk",
        "outputId": "de3f11d6-bc54-4f5f-bf98-ff65c2dba2b6"
      },
      "execution_count": null,
      "outputs": [
        {
          "output_type": "stream",
          "name": "stdout",
          "text": [
            "[1.0, 2.0, 3.0, 4.0, 5.0]\n"
          ]
        }
      ]
    },
    {
      "cell_type": "code",
      "source": [
        "a=[1.0,2.0,3.0,4.0,5.0]\n",
        "a_float = list(map(int, a))\n",
        "print(a_float)"
      ],
      "metadata": {
        "colab": {
          "base_uri": "https://localhost:8080/"
        },
        "id": "iznodObll1QB",
        "outputId": "9bdde225-6daa-4782-9cdb-b2433b1c23b4"
      },
      "execution_count": null,
      "outputs": [
        {
          "output_type": "stream",
          "name": "stdout",
          "text": [
            "[1, 2, 3, 4, 5]\n"
          ]
        }
      ]
    },
    {
      "cell_type": "code",
      "source": [
        "#Q. 데이터를 입력하지 않으면 종료되는 코딩을 수행하세요. 단 반복적으로 작업을 수행할 수 있음.\n",
        "while 1:\n",
        "    a =input('데이터 입력하세용: ')\n",
        "    if a =='':\n",
        "        break\n",
        "    else:\n",
        "        print(a)"
      ],
      "metadata": {
        "colab": {
          "base_uri": "https://localhost:8080/"
        },
        "id": "G45hBLkZmJGa",
        "outputId": "722f5cea-5210-49b1-888d-e3763d6e5ed0"
      },
      "execution_count": null,
      "outputs": [
        {
          "name": "stdout",
          "output_type": "stream",
          "text": [
            "데이터 입력하세용: asd\n",
            "asd\n",
            "데이터 입력하세용: sdf\n",
            "sdf\n",
            "데이터 입력하세용: qwe\n",
            "qwe\n",
            "데이터 입력하세용: asdzx`1\n",
            "asdzx`1\n",
            "데이터 입력하세용: 1\n",
            "1\n",
            "데이터 입력하세용:  \n",
            " \n",
            "데이터 입력하세용: \n"
          ]
        }
      ]
    },
    {
      "cell_type": "code",
      "source": [
        "while 1:\n",
        "    data = input()\n",
        "    if not data: break\n",
        "    print(data)"
      ],
      "metadata": {
        "colab": {
          "base_uri": "https://localhost:8080/"
        },
        "id": "BvmyNJkAmk7X",
        "outputId": "352ec3aa-0468-4d23-8144-f4c84133fc6a"
      },
      "execution_count": null,
      "outputs": [
        {
          "name": "stdout",
          "output_type": "stream",
          "text": [
            "as\n",
            "as\n",
            "qe\n",
            "qe\n",
            "zxc\n",
            "zxc\n",
            "\n"
          ]
        }
      ]
    },
    {
      "cell_type": "markdown",
      "source": [
        "##표준 라이브러리 외장함수"
      ],
      "metadata": {
        "id": "ZzykzRICnf67"
      }
    },
    {
      "cell_type": "markdown",
      "source": [
        "[ 날짜 함수 ]\n",
        "\n",
        "날짜와 시간을 처리하기 위한 주요 라이브러리는 datetime입니다. 이 라이브러리는 날짜, 시간, 시간대와 관련된 다양한 클래스와 함수를 제공하며, 날짜와 시간 연산에 매우 유용\n",
        "- datetime.date: 날짜(연, 월, 일)를 표현하는 클래스\n",
        "    - today(): 오늘의 날짜를 반환\n",
        "- datetime.time: 시간(시, 분, 초, 마이크로초)을 표현하는 클래스\n",
        "- datetime.datetime: 날짜와 시간을 모두 포함하는 클래스\n",
        "    - now(): 현재의 날짜와 시간을 반환\n",
        "- datetime.timedelta: 두 날짜/시간 간의 차이를 표현하는 클래스\n",
        "- datetime.tzinfo: 시간대 정보를 위한 기본 클래스\n",
        "\n",
        "datetime 모듈의 날짜와 시간 객체들을 문자열 형식으로 포맷팅하거나 문자열로부터 날짜와 시간 객체를 생성하기 위해 사용하는 주요 메서드는 strftime()와 strptime()\n",
        "- strftime() (String Format Time)\n",
        "    - 날짜와 시간 객체를 문자열로 변환하는 데 사용\n",
        "    - 사용자가 지정한 형식 문자열을 기반으로 날짜와 시간 정보를 문자열로 표현\n",
        "- strptime() (String Parse Time)\n",
        "    - 문자열을 날짜와 시간 객체로 변환하는 데 사용\n",
        "    - 주어진 형식 문자열을 기반으로 문자열에서 날짜와 시간 정보를 파싱"
      ],
      "metadata": {
        "id": "Ljv9rqfmnlrD"
      }
    },
    {
      "cell_type": "code",
      "source": [
        "import datetime\n",
        "\n",
        "print(datetime.datetime.now())"
      ],
      "metadata": {
        "colab": {
          "base_uri": "https://localhost:8080/"
        },
        "id": "iaJnevK0nQNH",
        "outputId": "b92f4c60-6e53-46a0-b533-c45b6536e00a"
      },
      "execution_count": null,
      "outputs": [
        {
          "output_type": "stream",
          "name": "stdout",
          "text": [
            "2024-05-08 05:16:25.552763\n"
          ]
        }
      ]
    },
    {
      "cell_type": "code",
      "source": [
        "now =datetime.datetime.now()\n",
        "a = now.strftime('%y-%m-%d')\n",
        "print(a)\n",
        "b=[]\n",
        "b.append(a)\n",
        "print(b)"
      ],
      "metadata": {
        "colab": {
          "base_uri": "https://localhost:8080/"
        },
        "id": "zBQ0QKtSopc0",
        "outputId": "a37072ad-ca6b-4209-eabf-473beedca131"
      },
      "execution_count": null,
      "outputs": [
        {
          "output_type": "stream",
          "name": "stdout",
          "text": [
            "24-05-08\n",
            "['24-05-08']\n"
          ]
        }
      ]
    },
    {
      "cell_type": "code",
      "source": [
        "import datetime\n",
        "\n",
        "#현재 날짜와 시간 가져오기\n",
        "now = datetime.datetime.now()\n",
        "print(now)\n",
        "\n",
        "#오늘의 날짜만 가져오기\n",
        "today = datetime.date.today()\n",
        "print(today)\n",
        "\n",
        "#특정 날짜와 시간을 직접 지정\n",
        "d = datetime.datetime(2023, 11, 2, 14, 29, 45)\n",
        "print(d)\n",
        "\n",
        "#날짜 간의 차이 계산\n",
        "delta = datetime.timedelta(days=7)\n",
        "new_date = today + delta\n",
        "print(new_date)\n",
        "\n",
        "#두 날짜 간의 차이 계산\n",
        "date1 = datetime.date(2023, 1, 1)\n",
        "date2 = datetime.date(2023, 12, 31)\n",
        "diff = date2 -date1\n",
        "print(diff.days)\n",
        "print(diff)"
      ],
      "metadata": {
        "colab": {
          "base_uri": "https://localhost:8080/"
        },
        "id": "Ia25nVQHpYoa",
        "outputId": "d2f2bce3-f0ca-4fbc-9d72-d743bf578be3"
      },
      "execution_count": null,
      "outputs": [
        {
          "output_type": "stream",
          "name": "stdout",
          "text": [
            "2024-05-08 05:26:12.886733\n",
            "2024-05-08\n",
            "2023-11-02 14:29:45\n",
            "2024-05-15\n",
            "364\n",
            "364 days, 0:00:00\n"
          ]
        }
      ]
    },
    {
      "cell_type": "markdown",
      "source": [
        "포맷 코드 표<BR>\n",
        "포맷코드   설명   예<BR>\n",
        "%a   요일 줄임말   Sun, Mon, ... Sat<BR>\n",
        "%A   요일   Sunday, Monday, ..., Saturday<BR>\n",
        "%w   요일을 숫자로 표시, 월요일일요일, 06   0, 1, ..., 6<BR>\n",
        "%d   일   01, 02, ..., 31<BR>\n",
        "%b   월 줄임말   Jan, Feb, ..., Dec<BR>\n",
        "%B   월   January, February, …, December<BR>\n",
        "%m   숫자 월   01, 02, ..., 12<BR>\n",
        "%y   두 자릿수 연도   01, 02, ..., 99<BR>\n",
        "%Y   네 자릿수 연도   0001, 0002, ..., 2017, 2018, 9999<BR>\n",
        "%H   시간(24시간)   00, 01, ..., 23<BR>\n",
        "%I   시간(12시간)   01, 02, ..., 12<BR>\n",
        "%p   AM, PM   AM, PM<BR>\n",
        "%M   분   00, 01, ..., 59<BR>\n",
        "%S   초   00, 01, ..., 59<BR>\n",
        "%Z   시간대   대한민국 표준시<BR>\n",
        "%j   1월 1일부터 경과한 일수   001, 002, ..., 366<BR>\n",
        "%U   1년중 주차, 월요일이 한 주의 시작으로   00, 01, ..., 53<BR>\n",
        "%W   1년중 주차, 월요일이 한 주의 시작으로   00, 01, ..., 53<BR>\n",
        "%c   날짜, 요일, 시간을 출력, 현재 시간대 기준   Sat May 19 11:14:27 2018<BR>\n",
        "%x   날짜를 출력, 현재 시간대 기준   05/19/18<BR>\n",
        "%X   시간을 출력, 현재 시간대 기준   '11:44:22'"
      ],
      "metadata": {
        "id": "1uJLskzJsHlf"
      }
    },
    {
      "cell_type": "code",
      "source": [
        "import datetime\n",
        "\n",
        "now = datetime.datetime.now()\n",
        "print(now, type(now))\n",
        "formatted = now.strftime(\"%Y-%m-%d %H:%M:%S\")\n",
        "print(formatted,type(formatted))"
      ],
      "metadata": {
        "colab": {
          "base_uri": "https://localhost:8080/"
        },
        "id": "jOP74XiGpm2M",
        "outputId": "78f23b10-f9b8-4086-f45d-a82526c6a959"
      },
      "execution_count": null,
      "outputs": [
        {
          "output_type": "stream",
          "name": "stdout",
          "text": [
            "2024-05-08 05:36:06.511871 <class 'datetime.datetime'>\n",
            "2024-05-08  05:36:06 <class 'str'>\n"
          ]
        }
      ]
    },
    {
      "cell_type": "code",
      "source": [
        "import datetime\n",
        "\n",
        "date_string = \"2023-11-02 14:45:30\"\n",
        "print(date_string,type(date_string))\n",
        "dt = datetime.datetime.strptime(date_string ,\"%Y-%m-%d %H:%M:%S\")\n",
        "print(dt,type(dt))"
      ],
      "metadata": {
        "colab": {
          "base_uri": "https://localhost:8080/"
        },
        "id": "QbcU2pdSsrS5",
        "outputId": "2b402ddf-1e96-4c83-eb09-c7603bc1017b"
      },
      "execution_count": null,
      "outputs": [
        {
          "output_type": "stream",
          "name": "stdout",
          "text": [
            "2023-11-02 14:45:30 <class 'str'>\n",
            "2023-11-02 14:45:30 <class 'datetime.datetime'>\n"
          ]
        }
      ]
    },
    {
      "cell_type": "markdown",
      "source": [
        "time 모듈\n",
        "- 시스템 시간에 접근하거나 간단한 타이머 기능을 구현\n",
        "- 함수와 같이 프로그램을 일정 시간 동안 중지시키는 데 사용\n",
        "- 시간을 연도, 월, 일, 시, 분, 초 등의 구성 요소로 변환하고 다룰 수 있는 struct_time 객체를 제공\n",
        "- time 모듈은 날짜와 시간을 처리하는 다양한 프로그래밍 요구에 대응할 수 있는 기본적인 기능을 제공하지만, 더 복잡한 날짜 시간 처리나 시간대 변환 등은 datetime 모듈 또는 외부 라이브러리를 사용"
      ],
      "metadata": {
        "id": "HGjGrTpouJgd"
      }
    },
    {
      "cell_type": "code",
      "source": [
        "# # localtime() 함수는 파이썬의 time 모듈에 포함되어 있으며, 이함수는 초로 표시되는 시간을 구조화된 시간 튜플형태\n",
        "import time\n",
        "local_time = time.localtime()\n",
        "print(local_time)"
      ],
      "metadata": {
        "colab": {
          "base_uri": "https://localhost:8080/"
        },
        "id": "0WllwCVUu2Zn",
        "outputId": "c56b9a3a-2fbd-47e9-fb61-61a8cc1832d5"
      },
      "execution_count": null,
      "outputs": [
        {
          "output_type": "stream",
          "name": "stdout",
          "text": [
            "time.struct_time(tm_year=2024, tm_mon=5, tm_mday=8, tm_hour=5, tm_min=45, tm_sec=24, tm_wday=2, tm_yday=129, tm_isdst=0)\n"
          ]
        }
      ]
    },
    {
      "cell_type": "code",
      "source": [
        "import time\n",
        "a=0\n",
        "while 1:\n",
        "    a= a+1\n",
        "    time.sleep(0.5)\n",
        "    print('asd', end = \"\")\n",
        "\n",
        "    if a>100:\n",
        "        break"
      ],
      "metadata": {
        "colab": {
          "base_uri": "https://localhost:8080/"
        },
        "id": "vQ_H01udtn07",
        "outputId": "8a4b3b07-254d-4281-fb18-fba63bfe15f1"
      },
      "execution_count": null,
      "outputs": [
        {
          "output_type": "stream",
          "name": "stdout",
          "text": [
            "asdasdasdasdasdasdasdasdasdasdasdasdasdasdasdasdasdasdasdasdasdasdasdasdasdasdasdasdasdasdasdasdasdasdasdasdasdasdasdasdasdasdasdasdasdasdasdasdasdasdasdasdasdasdasdasdasdasdasdasdasdasdasdasdasdasdasdasdasdasdasdasdasdasdasdasdasdasdasdasdasdasdasdasdasdasdasdasdasdasdasdasdasdasdasdasdasdasdasdasdasd"
          ]
        }
      ]
    },
    {
      "cell_type": "code",
      "source": [
        "# 현재 시간을 1975년 1월 1일 0시 0분 0초(유닉스 시간의 시작)부터 현재까지의 초(second)로 표현한 값을 반환\n",
        "\n",
        "import time\n",
        "\n",
        "print(time.time())"
      ],
      "metadata": {
        "colab": {
          "base_uri": "https://localhost:8080/"
        },
        "id": "s9j9SHRZuLqV",
        "outputId": "574b9893-23d1-4fe4-8df1-a6e6efc487a2"
      },
      "execution_count": null,
      "outputs": [
        {
          "output_type": "stream",
          "name": "stdout",
          "text": [
            "1715147332.0479226\n"
          ]
        }
      ]
    },
    {
      "cell_type": "code",
      "source": [
        "# 초로 표현된 시간을 구조화된 시간 튜플 형태로 반환\n",
        "t = time.time()\n",
        "time.localtime(t)"
      ],
      "metadata": {
        "colab": {
          "base_uri": "https://localhost:8080/"
        },
        "id": "IbId3wSpvoZk",
        "outputId": "1d956861-efc6-4672-a32a-63022ec8f2e4"
      },
      "execution_count": null,
      "outputs": [
        {
          "output_type": "execute_result",
          "data": {
            "text/plain": [
              "time.struct_time(tm_year=2024, tm_mon=5, tm_mday=8, tm_hour=5, tm_min=50, tm_sec=1, tm_wday=2, tm_yday=129, tm_isdst=0)"
            ]
          },
          "metadata": {},
          "execution_count": 69
        }
      ]
    },
    {
      "cell_type": "code",
      "source": [
        "# strftime 함수는 시간에 관계된 것을 세밀하게 표현할 수 있는 여러 가지 포맷 코드 제공\n",
        "# time.localtime() 함수는 초로 표현된 시간을 구조화된 시간 튜플 형태로 변환\n",
        "import time\n",
        "d = time.strftime('%d', time.localtime(time.time()))\n",
        "m = time.strftime('%m', time.localtime(time.time()))\n",
        "y = time.strftime('%Y', time.localtime(time.time()))\n",
        "a = time.strftime('%A', time.localtime(time.time()))\n",
        "\n",
        "print(d)\n",
        "print(m)\n",
        "print(y)\n",
        "print(a)"
      ],
      "metadata": {
        "colab": {
          "base_uri": "https://localhost:8080/"
        },
        "id": "DxPUiIjowD8S",
        "outputId": "9faab5fd-c02a-4294-f668-d61d0575371e"
      },
      "execution_count": null,
      "outputs": [
        {
          "output_type": "stream",
          "name": "stdout",
          "text": [
            "08\n",
            "05\n",
            "2024\n",
            "Wednesday\n"
          ]
        }
      ]
    },
    {
      "cell_type": "code",
      "source": [
        "import time\n",
        "qwe = time.localtime(time.time())\n",
        "d = time.strftime('%d', qwe)\n",
        "m = time.strftime('%m', qwe)\n",
        "y = time.strftime('%Y', qwe)\n",
        "a = time.strftime('%A', qwe)\n",
        "print(d)\n",
        "print(m)\n",
        "print(y)\n",
        "print(a)"
      ],
      "metadata": {
        "colab": {
          "base_uri": "https://localhost:8080/"
        },
        "id": "Vax4tDBCz3EZ",
        "outputId": "8361b95b-5b5e-4b1b-bf2f-87c23841e9b0"
      },
      "execution_count": null,
      "outputs": [
        {
          "output_type": "stream",
          "name": "stdout",
          "text": [
            "08\n",
            "05\n",
            "2024\n",
            "Wednesday\n"
          ]
        }
      ]
    },
    {
      "cell_type": "code",
      "source": [
        "#Q. 1609160537.371015 을 \"Sat jun 26 08:35:03 2021\" 포멧으로 출력하세요\n",
        "tm = 1609160537.371015\n",
        "tm_data = time.localtime(tm)\n",
        "output = time.strftime(\"%a %b %d %H:%M:%S %Y\" , tm_data)\n",
        "print(output)"
      ],
      "metadata": {
        "colab": {
          "base_uri": "https://localhost:8080/"
        },
        "id": "6lQU8Aq40D2c",
        "outputId": "5a48d157-4613-4083-cf08-939e817f98a5"
      },
      "execution_count": null,
      "outputs": [
        {
          "output_type": "stream",
          "name": "stdout",
          "text": [
            "Mon Dec 28 13:02:17 2020\n"
          ]
        }
      ]
    },
    {
      "cell_type": "code",
      "source": [
        "import time\n",
        "current_time = time.localtime(1609160537.371015)\n",
        "print(current_time)\n",
        "#struct_time 객체를 인간이 읽을 수 있는 형태로 변환합니다.\n",
        "readable_time = time.asctime(current_time)\n",
        "print(readable_time)\n"
      ],
      "metadata": {
        "colab": {
          "base_uri": "https://localhost:8080/"
        },
        "id": "F479hrgw0d53",
        "outputId": "5d3fcaa5-3fb9-44dc-e6b0-3b6f59affc50"
      },
      "execution_count": null,
      "outputs": [
        {
          "output_type": "stream",
          "name": "stdout",
          "text": [
            "time.struct_time(tm_year=2020, tm_mon=12, tm_mday=28, tm_hour=13, tm_min=2, tm_sec=17, tm_wday=0, tm_yday=363, tm_isdst=0)\n",
            "Mon Dec 28 13:02:17 2020\n"
          ]
        }
      ]
    },
    {
      "cell_type": "code",
      "source": [
        "output = time.strftime(\"%a %b %d %H:%M:%S %Y\")\n",
        "print(output)"
      ],
      "metadata": {
        "colab": {
          "base_uri": "https://localhost:8080/"
        },
        "id": "yc959U5i1pBK",
        "outputId": "f3835f9c-fed1-425e-c082-35267f911e1a"
      },
      "execution_count": null,
      "outputs": [
        {
          "output_type": "stream",
          "name": "stdout",
          "text": [
            "Wed May 08 06:14:41 2024\n"
          ]
        }
      ]
    },
    {
      "cell_type": "code",
      "source": [
        "# timestamp => str\n",
        "\n",
        "import time\n",
        "t = time.time()#<= time.time() 이형식이 타임스템프\n",
        "print(t, type(t))\n",
        "s = str(t)\n",
        "print(s, type(s))\n",
        "i = int(t)\n",
        "print(i, type(i))"
      ],
      "metadata": {
        "colab": {
          "base_uri": "https://localhost:8080/"
        },
        "id": "2-FjR_9D1wy5",
        "outputId": "bc3fca02-1d0d-499a-a52a-611a305bc6ea"
      },
      "execution_count": null,
      "outputs": [
        {
          "output_type": "stream",
          "name": "stdout",
          "text": [
            "1715149284.2841566 <class 'float'>\n",
            "1715149284.2841566 <class 'str'>\n",
            "1715149284 <class 'int'>\n"
          ]
        }
      ]
    },
    {
      "cell_type": "code",
      "source": [
        "# timestamp => datetime\n",
        "from datetime import datetime\n",
        "t = time.time()\n",
        "print(t,type(t))\n",
        "d = datetime.fromtimestamp(t)\n",
        "print(d, type(d))"
      ],
      "metadata": {
        "colab": {
          "base_uri": "https://localhost:8080/"
        },
        "id": "H2MQWBcv3GcR",
        "outputId": "6ebcee67-4bd2-429e-cc4a-6ebea09eea8f"
      },
      "execution_count": null,
      "outputs": [
        {
          "output_type": "stream",
          "name": "stdout",
          "text": [
            "1715149426.581876 <class 'float'>\n",
            "2024-05-08 06:23:46.581876 <class 'datetime.datetime'>\n"
          ]
        }
      ]
    },
    {
      "cell_type": "code",
      "source": [
        "# datetime => str\n",
        "from datetime import datetime\n",
        "\n",
        "s = datetime.now()\n",
        "print(s, type(s))\n",
        "\n",
        "s1 = s.strftime(\"%Y-%m-%d %H:%M:%S\")\n",
        "print(s1, type(s1))"
      ],
      "metadata": {
        "colab": {
          "base_uri": "https://localhost:8080/"
        },
        "id": "KDRlA9tH3vzR",
        "outputId": "d02a1254-ac7a-4aa6-aafa-6c335bcfb3ff"
      },
      "execution_count": null,
      "outputs": [
        {
          "output_type": "stream",
          "name": "stdout",
          "text": [
            "2024-05-08 06:31:07.178660 <class 'datetime.datetime'>\n",
            "2024-05-08 06:31:07 <class 'str'>\n"
          ]
        }
      ]
    },
    {
      "cell_type": "code",
      "source": [
        "# timestamp => datetime => str\n",
        "# Q. 현재 시간을 년-월-일 시:분:초로 출력하세요\n",
        "import time\n",
        "from datetime import datetime\n",
        "\n",
        "t=time.time()\n",
        "d = datetime.fromtimestamp(t)       #timestamp => datetime\n",
        "s = d.strftime(\"%y-%m-%d %H:%M:%S\") #datetime => str, %X 시간을 출력, 현재 시간대 기준 \"11:44:22\"\n",
        "s\n"
      ],
      "metadata": {
        "colab": {
          "base_uri": "https://localhost:8080/",
          "height": 35
        },
        "id": "9crraWr54h3I",
        "outputId": "caac2b22-5e3c-4ed5-8df4-3eee1f7a219f"
      },
      "execution_count": null,
      "outputs": [
        {
          "output_type": "execute_result",
          "data": {
            "text/plain": [
              "'24-05-08 06:38:28'"
            ],
            "application/vnd.google.colaboratory.intrinsic+json": {
              "type": "string"
            }
          },
          "metadata": {},
          "execution_count": 112
        }
      ]
    },
    {
      "cell_type": "code",
      "source": [
        "#str => datetime\n",
        "from datetime import datetime\n",
        "s = '2021-07-20 11:13:58'\n",
        "print(s,type(s))\n",
        "d = datetime.strptime(s, \"%Y-%m-%d %H:%M:%S\")\n",
        "print(d, type(d))"
      ],
      "metadata": {
        "colab": {
          "base_uri": "https://localhost:8080/"
        },
        "id": "HlvKpfqP61M3",
        "outputId": "203dcd4f-68d2-47cc-f317-f91836ec628d"
      },
      "execution_count": null,
      "outputs": [
        {
          "output_type": "stream",
          "name": "stdout",
          "text": [
            "2021-07-20 11:13:58 <class 'str'>\n",
            "2021-07-20 11:13:58 <class 'datetime.datetime'>\n"
          ]
        }
      ]
    },
    {
      "cell_type": "code",
      "source": [
        "# datetime => timestamp\n",
        "d = datetime.today()\n",
        "print(d, type(d))\n",
        "timestamp = time.mktime(d.timetuple())# 이거 중요\n",
        "print(timestamp, type(timestamp))"
      ],
      "metadata": {
        "colab": {
          "base_uri": "https://localhost:8080/"
        },
        "id": "8qUqLX_87x9Q",
        "outputId": "d5f29b1b-f27c-457b-a313-173d1a5c4cdc"
      },
      "execution_count": null,
      "outputs": [
        {
          "output_type": "stream",
          "name": "stdout",
          "text": [
            "2024-05-08 06:45:03.101299 <class 'datetime.datetime'>\n",
            "1715150703.0 <class 'float'>\n"
          ]
        }
      ]
    },
    {
      "cell_type": "code",
      "source": [
        "d = datetime.today()\n",
        "print(d.timetuple())\n"
      ],
      "metadata": {
        "colab": {
          "base_uri": "https://localhost:8080/"
        },
        "id": "XUiv9DmF8VRn",
        "outputId": "d9278c92-28ca-4387-eec9-e7226bbe09e6"
      },
      "execution_count": null,
      "outputs": [
        {
          "output_type": "stream",
          "name": "stdout",
          "text": [
            "time.struct_time(tm_year=2024, tm_mon=5, tm_mday=8, tm_hour=6, tm_min=45, tm_sec=3, tm_wday=2, tm_yday=129, tm_isdst=-1)\n"
          ]
        }
      ]
    },
    {
      "cell_type": "code",
      "source": [
        "# str => datetime => timestamp\n",
        "s = '2021-07-20 11:13:58'\n",
        "timestamp = time.mktime(datetime.strptime(s,'%Y-%m-%d %H:%M:%S').timetuple())\n",
        "print(timestamp, type(timestamp))"
      ],
      "metadata": {
        "id": "O0vreEGt86TX",
        "colab": {
          "base_uri": "https://localhost:8080/"
        },
        "outputId": "03640f4d-c3d8-419b-b1aa-d3feef187adf"
      },
      "execution_count": 118,
      "outputs": [
        {
          "output_type": "stream",
          "name": "stdout",
          "text": [
            "1626779638.0 <class 'float'>\n"
          ]
        }
      ]
    },
    {
      "cell_type": "code",
      "source": [],
      "metadata": {
        "id": "1wqxVHkL9Vjd"
      },
      "execution_count": null,
      "outputs": []
    }
  ]
}