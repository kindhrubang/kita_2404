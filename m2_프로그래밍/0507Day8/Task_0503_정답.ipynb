{
  "nbformat": 4,
  "nbformat_minor": 0,
  "metadata": {
    "colab": {
      "provenance": [],
      "toc_visible": true
    },
    "kernelspec": {
      "name": "python3",
      "display_name": "Python 3"
    },
    "language_info": {
      "name": "python"
    }
  },
  "cells": [
    {
      "cell_type": "markdown",
      "source": [],
      "metadata": {
        "id": "R-lke-KBnNw7"
      }
    },
    {
      "cell_type": "markdown",
      "source": [
        "Task1_0503. 여러개의 음식을 동시에 주문할 수 있는 주문 시스템을 작성하세요.(구조 지향)"
      ],
      "metadata": {
        "id": "dTSlBhIzDN_H"
      }
    },
    {
      "cell_type": "markdown",
      "source": [
        "[시나리오]\n",
        "1. 시작 인터페이스:\n",
        "- 시스템 시작 시, 사용자에게 주문 시작 여부를 질문 (y 또는 n으로 응답).\n",
        "- y 선택 시 주문 프로세스 시작.\n",
        "- n 선택 시 시스템 종료 및 \"감사합니다.\" 메시지 표시.\n",
        "2. 메뉴 표시:\n",
        "- 주문 프로세스 시작 시, 현재 메뉴 항목과 가격 표시.\n",
        "- 각 메뉴 옆에는 선택 번호 제공 (예: 1, 2, 3).\n",
        "- 세트 주문 시 추가 비용 안내 (3000원 추가).\n",
        "3. 주문 입력:\n",
        "- 메뉴 선택 입력 요청.\n",
        "- 메뉴 번호 입력 후 세트 주문 여부 질문 (y는 세트, n은 일반).\n",
        "- 주문 수량 질문 후, 주문 장바구니에 추가.\n",
        "- 주문이 추가된 후 해당 내용 표시.\n",
        "4. 주문 취소:\n",
        "- 잘못 주문했거나 주문 취소 시 0 입력.\n",
        "- 주문 취소 시 \"모든 주문이 취소되었습니다.\" 메시지 표시.\n",
        "5. 주문 요약 및 결제:\n",
        "- 주문 완료하려면 5 입력.\n",
        "- 주문 내역 및 총 금액 요약 표시.\n",
        "- 결제 금액 안내 및 결제 진행 요청.\n",
        "- 결제 완료 후 \"총 금액은 XXX원이 결제되었습니다. 감사합니다.\" 메시지 표시 및 주문 초기화.\n",
        "6. 반복 주문 가능:\n",
        "- 결제 후 추가 주문 진행 가능.\n",
        "- 언제든지 n 입력하여 주문 프로세스 종료 및 시스템 빠져나올 수 있음."
      ],
      "metadata": {
        "id": "qQaQqSqPnOOh"
      }
    },
    {
      "cell_type": "markdown",
      "source": [
        "[ 함수 구성 및 역할 ]\n",
        "1. display_menu()\n",
        "- 역할: 사용자에게 메뉴 선택지를 표시.\n",
        "- 세부 기능: 메뉴 아이템과 각각의 가격, 세트 주문 시 추가 비용을 표시.\n",
        "- 시나리오 연결: 사용자가 주문 프로세스를 시작할 때, 어떤 메뉴를 선택할 수 있는지 표시.\n",
        "2. display_order_summary()\n",
        "- 역할: 현재 주문 상태를 요약하여 표시.\n",
        "- 세부 기능: 선택된 메뉴 항목, 수량, 세트 여부, 각 항목의 가격과 총 주문 금액을 계산하여 표시.\n",
        "- 시나리오 연결: 주문을 마친 후, 사용자가 자신의 주문 내역을 확인하고 최종 결제하기 전에 전체 주문 내용 검토.\n",
        "3. add_order(menu_id, is_set)\n",
        "- 역할: 사용자의 메뉴 선택을 주문 목록에 추가.\n",
        "- 세부 기능: 메뉴 ID와 세트 여부에 따라 주문을 추가하고, 추가된 주문 정보를 사용자에게 전달.\n",
        "- 시나리오 연결: 사용자가 메뉴를 선택하고 주문 수량을 입력할 때, 해당 주문을 시스템에 추가 및 확인.\n",
        "4. process_order()\n",
        "- 역할: 주문 프로세스의 메인 컨트롤러.\n",
        "- 세부 기능: 사용자의 입력을 받아 메뉴 선택, 주문, 주문 취소, 결제를 처리하고, 프로세스의 시작과 종료를 관리.\n",
        "- 시나리오 연결: 전체 주문 프로세스를 실행하고, 사용자의 각 선택에 따라 적절한 행동을 지시하며, 필요에 따라 다른 함수들을 호출.\n",
        "\n",
        "[ 시나리오의 흐름과 함수 연결 ]\n",
        "1. 시작: 사용자가 주문을 시작하겠다고 응답하면 (y 입력), display_menu() 함수가 호출되어 사용 가능한 메뉴를 표시.\n",
        "2. 메뉴 선택: 사용자가 메뉴 번호를 입력하고, 세트 여부를 선택하면 add_order() 함수가 호출되어 주문을 추가.\n",
        "3. 주문 확인: 주문을 추가할 때마다 display_order_summary() 함수가 호출되어 현재까지의 주문 상태를 확인.\n",
        "4. 주문 수정 또는 결제: 사용자가 주문을 취소하거나 변경할 수 있고, 최종적으로 결제를 원할 때 process_order() 함수 내에서 결제를 진행.\n",
        "4. 종료: 주문 결제가 완료되면, 사용자가 추가 주문을 원하지 않을 경우 (n 입력), 시스템이 종료.\n",
        "\n",
        "이러한 구조화된 접근 방식은 코드의 각 부분이 시나리오의 어떤 단계와 연결되는지 명확하게 정의하며, 시스템의 유지 관리와 확장성을 개선."
      ],
      "metadata": {
        "id": "GQsnGAJMp6fN"
      }
    },
    {
      "cell_type": "code",
      "execution_count": null,
      "metadata": {
        "id": "qmY0sGNaDDhE"
      },
      "outputs": [],
      "source": [
        "# global <= 전역변수 설정 수정해야됨@@@@@@@@@@@@@@@@@@@\n",
        "def display_menu():\n",
        "    print(\"\\nKITA 식당에 오신 것을 환영합니다\")\n",
        "    print(\"\\n\" + \"=\" * 40)\n",
        "    print(\"\\n          - 메  뉴 -\")\n",
        "    print(\"    1. 불고기 비빔밥 : 12,000원\")\n",
        "    print(\"    2. 야채 비빔밥 : 8,000원\")\n",
        "    print(\"    3. 전주 비빔밥 : 10,000원\")\n",
        "    print(\"\\n    세트 주문시 : 3,000원 추가\")\n",
        "    print(\"    (세트는 밥과 반찬이 추가됩니다.)\")\n",
        "    print(\"\\n\" + \"=\" * 40)\n",
        "\n",
        "\n",
        "def order():\n",
        "    # 메뉴별 가격을 설정한다.\n",
        "    prices = {1: 12000, 2: 8000, 3: 10000}\n",
        "\n",
        "    # 사용자로부터 메뉴 선택을 받는다.\n",
        "    menu_choice = int(input(\"\\n비빔밥 메뉴를 선택해 주세요. 1, 2, 3 >>> \"))\n",
        "\n",
        "    # 사용자가 선택한 메뉴의 가격을 가져온다.\n",
        "    total_price = prices.get(menu_choice, 0)\n",
        "\n",
        "    # 세트 주문 여부를 확인한다.\n",
        "    set_order = input(\"세트 주문을 하시겠습니까? 3,000원 추가. y, n >>> \").lower()\n",
        "    if set_order == 'y':\n",
        "        total_price += 3000\n",
        "\n",
        "    print(f\"총 금액은 {total_price}원 입니다.\")\n",
        "\n",
        "\n",
        "def main():\n",
        "    while True:\n",
        "        display_menu()\n",
        "        order()\n",
        "\n",
        "        # 계속 주문하거나 종료 여부를 확인한다.\n",
        "        continue_ordering = input(\"\\n다시 주문하시겠습니까? (주문: enter, 종료: '종료' 입력) >>> \")\n",
        "        if continue_ordering == '종료':\n",
        "            break\n",
        "\n",
        "    print(\"\\n감사합니다! 다음에 또 방문해 주세요.\")\n",
        "\n",
        "\n",
        "if __name__ == \"__main__\":\n",
        "    main()"
      ]
    },
    {
      "cell_type": "code",
      "source": [
        "# 예시\n",
        "menu_items = {\n",
        "    '1' : ('불고기 비빔밥', 12000),\n",
        "    '2' : ('야채 비빔밥', 8000),\n",
        "    '3' : ('전주 비빔밥', 10000)\n",
        "}\n",
        "set_price = 3000\n",
        "orders = {}\n",
        "price_total=0\n",
        "\n",
        "def display_menu():\n",
        "    print(\"\\n♣♣♣ KITA 식당에 오신 것을 환영합니다 ♣♣♣\")\n",
        "    print(\"========================================\")\n",
        "    print(\"           - 메뉴 -\")\n",
        "    for key, (name, price) in menu_items.items():\n",
        "        print(f\"  {key}. {name} : {price}원\")\n",
        "    print(\"\\n  세트 주문시 : 3000원 추가 (세트는 밥과 반찬이 추가됩니다.)\")\n",
        "    print(\"========================================\")\n",
        "\n",
        "def display_order_summary():\n",
        "    global price_total\n",
        "    print('\\n∎장바구니')\n",
        "    price_total = 0\n",
        "    for key, (name, price) in menu_items.items():\n",
        "        count = orders.get((key, False), 0)\n",
        "        count_set = orders.get((key,True),0)\n",
        "        print(f\"{name} {count}개: {count * price}원\")\n",
        "        print(f\"{name} 세트 {count_set}개: {count_set * (price + set_price)}원\")\n",
        "        price_total += (count * price) + (count_set * (price + set_price))\n",
        "    print(f\"총 금액 {price_total}원 \\n\")\n",
        "\n",
        "def add_order(menu_id, is_set):\n",
        "    item_name, item_price = menu_items[menu_id]\n",
        "    if is_set:\n",
        "        item_price *= set_price\n",
        "    num = input(f\"\\n {item_name}{' 세트' if is_set else ''} 몇 개 주문 하시겠습니까? \\n\")\n",
        "    if num.isdigit() and int(num) >0:\n",
        "        orders[(menu_id, is_set)] = orders.get((menu_id, is_set), 0) + int(num)\n",
        "        print(f\"\\n{item_name}{' 세트' if is_set else ''} {num}개가 장바구니에 담겼습니다. \\n\")\n",
        "    else:\n",
        "        print('양수만 입력하세요.')\n",
        "\n",
        "def process_order():\n",
        "    while True:\n",
        "        msg = input(\" 주문을 하시겠습니까? (y 또는 n) >>\").strip().lower()\n",
        "        if msg == 'y':\n",
        "            while True:\n",
        "                display_menu()\n",
        "                display_order_summary()\n",
        "                choice = input(\" 주문할 메뉴를 골라주세요. (불고기 비빔밥:1, 야채 비빔밥:2, 전주 비빔밥:3, 전체 취소:0 결제:5) >>\").strip().lower()\n",
        "                if choice in menu_items:\n",
        "                    set_choice = input(\"\\n 3000원을 추가해 세트로 주문하시겠습니까? (일반주문시:n, 세트주문시:y)\\n\").strip().lower()\n",
        "                    if set_choice in ['y', 'n']:\n",
        "                        add_order(choice, set_choice =='y')\n",
        "                    else:\n",
        "                        print(' 올바른 선택을 입력하세요 (y 또는 n). ')\n",
        "                elif choice == '0':\n",
        "                    orders.clear()\n",
        "                    print(' \\n 모든 주문이 취소되었습니다.')\n",
        "                elif choice == '5':\n",
        "                    if price_total >0:\n",
        "                        print(f'\\n 주문하시려면 결제해주세요. 결제금액은 {price_total}원 입니다. \\n')\n",
        "                        input('결제를 완료하려면 아무 키나 누르세요...')\n",
        "                        print(f'\\n총 금액 {price_total}원이 결제 되었습니다. 감사합니다.')\n",
        "                        orders.clear()\n",
        "                        break\n",
        "                    else:\n",
        "                        print('물건을 담으신 후 결제를 진행해주세요')\n",
        "                else:\n",
        "                    print(' 메뉴의 지정된 숫자로 입력하세요')\n",
        "        else:\n",
        "            print('감사합니다~!')\n",
        "            break\n",
        "\n",
        "if __name__ == \"__main__\":\n",
        "    process_order()"
      ],
      "metadata": {
        "colab": {
          "base_uri": "https://localhost:8080/"
        },
        "id": "AY66OcEvq5F3",
        "outputId": "d4dce2f8-d7c8-44f7-97aa-5441be83fd84"
      },
      "execution_count": 16,
      "outputs": [
        {
          "output_type": "stream",
          "name": "stdout",
          "text": [
            " 주문을 하시겠습니까? (y 또는 n) >>y\n",
            "\n",
            "♣♣♣ KITA 식당에 오신 것을 환영합니다 ♣♣♣\n",
            "========================================\n",
            "           - 메뉴 -\n",
            "  1. 불고기 비빔밥 : 12000원\n",
            "  2. 야채 비빔밥 : 8000원\n",
            "  3. 전주 비빔밥 : 10000원\n",
            "\n",
            "  세트 주문시 : 3000원 추가 (세트는 밥과 반찬이 추가됩니다.)\n",
            "========================================\n",
            "\n",
            "∎장바구니\n",
            "불고기 비빔밥 0개: 0원\n",
            "불고기 비빔밥 세트 0개: 0원\n",
            "야채 비빔밥 0개: 0원\n",
            "야채 비빔밥 세트 0개: 0원\n",
            "전주 비빔밥 0개: 0원\n",
            "전주 비빔밥 세트 0개: 0원\n",
            "총 금액 0원 \n",
            "\n",
            " 주문할 메뉴를 골라주세요. (불고기 비빔밥:1, 야채 비빔밥:2, 전주 비빔밥:3, 전체 취소:0 결제:5) >>1\n",
            "\n",
            " 3000원을 추가해 세트로 주문하시겠습니까? (일반주문시:n, 세트주문시:y)\n",
            "y\n",
            "\n",
            " 불고기 비빔밥 세트 몇 개 주문 하시겠습니까? \n",
            "50\n",
            "\n",
            "불고기 비빔밥 세트 50개가 장바구니에 담겼습니다. \n",
            "\n",
            "\n",
            "♣♣♣ KITA 식당에 오신 것을 환영합니다 ♣♣♣\n",
            "========================================\n",
            "           - 메뉴 -\n",
            "  1. 불고기 비빔밥 : 12000원\n",
            "  2. 야채 비빔밥 : 8000원\n",
            "  3. 전주 비빔밥 : 10000원\n",
            "\n",
            "  세트 주문시 : 3000원 추가 (세트는 밥과 반찬이 추가됩니다.)\n",
            "========================================\n",
            "\n",
            "∎장바구니\n",
            "불고기 비빔밥 0개: 0원\n",
            "불고기 비빔밥 세트 50개: 750000원\n",
            "야채 비빔밥 0개: 0원\n",
            "야채 비빔밥 세트 0개: 0원\n",
            "전주 비빔밥 0개: 0원\n",
            "전주 비빔밥 세트 0개: 0원\n",
            "총 금액 750000원 \n",
            "\n",
            " 주문할 메뉴를 골라주세요. (불고기 비빔밥:1, 야채 비빔밥:2, 전주 비빔밥:3, 전체 취소:0 결제:5) >>0\n",
            " \n",
            " 모든 주문이 취소되었습니다.\n",
            "\n",
            "♣♣♣ KITA 식당에 오신 것을 환영합니다 ♣♣♣\n",
            "========================================\n",
            "           - 메뉴 -\n",
            "  1. 불고기 비빔밥 : 12000원\n",
            "  2. 야채 비빔밥 : 8000원\n",
            "  3. 전주 비빔밥 : 10000원\n",
            "\n",
            "  세트 주문시 : 3000원 추가 (세트는 밥과 반찬이 추가됩니다.)\n",
            "========================================\n",
            "\n",
            "∎장바구니\n",
            "불고기 비빔밥 0개: 0원\n",
            "불고기 비빔밥 세트 0개: 0원\n",
            "야채 비빔밥 0개: 0원\n",
            "야채 비빔밥 세트 0개: 0원\n",
            "전주 비빔밥 0개: 0원\n",
            "전주 비빔밥 세트 0개: 0원\n",
            "총 금액 0원 \n",
            "\n",
            " 주문할 메뉴를 골라주세요. (불고기 비빔밥:1, 야채 비빔밥:2, 전주 비빔밥:3, 전체 취소:0 결제:5) >>2\n",
            "\n",
            " 3000원을 추가해 세트로 주문하시겠습니까? (일반주문시:n, 세트주문시:y)\n",
            "n\n",
            "\n",
            " 야채 비빔밥 몇 개 주문 하시겠습니까? \n",
            "40\n",
            "\n",
            "야채 비빔밥 40개가 장바구니에 담겼습니다. \n",
            "\n",
            "\n",
            "♣♣♣ KITA 식당에 오신 것을 환영합니다 ♣♣♣\n",
            "========================================\n",
            "           - 메뉴 -\n",
            "  1. 불고기 비빔밥 : 12000원\n",
            "  2. 야채 비빔밥 : 8000원\n",
            "  3. 전주 비빔밥 : 10000원\n",
            "\n",
            "  세트 주문시 : 3000원 추가 (세트는 밥과 반찬이 추가됩니다.)\n",
            "========================================\n",
            "\n",
            "∎장바구니\n",
            "불고기 비빔밥 0개: 0원\n",
            "불고기 비빔밥 세트 0개: 0원\n",
            "야채 비빔밥 40개: 320000원\n",
            "야채 비빔밥 세트 0개: 0원\n",
            "전주 비빔밥 0개: 0원\n",
            "전주 비빔밥 세트 0개: 0원\n",
            "총 금액 320000원 \n",
            "\n",
            " 주문할 메뉴를 골라주세요. (불고기 비빔밥:1, 야채 비빔밥:2, 전주 비빔밥:3, 전체 취소:0 결제:5) >>3\n",
            "\n",
            " 3000원을 추가해 세트로 주문하시겠습니까? (일반주문시:n, 세트주문시:y)\n",
            "y\n",
            "\n",
            " 전주 비빔밥 세트 몇 개 주문 하시겠습니까? \n",
            "40\n",
            "\n",
            "전주 비빔밥 세트 40개가 장바구니에 담겼습니다. \n",
            "\n",
            "\n",
            "♣♣♣ KITA 식당에 오신 것을 환영합니다 ♣♣♣\n",
            "========================================\n",
            "           - 메뉴 -\n",
            "  1. 불고기 비빔밥 : 12000원\n",
            "  2. 야채 비빔밥 : 8000원\n",
            "  3. 전주 비빔밥 : 10000원\n",
            "\n",
            "  세트 주문시 : 3000원 추가 (세트는 밥과 반찬이 추가됩니다.)\n",
            "========================================\n",
            "\n",
            "∎장바구니\n",
            "불고기 비빔밥 0개: 0원\n",
            "불고기 비빔밥 세트 0개: 0원\n",
            "야채 비빔밥 40개: 320000원\n",
            "야채 비빔밥 세트 0개: 0원\n",
            "전주 비빔밥 0개: 0원\n",
            "전주 비빔밥 세트 40개: 520000원\n",
            "총 금액 840000원 \n",
            "\n",
            " 주문할 메뉴를 골라주세요. (불고기 비빔밥:1, 야채 비빔밥:2, 전주 비빔밥:3, 전체 취소:0 결제:5) >>5\n",
            "\n",
            " 주문하시려면 결제해주세요. 결제금액은 840000원 입니다. \n",
            "\n",
            "결제를 완료하려면 아무 키나 누르세요...asd\n",
            "\n",
            "총 금액 840000원이 결제 되었습니다. 감사합니다.\n",
            " 주문을 하시겠습니까? (y 또는 n) >>n\n",
            "감사합니다~!\n"
          ]
        }
      ]
    },
    {
      "cell_type": "code",
      "source": [
        "#예시\n",
        "# 메뉴 아이템과 가격 설정\n",
        "menu_items = {\n",
        "    '1': (\"불고기 비빔밥\", 12000),\n",
        "    '2': (\"야채 비빔밥\", 8000),\n",
        "    '3': (\"전주 비빔밥\", 10000)\n",
        "}\n",
        "set_price = 3000\n",
        "orders = {}\n",
        "price_total = 0\n",
        "\n",
        "def display_menu():\n",
        "    print(\"\\n♣♣♣ KITA 식당에 오신 것을 환영합니다 ♣♣♣\")\n",
        "    print(\"========================================\")\n",
        "    print(\"           - 메뉴 -\")\n",
        "    for key, (name, price) in menu_items.items():\n",
        "        print(f\"  {key}. {name} : {price}원\")\n",
        "    print(\"\\n  세트 주문시 : 3000원 추가 (세트는 밥과 반찬이 추가됩니다.)\")\n",
        "    print(\"========================================\")\n",
        "\n",
        "def display_order_summary():\n",
        "    global price_total  # 전역 변수 price_total 사용 선언\n",
        "    print(\"\\n■장바구니\")\n",
        "    price_total = 0\n",
        "    for key, (name, price) in menu_items.items():\n",
        "        count = orders.get((key, False), 0)\n",
        "        count_set = orders.get((key, True), 0)\n",
        "        print(f\" {name} {count}개: {count * price}원\")\n",
        "        print(f\" {name} 세트 {count_set}개: {count_set * (price + set_price)}원\")\n",
        "        price_total += (count * price) + (count_set * (price + set_price))\n",
        "    print(f\" 총 금액 {price_total}원\\n\")\n",
        "\n",
        "def add_order(menu_id, is_set):\n",
        "    item_name, item_price = menu_items[menu_id]\n",
        "    if is_set:\n",
        "        item_price += set_price\n",
        "    num = input(f\"\\n● {item_name}{' 세트' if is_set else ''} 몇 개 주문 하시겠습니까?\\n\")\n",
        "    if num.isdigit() and int(num) > 0:\n",
        "        orders[(menu_id, is_set)] = orders.get((menu_id, is_set), 0) + int(num) # orders는 {(menu_id, is_set):개수}\n",
        "        print(f\"\\n{item_name}{' 세트' if is_set else ''} {num}개가 장바구니에 담겼습니다.\\n\")\n",
        "    else:\n",
        "        print('★양수만 입력하세요.★')\n",
        "\n",
        "def process_order():\n",
        "    while True:\n",
        "        msg = input(\"● 주문을 하시겠습니까? (y 또는 n) >> \").strip().lower()\n",
        "        if msg == 'y':\n",
        "          while True:\n",
        "            display_menu()\n",
        "            display_order_summary()\n",
        "            choice = input(\"● 주문할 메뉴를 골라주세요. (불고기 비빔밥:1, 야채 비빔밥:2, 전주 비빔밥:3, \\\n",
        "            전체 취소:0, 결재:5) >> \").strip().lower()\n",
        "            if choice in menu_items:\n",
        "                set_choice = input(\"\\n●3000원을 추가해 세트로 주문하시겠습니까? \\\n",
        "                (일반주문시:n, 세트주문시:y)\\n\").strip().lower()\n",
        "                if set_choice in ['y', 'n']:\n",
        "                    add_order(choice, set_choice == 'y')\n",
        "                else:\n",
        "                    print('★올바른 선택을 입력하세요 (y 또는 n).★')\n",
        "            elif choice == '0':\n",
        "                orders.clear()\n",
        "                print('\\n모든 주문이 취소되었습니다.')\n",
        "            elif choice == '5':\n",
        "                if price_total > 0:\n",
        "                    print(f'\\n●주문하려면 결제해주세요. 결제금액은 {price_total}원 입니다.\\n')\n",
        "                    input(\"결제를 완료하려면 아무 키나 누르세요...\")  # 사용자가 결제를 확인할 수 있도록 입력 대기\n",
        "                    print(f\"\\n총 금액 {price_total}원이 결제 되었습니다. 감사합니다.\")\n",
        "                    orders.clear()\n",
        "                    break\n",
        "                else:\n",
        "                    print('★메뉴를 고르고 주문해주세요!★')\n",
        "            else:\n",
        "                print('★메뉴의 지정된 숫자로 입력하세요★')\n",
        "        else:\n",
        "          print('감사합니다.')\n",
        "          break\n",
        "if __name__ == \"__main__\":\n",
        "    process_order()"
      ],
      "metadata": {
        "id": "ilKK1BXxAi7h"
      },
      "execution_count": null,
      "outputs": []
    },
    {
      "cell_type": "markdown",
      "source": [
        "Task2_0503. 내장함수 5개를 활용해서 사용자 함수로 간단한 프로그램을 만드세요.\n",
        "\n",
        "[예시] 문서관리 프로그램\n",
        "\n",
        "len() - 문자열의 길이를 계산합니다.\\\n",
        "input() - 사용자로부터 입력을 받습니다.\\\n",
        "print() - 결과를 출력합니다.\\\n",
        "sum() - 주어진 조건에 따라 특정 개수를 계산합니다.\\\n",
        "Counter (from collections) - 문자의 빈도수를 계산합니다.\\"
      ],
      "metadata": {
        "id": "1z_xp244UTs_"
      }
    },
    {
      "cell_type": "code",
      "source": [
        "#내장함수\n",
        "print(dir(__builtins__))\n",
        "print(len(dir(__builtins__)))"
      ],
      "metadata": {
        "colab": {
          "base_uri": "https://localhost:8080/"
        },
        "id": "0e8k8lCzAKAT",
        "outputId": "c1b12228-e402-438c-f047-ba9f7b52e82b"
      },
      "execution_count": 18,
      "outputs": [
        {
          "output_type": "stream",
          "name": "stdout",
          "text": [
            "['ArithmeticError', 'AssertionError', 'AttributeError', 'BaseException', 'BlockingIOError', 'BrokenPipeError', 'BufferError', 'BytesWarning', 'ChildProcessError', 'ConnectionAbortedError', 'ConnectionError', 'ConnectionRefusedError', 'ConnectionResetError', 'DeprecationWarning', 'EOFError', 'Ellipsis', 'EncodingWarning', 'EnvironmentError', 'Exception', 'False', 'FileExistsError', 'FileNotFoundError', 'FloatingPointError', 'FutureWarning', 'GeneratorExit', 'IOError', 'ImportError', 'ImportWarning', 'IndentationError', 'IndexError', 'InterruptedError', 'IsADirectoryError', 'KeyError', 'KeyboardInterrupt', 'LookupError', 'MemoryError', 'ModuleNotFoundError', 'NameError', 'None', 'NotADirectoryError', 'NotImplemented', 'NotImplementedError', 'OSError', 'OverflowError', 'PendingDeprecationWarning', 'PermissionError', 'ProcessLookupError', 'RecursionError', 'ReferenceError', 'ResourceWarning', 'RuntimeError', 'RuntimeWarning', 'StopAsyncIteration', 'StopIteration', 'SyntaxError', 'SyntaxWarning', 'SystemError', 'SystemExit', 'TabError', 'TimeoutError', 'True', 'TypeError', 'UnboundLocalError', 'UnicodeDecodeError', 'UnicodeEncodeError', 'UnicodeError', 'UnicodeTranslateError', 'UnicodeWarning', 'UserWarning', 'ValueError', 'Warning', 'ZeroDivisionError', '__IPYTHON__', '__build_class__', '__debug__', '__doc__', '__import__', '__loader__', '__name__', '__package__', '__spec__', 'abs', 'aiter', 'all', 'anext', 'any', 'ascii', 'bin', 'bool', 'breakpoint', 'bytearray', 'bytes', 'callable', 'chr', 'classmethod', 'compile', 'complex', 'copyright', 'credits', 'delattr', 'dict', 'dir', 'display', 'divmod', 'enumerate', 'eval', 'exec', 'execfile', 'filter', 'float', 'format', 'frozenset', 'get_ipython', 'getattr', 'globals', 'hasattr', 'hash', 'help', 'hex', 'id', 'input', 'int', 'isinstance', 'issubclass', 'iter', 'len', 'license', 'list', 'locals', 'map', 'max', 'memoryview', 'min', 'next', 'object', 'oct', 'open', 'ord', 'pow', 'print', 'property', 'range', 'repr', 'reversed', 'round', 'runfile', 'set', 'setattr', 'slice', 'sorted', 'staticmethod', 'str', 'sum', 'super', 'tuple', 'type', 'vars', 'zip']\n",
            "158\n"
          ]
        }
      ]
    },
    {
      "cell_type": "code",
      "source": [
        "def main():\n",
        "    tool = opening()\n",
        "\n",
        "    if tool == 1:\n",
        "        text_list.append(text_reg())\n",
        "\n",
        "    elif tool == 2:\n",
        "        text_len_sum(text_list)\n",
        "\n",
        "    elif tool == 3:\n",
        "\n",
        "        text_print(text_list)\n",
        "    else:\n",
        "        print('입력오류!')\n",
        "        return 0\n",
        "\n",
        "def text_reg():\n",
        "    text = input('원하시는 문자열을 입력하세요 :')\n",
        "    return text\n",
        "\n",
        "def text_len_sum(text_list):\n",
        "    global text_str\n",
        "    text_str = ''\n",
        "    for i in range(len(text_list)):\n",
        "        text_str = text_str+ text_list[i]\n",
        "    print(f'지금까지 입력하신 문자열의 길이는 {len(text_str)}입니다')\n",
        "\n",
        "\n",
        "def text_print(text_list):\n",
        "    text_str = ''\n",
        "    for i in range(len(text_list)):\n",
        "\n",
        "        text_str += text_list[i]\n",
        "    print(f'지금까지 입력하신 문자열은 \\n\\n\\n{text_str}')\n",
        "    return\n",
        "\n",
        "\n",
        "def opening():\n",
        "    print('\\n\\n|<문서 관리 프로그램>|\\n\\n')\n",
        "    print('1. 문자열 등록\\n2. 입력한 문자열 길이 구하기\\n3. 지금까지 작성한 문자열 확인\\n')\n",
        "    tool = int(input('원하시는 기능을 입력하세요 :'))\n",
        "    return tool\n",
        "\n",
        "text_list = []\n",
        "while 1 :\n",
        "    a = main()\n",
        "    if a == 0:\n",
        "        break"
      ],
      "metadata": {
        "colab": {
          "base_uri": "https://localhost:8080/"
        },
        "id": "f0idq1mmUXf-",
        "outputId": "f517e3ab-f351-4863-8abb-9f3216fb1281"
      },
      "execution_count": null,
      "outputs": [
        {
          "output_type": "stream",
          "name": "stdout",
          "text": [
            "\n",
            "\n",
            "|<문서 관리 프로그램>|\n",
            "\n",
            "\n",
            "1. 문자열 등록\n",
            "2. 입력한 문자열 길이 구하기\n",
            "3. 지금까지 작성한 문자열 확인\n",
            "\n",
            "원하시는 기능을 입력하세요 :1\n",
            "원하시는 문자열을 입력하세요 :asd\n",
            "\n",
            "\n",
            "|<문서 관리 프로그램>|\n",
            "\n",
            "\n",
            "1. 문자열 등록\n",
            "2. 입력한 문자열 길이 구하기\n",
            "3. 지금까지 작성한 문자열 확인\n",
            "\n",
            "원하시는 기능을 입력하세요 :1\n",
            "원하시는 문자열을 입력하세요 :qwe\n",
            "\n",
            "\n",
            "|<문서 관리 프로그램>|\n",
            "\n",
            "\n",
            "1. 문자열 등록\n",
            "2. 입력한 문자열 길이 구하기\n",
            "3. 지금까지 작성한 문자열 확인\n",
            "\n",
            "원하시는 기능을 입력하세요 :2\n",
            "지금까지 입력하신 문자열의 길이는 6입니다\n",
            "\n",
            "\n",
            "|<문서 관리 프로그램>|\n",
            "\n",
            "\n",
            "1. 문자열 등록\n",
            "2. 입력한 문자열 길이 구하기\n",
            "3. 지금까지 작성한 문자열 확인\n",
            "\n",
            "원하시는 기능을 입력하세요 :3\n",
            "지금까지 입력하신 문자열은 \n",
            "\n",
            "\n",
            "asdqwe\n",
            "\n",
            "\n",
            "|<문서 관리 프로그램>|\n",
            "\n",
            "\n",
            "1. 문자열 등록\n",
            "2. 입력한 문자열 길이 구하기\n",
            "3. 지금까지 작성한 문자열 확인\n",
            "\n",
            "원하시는 기능을 입력하세요 :4\n",
            "입력오류!\n"
          ]
        }
      ]
    },
    {
      "cell_type": "code",
      "source": [
        "#예시\n",
        "def string_statistics(user_input):\n",
        "\n",
        "    length = len(user_input)\n",
        "\n",
        "    from collections import Counter\n",
        "    frequency = Counter(user_input)\n",
        "    most_common = frequency.most_common(1)[0][0]\n",
        "\n",
        "    num_counter = sum(c.isdigit() for c in user_input)\n",
        "\n",
        "    uppercase_count = sum(c.isupper() for c in user_input)\n",
        "\n",
        "    lowercase_count = sum(c.islower() for c in user_input)\n",
        "\n",
        "    print(f\"입력된 문자열의 길이: {length}\")\n",
        "    print(f\"가장 자주 등장하는 문자: {most_common}\")\n",
        "    print(f\"숫자의 개수: {num_counter}\")\n",
        "    print(f\"대문자의 개수: {uppercase_count}\")\n",
        "    print(f\"소문자의 개수: {lowercase_count}\")\n",
        "\n",
        "ip = input(\"문자열을 입력하세요\")\n",
        "string_statistics(ip)"
      ],
      "metadata": {
        "colab": {
          "base_uri": "https://localhost:8080/"
        },
        "id": "Nj_R4k8G5WMc",
        "outputId": "bd063838-7bc4-4ea0-faa0-893d156ab321"
      },
      "execution_count": 23,
      "outputs": [
        {
          "output_type": "stream",
          "name": "stdout",
          "text": [
            "문자열을 입력하세요 There once was an old man named Gepetto. He was a carpenter. He made things out of wood.   옛날에 제페토라는 노인이 있었습니다. 그는 목수였습니다. 그는 나무로 물건을 만들었습니다.     He was a very lonely man. One day, he made a puppet out of wood.   그는 매우 외로운 사람이었습니다. 어느 날, 그는 나무로 꼭두각시를 만들었습니다.     He took a piece of wood and started to make the puppet's face. Then he worked on the puppet's body.   그는 나뭇조각을 가져다가 꼭두각시의 얼굴을 만들기 시작했습니다. 그러고 나서 그는 꼭두각시의 몸을 만들었습니다.     When he was done, he called the puppet “Pinocchio”.   그는 이 인형을 '피노키오'라고 불렀습니다.     All of a sudden, the puppet's eyes started to move and his head moved too.   갑자기 꼭두각시 눈이 움직이기 시작했고 머리도 움직였습니다.     Then the puppet started to stand up on his feet. Gepetto was very happy.   그리고 꼭두각시가 일어서기 시작했습니다. 제페토는 매우 행복했습니다.     He took Pinocchio's hands and they both started to dance. Gepetto took out some fabric and made some clothes for Pinocchio.   그가 피노키오의 손을 잡자 둘 다 춤을 추기 시작했습니다. 제페토는 천으로 피노키오를 위한 옷을 만들었습니다.     He made a shirt and a pair of pants. He, also made a pair of wooden shoes for Pinocchio.   그는 셔츠와 바지를 만들었습니다. 그는 또한 피노키오를 위한 나무 신발 한 켤레를 만들었습니다.     Now his feet would stay warm when he walked. Pinocchio wanted to go to school like all the other real boys.   이제 그가 걸을 때 발은 따뜻할 것입니다. 피노키오는 다른 진짜 소년들처럼 학교에 가고 싶었습니다.     The next day Gepetto gave his puppet a notebook and a school bag. On his way to school, Pinocchio saw an ugly man.   다음날 제페토는 그의 꼭두각시 인형에게 공책과 책가방을 주었습니다. 학교로 가는 길에 피노키오는 못생긴 남자를 보았습니다.     The man had a long beard and red eyes. The man started to come towards Pinocchio.   그 남자는 긴 턱수염과 빨간 눈을 가지고 있었습니다. 남자는 피노키오를 향해 걸어오기 시작했습니다.     Pinocchio ran away because he was scared. He ran to a corn field, and he found five gold coins.   피노키오는 무서워서 도망쳤습니다. 그는 옥수수밭으로 도망치다, 금화 다섯 개를 발견했습니다.     He wanted to get home to give his father the gold coins he had found.   그는 아버지에게 자신이 발견한 금화를 주기 위해 집으로 돌아가고 싶었습니다.     This would make his father very happy because his father was very poor.   아버지는 매우 가난했기에 이 금화는 아버지를 매우 행복하게 만들 것이습니다.     On his way home, Pinocchio met a fox and a cat. The fox was hurt and the cat was blind.   집에 오는 길에 피노키오는 여우와 고양이를 만났습니다. 여우는 몸이 다쳤고 고양이는 눈이 멀었습니다.     They went up to Pinocchio and they saw the five coins in his hand.   그들은 피노키오에게 가까이 오자, 그의 손에 있는 다섯 개의 동전을 보았습니다.     The fox said, “Hello, Pinocchio, you have pretty coins.”   여우는 \"안녕, 피노키오, 너는 예쁜 동전을 가지고 있구나.\"라고 말했습니다.     “I know how to make many more coins with the coins you have in your hand. There is a place called Field of Miracles.”   \"나는 네가 손에 들고 있는 동전으로 더 많은 동전을 수 있어. 기적의 장소라고 불리는 곳이 있어.\"     “If you go there and plant your coins in the ground, the next day you will find a tree with many gold coins on it.”   \"그곳에 가서 동전을 땅에 심으면 다음날 금화가 많이 달린 나무를 발견할 수 있어.\"     Pinocchio was very happy. He wanted to bring home a lot of gold coins to his father.   피노키오는 매우 행복했습니다. 그는 그의 아버지에게 많은 금화를 가지고 가고 싶었습니다.     He said to the cat and the fox, “Let's go there now!” He forgot about going to school as he walked with the fox and the cat.   그는 고양이와 여우에게 \"지금 거기로 가자!\"라고 말했습니다. 그는 여우와 고양이와 함께 걸으면서 학교에 가는 것을 잊었습니다.     They walked for a long time. The sun was starting to go down. It was getting dark outside.   그들은 오랫동안 걸었습니다. 해가 지기 시작하고 있었습니다. 밖은 점점 어두워지고 있었습니다.     The fox and the cat said, “Pinocchio, we have to go meet someone now. We will meet you at the end of the forest.”   여우와 고양이는 \"피노키오, 우리는 지금 다른 사람을 만나러 가야 해. 숲 끝에 가서 만나자.\"     Pinocchio kept on walking into the dark forest. All of a sudden two very bad men showed up.   피노키오는 어두운 숲속으로 계속 걸어갔습니다. 갑자기 아주 나쁜 두 남자가 나타났습니다.     “Give us your gold coins or we will hurt you,” said the two bad men.   \"금화를 우리에게 주지 않으면 혼내줄 거야,\"라고 두 악당은 말했습니다.     The cat and the fox had dressed up like the two bad men to try to take Pinocchio's gold coins.   고양이와 여우는 피노키오의 금화를 뺏으려고 두 명의 악당처럼 분장했었습니다.     Pinocchio did not want to give the two bad men his coins. He started running away.   피노키오는 두 악당에게 동전을 주고 싶지 않았습니다. 그는 도망치기 시작했습니다.     It was very dark outside So Pinocchio could not see where he was going. Suddenly he ran into a trap.   밖은 매우 어두워서 피노키오는 그가 어디로 가는지 알 수 없었습니다. 갑자기 그는 함정에 빠졌습니다.     A beautiful fairy appeared in front of him. She had blue hair and a white face.   그의 앞에 아름다운 요정이 나타났습니다. 그녀는 파란 머리에 하얀 얼굴을 하고 있었습니다.     She set the puppet go free from the trap and said to him, “Little Pinocchio, go home and give the gold coins to your father.”   그녀는 꼭두각시 인형을 함정에서 풀어놓고 그에게 말했습니다. \"작은 피노키오, 집에 가서 그 금화를 네 아버지께 드리렴.\"     “I don't have the gold coins anymore. I dropped them in the forest,” he said.   \"나는 더 이상 금화가 없어요. 나는 금화를 숲에 떨어뜨렸습니다.\"     However, he had the gold coins in his pocket. He had lied to the fairy. Suddenly, his wooden nose started to grow longer.   하지만, 그는 주머니에 금화가 있었습니다. 그는 요정에게 거짓말을 했습니다. 갑자기, 그의 나무 코가 길어지기 시작했습니다.     The fairy began to laugh at him. “Why are you laughing at me?” asked Pinocchio.   요정 그를 비웃기 시작했습니다. “왜 날 비웃고 있어요?”피노키오는 물었습니다.     “I am laughing at your lie. Every time you tell a lie your nose will get longer.”   \"나는 너의 거짓말에 웃음이 나온다. 거짓말할 때마다 네 코는 길어질 거야.\"     “Little boys should always tell the truth,” she replied.   “ 어린 사내아이들은 항상 정직해야 돼,\"그녀가 대답했습니다.     She made his nose small again because she wanted to give him a second chance.   요정은 다시 한번 기회를 주고 싶어서 그의 코를 다시금 작게 만들었습니다.     “I am sorry, magic fairy, I will never lie again. I will go home right now and give my father the coins,” cried Pinocchio.   \"마법의 요정님, 죄송해요, 다시는 거짓말하지 않을게요. 지금 바로 집에 가서 아버지께 코인을 드릴게요.\"라고 피노키오는 울먹였습니다.     He told the fairy he would be a good boy and would go to school everyday. Then she disappeared.   그는 매일 학교에 갈 것이고 착한 소년이 되겠다고 요정에게 말했습니다. 그러자 요정이 사라졌습니다.     A big bird flew down from the sky and said, “Pinocchio, follow me, I have seen Gepetto.”   큰 새 한 마리가 하늘에서 내려와서,“피노키오, 나는 제페토를 봤어요. 날 따라와요.” 말했습니다.     “He is making a boat to go out to sea to look for you. We have to go find him now. I will take you to him. Get on my back.”   \"제페토는 보트를 만들어 너를 찾으러 바다로 나갔어. 지금 당장 그를 찾아야만 해. 너를 제페토에게 데려다줄게. 내 등에 올라타렴.\"     They flew for a long time in the sky. Gepetto was at sea looking for his son.   그들은 하늘에서 오랜 시간을 날아갔어요. 제페토는 바다에서 그의 아들을 찾고 있었습니다.     A big wave hit his boat and he fell into the water. He did not come back up. Pinocchio could not see his father anywhere.   큰 파도가 아버지 보트에 부딪치자 그는 물속에 빠졌습니다. 돌아올 수 없습니다. 피노키오는 아버지를 어디에서도 찾을 수 없었습니다.     “I'm afraid a very big fish has eaten your father. The fish is as large as three houses,” said the bird.   \"내 생각에는 아주 큰 물고기는 너의 아버지를 먹어 치운 것 같아요. 그 물고기는 말 세 마리 만큼 크지,\"라고 큰 새가 말했습니다.     Pinocchio was very sad to hear the bad news about his father. He fainted and fell into the sea.   피노키오는 아버지에 대한 나쁜 소식을 듣고 매우 슬펐습니다. 그는 기절하여 바다에 빠졌습니다.     He could swim very well so tried to swim to land, but the same big fish that ate his father also ate him.   그는 수영을 해서 육지로 헤엄쳐 가려고 했지만 아버지를 잡아먹었던 바로 그 큰 물고기가 그 또한 잡아먹었습니다.     In the big fish's stomach, he saw his father sitting there all alone. He ran to his father and hugged him.   큰 물고기 뱃속에서 그는 아버지가 혼자 앉아 있는 것을 보았습니다. 그는 아버지에게 달려가 아버지를 껴안았습니다.     “Oh, father, I am so happy to find you. I promise to be a good boy from now on. Let's get out of here while the big fish is sleeping,” said Pinocchio.   \"아, 아버지, 당신을 찾게 되어 너무 기뻐요. 나는 이제부터 착한 소년이 될게요. 큰 물고기가 잠을 자는 동안 어서 나가요.\" 피노키오가 말했습니다.     Together they swam out of the big fish's stomach. Because Pinocchio was made of wood he could float on the water.   그들은 함께 큰 물고기의 배에서 헤엄쳐 나왔습니다. 피노키오는 나무로 만들어졌기 때문에 물 위에 뜰 수 있었습니다.     He told his father to climb on his back. Then Pinocchio started to swim towards the island.   그는 아버지에게 자기의 등에 타라고 말했습니다. 그리고 피노키오는 섬을 향해 헤엄치기 시작했습니다.     When they were both on land, they were very tired. They fell asleep. Pinocchio and Gepetto had the same dream.   그들 둘 다 육지에 도착했을 때, 그들은 매우 지쳤습니다. 그들은 잠이 들었습니다. 피노키오와 제페토는 같은 꿈을 꾸었습니다.     In the dream they both saw Pinocchio becoming a real boy. When Pinocchio woke up, he had become a real boy.   꿈속에서 그들은 둘 다 피노키오가 진짜 소년이 되는 것을 보았습니다. 피노키오가 깨어났을 때, 그는 진짜 소년이 되었습니다.     Gepetto was very happy. He hugged Pinocchio for a long time.   제페토는 매우 행복했습니다. 그는 피노키오를 오랫동안 껴안았습니다.     Now they were a real family and they lived happily ever after.   이제 그들은 진정한 가족이었고 그들은 영원히 행복하게 살았습니다.\n",
            "입력된 문자열의 길이: 8142\n",
            "가장 자주 등장하는 문자:  \n",
            "숫자의 개수: 0\n",
            "대문자의 개수: 134\n",
            "소문자의 개수: 3655\n"
          ]
        }
      ]
    },
    {
      "cell_type": "markdown",
      "source": [
        "Task3_0503. 외장함수 3개 이상 활용해서 간단한 프로그램을 만드세요as"
      ],
      "metadata": {
        "id": "Wng6bhPTUnSO"
      }
    },
    {
      "cell_type": "code",
      "source": [
        "import random\n",
        "import time\n",
        "from google.colab import output\n",
        "\n",
        "\n",
        "\n",
        "rd = random.randint(1,3)\n",
        "for i in range(7):\n",
        "    num_list = random.sample([a for a in range(1,45)],7)\n",
        "def lotto(num_list):\n",
        "    print('이번주 복권 번호는?!?')\n",
        "    time.sleep(3)\n",
        "    output.clear()\n",
        "    for i in range(7):\n",
        "        time.sleep(2.5)\n",
        "        if i == 6:\n",
        "            print(f'마지막 뽀나스 숫자는~ : {num_list[i]}')\n",
        "        else:\n",
        "            print(f'{i+1}번째 숫자는 {num_list[i]}')\n",
        "            output.clear()\n",
        "\n",
        "\n",
        "lotto(num_list)"
      ],
      "metadata": {
        "colab": {
          "base_uri": "https://localhost:8080/"
        },
        "id": "lOQkOt-mWDc8",
        "outputId": "5629184b-926f-458a-a185-4b696acf8c44"
      },
      "execution_count": 17,
      "outputs": [
        {
          "output_type": "stream",
          "name": "stdout",
          "text": [
            "마지막 뽀나스 숫자는~ : 26\n"
          ]
        }
      ]
    },
    {
      "cell_type": "code",
      "source": [
        "#예시\n",
        "import os\n",
        "import datetime\n",
        "import shutil\n",
        "\n",
        "def daily_scheduler():\n",
        "\n",
        "    today = datetime.datetime.now()\n",
        "    date_string = today.strftime(\"%Y-%m-%d %H:%M:%S\")\n",
        "    print(f\"오늘의 날짜와 시간: {date_string}\")\n",
        "\n",
        "    filename = f\"tasks{today.strftime('%Y%m%d')}.txt\"\n",
        "\n",
        "    if os.path.exists(filename):\n",
        "        print(f\"'{filename}\")\n",
        "        shutil.copy(filename, filename + \".bak\")\n",
        "\n",
        "    else:\n",
        "        print(f\"'{filename}' 파일이 존재하지 않습니다. 새로운 파일을 생성합니다.\")\n",
        "\n",
        "    task = input(\"오늘의 주요 작업을 입력하세요: \")\n",
        "\n",
        "    with open(filename, 'a') as file:\n",
        "        file.write(f\"{date_string}: {task}\\n\")\n",
        "    print(f\"'{filename}' 파일에 작업이 저장되었습니다.\")\n",
        "\n",
        "if __name__ == \"__main__\":\n",
        "    daily_scheduler()"
      ],
      "metadata": {
        "colab": {
          "base_uri": "https://localhost:8080/"
        },
        "id": "2iCIhW6OFhym",
        "outputId": "4a8ff413-ff05-4fd7-b137-5c7bda84d565"
      },
      "execution_count": 32,
      "outputs": [
        {
          "output_type": "stream",
          "name": "stdout",
          "text": [
            "오늘의 날짜와 시간: 2024-05-07 03:33:40\n",
            "'tasks20240507.txt\n",
            "오늘의 주요 작업을 입력하세요: 밥먹기\n",
            "'tasks20240507.txt' 파일에 작업이 저장되었습니다.\n"
          ]
        }
      ]
    },
    {
      "cell_type": "code",
      "source": [
        "!cat 'tasks20240507.txt'"
      ],
      "metadata": {
        "colab": {
          "base_uri": "https://localhost:8080/"
        },
        "id": "AC1HpH8AHaLt",
        "outputId": "f53a5735-58a0-49c0-f805-dbab23979579"
      },
      "execution_count": 33,
      "outputs": [
        {
          "output_type": "stream",
          "name": "stdout",
          "text": [
            "2024-05-07 03:33:33: 밥먹기\n",
            "2024-05-07 03:33:40: 밥먹기\n"
          ]
        }
      ]
    },
    {
      "cell_type": "markdown",
      "source": [
        "Task4_0503. 리스트를 작성하고 람다 함수를 이용해서 한번에 함수를 적용하여 결과값을 출력하세요."
      ],
      "metadata": {
        "id": "9hP5oWrrWDum"
      }
    },
    {
      "cell_type": "markdown",
      "source": [
        "map()함수는 파이썬에서 사용되는 내장 함수로, 주로 리스트나 다른 반복 가능한(iterable) 객체의 모든 요소에 특정 함수를 적용하고 그 결과를 반환하는 데 사용"
      ],
      "metadata": {
        "id": "FbMt-yk2JlLT"
      }
    },
    {
      "cell_type": "code",
      "source": [
        "numbers = [1,2,3,4,5]\n",
        "squared_numbers = map(lambda x: x*x, numbers)\n",
        "squared_numbers"
      ],
      "metadata": {
        "colab": {
          "base_uri": "https://localhost:8080/"
        },
        "id": "NXoe7i26WEsJ",
        "outputId": "7c86b895-2e7f-4e42-d30b-67b6b755d51b"
      },
      "execution_count": null,
      "outputs": [
        {
          "output_type": "execute_result",
          "data": {
            "text/plain": [
              "<map at 0x7dd48b3257e0>"
            ]
          },
          "metadata": {},
          "execution_count": 4
        }
      ]
    },
    {
      "cell_type": "code",
      "source": [
        "numbers = [1,2,3,4,5]\n",
        "squared_numbers = map(lambda x: x*x, numbers)\n",
        "print(list(squared_numbers))"
      ],
      "metadata": {
        "colab": {
          "base_uri": "https://localhost:8080/"
        },
        "id": "1EMPGC0cJxSA",
        "outputId": "64cbd6fa-5ee3-469e-ec57-c13027790ec0"
      },
      "execution_count": 34,
      "outputs": [
        {
          "output_type": "stream",
          "name": "stdout",
          "text": [
            "[1, 4, 9, 16, 25]\n"
          ]
        }
      ]
    },
    {
      "cell_type": "code",
      "source": [
        "strs = ['바보', '미남','고수', '초보']\n",
        "head_adept = map(lambda x : '나는 ' + x ,strs )\n",
        "\n",
        "for i in range(len(strs)):\n",
        "    print(next(head_adept))"
      ],
      "metadata": {
        "colab": {
          "base_uri": "https://localhost:8080/"
        },
        "id": "gr6UwkWNk0g_",
        "outputId": "3bf4965c-74d0-495c-a3ce-530a6d6c7793"
      },
      "execution_count": null,
      "outputs": [
        {
          "output_type": "stream",
          "name": "stdout",
          "text": [
            "나는 바보\n",
            "나는 미남\n",
            "나는 고수\n",
            "나는 초보\n"
          ]
        }
      ]
    },
    {
      "cell_type": "markdown",
      "source": [
        "Task5_0503. 외부 라리브러리를 임포트해서 간단한 프로그램을 만드세요."
      ],
      "metadata": {
        "id": "mO-e3YYWWE71"
      }
    },
    {
      "cell_type": "code",
      "source": [
        "import numpy as np\n",
        "\n",
        "A = np.array([[0, 5],\n",
        "              [7, 1]])\n",
        "B = np.array([[2, 8],\n",
        "              [3, 0]])\n",
        "\n",
        "print(A * B)\n",
        "print()\n",
        "print(A - B)"
      ],
      "metadata": {
        "colab": {
          "base_uri": "https://localhost:8080/"
        },
        "id": "bqBjntNjWJnf",
        "outputId": "7f3a55e5-5c98-4d5c-f35e-c8f4fc454feb"
      },
      "execution_count": null,
      "outputs": [
        {
          "output_type": "stream",
          "name": "stdout",
          "text": [
            "[[ 0 40]\n",
            " [21  0]]\n",
            "\n",
            "[[-2 -3]\n",
            " [ 4  1]]\n"
          ]
        }
      ]
    },
    {
      "cell_type": "code",
      "source": [
        "!pip install requests -q"
      ],
      "metadata": {
        "id": "H_NGF_htnAvO"
      },
      "execution_count": 35,
      "outputs": []
    },
    {
      "cell_type": "code",
      "source": [
        "#예시\n",
        "import requests\n",
        "from bs4 import BeautifulSoup\n",
        "\n",
        "def fetch_website_content(url):\n",
        "\n",
        "    response = requests.get(url)\n",
        "    if response.status_code == 200:\n",
        "\n",
        "        soup = BeautifulSoup(response.text, 'html.parser')\n",
        "\n",
        "        print(\"Page Title:\", soup.title.string if soup.title else \"No title found\")\n",
        "    else:\n",
        "        print(\"failed to retrieve the webpage\")\n",
        "        print(\"Status code:\", response.status_code)\n",
        "\n",
        "if __name__ == \"__main__\":\n",
        "    url = input('url을 복붙하세요 >>>')\n",
        "    fetch_website_content(url)"
      ],
      "metadata": {
        "colab": {
          "base_uri": "https://localhost:8080/"
        },
        "id": "BBBDyvFtKmqm",
        "outputId": "1491f881-e170-4ed0-cf35-dedb94aa8d94"
      },
      "execution_count": 1,
      "outputs": [
        {
          "output_type": "stream",
          "name": "stdout",
          "text": [
            "url을 복붙하세요 >>>https://n.news.naver.com/mnews/article/028/0002334601?sid=105\n",
            "Page Title:  외계생명체가 역사책에 등장하는 날이 올까 \n"
          ]
        }
      ]
    },
    {
      "cell_type": "code",
      "source": [],
      "metadata": {
        "id": "IpOgfAJsK8VL"
      },
      "execution_count": null,
      "outputs": []
    }
  ]
}