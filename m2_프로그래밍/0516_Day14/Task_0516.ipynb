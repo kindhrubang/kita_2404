{
  "nbformat": 4,
  "nbformat_minor": 0,
  "metadata": {
    "colab": {
      "provenance": []
    },
    "kernelspec": {
      "name": "python3",
      "display_name": "Python 3"
    },
    "language_info": {
      "name": "python"
    }
  },
  "cells": [
    {
      "cell_type": "markdown",
      "source": [
        "Task1_0516. '199305, 1923A, a93247'에서 '199305'만 출력하세요."
      ],
      "metadata": {
        "id": "isp4IZR_A8iZ"
      }
    },
    {
      "cell_type": "code",
      "execution_count": 22,
      "metadata": {
        "colab": {
          "base_uri": "https://localhost:8080/"
        },
        "id": "siriA1lo_4yX",
        "outputId": "6914f409-a3a9-4870-8dd9-f74cb84a9f5b"
      },
      "outputs": [
        {
          "output_type": "stream",
          "name": "stdout",
          "text": [
            "199305\n"
          ]
        }
      ],
      "source": [
        "import re\n",
        "\n",
        "pattern = re.compile('\\d+')\n",
        "text = '199305, 1923A, a93247'\n",
        "\n",
        "matches = pattern.search(text)\n",
        "print(matches.group())"
      ]
    },
    {
      "cell_type": "markdown",
      "source": [
        "Task2_0516. '99food234, a93456\\n, a9356ba '에서 '99food234'만 출력하세요"
      ],
      "metadata": {
        "id": "je5YbRcfA8vn"
      }
    },
    {
      "cell_type": "code",
      "source": [
        "import re\n",
        "\n",
        "pattern = re.compile('\\d{2}\\w{4}\\d{3}')\n",
        "text =  '99food234, a93456\\n, a9356ba '\n",
        "matches = pattern.search(text)\n",
        "print(matches.group())"
      ],
      "metadata": {
        "colab": {
          "base_uri": "https://localhost:8080/"
        },
        "id": "Z1LyhfvGPbAs",
        "outputId": "4c6f46bd-b92b-4d35-fc48-3d7de487bb0d"
      },
      "execution_count": 17,
      "outputs": [
        {
          "output_type": "stream",
          "name": "stdout",
          "text": [
            "99food234\n"
          ]
        }
      ]
    },
    {
      "cell_type": "markdown",
      "source": [
        "Task3_0516. 주어진 문자열이 유효한 이메일 주소인지 확인\n",
        "\"example@example.com\""
      ],
      "metadata": {
        "id": "rptExBWYPnpm"
      }
    },
    {
      "cell_type": "code",
      "source": [
        "import re\n",
        "\n",
        "pattern = '(\\w)+@(\\w)+\\.com'\n",
        "text = \"example@example.com\"\n",
        "match = re.search(pattern, text)\n",
        "\n",
        "if match:\n",
        "    print('올바른 이메일 형식')\n",
        "else:\n",
        "    print('올바르지 않은 이메일 형식')"
      ],
      "metadata": {
        "colab": {
          "base_uri": "https://localhost:8080/"
        },
        "id": "GCVU6BM3Porb",
        "outputId": "f39b3a2b-b415-4e9a-cb8a-03445a3865d6"
      },
      "execution_count": 26,
      "outputs": [
        {
          "output_type": "stream",
          "name": "stdout",
          "text": [
            "올바르지 않은 이메일 형식\n"
          ]
        }
      ]
    },
    {
      "cell_type": "markdown",
      "source": [
        "Task4_0516. 주어진 문자열이 올바른 전화번호 형식(010-0000-0000)인지 확인하세요.\n",
        "\"010-1234-5678\""
      ],
      "metadata": {
        "id": "ox9FcUH6PqAM"
      }
    },
    {
      "cell_type": "code",
      "source": [
        "import re\n",
        "\n",
        "pattern = '(\\d{3})[-](\\d{4})[-](\\d{4})(?!.+)'\n",
        "text = '010-0000-5649'\n",
        "match = re.match(pattern, text)\n",
        "\n",
        "if match:\n",
        "    print('올바른 전화번호')\n",
        "else:\n",
        "    print('올바르지 않은 전화번호')"
      ],
      "metadata": {
        "colab": {
          "base_uri": "https://localhost:8080/"
        },
        "id": "ImXmwQqQPqOI",
        "outputId": "45850aaf-d027-4592-e32c-a8d7c36bee19"
      },
      "execution_count": 46,
      "outputs": [
        {
          "output_type": "stream",
          "name": "stdout",
          "text": [
            "올바른 전화번호\n"
          ]
        }
      ]
    },
    {
      "cell_type": "markdown",
      "source": [
        "Task5_0516. 문자열에서 모든 HTML 태그를 찾아 리스트로 반환하세요.\n",
        "\"<html><head></head><body></body></html>\""
      ],
      "metadata": {
        "id": "yA6XjsqgPrDv"
      }
    },
    {
      "cell_type": "code",
      "source": [
        "import re\n",
        "\n",
        "pattern = re.compile('<.+?>')\n",
        "text = \"<html><head></head><body></body></html>\"\n",
        "matches = pattern.findall(text)\n",
        "\n",
        "print(matches)"
      ],
      "metadata": {
        "colab": {
          "base_uri": "https://localhost:8080/"
        },
        "id": "IN6dxfVBPrPf",
        "outputId": "230b768e-9c64-4b81-cb7a-4bdeb62a6d13"
      },
      "execution_count": 53,
      "outputs": [
        {
          "output_type": "stream",
          "name": "stdout",
          "text": [
            "['<html>', '<head>', '</head>', '<body>', '</body>', '</html>']\n"
          ]
        }
      ]
    },
    {
      "cell_type": "markdown",
      "source": [
        "Task6_0516. 주어진 비밀번호가 최소 8자, 대문자, 소문자, 숫자, 특수문자를 포함하는지 확인하세요.\n",
        "\"Aa1!aaaa\""
      ],
      "metadata": {
        "id": "0A98hBUQPtxd"
      }
    },
    {
      "cell_type": "code",
      "source": [
        "import re\n",
        "\n",
        "t = r'[!-/]+'\n",
        "so = r'[a-z]+'\n",
        "de = r'[A-Z]+'\n",
        "su = r'[0-9]+'\n",
        "\n",
        "text = 'Aa1!aaaa'\n",
        "while 1:\n",
        "    match= re.search(t, text)\n",
        "    if match:\n",
        "        match= re.search(so, text)\n",
        "        if match:\n",
        "            match= re.search(de, text)\n",
        "            if match:\n",
        "                match= re.search(su, text)\n",
        "                if match:\n",
        "                    print('올바른 비밀번호')\n",
        "                    break\n",
        "    print('올바르지 않은 비밀번호')\n",
        "    break\n"
      ],
      "metadata": {
        "colab": {
          "base_uri": "https://localhost:8080/"
        },
        "id": "bNyqNWRsPuCo",
        "outputId": "252d3279-3edb-45fb-ba13-8578dfc05152"
      },
      "execution_count": 56,
      "outputs": [
        {
          "output_type": "stream",
          "name": "stdout",
          "text": [
            "올바르지 않은 비밀번호\n"
          ]
        }
      ]
    },
    {
      "cell_type": "markdown",
      "source": [
        "Task7_0516. 주어진 문자열이 유효한 URL인지 확인하세요.\n",
        "\"https://www.example.com\""
      ],
      "metadata": {
        "id": "tYd2f33hP1d5"
      }
    },
    {
      "cell_type": "code",
      "source": [
        "\n",
        "pattern = r'https://www\\.(\\w+)\\.com'\n",
        "text =  \"https://www.example.com\"\n",
        "\n",
        "match = re.search(pattern, text)\n",
        "if match:\n",
        "    print('올바른 url')\n",
        "else:\n",
        "    print('올바르지 않은 url')"
      ],
      "metadata": {
        "colab": {
          "base_uri": "https://localhost:8080/"
        },
        "id": "5uM9TjVhP1Nn",
        "outputId": "520a3e6b-3f40-4d49-e8c1-624c9ddc67d3"
      },
      "execution_count": 65,
      "outputs": [
        {
          "output_type": "stream",
          "name": "stdout",
          "text": [
            "올바른 url\n"
          ]
        }
      ]
    },
    {
      "cell_type": "markdown",
      "source": [
        "Task8_0516. 주어진 문자열이 유효한 주민등록번호(######-#######) 형식인지 확인하세요.\n",
        "\"900101-1234567\""
      ],
      "metadata": {
        "id": "ZYKlOGB5P4Xr"
      }
    },
    {
      "cell_type": "code",
      "source": [
        "pattern = r'\\d{6}-\\d{7}(?!.+)'\n",
        "text=\"900101-1234567\"\n",
        "match = re.search(pattern, text)\n",
        "\n",
        "if match:\n",
        "    print('올바른 주민번호')\n",
        "else:\n",
        "    print('올바르지 않은 주민번호')"
      ],
      "metadata": {
        "colab": {
          "base_uri": "https://localhost:8080/"
        },
        "id": "sbirNIMkP4me",
        "outputId": "d0626b6b-e6ec-41da-e23a-7b7fb1ea78c5"
      },
      "execution_count": 69,
      "outputs": [
        {
          "output_type": "stream",
          "name": "stdout",
          "text": [
            "올바른 주민번호\n"
          ]
        }
      ]
    },
    {
      "cell_type": "markdown",
      "source": [
        "Task9_0516. 주어진 문자열이 유효한 IPv4 주소인지 확인하세요.\n",
        "\"192.168.1.1\""
      ],
      "metadata": {
        "id": "9pkl8-ugP--T"
      }
    },
    {
      "cell_type": "code",
      "source": [
        "pattern = '(\\d{3}|\\d{2}|\\d{1})\\.(\\d{3}|\\d{2}|\\d{1})\\.(\\d{3}|\\d{2}|\\d{1})\\.(\\d{3}|\\d{2}|\\d{1})(?!.+)'\n",
        "text = '192.168.13.231'\n",
        "match = re.search(pattern, text)\n",
        "if match:\n",
        "    print('올바른 주소')\n",
        "else:\n",
        "    print('올바르지 않은 주소')"
      ],
      "metadata": {
        "colab": {
          "base_uri": "https://localhost:8080/"
        },
        "id": "g1JILC8CP_Op",
        "outputId": "abd6f939-3d74-46b7-967e-063479779c88"
      },
      "execution_count": 84,
      "outputs": [
        {
          "output_type": "stream",
          "name": "stdout",
          "text": [
            "올바른 주소\n"
          ]
        }
      ]
    },
    {
      "cell_type": "markdown",
      "source": [
        "Task10_0516. 주어진 파일 이름에서 확장자가 .jpg, .jpeg, 또는 .png인지 확인하세요.\n",
        "\"image.jpg\""
      ],
      "metadata": {
        "id": "l0Y_ASZaQGEF"
      }
    },
    {
      "cell_type": "code",
      "source": [
        "pt1 = '.+\\.jpg'\n",
        "pt2 = '.+\\.jpeg'\n",
        "pt3 = '.+\\.png'\n",
        "text = 'image.png'\n",
        "\n",
        "if re.match(pt1, text):\n",
        "    print('이것은 jpg확장자')\n",
        "if re.match(pt2, text):\n",
        "    print('이것은 jpeg확장자')\n",
        "if  re.match(pt3, text):\n",
        "    print('이것은 png확장자')"
      ],
      "metadata": {
        "colab": {
          "base_uri": "https://localhost:8080/"
        },
        "id": "DAQ1w6_wQGVa",
        "outputId": "65217202-ed98-4d34-f1ac-05b0ec831bc1"
      },
      "execution_count": 83,
      "outputs": [
        {
          "output_type": "stream",
          "name": "stdout",
          "text": [
            "이것은 png확장자\n"
          ]
        }
      ]
    },
    {
      "cell_type": "markdown",
      "source": [
        "Task11_0516. 문자열에서 Python 주석을 제거하세요."
      ],
      "metadata": {
        "id": "gnEN4PWJQMqB"
      }
    },
    {
      "cell_type": "code",
      "source": [
        "code_with_comments = \"\"\"\n",
        "# This is a whole line comment\n",
        "print(\"Hello, world!\")  # This is a side comment\n",
        "# Another comment\n",
        "print(\"Python is fun!\") # Another side comment\n",
        "\"\"\"\n",
        "pattern =re.compile('[^#].*[^\\s]$')\n",
        "\n",
        "matches = pattern.findall(code_with_comments)\n",
        "print(matches)"
      ],
      "metadata": {
        "colab": {
          "base_uri": "https://localhost:8080/"
        },
        "id": "Y9QfVBKeQNgm",
        "outputId": "6757b78d-6efb-4140-9327-f522a385d5b0"
      },
      "execution_count": 115,
      "outputs": [
        {
          "output_type": "stream",
          "name": "stdout",
          "text": [
            "['\\nprint(\"Python is fun!\") # Another side comment']\n"
          ]
        }
      ]
    },
    {
      "cell_type": "code",
      "source": [
        "code_with_comments = \"\"\"\n",
        "# This is a whole line comment\n",
        "print(\"Hello, world!\")  # This is a side comment\n",
        "# Another comment\n",
        "print(\"Python is fun!\") # Another side comment\n",
        "\"\"\"\n",
        "pattern =re.compile('(?!=\\s).*(?!\\S)')\n",
        "\n",
        "matches = pattern.findall(code_with_comments)\n",
        "print(matches)"
      ],
      "metadata": {
        "colab": {
          "base_uri": "https://localhost:8080/"
        },
        "id": "8CAi8vVGki69",
        "outputId": "b040e255-f8a6-4f9c-a738-0ded88480fb6"
      },
      "execution_count": 132,
      "outputs": [
        {
          "output_type": "stream",
          "name": "stdout",
          "text": [
            "['', '# This is a whole line comment', '', 'print(\"Hello, world!\")  # This is a side comment', '', '# Another comment', '', 'print(\"Python is fun!\") # Another side comment', '', '']\n"
          ]
        }
      ]
    },
    {
      "cell_type": "markdown",
      "source": [
        "Task12_0516. 지정된 HTML 문자열 내에서 이메일 주소를 찾아서 그 결과를 출력\n",
        "html = \"\"\"\n",
        "<ul>\n",
        "  <li>Email: example@example.com</li>\n",
        "  <li>Contact: contact@sample.org</li>\n",
        "</ul>\n",
        "\"\"\""
      ],
      "metadata": {
        "id": "Ltb1f4pKQS4y"
      }
    },
    {
      "cell_type": "code",
      "source": [],
      "metadata": {
        "id": "kujYZ-FiQT5P"
      },
      "execution_count": null,
      "outputs": []
    }
  ]
}