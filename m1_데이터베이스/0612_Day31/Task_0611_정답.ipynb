{
  "nbformat": 4,
  "nbformat_minor": 0,
  "metadata": {
    "colab": {
      "provenance": []
    },
    "kernelspec": {
      "name": "python3",
      "display_name": "Python 3"
    },
    "language_info": {
      "name": "python"
    }
  },
  "cells": [
    {
      "cell_type": "markdown",
      "source": [
        "Task1_0611. 주어진 대각 행렬의 역행렬을 구하고, 역행렬이 맞는지 확인하세요.\n",
        "\n",
        "D = np.diag([1, 2, 3])"
      ],
      "metadata": {
        "id": "PlqxTFQtsAMs"
      }
    },
    {
      "cell_type": "code",
      "source": [
        "D = np.diag([1, 2, 3])\n",
        "D1 = np.linalg.inv(D)\n",
        "print(D1)\n",
        "D @ D1"
      ],
      "metadata": {
        "colab": {
          "base_uri": "https://localhost:8080/"
        },
        "id": "gS_qDZ--r_ew",
        "outputId": "7240bf4e-077f-4a1e-8f23-80f5e9cbecdb"
      },
      "execution_count": null,
      "outputs": [
        {
          "output_type": "stream",
          "name": "stdout",
          "text": [
            "[[1.         0.         0.        ]\n",
            " [0.         0.5        0.        ]\n",
            " [0.         0.         0.33333333]]\n"
          ]
        },
        {
          "output_type": "execute_result",
          "data": {
            "text/plain": [
              "array([[1., 0., 0.],\n",
              "       [0., 1., 0.],\n",
              "       [0., 0., 1.]])"
            ]
          },
          "metadata": {},
          "execution_count": 4
        }
      ]
    },
    {
      "cell_type": "markdown",
      "source": [
        "Task2_0611. 임의의 상삼각 행렬을 생성하고, 그 행렬로 부터 하삼각 행렬을 구하여 출력하세요."
      ],
      "metadata": {
        "id": "Dl6S-2uisA6Z"
      }
    },
    {
      "cell_type": "code",
      "execution_count": null,
      "metadata": {
        "colab": {
          "base_uri": "https://localhost:8080/"
        },
        "id": "uLSKzEfbr8i4",
        "outputId": "678eece0-800c-454f-f894-cde1fa05cc5a"
      },
      "outputs": [
        {
          "output_type": "stream",
          "name": "stdout",
          "text": [
            "[[0.57979967 0.55821489 0.84239667]\n",
            " [0.         0.12089193 0.31144289]\n",
            " [0.         0.         0.78702106]]\n",
            "\n",
            "\n",
            "[[0.57979967 0.         0.        ]\n",
            " [0.         0.12089193 0.        ]\n",
            " [0.         0.         0.78702106]]\n"
          ]
        }
      ],
      "source": [
        "A = np.random.rand(3, 3)\n",
        "Au = np.triu(A)\n",
        "print(Au)\n",
        "\n",
        "print('\\n')\n",
        "\n",
        "Al = np.tril(Au)\n",
        "print(Al)"
      ]
    },
    {
      "cell_type": "code",
      "source": [
        "import numpy as np\n",
        "A = np.random.rand(3, 3)\n",
        "Au = np.triu(A)\n",
        "\n",
        "Au_T = Au.T\n",
        "print(Au_T)\n"
      ],
      "metadata": {
        "colab": {
          "base_uri": "https://localhost:8080/"
        },
        "id": "YB512uEJ3OuJ",
        "outputId": "cedea1ba-ab2a-404c-e4a3-95615a1d52e9"
      },
      "execution_count": 1,
      "outputs": [
        {
          "output_type": "stream",
          "name": "stdout",
          "text": [
            "[[0.61860216 0.         0.        ]\n",
            " [0.19459592 0.82890159 0.        ]\n",
            " [0.25086602 0.11691906 0.36599204]]\n"
          ]
        }
      ]
    },
    {
      "cell_type": "markdown",
      "source": [
        "Task3_0611. 주어진 행렬의 역행렬을 구하고, 역행렬이 맞는지 확인하세요.\n",
        "\n",
        "A = np.array([[4, 7], [2, 6]])"
      ],
      "metadata": {
        "id": "Di8HAU4vsGGg"
      }
    },
    {
      "cell_type": "code",
      "source": [
        "A = np.array([[4,7],[2,6]])\n",
        "a1 = np.linalg.inv(A)\n",
        "print(a1)\n",
        "np.dot(A, a1)\n",
        "\n",
        "#확인하느법\n",
        "np.allclose(np.dot(A, a1), np.eye(2))"
      ],
      "metadata": {
        "colab": {
          "base_uri": "https://localhost:8080/"
        },
        "id": "b4umefDTsHI7",
        "outputId": "413a2141-6a3e-41b3-c270-e9a5e77f0c37"
      },
      "execution_count": 2,
      "outputs": [
        {
          "output_type": "stream",
          "name": "stdout",
          "text": [
            "[[ 0.6 -0.7]\n",
            " [-0.2  0.4]]\n"
          ]
        },
        {
          "output_type": "execute_result",
          "data": {
            "text/plain": [
              "True"
            ]
          },
          "metadata": {},
          "execution_count": 2
        }
      ]
    },
    {
      "cell_type": "markdown",
      "source": [
        "Task4_0611. 주어진 데이터 포인트와 모델 파라미터를 사용하여 선형 회귀 모델의 예측값을 계산하세요.\n",
        "\n",
        "X = np.array([1, 2, 3])\n",
        "\n",
        "- 1단계 : 주어진 입력 데이터 포인트 X와 모델 파라미터 θ를 정의.\n",
        "- 2단계 : 행렬 곱을 사용하여 예측값 y를 계산."
      ],
      "metadata": {
        "id": "woUJKsKC-Uux"
      }
    },
    {
      "cell_type": "code",
      "source": [
        "import numpy as np\n",
        "X = np.array([[1, 2, 3]])\n",
        "w = np.array([\n",
        "    [0.5],\n",
        "    [1.5],\n",
        "    [-2]\n",
        "])\n",
        "\n",
        "y = np.dot(w, X)\n",
        "print(y)"
      ],
      "metadata": {
        "colab": {
          "base_uri": "https://localhost:8080/"
        },
        "id": "bw2pStwj-ZkW",
        "outputId": "00e6a5f2-45f1-4420-e6a2-b7a109de75d0"
      },
      "execution_count": 3,
      "outputs": [
        {
          "output_type": "stream",
          "name": "stdout",
          "text": [
            "[[-2.5]]\n"
          ]
        }
      ]
    },
    {
      "cell_type": "code",
      "source": [
        "import numpy as np\n",
        "\n",
        "# 입력 데이터 포인트\n",
        "X = np.array([1, 2, 3])\n",
        "\n",
        "# 모델 파라미터\n",
        "w = np.array([0.5,1.5,-2])\n",
        "\n",
        "# 예측값 계산\n",
        "y_pred = np.dot(w, X)\n",
        "\n",
        "# 결과 출력\n",
        "print(y_pred)"
      ],
      "metadata": {
        "colab": {
          "base_uri": "https://localhost:8080/"
        },
        "id": "0OtBw9Cu45q3",
        "outputId": "0f3621e3-8bd7-4bc8-aeb5-a6ee79b7bd91"
      },
      "execution_count": 8,
      "outputs": [
        {
          "output_type": "stream",
          "name": "stdout",
          "text": [
            "-2.5\n"
          ]
        }
      ]
    },
    {
      "cell_type": "markdown",
      "source": [
        "#### 행렬곱을 할 때 연산의 순서\n",
        "연산의 순서는 매우 중요하며, 결과가 달라질 수 있습니다. 주어진 입력과 가중치에 대해 원하는 연산이 무엇인지에 따라 올바른 순서를 선택\n",
        "\n",
        "np.dot(X,W)와 np.dot(W,X)\n",
        "- np.dot(X,W)는 X가 (1x3) 벡터이고, W가 (3x3) 행렬이므로, 결과는 (1x3) 벡터입니다.\n",
        "- np.dot(W,X)는 W가 (3x3) 행렬이고, X가 (3,) 벡터이므로, 결과는 (3,) 벡터입니다.\n",
        "- 둘 중 어느 것을 선택해야 하는지는 연산의 의미에 따라 결정\n",
        "  - 입력 벡터 X를 가중치 행렬 W에 곱하여 새로운 출력 벡터를 계산하는 경우\n",
        "  np.dot(X,W)를 사용.\n",
        "  - 가중치 행렬 W를 입력 벡터 X에 곱하여 각 출력 뉴런에 대한 값을 계산하는 경우 np.dot(W,X)를 사용."
      ],
      "metadata": {
        "id": "_GyG0-_1gprs"
      }
    },
    {
      "cell_type": "markdown",
      "source": [
        "Task5_0611. 주어진 입력 벡터와 가중치 행렬을 사용하여 신경망의 단일 계층 출력을 계산하세요.\n",
        "\n",
        "X = np.array([0.5, 1.0, -1.5])\n",
        "\n",
        "- 1단계: 입력 벡터 X와 가중치 행렬 W를 정의.\n",
        "- 2단계: 행렬 곱을 사용하여 계층의 출력을 계산."
      ],
      "metadata": {
        "id": "Z_RcNQmt-WI9"
      }
    },
    {
      "cell_type": "code",
      "source": [
        "# 가중치 = 파라미터 # W는 가중치 행렬, X는 입력 벡터이고 일반적인 표기 방식은 WX\n",
        "X = np.array([0.5, 1.0, -1.5])\n",
        "w = np.random.randn(3, 3)\n",
        "print(X,'\\n')\n",
        "print('\\n',w,'\\n')\n",
        "z = np.dot(w, X) # 가중치가 먼저\n",
        "print(z)"
      ],
      "metadata": {
        "colab": {
          "base_uri": "https://localhost:8080/"
        },
        "id": "IIbedPlz-aKv",
        "outputId": "7ecab6b9-e517-4d96-bf59-76fd820de35b"
      },
      "execution_count": 6,
      "outputs": [
        {
          "output_type": "stream",
          "name": "stdout",
          "text": [
            "[ 0.5  1.  -1.5] \n",
            "\n",
            "\n",
            " [[ 0.16608978  0.21423465  0.32532993]\n",
            " [-0.87892551  0.83048387 -0.24589429]\n",
            " [-1.79194539 -0.39506291 -1.85182968]] \n",
            "\n",
            "[-0.19071536  0.75986256  1.48670891]\n"
          ]
        }
      ]
    },
    {
      "cell_type": "markdown",
      "source": [
        "Task6_0611. 주어진 입력 벡터에 대해 신경망의 활성화 함수(ReLU, 시그모이드)를 적용하여 출력을 계산하세요.\n",
        "\n",
        "X = np.array([1, -2, 3])\n",
        "\n",
        "- 1단계: 입력 벡터 X를 정의.\n",
        "- 2단계: 가중치 행렬 W와 편향 벡터 b를 정의.\n",
        "- 3단계: 활성화 함수(ReLU, 시그모이드)를 적용하여 출력을 계산<br>\n",
        "활성화 함수 적용<br>\n",
        "output_relu = relu(Z)<br>\n",
        "output_sigmoid = sigmoid(Z)"
      ],
      "metadata": {
        "id": "MHkL5FVt-Xum"
      }
    },
    {
      "cell_type": "code",
      "source": [
        "X = np.array([1, -2, 3])\n",
        "W = np.array([\n",
        "    [1],\n",
        "    [0.5],\n",
        "    [2]\n",
        "])\n",
        "b = np.array([\n",
        "    [1],\n",
        "    [1],\n",
        "    [1]\n",
        "])\n",
        "print(np.dot(X, W),'\\n')\n",
        "\n",
        "Z = np.dot(X, W) + b\n",
        "print(Z)"
      ],
      "metadata": {
        "colab": {
          "base_uri": "https://localhost:8080/"
        },
        "id": "TiNl-ZaE-ajG",
        "outputId": "c9f5ec26-1f18-42e3-c516-5a73080446c6"
      },
      "execution_count": 9,
      "outputs": [
        {
          "output_type": "stream",
          "name": "stdout",
          "text": [
            "[6.] \n",
            "\n",
            "[[7.]\n",
            " [7.]\n",
            " [7.]]\n"
          ]
        }
      ]
    },
    {
      "cell_type": "code",
      "source": [
        "def sigmoid(x):\n",
        "    return 1 / (1 + np.exp(-x))\n",
        "\n",
        "sigmoid(Z)"
      ],
      "metadata": {
        "colab": {
          "base_uri": "https://localhost:8080/"
        },
        "id": "eV5bg3I8NUFO",
        "outputId": "f3b2d6bb-dfaa-4de2-e558-2fc57296ef57"
      },
      "execution_count": 10,
      "outputs": [
        {
          "output_type": "execute_result",
          "data": {
            "text/plain": [
              "array([[0.99908895],\n",
              "       [0.99908895],\n",
              "       [0.99908895]])"
            ]
          },
          "metadata": {},
          "execution_count": 10
        }
      ]
    },
    {
      "cell_type": "code",
      "source": [
        "import numpy as np\n",
        "#화성화 함수 정의\n",
        "def relu(x):\n",
        "    return np.maximum(0,x)\n",
        "def sigmoid(x):\n",
        "    return 1 / (1 + np.exp(-x))\n",
        "\n",
        "# 입력 벡터 정의\n",
        "X = np.array([1, -2, 3])\n",
        "# 가중치 행렬과 편향 벡터 정의\n",
        "W = np.random.randn(3,3)\n",
        "b = np.array([0.1,-0.2,0.3])\n",
        "\n",
        "#신경망의 선형 변환 계산\n",
        "Z = np.dot(W,X) +b\n",
        "relu_output = relu(Z)\n",
        "sigmoid_output = sigmoid(Z)\n",
        "\n",
        "print(relu_output, sigmoid_output)"
      ],
      "metadata": {
        "colab": {
          "base_uri": "https://localhost:8080/"
        },
        "id": "f9P0QWCxAQjl",
        "outputId": "ffcb2b73-0806-425c-8bfd-33a907624f69"
      },
      "execution_count": 17,
      "outputs": [
        {
          "output_type": "stream",
          "name": "stdout",
          "text": [
            "[4.22348048 0.11688064 6.64560522] [0.98556388 0.52918694 0.99870197]\n"
          ]
        }
      ]
    },
    {
      "cell_type": "markdown",
      "source": [
        "Task7_0611. 주어진 선형 방정식을 행렬 형태로 나타내고, 역행렬을 사용하여\n",
        "x와 y를 구하세요.\n",
        "\n",
        "$\\begin{cases}\n",
        "3x + 4y = 10 \\\\\n",
        "2x + y = 5\n",
        "\\end{cases}$\n",
        "\n",
        "단계:\n",
        "1. 계수 행렬 A와 결과 벡터 b를 정의.\n",
        "2. 행렬 A의 역행렬을 구한다.\n",
        "3. 역행렬을 사용하여 변수 x를 구한다.\n",
        "\n",
        "\n",
        "[풀이]\n",
        "주어진 선형방정식을 행렬 형태로 나타내면 다음과 같다: \\\\\n",
        "$A\\mathbf{x} = \\mathbf{b}$ \\\\\n",
        "여기서 \\\\\n",
        "$A = \\begin{bmatrix}3 & 4 \\\\2 & 1\\end{bmatrix}$,\n",
        "\n",
        "$\\mathbf{x} = \\begin{bmatrix}x \\\\y\\end{bmatrix}$,\n",
        "\n",
        "$\\mathbf{b} = \\begin{bmatrix}10 \\\\5\\end{bmatrix}$\n",
        "\n",
        "$\\mathbf{x} = A^{-1} \\mathbf{b}$"
      ],
      "metadata": {
        "id": "MUDOrBffGbvV"
      }
    },
    {
      "cell_type": "code",
      "source": [
        "A = np.array([\n",
        "    [3, 4],\n",
        "    [2, 1]\n",
        "])\n",
        "b = np.array([\n",
        "    [10],\n",
        "    [5]\n",
        "])\n",
        "A_inv = np.linalg.inv(A)\n",
        "x = np.dot(A_inv, b)\n",
        "print(x)"
      ],
      "metadata": {
        "colab": {
          "base_uri": "https://localhost:8080/"
        },
        "id": "D3S1_VINGcJP",
        "outputId": "66801b69-209a-4128-a14a-00dd2eab302d"
      },
      "execution_count": null,
      "outputs": [
        {
          "output_type": "stream",
          "name": "stdout",
          "text": [
            "[[2.]\n",
            " [1.]]\n"
          ]
        }
      ]
    },
    {
      "cell_type": "markdown",
      "source": [
        "Task8_0611. 주어진 2D 평면의 점을 특정 변환 행렬을 사용하여 변환한 후, 변환된 좌표를 원래 좌표로 되돌리세요.\n",
        "\n",
        "원래 점의 좌표 p와 변환 행렬 T 정의<br>\n",
        "p = np.array([1, 2])<br>\n",
        "T = np.array([[2, 0], [0, 3]])\n",
        "\n",
        "단계\n",
        "1. 원래 점의 좌표 p와 변환 행렬 T를 정의.\n",
        "2. 변환 행렬 T를 사용하여 새로운 좌표 p를 계산.\n",
        "3. 변환 행렬 T의 역행렬을 사용하여 새로운 좌표 p'에서 원래 좌표 p를 복원."
      ],
      "metadata": {
        "id": "I8mbj2WMHSdG"
      }
    },
    {
      "cell_type": "code",
      "source": [
        "import numpy as np\n",
        "p = np.array([1, 2])\n",
        "T = np.array([[2, 0], [0, 3]])\n",
        "print(p,'\\n')\n",
        "print(T,'\\n')\n",
        "p_new = np.dot(p, T)\n",
        "print(p_new,'\\n')\n",
        "\n",
        "\n",
        "p_old = np.dot(np.linalg.inv(T), p_new)\n",
        "print(p_old)"
      ],
      "metadata": {
        "colab": {
          "base_uri": "https://localhost:8080/"
        },
        "id": "u_JJqn--QCt-",
        "outputId": "85bafd64-43aa-49b6-8fd9-011a13e2dc83"
      },
      "execution_count": 2,
      "outputs": [
        {
          "output_type": "stream",
          "name": "stdout",
          "text": [
            "[1 2] \n",
            "\n",
            "[[2 0]\n",
            " [0 3]] \n",
            "\n",
            "[2 6] \n",
            "\n",
            "[1. 2.]\n"
          ]
        }
      ]
    },
    {
      "cell_type": "code",
      "source": [
        "p @ T @ np.linalg.inv(T)"
      ],
      "metadata": {
        "colab": {
          "base_uri": "https://localhost:8080/"
        },
        "id": "qtQLyLx7RMSs",
        "outputId": "e4c044b7-7ac8-4aa3-f898-a6bb317e07ee"
      },
      "execution_count": null,
      "outputs": [
        {
          "output_type": "execute_result",
          "data": {
            "text/plain": [
              "array([1., 2.])"
            ]
          },
          "metadata": {},
          "execution_count": 30
        }
      ]
    },
    {
      "cell_type": "code",
      "source": [
        "import numpy as np\n",
        "# 원래 점의 좌표 p와 반환 행렬 T를 정의\n",
        "p = np.array([1,2])\n",
        "T = np.array([[1,2], [0,3]])\n",
        "\n",
        "# 새로운 좌표 p'계산\n",
        "p_prime = np.dot(T,p)\n",
        "\n",
        "# 변환 행렬 T의 역행렬 계산\n",
        "T_inv = np.linalg.inv(T)\n",
        "\n",
        "#원래 좌표 p 복원\n",
        "p_restored = np.dot(T_inv, p_prime)"
      ],
      "metadata": {
        "id": "mKm48uBARa04"
      },
      "execution_count": 18,
      "outputs": []
    },
    {
      "cell_type": "code",
      "source": [],
      "metadata": {
        "id": "n_EIZCseFfoJ"
      },
      "execution_count": null,
      "outputs": []
    }
  ]
}