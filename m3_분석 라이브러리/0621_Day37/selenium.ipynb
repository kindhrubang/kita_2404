{
 "cells": [
  {
   "cell_type": "markdown",
   "metadata": {},
   "source": [
    "#### 셀레니움 함수\n",
    "\n",
    "- https://goodthings4me.tistory.com/696\n",
    "\n",
    "- from selenium.webdriver.common.by import By\n",
    "\n",
    "- find_element(By.ID, \" \"): id 속성을 사용하여 접근\n",
    "- find_element(s)(By.CLASS_NAME, \" \"): 클래스를 사용하여 접근\n",
    "- find_element(s)(By.NAME, \" \"): name 속성을 사용하여 접근\n",
    "- find_element(s)(By.XPATH, \" \"): xpath 속성을 사용하여 접근\n",
    "- find_element(s)(By.LINK_TEXT, \" \"): 앵커태그(a 태그)에 사용되는 텍스트로 접근\n",
    "- find_element(s)(By.PARTIAL_LINK_TEXT, \" \"): 앵커태그(a 태그)에 사용되는 일부 텍스트로 접근\n",
    "- find_element(s)(By.TAG_NAME, \" \"): 태그를 사용하여 접근\n",
    "- find_element(s)(By.CSS_SELECTOR, \" \"): CSS 선택자를 사용하여 접근<br><br>\n",
    "셀레니움 사용법 : https://greeksharifa.github.io/references/2020/10/30/python-selenium-usage/ "
   ]
  },
  {
   "cell_type": "code",
   "execution_count": 3,
   "metadata": {},
   "outputs": [],
   "source": [
    "import selenium\n",
    "from selenium import webdriver\n",
    "from selenium.webdriver.common.keys import Keys\n",
    "from selenium.webdriver.common.by import By\n",
    "import time\n",
    "\n",
    "driver = webdriver.Chrome()\n",
    "url = 'https://naver.com'\n",
    "driver.get(url)\n",
    "time.sleep(1)"
   ]
  },
  {
   "cell_type": "code",
   "execution_count": 7,
   "metadata": {},
   "outputs": [
    {
     "name": "stdout",
     "output_type": "stream",
     "text": [
      "https://www.google.com/\n"
     ]
    }
   ],
   "source": [
    "print(driver.current_url)\n",
    "driver.close()"
   ]
  },
  {
   "cell_type": "code",
   "execution_count": 5,
   "metadata": {},
   "outputs": [
    {
     "name": "stdout",
     "output_type": "stream",
     "text": [
      "https://www.google.com/\n"
     ]
    }
   ],
   "source": [
    "# 브라우저 창을 띄우지 않고 수행\n",
    "options = webdriver.ChromeOptions()\n",
    "# option.add_argument('start-maximized')\n",
    "options.add_argument('headless')\n",
    "driver = webdriver.Chrome(options=options)\n",
    "driver.get('https://google.com')\n",
    "print(driver.current_url)\n",
    "driver.close()"
   ]
  },
  {
   "cell_type": "markdown",
   "metadata": {},
   "source": [
    "- driver.close(): 현재 활성화된 탭이나 창을 닫습니다. 브라우저 세션은 계속 유지\n",
    "- driver.quit(): 모든 열려 있는 탭과 창을 닫고, 브라우저 세션을 종료합니다. WebDriver 인스턴스가 완전히 종료"
   ]
  },
  {
   "cell_type": "code",
   "execution_count": 8,
   "metadata": {},
   "outputs": [
    {
     "name": "stdout",
     "output_type": "stream",
     "text": [
      "Element found: 검색\n"
     ]
    }
   ],
   "source": [
    "# Implicit Waits(암묵적 대기) : 찾으려는 element가 로드될 때까지 지정한 시간만큼 대기할 수 있도록 설정\n",
    "# By 클래스는 Selenium에서 HTML 요소를 찾기 위한 다양한 방법을 제공\n",
    "# WebDriverWait 클래스는 특정 조건이 충족될 때까지 대기하는 기능\n",
    "# expected_conditions 모듈은 여러 가지 조건을 미리 정의하여 특정 요소가 나타나거나 특정 상태가 될 때까지 기다릴 수 있도록 함\n",
    "from selenium.webdriver.common.by import By\n",
    "from selenium.webdriver.support.ui import WebDriverWait\n",
    "from selenium.webdriver.support import expected_conditions as EC\n",
    "\n",
    "driver = webdriver.Chrome()\n",
    "driver.get('https://google.com')\n",
    "try:\n",
    "    element = WebDriverWait(driver,5).until(\n",
    "        EC.presence_of_element_located((By.CLASS_NAME , 'gLFyf'))\n",
    "    )\n",
    "    # 요소가 존재하면 텍스트 출력 (이 경우에는 입력창이므로 text가 없을 수 있음)\n",
    "    print(\"Element found:\", element.get_attribute('title'))\n",
    "except Exception as e:\n",
    "    # 예외 발생 시 메시지 출력\n",
    "    print(\"An error occurred:\",e)\n",
    "finally:\n",
    "    # WebDriver 종료\n",
    "    driver.quit()"
   ]
  },
  {
   "cell_type": "code",
   "execution_count": null,
   "metadata": {},
   "outputs": [],
   "source": [
    "driver.quit()"
   ]
  },
  {
   "cell_type": "code",
   "execution_count": null,
   "metadata": {},
   "outputs": [],
   "source": [
    "from selenium import webdriver\n",
    "from selenium.webdriver.chrome.options import Options\n",
    "from selenium.webdriver.common.by import By\n",
    "import time\n",
    "\n",
    "# Chrome 옵션 설정\n",
    "options= Options()\n",
    "options.add_argument(\"--start-maximized\")# 브라우저를 최대화된 상태로 시작하도록 설정\n",
    "options.add_experimental_option(\"detach\",True) # 스크립트가 종료된 후에도 브라우저가 닫히지 않도록 설장\n",
    "\n",
    "# WEBdRIVER 실행\n",
    "DRIVER = webdriver.Chrome(options=options)\n",
    "\n",
    "# Google 웹사이트 열기\n",
    "DRIVER.get('https://www.google.com')"
   ]
  },
  {
   "cell_type": "code",
   "execution_count": 16,
   "metadata": {},
   "outputs": [
    {
     "data": {
      "text/plain": [
       "'\\n<textarea class=\"gLFyf\" aria-controls=\"Alh6id\" aria-owns=\"Alh6id\" autofocus=\"\" title=\"검색\" value=\"\" jsaction=\"paste:puy29d;\" aria-label=\"검색\" \\naria-autocomplete=\"both\" aria-expanded=\"false\" aria-haspopup=\"false\" autocapitalize=\"off\" autocomplete=\"off\" autocorrect=\"off\" id=\"APjFqb\" \\nmaxlength=\"2048\" name=\"q\" role=\"combobox\" rows=\"1\" spellcheck=\"false\" data-ved=\"0ahUKEwiTqeqlquWGAxVSh68BHeVpBlkQ39UDCAY\"></textarea>\\n'"
      ]
     },
     "execution_count": 16,
     "metadata": {},
     "output_type": "execute_result"
    }
   ],
   "source": [
    "\"\"\"\n",
    "<textarea class=\"gLFyf\" aria-controls=\"Alh6id\" aria-owns=\"Alh6id\" autofocus=\"\" title=\"검색\" value=\"\" jsaction=\"paste:puy29d;\" aria-label=\"검색\" \n",
    "aria-autocomplete=\"both\" aria-expanded=\"false\" aria-haspopup=\"false\" autocapitalize=\"off\" autocomplete=\"off\" autocorrect=\"off\" id=\"APjFqb\" \n",
    "maxlength=\"2048\" name=\"q\" role=\"combobox\" rows=\"1\" spellcheck=\"false\" data-ved=\"0ahUKEwiTqeqlquWGAxVSh68BHeVpBlkQ39UDCAY\"></textarea>\n",
    "\"\"\""
   ]
  },
  {
   "cell_type": "code",
   "execution_count": 18,
   "metadata": {},
   "outputs": [
    {
     "name": "stdout",
     "output_type": "stream",
     "text": [
      "Element not found by ID\n"
     ]
    }
   ],
   "source": [
    "# 1. find_element(By.ID, \"id_name\"): id 속성을 사용하여 접근\n",
    "try:\n",
    "    element_by_id = driver.find_element(By.ID, \"APjFqb\")\n",
    "    print(\"Element found by ID: \", element_by_id.get_attribute('name')) #찾은 요소와 alt 속성 값을 자겨온다.\n",
    "except:\n",
    "    print(\"Element not found by ID\")"
   ]
  },
  {
   "cell_type": "code",
   "execution_count": 20,
   "metadata": {},
   "outputs": [
    {
     "name": "stdout",
     "output_type": "stream",
     "text": [
      "Element not found by class\n"
     ]
    }
   ],
   "source": [
    "# 2. find_element(By.CLASS_NAME, \"class_name\"): 클래스를 사용하여 접근\n",
    "\n",
    "try:\n",
    "    element_by_class_name = driver.find_element(By.CLASS_NAME, \"gLFyf\")\n",
    "    print(\"Element found by CLASS_NAME\", element_by_class_name.get_attribute('title'))\n",
    "except:\n",
    "    print('Element not found by class')\n"
   ]
  },
  {
   "cell_type": "code",
   "execution_count": 22,
   "metadata": {},
   "outputs": [
    {
     "name": "stdout",
     "output_type": "stream",
     "text": [
      "Element not found by NAME\n"
     ]
    }
   ],
   "source": [
    "# 3. find_element(By.NAME, \"name\"): name 속성을 사용하여 접근\n",
    "try:\n",
    "    element_by_name = driver.find_element(By.NAME, \"q\")\n",
    "    print(\"element found by NAME:\", element_by_name.get_attribute('title'))\n",
    "except:\n",
    "    print(\"Element not found by NAME\")"
   ]
  },
  {
   "cell_type": "markdown",
   "metadata": {},
   "source": []
  },
  {
   "cell_type": "markdown",
   "metadata": {},
   "source": [
    "Task1_0621. https://www.google.com 사이트에서 셀레니움을 이용해서 다음을 수행하세요.\n",
    "- xpath 속성을 사용하여 접근하여 요소를 추출\n",
    "- 앵커태그(a 태그)에 사용되는 텍스트로 접근하여 요소를 추출\n",
    "- 앵커태그(a 태그)에 사용되는 일부 텍스트로 접근하여 요소를 추출\n",
    "- 태그를 사용하여 접근하여 요소를 추출\n",
    "- CSS 선택자를 사용하여 접근하여 요소를 추출"
   ]
  },
  {
   "cell_type": "code",
   "execution_count": 23,
   "metadata": {},
   "outputs": [
    {
     "name": "stdout",
     "output_type": "stream",
     "text": [
      "Element found: Google 정보\n",
      "Element found: Google 정보\n",
      "Element found: Google 정보\n",
      "Element found: None\n",
      "Element found: Google 정보\n"
     ]
    }
   ],
   "source": [
    "from selenium import webdriver\n",
    "from selenium.webdriver.chrome.options import Options\n",
    "from selenium.webdriver.common.by import By\n",
    "from selenium.webdriver.support import expected_conditions as EC\n",
    "from selenium.webdriver.support.ui import WebDriverWait\n",
    "# Chrome 옵션 설정\n",
    "options= Options()\n",
    "options.add_argument(\"--start-maximized\")# 브라우저를 최대화된 상태로 시작하도록 설정\n",
    "options.add_experimental_option(\"detach\",True) # 스크립트가 종료된 후에도 브라우저가 닫히지 않도록 설장\n",
    "\n",
    "# WEBdRIVER 실행\n",
    "driver = webdriver.Chrome(options=options)\n",
    "\n",
    "# Google 웹사이트 열기\n",
    "driver.get('https://www.google.com')\n",
    "\n",
    "#xpath 속성을 사용하여 접근하여 요소를 추출\n",
    "try:\n",
    "    ele1 = WebDriverWait(driver,5).until(\n",
    "        EC.presence_of_element_located((By.XPATH , '//a'))\n",
    "    )\n",
    "    ele2 =  WebDriverWait(driver,5).until(\n",
    "        EC.presence_of_element_located((By.LINK_TEXT , 'Google 정보'))\n",
    "    )\n",
    "    ele3 =  WebDriverWait(driver,5).until(\n",
    "        EC.presence_of_element_located((By.PARTIAL_LINK_TEXT , '정보'))\n",
    "    )\n",
    "    ele4 =  WebDriverWait(driver,5).until(\n",
    "        EC.presence_of_element_located((By.TAG_NAME , 'img'))\n",
    "    )\n",
    "    ele5 =  WebDriverWait(driver,5).until(\n",
    "        EC.presence_of_element_located((By.CSS_SELECTOR , 'body > div.L3eUgb > div.o3j99.n1xJcf.Ne6nSd > a:nth-child(2)'))\n",
    "    )     \n",
    "\n",
    "    # 요소가 존재하면 텍스트 출력 (이 경우에는 입력창이므로 text가 없을 수 있음)\n",
    "    print(\"Element found:\", ele1.get_attribute('text'))\n",
    "    print(\"Element found:\", ele2.get_attribute('text'))\n",
    "    print(\"Element found:\", ele3.get_attribute('text'))\n",
    "    print(\"Element found:\", ele4.get_attribute('text'))\n",
    "    print(\"Element found:\", ele5.get_attribute('text'))\n",
    "except Exception as e:\n",
    "    # 예외 발생 시 메시지 출력\n",
    "    print(\"An error occurred:\",e)\n",
    "finally:\n",
    "    # WebDriver 종료\n",
    "    driver.quit()"
   ]
  },
  {
   "cell_type": "code",
   "execution_count": 12,
   "metadata": {},
   "outputs": [
    {
     "name": "stdout",
     "output_type": "stream",
     "text": [
      "Element found: \n"
     ]
    }
   ],
   "source": [
    "from selenium import webdriver\n",
    "from selenium.webdriver.chrome.options import Options\n",
    "from selenium.webdriver.common.by import By\n",
    "from selenium.webdriver.support import expected_conditions as EC\n",
    "from selenium.webdriver.support.ui import WebDriverWait\n",
    "# Chrome 옵션 설정\n",
    "options= Options()\n",
    "options.add_argument(\"--start-maximized\")# 브라우저를 최대화된 상태로 시작하도록 설정\n",
    "options.add_experimental_option(\"detach\",True) # 스크립트가 종료된 후에도 브라우저가 닫히지 않도록 설장\n",
    "\n",
    "# WEBdRIVER 실행\n",
    "driver = webdriver.Chrome(options=options)\n",
    "\n",
    "# Google 웹사이트 열기\n",
    "driver.get('https://www.google.com')\n",
    "\n",
    "#xpath 속성을 사용하여 접근하여 요소를 추출\n",
    "\n",
    "element = driver.find_element(By.XPATH,'')\n",
    "# 요소가 존재하면 텍스트 출력 (이 경우에는 입력창이므로 text가 없을 수 있음)\n",
    "print(\"Element found:\", element.get_attribute('title'))\n",
    "\n",
    "driver.quit()"
   ]
  },
  {
   "cell_type": "markdown",
   "metadata": {},
   "source": [
    "Task2_0621. 한빛 네트워크 사이트 https://www.hanbit.co.kr/ 로그인 후 마일리지 점수 가져와서 출력하세요."
   ]
  },
  {
   "cell_type": "code",
   "execution_count": 31,
   "metadata": {},
   "outputs": [
    {
     "name": "stdout",
     "output_type": "stream",
     "text": [
      "My 마일리지: 2,000\n"
     ]
    }
   ],
   "source": [
    "from selenium import webdriver\n",
    "from selenium.webdriver.chrome.options import Options\n",
    "from selenium.webdriver.common.by import By\n",
    "from selenium.webdriver.support import expected_conditions as EC\n",
    "from selenium.webdriver.support.ui import WebDriverWait\n",
    "# Chrome 옵션 설정\n",
    "options= Options()\n",
    "options.add_argument(\"--start-maximized\")# 브라우저를 최대화된 상태로 시작하도록 설정\n",
    "options.add_experimental_option(\"detach\",True) # 스크립트가 종료된 후에도 브라우저가 닫히지 않도록 설장\n",
    "\n",
    "# WEBdRIVER 실행\n",
    "driver = webdriver.Chrome(options=options)\n",
    "\n",
    "# Google 웹사이트 열기\n",
    "driver.get('https://www.hanbit.co.kr/')\n",
    "\n",
    "\n",
    "try:\n",
    "    driver.find_element(By.XPATH, '//*[@id=\"wrap_nav\"]/ul[2]/li[1]/a').click()\n",
    "    time.sleep(0.45)\n",
    "    driver.find_element(By.XPATH, '//*[@id=\"m_id\"]').send_keys('kindhrubang')\n",
    "    time.sleep(0.45)\n",
    "    driver.find_element(By.XPATH, '//*[@id=\"m_passwd\"]').send_keys('tkdguq@@2')\n",
    "    time.sleep(0.45)\n",
    "    driver.find_element(By.XPATH, '//*[@id=\"login_btn\"]').click()\n",
    "    time.sleep(0.45)\n",
    "    driver.find_element(By.XPATH, '//*[@id=\"wrap_nav\"]/ul[2]/li[2]/a').click()\n",
    "    time.sleep(0.45)\n",
    "    ele1 = WebDriverWait(driver,5).until(\n",
    "        EC.presence_of_element_located((By.XPATH , '//*[@id=\"container\"]/div/div[2]/dl[1]/dd/span'))\n",
    "    )\n",
    "    # 요소가 존재하면 텍스트 출력 (이 경우에는 입력창이므로 text가 없을 수 있음)\n",
    "    print(\"My 마일리지:\", ele1.text)\n",
    "\n",
    "except Exception as e:\n",
    "    # 예외 발생 시 메시지 출력\n",
    "    print(\"An error occurred:\",e)\n",
    "finally:\n",
    "    # WebDriver 종료\n",
    "    driver.quit()"
   ]
  },
  {
   "cell_type": "markdown",
   "metadata": {},
   "source": [
    "Task3_0621. 네이버 로그인한 후 않읽은 메일의 개수를 가져와서 출력하세요."
   ]
  }
 ],
 "metadata": {
  "kernelspec": {
   "display_name": "myenv",
   "language": "python",
   "name": "python3"
  },
  "language_info": {
   "codemirror_mode": {
    "name": "ipython",
    "version": 3
   },
   "file_extension": ".py",
   "mimetype": "text/x-python",
   "name": "python",
   "nbconvert_exporter": "python",
   "pygments_lexer": "ipython3",
   "version": "3.10.11"
  }
 },
 "nbformat": 4,
 "nbformat_minor": 2
}
