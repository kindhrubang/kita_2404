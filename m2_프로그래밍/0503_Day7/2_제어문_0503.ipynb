{
  "nbformat": 4,
  "nbformat_minor": 0,
  "metadata": {
    "colab": {
      "provenance": []
    },
    "kernelspec": {
      "name": "python3",
      "display_name": "Python 3"
    },
    "language_info": {
      "name": "python"
    }
  },
  "cells": [
    {
      "cell_type": "markdown",
      "source": [
        "제어문(control statement)은 프로그램의 흐름을 제어하는데 사용\n",
        "\n",
        "#### 조건문 (Conditional Statements):\n",
        "- if: 특정 조건이 참(True)일 때 코드 블록을 실행\n",
        "    - 조건은 비교 연산자(==, !=, <, >, <=, >=)와 논리 연산자(and, or, not)를 사용하여 표현할 수 있다\n",
        "- elif: 이전의 if 또는 elif 조건이 거짓(False)일 때 다른 조건을 검사\n",
        "    - elif는 'else if'의 축약형으로, 이전 if 또는 elif 문의 조건이 거짓(False)일 때 다른 조건을 검사\n",
        "    - 여러 elif 문을 사용하여 다양한 조건을 검사할 수 있다\n",
        "- else:\n",
        "    - 이전의 if 또는 elif 문의 조건이 모두 거짓일 때 실행할 코드 블록을 지정"
      ],
      "metadata": {
        "id": "ITv76F0S8R6z"
      }
    },
    {
      "cell_type": "code",
      "source": [
        "x = int(input('숫자 입력 :'))\n",
        "if x > 5:\n",
        "    print('x는 5보다 큽니다.')\n",
        "elif x==5:\n",
        "    print('x는 5입니다.')\n",
        "else:\n",
        "    print('x는 5보다 작습니다.')"
      ],
      "metadata": {
        "colab": {
          "base_uri": "https://localhost:8080/"
        },
        "id": "jYBNqdCo8pPl",
        "outputId": "2d9ab1aa-56d6-441f-eb01-45b11023679e"
      },
      "execution_count": null,
      "outputs": [
        {
          "output_type": "stream",
          "name": "stdout",
          "text": [
            "숫자 입력 :22\n",
            "x는 5보다 큽니다.\n"
          ]
        }
      ]
    },
    {
      "cell_type": "code",
      "source": [
        "x = int(input('숫자 입력 :'))\n",
        "if x >= 5:\n",
        "    print(\"x는 5보다 크거나 같습니다.\")\n",
        "else:\n",
        "    print(\"x는 5보다 작습니다\")"
      ],
      "metadata": {
        "colab": {
          "base_uri": "https://localhost:8080/"
        },
        "id": "hC4tGYT--QpI",
        "outputId": "a6047f39-f7d6-4b74-f032-7ca67b00bc64"
      },
      "execution_count": null,
      "outputs": [
        {
          "output_type": "stream",
          "name": "stdout",
          "text": [
            "숫자 입력 :1\n",
            "x는 5보다 작습니다\n"
          ]
        }
      ]
    },
    {
      "cell_type": "code",
      "source": [
        "x = int(input('숫자 입력 :'))\n",
        "y = int(input('숫자 입력 :'))\n",
        "if x>5:\n",
        "    print('x는 5보다 큽니다.')\n",
        "if y<10:\n",
        "    print('y 는 10보다 작습니다.')\n",
        "if x>y:\n",
        "    print('x는 y보다 큽니다')"
      ],
      "metadata": {
        "colab": {
          "base_uri": "https://localhost:8080/"
        },
        "id": "aN8PpaZ1R1Xu",
        "outputId": "a3ffb304-4acc-4de4-e3ab-cf237036e077"
      },
      "execution_count": null,
      "outputs": [
        {
          "output_type": "stream",
          "name": "stdout",
          "text": [
            "숫자 입력 :4\n",
            "숫자 입력 :2\n",
            "y 는 10보다 작습니다.\n",
            "x는 y보다 큽니다\n"
          ]
        }
      ]
    },
    {
      "cell_type": "code",
      "source": [
        "x = int(input('숫자 입력 :'))\n",
        "y = int(input('숫자 입력 :'))\n",
        "if x>5:\n",
        "    if y>=3:\n",
        "        print('x는 5보다 크고  y는 3보다 크거나 같습니다.')\n",
        "    else:\n",
        "        print('x는 5보다 크고 y는 3보다 작습니다.')\n",
        "else:\n",
        "    print('x는 5보다 작거나 같습니다.')"
      ],
      "metadata": {
        "colab": {
          "base_uri": "https://localhost:8080/"
        },
        "id": "R02jH3TwSYP-",
        "outputId": "43e40cef-8fca-4638-f91a-2313492d98a3"
      },
      "execution_count": null,
      "outputs": [
        {
          "output_type": "stream",
          "name": "stdout",
          "text": [
            "숫자 입력 :50\n",
            "숫자 입력 :3\n",
            "x는 5보다 크고  y는 3보다 크거나 같습니다.\n"
          ]
        }
      ]
    },
    {
      "cell_type": "code",
      "source": [
        "x = int(input('숫자 입력 :'))\n",
        "y = int(input('숫자 입력 :'))\n",
        "if x > y:\n",
        "    if x+y > 20:\n",
        "        print('욕심이 과했습니다!')\n",
        "    elif x+y == 20:\n",
        "        print('최대 상금을 수령했습니다!')\n",
        "    else:\n",
        "        if x+y==7:\n",
        "            print(f'행운의 숫자 당첨!{x**(-y)}만원!!')\n",
        "        else:\n",
        "            print(f'{x+y}만원 당첨!')\n",
        "elif x == y:\n",
        "    print('더블! 2만원 당첨!')\n",
        "else:\n",
        "    print('조건을 만족하지 못하여 0원!')"
      ],
      "metadata": {
        "colab": {
          "base_uri": "https://localhost:8080/"
        },
        "id": "cjJegm_wTyFR",
        "outputId": "e86c6941-daf7-4016-9fb5-cc5924d983e1"
      },
      "execution_count": null,
      "outputs": [
        {
          "output_type": "stream",
          "name": "stdout",
          "text": [
            "숫자 입력 :10\n",
            "숫자 입력 :-3\n",
            "행운의 숫자 당첨!1000만원!!\n"
          ]
        }
      ]
    },
    {
      "cell_type": "code",
      "source": [
        "listdata = ['a', 'b', 'c']\n",
        "\n",
        "if 'a' in listdata:\n",
        "    print('a가 listdata에 있습니다.')\n",
        "if 'b' in listdata:\n",
        "    print('b가 listdata에 있습니다.')\n",
        "if 'c' in listdata:\n",
        "    print('c가 listdata에 있습니다.')"
      ],
      "metadata": {
        "colab": {
          "base_uri": "https://localhost:8080/"
        },
        "id": "DpSc5NL0ViDJ",
        "outputId": "5e3dcaa4-2128-43b4-bdfc-2063dfa90d82"
      },
      "execution_count": null,
      "outputs": [
        {
          "output_type": "stream",
          "name": "stdout",
          "text": [
            "a가 listdata에 있습니다.\n",
            "b가 listdata에 있습니다.\n",
            "c가 listdata에 있습니다.\n"
          ]
        }
      ]
    },
    {
      "cell_type": "code",
      "source": [
        "listdata = ['a', 'b', 'c']\n",
        "\n",
        "for i in listdata:\n",
        "    print(f'{i}가 listdata에 있습니다.')"
      ],
      "metadata": {
        "colab": {
          "base_uri": "https://localhost:8080/"
        },
        "id": "zV1pilxKY1ya",
        "outputId": "6a632040-8448-4a97-c928-f232c7ae0589"
      },
      "execution_count": null,
      "outputs": [
        {
          "output_type": "stream",
          "name": "stdout",
          "text": [
            "a가 listdata에 있습니다.\n",
            "b가 listdata에 있습니다.\n",
            "c가 listdata에 있습니다.\n"
          ]
        }
      ]
    },
    {
      "cell_type": "code",
      "source": [
        "#Q.\"돈이 있으면 택시를 타고, 돈이 없으면 걸어 간다\"를 만족하는 조건문을 작성하세요\n",
        "money = int(input('지금 갖고있는 돈은?(숫자로 입력): '))\n",
        "way = float(input('목적지 까지의 거리를 입력(1.5키로일 경우 1.5):'))\n",
        "\n",
        "if money<5000:\n",
        "    print('돈이 없으니 걸어가자')\n",
        "if money<5000*way:\n",
        "    print('돈이 부족하다! 걸어가도록 하자!')\n",
        "else:\n",
        "    print('택시타고 편하게 가자!')"
      ],
      "metadata": {
        "colab": {
          "base_uri": "https://localhost:8080/"
        },
        "id": "cZzA5nyBZcWw",
        "outputId": "fe04798b-fd98-4b57-d108-f14b695cbf28"
      },
      "execution_count": null,
      "outputs": [
        {
          "output_type": "stream",
          "name": "stdout",
          "text": [
            "지금 갖고있는 돈은?(숫자로 입력): 61651651\n",
            "목적지 까지의 거리를 입력(1.5키로일 경우 1.5):34\n",
            "택시타고 편하게 가자!\n"
          ]
        }
      ]
    },
    {
      "cell_type": "code",
      "source": [
        "score = 69\n",
        "a= [\"sucess\" if score >= 70 else \"failure\"]\n",
        "a"
      ],
      "metadata": {
        "colab": {
          "base_uri": "https://localhost:8080/"
        },
        "id": "Lop73DyXev_n",
        "outputId": "7365feae-4440-4e78-d710-b8852f582230"
      },
      "execution_count": null,
      "outputs": [
        {
          "output_type": "execute_result",
          "data": {
            "text/plain": [
              "['failure']"
            ]
          },
          "metadata": {},
          "execution_count": 42
        }
      ]
    },
    {
      "cell_type": "code",
      "source": [
        "# Q. \"수입과 지출금액을 비교해서 수입이 많으면 저축 증가, 반대이면 빚이 증가\" 프로그램을 작성해보시오\n",
        "\n",
        "\n",
        "total = 0\n",
        "i = 0\n",
        "while i < 12:\n",
        "    income = int(input(\"이번달 소득을 입력하세요 :\"))\n",
        "    spend = int(input(\"이번달 지출금액을 입력하세요 :\"))\n",
        "    if income > spend:\n",
        "        total += (income - spend)\n",
        "        print(f'잔고에 {income - spend}원이 추가되었습니다. 현제 잔액은{total}원 입니다.')\n",
        "    elif income == spend:\n",
        "        print(f\"현상 유지 현제 잔액은{total}원 입니다.\")\n",
        "    else:\n",
        "        total -= (spend - income)\n",
        "        print(f'통장에 {spend - income}원만큼  차감되었습니다 현제 잔액은{total}원 입니다.')\n",
        "    i += 1"
      ],
      "metadata": {
        "colab": {
          "base_uri": "https://localhost:8080/"
        },
        "id": "gjSPqPmCfm5g",
        "outputId": "dc19ab82-eb60-4388-8ac4-ce61b2e1c9fe"
      },
      "execution_count": null,
      "outputs": [
        {
          "output_type": "stream",
          "name": "stdout",
          "text": [
            "이번달 소득을 입력하세요 :49999\n",
            "이번달 지출금액을 입력하세요 :500\n",
            "잔고에 49499원이 추가되었습니다. 현제 잔액은49499원 입니다.\n",
            "이번달 소득을 입력하세요 :50\n",
            "이번달 지출금액을 입력하세요 :100000\n",
            "통장에 99950원만큼  차감되었습니다 현제 잔액은-50451원 입니다.\n",
            "이번달 소득을 입력하세요 :99999\n",
            "이번달 지출금액을 입력하세요 :500\n",
            "잔고에 99499원이 추가되었습니다. 현제 잔액은49048원 입니다.\n",
            "이번달 소득을 입력하세요 :5000\n",
            "이번달 지출금액을 입력하세요 :40000\n",
            "통장에 35000원만큼  차감되었습니다 현제 잔액은14048원 입니다.\n",
            "이번달 소득을 입력하세요 :5000\n",
            "이번달 지출금액을 입력하세요 :20000\n",
            "통장에 15000원만큼  차감되었습니다 현제 잔액은-952원 입니다.\n",
            "이번달 소득을 입력하세요 :100000\n",
            "이번달 지출금액을 입력하세요 :555\n",
            "잔고에 99445원이 추가되었습니다. 현제 잔액은98493원 입니다.\n",
            "이번달 소득을 입력하세요 :3132132\n",
            "이번달 지출금액을 입력하세요 :15515\n",
            "잔고에 3116617원이 추가되었습니다. 현제 잔액은3215110원 입니다.\n",
            "이번달 소득을 입력하세요 :231213\n",
            "이번달 지출금액을 입력하세요 :51515\n",
            "잔고에 179698원이 추가되었습니다. 현제 잔액은3394808원 입니다.\n",
            "이번달 소득을 입력하세요 :1351531\n",
            "이번달 지출금액을 입력하세요 :51351321\n",
            "통장에 49999790원만큼  차감되었습니다 현제 잔액은-46604982원 입니다.\n",
            "이번달 소득을 입력하세요 :5151515161\n",
            "이번달 지출금액을 입력하세요 :50500000\n",
            "잔고에 5101015161원이 추가되었습니다. 현제 잔액은5054410179원 입니다.\n",
            "이번달 소득을 입력하세요 :50000\n",
            "이번달 지출금액을 입력하세요 :50000\n",
            "현상 유지 현제 잔액은5054410179원 입니다.\n",
            "이번달 소득을 입력하세요 :5000\n",
            "이번달 지출금액을 입력하세요 :5000\n",
            "현상 유지 현제 잔액은5054410179원 입니다.\n"
          ]
        }
      ]
    },
    {
      "cell_type": "markdown",
      "source": [
        "## 반복문 (Loop Statements):\n",
        "- for:시퀀스(리스트, 튜플,문자열 등)의 아이템을 순회하면서 코드 블록을 실행\n",
        "- while: 특정 조건이 참인 동안 코드 블록을 반복하여 실행"
      ],
      "metadata": {
        "id": "HiPaUjnXiBRM"
      }
    },
    {
      "cell_type": "code",
      "source": [
        "for i in range(5):\n",
        "    print(i, end='\\t')\n",
        "print('\\n\\n\\n\\n\\n\\n\\n')\n",
        "count = 0\n",
        "while count < 5:\n",
        "    count += 1\n",
        "    print(count, end='       ')\n"
      ],
      "metadata": {
        "colab": {
          "base_uri": "https://localhost:8080/"
        },
        "id": "uLihPr7YhjwH",
        "outputId": "699c1aa6-4128-4e70-f674-a6956895b826"
      },
      "execution_count": null,
      "outputs": [
        {
          "output_type": "stream",
          "name": "stdout",
          "text": [
            "0\t1\t2\t3\t4\t\n",
            "\n",
            "\n",
            "\n",
            "\n",
            "\n",
            "\n",
            "\n",
            "1       2       3       4       5       "
          ]
        }
      ]
    },
    {
      "cell_type": "code",
      "source": [
        "for i in [1,2,3,4,5]:\n",
        "    print(i,end='    ')\n",
        "print('\\n\\n')\n",
        "\n",
        "for char in \"hello\":\n",
        "    print(char, end=' ')"
      ],
      "metadata": {
        "colab": {
          "base_uri": "https://localhost:8080/"
        },
        "id": "ZSZU0ZsrkE_8",
        "outputId": "2cd702aa-989d-4725-c8b4-6b3056a89bcd"
      },
      "execution_count": null,
      "outputs": [
        {
          "output_type": "stream",
          "name": "stdout",
          "text": [
            "1    2    3    4    5    \n",
            "\n",
            "\n",
            "h e l l o "
          ]
        }
      ]
    },
    {
      "cell_type": "code",
      "source": [
        "count = 0\n",
        "sum = 0\n",
        "while count < 5:\n",
        "    sum += count\n",
        "    print(sum, end='       ')\n",
        "    count += 1\n"
      ],
      "metadata": {
        "colab": {
          "base_uri": "https://localhost:8080/"
        },
        "id": "Xey95TAVlKJ6",
        "outputId": "0f8362d0-5984-4be1-c5a4-ddc860d2e65b"
      },
      "execution_count": null,
      "outputs": [
        {
          "output_type": "stream",
          "name": "stdout",
          "text": [
            "0       1       3       6       10       "
          ]
        }
      ]
    },
    {
      "cell_type": "code",
      "source": [
        "# Q. d에서 반복문을 사용하여 97 98 99 를 출력하세요.\n",
        "d = {'a':97, 'b':98, 'c':99}\n",
        "\n",
        "for i in d:\n",
        "    print(d[i], end=' ')\n",
        "    print(type(d[i]))"
      ],
      "metadata": {
        "colab": {
          "base_uri": "https://localhost:8080/"
        },
        "id": "nErOKCtFlzVT",
        "outputId": "d76aa1a3-f650-4fc9-f411-b2fa96e21d5b"
      },
      "execution_count": null,
      "outputs": [
        {
          "output_type": "stream",
          "name": "stdout",
          "text": [
            "97 <class 'int'>\n",
            "98 <class 'int'>\n",
            "99 <class 'int'>\n"
          ]
        }
      ]
    },
    {
      "cell_type": "markdown",
      "source": [
        "dict_values 클래스의 이해: <=어려움\n",
        "- 클래스 정의: 파이썬에서 클래스는 객체를 생성하는 데 사용되는 템플릿. dict_values는 딕셔너리의 값을 보여주는 뷰 객체를 생성하는 특별한 내장 클래스.\n",
        "- 뷰 객체: dict_values 객체는 딕셔너리의 값에 대한 동적인 뷰를 제공. \"뷰(view)\"란 원본 딕셔너리 객체의 값이 변하면 그 변화가 dict_values 객체에도 반영되는, 원본 데이터의 실시간 반영본을 의미. 이는 딕셔너리의 값들이 수정, 추가, 삭제될 때 dict_values 객체가 자동으로 업데이트된다는 의미.\n",
        "- 객체 인스턴스: dict_values 객체는 dict_values 클래스의 인스턴스. 이 클래스는 파이썬의 다른 모든 클래스처럼 특정 데이터 구조와 메서드를 가진다. 예를 들어, dict_values 객체는 순회 가능하며 (iterable), 딕셔너리의 모든 값을 순차적으로 접근할 수 있는 메서드를 제공."
      ],
      "metadata": {
        "id": "DXiwUnylxlJ-"
      }
    },
    {
      "cell_type": "code",
      "source": [
        "d['b'] = 100\n",
        "print(d)\n",
        "print(d.values())"
      ],
      "metadata": {
        "id": "I2jVDe14DTfz",
        "colab": {
          "base_uri": "https://localhost:8080/"
        },
        "outputId": "e4128ece-be0d-4d16-842e-0b3c3a4c2ae9"
      },
      "execution_count": null,
      "outputs": [
        {
          "output_type": "stream",
          "name": "stdout",
          "text": [
            "{'a': 97, 'b': 100, 'c': 99, 'd': 100}\n",
            "dict_values([97, 100, 99, 100])\n"
          ]
        }
      ]
    },
    {
      "cell_type": "markdown",
      "source": [
        "#### 제어문 관련 키워드:\n",
        "- break: 현재의 반복문을 중단하고, 반복문 바깥의 코드를 실행\n",
        "- continue: 반복문의 나머지 부분을 건너뛰고, 다음 반복을 시작"
      ],
      "metadata": {
        "id": "fRi4J8eIzJ8X"
      }
    },
    {
      "cell_type": "code",
      "source": [
        "for i in range(5):\n",
        "    if i == 3:\n",
        "        break\n",
        "    print(i,end='')\n",
        "print('\\n\\n')\n",
        "\n",
        "for i in range(5):\n",
        "    if i ==3:\n",
        "        continue\n",
        "    print(i,end='')"
      ],
      "metadata": {
        "colab": {
          "base_uri": "https://localhost:8080/"
        },
        "id": "Imfa_TeNygkn",
        "outputId": "2ba5595b-f30b-4a61-ade0-120207caa28b"
      },
      "execution_count": null,
      "outputs": [
        {
          "output_type": "stream",
          "name": "stdout",
          "text": [
            "012\n",
            "\n",
            "\n",
            "0124"
          ]
        }
      ]
    },
    {
      "cell_type": "code",
      "source": [
        "for i in range(10):\n",
        "    if i == 5:\n",
        "        break\n",
        "    print(i, end = ' ')\n",
        "print('\\n\\n\\n')\n",
        "for i in range(10):\n",
        "    if i % 2 ==0:\n",
        "        continue\n",
        "    print(i, end = ' ')"
      ],
      "metadata": {
        "colab": {
          "base_uri": "https://localhost:8080/"
        },
        "id": "YmPgirf3zrMG",
        "outputId": "8b769868-f1b6-413c-b18d-a3bcf65e9b9f"
      },
      "execution_count": null,
      "outputs": [
        {
          "output_type": "stream",
          "name": "stdout",
          "text": [
            "0 1 2 3 4 \n",
            "\n",
            "\n",
            "\n",
            "1 3 5 7 9 "
          ]
        }
      ]
    },
    {
      "cell_type": "code",
      "source": [
        "# for 또는 while 루프에 else 절을 사용하면, 루프가 정상적으로 완료된 후에 실행할 코드를 지정\n",
        "for i in range(5):\n",
        "    print(i, end=' ')\n",
        "else:\n",
        "    print('\\n루프 완\\n\\n\\n')\n",
        "\n",
        "count = 0\n",
        "while count < 5:\n",
        "    print(count, end = ' ')\n",
        "    count += 1\n",
        "else:\n",
        "    print('\\n루프 완')"
      ],
      "metadata": {
        "colab": {
          "base_uri": "https://localhost:8080/"
        },
        "id": "O3_r9mUk0HNs",
        "outputId": "3c374fc5-7ec4-4506-ee7e-0b5aca3de87c"
      },
      "execution_count": null,
      "outputs": [
        {
          "output_type": "stream",
          "name": "stdout",
          "text": [
            "0 1 2 3 4 \n",
            "루프 완\n",
            "\n",
            "\n",
            "\n",
            "0 1 2 3 4 \n",
            "루프 완\n"
          ]
        }
      ]
    },
    {
      "cell_type": "code",
      "source": [
        "#break 문을 사용하여 루프를 중단하면 else 절은 실행되지 않음\n",
        "for i in range(5):\n",
        "    if i == 3:\n",
        "        print(f'{i}에서 루프를 중단합니다.')\n",
        "        break\n",
        "else:\n",
        "    print('루프가 정상적으로 완료되었습니다')\n"
      ],
      "metadata": {
        "colab": {
          "base_uri": "https://localhost:8080/"
        },
        "id": "DFzXIG190-cD",
        "outputId": "988688ca-aa43-44ec-85fd-1f01a1792186"
      },
      "execution_count": null,
      "outputs": [
        {
          "output_type": "stream",
          "name": "stdout",
          "text": [
            "3에서 루프를 중단합니다.\n"
          ]
        }
      ]
    },
    {
      "cell_type": "markdown",
      "source": [
        "##조건과 반복을 결합"
      ],
      "metadata": {
        "id": "OCgtnDY036xA"
      }
    },
    {
      "cell_type": "code",
      "source": [
        "#홀수만 출력\n",
        "for i in range(10):\n",
        "    if i% 2 !=0:\n",
        "        print(i, end =' ')"
      ],
      "metadata": {
        "colab": {
          "base_uri": "https://localhost:8080/"
        },
        "id": "XhuAujMl3dkA",
        "outputId": "ca646c8f-15a4-4089-d8bb-f373a107d6ad"
      },
      "execution_count": null,
      "outputs": [
        {
          "output_type": "stream",
          "name": "stdout",
          "text": [
            "1 3 5 7 9 "
          ]
        }
      ]
    },
    {
      "cell_type": "code",
      "source": [
        "# Q. 1~10 범위의 정수에서 1부터 5까지만 출력하세요\n",
        "\n",
        "for i in range(1,11):\n",
        "    if i >5:\n",
        "        break\n",
        "\n",
        "    print(i,end = ' ')"
      ],
      "metadata": {
        "colab": {
          "base_uri": "https://localhost:8080/"
        },
        "id": "l7PEx9Sx4DQN",
        "outputId": "1d24638d-fa21-4e2c-b805-45965a44d25c"
      },
      "execution_count": null,
      "outputs": [
        {
          "output_type": "stream",
          "name": "stdout",
          "text": [
            "1 2 3 4 5 6 7 8 9 10 "
          ]
        }
      ]
    },
    {
      "cell_type": "code",
      "source": [
        "# Q. numbers 리스트에서 15,20,25를 출력하세요. (for문과 if 조건 사용 필수)\n",
        "numbers = [5,15,6,20,7,25]\n",
        "output = []\n",
        "\n",
        "for number in numbers:\n",
        "    if number % 5 ==0 and number>5:\n",
        "        output.append(number)\n",
        "\n",
        "print(output)"
      ],
      "metadata": {
        "colab": {
          "base_uri": "https://localhost:8080/"
        },
        "id": "5kRP8twJ4xOZ",
        "outputId": "afdfac76-66b8-40a6-a206-983f5113fca3"
      },
      "execution_count": null,
      "outputs": [
        {
          "output_type": "stream",
          "name": "stdout",
          "text": [
            "[15, 20, 25]\n"
          ]
        }
      ]
    },
    {
      "cell_type": "code",
      "source": [
        "# 특정 조건을 만족할 때까지 반복\n",
        "count = 0\n",
        "while 1:\n",
        "    count += 50\n",
        "    if count>500:\n",
        "        break\n",
        "    print(count)\n",
        "print('루프 끝!')"
      ],
      "metadata": {
        "colab": {
          "base_uri": "https://localhost:8080/"
        },
        "id": "uij1yUDB58r-",
        "outputId": "01d7adae-676b-4501-d8e7-7bc2ed52ffcc"
      },
      "execution_count": null,
      "outputs": [
        {
          "output_type": "stream",
          "name": "stdout",
          "text": [
            "50\n",
            "100\n",
            "150\n",
            "200\n",
            "250\n",
            "300\n",
            "350\n",
            "400\n",
            "450\n",
            "500\n",
            "루프 끝!\n"
          ]
        }
      ]
    },
    {
      "cell_type": "code",
      "source": [
        "#Q. 리스트에서 특정값 찾으면 \"값을 찾았습니다\"를 출력하고 못찾으면 \"값을 찾지 못했습니다.\"를 출력하세요\n",
        "numbers = [1,2,3,4,5]\n",
        "target = 3\n",
        "\n",
        "if target in numbers:\n",
        "    print(f'{target}을 찾았습니다!')\n",
        "else:\n",
        "    print(f'{target}을 찾지 못했습니다!')\n"
      ],
      "metadata": {
        "colab": {
          "base_uri": "https://localhost:8080/"
        },
        "id": "qIsn3G-B-Wzt",
        "outputId": "924be564-4ef0-4506-d388-1a467805f8e0"
      },
      "execution_count": null,
      "outputs": [
        {
          "output_type": "stream",
          "name": "stdout",
          "text": [
            "7을 찾았습니다!\n"
          ]
        }
      ]
    },
    {
      "cell_type": "code",
      "source": [
        "numbers = [1,2,3,4,5]\n",
        "target = 3\n",
        "\n",
        "for i in numbers:\n",
        "    if i == target:\n",
        "        print(f'{target}을 찾았습니다!')\n",
        "        break\n",
        "else:\n",
        "    print(f'{target}을 찾지 못했습니다!')"
      ],
      "metadata": {
        "colab": {
          "base_uri": "https://localhost:8080/"
        },
        "id": "sfKOTh3YAIMb",
        "outputId": "2e4000f2-4b36-479c-a40e-c9362210728a"
      },
      "execution_count": null,
      "outputs": [
        {
          "output_type": "stream",
          "name": "stdout",
          "text": [
            "3을 찾았습니다!\n"
          ]
        }
      ]
    },
    {
      "cell_type": "code",
      "source": [
        "# Q. 1~20 사이의 정수에서 10보다 작은 홀수만 출력\n",
        "\n",
        "for i in range(1,21):\n",
        "    if i <10 and i%2 == 1:\n",
        "        print(i)"
      ],
      "metadata": {
        "colab": {
          "base_uri": "https://localhost:8080/"
        },
        "id": "Rqw8xe7ZC9Zo",
        "outputId": "57abd441-75ad-4a25-c4f2-c225f2bea3d0"
      },
      "execution_count": null,
      "outputs": [
        {
          "output_type": "stream",
          "name": "stdout",
          "text": [
            "1\n",
            "3\n",
            "5\n",
            "7\n",
            "9\n"
          ]
        }
      ]
    },
    {
      "cell_type": "code",
      "source": [
        "# while ~ continue ~ break\n",
        "# 20 보다 작은 정수에서 1 3 5 7 9 만을 출력\n",
        "a = 0\n",
        "while a < 20:\n",
        "    a += 1\n",
        "    if a % 2 ==0:\n",
        "        continue\n",
        "    if a >= 10:\n",
        "        break\n",
        "    print(a, end=' ')"
      ],
      "metadata": {
        "colab": {
          "base_uri": "https://localhost:8080/"
        },
        "id": "pESGApsnDSvV",
        "outputId": "fd0b52d4-5b92-409a-8bc0-5e1c9f969e14"
      },
      "execution_count": null,
      "outputs": [
        {
          "output_type": "stream",
          "name": "stdout",
          "text": [
            "1 3 5 7 9 "
          ]
        }
      ]
    },
    {
      "cell_type": "code",
      "source": [
        "# Q. 정수 1부터 n까지 더할 때 그 합이 1000보다 커지게 되는 n과 합을 구하세요. (while~ break)\n",
        "n = 0\n",
        "total = 0\n",
        "\n",
        "while 1:\n",
        "    n += 1\n",
        "    total = total + n\n",
        "\n",
        "    if total > 1000:\n",
        "        print(f'{n}일때 합이 1000이상입니다')\n",
        "        print(total)\n",
        "        break"
      ],
      "metadata": {
        "colab": {
          "base_uri": "https://localhost:8080/"
        },
        "id": "xLybOSoJE354",
        "outputId": "65abe221-2565-4538-93a9-51c39463d1ee"
      },
      "execution_count": null,
      "outputs": [
        {
          "output_type": "stream",
          "name": "stdout",
          "text": [
            "45일때 합이 1000이상입니다\n",
            "1035\n"
          ]
        }
      ]
    },
    {
      "cell_type": "code",
      "source": [
        "#예시\n",
        "x = 0\n",
        "sum = 0\n",
        "while sum < 1000:\n",
        "    x+=1\n",
        "    sum += x\n",
        "print(x)\n",
        "print(sum)"
      ],
      "metadata": {
        "colab": {
          "base_uri": "https://localhost:8080/"
        },
        "id": "7U3zkKR_bg3U",
        "outputId": "d9e5edb7-3857-4bf6-e21b-9f26a0030f98"
      },
      "execution_count": null,
      "outputs": [
        {
          "output_type": "stream",
          "name": "stdout",
          "text": [
            "45\n",
            "1035\n"
          ]
        }
      ]
    },
    {
      "cell_type": "code",
      "source": [
        "# Q. while 문을 사용해 1 부터 1000까지의 정수 중 3의 배수의 합을 구해보세요.\n",
        "i = 0\n",
        "sum = 0\n",
        "while 1:\n",
        "    i+= 1\n",
        "    if i % 3 ==0:\n",
        "        sum += i\n",
        "    if i>1000:\n",
        "        break\n",
        "\n",
        "print(sum)"
      ],
      "metadata": {
        "colab": {
          "base_uri": "https://localhost:8080/"
        },
        "id": "ok3u5b5JF8U0",
        "outputId": "9e9f4ff3-7cc7-4a01-f4a9-e501adb99de6"
      },
      "execution_count": null,
      "outputs": [
        {
          "output_type": "stream",
          "name": "stdout",
          "text": [
            "166833\n"
          ]
        }
      ]
    },
    {
      "cell_type": "code",
      "source": [
        "#예시\n",
        "i = 0\n",
        "sum = 0\n",
        "while i<1000:\n",
        "    i+= 1\n",
        "    if i % 3 ==0:\n",
        "        sum += i\n",
        "\n",
        "print(sum)"
      ],
      "metadata": {
        "colab": {
          "base_uri": "https://localhost:8080/"
        },
        "id": "UYYmXE2ZdQSi",
        "outputId": "8bfe18a8-309a-4e2c-fc13-42084908840b"
      },
      "execution_count": null,
      "outputs": [
        {
          "output_type": "stream",
          "name": "stdout",
          "text": [
            "166833\n"
          ]
        }
      ]
    },
    {
      "cell_type": "code",
      "source": [
        "#예시\n",
        "n = 3\n",
        "sum = 0\n",
        "while n <= 1000:\n",
        "    sum += n\n",
        "    n+= 3\n",
        "print(sum)"
      ],
      "metadata": {
        "colab": {
          "base_uri": "https://localhost:8080/"
        },
        "id": "T-mKV4ZTfNj9",
        "outputId": "05b809ed-0738-45c7-9032-9e2194435927"
      },
      "execution_count": null,
      "outputs": [
        {
          "output_type": "stream",
          "name": "stdout",
          "text": [
            "166833\n"
          ]
        }
      ]
    },
    {
      "cell_type": "code",
      "source": [
        "# Q. 정수를 입력하면 홀수 짝수를 판별하는 프로그램 작성\n",
        "\n",
        "i = int(input(\"숫자 입력 :\"))\n",
        "\n",
        "if i % 2 == 0:\n",
        "    print('짝수')\n",
        "else:\n",
        "    print('홀수')"
      ],
      "metadata": {
        "colab": {
          "base_uri": "https://localhost:8080/"
        },
        "id": "AEXyLKfkF8ig",
        "outputId": "80cb7d9e-6239-4c86-a0e1-3a7bbbc5bc0e"
      },
      "execution_count": null,
      "outputs": [
        {
          "output_type": "stream",
          "name": "stdout",
          "text": [
            "숫자 입력 :55551\n",
            "홀수\n"
          ]
        }
      ]
    },
    {
      "cell_type": "code",
      "source": [
        "# 예외처리\n",
        "while True:\n",
        "    try:\n",
        "        i = int(input(\"숫자 입력 :\"))\n",
        "\n",
        "        if i % 2 == 0:\n",
        "            print('짝수')\n",
        "            break\n",
        "        else:\n",
        "            print('홀수')\n",
        "            break\n",
        "    except ValueError:\n",
        "        print('정수를 입력하세요')"
      ],
      "metadata": {
        "colab": {
          "base_uri": "https://localhost:8080/"
        },
        "id": "14DL5wNpHV9V",
        "outputId": "1cc5d9a2-e460-4e08-9b0d-32213e46d7a6"
      },
      "execution_count": null,
      "outputs": [
        {
          "output_type": "stream",
          "name": "stdout",
          "text": [
            "숫자 입력 :sa\n",
            "정수를 입력하세요\n",
            "숫자 입력 :1\n",
            "홀수\n"
          ]
        }
      ]
    },
    {
      "cell_type": "code",
      "source": [
        "# 예외처리\n",
        "while True:\n",
        "    try:\n",
        "        i = int(input(\"숫자 입력 :\"))\n",
        "        break\n",
        "\n",
        "    except ValueError:\n",
        "        print('정수를 입력하세요')\n",
        "\n",
        "if i % 2 == 0:\n",
        "    print('짝수')\n",
        "else:\n",
        "    print('홀수')\n"
      ],
      "metadata": {
        "colab": {
          "base_uri": "https://localhost:8080/"
        },
        "id": "aKpvgCT8hk0J",
        "outputId": "315f6fd0-eebf-4fb6-8ca5-3b212ef6f893"
      },
      "execution_count": null,
      "outputs": [
        {
          "output_type": "stream",
          "name": "stdout",
          "text": [
            "숫자 입력 :asd\n",
            "정수를 입력하세요\n",
            "숫자 입력 :1\n",
            "홀수\n"
          ]
        }
      ]
    },
    {
      "cell_type": "code",
      "source": [
        "# Q. 입력받은 문자열의 각 문자를 그 다음 문자로 변경하여 출력하세요. (ABC -> BCA)\n",
        "main = []\n",
        "main = input('입력 :')\n",
        "\n",
        "main = main.split()\n",
        "\n",
        "print(main)\n"
      ],
      "metadata": {
        "colab": {
          "base_uri": "https://localhost:8080/"
        },
        "id": "EQ7_G42jiv1j",
        "outputId": "36de3c48-f5a8-4c8a-d0b0-a791d19bfb10"
      },
      "execution_count": null,
      "outputs": [
        {
          "output_type": "stream",
          "name": "stdout",
          "text": [
            "입력 :sdfsdf\n",
            "['sdfsdf']\n"
          ]
        }
      ]
    },
    {
      "cell_type": "code",
      "source": [
        "data = input(\"입력 :\")\n",
        "#string은 인덱싱이 가능함\n",
        "for i in range(len(data)):\n",
        "    if i ==0:\n",
        "        continue\n",
        "    print(data[i],end='')\n",
        "else:\n",
        "    print(data[0])"
      ],
      "metadata": {
        "colab": {
          "base_uri": "https://localhost:8080/"
        },
        "id": "ChUKQc4cmHNi",
        "outputId": "b8bc71c0-0d70-46c7-e864-7d82e606c2f7"
      },
      "execution_count": null,
      "outputs": [
        {
          "output_type": "stream",
          "name": "stdout",
          "text": [
            "입력 :asdasdasd\n",
            "sdasdasda\n"
          ]
        }
      ]
    },
    {
      "cell_type": "markdown",
      "source": [
        "###zip() 함수 <= 매우 중요\n",
        "- 여러 개의 이터러블(리스트, 튜플 등)을 인자로 받아, 동일한 인덱스에 있는 요소들을 하나의 튜플로 묶어서 이터레이터를 반환\n",
        "- 데이터를 병렬로 처리할 때 유용"
      ],
      "metadata": {
        "id": "4zc5JJGtnHZ3"
      }
    },
    {
      "cell_type": "code",
      "source": [
        "list1 = [1,2,3,4]\n",
        "list2 = ['a','b','c','d']\n",
        "\n",
        "zipped = zip(list1, list2)\n",
        "print(list(zipped))"
      ],
      "metadata": {
        "colab": {
          "base_uri": "https://localhost:8080/"
        },
        "id": "Xopj55y-l6lI",
        "outputId": "6037526e-21fc-4c96-a87f-5402abdd242b"
      },
      "execution_count": null,
      "outputs": [
        {
          "output_type": "stream",
          "name": "stdout",
          "text": [
            "[(1, 'a'), (2, 'b'), (3, 'c'), (4, 'd')]\n"
          ]
        }
      ]
    },
    {
      "cell_type": "code",
      "source": [
        "# Q. 두 개의 리스트(이름과 성)를 사용하여 각 사람의 전체 이름을 생성하세요.\n",
        "first_names =[\"John\", \"Jane\",\"Corey\",\"Travis\"]\n",
        "last_names = [\"Doe\", \"Smith\", \"Turner\", \"Williams\"]\n",
        "\n",
        "comb = zip(first_names, last_names)\n",
        "comb_list = list(comb)\n",
        "\n",
        "for i in comb_list:\n",
        "    print(i[0],i[1])"
      ],
      "metadata": {
        "colab": {
          "base_uri": "https://localhost:8080/"
        },
        "id": "NBSs7Cf1nmUT",
        "outputId": "e3f91671-2c6c-4a77-cb3b-e2db9469dd66"
      },
      "execution_count": null,
      "outputs": [
        {
          "output_type": "stream",
          "name": "stdout",
          "text": [
            "John Doe\n",
            "Jane Smith\n",
            "Corey Turner\n",
            "Travis Williams\n"
          ]
        }
      ]
    },
    {
      "cell_type": "code",
      "source": [
        "# 예시\n",
        "first_names =[\"John\", \"Jane\",\"Corey\",\"Travis\"]\n",
        "last_names = [\"Doe\", \"Smith\", \"Turner\", \"Williams\"]\n",
        "\n",
        "full_name = [first + \" \" + last for first, last in zip(first_names, last_names)]\n",
        "print(full_name)"
      ],
      "metadata": {
        "colab": {
          "base_uri": "https://localhost:8080/"
        },
        "id": "-cB9bBkcpkZ-",
        "outputId": "8749076c-1164-48dc-9438-0fb80d239a9f"
      },
      "execution_count": null,
      "outputs": [
        {
          "output_type": "stream",
          "name": "stdout",
          "text": [
            "['John Doe', 'Jane Smith', 'Corey Turner', 'Travis Williams']\n"
          ]
        }
      ]
    },
    {
      "cell_type": "code",
      "source": [
        "# Q. 학생들의 수학과 영어 점수를 각각의 리스트로 받아 평균 점수를 계산하세요.\n",
        "math_scores = [88,92,79,93,85]\n",
        "english_scores = [90,91,85,88,86]\n",
        "\n",
        "average_score = [(math + englisg) / 2 for math, englisg in zip(math_scores, english_scores)]\n",
        "print(average_score)"
      ],
      "metadata": {
        "colab": {
          "base_uri": "https://localhost:8080/"
        },
        "id": "ozhGNO5DoiNL",
        "outputId": "8af7f1ed-abc1-4296-80ed-b4818e581a3c"
      },
      "execution_count": null,
      "outputs": [
        {
          "output_type": "stream",
          "name": "stdout",
          "text": [
            "[89.0, 91.5, 82.0, 90.5, 85.5]\n"
          ]
        }
      ]
    },
    {
      "cell_type": "code",
      "source": [
        "# Q. 상품 이름과 가격이 각각 다른 리스트에 저장되어 있을 때, 상품명과 가격을 튜플로 묶어 출력하세요\n",
        "products = [\"apple\", \"banana\", \"cherry\"]\n",
        "prices = [1.2 , 0.5, 2.5]\n",
        "\n",
        "for product, price in zip(products, prices):\n",
        "    print(f'상품명: {product} \\n가격: {price}$')\n"
      ],
      "metadata": {
        "colab": {
          "base_uri": "https://localhost:8080/"
        },
        "id": "XTQ-XogIo7-d",
        "outputId": "77b1a414-9110-4f98-cc14-d3d9c6099649"
      },
      "execution_count": null,
      "outputs": [
        {
          "output_type": "stream",
          "name": "stdout",
          "text": [
            "상품명: apple \n",
            "가격: 1.2$\n",
            "상품명: banana \n",
            "가격: 0.5$\n",
            "상품명: cherry \n",
            "가격: 2.5$\n"
          ]
        }
      ]
    },
    {
      "cell_type": "markdown",
      "source": [
        "#### 파이썬의 random 모듈\n",
        "난수를 생성하기 위한 다양한 함수를 제공\n",
        "- 기본 난수 생성:\n",
        "  - random.random(): 0과 1 사이의 무작위 부동소수점 숫자를 반환.\n",
        "- 범위 지정 난수 생성:\n",
        "  - random.randint(a, b): a와 b 사이의 무작위 정수를 반환(b 포함).\n",
        "  - random.randrange(start, stop[, step]): 지정된 범위에서 무작위 정수를 반환. step을 설정하여 수의 간격을 조정할 수 있다.\n",
        "- 시퀀스용 함수:\n",
        "  - random.choice(sequence): 주어진 시퀀스(리스트, 튜플 등)에서 무작위로 아이템을 선택하여 반환.\n",
        "  - random.shuffle(x[, random]): 리스트의 항목들을 무작위로 섞는다. random은 섞기를 위한 함수를 커스텀할 때 사용.\n",
        "  - random.sample(population, k): 주어진 시퀀스에서 무작위로 k개의 항목을 뽑아 새 리스트로 반환.\n",
        "- 분포 기반 난수 생성:\n",
        "  - random.uniform(a, b): a와 b 사이의 무작위 부동소수점 숫자를 균등 분포로 반환.\n",
        "  - random.gauss(mu, sigma): 평균 mu와 표준편차 sigma를 가지는 정규 분포에서 난수를 반환."
      ],
      "metadata": {
        "id": "RnglzGNLrVQj"
      }
    },
    {
      "cell_type": "code",
      "source": [
        "import random as rd\n",
        "\n",
        "print(rd.random())\n",
        "\n",
        "print(rd.randint(1,10))\n",
        "\n",
        "items = [1,2,3,4,5]\n",
        "print(rd.choice(items))\n",
        "\n",
        "rd.shuffle(items)\n",
        "print(items)\n",
        "\n",
        "mean = 0\n",
        "std_dev = 1\n",
        "\n",
        "print(rd.gauss(mean, std_dev))"
      ],
      "metadata": {
        "colab": {
          "base_uri": "https://localhost:8080/"
        },
        "id": "gEMfhk1ArKUw",
        "outputId": "ee00aad5-55a9-4bb8-bf8f-8b27bbb4a381"
      },
      "execution_count": null,
      "outputs": [
        {
          "output_type": "stream",
          "name": "stdout",
          "text": [
            "0.15438368392969626\n",
            "10\n",
            "3\n",
            "[5, 2, 4, 1, 3]\n",
            "0.5687674807169455\n"
          ]
        }
      ]
    },
    {
      "cell_type": "code",
      "source": [
        "from random import shuffle as sh\n",
        "# from ~~~ import ~~로 random.shuffle()같은걸 그냥 shuffle()로 줄여쓰기 가능\n",
        "male = ['철수','갑돌','로미오','이몽룡','온돌']\n",
        "for i in range(11):\n",
        "    sh(male)\n",
        "    print(male)"
      ],
      "metadata": {
        "colab": {
          "base_uri": "https://localhost:8080/"
        },
        "id": "F3YFRS0VuiVr",
        "outputId": "b32307d3-446a-461d-9df0-6e476f2fca6d"
      },
      "execution_count": null,
      "outputs": [
        {
          "output_type": "stream",
          "name": "stdout",
          "text": [
            "['로미오', '이몽룡', '온돌', '철수', '갑돌']\n",
            "['이몽룡', '갑돌', '철수', '로미오', '온돌']\n",
            "['이몽룡', '철수', '온돌', '갑돌', '로미오']\n",
            "['이몽룡', '온돌', '로미오', '갑돌', '철수']\n",
            "['갑돌', '철수', '온돌', '이몽룡', '로미오']\n",
            "['철수', '갑돌', '로미오', '이몽룡', '온돌']\n",
            "['갑돌', '이몽룡', '철수', '온돌', '로미오']\n",
            "['온돌', '철수', '갑돌', '로미오', '이몽룡']\n",
            "['갑돌', '온돌', '철수', '이몽룡', '로미오']\n",
            "['온돌', '갑돌', '철수', '로미오', '이몽룡']\n",
            "['철수', '온돌', '이몽룡', '갑돌', '로미오']\n"
          ]
        }
      ]
    },
    {
      "cell_type": "markdown",
      "source": [
        "f-string내에서 {}안에는 변수 뿐만 아니라 Python 표현식도 올 수 있음."
      ],
      "metadata": {
        "id": "paHj184KGe_p"
      }
    },
    {
      "cell_type": "markdown",
      "source": [
        "표현식(Expression)\n",
        "- 하나 이상의 값, 변수, 연산자, 함수 호출 등을 조합하여 평가(evaluate)될 때 값을 생성하거나 반환하는 코드\n",
        "- 표현식은 계산되어 값이 되는 모든 것을 의미\n",
        "\n",
        "표현식의 예시:\n",
        "- 수치 계산: 2 + 3는 5라는 값을 반환\n",
        "- 문자열 조합: \"Hello \" + \"World\"는 \"Hello World\"라는 문자열을 생성\n",
        "- 논리 연산: x > 5는 x의 값에 따라 True 또는 False를 반환\n",
        "- 함수 호출: sum([1, 2, 3])은 리스트의 합인 6을 반환\n",
        "- 조건식: x if x > 0 else -x는 x가 양수면 x를, 음수면 -x를 반환"
      ],
      "metadata": {
        "id": "ERBDu8V1Gczf"
      }
    },
    {
      "cell_type": "code",
      "source": [
        "# Q. 로또 번호 6개를 6세트 출력하는 코드를 작성하세요.(중복 안됨)\n",
        "import random\n",
        "\n",
        "main = [ a for a in range(1,46)]\n",
        "for i in range(6):\n",
        "    sample = random.sample(main,6)\n",
        "    sample.sort()\n",
        "    print(sample)\n"
      ],
      "metadata": {
        "id": "-Lg-ix1owjHM",
        "colab": {
          "base_uri": "https://localhost:8080/"
        },
        "outputId": "c0890a70-b19d-4274-dfe9-cd8ea2b99750"
      },
      "execution_count": null,
      "outputs": [
        {
          "output_type": "stream",
          "name": "stdout",
          "text": [
            "[6, 16, 23, 24, 31, 44]\n",
            "[11, 14, 18, 28, 30, 40]\n",
            "[1, 8, 14, 31, 44, 45]\n",
            "[3, 8, 20, 25, 35, 37]\n",
            "[8, 14, 16, 21, 22, 41]\n",
            "[7, 9, 10, 29, 38, 43]\n"
          ]
        }
      ]
    },
    {
      "cell_type": "code",
      "source": [
        "# Q. n개의 그룹으로 분류하는 코드를 작성하세요.\n",
        "kita = ['김성현','황강민','윤호준','류윤선','이상협','박지환','최환욱','서보선','김한결','김도현','김하준', '김도원','신현진','소지승','이범석','이현석','이명신','박윤경','이도헌','김홍준']\n",
        "random.shuffle(kita)\n",
        "\n",
        "n = int(input('몇개의 조로 나눌까요? :'))\n",
        "print(kita)\n",
        "groups = [kita[i::n] for i in range(n)]\n",
        "print(groups)\n",
        "for idx, group in enumerate(groups):\n",
        "    print(f\"그룹 {idx +1 }: {group}\")"
      ],
      "metadata": {
        "id": "Wa9di_ZlwCT4",
        "colab": {
          "base_uri": "https://localhost:8080/"
        },
        "outputId": "8a8fe8d9-5ffc-4da0-89ff-e9239a23ba9a"
      },
      "execution_count": null,
      "outputs": [
        {
          "output_type": "stream",
          "name": "stdout",
          "text": [
            "몇개의 조로 나눌까요? :5\n",
            "['최환욱', '황강민', '윤호준', '박지환', '소지승', '김홍준', '서보선', '류윤선', '김도원', '이도헌', '김도현', '신현진', '박윤경', '김성현', '이상협', '이범석', '이명신', '김하준', '이현석', '김한결']\n",
            "[['최환욱', '김홍준', '김도현', '이범석'], ['황강민', '서보선', '신현진', '이명신'], ['윤호준', '류윤선', '박윤경', '김하준'], ['박지환', '김도원', '김성현', '이현석'], ['소지승', '이도헌', '이상협', '김한결']]\n",
            "그룹 1: ['최환욱', '김홍준', '김도현', '이범석']\n",
            "그룹 2: ['황강민', '서보선', '신현진', '이명신']\n",
            "그룹 3: ['윤호준', '류윤선', '박윤경', '김하준']\n",
            "그룹 4: ['박지환', '김도원', '김성현', '이현석']\n",
            "그룹 5: ['소지승', '이도헌', '이상협', '김한결']\n"
          ]
        }
      ]
    },
    {
      "cell_type": "code",
      "source": [
        "for i in range(5):\n",
        "    print(i)"
      ],
      "metadata": {
        "colab": {
          "base_uri": "https://localhost:8080/"
        },
        "id": "S7_8fLuEwBYV",
        "outputId": "fb52d8e6-65ca-4a2b-c02d-c4b1cd792865"
      },
      "execution_count": null,
      "outputs": [
        {
          "output_type": "stream",
          "name": "stdout",
          "text": [
            "0\n",
            "1\n",
            "2\n",
            "3\n",
            "4\n"
          ]
        }
      ]
    },
    {
      "cell_type": "code",
      "source": [
        "# Q. 1부터 100까지의 정수중 5에서 95까지의 합을 구하세요.\n",
        "sum = 0\n",
        "for i in range(5,96):\n",
        "    sum += i\n",
        "\n",
        "print(sum)"
      ],
      "metadata": {
        "colab": {
          "base_uri": "https://localhost:8080/"
        },
        "id": "aUpQz1IOTghe",
        "outputId": "30316f1c-169b-4573-826e-aa137fdd7105"
      },
      "execution_count": null,
      "outputs": [
        {
          "output_type": "stream",
          "name": "stdout",
          "text": [
            "4550\n"
          ]
        }
      ]
    },
    {
      "cell_type": "code",
      "source": [
        "sum=0\n",
        "i = 1\n",
        "while i <= 100:\n",
        "    if i>=5 and i <=95:\n",
        "        sum +=i\n",
        "    i += 1\n",
        "\n",
        "print(sum)"
      ],
      "metadata": {
        "colab": {
          "base_uri": "https://localhost:8080/"
        },
        "id": "jfv0I4WzvTEu",
        "outputId": "7a6d86a5-13f6-47e2-938f-1cd548c4ec70"
      },
      "execution_count": null,
      "outputs": [
        {
          "output_type": "stream",
          "name": "stdout",
          "text": [
            "4550\n"
          ]
        }
      ]
    },
    {
      "cell_type": "code",
      "source": [
        "# Q. while문을 사용해 1부터 1000까지의 정수 중 3과 5의 공배수의 합을 구해보세요.\n",
        "n = 1\n",
        "sum = 0\n",
        "while n <1000:\n",
        "    if n%3==0:\n",
        "        if n%5==0:\n",
        "            sum += n\n",
        "    n +=1\n",
        "\n",
        "print(sum)"
      ],
      "metadata": {
        "colab": {
          "base_uri": "https://localhost:8080/"
        },
        "id": "cJnbG7hVTljz",
        "outputId": "58e5f6e0-cec7-4856-f895-2f99e57f8538"
      },
      "execution_count": null,
      "outputs": [
        {
          "output_type": "stream",
          "name": "stdout",
          "text": [
            "33165\n"
          ]
        }
      ]
    },
    {
      "cell_type": "code",
      "source": [
        "# Q. 현재 시각을 오전과 오후로 구분하는 프로그램을 작성하세요.\n",
        "\n",
        "import time as tm\n",
        "\n",
        "now_time = tm.localtime()\n",
        "if now_time[3]>2 and now_time[3]<14:\n",
        "    print('오후입니다')\n",
        "else:\n",
        "    print('오전띠')\n"
      ],
      "metadata": {
        "colab": {
          "base_uri": "https://localhost:8080/"
        },
        "id": "D_R14f5oTriq",
        "outputId": "ae5a042e-a39b-476f-b9de-b993df5e41c8"
      },
      "execution_count": null,
      "outputs": [
        {
          "output_type": "stream",
          "name": "stdout",
          "text": [
            "오후입니다\n"
          ]
        }
      ]
    },
    {
      "cell_type": "code",
      "source": [
        "import datetime\n",
        "import pytz\n",
        "tz = pytz.timezone('Asia/Seoul')\n",
        "now = datetime.datetime.now(tz)\n",
        "now_time = now.hour\n",
        "now_time\n",
        "if now_time >=12:\n",
        "    print('오후')\n",
        "else:\n",
        "    print('오전')"
      ],
      "metadata": {
        "colab": {
          "base_uri": "https://localhost:8080/"
        },
        "id": "VyiyAoU-wfZV",
        "outputId": "01cd4dc7-3c17-4730-e1ce-6d1f215a9e45"
      },
      "execution_count": null,
      "outputs": [
        {
          "output_type": "stream",
          "name": "stdout",
          "text": [
            "오후\n"
          ]
        }
      ]
    },
    {
      "cell_type": "code",
      "source": [
        "#다양한 오류 입력에 대한 해결방안 추가 필요\n",
        "time = input('현재 시간을 입력하세요(ex : 08시 30분 ,16시): ')\n",
        "\n",
        "if '시' not in time:\n",
        "    print(\"형식에 맞게 입력하세요\")\n",
        "elif int(time.split('시')[0]) >= 0 and int(time.split('시')[0])<12:\n",
        "    print('오전입니다')\n",
        "elif int(time.split('시')[0]) >= 12 and int(time.split('시')[0])<24:\n",
        "    print('오후입니다')\n",
        "else:\n",
        "    print('시간을 다시 입력해 주세요.')"
      ],
      "metadata": {
        "colab": {
          "base_uri": "https://localhost:8080/"
        },
        "id": "R9WbhmrLynh1",
        "outputId": "64204f74-efee-4e31-bf13-aea271b30758"
      },
      "execution_count": null,
      "outputs": [
        {
          "output_type": "stream",
          "name": "stdout",
          "text": [
            "현재 시간을 입력하세요(ex : 08시 30분 ,16시): 13시\n",
            "오후입니다\n"
          ]
        }
      ]
    },
    {
      "cell_type": "markdown",
      "source": [
        "pop 함수\n",
        " - 리스트와 같은 자료 구조에서 주로 사용되는 함수\n",
        " - 이 함수는 특정 인덱스에 위치한 요소를 리스트에서 제거하고 해당 요소를 반환"
      ],
      "metadata": {
        "id": "0BWPfqTl2WlT"
      }
    },
    {
      "cell_type": "code",
      "source": [
        "fruits = ['apple', 'banana', 'cherry', 'data']\n",
        "\n",
        "removed_fruit = fruits.pop(2)\n",
        "print(removed_fruit)\n",
        "print(fruits)\n",
        "\n",
        "last_fruit = fruits.pop()\n",
        "print(last_fruit)\n",
        "print(fruits)"
      ],
      "metadata": {
        "colab": {
          "base_uri": "https://localhost:8080/"
        },
        "id": "tQOvLfY72J4a",
        "outputId": "7ae675a4-660f-4a9a-b094-a0d74a23fa0f"
      },
      "execution_count": null,
      "outputs": [
        {
          "output_type": "stream",
          "name": "stdout",
          "text": [
            "cherry\n",
            "['apple', 'banana', 'data']\n",
            "data\n",
            "['apple', 'banana']\n"
          ]
        }
      ]
    },
    {
      "cell_type": "code",
      "source": [
        "# Q. 가위 바위 보 게임을 프로그래밍 하세요\n",
        "import random\n",
        "sorce = ['가위', '바위', '보'] # 0 1 2 0\n",
        "score = 0\n",
        "cpu = 0\n",
        "player = 0\n",
        "while True:\n",
        "    computers_choice = random.choice(sorce)\n",
        "\n",
        "    if score ==3:\n",
        "        break\n",
        "\n",
        "    players_choice = input('가위 바위 보 중 하나를 입력하세요 : ')\n",
        "\n",
        "    if computers_choice == players_choice:\n",
        "        print(f'컴퓨터의 선택 : {computers_choice}   당신의 선택 : {players_choice} [비겼습니다!]')\n",
        "\n",
        "    elif (computers_choice== '가위' and players_choice == '바위') or (computers_choice== '바위' and players_choice == '보') or (computers_choice== '보' and players_choice == '가위'):\n",
        "        print(f'컴퓨터의 선택 : {computers_choice}   당신의 선택 : {players_choice} [승리했습니다!]')\n",
        "        score += 1\n",
        "    else:\n",
        "        print(f'컴퓨터의 선택 : {computers_choice}   당신의 선택 : {players_choice} [패배했습니다!]')\n"
      ],
      "metadata": {
        "colab": {
          "base_uri": "https://localhost:8080/"
        },
        "id": "0aG7EBx2-6AX",
        "outputId": "a3bed415-4a18-4bef-a910-30c0b5d8437a"
      },
      "execution_count": null,
      "outputs": [
        {
          "output_type": "stream",
          "name": "stdout",
          "text": [
            "가위 바위 보 중 하나를 입력하세요 : 가위\n",
            "컴퓨터의 선택 : 바위   당신의 선택 : 가위 [패배했습니다!]\n",
            "가위 바위 보 중 하나를 입력하세요 : 가위\n",
            "컴퓨터의 선택 : 가위   당신의 선택 : 가위 [비겼습니다!]\n",
            "가위 바위 보 중 하나를 입력하세요 : 가위\n",
            "컴퓨터의 선택 : 바위   당신의 선택 : 가위 [패배했습니다!]\n",
            "가위 바위 보 중 하나를 입력하세요 : 바위\n",
            "컴퓨터의 선택 : 보   당신의 선택 : 바위 [패배했습니다!]\n",
            "가위 바위 보 중 하나를 입력하세요 : 보\n",
            "컴퓨터의 선택 : 보   당신의 선택 : 보 [비겼습니다!]\n",
            "가위 바위 보 중 하나를 입력하세요 : 보\n",
            "컴퓨터의 선택 : 가위   당신의 선택 : 보 [패배했습니다!]\n",
            "가위 바위 보 중 하나를 입력하세요 : 가위\n",
            "컴퓨터의 선택 : 보   당신의 선택 : 가위 [승리했습니다!]\n",
            "가위 바위 보 중 하나를 입력하세요 : 바위\n",
            "컴퓨터의 선택 : 바위   당신의 선택 : 바위 [비겼습니다!]\n",
            "가위 바위 보 중 하나를 입력하세요 : 바위\n",
            "컴퓨터의 선택 : 바위   당신의 선택 : 바위 [비겼습니다!]\n",
            "가위 바위 보 중 하나를 입력하세요 : 가위\n",
            "컴퓨터의 선택 : 보   당신의 선택 : 가위 [승리했습니다!]\n",
            "가위 바위 보 중 하나를 입력하세요 : 가위\n",
            "컴퓨터의 선택 : 보   당신의 선택 : 가위 [승리했습니다!]\n"
          ]
        }
      ]
    },
    {
      "cell_type": "markdown",
      "source": [
        "인덱싱을 활용할것"
      ],
      "metadata": {
        "id": "ts2t8zzxEqPw"
      }
    },
    {
      "cell_type": "code",
      "source": [
        "\n",
        "import random\n",
        "\n",
        "cpu = ['가위', '바위', '보']\n",
        "\n",
        "win = [('가위','바위'),('바위','보'),('보','가위')]\n",
        "\n",
        "while 1:\n",
        "    cpu_select = random.choice(cpu)\n",
        "    human = input(\"무엇을 내시겠습니까? :\")\n",
        "    if cpu_select == human:\n",
        "        print(\"비겼습니다.\")\n",
        "    elif (cpu_select, human) in win:\n",
        "        print(\"이겼습니다.\")\n",
        "    else:\n",
        "        print(\"졌습니다.\")"
      ],
      "metadata": {
        "id": "rwaDQg9DB9uT"
      },
      "execution_count": null,
      "outputs": []
    },
    {
      "cell_type": "code",
      "source": [
        "def main_menu(food_dic):\n",
        "    print('KITA식당에 오신것을 환영합니다\\n')\n",
        "    print('========================================\\n')\n",
        "    for i in range(1,len(food_dic)+1):\n",
        "        print(f'{i}. {food_dic[i][0]} : {food_dic[i][1]}원')\n",
        "\n",
        "    print('세트 주문시 : 3000원 추가\\n(세트는 밥과 반찬이 추가됩니다.)')\n",
        "    print('\\n========================================\\n')\n",
        "\n",
        "food_dic = {1:['불고기 비빔밥', 12000] , 2:['야채 비빔밥',8000],3:['전주 비빔밥', 10000]}\n",
        "\n",
        "main_menu(food_dic)\n",
        "total = 0\n",
        "choose_num = int(input('비빔밥 메뉴를 선택해 주세요. 1, 2, 3 >>>'))\n",
        "total += food_dic[choose_num][1]\n",
        "choose_set = input('세트 주문을 하시겠습니까? 3,000원 추가. y, n >>>')\n",
        "if choose_set == 'y':\n",
        "    total += 3000\n",
        "print(f'총 금액은 {total}원 입니다')"
      ],
      "metadata": {
        "id": "DREUoScUDB0E",
        "colab": {
          "base_uri": "https://localhost:8080/"
        },
        "outputId": "402aa7b8-7c52-4d36-daaa-4fd829f9a4a2"
      },
      "execution_count": 19,
      "outputs": [
        {
          "output_type": "stream",
          "name": "stdout",
          "text": [
            "KITA식당에 오신것을 환영합니다\n",
            "\n",
            "========================================\n",
            "\n",
            "1. 불고기 비빔밥 : 12000원\n",
            "2. 야채 비빔밥 : 8000원\n",
            "3. 전주 비빔밥 : 10000원\n",
            "세트 주문시 : 3000원 추가\n",
            "(세트는 밥과 반찬이 추가됩니다.)\n",
            "\n",
            "========================================\n",
            "\n",
            "비빔밥 메뉴를 선택해 주세요. 1, 2, 3 >>>1\n",
            "세트 주문을 하시겠습니까? 3,000원 추가. y, n >>>y\n",
            "총 금액은 15000원 입니다\n"
          ]
        }
      ]
    },
    {
      "cell_type": "code",
      "source": [
        "def main():\n",
        "    print(\"KITA 식당에 오신 것을 환영합니다\")\n",
        "    print(\"\\n\" + \"=\" * 40)\n",
        "    print(\"\\n          - 메  뉴 -\")\n",
        "    print(\"    1. 불고기 비빔밥 : 12,000원\")\n",
        "    print(\"    2. 야채 비빔밥 : 8,000원\")\n",
        "    print(\"    3. 전주 비빔밥 : 10,000원\")\n",
        "    print(\"\\n    세트 주문시 : 3,000원 추가\")\n",
        "    print(\"    (세트는 밥과 반찬이 추가됩니다.)\")\n",
        "    print(\"\\n\" + \"=\" * 40)\n",
        "\n",
        "    # 사용자로부터 메뉴 선택을 받는다.\n",
        "    menu_choice = int(input(\"\\n비빔밥 메뉴를 선택해 주세요. 1, 2, 3 >>> \"))\n",
        "\n",
        "    # 메뉴별 가격을 설정한다.\n",
        "    prices = {1: 12000, 2: 8000, 3: 10000}\n",
        "\n",
        "    # 사용자가 선택한 메뉴의 가격을 가져온다.\n",
        "    total_price = prices.get(menu_choice, 0)\n",
        "\n",
        "    # 세트 주문 여부를 확인한다.\n",
        "    set_order = input(\"세트 주문을 하시겠습니까? 3,000원 추가. y, n >>> \").lower()\n",
        "    if set_order == 'y':\n",
        "        total_price += 3000\n",
        "\n",
        "    print(f\"총 금액은 {total_price}원 입니다.\")\n",
        "\n",
        "if __name__ == \"__main__\":\n",
        "    main()"
      ],
      "metadata": {
        "colab": {
          "base_uri": "https://localhost:8080/"
        },
        "id": "SduaJgrvQ9dv",
        "outputId": "1168c685-8da1-4397-cd40-cf6c4982bb9b"
      },
      "execution_count": 14,
      "outputs": [
        {
          "output_type": "stream",
          "name": "stdout",
          "text": [
            "KITA 식당에 오신 것을 환영합니다\n",
            "\n",
            "========================================\n",
            "\n",
            "          - 메  뉴 -\n",
            "    1. 불고기 비빔밥 : 12,000원\n",
            "    2. 야채 비빔밥 : 8,000원\n",
            "    3. 전주 비빔밥 : 10,000원\n",
            "\n",
            "    세트 주문시 : 3,000원 추가\n",
            "    (세트는 밥과 반찬이 추가됩니다.)\n",
            "\n",
            "========================================\n",
            "\n",
            "비빔밥 메뉴를 선택해 주세요. 1, 2, 3 >>> 3\n",
            "세트 주문을 하시겠습니까? 3,000원 추가. y, n >>> y\n",
            "총 금액은 13000원 입니다.\n"
          ]
        }
      ]
    },
    {
      "cell_type": "markdown",
      "source": [
        "Q. 계속 주문가능 추가"
      ],
      "metadata": {
        "id": "eAC5P1yFeVX5"
      }
    },
    {
      "cell_type": "code",
      "source": [
        "\n",
        "def main():\n",
        "    print(\"KITA 식당에 오신 것을 환영합니다\")\n",
        "    print(\"\\n\" + \"=\" * 40)\n",
        "    print(\"\\n          - 메  뉴 -\")\n",
        "    print(\"    1. 불고기 비빔밥 : 12,000원\")\n",
        "    print(\"    2. 야채 비빔밥 : 8,000원\")\n",
        "    print(\"    3. 전주 비빔밥 : 10,000원\")\n",
        "    print(\"\\n    세트 주문시 : 3,000원 추가\")\n",
        "    print(\"    (세트는 밥과 반찬이 추가됩니다.)\")\n",
        "    print(\"\\n\" + \"=\" * 40)\n",
        "    # 사용자로부터 메뉴 선택을 받는다.\n",
        "    menu_choice = int(input(\"\\n비빔밥 메뉴를 선택해 주세요. 1, 2, 3 >>> \"))\n",
        "    # 메뉴별 가격을 설정한다.\n",
        "    prices = {1: 12000, 2: 8000, 3: 10000}\n",
        "    # 사용자가 선택한 메뉴의 가격을 가져온다.\n",
        "    total_price = prices.get(menu_choice, 0)\n",
        "    # 세트 주문 여부를 확인한다.\n",
        "    set_order = input(\"세트 주문을 하시겠습니까? 3,000원 추가. y, n >>> \").lower()\n",
        "    if set_order == 'y':\n",
        "        total_price += 3000\n",
        "    print(f\"총 금액은 {total_price}원 입니다.\")\n",
        "\n",
        "\n",
        "while 1:\n",
        "    if __name__ == \"__main__\":\n",
        "        main()\n",
        "    escape = input('계속하시겠습니까? y, n >>> ')\n",
        "    if escape == 'n':\n",
        "        break"
      ],
      "metadata": {
        "colab": {
          "base_uri": "https://localhost:8080/"
        },
        "id": "aA6BuV_FWu9e",
        "outputId": "fc929cb2-ccff-4b0c-c2b5-854c6adea122"
      },
      "execution_count": 16,
      "outputs": [
        {
          "name": "stdout",
          "output_type": "stream",
          "text": [
            "KITA 식당에 오신 것을 환영합니다\n",
            "\n",
            "========================================\n",
            "\n",
            "          - 메  뉴 -\n",
            "    1. 불고기 비빔밥 : 12,000원\n",
            "    2. 야채 비빔밥 : 8,000원\n",
            "    3. 전주 비빔밥 : 10,000원\n",
            "\n",
            "    세트 주문시 : 3,000원 추가\n",
            "    (세트는 밥과 반찬이 추가됩니다.)\n",
            "\n",
            "========================================\n",
            "\n",
            "비빔밥 메뉴를 선택해 주세요. 1, 2, 3 >>> 3\n",
            "세트 주문을 하시겠습니까? 3,000원 추가. y, n >>> y\n",
            "총 금액은 13000원 입니다.\n",
            "계속하시겠습니까? y, n >>> y\n",
            "KITA 식당에 오신 것을 환영합니다\n",
            "\n",
            "========================================\n",
            "\n",
            "          - 메  뉴 -\n",
            "    1. 불고기 비빔밥 : 12,000원\n",
            "    2. 야채 비빔밥 : 8,000원\n",
            "    3. 전주 비빔밥 : 10,000원\n",
            "\n",
            "    세트 주문시 : 3,000원 추가\n",
            "    (세트는 밥과 반찬이 추가됩니다.)\n",
            "\n",
            "========================================\n",
            "\n",
            "비빔밥 메뉴를 선택해 주세요. 1, 2, 3 >>> 3\n",
            "세트 주문을 하시겠습니까? 3,000원 추가. y, n >>> 1\n",
            "총 금액은 10000원 입니다.\n",
            "계속하시겠습니까? y, n >>> n\n"
          ]
        }
      ]
    },
    {
      "cell_type": "code",
      "source": [
        "def display_menu():\n",
        "    print(\"\\nKITA 식당에 오신 것을 환영합니다\")\n",
        "    print(\"\\n\" + \"=\" * 40)\n",
        "    print(\"\\n          - 메  뉴 -\")\n",
        "    print(\"    1. 불고기 비빔밥 : 12,000원\")\n",
        "    print(\"    2. 야채 비빔밥 : 8,000원\")\n",
        "    print(\"    3. 전주 비빔밥 : 10,000원\")\n",
        "    print(\"\\n    세트 주문시 : 3,000원 추가\")\n",
        "    print(\"    (세트는 밥과 반찬이 추가됩니다.)\")\n",
        "    print(\"\\n\" + \"=\" * 40)\n",
        "\n",
        "\n",
        "def order():\n",
        "    # 메뉴별 가격을 설정한다.\n",
        "    prices = {1: 12000, 2: 8000, 3: 10000}\n",
        "\n",
        "    # 사용자로부터 메뉴 선택을 받는다.\n",
        "    menu_choice = int(input(\"\\n비빔밥 메뉴를 선택해 주세요. 1, 2, 3 >>> \"))\n",
        "\n",
        "    # 사용자가 선택한 메뉴의 가격을 가져온다.\n",
        "    total_price = prices.get(menu_choice, 0)\n",
        "\n",
        "    # 세트 주문 여부를 확인한다.\n",
        "    set_order = input(\"세트 주문을 하시겠습니까? 3,000원 추가. y, n >>> \").lower()\n",
        "    if set_order == 'y':\n",
        "        total_price += 3000\n",
        "\n",
        "    print(f\"총 금액은 {total_price}원 입니다.\")\n",
        "\n",
        "\n",
        "def main():\n",
        "    while True:\n",
        "        display_menu()\n",
        "        order()\n",
        "\n",
        "        # 계속 주문하거나 종료 여부를 확인한다.\n",
        "        continue_ordering = input(\"\\n다시 주문하시겠습니까? (주문: enter, 종료: '종료' 입력) >>> \")\n",
        "        if continue_ordering == '종료':\n",
        "            break\n",
        "\n",
        "    print(\"\\n감사합니다! 다음에 또 방문해 주세요.\")\n",
        "\n",
        "\n",
        "if __name__ == \"__main__\":\n",
        "    main()"
      ],
      "metadata": {
        "id": "mlIZ95ahd_Ps"
      },
      "execution_count": null,
      "outputs": []
    },
    {
      "cell_type": "code",
      "source": [
        "# mymodule.py 파일의 내용을 문자열로 정의합니다.\n",
        "module_content = \"\"\"\n",
        "def print_hello():\n",
        "    print(\"Hello from mymodule!\")\n",
        "\n",
        "def print_goodbye():\n",
        "    print(\"Goodbye from mymodule!\")\n",
        "\n",
        "print_hello()\n",
        "print_goodbye()\n",
        "\"\"\"\n",
        "\n",
        "# 파일을 쓰기 모드로 열고, 내용을 작성한 뒤 파일을 닫습니다.\n",
        "with open(\"mymodule.py\", \"w\") as file:\n",
        "    file.write(module_content)\n",
        "\n",
        "# 파일이 저장된 위치 확인 (일반적으로 Colab의 현재 작업 디렉토리)\n",
        "!ls"
      ],
      "metadata": {
        "colab": {
          "base_uri": "https://localhost:8080/"
        },
        "id": "cAKmrYEU4TGb",
        "outputId": "73ce550f-d2d7-46e5-e56b-0b807022d444"
      },
      "execution_count": 46,
      "outputs": [
        {
          "output_type": "stream",
          "name": "stdout",
          "text": [
            "drive  mymodule.py  __pycache__  sample_data\n"
          ]
        }
      ]
    },
    {
      "cell_type": "code",
      "source": [
        "import mymodule"
      ],
      "metadata": {
        "id": "Fsq36yjY4VNM"
      },
      "execution_count": 48,
      "outputs": []
    },
    {
      "cell_type": "markdown",
      "source": [
        "if __name__ == \"__main__\":\n",
        "\n",
        "- 현재 모듈이 직접 실행되는지 또는 다른 파일에 의해 임포트되어 사용되는지를 판단할 때 사용.\n",
        "- 만약 모듈이 직접 실행되면 __name__ 변수의 값은 \"__main__\"이 되고, 모듈이 다른 파일에서 임포트되어 사용될 경우 __name__은 모듈의 이름이 된다."
      ],
      "metadata": {
        "id": "5c-99oju44Yb"
      }
    },
    {
      "cell_type": "code",
      "source": [
        "# mymodule.py 파일의 내용을 문자열로 정의합니다.\n",
        "# if __name__ == \"__main__\":는 직접 실행할 경우만 True, 모듈 임포트 경우는 False\n",
        "module_content = \"\"\"\n",
        "def print_hello():\n",
        "    print(\"Hello from mymodule!\")\n",
        "\n",
        "def print_goodbye():\n",
        "    print(\"Goodbye from mymodule!\")\n",
        "\n",
        "if __name__ == \"__main__\":\n",
        "    print('아아아')\n",
        "    print_hello()\n",
        "    print_goodbye()\n",
        "\"\"\"\n",
        "\n",
        "# 파일을 쓰기 모드로 열고, 내용을 작성한 뒤 파일을 닫습니다.\n",
        "with open(\"mymodule.py\", \"w\") as file:\n",
        "    file.write(module_content)\n",
        "\n",
        "# 파일이 저장된 위치 확인 (일반적으로 Colab의 현재 작업 디렉토리)\n",
        "!ls"
      ],
      "metadata": {
        "colab": {
          "base_uri": "https://localhost:8080/"
        },
        "id": "O7st3-_E2V3Y",
        "outputId": "3093c0c7-6b4e-4bc2-b448-288fa0fc697e"
      },
      "execution_count": 44,
      "outputs": [
        {
          "output_type": "stream",
          "name": "stdout",
          "text": [
            "drive  mymodule.py  __pycache__  sample_data\n"
          ]
        }
      ]
    },
    {
      "cell_type": "code",
      "source": [
        "import mymodule"
      ],
      "metadata": {
        "id": "79A_VZMC2gaJ"
      },
      "execution_count": 45,
      "outputs": []
    },
    {
      "cell_type": "code",
      "source": [
        "!cat mymodule.py"
      ],
      "metadata": {
        "colab": {
          "base_uri": "https://localhost:8080/"
        },
        "id": "0m0L7e4J28D9",
        "outputId": "068c62b2-8c61-4cb2-ed82-b81cbd4b67c8"
      },
      "execution_count": 47,
      "outputs": [
        {
          "output_type": "stream",
          "name": "stdout",
          "text": [
            "\n",
            "def print_hello():\n",
            "    print(\"Hello from mymodule!\")\n",
            "\n",
            "def print_goodbye():\n",
            "    print(\"Goodbye from mymodule!\")\n",
            "\n",
            "print_hello()\n",
            "print_goodbye()\n"
          ]
        }
      ]
    },
    {
      "cell_type": "code",
      "source": [
        "ordering_system = '''\n",
        "def display_menu():\n",
        "    print(\"\\nKITA 식당에 오신 것을 환영합니다\")\n",
        "    print(\"\\n\" + \"=\" * 40)\n",
        "    print(\"\\n          - 메  뉴 -\")\n",
        "    print(\"    1. 불고기 비빔밥 : 12,000원\")\n",
        "    print(\"    2. 야채 비빔밥 : 8,000원\")\n",
        "    print(\"    3. 전주 비빔밥 : 10,000원\")\n",
        "    print(\"\\n    세트 주문시 : 3,000원 추가\")\n",
        "    print(\"    (세트는 밥과 반찬이 추가됩니다.)\")\n",
        "    print(\"\\n\" + \"=\" * 40)\n",
        "\n",
        "\n",
        "def order():\n",
        "    # 메뉴별 가격을 설정한다.\n",
        "    prices = {1: 12000, 2: 8000, 3: 10000}\n",
        "\n",
        "    # 사용자로부터 메뉴 선택을 받는다.\n",
        "    menu_choice = int(input(\"\\n비빔밥 메뉴를 선택해 주세요. 1, 2, 3 >>> \"))\n",
        "    menu_count = int(input('몇개 주문하시겠습니까? >>>'))\n",
        "    # 사용자가 선택한 메뉴의 가격을 가져온다.\n",
        "    total_price = prices.get(menu_choice, 0) * menu_count\n",
        "\n",
        "    # 세트 주문 여부를 확인한다.\n",
        "    set_order = input(\"세트 주문을 하시겠습니까? 3,000원 추가. y, n >>> \").lower()\n",
        "    if set_order == 'y':\n",
        "        set_count = int(input('몇개의 품목에 세트를 추가하시겠습니까? >>> '))\n",
        "        for i in range(set_count):\n",
        "            total_price += 3000\n",
        "\n",
        "    print(f\"총 금액은 {total_price}원 입니다.\")\n",
        "\n",
        "\n",
        "def main():\n",
        "    while True:\n",
        "        display_menu()\n",
        "        order()\n",
        "\n",
        "        # 계속 주문하거나 종료 여부를 확인한다.\n",
        "        continue_ordering = input(\"\\n다시 주문하시겠습니까? (주문: enter, 종료: '종료' 입력) >>> \")\n",
        "        if continue_ordering == '종료':\n",
        "            break\n",
        "\n",
        "    print(\"\\n감사합니다! 다음에 또 방문해 주세요.\")\n",
        "\n",
        "\n",
        "if __name__ == \"__main__\":\n",
        "    main()\n",
        "'''\n",
        "\n",
        "with open(\"ordering.py\", \"w\") as file:\n",
        "    file.write(ordering_system)\n",
        "\n",
        "# 파일이 저장된 위치 확인 (일반적으로 Colab의 현재 작업 디렉토리)\n",
        "!ls"
      ],
      "metadata": {
        "colab": {
          "base_uri": "https://localhost:8080/"
        },
        "id": "lY4i7PLB4Gkc",
        "outputId": "28282ca9-289d-4415-fa7d-32a83892c8a8"
      },
      "execution_count": 4,
      "outputs": [
        {
          "output_type": "stream",
          "name": "stdout",
          "text": [
            "drive  ordering.py  sample_data\n"
          ]
        }
      ]
    },
    {
      "cell_type": "code",
      "source": [
        "import ordering\n",
        "\n",
        "ordering.main()"
      ],
      "metadata": {
        "colab": {
          "base_uri": "https://localhost:8080/"
        },
        "id": "EM5goIRS67WI",
        "outputId": "1e48d4da-e822-4f03-d057-575bdb3c30ae"
      },
      "execution_count": 7,
      "outputs": [
        {
          "output_type": "stream",
          "name": "stdout",
          "text": [
            "\n",
            "KITA 식당에 오신 것을 환영합니다\n",
            "\n",
            "========================================\n",
            "\n",
            "          - 메  뉴 -\n",
            "    1. 불고기 비빔밥 : 12,000원\n",
            "    2. 야채 비빔밥 : 8,000원\n",
            "    3. 전주 비빔밥 : 10,000원\n",
            "\n",
            "    세트 주문시 : 3,000원 추가\n",
            "    (세트는 밥과 반찬이 추가됩니다.)\n",
            "\n",
            "========================================\n",
            "\n",
            "비빔밥 메뉴를 선택해 주세요. 1, 2, 3 >>> 3\n",
            "몇개 주문하시겠습니까? >>>50\n",
            "세트 주문을 하시겠습니까? 3,000원 추가. y, n >>> y\n",
            "몇개의 품목에 세트를 추가하시겠습니까? >>> 50\n",
            "총 금액은 650000원 입니다.\n",
            "\n",
            "다시 주문하시겠습니까? (주문: enter, 종료: '종료' 입력) >>> 종료\n",
            "\n",
            "감사합니다! 다음에 또 방문해 주세요.\n"
          ]
        }
      ]
    },
    {
      "cell_type": "code",
      "source": [
        "def display_menu():\n",
        "    print(\"\\nKITA 식당에 오신 것을 환영합니다\")\n",
        "    print(\"\\n\" + \"=\" * 40)\n",
        "    print(\"\\n          - 메  뉴 -\")\n",
        "    print(\"    1. 불고기 비빔밥 : 12,000원\")\n",
        "    print(\"    2. 야채 비빔밥 : 8,000원\")\n",
        "    print(\"    3. 전주 비빔밥 : 10,000원\")\n",
        "    print(\"\\n    세트 주문시 : 3,000원 추가\")\n",
        "    print(\"    (세트는 밥과 반찬이 추가됩니다.)\")\n",
        "    print(\"\\n\" + \"=\" * 40)\n",
        "\n",
        "\n",
        "def order():\n",
        "    # 메뉴별 가격을 설정한다.\n",
        "    prices = {1: 12000, 2: 8000, 3: 10000}\n",
        "\n",
        "    # 사용자로부터 메뉴 선택을 받는다.\n",
        "    menu_choice = int(input(\"\\n비빔밥 메뉴를 선택해 주세요. 1, 2, 3 >>> \"))\n",
        "    menu_count = int(input('몇개 주문하시겠습니까? >>>'))\n",
        "    # 사용자가 선택한 메뉴의 가격을 가져온다.\n",
        "    total_price = prices.get(menu_choice, 0) * menu_count\n",
        "\n",
        "    # 세트 주문 여부를 확인한다.\n",
        "    set_order = input(\"세트 주문을 하시겠습니까? 3,000원 추가. y, n >>> \").lower()\n",
        "    if set_order == 'y':\n",
        "        set_count = int(input('몇개의 품목에 세트를 추가하시겠습니까? >>> '))\n",
        "        for i in range(set_count):\n",
        "            total_price += 3000\n",
        "\n",
        "    print(f\"총 금액은 {total_price}원 입니다.\")\n",
        "\n",
        "\n",
        "def main():\n",
        "    while True:\n",
        "        display_menu()\n",
        "        order()\n",
        "\n",
        "        # 계속 주문하거나 종료 여부를 확인한다.\n",
        "        continue_ordering = input(\"\\n다시 주문하시겠습니까? (주문: enter, 종료: '종료' 입력) >>> \")\n",
        "        if continue_ordering == '종료':\n",
        "            break\n",
        "\n",
        "    print(\"\\n감사합니다! 다음에 또 방문해 주세요.\")\n",
        "\n",
        "\n",
        "if __name__ == \"__main__\":\n",
        "    main()"
      ],
      "metadata": {
        "id": "MaGkRxVp6F_Q"
      },
      "execution_count": null,
      "outputs": []
    }
  ]
}