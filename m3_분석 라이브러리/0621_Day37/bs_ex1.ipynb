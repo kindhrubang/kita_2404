{
 "cells": [
  {
   "cell_type": "markdown",
   "metadata": {},
   "source": [
    "실습 과제 : Electro 사이트를 크롤링해서 category, name,   link, price 4개 컬럼으로 구성되는 데이터프레임을 출력하세요."
   ]
  },
  {
   "cell_type": "code",
   "execution_count": 5,
   "metadata": {},
   "outputs": [
    {
     "data": {
      "text/plain": [
       "<Response [200]>"
      ]
     },
     "execution_count": 5,
     "metadata": {},
     "output_type": "execute_result"
    }
   ],
   "source": [
    "import re\n",
    "import pandas as pd\n",
    "import requests\n",
    "from bs4 import BeautifulSoup \n",
    "\n",
    "url = 'https://startcoding.pythonanywhere.com/basic'\n",
    "\n",
    "headers = {\n",
    "    \"User-Agent\": \"Mozilla/5.0 (Windows NT 10.0; Win64; x64) AppleWebKit/537.36 (KHTML, like Gecko) Chrome/91.0.4472.124 Safari/537.36\"\n",
    "}\n",
    "\n",
    "response = requests.get(url, headers=headers)\n",
    "\n",
    "soup = BeautifulSoup(response.text, 'html.parser')\n",
    "response"
   ]
  },
  {
   "cell_type": "code",
   "execution_count": 19,
   "metadata": {},
   "outputs": [
    {
     "data": {
      "text/plain": [
       "['#product1_detail.html',\n",
       " '#product2_detail.html',\n",
       " '#product3_detail.html',\n",
       " '#product4_detail.html',\n",
       " '#product5_detail.html',\n",
       " '#product6_detail.html',\n",
       " '#product7_detail.html',\n",
       " '#product8_detail.html',\n",
       " '#product9_detail.html',\n",
       " '#product10_detail.html']"
      ]
     },
     "execution_count": 19,
     "metadata": {},
     "output_type": "execute_result"
    }
   ],
   "source": [
    "\n",
    "\n",
    "\n",
    "target = soup.select('p.product-price')\n",
    "category = [pc.text for pc in target]\n",
    "\n",
    "target = soup.select('h3.product-name')\n",
    "category = [lk.next_element.attrs['href'] for lk in target]\n"
   ]
  },
  {
   "cell_type": "code",
   "execution_count": 64,
   "metadata": {},
   "outputs": [],
   "source": [
    "import pandas as pd\n",
    "import time\n",
    "import requests \n",
    "from bs4 import BeautifulSoup\n",
    "\n",
    "c_list = []\n",
    "n_list = []\n",
    "p_list = []\n",
    "l_list = []\n",
    "for i in range(1, 5):\n",
    "    url = f'https://startcoding.pythonanywhere.com/basic?page={i}&keyword='\n",
    "    headers = {\"User-Agent\":\"Mozilla/5.0 (Windows NT 10.0; Win64; x64) AppleWebKit/537.36 (KHTML, like Gecko) Chrome/96.0.4664.45 Safari/537.36\"}\n",
    "    response = requests.get(url, headers= headers)\n",
    "    soup = BeautifulSoup(response.text,'html.parser')\n",
    "\n",
    "    target = soup.select('p.product-category')\n",
    "    for  i in target:\n",
    "        c_list.append(i.text)\n",
    "\n",
    "    target = soup.select('h3.product-name')\n",
    "    for  i in target:\n",
    "        n_list.append(i.text)\n",
    "        \n",
    "    target = soup.select('.product-price')\n",
    "    for  i in target:\n",
    "        q = i.text\n",
    "        a, b = q.split('원')\n",
    "        c = a.replace(',','')\n",
    "        p_list.append(int(c))\n",
    "\n",
    "\n",
    "    target = soup.select('h3.product-name')\n",
    "    for  i in target:\n",
    "        l_list.append(i.next_element.attrs['href'])\n",
    "\n",
    "\n",
    "\n",
    "df=pd.DataFrame({'category':c_list,\n",
    "                 'name':n_list,\n",
    "                 'link':l_list,\n",
    "                 'price':p_list,\n",
    "                 \n",
    "                 })\n",
    "df.index = df.index+1\n"
   ]
  },
  {
   "cell_type": "code",
   "execution_count": null,
   "metadata": {},
   "outputs": [],
   "source": [
    "# target = soup.select('h3.product-name')\n",
    "# for  i in target:\n",
    "#     l_list.append(i.next_element.attrs['href'])\n",
    "soup.select_one(\".product=name > a\").attrs['href'] # 위랑 같음"
   ]
  },
  {
   "cell_type": "code",
   "execution_count": 61,
   "metadata": {},
   "outputs": [
    {
     "data": {
      "text/plain": [
       "'89000\\n\\t\\t\\t\\t\\t\\t\\t\\t\\t\\t\\n\\t\\t\\t\\t\\t\\t\\t\\t\\t\\t91610'"
      ]
     },
     "execution_count": 61,
     "metadata": {},
     "output_type": "execute_result"
    }
   ],
   "source": [
    "    # target = soup.select('.product-price')\n",
    "    # for  i in target:\n",
    "    #     q = i.text\n",
    "    #     a, b = q.split('원')\n",
    "    #     c = a.replace(',','')\n",
    "    #     p_list.append(c)\n",
    "soup.select_one('.product-price').text.strip().replace('원','').replace(\",\",'')"
   ]
  },
  {
   "cell_type": "code",
   "execution_count": 68,
   "metadata": {},
   "outputs": [
    {
     "name": "stdout",
     "output_type": "stream",
     "text": [
      "<class 'pandas.core.frame.DataFrame'>\n",
      "RangeIndex: 35 entries, 1 to 35\n",
      "Data columns (total 4 columns):\n",
      " #   Column    Non-Null Count  Dtype \n",
      "---  ------    --------------  ----- \n",
      " 0   category  35 non-null     object\n",
      " 1   name      35 non-null     object\n",
      " 2   link      35 non-null     object\n",
      " 3   price     35 non-null     int64 \n",
      "dtypes: int64(1), object(3)\n",
      "memory usage: 1.2+ KB\n"
     ]
    }
   ],
   "source": [
    "df.info()"
   ]
  },
  {
   "cell_type": "code",
   "execution_count": 55,
   "metadata": {},
   "outputs": [
    {
     "data": {
      "text/plain": [
       "category\n",
       "노트북     10\n",
       "데스크탑    10\n",
       "휴대폰     10\n",
       "모니터      5\n",
       "Name: count, dtype: int64"
      ]
     },
     "execution_count": 55,
     "metadata": {},
     "output_type": "execute_result"
    }
   ],
   "source": [
    "df.category.value_counts()"
   ]
  },
  {
   "cell_type": "code",
   "execution_count": 44,
   "metadata": {},
   "outputs": [
    {
     "data": {
      "text/plain": [
       "['408400',\n",
       " '408400',\n",
       " '409510',\n",
       " '319000',\n",
       " '952450',\n",
       " '1004850',\n",
       " '199000',\n",
       " '1216050',\n",
       " '147000',\n",
       " '719900']"
      ]
     },
     "execution_count": 44,
     "metadata": {},
     "output_type": "execute_result"
    }
   ],
   "source": [
    "p_list=[]\n",
    "target = soup.select('.product-price')\n",
    "for  i in target:\n",
    "    q = i.text\n",
    "    a, b = q.split('원')\n",
    "    c = a.replace(',','')\n",
    "    p_list.append(c)\n",
    "\n",
    "p_list"
   ]
  },
  {
   "cell_type": "code",
   "execution_count": 62,
   "metadata": {},
   "outputs": [],
   "source": [
    "# utf-8-sig는 UTF-8 인코딩에 BOM(Byte Order Bark)를 추가하는 옵션\n",
    "df.to_csv('result.csv',encoding='utf-8-sig',index=False)"
   ]
  },
  {
   "cell_type": "code",
   "execution_count": 63,
   "metadata": {},
   "outputs": [
    {
     "data": {
      "text/html": [
       "<div>\n",
       "<style scoped>\n",
       "    .dataframe tbody tr th:only-of-type {\n",
       "        vertical-align: middle;\n",
       "    }\n",
       "\n",
       "    .dataframe tbody tr th {\n",
       "        vertical-align: top;\n",
       "    }\n",
       "\n",
       "    .dataframe thead th {\n",
       "        text-align: right;\n",
       "    }\n",
       "</style>\n",
       "<table border=\"1\" class=\"dataframe\">\n",
       "  <thead>\n",
       "    <tr style=\"text-align: right;\">\n",
       "      <th></th>\n",
       "      <th>category</th>\n",
       "      <th>name</th>\n",
       "      <th>link</th>\n",
       "      <th>price</th>\n",
       "    </tr>\n",
       "  </thead>\n",
       "  <tbody>\n",
       "    <tr>\n",
       "      <th>0</th>\n",
       "      <td>노트북</td>\n",
       "      <td>에이서 스위프트 GO 16 OLED, 스틸 그레이, 코어i7, 512GB, 16GB...</td>\n",
       "      <td>#product1_detail.html</td>\n",
       "      <td>1419000</td>\n",
       "    </tr>\n",
       "    <tr>\n",
       "      <th>1</th>\n",
       "      <td>노트북</td>\n",
       "      <td>삼성전자 노트북 플러스2 15.6, 퓨어 화이트, NT550XDA-K24AT, 펜티...</td>\n",
       "      <td>#product2_detail.html</td>\n",
       "      <td>549000</td>\n",
       "    </tr>\n",
       "    <tr>\n",
       "      <th>2</th>\n",
       "      <td>노트북</td>\n",
       "      <td>레노버 아이디어패드 슬림 1 15AMN7 15.6, 256GB, Free DOS, ...</td>\n",
       "      <td>#product3_detail.html</td>\n",
       "      <td>529000</td>\n",
       "    </tr>\n",
       "    <tr>\n",
       "      <th>3</th>\n",
       "      <td>노트북</td>\n",
       "      <td>레노버 V15 G4 AMN 15.6, Arctic Grey, 라이젠3, 256GB,...</td>\n",
       "      <td>#product4_detail.html</td>\n",
       "      <td>624000</td>\n",
       "    </tr>\n",
       "    <tr>\n",
       "      <th>4</th>\n",
       "      <td>노트북</td>\n",
       "      <td>LG 울트라PC 엣지 16, 차콜 그레이, 라이젠5, 256GB, 16GB, WIN...</td>\n",
       "      <td>#product5_detail.html</td>\n",
       "      <td>1135000</td>\n",
       "    </tr>\n",
       "  </tbody>\n",
       "</table>\n",
       "</div>"
      ],
      "text/plain": [
       "  category                                               name  \\\n",
       "0      노트북  에이서 스위프트 GO 16 OLED, 스틸 그레이, 코어i7, 512GB, 16GB...   \n",
       "1      노트북  삼성전자 노트북 플러스2 15.6, 퓨어 화이트, NT550XDA-K24AT, 펜티...   \n",
       "2      노트북  레노버 아이디어패드 슬림 1 15AMN7 15.6, 256GB, Free DOS, ...   \n",
       "3      노트북  레노버 V15 G4 AMN 15.6, Arctic Grey, 라이젠3, 256GB,...   \n",
       "4      노트북  LG 울트라PC 엣지 16, 차콜 그레이, 라이젠5, 256GB, 16GB, WIN...   \n",
       "\n",
       "                    link    price  \n",
       "0  #product1_detail.html  1419000  \n",
       "1  #product2_detail.html   549000  \n",
       "2  #product3_detail.html   529000  \n",
       "3  #product4_detail.html   624000  \n",
       "4  #product5_detail.html  1135000  "
      ]
     },
     "execution_count": 63,
     "metadata": {},
     "output_type": "execute_result"
    }
   ],
   "source": [
    "df = pd.read_csv('result.csv')\n",
    "df.head()"
   ]
  }
 ],
 "metadata": {
  "kernelspec": {
   "display_name": "myenv",
   "language": "python",
   "name": "python3"
  },
  "language_info": {
   "codemirror_mode": {
    "name": "ipython",
    "version": 3
   },
   "file_extension": ".py",
   "mimetype": "text/x-python",
   "name": "python",
   "nbconvert_exporter": "python",
   "pygments_lexer": "ipython3",
   "version": "3.10.11"
  }
 },
 "nbformat": 4,
 "nbformat_minor": 2
}
