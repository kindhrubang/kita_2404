{
  "nbformat": 4,
  "nbformat_minor": 0,
  "metadata": {
    "colab": {
      "provenance": []
    },
    "kernelspec": {
      "name": "python3",
      "display_name": "Python 3"
    },
    "language_info": {
      "name": "python"
    }
  },
  "cells": [
    {
      "cell_type": "markdown",
      "source": [
        "Task1_0513.클래스 구성 요소와 관련 아래 사항에 대한 사례를 작성하세요.\n",
        "- 클래스 선언\n",
        "- 생성자\n",
        "- 속성(attributes)\n",
        "- 메서드\n",
        "- 상속\n",
        "- 인스턴스화(객체 만들기)\n",
        "- 클래스 변수\n",
        "- 매직 메서드(특수 메서드)"
      ],
      "metadata": {
        "id": "KV6Ig7jVg33m"
      }
    },
    {
      "cell_type": "code",
      "execution_count": null,
      "metadata": {
        "colab": {
          "base_uri": "https://localhost:8080/"
        },
        "id": "R4QmL3W5g3Jw",
        "outputId": "8d2f738d-99e7-49a8-9e55-4ffb6fd3b7d5"
      },
      "outputs": [
        {
          "output_type": "stream",
          "name": "stdout",
          "text": [
            "7\n"
          ]
        }
      ],
      "source": [
        "class Test:\n",
        "    def __init__ (self, num1, num2):\n",
        "        self.num1 = num1\n",
        "        self.num2 = num2\n",
        "\n",
        "class Sum(Test):\n",
        "    def __add__(self):\n",
        "        return self.num1 + self.num2\n",
        "\n",
        "asd = Sum(3,4)\n",
        "print(asd.__add__())"
      ]
    },
    {
      "cell_type": "code",
      "source": [
        "#예시\n",
        "class Book:\n",
        "    def __init__(self, title, author):\n",
        "        self.title = title\n",
        "        self.author = author\n",
        "\n",
        "    def __str__(self):\n",
        "        return f\"{self.title} by {self.author}\"\n",
        "\n",
        "\n",
        "class MyBook(Book):\n",
        "    location = 'MyHome'\n",
        "    def __init__(self, title, author, price):\n",
        "        super().__init__(title,author)\n",
        "        self.price = price\n",
        "    def how_much(self):\n",
        "        return f\"나는 {self.title}을{self.price}원 주고 샀다.\"\n",
        "\n",
        "b1 = MyBook('오발탄', '이범선','8500')\n",
        "print(b1.location)\n",
        "print(b1.price)\n",
        "print(b1.how_much())\n",
        "print(b1) #자동으로  __str__메서드가 호출되어 출력"
      ],
      "metadata": {
        "colab": {
          "base_uri": "https://localhost:8080/"
        },
        "id": "ToRvvemacAEV",
        "outputId": "0064e41c-c7cf-472b-e02e-62479a8d0b68"
      },
      "execution_count": 3,
      "outputs": [
        {
          "output_type": "stream",
          "name": "stdout",
          "text": [
            "MyHome\n",
            "8500\n",
            "나는 오발탄을8500원 주고 샀다.\n",
            "오발탄 by 이범선\n"
          ]
        }
      ]
    },
    {
      "cell_type": "markdown",
      "source": [
        "Task2_0513. 두개의 수를 입력한 후 두개의 수에 대한 사칙연산을 수행하세요.(0을 입력한 경우 다시 입력하도록 조치)"
      ],
      "metadata": {
        "id": "92UJmmdloE_H"
      }
    },
    {
      "cell_type": "code",
      "source": [
        "class Task:\n",
        "    def __init__(self, num1 , num2):\n",
        "        self.num1 = num1\n",
        "        self.num2 = num2\n",
        "\n",
        "\n",
        "    def add(self):\n",
        "        return self.num1+self.num2\n",
        "\n",
        "    def mn(self):\n",
        "        return self.num1-self.num2\n",
        "\n",
        "    def mul(self):\n",
        "        return self.num1*self.num2\n",
        "\n",
        "    def nanu(self):\n",
        "        if self.num2 == 0:\n",
        "            print('0을 제외하고 입력')\n",
        "            return\n",
        "        else:\n",
        "            result = self.num1 / self.num2\n",
        "            return self.num1/self.num2\n",
        "\n",
        "while 1:\n",
        "    n1 = int(input('수 입력'))\n",
        "    n2 = int(input('수 입력'))\n",
        "\n",
        "    asd = Task(n1,n2)\n",
        "\n",
        "    print(asd.add())\n",
        "    print(asd.mn())\n",
        "    print(asd.mul())\n",
        "    print(asd.nanu())\n",
        "\n",
        "    a = input('exit : ')\n",
        "    if bool(a):\n",
        "        break"
      ],
      "metadata": {
        "colab": {
          "base_uri": "https://localhost:8080/"
        },
        "id": "YCiaPX6IoFUQ",
        "outputId": "4cc60fa3-8a2a-4e30-981b-71c60f06b0d1",
        "collapsed": true
      },
      "execution_count": 4,
      "outputs": [
        {
          "name": "stdout",
          "output_type": "stream",
          "text": [
            "수 입력5\n",
            "수 입력0\n",
            "5\n",
            "5\n",
            "0\n",
            "0을 제외하고 입력\n",
            "None\n",
            "exit : 5\n"
          ]
        }
      ]
    },
    {
      "cell_type": "markdown",
      "source": [
        "Task3_0513. 파이썬 오버라이딩, 오버로딩, 다형성의 사례를 만들어 보세요."
      ],
      "metadata": {
        "id": "awaJLosVuxr8"
      }
    },
    {
      "cell_type": "code",
      "source": [
        "class Task:\n",
        "    def lotto(self):\n",
        "        return\n",
        "class Lucky(Task):\n",
        "    def lotto(self):\n",
        "        return 'scucces!!!'\n",
        "class Sagi(Task):\n",
        "    def operation(self, dif = '실패야~'):\n",
        "        if dif == '실패야~':\n",
        "            return '실패야~~~'\n",
        "        else:\n",
        "            return '그래도 실패야~'\n",
        "\n",
        "asd=Lucky()\n",
        "qwe=Sagi()\n",
        "\n",
        "print(asd.lotto())\n",
        "print(qwe.operation('제발 당첨'))"
      ],
      "metadata": {
        "colab": {
          "base_uri": "https://localhost:8080/"
        },
        "id": "UaaHBb-Du3BT",
        "outputId": "214b2cf3-fb79-460d-bbec-e447a2732436"
      },
      "execution_count": null,
      "outputs": [
        {
          "output_type": "stream",
          "name": "stdout",
          "text": [
            "scucces!!!\n",
            "그래도 실패야~\n"
          ]
        }
      ]
    },
    {
      "cell_type": "code",
      "source": [
        "class Robot:\n",
        "    def __init__(self, name):\n",
        "        self.name = name\n",
        "        print(f'안녕! 나는 {self.name}이야')\n",
        "\n",
        "    def helping(self):\n",
        "        print('도움을 드릴 수 있습니다.')\n",
        "\n",
        "class ServingRobot(Robot):\n",
        "    #오버라이딩\n",
        "    def helping(self):\n",
        "        print('음식을 가져다 드릴 수 있습니다')\n",
        "    def move(self, table):\n",
        "        print(f'{table}번 테이블로 음식을 가져다 드렸습니다.')\n",
        "\n",
        "class CleaningRobot(Robot):\n",
        "    #유사 오버로딩\n",
        "    def helping(self, how = '청소기'):\n",
        "        print(f'{how}로 청소를 합니다.')\n",
        "\n",
        "#다형성\n",
        "\n",
        "def robot_mode(robot):\n",
        "    robot.helping()\n",
        "\n",
        "#객체 생성\n",
        "robobo = ServingRobot('robobo')\n",
        "roboti = CleaningRobot('roboti')\n",
        "#오버라이딩 사용\n",
        "robobo.helping()\n",
        "#오버로딩 사용\n",
        "roboti.helping('물걸래')\n",
        "#다형성을 통한 메서드 호출\n",
        "robot_mode(robobo)\n",
        "robot_mode(roboti)"
      ],
      "metadata": {
        "id": "ZE9RdobD_aJZ",
        "colab": {
          "base_uri": "https://localhost:8080/"
        },
        "outputId": "a303bc3c-e8f2-4997-c7a5-0b2ed9812dc6"
      },
      "execution_count": 5,
      "outputs": [
        {
          "output_type": "stream",
          "name": "stdout",
          "text": [
            "안녕! 나는 robobo이야\n",
            "안녕! 나는 roboti이야\n",
            "음식을 가져다 드릴 수 있습니다\n",
            "물걸래로 청소를 합니다.\n",
            "음식을 가져다 드릴 수 있습니다\n",
            "청소기로 청소를 합니다.\n"
          ]
        }
      ]
    },
    {
      "cell_type": "code",
      "source": [],
      "metadata": {
        "id": "GGQ57l55kS9h"
      },
      "execution_count": null,
      "outputs": []
    }
  ]
}