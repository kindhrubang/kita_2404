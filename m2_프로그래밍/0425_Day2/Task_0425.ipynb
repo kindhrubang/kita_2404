{
  "nbformat": 4,
  "nbformat_minor": 0,
  "metadata": {
    "colab": {
      "provenance": []
    },
    "kernelspec": {
      "name": "python3",
      "display_name": "Python 3"
    },
    "language_info": {
      "name": "python"
    }
  },
  "cells": [
    {
      "cell_type": "code",
      "execution_count": null,
      "metadata": {
        "id": "d6h4TvKZYdS6"
      },
      "outputs": [],
      "source": []
    },
    {
      "cell_type": "markdown",
      "source": [
        "Task1_0425. 주어진 숫자 리스트에서 최소값과 최대값을 찾아 출력하세요.\n",
        "\n",
        "numbers = [58, 45, 69, 19, 4, 87, 29, 13, 39, 15]"
      ],
      "metadata": {
        "id": "JV8dHHcaHYYF"
      }
    },
    {
      "cell_type": "code",
      "source": [
        "numbers = [58, 45, 69, 19, 4, 87, 29, 13, 39, 15]\n",
        "numbers.sort()\n",
        "print(f'최솟값 : {numbers[0]} 최댓값 : {numbers[-1]}')"
      ],
      "metadata": {
        "colab": {
          "base_uri": "https://localhost:8080/"
        },
        "id": "jQl_25EBHcsT",
        "outputId": "ae3872da-302f-439b-aa52-515a1be3d70c"
      },
      "execution_count": null,
      "outputs": [
        {
          "output_type": "stream",
          "name": "stdout",
          "text": [
            "최솟값 : 4 최댓값 : 87\n"
          ]
        }
      ]
    },
    {
      "cell_type": "markdown",
      "source": [
        "Task2_0425. 주어진 숫자 리스트의 모든 요소의 합계와 평균을 계산하고 출력하세요\n",
        "\n",
        "numbers = [58, 45, 69, 19, 4, 87, 29, 13, 39, 15]"
      ],
      "metadata": {
        "id": "0ipZC2tuHdJc"
      }
    },
    {
      "cell_type": "code",
      "source": [
        "numbers = [58, 45, 69, 19, 4, 87, 29, 13, 39, 15]\n",
        "i=0\n",
        "output = 0\n",
        "for numbers[i] in numbers:\n",
        "  output = output + numbers[i]\n",
        "  i += 1\n",
        "\n",
        "print(f'모든 요소의 합 : {output}\\n')\n",
        "print(f'요소의 평균 : {output/len(numbers)}')"
      ],
      "metadata": {
        "colab": {
          "base_uri": "https://localhost:8080/"
        },
        "id": "FJgM-Q00IbDG",
        "outputId": "04984d6b-f099-4f81-9126-ee3e983db2d7"
      },
      "execution_count": null,
      "outputs": [
        {
          "output_type": "stream",
          "name": "stdout",
          "text": [
            "모든 요소의 합 : 378\n",
            "\n",
            "요소의 평균 : 37.8\n"
          ]
        }
      ]
    },
    {
      "cell_type": "markdown",
      "source": [
        "Task3_0425. 주어진 리스트에서 특정 요소가 등장하는 모든 인덱스를 리스트로 만들어 출력하세요.\n",
        "\n",
        "items = ['apple', 'banana', 'cherry', 'apple', 'cherry', 'apple']\n",
        "\n",
        "target = 'apple'"
      ],
      "metadata": {
        "id": "VDsHfvIDHfYY"
      }
    },
    {
      "cell_type": "code",
      "source": [
        "items = ['apple', 'banana', 'cherry', 'apple', 'cherry', 'apple']\n",
        "target = 'apple'\n",
        "i=0\n",
        "output = []\n",
        "\n",
        "\n",
        "for items[i] in items:\n",
        "  if items[i]==target:\n",
        "    output.append(i)\n",
        "  i += 1\n",
        "\n",
        "print(output)"
      ],
      "metadata": {
        "colab": {
          "base_uri": "https://localhost:8080/"
        },
        "id": "WsbzztrvJqzU",
        "outputId": "17826b5f-e045-47a3-addc-62f4a8cd361d"
      },
      "execution_count": null,
      "outputs": [
        {
          "output_type": "stream",
          "name": "stdout",
          "text": [
            "[0, 3, 5]\n"
          ]
        }
      ]
    },
    {
      "cell_type": "markdown",
      "source": [
        "Task4_0425. 주어진 리스트에서 연속해서 반복되는 요소만 제거하고, 결과 리스트를 반환하세요. 단, 처음 등장하는 요소는 유지해야 합니다.\n",
        "\n",
        "예를 들어, ['a', 'a', 'b', 'c', 'c', 'c', 'd', 'e', 'e']가 입력되면, ['a', 'b', 'c', 'd', 'e']를 출력해야 합니다."
      ],
      "metadata": {
        "id": "Uj73IfdtHhx2"
      }
    },
    {
      "cell_type": "code",
      "source": [
        "list_task = ['a', 'a', 'b', 'c', 'c', 'c', 'd', 'e', 'e']\n",
        "i = 0\n",
        "\n",
        "while i < len(list_task)-1:\n",
        "  if list_task[i]==list_task[i+1]:\n",
        "    list_task.remove(list_task[i+1])\n",
        "  else:\n",
        "    i+=1\n",
        "\n",
        "\n",
        "\n",
        "\n",
        "print(list_task)"
      ],
      "metadata": {
        "colab": {
          "base_uri": "https://localhost:8080/"
        },
        "id": "oLA0gDURLP0Q",
        "outputId": "e3e4fc55-c379-4c03-f1d7-1881d7344918"
      },
      "execution_count": null,
      "outputs": [
        {
          "output_type": "stream",
          "name": "stdout",
          "text": [
            "['a', 'b', 'c', 'd', 'e']\n"
          ]
        }
      ]
    },
    {
      "cell_type": "markdown",
      "source": [
        "Task5_0425 주어진 정수 리스트와 회전 횟수 k에 대해 리스트를 오른쪽으로 k만큼 회전시킨 결과를 반환하세요. k가 리스트의 길이보다 클 수 있으며, 이 경우 k를 리스트 길이로 나눈 나머지만큼 실제 회전시키면 됩니다.\n",
        "\n",
        "예를 들어, [1, 2, 3, 4, 5]와 k=2가 주어지면, 결과는 [4, 5, 1, 2, 3]이 되어야 합니다."
      ],
      "metadata": {
        "id": "0051yEumHjMq"
      }
    },
    {
      "cell_type": "code",
      "source": [
        "list_task = [1,2,3,4,5]\n",
        "k = int(input('k 값을 입력하세요 :'))\n",
        "i = 1\n",
        "\n",
        "if k>len(list_task):\n",
        "    k=k%len(list_task)\n",
        "\n",
        "while i <= k:\n",
        "  list_task.insert(0,list_task.pop())\n",
        "  i+=1\n",
        "\n",
        "print(list_task)"
      ],
      "metadata": {
        "colab": {
          "base_uri": "https://localhost:8080/"
        },
        "id": "G9lUWC9NK46I",
        "outputId": "1c4bc685-a519-444f-f059-53bcb70f8fac"
      },
      "execution_count": null,
      "outputs": [
        {
          "output_type": "stream",
          "name": "stdout",
          "text": [
            "k 값을 입력하세요 :11\n",
            "[5, 1, 2, 3, 4]\n"
          ]
        }
      ]
    }
  ]
}