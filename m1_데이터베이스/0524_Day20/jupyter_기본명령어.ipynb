{
 "cells": [
  {
   "cell_type": "code",
   "execution_count": null,
   "id": "0e32ee1e-a800-4a0b-81d3-9744ae7e8ce4",
   "metadata": {},
   "outputs": [],
   "source": [
    "!python --version"
   ]
  },
  {
   "cell_type": "code",
   "execution_count": 6,
   "id": "bc90852f-3c8a-4f57-835e-acb267ef889f",
   "metadata": {},
   "outputs": [
    {
     "name": "stdout",
     "output_type": "stream",
     "text": [
      " C 드라이브의 볼륨에는 이름이 없습니다.\n",
      " 볼륨 일련 번호: C672-E692\n",
      "\n",
      " C:\\Users\\Administrator\\kita 디렉터리\n",
      "\n",
      "2024-05-24  오후 05:20    <DIR>          .\n",
      "2024-05-24  오후 05:20    <DIR>          ..\n",
      "2024-05-24  오후 05:14    <DIR>          .ipynb_checkpoints\n",
      "2024-05-24  오후 05:20             1,415 Untitled.ipynb\n",
      "               1개 파일               1,415 바이트\n",
      "               3개 디렉터리  171,703,005,184 바이트 남음\n"
     ]
    }
   ],
   "source": [
    "%ls"
   ]
  },
  {
   "cell_type": "code",
   "execution_count": 14,
   "id": "0dc531e6-150a-4cc7-873e-d8719b86865e",
   "metadata": {},
   "outputs": [
    {
     "name": "stdout",
     "output_type": "stream",
     "text": [
      " C 드라이브의 볼륨에는 이름이 없습니다.\n",
      " 볼륨 일련 번호: C672-E692\n",
      "\n",
      " C:\\Users\\Administrator\\kita 디렉터리\n",
      "\n",
      "2024-05-24  오후 05:24    <DIR>          .\n",
      "2024-05-24  오후 05:24    <DIR>          ..\n",
      "2024-05-24  오후 05:14    <DIR>          .ipynb_checkpoints\n",
      "2024-05-24  오후 05:24             3,062 Untitled.ipynb\n",
      "               1개 파일               3,062 바이트\n",
      "               3개 디렉터리  171,702,702,080 바이트 남음\n"
     ]
    }
   ],
   "source": [
    "!dir"
   ]
  },
  {
   "cell_type": "code",
   "execution_count": 15,
   "id": "868f9486-dec1-4e53-ac0c-412c10e0da5c",
   "metadata": {},
   "outputs": [
    {
     "data": {
      "text/plain": [
       "'C:\\\\Users\\\\Administrator\\\\kita'"
      ]
     },
     "execution_count": 15,
     "metadata": {},
     "output_type": "execute_result"
    }
   ],
   "source": [
    "%pwd"
   ]
  },
  {
   "cell_type": "markdown",
   "id": "901293d9-16e0-4659-945b-ce25932948b9",
   "metadata": {},
   "source": [
    "#### !ls vs %ls\r\n",
    "- !ls는 UNIX 계열 시스템에서 셸 명령어 ls를 실행하여 현재 작업 디렉토리의 파일과 디렉토리를 나열\r\n",
    "- Windows에서는 ls 대신 dir 명령어를 사용 (!dir).\r\n",
    "- %ls는 IPython에서 제공하는 매직 명령어로, 파일 및 디렉토리 목록을 표시. 이는 운영 체제에 관계없이 동일한 방식으로 작동"
   ]
  },
  {
   "cell_type": "code",
   "execution_count": 20,
   "id": "74b42e7d-b1b0-4569-a22f-b5de670401bb",
   "metadata": {},
   "outputs": [
    {
     "name": "stdout",
     "output_type": "stream",
     "text": [
      " C 드라이브의 볼륨에는 이름이 없습니다.\n",
      " 볼륨 일련 번호: C672-E692\n",
      "\n",
      " C:\\Users\\Administrator\\kita 디렉터리\n",
      "\n",
      "2024-05-24  오후 05:28    <DIR>          .\n",
      "2024-05-24  오후 05:28    <DIR>          ..\n",
      "2024-05-24  오후 05:14    <DIR>          .ipynb_checkpoints\n",
      "2024-05-24  오후 05:28             4,346 Untitled.ipynb\n",
      "               1개 파일               4,346 바이트\n",
      "               3개 디렉터리  171,702,603,776 바이트 남음\n"
     ]
    }
   ],
   "source": [
    "%ls C:\\Users\\Administrator\\kita"
   ]
  },
  {
   "cell_type": "code",
   "execution_count": null,
   "id": "154bcf5d-055b-49ab-8bfc-9eb45b6fdbce",
   "metadata": {},
   "outputs": [],
   "source": []
  },
  {
   "cell_type": "code",
   "execution_count": 21,
   "id": "47983982-93bf-4a28-8541-9bd2cbba21d1",
   "metadata": {},
   "outputs": [],
   "source": [
    "# 새 파일 생성 및 쓰기\n",
    "with open('example.txt', 'w') as file:\n",
    "    file.write(\"This is an example file.\")"
   ]
  },
  {
   "cell_type": "code",
   "execution_count": 23,
   "id": "7838af1d-ce35-4e3f-825f-eddac898ca07",
   "metadata": {},
   "outputs": [
    {
     "name": "stdout",
     "output_type": "stream",
     "text": [
      "This is an example file.\n"
     ]
    }
   ],
   "source": [
    "# 파일 읽기\n",
    "with open('example.txt','r') as file:\n",
    "    txt=file.read()\n",
    "    print(txt)"
   ]
  },
  {
   "cell_type": "code",
   "execution_count": 24,
   "id": "08b44b26-42b8-4968-a020-6e62730ae45e",
   "metadata": {},
   "outputs": [],
   "source": [
    "# 파일 삭제\n",
    "!del example.txt"
   ]
  },
  {
   "cell_type": "code",
   "execution_count": 41,
   "id": "0ae024b4-4a79-4fa9-be90-e95fb6b841c3",
   "metadata": {},
   "outputs": [],
   "source": [
    "#디렉토리 생성\n",
    "!mkdir test_dir"
   ]
  },
  {
   "cell_type": "code",
   "execution_count": 28,
   "id": "a532a03a-9863-468c-b41d-1445f4447908",
   "metadata": {},
   "outputs": [
    {
     "name": "stdout",
     "output_type": "stream",
     "text": [
      "C:\\Users\\Administrator\\kita\\test_dir\n"
     ]
    },
    {
     "name": "stderr",
     "output_type": "stream",
     "text": [
      "C:\\Users\\Administrator\\anaconda3\\envs\\myenv\\lib\\site-packages\\IPython\\core\\magics\\osm.py:417: UserWarning: using dhist requires you to install the `pickleshare` library.\n",
      "  self.shell.db['dhist'] = compress_dhist(dhist)[-100:]\n"
     ]
    }
   ],
   "source": [
    "#디랙토리 이동\n",
    "%cd test_dir"
   ]
  },
  {
   "cell_type": "code",
   "execution_count": 33,
   "id": "6be5055f-9589-46c4-ab82-48cb0a16f306",
   "metadata": {},
   "outputs": [
    {
     "name": "stdout",
     "output_type": "stream",
     "text": [
      "Collecting pickleshare\n",
      "  Downloading pickleshare-0.7.5-py2.py3-none-any.whl.metadata (1.5 kB)\n",
      "Downloading pickleshare-0.7.5-py2.py3-none-any.whl (6.9 kB)\n",
      "Installing collected packages: pickleshare\n",
      "Successfully installed pickleshare-0.7.5\n"
     ]
    }
   ],
   "source": [
    "!pip install pickleshare"
   ]
  },
  {
   "cell_type": "code",
   "execution_count": 36,
   "id": "015ff791-79ad-4efc-8bca-cb8446e57b20",
   "metadata": {},
   "outputs": [],
   "source": [
    "with open('new_example.txt', 'w') as file:\n",
    "    file.write(\"This is an new example file.\")"
   ]
  },
  {
   "cell_type": "code",
   "execution_count": 35,
   "id": "116e8ea2-694d-42c0-9b80-3ed84a729e8b",
   "metadata": {},
   "outputs": [
    {
     "name": "stdout",
     "output_type": "stream",
     "text": [
      "C:\\Users\\Administrator\\kita\\test_dir\n"
     ]
    }
   ],
   "source": [
    "cd test_dir"
   ]
  },
  {
   "cell_type": "code",
   "execution_count": 37,
   "id": "93f2f015-40ca-4f7e-965f-4f5278e6e39d",
   "metadata": {},
   "outputs": [
    {
     "name": "stdout",
     "output_type": "stream",
     "text": [
      "This is an new example file.\n"
     ]
    }
   ],
   "source": [
    "with open('new_example.txt', 'r') as file:\n",
    "    txt=file.read()\n",
    "    print(txt)"
   ]
  },
  {
   "cell_type": "code",
   "execution_count": 38,
   "id": "72d5c516-1273-4611-9db5-18d0b33be8c7",
   "metadata": {},
   "outputs": [
    {
     "name": "stdout",
     "output_type": "stream",
     "text": [
      "C:\\Users\\Administrator\\kita\n"
     ]
    }
   ],
   "source": [
    "cd .."
   ]
  },
  {
   "cell_type": "code",
   "execution_count": 39,
   "id": "682a0e47-14e0-418c-bd86-8e311099bd80",
   "metadata": {},
   "outputs": [
    {
     "name": "stdout",
     "output_type": "stream",
     "text": [
      " C 드라이브의 볼륨에는 이름이 없습니다.\n",
      " 볼륨 일련 번호: C672-E692\n",
      "\n",
      " C:\\Users\\Administrator\\kita 디렉터리\n",
      "\n",
      "2024-05-24  오후 05:36    <DIR>          .\n",
      "2024-05-24  오후 05:36    <DIR>          ..\n",
      "2024-05-24  오후 05:14    <DIR>          .ipynb_checkpoints\n",
      "2024-05-24  오후 05:35    <DIR>          test_dir\n",
      "2024-05-24  오후 05:36             7,933 Untitled.ipynb\n",
      "               1개 파일               7,933 바이트\n",
      "               4개 디렉터리  171,701,985,280 바이트 남음\n"
     ]
    }
   ],
   "source": [
    "ls"
   ]
  },
  {
   "cell_type": "code",
   "execution_count": 42,
   "id": "d67a4dbb-5411-4e45-930a-c55ebb7b7b01",
   "metadata": {},
   "outputs": [],
   "source": [
    "# 디랙토리와 그 안의 모든 파일 삭제\n",
    "# /S 옵션: test_dir 안에 있는 모든 파일과 서브디렉토리를 삭제\n",
    "# /Q 옵션: 디렉토리 삭제하기 전에 사용자에게 확인 메시지를 묻지않고 바로 삭제\n",
    "!rmdir /S /Q test_dir"
   ]
  },
  {
   "cell_type": "code",
   "execution_count": 43,
   "id": "f19f1757-b11e-48f7-a00a-0c409d32e119",
   "metadata": {},
   "outputs": [],
   "source": [
    "with open('example.txt','w')as file:\n",
    "    file.write(\"This is an example file.\")"
   ]
  },
  {
   "cell_type": "code",
   "execution_count": 45,
   "id": "001f8076-c40f-4d4d-8c7a-1478ef62dad0",
   "metadata": {},
   "outputs": [
    {
     "name": "stderr",
     "output_type": "stream",
     "text": [
      "지정된 파일을 찾을 수 없습니다.\n"
     ]
    }
   ],
   "source": [
    "#파일 이름 변경\n",
    "!move example.txt new_example.txt"
   ]
  },
  {
   "cell_type": "code",
   "execution_count": 46,
   "id": "bd6972cb-9a4d-4a76-b23b-7e3ed60bb46d",
   "metadata": {},
   "outputs": [],
   "source": [
    "!mkdir test_dir"
   ]
  },
  {
   "cell_type": "code",
   "execution_count": 47,
   "id": "41716fe6-be9d-4963-ab39-ff7d0c0680d6",
   "metadata": {},
   "outputs": [
    {
     "name": "stdout",
     "output_type": "stream",
     "text": [
      "        1개 파일이 복사되었습니다.\n"
     ]
    }
   ],
   "source": [
    "# 파일 복사\n",
    "!copy new_example.txt .\\test_dir\\copy_example.txt"
   ]
  },
  {
   "cell_type": "code",
   "execution_count": 48,
   "id": "6a029eb5-68bf-4058-9364-1b33a57cc307",
   "metadata": {},
   "outputs": [],
   "source": [
    "rmdir /S /Q test_dir"
   ]
  },
  {
   "cell_type": "code",
   "execution_count": null,
   "id": "399f3124-c7ec-4480-a9a4-769a06701988",
   "metadata": {},
   "outputs": [],
   "source": []
  }
 ],
 "metadata": {
  "kernelspec": {
   "display_name": "Python 3 (ipykernel)",
   "language": "python",
   "name": "python3"
  },
  "language_info": {
   "codemirror_mode": {
    "name": "ipython",
    "version": 3
   },
   "file_extension": ".py",
   "mimetype": "text/x-python",
   "name": "python",
   "nbconvert_exporter": "python",
   "pygments_lexer": "ipython3",
   "version": "3.10.14"
  }
 },
 "nbformat": 4,
 "nbformat_minor": 5
}
