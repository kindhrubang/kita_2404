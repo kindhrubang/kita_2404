{
  "nbformat": 4,
  "nbformat_minor": 0,
  "metadata": {
    "colab": {
      "provenance": [],
      "toc_visible": true
    },
    "kernelspec": {
      "name": "python3",
      "display_name": "Python 3"
    },
    "language_info": {
      "name": "python"
    }
  },
  "cells": [
    {
      "cell_type": "markdown",
      "source": [
        "Task1_0507. 튜플 형태인 strings를 다양한 문자가 포함된 순서로 정렬하세요\n",
        "\n",
        "strings = ('a','ca','bar',aaaa','ababa')"
      ],
      "metadata": {
        "id": "giNwC3hxsOb0"
      }
    },
    {
      "cell_type": "code",
      "execution_count": null,
      "metadata": {
        "colab": {
          "base_uri": "https://localhost:8080/"
        },
        "id": "s2A9-r5jsH8v",
        "outputId": "e5afd311-7baf-48e8-f312-88ea0d104e14"
      },
      "outputs": [
        {
          "output_type": "stream",
          "name": "stdout",
          "text": [
            "<map object at 0x7fcf94b2f940>\n",
            "[{'a'}, {'c', 'a'}, {'a', 'b', 'r'}, {'a'}, {'a', 'b'}]\n",
            "[1, 2, 3, 1, 2]\n",
            "{'a': 1, 'ca': 2, 'bar': 3, 'aaaa': 1, 'ababa': 2}\n",
            "[('bar', 3), ('ca', 2), ('ababa', 2), ('a', 1), ('aaaa', 1)]\n",
            "['bar', 'ca', 'ababa', 'a', 'aaaa']\n"
          ]
        }
      ],
      "source": [
        "strings = ('a' ,'ca' ,'bar','aaaa','ababa')\n",
        "strings_map = map(lambda x: set(x), strings)\n",
        "new_str = []\n",
        "len_str = []\n",
        "new_dic = {}\n",
        "print(strings_map)\n",
        "for i in range(len(strings)):\n",
        "    new_str.append(next(strings_map))\n",
        "print(new_str)\n",
        "for i in range(len(new_str)):\n",
        "    len_str.append(len(new_str[i]))\n",
        "print(len_str)\n",
        "a= 0\n",
        "for i in strings:\n",
        "    new_dic[i] = len_str[a]\n",
        "    a += 1\n",
        "\n",
        "print(new_dic)\n",
        "dic_sorted = sorted(new_dic.items(), key = lambda x:x[1],reverse=True)\n",
        "print(dic_sorted)\n",
        "\n",
        "output = []\n",
        "for i in range(len(dic_sorted)):\n",
        "    output.append(dic_sorted[i][0])\n",
        "\n",
        "print(output)"
      ]
    },
    {
      "cell_type": "code",
      "source": [
        "#예시\n",
        "strings = ('a' ,'ca' ,'bar','aaaa','ababa')\n",
        "sorted_strings = sorted(strings, key=lambda x:len(set(x)), reverse=True)\n",
        "print(sorted_strings)"
      ],
      "metadata": {
        "colab": {
          "base_uri": "https://localhost:8080/"
        },
        "id": "R4V017aglwI0",
        "outputId": "187ebdc0-45e8-4068-f841-aed74888d07d"
      },
      "execution_count": 3,
      "outputs": [
        {
          "output_type": "stream",
          "name": "stdout",
          "text": [
            "['bar', 'ca', 'ababa', 'a', 'aaaa']\n"
          ]
        }
      ]
    },
    {
      "cell_type": "markdown",
      "source": [
        "Task2_0507. a,b 변수와 연산자를 입력하면 사칙연산을 수행하는 코드를 작성하세요.(eval 사용하는 경우와 안하는 경우)"
      ],
      "metadata": {
        "id": "ddDvm-e8wizA"
      }
    },
    {
      "cell_type": "code",
      "source": [
        "print(eval(input('연산거리 주세요 : ')))"
      ],
      "metadata": {
        "colab": {
          "base_uri": "https://localhost:8080/"
        },
        "id": "QFd8ELGvtNYV",
        "outputId": "bde0f293-3e0c-4a1d-8ffc-620566b060eb"
      },
      "execution_count": null,
      "outputs": [
        {
          "output_type": "stream",
          "name": "stdout",
          "text": [
            "연산거리 주세요 : 5*5\n",
            "25\n"
          ]
        }
      ]
    },
    {
      "cell_type": "code",
      "source": [
        "cd = input('연산거리 주세요 : ')\n",
        "rp = cd.replace(\" \", \"\")\n",
        "\n",
        "type(rp)\n",
        "new = list(rp)\n",
        "if new[1] == '+':\n",
        "    print(int(new[0]) + int(new[2]))\n",
        "elif new[1] == '-':\n",
        "    print(int(new[0]) - int(new[2]))\n",
        "elif new[1] == '/':\n",
        "    print(int(new[0]) / int(new[2]))\n",
        "elif new[1] == '*':\n",
        "    print(int(new[0]) * int(new[2]))"
      ],
      "metadata": {
        "colab": {
          "base_uri": "https://localhost:8080/"
        },
        "id": "kHKoMCdUyJda",
        "outputId": "e3a632fb-a886-4605-cabb-748e72581708"
      },
      "execution_count": null,
      "outputs": [
        {
          "output_type": "stream",
          "name": "stdout",
          "text": [
            "연산거리 주세요 : 5  - 4\n",
            "1\n"
          ]
        }
      ]
    },
    {
      "cell_type": "code",
      "source": [
        "#예시\n",
        "num = input('연산거리 주세요  : ')\n",
        "maths = ['+', '-', '/' , '*']\n",
        "math  = {'+': lambda a,b:a+b,'-': lambda a,b:a-b,'/': lambda a,b:a/b,'*': lambda a,b:a*b}\n",
        "\n",
        "num_list = list(num)\n",
        "for i in num_list:\n",
        "    if i in math:\n",
        "        num = num.split(i)\n",
        "        print(math[i](int(num[0]),int(num[1])))"
      ],
      "metadata": {
        "colab": {
          "base_uri": "https://localhost:8080/"
        },
        "id": "y1GtKnhxoOXZ",
        "outputId": "13077ace-5a3e-41c0-ea71-2d28ec820bc5"
      },
      "execution_count": 7,
      "outputs": [
        {
          "output_type": "stream",
          "name": "stdout",
          "text": [
            "연산거리 주세요  : 5-4\n",
            "1\n"
          ]
        }
      ]
    },
    {
      "cell_type": "markdown",
      "source": [
        "Task3_0507. list1에 대해서 아래와 같이 출력하는 코드를 작성하세요.\n",
        "\n",
        "인사평가 1번째 해당자는 김부장입니다. 회의실A로 오시기 바랍니다.\\\n",
        "인사평가 2번째 해당자는 이차장입니다. 회의실A로 오시기 바랍니다.\\\n",
        "인사평가 3번째 해당자는 김과장입니다. 회의실A로 오시기 바랍니다.\\\n",
        "인사평가 4번째 해당자는 이대리입니다. 회의실A로 오시기 바랍니다.\\\n",
        "인사평가 5번째 해당자는 오사원입니다. 회의실A로 오시기 바랍니다.\\\n",
        "인사평가 6번째 해당자는 김인턴입니다. 회의실A로 오시기 바랍니다"
      ],
      "metadata": {
        "id": "E1XUezCEzZqO"
      }
    },
    {
      "cell_type": "code",
      "source": [
        "list1 = ['김부장', '이차장', '김과장', '이대리', '오사원', '김인턴']\n",
        "\n",
        "for idx, element in enumerate(list1):\n",
        "    print(f'인사평가 {idx +1}번째 해당자는 {element}입니다. 회의실 A로 오시기 바랍니다.')"
      ],
      "metadata": {
        "colab": {
          "base_uri": "https://localhost:8080/"
        },
        "id": "f1sZF_-IyVXc",
        "outputId": "cc069e0f-d3f8-4907-a229-0813cb37fd88"
      },
      "execution_count": null,
      "outputs": [
        {
          "output_type": "stream",
          "name": "stdout",
          "text": [
            "인사평가 1번째 해당자는 김부장입니다. 회의실 A로 오시기 바랍니다.\n",
            "인사평가 2번째 해당자는 이차장입니다. 회의실 A로 오시기 바랍니다.\n",
            "인사평가 3번째 해당자는 김과장입니다. 회의실 A로 오시기 바랍니다.\n",
            "인사평가 4번째 해당자는 이대리입니다. 회의실 A로 오시기 바랍니다.\n",
            "인사평가 5번째 해당자는 오사원입니다. 회의실 A로 오시기 바랍니다.\n",
            "인사평가 6번째 해당자는 김인턴입니다. 회의실 A로 오시기 바랍니다.\n"
          ]
        }
      ]
    },
    {
      "cell_type": "markdown",
      "source": [
        "Task4_0507. 주어진 문자열 리스트의 요소들을 대문자로 변환하세요.\n",
        "\n",
        "words = [\"hello\", \"world\", \"python\", \"map\"]"
      ],
      "metadata": {
        "id": "ynafj6aozvRn"
      }
    },
    {
      "cell_type": "code",
      "source": [
        "words = [\"hello\", \"world\", \"python\", \"map\"]\n",
        "\n",
        "for word in words:\n",
        "    words[words.index(word)]= word.upper()\n",
        "\n",
        "print(words)"
      ],
      "metadata": {
        "colab": {
          "base_uri": "https://localhost:8080/"
        },
        "id": "P8BV46EkveH2",
        "outputId": "17995283-6e30-4b49-d676-43d2ed607742"
      },
      "execution_count": 17,
      "outputs": [
        {
          "output_type": "stream",
          "name": "stdout",
          "text": [
            "['HELLO', 'WORLD', 'PYTHON', 'MAP']\n"
          ]
        }
      ]
    },
    {
      "cell_type": "code",
      "source": [
        "words = [\"hello\", \"world\", \"python\", \"map\"]\n",
        "new_words = []\n",
        "upper_words = map(lambda x: x.upper(),words)\n",
        "for i in range(len(words)):\n",
        "    new_words.append(next(upper_words))\n",
        "\n",
        "print(new_words)"
      ],
      "metadata": {
        "colab": {
          "base_uri": "https://localhost:8080/"
        },
        "id": "TUAT89eBzvw-",
        "outputId": "7e2680f6-7d70-4c2e-9be9-2b57ef496ab2"
      },
      "execution_count": null,
      "outputs": [
        {
          "output_type": "stream",
          "name": "stdout",
          "text": [
            "['HELLO', 'WORLD', 'PYTHON', 'MAP']\n"
          ]
        }
      ]
    },
    {
      "cell_type": "code",
      "source": [
        "words = [\"hello\", \"world\", \"python\", \"map\"]\n",
        "print([i.upper() for i in words])"
      ],
      "metadata": {
        "id": "qfQQ_6-2vYAo"
      },
      "execution_count": null,
      "outputs": []
    },
    {
      "cell_type": "code",
      "source": [
        "#인덱스를 이용\n",
        "words = [\"hello\", \"world\", \"python\", \"map\"]\n",
        "for i in range(len(words)):\n",
        "    words[i]=words[i].upper()\n",
        "\n",
        "print(words)"
      ],
      "metadata": {
        "id": "HZ1my9_Uvapb"
      },
      "execution_count": null,
      "outputs": []
    },
    {
      "cell_type": "code",
      "source": [
        "# 요소를 이용\n",
        "words = [\"hello\", \"world\", \"python\", \"map\"]\n",
        "result = []\n",
        "for word in words:\n",
        "    result.append(word.upper())\n",
        "print(result)"
      ],
      "metadata": {
        "id": "CJs8st4EvbJU"
      },
      "execution_count": null,
      "outputs": []
    },
    {
      "cell_type": "code",
      "source": [
        "# str.upper는 문자열의 모든 문자를 대문자로 변환하는 메서드\n",
        "words = [\"hello\", \"world\", \"python\", \"map\"]\n",
        "upper_words = list(map(str.upper, words))\n",
        "print(upper_words)"
      ],
      "metadata": {
        "colab": {
          "base_uri": "https://localhost:8080/"
        },
        "id": "eFmfTyK0vivu",
        "outputId": "419f8116-f60d-4686-d677-723c2ce0eb54"
      },
      "execution_count": 16,
      "outputs": [
        {
          "output_type": "stream",
          "name": "stdout",
          "text": [
            "['HELLO', 'WORLD', 'PYTHON', 'MAP']\n"
          ]
        }
      ]
    },
    {
      "cell_type": "code",
      "source": [
        "print(type(str.upper))"
      ],
      "metadata": {
        "colab": {
          "base_uri": "https://localhost:8080/"
        },
        "id": "njzPPuBrwBP3",
        "outputId": "2c5aa39a-e617-4ba3-9e5a-2c859fe57e7c"
      },
      "execution_count": 21,
      "outputs": [
        {
          "output_type": "stream",
          "name": "stdout",
          "text": [
            "<class 'method_descriptor'>\n"
          ]
        }
      ]
    },
    {
      "cell_type": "markdown",
      "source": [
        "Task5_0507. 주어진 리스트에서 'p'로 시작하는 단어만 필터링하세요.\n",
        "\n",
        "words = [\"python\", \"is\", \"powerful\", \"programming\", \"language\", \"pandas\"]"
      ],
      "metadata": {
        "id": "1HC0mjU00Cml"
      }
    },
    {
      "cell_type": "code",
      "source": [
        "words = [\"python\", \"is\", \"powerful\", \"programming\", \"language\", \"pandas\"]\n",
        "p_words = []\n",
        "for i in range(len(words)):\n",
        "    if words[i][0] == 'p':\n",
        "        p_words.append(words[i])\n",
        "\n",
        "print(p_words)"
      ],
      "metadata": {
        "colab": {
          "base_uri": "https://localhost:8080/"
        },
        "id": "_-L_j6bH0DNU",
        "outputId": "9772bf65-c5be-4d17-f8fd-725d260a9e81"
      },
      "execution_count": null,
      "outputs": [
        {
          "output_type": "stream",
          "name": "stdout",
          "text": [
            "['python', 'powerful', 'programming', 'pandas']\n"
          ]
        }
      ]
    },
    {
      "cell_type": "code",
      "source": [
        "#예시\n",
        "words = [\"python\", \"is\", \"powerful\", \"programming\", \"language\", \"pandas\"]\n",
        "print([i for i in words if i.startswith('p')])"
      ],
      "metadata": {
        "colab": {
          "base_uri": "https://localhost:8080/"
        },
        "id": "TXKwPBTCweiK",
        "outputId": "d6833a51-83d7-4e4a-99e3-0037be7d9c25"
      },
      "execution_count": 22,
      "outputs": [
        {
          "output_type": "stream",
          "name": "stdout",
          "text": [
            "['python', 'powerful', 'programming', 'pandas']\n"
          ]
        }
      ]
    },
    {
      "cell_type": "code",
      "source": [
        "#예시\n",
        "words = [\"python\", \"is\", \"powerful\", \"programming\", \"language\", \"pandas\"]\n",
        "p_words = list(filter(lambda x: x.startswith('p'), words))\n",
        "print(p_words)"
      ],
      "metadata": {
        "colab": {
          "base_uri": "https://localhost:8080/"
        },
        "id": "PIQqWOS7wzKt",
        "outputId": "feafd935-a733-4c52-8bcf-4ef017a40b6c"
      },
      "execution_count": 23,
      "outputs": [
        {
          "output_type": "stream",
          "name": "stdout",
          "text": [
            "['python', 'powerful', 'programming', 'pandas']\n"
          ]
        }
      ]
    },
    {
      "cell_type": "markdown",
      "source": [
        "Task6_0507. 내장함수를 이용해서 list = [0,1,2,3,4,5,6]에서 2를 삭제 후 출력하세요.(2가지 방법)"
      ],
      "metadata": {
        "id": "eob7jzd70Mfm"
      }
    },
    {
      "cell_type": "code",
      "source": [
        "list = [0,1,2,3,4,5,6]\n",
        "list.pop(2)# 인덱스\n",
        "print(list)"
      ],
      "metadata": {
        "colab": {
          "base_uri": "https://localhost:8080/"
        },
        "id": "y2Ma-A990NB_",
        "outputId": "599b52db-ebb8-469f-bde1-532e8add7e4c"
      },
      "execution_count": 25,
      "outputs": [
        {
          "output_type": "stream",
          "name": "stdout",
          "text": [
            "[0, 1, 3, 4, 5, 6]\n"
          ]
        }
      ]
    },
    {
      "cell_type": "code",
      "source": [
        "list = [0,1,2,3,4,5,6]\n",
        "list.remove(2) #값\n",
        "print(list)"
      ],
      "metadata": {
        "colab": {
          "base_uri": "https://localhost:8080/"
        },
        "id": "cyN5AVEk0SRW",
        "outputId": "3df4e7bb-505e-448f-bafe-4355b90cff7c"
      },
      "execution_count": 26,
      "outputs": [
        {
          "output_type": "stream",
          "name": "stdout",
          "text": [
            "[0, 1, 3, 4, 5, 6]\n"
          ]
        }
      ]
    },
    {
      "cell_type": "code",
      "source": [
        "del 은 키워드임"
      ],
      "metadata": {
        "id": "b2OJha9_rCOs"
      },
      "execution_count": 24,
      "outputs": []
    },
    {
      "cell_type": "markdown",
      "source": [
        "Task7_0507. 내장함수를 이용하여 동일한 개수로 이루어진 자료형을 화살표 좌측에서 우측으로 변환하세요.\n",
        "\n",
        "[1,2,3],[4,5,6] -> [(1,4),(2,5),(3,6)]\\\n",
        "[1,2,3],[4,5,6] [7,8,9] -> [(1,4,7),(2,5,8),(3,6,9)]\\\n",
        "('abc','def') -> [('a','d'),('b','e'),('c','f')]"
      ],
      "metadata": {
        "id": "T0zQcCrm2I23"
      }
    },
    {
      "cell_type": "code",
      "source": [
        "a = [1,2,3]\n",
        "b = [4,5,6]\n",
        "c = [7,8,9]\n",
        "result = []\n",
        "for i in range(3):\n",
        "    result.append((a[i],b[i]))\n",
        "print(result)"
      ],
      "metadata": {
        "colab": {
          "base_uri": "https://localhost:8080/"
        },
        "id": "k4JGqXWR2Jw6",
        "outputId": "50646c05-ac63-407e-8c4d-6eeea9505126"
      },
      "execution_count": null,
      "outputs": [
        {
          "output_type": "stream",
          "name": "stdout",
          "text": [
            "[(1, 4), (2, 5), (3, 6)]\n"
          ]
        }
      ]
    },
    {
      "cell_type": "code",
      "source": [
        "a = [1,2,3]\n",
        "b = [4,5,6]\n",
        "c = [7,8,9]\n",
        "result = []\n",
        "for i in range(3):\n",
        "    result.append((a[i],b[i],c[i]))\n",
        "print(result)"
      ],
      "metadata": {
        "colab": {
          "base_uri": "https://localhost:8080/"
        },
        "id": "yaSzc1dY3SrX",
        "outputId": "9f58032e-949b-4df7-a1d0-0f54a3400d6e"
      },
      "execution_count": null,
      "outputs": [
        {
          "output_type": "stream",
          "name": "stdout",
          "text": [
            "[(1, 4, 7), (2, 5, 8), (3, 6, 9)]\n"
          ]
        }
      ]
    },
    {
      "cell_type": "code",
      "source": [
        "asd = ('abc','def')\n",
        "qwe = []\n",
        "for i in range(3):\n",
        "    qwe.append((asd[0][i],asd[1][i]))\n",
        "print((qwe))"
      ],
      "metadata": {
        "colab": {
          "base_uri": "https://localhost:8080/"
        },
        "id": "lFQ4lbYa3YJJ",
        "outputId": "05aac8e5-460c-46a5-cdfd-7fe0a9074955"
      },
      "execution_count": null,
      "outputs": [
        {
          "output_type": "stream",
          "name": "stdout",
          "text": [
            "[('a', 'd'), ('b', 'e'), ('c', 'f')]\n"
          ]
        }
      ]
    },
    {
      "cell_type": "code",
      "source": [
        "list1 = [1,2,3]\n",
        "list2 = [4,5,6]\n",
        "list3 = [7,8,9]\n",
        "tuple4 = ('abc', 'def')\n",
        "print([i for i in zip(list1, list2)])\n",
        "print([i for i in zip(list1, list2, list3)])\n",
        "print([i for i in zip(tuple4[0], tuple4[1])])"
      ],
      "metadata": {
        "colab": {
          "base_uri": "https://localhost:8080/"
        },
        "id": "a28I6YIwzd56",
        "outputId": "16127739-db95-4ee9-e0bb-9c01cafad601"
      },
      "execution_count": 29,
      "outputs": [
        {
          "output_type": "stream",
          "name": "stdout",
          "text": [
            "[(1, 4), (2, 5), (3, 6)]\n",
            "[(1, 4, 7), (2, 5, 8), (3, 6, 9)]\n",
            "[('a', 'd'), ('b', 'e'), ('c', 'f')]\n"
          ]
        }
      ]
    },
    {
      "cell_type": "markdown",
      "source": [
        "Task8_0507. url에서 호스트 도메인(news.naver.com)을 추출하여 출력하세요.\n",
        "\n",
        "url = 'http://news.naver.com/main/read.nhn?mode=LSD&mid=shm&sid1=105&oid=028&aid=0002334601'"
      ],
      "metadata": {
        "id": "49jJEfAU2LyY"
      }
    },
    {
      "cell_type": "code",
      "source": [
        "import requests\n",
        "from bs4 import BeautifulSoup\n",
        "\n",
        "def fetch_website_content(url):\n",
        "\n",
        "    response = requests.get(url)\n",
        "    if response.status_code == 200:\n",
        "\n",
        "        soup = BeautifulSoup(response.text, 'html.parser')\n",
        "        li = soup.select_one('li')\n",
        "        a = li.a\n",
        "        path1 = a['href']\n",
        "        print(\"Host domain:\", path1 if soup.title else \"No title found\")\n",
        "    else:\n",
        "        print(\"failed to retrieve the webpage\")\n",
        "        print(\"Status code:\", response.status_code)\n",
        "\n",
        "if __name__ == \"__main__\":\n",
        "    url = 'http://news.naver.com/main/read.nhn?mode=LSD&mid=shm&sid1=105&oid=028&aid=0002334601'\n",
        "    fetch_website_content(url)"
      ],
      "metadata": {
        "colab": {
          "base_uri": "https://localhost:8080/"
        },
        "id": "lbS7tdr-2MO3",
        "outputId": "0e406102-893e-41ad-e837-bbbedccd2827"
      },
      "execution_count": 30,
      "outputs": [
        {
          "output_type": "stream",
          "name": "stdout",
          "text": [
            "Host domain: https://news.naver.com/\n"
          ]
        }
      ]
    },
    {
      "cell_type": "code",
      "source": [],
      "metadata": {
        "id": "uM1iHS_n-drr"
      },
      "execution_count": null,
      "outputs": []
    }
  ]
}