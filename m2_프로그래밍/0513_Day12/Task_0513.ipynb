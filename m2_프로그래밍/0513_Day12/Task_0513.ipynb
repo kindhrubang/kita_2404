{
  "nbformat": 4,
  "nbformat_minor": 0,
  "metadata": {
    "colab": {
      "provenance": []
    },
    "kernelspec": {
      "name": "python3",
      "display_name": "Python 3"
    },
    "language_info": {
      "name": "python"
    }
  },
  "cells": [
    {
      "cell_type": "markdown",
      "source": [
        "Task1_0513.클래스 구성 요소와 관련 아래 사항에 대한 사례를 작성하세요.\n",
        "- 클래스 선언\n",
        "- 생성자\n",
        "- 속성(attributes)\n",
        "- 메서드\n",
        "- 상속\n",
        "- 인스턴스화(객체 만들기)\n",
        "- 클래스 변수\n",
        "- 매직 메서드(특수 메서드)"
      ],
      "metadata": {
        "id": "KV6Ig7jVg33m"
      }
    },
    {
      "cell_type": "code",
      "execution_count": 29,
      "metadata": {
        "colab": {
          "base_uri": "https://localhost:8080/"
        },
        "id": "R4QmL3W5g3Jw",
        "outputId": "8d2f738d-99e7-49a8-9e55-4ffb6fd3b7d5"
      },
      "outputs": [
        {
          "output_type": "stream",
          "name": "stdout",
          "text": [
            "7\n"
          ]
        }
      ],
      "source": [
        "class Test:\n",
        "    def __init__ (self, num1, num2):\n",
        "        self.num1 = num1\n",
        "        self.num2 = num2\n",
        "\n",
        "class Sum(Test):\n",
        "    def __add__(self):\n",
        "        return self.num1 + self.num2\n",
        "\n",
        "asd = Sum(3,4)\n",
        "print(asd.__add__())"
      ]
    },
    {
      "cell_type": "markdown",
      "source": [
        "Task2_0513. 두개의 수를 입력한 후 두개의 수에 대한 사칙연산을 수행하세요.(0을 입력한 경우 다시 입력하도록 조치)"
      ],
      "metadata": {
        "id": "92UJmmdloE_H"
      }
    },
    {
      "cell_type": "code",
      "source": [
        "class Task:\n",
        "    def __init__(self, num1 , num2):\n",
        "        self.num1 = num1\n",
        "        self.num2 = num2\n",
        "\n",
        "    def add(self):\n",
        "        return self.num1+self.num2\n",
        "\n",
        "    def mn(self):\n",
        "        return self.num1-self.num2\n",
        "\n",
        "    def mul(self):\n",
        "        return self.num1*self.num2\n",
        "\n",
        "    def nanu(self):\n",
        "        return self.num1/self.num2\n",
        "\n",
        "n1 = int(input('수 입력'))\n",
        "n2 = int(input('수 입력'))\n",
        "\n",
        "asd = Task(n1,n2)\n",
        "print(asd.add())\n",
        "print(asd.mn())\n",
        "print(asd.mul())\n",
        "print(asd.nanu())"
      ],
      "metadata": {
        "colab": {
          "base_uri": "https://localhost:8080/"
        },
        "id": "YCiaPX6IoFUQ",
        "outputId": "1ec662f4-1ce4-412b-88a1-54b0a1d65c8e"
      },
      "execution_count": 21,
      "outputs": [
        {
          "output_type": "stream",
          "name": "stdout",
          "text": [
            "수 입력5\n",
            "수 입력4\n",
            "9\n",
            "1\n",
            "20\n",
            "1.25\n"
          ]
        }
      ]
    },
    {
      "cell_type": "markdown",
      "source": [
        "Task3_0513. 파이썬 오버라이딩, 오버로딩, 다형성의 사례를 만들어 보세요."
      ],
      "metadata": {
        "id": "awaJLosVuxr8"
      }
    },
    {
      "cell_type": "code",
      "source": [
        "class Task:\n",
        "    def lotto(self):\n",
        "        return\n",
        "class Lucky(Task):\n",
        "    def lotto(self):\n",
        "        return 'scucces!!!'\n",
        "class Sagi(Task):\n",
        "    def operation(self, dif = '실패야~'):\n",
        "        if dif == '실패야~':\n",
        "            return '실패야~~~'\n",
        "        else:\n",
        "            return '그래도 실패야~'\n",
        "\n",
        "asd=Lucky()\n",
        "qwe=Sagi()\n",
        "\n",
        "print(asd.lotto())\n",
        "print(qwe.operation('제발 당첨'))"
      ],
      "metadata": {
        "colab": {
          "base_uri": "https://localhost:8080/"
        },
        "id": "UaaHBb-Du3BT",
        "outputId": "214b2cf3-fb79-460d-bbec-e447a2732436"
      },
      "execution_count": 28,
      "outputs": [
        {
          "output_type": "stream",
          "name": "stdout",
          "text": [
            "scucces!!!\n",
            "그래도 실패야~\n"
          ]
        }
      ]
    },
    {
      "cell_type": "code",
      "source": [],
      "metadata": {
        "id": "ZE9RdobD_aJZ"
      },
      "execution_count": null,
      "outputs": []
    }
  ]
}