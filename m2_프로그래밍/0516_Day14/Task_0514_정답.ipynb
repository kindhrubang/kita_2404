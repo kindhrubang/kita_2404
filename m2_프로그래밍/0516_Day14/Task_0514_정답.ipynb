{
  "nbformat": 4,
  "nbformat_minor": 0,
  "metadata": {
    "colab": {
      "provenance": [],
      "toc_visible": true
    },
    "kernelspec": {
      "name": "python3",
      "display_name": "Python 3"
    },
    "language_info": {
      "name": "python"
    }
  },
  "cells": [
    {
      "cell_type": "markdown",
      "source": [
        "Task1_0514. BC, CC, ABC 모두 C가 출력되는 정규 표현식을 ( )에 작성하세요.\n"
      ],
      "metadata": {
        "id": "vuhVSDnlEsXI"
      }
    },
    {
      "cell_type": "code",
      "execution_count": 2,
      "metadata": {
        "colab": {
          "base_uri": "https://localhost:8080/"
        },
        "id": "EmV2R7bZEnzO",
        "outputId": "9d45edf1-6f3d-45bf-a2a7-0ca89aba01a7"
      },
      "outputs": [
        {
          "output_type": "stream",
          "name": "stdout",
          "text": [
            "C\n",
            "CC\n",
            "C\n"
          ]
        }
      ],
      "source": [
        "import re\n",
        "pattern = re.compile(r'C+')\n",
        "text1 = 'BC'\n",
        "text2 = 'CC'\n",
        "text3 = 'ABC'\n",
        "p1 = pattern.search(text1)\n",
        "p2 = pattern.search(text2)\n",
        "p3 = pattern.search(text3)\n",
        "print(p1.group())\n",
        "print(p2.group())\n",
        "print(p3.group())"
      ]
    },
    {
      "cell_type": "code",
      "source": [
        "import re\n",
        "pattern = re.compile('A?C')#A가 없거나 한번+\n",
        "text1= 'BC'\n",
        "text2 = 'CC'\n",
        "text3 = 'ABC'\n",
        "text4 = 'AAC'\n",
        "text5 = 'BCC'\n",
        "p1 = pattern.search(text1)\n",
        "p2 = pattern.search(text2)\n",
        "p3 = pattern.search(text3)\n",
        "p4 = pattern.search(text4)\n",
        "p5 = pattern.search(text5)\n",
        "print(p1.group())\n",
        "print(p2.group())\n",
        "print(p3.group())\n",
        "print(p4.group())\n",
        "print(p5.group())"
      ],
      "metadata": {
        "colab": {
          "base_uri": "https://localhost:8080/"
        },
        "id": "UEv5rIrqzV0O",
        "outputId": "05dd3372-1560-4830-f093-9566b77b258c"
      },
      "execution_count": 7,
      "outputs": [
        {
          "output_type": "stream",
          "name": "stdout",
          "text": [
            "C\n",
            "C\n",
            "C\n",
            "AC\n",
            "C\n"
          ]
        }
      ]
    },
    {
      "cell_type": "code",
      "source": [
        "import re\n",
        "pattern = re.compile('A?C')\n",
        "test_strings = ['AC', \"CC\", 'ABC', 'AAC', 'BCC']\n",
        "\n",
        "for i in test_strings:\n",
        "    match=pattern.match(i)\n",
        "    if match:\n",
        "        print(f'\"{i} Found a match!')\n",
        "    else:\n",
        "        print(f'\"{i}\" No match')"
      ],
      "metadata": {
        "colab": {
          "base_uri": "https://localhost:8080/"
        },
        "id": "Cs9B_Vqs1QZ_",
        "outputId": "f0a91887-cf16-49cb-ccde-7bc14e4a31d3"
      },
      "execution_count": 9,
      "outputs": [
        {
          "output_type": "stream",
          "name": "stdout",
          "text": [
            "\"AC Found a match!\n",
            "\"CC Found a match!\n",
            "\"ABC\" No match\n",
            "\"AAC\" No match\n",
            "\"BCC\" No match\n"
          ]
        }
      ]
    },
    {
      "cell_type": "markdown",
      "source": [
        "Task2_0514. ' Python3 is very good programming language!'에서  ['Python', 'is', 'very', 'good', 'programming', 'language']를 모두 출력하세요."
      ],
      "metadata": {
        "id": "PSUvyGn0G_iB"
      }
    },
    {
      "cell_type": "code",
      "source": [
        "import re\n",
        "regex = re.compile('[A-z]+')\n",
        "text = ' Python3 is very good programming language!'\n",
        "m = regex.findall(text)\n",
        "print(m)"
      ],
      "metadata": {
        "colab": {
          "base_uri": "https://localhost:8080/"
        },
        "id": "R-N3oWB2Evmv",
        "outputId": "f8f38c8b-4d97-42d2-856b-fdd052d3ca84"
      },
      "execution_count": null,
      "outputs": [
        {
          "output_type": "stream",
          "name": "stdout",
          "text": [
            "['Python', 'is', 'very', 'good', 'programming', 'language']\n"
          ]
        }
      ]
    },
    {
      "cell_type": "code",
      "source": [
        "regex = re.compile('[A-z]+')\n",
        "regex.findall('Python3 is very good programming language!')"
      ],
      "metadata": {
        "colab": {
          "base_uri": "https://localhost:8080/"
        },
        "id": "azU3JUUb2Lm8",
        "outputId": "c20d9080-e2df-4b5f-ef38-15a20a5d8353"
      },
      "execution_count": 10,
      "outputs": [
        {
          "output_type": "execute_result",
          "data": {
            "text/plain": [
              "['Python', 'is', 'very', 'good', 'programming', 'language']"
            ]
          },
          "metadata": {},
          "execution_count": 10
        }
      ]
    },
    {
      "cell_type": "code",
      "source": [],
      "metadata": {
        "id": "jwOvocY2IjDR"
      },
      "execution_count": null,
      "outputs": []
    }
  ]
}