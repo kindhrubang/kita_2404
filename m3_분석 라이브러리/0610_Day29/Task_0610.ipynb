{
  "nbformat": 4,
  "nbformat_minor": 0,
  "metadata": {
    "colab": {
      "provenance": []
    },
    "kernelspec": {
      "name": "python3",
      "display_name": "Python 3"
    },
    "language_info": {
      "name": "python"
    }
  },
  "cells": [
    {
      "cell_type": "markdown",
      "source": [
        "Task1_0610. 주어진 두 배열 arr1과 arr2에서, arr2의 요소가 10보다 큰 위치의 arr1 요소들을 선택하세요.\n",
        "\n",
        "arr1 = np.array([10, 20, 30, 40, 50])<br>\n",
        "arr2 = np.array([5, 15, 25, 10, 35])"
      ],
      "metadata": {
        "id": "mEH7SmiU7M42"
      }
    },
    {
      "cell_type": "code",
      "execution_count": 2,
      "metadata": {
        "colab": {
          "base_uri": "https://localhost:8080/"
        },
        "id": "Fxj_aIVD7Hod",
        "outputId": "008388c6-b352-4076-9e94-df62ac7098de"
      },
      "outputs": [
        {
          "output_type": "execute_result",
          "data": {
            "text/plain": [
              "array([20, 30, 50])"
            ]
          },
          "metadata": {},
          "execution_count": 2
        }
      ],
      "source": [
        "import numpy as np\n",
        "arr1 = np.array([10, 20, 30, 40, 50])\n",
        "arr2 = np.array([5, 15, 25, 10, 35])\n",
        "arr1[arr2 > 10]"
      ]
    },
    {
      "cell_type": "markdown",
      "source": [
        "Task2_0610. 주어진 배열에서 짝수 인덱스에 있는 요소들을 선택하세요.\n",
        "\n",
        "arr = np.array([5, 10, 15, 20, 25, 30, 35, 40])"
      ],
      "metadata": {
        "id": "62FUSdkL7QQV"
      }
    },
    {
      "cell_type": "code",
      "source": [
        "arr = np.array([5, 10, 15, 20, 25, 30, 35, 40])\n",
        "arr[::2]"
      ],
      "metadata": {
        "colab": {
          "base_uri": "https://localhost:8080/"
        },
        "id": "Eoohjqh4DvfK",
        "outputId": "0ebb6015-92f3-4034-bc7f-057a1aa63d40"
      },
      "execution_count": 4,
      "outputs": [
        {
          "output_type": "execute_result",
          "data": {
            "text/plain": [
              "array([ 5, 15, 25, 35])"
            ]
          },
          "metadata": {},
          "execution_count": 4
        }
      ]
    },
    {
      "cell_type": "markdown",
      "source": [
        "Task3_0610. 주어진 배열에서 20보다 작은 요소들의 값을 0으로 변경하세요.\n",
        "\n",
        "arr = np.array([10, 25, 30, 15, 40, 5])"
      ],
      "metadata": {
        "id": "QafrgE6V7R4o"
      }
    },
    {
      "cell_type": "code",
      "source": [
        "arr = np.array([10, 25, 30, 15, 40, 5])\n",
        "arr[arr<20] = 0\n",
        "arr"
      ],
      "metadata": {
        "colab": {
          "base_uri": "https://localhost:8080/"
        },
        "id": "0lmp_0JhFyUF",
        "outputId": "cd93d099-10b1-43cb-e36d-327e1500ae69"
      },
      "execution_count": 5,
      "outputs": [
        {
          "output_type": "execute_result",
          "data": {
            "text/plain": [
              "array([ 0, 25, 30,  0, 40,  0])"
            ]
          },
          "metadata": {},
          "execution_count": 5
        }
      ]
    },
    {
      "cell_type": "code",
      "source": [],
      "metadata": {
        "id": "RY_mQoipF1y8"
      },
      "execution_count": null,
      "outputs": []
    }
  ]
}