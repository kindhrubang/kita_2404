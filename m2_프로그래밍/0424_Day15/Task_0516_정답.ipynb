{
  "nbformat": 4,
  "nbformat_minor": 0,
  "metadata": {
    "colab": {
      "provenance": []
    },
    "kernelspec": {
      "name": "python3",
      "display_name": "Python 3"
    },
    "language_info": {
      "name": "python"
    }
  },
  "cells": [
    {
      "cell_type": "markdown",
      "source": [
        "Task1_0516. '199305, 1923A, a93247'에서 '199305'만 출력하세요."
      ],
      "metadata": {
        "id": "isp4IZR_A8iZ"
      }
    },
    {
      "cell_type": "code",
      "execution_count": null,
      "metadata": {
        "colab": {
          "base_uri": "https://localhost:8080/"
        },
        "id": "siriA1lo_4yX",
        "outputId": "6914f409-a3a9-4870-8dd9-f74cb84a9f5b"
      },
      "outputs": [
        {
          "output_type": "stream",
          "name": "stdout",
          "text": [
            "199305\n"
          ]
        }
      ],
      "source": [
        "import re\n",
        "\n",
        "pattern = re.compile('\\d+')\n",
        "text = '199305, 1923A, a93247'\n",
        "\n",
        "matches = pattern.search(text)\n",
        "print(matches.group())"
      ]
    },
    {
      "cell_type": "markdown",
      "source": [
        "Task2_0516. '99food234, a93456\\n, a9356ba '에서 '99food234'만 출력하세요"
      ],
      "metadata": {
        "id": "je5YbRcfA8vn"
      }
    },
    {
      "cell_type": "code",
      "source": [
        "import re\n",
        "\n",
        "pattern = re.compile('\\d{2}\\w{4}\\d{3}')\n",
        "text =  '99food234, a93456\\n, a9356ba '\n",
        "matches = pattern.search(text)\n",
        "print(matches.group())"
      ],
      "metadata": {
        "colab": {
          "base_uri": "https://localhost:8080/"
        },
        "id": "Z1LyhfvGPbAs",
        "outputId": "4c6f46bd-b92b-4d35-fc48-3d7de487bb0d"
      },
      "execution_count": null,
      "outputs": [
        {
          "output_type": "stream",
          "name": "stdout",
          "text": [
            "99food234\n"
          ]
        }
      ]
    },
    {
      "cell_type": "code",
      "source": [
        "#\\w : 하나 이상의 영문자나 숫자(단어문자)\n",
        "#\\d : 숫자 한 개\n",
        "import re\n",
        "\n",
        "pattern = re.compile('^\\w+\\d') # 99food23    4\n",
        "text =  '99food234, a93456\\n, a9356ba '\n",
        "matches = pattern.search(text)\n",
        "print(matches.group())"
      ],
      "metadata": {
        "colab": {
          "base_uri": "https://localhost:8080/"
        },
        "id": "CgIoLLQg67tJ",
        "outputId": "8e074a6f-43fe-4667-c452-ae57b073c57e"
      },
      "execution_count": null,
      "outputs": [
        {
          "output_type": "stream",
          "name": "stdout",
          "text": [
            "99food234\n"
          ]
        }
      ]
    },
    {
      "cell_type": "markdown",
      "source": [
        "Task3_0516. 주어진 문자열이 유효한 이메일 주소인지 확인\n",
        "\"example@example.com\""
      ],
      "metadata": {
        "id": "rptExBWYPnpm"
      }
    },
    {
      "cell_type": "code",
      "source": [
        "import re\n",
        "\n",
        "pattern = '(\\w)+@(\\w)+\\.com'\n",
        "text = \"example@example.com\"\n",
        "match = re.search(pattern, text)\n",
        "\n",
        "if match:\n",
        "    print('올바른 이메일 형식')\n",
        "else:\n",
        "    print('올바르지 않은 이메일 형식')"
      ],
      "metadata": {
        "colab": {
          "base_uri": "https://localhost:8080/"
        },
        "id": "GCVU6BM3Porb",
        "outputId": "f39b3a2b-b415-4e9a-cb8a-03445a3865d6"
      },
      "execution_count": null,
      "outputs": [
        {
          "output_type": "stream",
          "name": "stdout",
          "text": [
            "올바르지 않은 이메일 형식\n"
          ]
        }
      ]
    },
    {
      "cell_type": "code",
      "source": [
        "import re\n",
        "def is_valid_email(email):\n",
        "    pattern = r'^[a-zA-Z0-9._%+-]+@[a-zA-Z0-9.-]+\\.[a-zA-Z]{2,}$'\n",
        "    return bool(re.match(pattern, email))\n",
        "\n",
        "is_valid_email(\"example@example.com\")"
      ],
      "metadata": {
        "colab": {
          "base_uri": "https://localhost:8080/"
        },
        "id": "dif5g5Us7v5v",
        "outputId": "59bc236f-d5d0-4e47-b4d7-88b34b5b4868"
      },
      "execution_count": null,
      "outputs": [
        {
          "output_type": "execute_result",
          "data": {
            "text/plain": [
              "True"
            ]
          },
          "metadata": {},
          "execution_count": 5
        }
      ]
    },
    {
      "cell_type": "markdown",
      "source": [
        "Task4_0516. 주어진 문자열이 올바른 전화번호 형식(010-0000-0000)인지 확인하세요.\n",
        "\"010-1234-5678\""
      ],
      "metadata": {
        "id": "ox9FcUH6PqAM"
      }
    },
    {
      "cell_type": "code",
      "source": [
        "import re\n",
        "\n",
        "pattern = '(\\d{3})[-](\\d{4})[-](\\d{4})(?!.+)'\n",
        "text = '010-0000-5649'\n",
        "match = re.match(pattern, text)\n",
        "\n",
        "if match:\n",
        "    print('올바른 전화번호')\n",
        "else:\n",
        "    print('올바르지 않은 전화번호')"
      ],
      "metadata": {
        "colab": {
          "base_uri": "https://localhost:8080/"
        },
        "id": "ImXmwQqQPqOI",
        "outputId": "45850aaf-d027-4592-e32c-a8d7c36bee19"
      },
      "execution_count": null,
      "outputs": [
        {
          "output_type": "stream",
          "name": "stdout",
          "text": [
            "올바른 전화번호\n"
          ]
        }
      ]
    },
    {
      "cell_type": "code",
      "source": [
        "pattern = '^010-\\d{4}-\\d{4}'\n",
        "text = '010-0000-5645'\n",
        "match = re.match(pattern, text)\n",
        "\n",
        "if match:\n",
        "    print('올바른 전화번호')\n",
        "else:\n",
        "    print('올바르지 않은 전화번호')"
      ],
      "metadata": {
        "colab": {
          "base_uri": "https://localhost:8080/"
        },
        "id": "EyKhrOJf8qME",
        "outputId": "c12795cd-43be-44c9-bac5-c326cacb2ef2"
      },
      "execution_count": null,
      "outputs": [
        {
          "output_type": "stream",
          "name": "stdout",
          "text": [
            "올바르지 않은 전화번호\n"
          ]
        }
      ]
    },
    {
      "cell_type": "markdown",
      "source": [
        "Task5_0516. 문자열에서 모든 HTML 태그를 찾아 리스트로 반환하세요.\n",
        "\"<html><head></head><body></body></html>\""
      ],
      "metadata": {
        "id": "yA6XjsqgPrDv"
      }
    },
    {
      "cell_type": "code",
      "source": [
        "import re\n",
        "\n",
        "pattern = re.compile('<.+?>')\n",
        "text = \"<html><head></head><body></body></html>\"\n",
        "matches = pattern.findall(text)\n",
        "\n",
        "print(matches)"
      ],
      "metadata": {
        "colab": {
          "base_uri": "https://localhost:8080/"
        },
        "id": "IN6dxfVBPrPf",
        "outputId": "13d771e6-7e30-4647-eb74-d33e8ec02952"
      },
      "execution_count": null,
      "outputs": [
        {
          "output_type": "stream",
          "name": "stdout",
          "text": [
            "['<html>', '<head>', '</head>', '<body>', '</body>', '</html>']\n"
          ]
        }
      ]
    },
    {
      "cell_type": "code",
      "source": [
        "pattern = re.compile('<[^>]+>')\n",
        "text = \"<html><head></head><<body></body></html>\"\n",
        "matches = pattern.findall(text)\n",
        "\n",
        "print(matches)"
      ],
      "metadata": {
        "colab": {
          "base_uri": "https://localhost:8080/"
        },
        "id": "AkPVPm0j-BKc",
        "outputId": "48140394-c1e4-480e-d8fa-9f72aba124eb"
      },
      "execution_count": null,
      "outputs": [
        {
          "output_type": "stream",
          "name": "stdout",
          "text": [
            "['<html>', '<head>', '</head>', '<<body>', '</body>', '</html>']\n"
          ]
        }
      ]
    },
    {
      "cell_type": "markdown",
      "source": [
        "Task6_0516. 주어진 비밀번호가 최소 8자, 대문자, 소문자, 숫자, 특수문자를 포함하는지 확인하세요.\n",
        "\"Aa1!aaaa\""
      ],
      "metadata": {
        "id": "0A98hBUQPtxd"
      }
    },
    {
      "cell_type": "code",
      "source": [
        "import re\n",
        "\n",
        "t = r'[!-/]+'\n",
        "so = r'[a-z]+'\n",
        "de = r'[A-Z]+'\n",
        "su = r'[0-9]+'\n",
        "\n",
        "text = 'Aa1!aaaa'\n",
        "while 1:\n",
        "    match= re.search(t, text)\n",
        "    if match:\n",
        "        match= re.search(so, text)\n",
        "        if match:\n",
        "            match= re.search(de, text)\n",
        "            if match:\n",
        "                match= re.search(su, text)\n",
        "                if match:\n",
        "                    print('올바른 비밀번호')\n",
        "                    break\n",
        "    print('올바르지 않은 비밀번호')\n",
        "    break\n"
      ],
      "metadata": {
        "colab": {
          "base_uri": "https://localhost:8080/"
        },
        "id": "bNyqNWRsPuCo",
        "outputId": "252d3279-3edb-45fb-ba13-8578dfc05152"
      },
      "execution_count": null,
      "outputs": [
        {
          "output_type": "stream",
          "name": "stdout",
          "text": [
            "올바르지 않은 비밀번호\n"
          ]
        }
      ]
    },
    {
      "cell_type": "code",
      "source": [
        "import re\n",
        "def is_strong_password(password):\n",
        "#    pattern = r'^(?=.*[a-z])(?=.*[A-Z])(?=.*\\d)(?=.*[@$!%*?&])[A-Za-z\\d@$!%&?*]{8,}$'\n",
        "    pattern = r'[{(a-z)+(A-Z)+\\d+(\\D\\W\\S)+}]{8,}'\n",
        "    return bool(re.match(pattern, password))\n",
        "\n",
        "is_strong_password('9849999999')"
      ],
      "metadata": {
        "colab": {
          "base_uri": "https://localhost:8080/"
        },
        "id": "3aoSdICv-f3s",
        "outputId": "e326ab0b-cf67-4aba-a0f1-2b21c901989b"
      },
      "execution_count": 6,
      "outputs": [
        {
          "output_type": "execute_result",
          "data": {
            "text/plain": [
              "True"
            ]
          },
          "metadata": {},
          "execution_count": 6
        }
      ]
    },
    {
      "cell_type": "markdown",
      "source": [
        "Task7_0516. 주어진 문자열이 유효한 URL인지 확인하세요.\n",
        "\"https://www.example.com\""
      ],
      "metadata": {
        "id": "tYd2f33hP1d5"
      }
    },
    {
      "cell_type": "code",
      "source": [
        "\n",
        "pattern = r'https://www\\.(\\w+)\\.com'\n",
        "text =  \"https://www.example.com\"\n",
        "\n",
        "match = re.search(pattern, text)\n",
        "if match:\n",
        "    print('올바른 url')\n",
        "else:\n",
        "    print('올바르지 않은 url')"
      ],
      "metadata": {
        "colab": {
          "base_uri": "https://localhost:8080/"
        },
        "id": "5uM9TjVhP1Nn",
        "outputId": "520a3e6b-3f40-4d49-e8c1-624c9ddc67d3"
      },
      "execution_count": null,
      "outputs": [
        {
          "output_type": "stream",
          "name": "stdout",
          "text": [
            "올바른 url\n"
          ]
        }
      ]
    },
    {
      "cell_type": "code",
      "source": [
        "def is_valid_url(url):\n",
        "\n",
        "    pattern = r'^(https?|ftp):\\/\\/[^\\s/$.?#].[^\\s]*$'\n",
        "    return bool(re.match(pattern, url))\n",
        "\n",
        "is_valid_url('https://www.example.com')"
      ],
      "metadata": {
        "colab": {
          "base_uri": "https://localhost:8080/"
        },
        "id": "UiugSm8CCGer",
        "outputId": "1ba8e213-2564-4f1b-edeb-4de6367a7779"
      },
      "execution_count": 11,
      "outputs": [
        {
          "output_type": "execute_result",
          "data": {
            "text/plain": [
              "True"
            ]
          },
          "metadata": {},
          "execution_count": 11
        }
      ]
    },
    {
      "cell_type": "markdown",
      "source": [
        "Task8_0516. 주어진 문자열이 유효한 주민등록번호(######-#######) 형식인지 확인하세요.\n",
        "\"900101-1234567\""
      ],
      "metadata": {
        "id": "ZYKlOGB5P4Xr"
      }
    },
    {
      "cell_type": "code",
      "source": [
        "pattern = r'\\d{6}-[1234]\\d{6}(?!.+)'\n",
        "text=\"900101-1234567\"\n",
        "match = re.search(pattern, text)\n",
        "\n",
        "if match:\n",
        "    print('올바른 주민번호')\n",
        "else:\n",
        "    print('올바르지 않은 주민번호')"
      ],
      "metadata": {
        "colab": {
          "base_uri": "https://localhost:8080/"
        },
        "id": "sbirNIMkP4me",
        "outputId": "8fd46a17-4a72-4afa-c910-774dbb5c21b9"
      },
      "execution_count": 14,
      "outputs": [
        {
          "output_type": "stream",
          "name": "stdout",
          "text": [
            "올바른 주민번호\n"
          ]
        }
      ]
    },
    {
      "cell_type": "code",
      "source": [
        "pattern = r'\\d{2}(1[0-2]|0[1-9])([12][0-9]|3[0-1]|0[1-9])-[1234]\\d{6}(?!.+)'\n",
        "text=\"900100-1234567\"\n",
        "match = re.search(pattern, text)\n",
        "\n",
        "if match:\n",
        "    print('올바른 주민번호')\n",
        "else:\n",
        "    print('올바르지 않은 주민번호')"
      ],
      "metadata": {
        "colab": {
          "base_uri": "https://localhost:8080/"
        },
        "id": "DOo7cxxFFuah",
        "outputId": "85b43e3a-51ea-4f0f-d32c-00127268ead7"
      },
      "execution_count": 19,
      "outputs": [
        {
          "output_type": "stream",
          "name": "stdout",
          "text": [
            "올바르지 않은 주민번호\n"
          ]
        }
      ]
    },
    {
      "cell_type": "markdown",
      "source": [
        "Task9_0516. 주어진 문자열이 유효한 IPv4 주소인지 확인하세요.\n",
        "\"192.168.1.1\""
      ],
      "metadata": {
        "id": "9pkl8-ugP--T"
      }
    },
    {
      "cell_type": "code",
      "source": [
        "#월별 예외적인 일의 경우는 별도 조건문으로 처리\n",
        "#pattern = r'\\d{2}((0[13578]|1[02])(0[1-9]|[12]\\d|3[01])|(0[469]|11)(0[1-9]|[12]\\d|30)|02(0[1-9]|1\\d|2[0-8]))-[1234]\\d{6}'\n",
        "pattern = '([12]\\d{2}|\\d{2}|\\d{1})\\.([12]\\d{2}|\\d{2}|\\d{1})\\.([12]\\d{2}|\\d{2}|\\d{1})\\.([12]\\d{2}|\\d{2}|\\d{1})(?!.+)'\n",
        "text = '192.168.13.231'\n",
        "match = re.search(pattern, text)\n",
        "if match:\n",
        "    print('올바른 주소')\n",
        "else:\n",
        "    print('올바르지 않은 주소')"
      ],
      "metadata": {
        "colab": {
          "base_uri": "https://localhost:8080/"
        },
        "id": "g1JILC8CP_Op",
        "outputId": "abd6f939-3d74-46b7-967e-063479779c88"
      },
      "execution_count": null,
      "outputs": [
        {
          "output_type": "stream",
          "name": "stdout",
          "text": [
            "올바른 주소\n"
          ]
        }
      ]
    },
    {
      "cell_type": "code",
      "source": [
        "def is_valid_ip(ip):\n",
        "    pattern = re.compile(r'^((25[0-5]|2[0-4][0-9]|[01]?[0-9][0-9]?)\\.){3}(25[0-5]|2[0-4][0-9]|[01]?[0-9][0-9]?)$')\n",
        "    return bool(re.match(pattern, ip))\n",
        "\n",
        "\n",
        "test_ips = [\n",
        "    \"192.168.0.1\",\n",
        "    \"255.255.255.255\",\n",
        "    \"256.256.256.256\",\n",
        "    \"192.168.1\",\n",
        "    \"192.168.1.300\",\n",
        "    'asd.qwe.zxf.asq',\n",
        "    \"192.165.000.123\"\n",
        "\n",
        "]\n",
        "for ip in test_ips:\n",
        "    if is_valid_ip(ip):\n",
        "        print(f\"{ip} is a valid IP address.\")\n",
        "    else:\n",
        "        print(f\"{ip}는 안되용\")"
      ],
      "metadata": {
        "colab": {
          "base_uri": "https://localhost:8080/"
        },
        "id": "cl6-qZdqIIiS",
        "outputId": "379c71cb-07fe-48c7-d543-c02c305fdce5"
      },
      "execution_count": 22,
      "outputs": [
        {
          "output_type": "stream",
          "name": "stdout",
          "text": [
            "192.168.0.1 is a valid IP address.\n",
            "255.255.255.255 is a valid IP address.\n",
            "256.256.256.256는 안되용\n",
            "192.168.1는 안되용\n",
            "192.168.1.300는 안되용\n",
            "asd.qwe.zxf.asq는 안되용\n",
            "192.165.000.123 is a valid IP address.\n"
          ]
        }
      ]
    },
    {
      "cell_type": "markdown",
      "source": [
        "Task10_0516. 주어진 파일 이름에서 확장자가 .jpg, .jpeg, 또는 .png인지 확인하세요.\n",
        "\"image.jpg\""
      ],
      "metadata": {
        "id": "l0Y_ASZaQGEF"
      }
    },
    {
      "cell_type": "code",
      "source": [
        "pt1 = '.+\\.jpg'\n",
        "pt2 = '.+\\.jpeg'\n",
        "pt3 = '.+\\.png'\n",
        "text = 'image.png'\n",
        "\n",
        "if re.match(pt1, text):\n",
        "    print('이것은 jpg확장자')\n",
        "if re.match(pt2, text):\n",
        "    print('이것은 jpeg확장자')\n",
        "if  re.match(pt3, text):\n",
        "    print('이것은 png확장자')"
      ],
      "metadata": {
        "colab": {
          "base_uri": "https://localhost:8080/"
        },
        "id": "DAQ1w6_wQGVa",
        "outputId": "65217202-ed98-4d34-f1ac-05b0ec831bc1"
      },
      "execution_count": null,
      "outputs": [
        {
          "output_type": "stream",
          "name": "stdout",
          "text": [
            "이것은 png확장자\n"
          ]
        }
      ]
    },
    {
      "cell_type": "code",
      "source": [
        "def is_image_file(filename):\n",
        "    pattern = r'.+\\.(jpg|jpge|png)$'\n",
        "    return bool(re.match(pattern, filename))\n",
        "\n",
        "is_image_file(\"image.jpg\")"
      ],
      "metadata": {
        "colab": {
          "base_uri": "https://localhost:8080/"
        },
        "id": "YC7RRW4wL0LP",
        "outputId": "b171fd69-392b-4ae1-d642-8f8769b803bf"
      },
      "execution_count": 25,
      "outputs": [
        {
          "output_type": "execute_result",
          "data": {
            "text/plain": [
              "True"
            ]
          },
          "metadata": {},
          "execution_count": 25
        }
      ]
    },
    {
      "cell_type": "markdown",
      "source": [
        "Task11_0516. 문자열에서 Python 주석을 제거하세요."
      ],
      "metadata": {
        "id": "gnEN4PWJQMqB"
      }
    },
    {
      "cell_type": "code",
      "source": [
        "code_with_comments = \"\"\"\n",
        "# This is a whole line comment\n",
        "print(\"Hello, world!\")  # This is a side comment\n",
        "# Another comment\n",
        "print(\"Python is fun!\") # Another side comment\n",
        "\"\"\"\n",
        "pattern =re.compile('[^%S].*[^\\S]$')\n",
        "\n",
        "matches = pattern.findall(code_with_comments)\n",
        "print(matches)"
      ],
      "metadata": {
        "colab": {
          "base_uri": "https://localhost:8080/"
        },
        "id": "Y9QfVBKeQNgm",
        "outputId": "ec13ab89-10a3-457c-ea56-57a9f1aab251"
      },
      "execution_count": 24,
      "outputs": [
        {
          "output_type": "stream",
          "name": "stdout",
          "text": [
            "['\\nprint(\"Python is fun!\") # Another side comment\\n']\n"
          ]
        }
      ]
    },
    {
      "cell_type": "code",
      "source": [
        "code_with_comments = \"\"\"\n",
        "# This is a whole line comment\n",
        "print(\"Hello, world!\")  # This is a side comment\n",
        "# Another comment\n",
        "print(\"Python is fun!\") # Another side comment\n",
        "\"\"\"\n",
        "pattern =re.compile('(?!=\\s).*(?!\\S)')\n",
        "\n",
        "matches = pattern.findall(code_with_comments)\n",
        "print(matches)"
      ],
      "metadata": {
        "colab": {
          "base_uri": "https://localhost:8080/"
        },
        "id": "8CAi8vVGki69",
        "outputId": "b040e255-f8a6-4f9c-a738-0ded88480fb6"
      },
      "execution_count": null,
      "outputs": [
        {
          "output_type": "stream",
          "name": "stdout",
          "text": [
            "['', '# This is a whole line comment', '', 'print(\"Hello, world!\")  # This is a side comment', '', '# Another comment', '', 'print(\"Python is fun!\") # Another side comment', '', '']\n"
          ]
        }
      ]
    },
    {
      "cell_type": "code",
      "source": [
        "def remove_comment(code):\n",
        "    pattern = r'#.*'\n",
        "    return re.sub(pattern, '', code, flags=re.MULTILINE)\n",
        "\n",
        "code_with_comments = \"\"\"\n",
        "# This is a whole line comment\n",
        "print(\"Hello, world!\")  # This is a side comment\n",
        "# Another comment\n",
        "print(\"Python is fun!\") # Another side comment\n",
        "\"\"\"\n",
        "\n",
        "cs_cd=remove_comment(code_with_comments)\n",
        "print(cs_cd)"
      ],
      "metadata": {
        "colab": {
          "base_uri": "https://localhost:8080/"
        },
        "id": "ET2zqw8MMZoh",
        "outputId": "8a09574c-30c7-4af8-ca9a-fdd9650b66e7"
      },
      "execution_count": 28,
      "outputs": [
        {
          "output_type": "stream",
          "name": "stdout",
          "text": [
            "\n",
            "\n",
            "print(\"Hello, world!\")  \n",
            "\n",
            "print(\"Python is fun!\") \n",
            "\n"
          ]
        }
      ]
    },
    {
      "cell_type": "markdown",
      "source": [
        "Task12_0516. 지정된 HTML 문자열 내에서 이메일 주소를 찾아서 그 결과를 출력\n",
        "html = \"\"\"\n",
        "<ul>\n",
        "  <li>Email: example@example.com</li>\n",
        "  <li>Contact: contact@sample.org</li>\n",
        "</ul>\n",
        "\"\"\""
      ],
      "metadata": {
        "id": "Ltb1f4pKQS4y"
      }
    },
    {
      "cell_type": "code",
      "source": [
        "import re\n",
        "\n",
        "def find_emails(content):\n",
        "    \"\"\"웹 페이지 내용에서 이메일 주소를 찾습니다.\"\"\"\n",
        "    pattern = r'[a-zA-Z0-9._%+-]+@[a-zA-Z0-9.-]+\\.[a-zA-Z]{2,}'\n",
        "    emails = re.findall(pattern, content)\n",
        "    return emails\n",
        "\n",
        "html = \"\"\"\n",
        "<ul>\n",
        "  <li>Email: example@example.com</li>\n",
        "  <li>Contact: contact@sample.org</li>\n",
        "</ul>\n",
        "\"\"\"\n",
        "emails = find_emails(html)\n",
        "print(\"찾은 이메일 주소:\", emails)"
      ],
      "metadata": {
        "id": "kujYZ-FiQT5P",
        "colab": {
          "base_uri": "https://localhost:8080/"
        },
        "outputId": "350a6728-a55b-4226-a395-685206af41e1"
      },
      "execution_count": 29,
      "outputs": [
        {
          "output_type": "stream",
          "name": "stdout",
          "text": [
            "찾은 이메일 주소: ['example@example.com', 'contact@sample.org']\n"
          ]
        }
      ]
    },
    {
      "cell_type": "code",
      "source": [],
      "metadata": {
        "id": "-nCr7vBKPG6R"
      },
      "execution_count": null,
      "outputs": []
    }
  ]
}