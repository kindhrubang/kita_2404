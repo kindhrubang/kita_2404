{
 "cells": [
  {
   "cell_type": "markdown",
   "metadata": {},
   "source": [
    "## 웹문서 구조 이해"
   ]
  },
  {
   "cell_type": "markdown",
   "metadata": {},
   "source": [
    "#### DOM (Document Object Model)\n",
    "\n",
    "- DOM은 HTML 문서의 구조를 트리 형태로 표현한 모델입니다. JavaScript와 같은 언어를 사용하여 DOM을 탐색하고 수정할 수 있습니다.\n",
    "- DOM 구조\n",
    "```\n",
    "<!DOCTYPE html>\n",
    "<html>\n",
    "<head>\n",
    "    <title>Example</title>\n",
    "</head>\n",
    "<body>\n",
    "    <h1>DOM Example</h1>\n",
    "    <p id=\"intro\">This is a simple DOM example.</p>\n",
    "</body>\n",
    "</html>\n",
    "```\n",
    "\n",
    "HTML 문서는 다음과 같은 DOM 트리로 표현\n",
    "```\n",
    "Document\n",
    "└── html\n",
    "    ├── head\n",
    "    │   ├── title\n",
    "    │   │   └── \"Example\"\n",
    "    └── body\n",
    "        ├── h1\n",
    "        │   └── \"DOM Example\"\n",
    "        └── p (id=\"intro\")\n",
    "            └── \"This is a simple DOM example.\"\n",
    "```"
   ]
  },
  {
   "cell_type": "markdown",
   "metadata": {},
   "source": [
    "#### HTML 태그\n",
    "\n",
    "```\n",
    "기본 구조 태그\n",
    "<!DOCTYPE html>: HTML 문서의 유형을 정의합니다. 최신 HTML5에서는 <!DOCTYPE html>을 사용합니다.\n",
    "<html>: HTML 문서의 루트 요소입니다. 모든 HTML 문서의 최상위 요소입니다.\n",
    "<head>: HTML 문서의 메타데이터를 포함합니다. 여기에는 문서 제목, 스타일 시트 링크, 스크립트 등이 포함됩니다.\n",
    "<title>: 웹 페이지의 제목을 정의합니다. 이 제목은 브라우저 탭에 표시됩니다.\n",
    "<meta>: 문서의 메타데이터를 정의합니다. 예를 들어, 문자 인코딩을 정의할 때 사용됩니다.\n",
    "<link>: 외부 리소스를 문서에 연결합니다. 주로 CSS 파일을 연결할 때 사용됩니다.\n",
    "<style>: 문서 내에 CSS 스타일을 정의합니다.\n",
    "<body>: 실제로 브라우저에 표시되는 콘텐츠를 포함합니다.\n",
    "```\n",
    "```\n",
    "콘텐츠 구조 태그\n",
    "<header>: 문서나 섹션의 헤더를 정의합니다.\n",
    "<nav>: 내비게이션 링크를 정의합니다.\n",
    "<section>: 문서의 섹션을 정의합니다.\n",
    "<article>: 독립적인 콘텐츠를 정의합니다.\n",
    "<aside>: 주요 콘텐츠 외의 추가적인 콘텐츠를 정의합니다.\n",
    "<footer>: 문서나 섹션의 푸터를 정의합니다.\n",
    "```\n",
    "```\n",
    "텍스트 관련 태그\n",
    "<h1> ~ <h6>: 제목을 정의합니다. <h1>은 가장 중요한 제목, <h6>은 가장 덜 중요한 제목입니다.\n",
    "<p>: 단락을 정의합니다.\n",
    "<a>: 하이퍼링크를 정의합니다. href 속성을 사용하여 링크 대상 URL을 지정합니다.\n",
    "<strong>: 중요한 텍스트를 정의합니다. 일반적으로 굵게 표시됩니다.\n",
    "<em>: 강조된 텍스트를 정의합니다. 일반적으로 기울임꼴로 표시됩니다.\n",
    "<br>: 줄 바꿈을 삽입합니다.\n",
    "<ul>: 순서 없는 목록을 정의합니다.\n",
    "<ol>: 순서 있는 목록을 정의합니다.\n",
    "<li>: 목록 항목을 정의합니다.\n",
    "```\n",
    "```\n",
    "멀티미디어 태그\n",
    "<img>: 이미지를 삽입합니다. src 속성을 사용하여 이미지 파일의 URL을 지정합니다.\n",
    "<audio>: 오디오 콘텐츠를 삽입합니다.\n",
    "<video>: 비디오 콘텐츠를 삽입합니다.\n",
    "<iframe>: 다른 HTML 페이지를 현재 페이지에 삽입합니다.\n",
    "```\n",
    "```\n",
    "테이블 태그\n",
    "<table>: 표를 정의합니다.\n",
    "<tr>: 표의 행을 정의합니다.\n",
    "<td>: 표의 셀을 정의합니다.\n",
    "<th>: 표의 헤더 셀을 정의합니다.\n",
    "<thead>: 표의 머리글 섹션을 정의합니다.\n",
    "<tbody>: 표의 본문 섹션을 정의합니다.\n",
    "<tfoot>: 표의 바닥글 섹션을 정의합니다.\n",
    "```\n",
    "```\n",
    "폼 태그\n",
    "<form>: 사용자 입력을 받는 폼을 정의합니다.\n",
    "<input>: 다양한 유형의 입력 필드를 정의합니다.\n",
    "<textarea>: 여러 줄의 텍스트 입력 필드를 정의합니다.\n",
    "<button>: 클릭 가능한 버튼을 정의합니다.\n",
    "<select>: 드롭다운 목록을 정의합니다.\n",
    "<option>: 드롭다운 목록의 항목을 정의합니다.\n",
    "```\n"
   ]
  },
  {
   "cell_type": "code",
   "execution_count": 136,
   "metadata": {},
   "outputs": [
    {
     "data": {
      "text/plain": [
       "[<html>\n",
       " <head>\n",
       " <title>Example Domain</title>\n",
       " <meta charset=\"utf-8\"/>\n",
       " <meta content=\"text/html; charset=utf-8\" http-equiv=\"Content-type\"/>\n",
       " <meta content=\"width=device-width, initial-scale=1\" name=\"viewport\"/>\n",
       " <style type=\"text/css\">\n",
       "     body {\n",
       "         background-color: #f0f0f2;\n",
       "         margin: 0;\n",
       "         padding: 0;\n",
       "         font-family: -apple-system, system-ui, BlinkMacSystemFont, \"Segoe UI\", \"Open Sans\", \"Helvetica Neue\", Helvetica, Arial, sans-serif;\n",
       "         \n",
       "     }\n",
       "     div {\n",
       "         width: 600px;\n",
       "         margin: 5em auto;\n",
       "         padding: 2em;\n",
       "         background-color: #fdfdff;\n",
       "         border-radius: 0.5em;\n",
       "         box-shadow: 2px 3px 7px 2px rgba(0,0,0,0.02);\n",
       "     }\n",
       "     a:link, a:visited {\n",
       "         color: #38488f;\n",
       "         text-decoration: none;\n",
       "     }\n",
       "     @media (max-width: 700px) {\n",
       "         div {\n",
       "             margin: 0 auto;\n",
       "             width: auto;\n",
       "         }\n",
       "     }\n",
       "     </style>\n",
       " </head>\n",
       " <body>\n",
       " <div>\n",
       " <h1>Example Domain</h1>\n",
       " <p>This domain is for use in illustrative examples in documents. You may use this\n",
       "     domain in literature without prior coordination or asking for permission.</p>\n",
       " <p><a href=\"https://www.iana.org/domains/example\">More information...</a></p>\n",
       " </div>\n",
       " </body>\n",
       " </html>]"
      ]
     },
     "execution_count": 136,
     "metadata": {},
     "output_type": "execute_result"
    }
   ],
   "source": [
    "from bs4 import BeautifulSoup\n",
    "import requests\n",
    "\n",
    "url = 'http://example.com'\n",
    "response = requests.get(url)\n",
    "soup = BeautifulSoup(response.text, 'html.parser')\n",
    "soup.find_all('html')"
   ]
  },
  {
   "cell_type": "code",
   "execution_count": 18,
   "metadata": {},
   "outputs": [
    {
     "name": "stdout",
     "output_type": "stream",
     "text": [
      "https://www.iana.org/domains/example\n"
     ]
    }
   ],
   "source": [
    "links = soup.find_all('a')\n",
    "for link in links:\n",
    "    print(link.get('href'))"
   ]
  },
  {
   "cell_type": "code",
   "execution_count": 19,
   "metadata": {},
   "outputs": [
    {
     "name": "stdout",
     "output_type": "stream",
     "text": [
      "\n",
      "Example Domain\n",
      "This domain is for use in illustrative examples in documents. You may use this\n",
      "    domain in literature without prior coordination or asking for permission.\n",
      "More information...\n",
      "\n"
     ]
    }
   ],
   "source": [
    "# 모든 <div> 태그 추출\n",
    "divs = soup.find_all('div')\n",
    "for div in divs:\n",
    "    print(div.text)"
   ]
  },
  {
   "cell_type": "code",
   "execution_count": 26,
   "metadata": {},
   "outputs": [
    {
     "name": "stdout",
     "output_type": "stream",
     "text": [
      "Example Domain\n"
     ]
    }
   ],
   "source": [
    "h1_tag = soup.find('h1')\n",
    "print(h1_tag.text)"
   ]
  },
  {
   "cell_type": "code",
   "execution_count": 138,
   "metadata": {},
   "outputs": [
    {
     "data": {
      "text/plain": [
       "[<meta charset=\"utf-8\"/>,\n",
       " <meta content=\"text/html; charset=utf-8\" http-equiv=\"Content-type\"/>,\n",
       " <meta content=\"width=device-width, initial-scale=1\" name=\"viewport\"/>]"
      ]
     },
     "execution_count": 138,
     "metadata": {},
     "output_type": "execute_result"
    }
   ],
   "source": [
    "meta_tags = soup.find_all('meta')\n",
    "meta_tags"
   ]
  },
  {
   "cell_type": "code",
   "execution_count": 139,
   "metadata": {},
   "outputs": [
    {
     "name": "stdout",
     "output_type": "stream",
     "text": [
      "{'charset': 'utf-8'}\n",
      "{'http-equiv': 'Content-type', 'content': 'text/html; charset=utf-8'}\n",
      "{'name': 'viewport', 'content': 'width=device-width, initial-scale=1'}\n"
     ]
    }
   ],
   "source": [
    "for meta in meta_tags:\n",
    "    print(meta.attrs)"
   ]
  },
  {
   "cell_type": "markdown",
   "metadata": {},
   "source": [
    "#### HTML 속성\n",
    "- HTML 속성(Attribute)은 HTML 요소에 추가적인 정보를 제공하는 데 사용됩니다. \n",
    "- 속성은 시작 태그 내에 있으며, 이름-값 쌍으로 작성됩니다.<br>\n",
    "    ```<a href=\"https://example.com\" class=\"example-link\">Example</a>```\n",
    "- 각 속성은 요소의 특정 특성이나 동작을 정의합니다. \n",
    "    ```\n",
    "    - <a>: 앵커 태그로, 하이퍼링크를 만듭니다.\n",
    "    - href: 링크의 URL을 지정하는 속성입니다.\n",
    "    - class: CSS 클래스를 지정하는 속성입니다.\n",
    "    ```\n",
    "- 속성의 값은 일반적으로 따옴표로 감싸지만, 따옴표 없이 작성할 수도 있습니다.\n",
    "- HTML 속성의 기본 구조 :<br>\n",
    "    ```<a href=\"https://www.example.com\" target=\"_blank\">Example Link</a>```\n",
    "\n",
    "  여기서 a 태그는 두 개의 속성을 가집니다:\n",
    "    ```\n",
    "    href: 링크의 URL을 지정\n",
    "    target: 링크를 여는 방식 지정 (_blank는 새 탭에서 열기)\n",
    "    ```\n",
    "- 주요 HTML 속성\n",
    "\n",
    "    글로벌 속성 (Global Attributes): 거의 모든 HTML 요소에서 사용할 수 있는 속성들입니다.<br>    \n",
    "    ```<div id=\"header\" class=\"main-header\" style=\"color: blue;\" title=\"Header Section\">Welcome!</div>```\n",
    "    - id: 요소의 고유 식별자\n",
    "    - class: CSS 클래스 지정\n",
    "    - style: 인라인 CSS 스타일 지정\n",
    "    - title: 요소에 대한 추가 정보 제공 (마우스를 올렸을 때 표시)\n",
    "    - data-*: 페이지나 애플리케이션에 사용자 정의 데이터를 저장\n",
    "\n",
    "    폼 속성 (Form Attributes): 주로 폼 요소에서 사용되는 속성들입니다.\n",
    "    ```\n",
    "    <form action=\"/submit\" method=\"post\">\n",
    "      <input type=\"text\" name=\"username\" value=\"JohnDoe\" placeholder=\"Enter your username\">\n",
    "      <input type=\"submit\" value=\"Submit\"> # type=\"submit\": 이 입력 필드를 제출 버튼으로 정의\n",
    "    </form>\n",
    "    ```\n",
    "    - action: 폼 제출 시 데이터를 전송할 URL\n",
    "    - method: 폼 데이터 전송 방식 (GET, POST)\n",
    "    - name: 폼 요소의 이름\n",
    "    - value: 입력 요소의 초기 값\n",
    "    - placeholder: 입력 필드에 표시되는 힌트 텍스트\n",
    "\n",
    "    이미지 속성 (Image Attributes): 주로 이미지 요소에서 사용되는 속성들입니다.<br>\n",
    "    ```<img src=\"image.jpg\" alt=\"Example Image\" width=\"200\" height=\"100\">```\n",
    "    - src: 이미지 파일의 경로\n",
    "    - alt: 이미지가 표시되지 않을 때 대체 텍스트\n",
    "    - width와 height: 이미지의 크기 지정\n",
    "\n",
    "    링크 속성 (Link Attributes): 주로 앵커(a) 태그에서 사용되는 속성들입니다.<br>    \n",
    "    ```<a href=\"https://www.example.com\" target=\"_blank\" rel=\"noopener noreferrer\">Visit Example</a>```\n",
    "    - href: 링크의 URL\n",
    "    - target: 링크를 열 방법 (_blank, _self, _parent, _top)\n",
    "    - rel: 링크와 현재 문서 간의 관계\n",
    "\n",
    "    메타 데이터 속성 (Metadata Attributes): 주로 meta 태그에서 사용되는 속성들입니다.\n",
    "    ```\n",
    "    <meta name=\"description\" content=\"This is an example of a meta description.\">\n",
    "    <meta charset=\"UTF-8\">\n",
    "    ```\n",
    "    - name: 메타 데이터의 이름 (예: description, keywords)\n",
    "    - content: 메타 데이터의 내용\n",
    "    - charset: 문서의 문자 인코딩\n",
    "\n"
   ]
  },
  {
   "cell_type": "markdown",
   "metadata": {},
   "source": [
    "#### CSS 셀렉터\n",
    "\n",
    "CSS 셀렉터는 HTML 요소를 선택하기 위해 사용됩니다. 크롤링 시 특정 요소를 선택할 때 유용합니다. 예:\n",
    "```\n",
    "#id: 특정 id를 가진 요소를 선택합니다.\n",
    ".class: 특정 클래스를 가진 요소를 선택합니다.\n",
    "tagname: 특정 태그명을 가진 요소를 선택합니다.\n",
    "```\n",
    "```\n",
    "[ CSS 셀렉터의 주요 유형과 그 사용법]\n",
    "\n",
    "1. 기본 셀렉터\n",
    "    요소 셀렉터\n",
    "    문법: element\n",
    "    설명: 지정된 태그 이름의 모든 HTML 요소를 선택합니다.\n",
    "    예시: p { color: blue; }는 모든 <p> 요소의 텍스트 색상을 파란색으로 설정합니다.\n",
    "    클래스 셀렉터\n",
    "    문법: .class\n",
    "    설명: 특정 클래스 이름을 가진 모든 요소를 선택합니다.\n",
    "    예시: .highlight { background-color: yellow; }는 클래스가 \"highlight\"인 모든 요소의 배경색을 노란색으로 설정합니다.\n",
    "    ID 셀렉터\n",
    "    문법: #id\n",
    "    설명: 특정 ID를 가진 요소를 선택합니다. HTML 문서에서 ID는 고유해야 합니다.\n",
    "    예시: #header { font-size: 24px; }는 ID가 \"header\"인 요소의 글꼴 크기를 24px로 설정합니다.\n",
    "\n",
    "2. 속성 셀렉터\n",
    "    속성 존재 셀렉터\n",
    "    문법: [attribute]\n",
    "    설명: 특정 속성이 있는 모든 요소를 선택합니다.\n",
    "    예시: [title] { border: 1px solid black; }는 \"title\" 속성이 있는 모든 요소에 테두리를 추가합니다.\n",
    "    특정 속성 값 셀렉터\n",
    "    문법: [attribute=value]\n",
    "    설명: 지정된 속성이 특정 값을 가진 모든 요소를 선택합니다.\n",
    "    예시: [type=\"text\"] { color: green; }는 type 속성이 \"text\"인 모든 입력 요소의 텍스트 색상을 초록색으로 설정합니다.\n",
    "\n",
    "3. 결합 셀렉터\n",
    "    자손 셀렉터\n",
    "    문법: ancestor descendant\n",
    "    설명: 특정 요소의 자손인 모든 요소를 선택합니다.\n",
    "    예시: div p { margin: 10px; }는 <div> 요소의 자손인 모든 <p> 요소에 10px의 마진을 설정합니다.\n",
    "    자식 셀렉터\n",
    "    문법: parent > child\n",
    "    설명: 특정 요소의 직계 자식인 모든 요소를 선택합니다.\n",
    "    예시: ul > li { list-style-type: none; }는 <ul> 요소의 직계 자식인 모든 <li> 요소의 리스트 스타일을 제거합니다.\n",
    "    인접 형제 셀렉터\n",
    "    문법: element + adjacent\n",
    "    설명: 특정 요소의 바로 다음 형제 요소를 선택합니다.\n",
    "    예시: h1 + p { margin-top: 0; }는 <h1> 요소 바로 다음에 오는 <p> 요소의 위쪽 마진을 제거합니다.\n",
    "    일반 형제 셀렉터\n",
    "    문법: element ~ siblings\n",
    "    설명: 특정 요소 이후의 모든 형제 요소를 선택합니다.\n",
    "    예시: h2 ~ p { color: grey; }는 <h2> 요소 이후의 모든 <p> 요소의 텍스트 색상을 회색으로 설정합니다.\n",
    "\n",
    "4. 가상 클래스 셀렉터\n",
    "    동적 가상 클래스 셀렉터\n",
    "    문법: :pseudo-class\n",
    "    설명: 요소의 특정 상태를 선택합니다.\n",
    "    예시: a:hover { color: red; }는 링크에 마우스를 올렸을 때 텍스트 색상을 빨간색으로 변경합니다.\n",
    "    구조적 가상 클래스 셀렉터\n",
    "    문법: :nth-child(n)\n",
    "    설명: 부모 요소의 자식 중 특정 위치에 있는 요소를 선택합니다.\n",
    "    예시: li:nth-child(odd) { background-color: #f2f2f2; }는 홀수 번째 <li> 요소의 배경색을 회색으로 설정합니다.\n",
    "\n",
    "5. 가상 요소 셀렉터\n",
    "    문법: ::pseudo-element\n",
    "    설명: 요소의 일부를 선택합니다.\n",
    "    예시: p::first-line { font-weight: bold; }는 단락의 첫 번째 줄을 굵게 만듭니다.\n",
    "\n",
    "6. 속성값 서브스트링 매칭 셀렉터\n",
    "    시작 문자열 매칭 셀렉터\n",
    "    문법: [attribute^=value]\n",
    "    설명: 특정 속성 값이 지정된 문자열로 시작하는 요소를 선택합니다.\n",
    "    예시: [class^=\"btn\"] { background-color: blue; }는 클래스 이름이 \"btn\"으로 시작하는 모든 요소의 배경색을 파란색으로 설정합니다.\n",
    "    끝 문자열 매칭 셀렉터\n",
    "    문법: [attribute$=value]\n",
    "    설명: 특정 속성 값이 지정된 문자열로 끝나는 요소를 선택합니다.\n",
    "    예시: [class$=\"danger\"] { color: red; }는 클래스 이름이 \"danger\"로 끝나는 모든 요소의 텍스트 색상을 빨간색으로 설정합니다.\n",
    "    포함 문자열 매칭 셀렉터\n",
    "    문법: [attribute*=value]\n",
    "    설명: 특정 속성 값이 지정된 문자열을 포함하는 요소를 선택합니다.\n",
    "    예시: [class*=\"nav\"] { font-size: 18px; }는 클래스 이름에 \"nav\"를 포함하는 모든 요소의 글꼴 크기를 18px로 설정합니다.\n",
    "\n",
    "```"
   ]
  },
  {
   "cell_type": "code",
   "execution_count": 2,
   "metadata": {},
   "outputs": [],
   "source": [
    "from bs4 import BeautifulSoup\n",
    "\n",
    "html_doc = \"\"\"\n",
    "<html><head><title>The Dormouse's story</title></head>\n",
    "<body>\n",
    "<p class=\"title\"><b>The Dormouse's story</b></p>\n",
    "<a href=\"http://example.com/elsie\" class=\"sister\" id=\"link1\">Elsie</a>\n",
    "<a href=\"http://example.com/lacie\" class=\"sister\" id=\"link2\">Lacie</a>\n",
    "<a href=\"http://example.com/tillie\" class=\"sister\" id=\"link3\">Tillie</a>\n",
    "</body></html>\n",
    "\"\"\""
   ]
  },
  {
   "cell_type": "markdown",
   "metadata": {},
   "source": [
    "Task6_0618. 주어진 HTML 문서에서 모든 $<a>$ 태그를 추출하세요."
   ]
  },
  {
   "cell_type": "code",
   "execution_count": 3,
   "metadata": {},
   "outputs": [
    {
     "data": {
      "text/plain": [
       "[<html><head><title>The Dormouse's story</title></head>\n",
       " <body>\n",
       " <p class=\"title\"><b>The Dormouse's story</b></p>\n",
       " <a class=\"sister\" href=\"http://example.com/elsie\" id=\"link1\">Elsie</a>\n",
       " <a class=\"sister\" href=\"http://example.com/lacie\" id=\"link2\">Lacie</a>\n",
       " <a class=\"sister\" href=\"http://example.com/tillie\" id=\"link3\">Tillie</a>\n",
       " </body></html>]"
      ]
     },
     "execution_count": 3,
     "metadata": {},
     "output_type": "execute_result"
    }
   ],
   "source": [
    "from bs4 import BeautifulSoup\n",
    "import requests\n",
    "\n",
    "soup = BeautifulSoup(html_doc, 'html.parser')\n",
    "soup.find_all('html')"
   ]
  },
  {
   "cell_type": "code",
   "execution_count": 7,
   "metadata": {},
   "outputs": [
    {
     "name": "stdout",
     "output_type": "stream",
     "text": [
      "<a class=\"sister\" href=\"http://example.com/elsie\" id=\"link1\">Elsie</a>\n",
      "<a class=\"sister\" href=\"http://example.com/lacie\" id=\"link2\">Lacie</a>\n",
      "<a class=\"sister\" href=\"http://example.com/tillie\" id=\"link3\">Tillie</a>\n"
     ]
    }
   ],
   "source": [
    "a_tags = soup.find_all('a')\n",
    "for a_tag in a_tags:\n",
    "    print(a_tag)"
   ]
  },
  {
   "cell_type": "markdown",
   "metadata": {},
   "source": [
    "Task7_0618. 주어진 HTML 문서에서 첫 번째 $<p>$ 태그의 텍스트를 추출하세요."
   ]
  },
  {
   "cell_type": "code",
   "execution_count": 88,
   "metadata": {},
   "outputs": [
    {
     "data": {
      "text/plain": [
       "\"The Dormouse's story\""
      ]
     },
     "execution_count": 88,
     "metadata": {},
     "output_type": "execute_result"
    }
   ],
   "source": [
    "p_tags = soup.find('p')\n",
    "p_tags.text"
   ]
  },
  {
   "cell_type": "code",
   "execution_count": 5,
   "metadata": {},
   "outputs": [
    {
     "name": "stdout",
     "output_type": "stream",
     "text": [
      "The Dormouse's story\n"
     ]
    }
   ],
   "source": [
    "p_tags = soup.find('p')\n",
    "print(p_tags.get_text())"
   ]
  },
  {
   "cell_type": "markdown",
   "metadata": {},
   "source": [
    "Task8_0618. 주어진 HTML 문서에서 모든 링크의 URL을 추출하세요."
   ]
  },
  {
   "cell_type": "code",
   "execution_count": 8,
   "metadata": {},
   "outputs": [
    {
     "name": "stdout",
     "output_type": "stream",
     "text": [
      "http://example.com/elsie\n",
      "http://example.com/lacie\n",
      "http://example.com/tillie\n"
     ]
    }
   ],
   "source": [
    "urls = soup.find_all('a')\n",
    "for url in urls:\n",
    "    href = url.attrs['href']\n",
    "    print(href)"
   ]
  },
  {
   "cell_type": "code",
   "execution_count": 9,
   "metadata": {},
   "outputs": [
    {
     "name": "stdout",
     "output_type": "stream",
     "text": [
      "http://example.com/elsie\n",
      "http://example.com/lacie\n",
      "http://example.com/tillie\n"
     ]
    }
   ],
   "source": [
    "for tag in a_tags:\n",
    "    print(tag['href'])"
   ]
  },
  {
   "cell_type": "markdown",
   "metadata": {},
   "source": [
    "Task9_0618. 주어진 HTML 문서에서 클래스가 sister인 모든 태그를 추출하세요."
   ]
  },
  {
   "cell_type": "code",
   "execution_count": 10,
   "metadata": {},
   "outputs": [
    {
     "name": "stdout",
     "output_type": "stream",
     "text": [
      "<a class=\"sister\" href=\"http://example.com/elsie\" id=\"link1\">Elsie</a>\n",
      "<a class=\"sister\" href=\"http://example.com/lacie\" id=\"link2\">Lacie</a>\n",
      "<a class=\"sister\" href=\"http://example.com/tillie\" id=\"link3\">Tillie</a>\n"
     ]
    }
   ],
   "source": [
    "sisters = soup.find_all('a',class_='sister')\n",
    "for sister in sisters:\n",
    "    print(sister)"
   ]
  },
  {
   "cell_type": "markdown",
   "metadata": {},
   "source": [
    "Task10_0618. 주어진 HTML 문서에서 ID가 link1인 태그를 추출하세요"
   ]
  },
  {
   "cell_type": "code",
   "execution_count": 100,
   "metadata": {},
   "outputs": [
    {
     "data": {
      "text/plain": [
       "<a class=\"sister\" href=\"http://example.com/elsie\" id=\"link1\">Elsie</a>"
      ]
     },
     "execution_count": 100,
     "metadata": {},
     "output_type": "execute_result"
    }
   ],
   "source": [
    "links = soup.find('a',id='link1')\n",
    "links"
   ]
  },
  {
   "cell_type": "markdown",
   "metadata": {},
   "source": [
    "Task11_0618. 주어진 HTML 문서에서 모든 텍스트를 추출하세요."
   ]
  },
  {
   "cell_type": "code",
   "execution_count": 104,
   "metadata": {},
   "outputs": [
    {
     "name": "stdout",
     "output_type": "stream",
     "text": [
      "The Dormouse's story\n",
      "\n",
      "The Dormouse's story\n",
      "Elsie\n",
      "Lacie\n",
      "Tillie\n",
      "\n"
     ]
    }
   ],
   "source": [
    "texts = soup.find_all('html')\n",
    "for text in texts:\n",
    "    print(text.text)"
   ]
  },
  {
   "cell_type": "markdown",
   "metadata": {},
   "source": [
    "Task12_0618. 주어진 HTML 문서에서 href 속성이 http://example.com/lacie  인 태그를 추출하세요."
   ]
  },
  {
   "cell_type": "code",
   "execution_count": 127,
   "metadata": {},
   "outputs": [
    {
     "name": "stdout",
     "output_type": "stream",
     "text": [
      "<a class=\"sister\" href=\"http://example.com/lacie\" id=\"link2\">Lacie</a>\n"
     ]
    }
   ],
   "source": [
    "finds = soup.find_all('a')\n",
    "for i in finds:\n",
    "    if i.attrs['href']=='http://example.com/lacie':\n",
    "    \n",
    "        print(i)\n"
   ]
  },
  {
   "cell_type": "markdown",
   "metadata": {},
   "source": [
    "Task13_0618. 주어진 HTML 문서에서 ID가 link1인 태그의 부모 태그를 추출하세요."
   ]
  },
  {
   "cell_type": "code",
   "execution_count": 134,
   "metadata": {},
   "outputs": [
    {
     "data": {
      "text/plain": [
       "<body>\n",
       "<p class=\"title\"><b>The Dormouse's story</b></p>\n",
       "<a class=\"sister\" href=\"http://example.com/elsie\" id=\"link1\">Elsie</a>\n",
       "<a class=\"sister\" href=\"http://example.com/lacie\" id=\"link2\">Lacie</a>\n",
       "<a class=\"sister\" href=\"http://example.com/tillie\" id=\"link3\">Tillie</a>\n",
       "</body>"
      ]
     },
     "execution_count": 134,
     "metadata": {},
     "output_type": "execute_result"
    }
   ],
   "source": [
    "finds = soup.find_all('a')\n",
    "for i in finds:\n",
    "    if i.attrs['id']=='link1':\n",
    "        target = i\n",
    "\n",
    "target.parent"
   ]
  },
  {
   "cell_type": "markdown",
   "metadata": {},
   "source": [
    "Task14_0618. 주어진 HTML 문서에서 ID가 link1인 태그의 다음 형제 태그를 추출하세요."
   ]
  },
  {
   "cell_type": "code",
   "execution_count": 12,
   "metadata": {},
   "outputs": [
    {
     "name": "stdout",
     "output_type": "stream",
     "text": [
      "\n",
      "\n",
      "<a class=\"sister\" href=\"http://example.com/lacie\" id=\"link2\">Lacie</a>\n",
      "\n",
      "\n",
      "<a class=\"sister\" href=\"http://example.com/tillie\" id=\"link3\">Tillie</a>\n",
      "\n",
      "\n"
     ]
    }
   ],
   "source": [
    "for sibling in soup.find(\"a\", {\"id\":\"link1\"}).next_siblings:\n",
    "    print(sibling)\n"
   ]
  },
  {
   "cell_type": "code",
   "execution_count": 11,
   "metadata": {},
   "outputs": [
    {
     "name": "stdout",
     "output_type": "stream",
     "text": [
      "<p>의 부모태그 : body\n",
      "<a>의 부모태그 : body\n",
      "<p>와 <a>태그는 형제인가요?예\n"
     ]
    }
   ],
   "source": [
    "p_tag = soup.find('p')\n",
    "a_tag = soup.find('a')\n",
    "\n",
    "parent_of_p = p_tag.parent.name\n",
    "parent_of_a = a_tag.parent.name\n",
    "\n",
    "#<p> 테그와 <a> 태그가 형제 태그인지 확인\n",
    "\n",
    "are_siblings = p_tag.find_next_sibling() == a_tag\\\n",
    "\n",
    "print(f\"<p>의 부모태그 : {parent_of_p}\")\n",
    "print(f\"<a>의 부모태그 : {parent_of_a}\")\n",
    "print(f\"<p>와 <a>태그는 형제인가요?{'예' if are_siblings else '아니오'}\")"
   ]
  },
  {
   "cell_type": "code",
   "execution_count": 12,
   "metadata": {},
   "outputs": [
    {
     "name": "stdout",
     "output_type": "stream",
     "text": [
      "<p class=\"title\"><b>The Dormouse's story</b></p>\n",
      "b\n"
     ]
    }
   ],
   "source": [
    "# 자식 태그 확인\n",
    "p_tag = soup.find('p', class_='title')\n",
    "print(p_tag)\n",
    "children_of_p = p_tag.children\n",
    "for child in children_of_p:\n",
    "    print(child.name)"
   ]
  },
  {
   "cell_type": "markdown",
   "metadata": {},
   "source": [
    "Task15_0618. 주어진 HTML 문서에서 ID가 link1인 태그의 href 속성 값을 추출하세요."
   ]
  },
  {
   "cell_type": "code",
   "execution_count": 11,
   "metadata": {},
   "outputs": [
    {
     "data": {
      "text/plain": [
       "'http://example.com/elsie'"
      ]
     },
     "execution_count": 11,
     "metadata": {},
     "output_type": "execute_result"
    }
   ],
   "source": [
    "soup.find('a',{'id':'link1'})['href']"
   ]
  },
  {
   "cell_type": "code",
   "execution_count": 14,
   "metadata": {},
   "outputs": [],
   "source": [
    "from bs4 import BeautifulSoup\n",
    "\n",
    "html_doc = \"\"\"\n",
    "<html>\n",
    "    <head>\n",
    "        <title>The Dormouse's story\n",
    "        </title>\n",
    "    /head>\n",
    "    <body>\n",
    "        <p class=\"title\"><b>The Dormouse's story</b></p>\n",
    "        <p class=\"story\">Once upon a time there were three little sisters; and their names were</p>\n",
    "        <p class=\"story\">...</p>\n",
    "    </body>\n",
    "</html>\n",
    "\"\"\""
   ]
  },
  {
   "cell_type": "code",
   "execution_count": 17,
   "metadata": {},
   "outputs": [],
   "source": [
    "soup = BeautifulSoup(html_doc, 'html.parser')"
   ]
  },
  {
   "cell_type": "code",
   "execution_count": 18,
   "metadata": {},
   "outputs": [
    {
     "data": {
      "text/plain": [
       "<p class=\"title\"><b>The Dormouse's story</b></p>"
      ]
     },
     "execution_count": 18,
     "metadata": {},
     "output_type": "execute_result"
    }
   ],
   "source": [
    "# Q. 주어진 HTML 문서에서 첫 번째 .title 클래스를 가진 태그를 추출하세요\n",
    "title_tag = soup.select_one('.title')\n",
    "title_tag"
   ]
  },
  {
   "cell_type": "code",
   "execution_count": 20,
   "metadata": {},
   "outputs": [],
   "source": [
    "html_doc = \"\"\"\n",
    "<html><head><title>The Dormouse's story</title></head>\n",
    "<body>\n",
    "<p class=\"title\"><b>The Dormouse's story</b></p>\n",
    "<a href=\"http://example.com/elsie\" class=\"sister\" id=\"link1\">Elsie</a>\n",
    "<a href=\"http://example.com/lacie\" class=\"sister\" id=\"link2\">Lacie</a>\n",
    "<a href=\"http://example.com/tillie\" class=\"sister\" id=\"link3\">Tillie</a>\n",
    "</body></html>\n",
    "\"\"\"\n",
    "soup = BeautifulSoup(html_doc, 'html.parser')"
   ]
  },
  {
   "cell_type": "code",
   "execution_count": 22,
   "metadata": {},
   "outputs": [
    {
     "name": "stdout",
     "output_type": "stream",
     "text": [
      "http://example.com/elsie\n",
      "http://example.com/lacie\n",
      "http://example.com/tillie\n"
     ]
    }
   ],
   "source": [
    "a_tags = soup.select('a')\n",
    "for tag in a_tags:\n",
    "    print(tag['href'])"
   ]
  },
  {
   "cell_type": "code",
   "execution_count": 25,
   "metadata": {},
   "outputs": [],
   "source": [
    "a_tags = soup.select('.select')\n",
    "for tag in a_tags:\n",
    "    print(tag['href'])"
   ]
  },
  {
   "cell_type": "code",
   "execution_count": 26,
   "metadata": {},
   "outputs": [
    {
     "name": "stdout",
     "output_type": "stream",
     "text": [
      "<a class=\"sister\" href=\"http://example.com/elsie\" id=\"link1\">Elsie</a>\n"
     ]
    }
   ],
   "source": [
    "#주어진 HTML 문서에서 ID가 link1인 태그를 추출하세요\n",
    "link1_tag = soup.select_one('#link1')\n",
    "print(link1_tag)"
   ]
  },
  {
   "cell_type": "code",
   "execution_count": 31,
   "metadata": {},
   "outputs": [
    {
     "name": "stdout",
     "output_type": "stream",
     "text": [
      "<b>The Dormouse's story</b>\n"
     ]
    }
   ],
   "source": [
    "# 주어진 HTML 문서에서 <p> 태그의 모든 자식 태그를 추출하세요.\n",
    "p_tag = soup.select_one('p')\n",
    "children = p_tag.findChildren()\n",
    "for child in children:\n",
    "    print(child)"
   ]
  },
  {
   "cell_type": "code",
   "execution_count": 32,
   "metadata": {},
   "outputs": [
    {
     "name": "stdout",
     "output_type": "stream",
     "text": [
      "<body>\n",
      "<p class=\"title\"><b>The Dormouse's story</b></p>\n",
      "<a class=\"sister\" href=\"http://example.com/elsie\" id=\"link1\">Elsie</a>\n",
      "<a class=\"sister\" href=\"http://example.com/lacie\" id=\"link2\">Lacie</a>\n",
      "<a class=\"sister\" href=\"http://example.com/tillie\" id=\"link3\">Tillie</a>\n",
      "</body>\n"
     ]
    }
   ],
   "source": [
    "# 주어진 HTML 문서에서 ID가 link1인 태그의 부모 태그를 추출하세요.\n",
    "link1_tag = soup.select_one('#link1')\n",
    "print(link1_tag.find_parent())"
   ]
  },
  {
   "cell_type": "code",
   "execution_count": 33,
   "metadata": {},
   "outputs": [
    {
     "name": "stdout",
     "output_type": "stream",
     "text": [
      "<a class=\"sister\" href=\"http://example.com/lacie\" id=\"link2\">Lacie</a>\n",
      "<p class=\"title\"><b>The Dormouse's story</b></p>\n"
     ]
    }
   ],
   "source": [
    "# 주어진 HTML 문서에서 ID가 link1인 태그의 다음 형제 태그를 추출하세요\n",
    "link1_tag = soup.select_one('#link1')\n",
    "print(link1_tag.find_next_sibling())\n",
    "print(link1_tag.find_previous_sibling())\n"
   ]
  },
  {
   "cell_type": "markdown",
   "metadata": {},
   "source": [
    "#### XPath\n",
    "\n",
    "XPath는 XML 문서의 경로를 지정하기 위한 언어로, HTML 문서에서도 사용할 수 있습니다. 예:\n",
    "\n",
    "```\n",
    "//div[@id='main']: id가 'main'인 모든 <div> 요소를 선택합니다.\n",
    "//a/text():\n",
    "- //: 문서의 어디에서든 지정한 요소를 찾습니다. 즉, 루트 요소부터 시작해서 모든 자식 요소를 포함하여 탐색합니다.\n",
    "- a: 찾고자 하는 요소의 이름입니다. 여기서는 <a> 태그를 의미합니다.\n",
    "- /text(): 지정한 요소의 텍스트 노드를 선택합니다. <a> 태그 내부의 텍스트를 의미합니다.\n",
    "```"
   ]
  },
  {
   "cell_type": "code",
   "execution_count": 34,
   "metadata": {},
   "outputs": [],
   "source": [
    "from lxml import html\n",
    "\n",
    "html_doc = \"\"\"\n",
    "<html>\n",
    "  <head><title>The Dormouse's story</title></head>\n",
    "  <body>\n",
    "    <p class=\"title\"><b>The Dormouse's story</b></p>\n",
    "    <a href=\"http://example.com/elsie\" class=\"sister\" id=\"link1\">Elsie</a>\n",
    "    <a href=\"http://example.com/lacie\" class=\"sister\" id=\"link2\">Lacie</a>\n",
    "    <a href=\"http://example.com/tillie\" class=\"sister\" id=\"link3\">Tillie</a>\n",
    "  </body>\n",
    "</html>\n",
    "\"\"\""
   ]
  },
  {
   "cell_type": "code",
   "execution_count": 35,
   "metadata": {},
   "outputs": [
    {
     "name": "stdout",
     "output_type": "stream",
     "text": [
      "Elsie\n",
      "Lacie\n",
      "Tillie\n"
     ]
    }
   ],
   "source": [
    "tree = html.fromstring(html_doc) # HTML 문서를 XML 요소로 변환\n",
    "a_texts = tree.xpath('//a/text()')\n",
    "for text in a_texts:\n",
    "    print(text)"
   ]
  },
  {
   "cell_type": "code",
   "execution_count": 40,
   "metadata": {},
   "outputs": [
    {
     "name": "stdout",
     "output_type": "stream",
     "text": [
      "<a href=\"http://example.com/elsie\" class=\"sister\" id=\"link1\">Elsie</a>\n",
      "    \n"
     ]
    }
   ],
   "source": [
    "# 주어진 HTML 문서에서 ID가 link1인 태그를 추출하세요.\n",
    "link1_tag = tree.xpath('//*[@id=\"link1\"]')[0]\n",
    "print(html.tostring(link1_tag).decode('utf-8'))"
   ]
  },
  {
   "cell_type": "markdown",
   "metadata": {},
   "source": [
    "#### 웹페이지의 동적 로딩\n",
    "\n",
    "일부 웹페이지는 JavaScript를 통해 동적으로 콘텐츠를 로드합니다. 이러한 페이지는 단순히 HTML을 요청하는 것으로는 모든 콘텐츠를 얻을 수 없으며, Selenium과 같은 도구를 사용하여 JavaScript를 실행하는 것이 필요할 수 있습니다."
   ]
  },
  {
   "cell_type": "markdown",
   "metadata": {},
   "source": [
    "#### HTTP 요청과 응답\n",
    "\n",
    "웹 크롤링은 HTTP 프로토콜을 통해 웹페이지에 접근합니다. HTTP 요청과 응답의 기본 개념을 이해하는 것이 중요합니다.\n",
    "\n",
    "- HTTP 메서드 (GET, POST 등)\n",
    "- 상태 코드 (200, 404 등)"
   ]
  },
  {
   "cell_type": "markdown",
   "metadata": {},
   "source": [
    "#### 크롤링 도구와 라이브러리\n",
    "\n",
    "다양한 도구와 라이브러리가 크롤링을 도와줍니다.\n",
    "\n",
    "- BeautifulSoup: HTML과 XML 파일을 파싱하는 라이브러리입니다.\n",
    "- Requests: HTTP 요청을 보내기 위한 라이브러리입니다.\n",
    "- Selenium: 웹 브라우저를 자동화하고 동적 웹페이지를 크롤링하는 데 사용됩니다."
   ]
  },
  {
   "cell_type": "code",
   "execution_count": 42,
   "metadata": {},
   "outputs": [
    {
     "name": "stdout",
     "output_type": "stream",
     "text": [
      "200\n",
      "<div id=\"wrap\">\n",
      " <div id=\"header\" role=\"banner\">\n",
      "  <div class=\"header_inner\" id=\"topSearchWrap\">\n",
      "   <div class=\"search_special_bg\" id=\"special-logo\">\n",
      "   </div>\n",
      "   <div class=\"ad_area\" id=\"timeboard-ex\" style=\"min-width:1340px\">\n",
      "   </div>\n",
      "   <div class=\"search_area\" id=\"search_area\" style=\"border-color:#fff\">\n",
      "    <div class=\"search_group\">\n",
      "     <div class=\"search_group_inner\" id=\"search\">\n",
      "      <h1 class=\"search_logo\" id=\"special-input-logo\">\n",
      "      </h1>\n",
      "      <form action=\"https://search.naver.com/search.naver\" id=\"sform\" method=\"get\" name=\"search\" role=\"search\">\n",
      "       <fieldset>\n",
      "        <legend class=\"blind\">\n",
      "         검색\n",
      "        </legend>\n",
      "        <input name=\"where\" type=\"hidden\" value=\"nexearch\"/>\n",
      "        <input id=\"sm\" name=\"sm\" type=\"hidden\" value=\"top_hty\"/>\n",
      "        <input id=\"fbm\" name=\"fbm\" type=\"hidden\" value=\"0\"/>\n",
      "        <input disabled=\"disabled\" id=\"acr\" name=\"acr\" type=\"hidden\" value=\"\"/>\n",
      "        <input disabled=\"disabled\" id=\"acq\" name=\"acq\" type=\"hidden\" value=\"\"/>\n",
      "        <input disabled=\"disabled\" id=\"qdt\" name=\"qdt\" type=\"hidden\" value=\"\"/>\n",
      "        <input id=\"ie\" name=\"ie\" type=\"hidden\" value=\"utf8\"/>\n",
      "        <input disabled=\"disabled\" id=\"acir\" name=\"acir\" type=\"hidden\" value=\"\"/>\n",
      "        <input disabled=\"disabled\" id=\"os\" name=\"os\" type=\"hidden\" value=\"\"/>\n",
      "        <input disabled=\"disabled\" id=\"bid\" name=\"bid\" type=\"hidden\" value=\"\"/>\n",
      "        <input disabled=\"disabled\" id=\"pkid\" name=\"pkid\" type=\"hidden\" value=\"\"/>\n",
      "        <input disabled=\"disabled\" id=\"eid\" name=\"eid\" type=\"hidden\" value=\"\"/>\n",
      "        <input disabled=\"disabled\" id=\"mra\" name=\"mra\" type=\"hidden\" value=\"\"/>\n",
      "        <div class=\"search_input_box\">\n",
      "         <input autocomplete=\"off\" class=\"search_input\" data-atcmp-element=\"\" id=\"query\" maxlength=\"255\" name=\"query\" placeholder=\"검색어를 입력해 주세요.\" title=\"검색어를 입력해 주세요.\" type=\"search\"/>\n",
      "        </div>\n",
      "        <button class=\"btn_search\" onclick='window.nclk_v2(this,\"sch.action\")' type=\"submit\">\n",
      "         <span class=\"ico_btn_search_svg\">\n",
      "          <svg id=\"search-btn\" viewbox=\"0 0 50 50\" xmlns=\"http://www.w3.org/2000/svg\">\n",
      "           <path d=\"M22.13.5c11.378 0 20.632 9.256 20.632 20.63 0 4.699-1.566 9.155-4.439 12.782l10.164 10.165a2.41 2.41 0 0 1-1.706 4.115 2.412 2.412 0 0 1-1.706-.705L33.31 35.719a2.41 2.41 0 0 1 0-3.41 15.71 15.71 0 0 0 4.628-11.178c0-8.718-7.09-15.808-15.807-15.808-8.718 0-15.808 7.09-15.808 15.808 0 7.15 4.817 13.43 11.714 15.273a2.41 2.41 0 0 1 1.705 2.954 2.41 2.41 0 0 1-2.95 1.705C7.788 38.658 1.5 30.46 1.5 21.131 1.5 9.756 10.756.5 22.13.5zm4.716 34.746a3.483 3.483 0 1 1 0 6.966 3.483 3.483 0 0 1 0-6.966z\">\n",
      "           </path>\n",
      "          </svg>\n",
      "         </span>\n",
      "         <span class=\"blind\">\n",
      "          검색\n",
      "         </span>\n",
      "        </button>\n",
      "       </fieldset>\n",
      "      </form>\n",
      "      <div class=\"search_box\">\n",
      "       <button aria-pressed=\"false\" class=\"btn_keyboard\" id=\"ke_kbd_btn\" type=\"button\">\n",
      "        <span class=\"keybord_text\">\n",
      "         <span class=\"blind\">\n",
      "          입력도구\n",
      "         </span>\n",
      "        </span>\n",
      "       </button>\n",
      "       <div id=\"_nx_kbd\" style=\"display:none\">\n",
      "       </div>\n",
      "       <button class=\"btn_arrow\" data-atcmp-element=\"\" id=\"nautocomplete\" type=\"button\">\n",
      "        <span class=\"blind\">\n",
      "         자동완성/최근검색어펼치기\n",
      "        </span>\n",
      "       </button>\n",
      "      </div>\n",
      "      <div class=\"layer_atcmp\" id=\"autoFrame\" style=\"display:none\">\n",
      "       <div class=\"ly_atcmp\" data-atcmp-element=\"\">\n",
      "        <div class=\"api_atcmp_wrap\">\n",
      "         <div class=\"atcmp_fixer _recent_layer\" style=\"display:none\">\n",
      "          <div class=\"atcmp_header _recent_header\">\n",
      "           <strong class=\"tit\">\n",
      "            최근 검색어\n",
      "           </strong>\n",
      "           <div class=\"option\">\n",
      "            <a aria-pressed=\"false\" class=\"item _delAll\" href=\"#\" role=\"button\">\n",
      "             전체삭제\n",
      "            </a>\n",
      "           </div>\n",
      "          </div>\n",
      "          <div class=\"atcmp_container\">\n",
      "           <ul class=\"kwd_lst _recent\">\n",
      "           </ul>\n",
      "           <div class=\"kwd_info kwd_off _offMsg\" style=\"display:none\">\n",
      "            검색어 저장 기능이 꺼져 있습니다.\n",
      "            <br/>\n",
      "            <span class=\"kwd_dsc\">\n",
      "             설정이 초기화 된다면\n",
      "             <a class=\"kwd_help\" data-clk=\"sly.help\" href=\"https://help.naver.com/alias/search/word/word_35.naver\" target=\"_blank\">\n",
      "              도움말\n",
      "             </a>\n",
      "             을 확인해주세요.\n",
      "            </span>\n",
      "           </div>\n",
      "           <div class=\"kwd_info kwd_none _recentNone\" style=\"display:none\">\n",
      "            최근 검색어 내역이 없습니다.\n",
      "            <br/>\n",
      "            <span class=\"kwd_dsc\">\n",
      "             설정이 초기화 된다면\n",
      "             <a class=\"kwd_help\" data-clk=\"sly.help\" href=\"https://help.naver.com/alias/search/word/word_35.naver\" target=\"_blank\">\n",
      "              도움말\n",
      "             </a>\n",
      "             을 확인해주세요.\n",
      "            </span>\n",
      "           </div>\n",
      "          </div>\n",
      "          <div class=\"atcmp_footer\">\n",
      "           <span class=\"side_opt_area\">\n",
      "            <span class=\"opt_item\">\n",
      "             <a class=\"close _keywordOnOff\" href=\"#\">\n",
      "              자동저장 끄기\n",
      "             </a>\n",
      "            </span>\n",
      "            <span class=\"opt_item\">\n",
      "             <a data-clk=\"sly.help\" href=\"https://help.naver.com/alias/search/word/word_35.naver\" target=\"_blank\">\n",
      "              도움말\n",
      "             </a>\n",
      "            </span>\n",
      "           </span>\n",
      "           <span class=\"rside_opt_area\">\n",
      "            <span class=\"opt_item\">\n",
      "             <a class=\"close _close\" href=\"#\">\n",
      "              닫기\n",
      "             </a>\n",
      "            </span>\n",
      "           </span>\n",
      "          </div>\n",
      "         </div>\n",
      "         <div class=\"atcmp_fixer _atcmp_layer\" style=\"display:none\">\n",
      "          <div class=\"atcmp_container _words\">\n",
      "           <div class=\"atcmp_cue type_line _cue_root\">\n",
      "            <div class=\"cue_header\">\n",
      "             <i class=\"imgsvg ico_cue\">\n",
      "              CUE\n",
      "             </i>\n",
      "             대화하듯 질문해 보세요\n",
      "             <a aria-pressed=\"false\" class=\"btn_help _tg_btn\" href=\"#\" role=\"button\">\n",
      "              <i class=\"imgsvg ico_alert\">\n",
      "               이 정보가 표시된 이유\n",
      "              </i>\n",
      "             </a>\n",
      "             <div class=\"layer_plus\">\n",
      "              <p class=\"dsc\">\n",
      "               검색어와 포함된 키워드를 기반으로 AI 기술을 활용하여 연관된 추천 질문을 제공합니다.\n",
      "              </p>\n",
      "              <a class=\"btn_close _tg_btn\" href=\"#\" role=\"button\">\n",
      "               <i class=\"imgsvg ico_close\">\n",
      "                레이어 닫기\n",
      "               </i>\n",
      "              </a>\n",
      "             </div>\n",
      "            </div>\n",
      "            <div class=\"atcmp_pcpg_wrap cue_list\">\n",
      "             <ul class=\"atcmp_flicking_wrap _ul\">\n",
      "             </ul>\n",
      "             <div class=\"atcmp_btn_page\">\n",
      "              <div class=\"btn_prev _prev\">\n",
      "               <a class=\"btn\" href=\"#\" role=\"button\">\n",
      "                <i class=\"imgsvg ico_arr\">\n",
      "                 이전\n",
      "                </i>\n",
      "               </a>\n",
      "              </div>\n",
      "              <div class=\"btn_next _next\">\n",
      "               <a class=\"btn\" href=\"#\" role=\"button\">\n",
      "                <i class=\"imgsvg ico_arr\">\n",
      "                 다음\n",
      "                </i>\n",
      "               </a>\n",
      "              </div>\n",
      "             </div>\n",
      "            </div>\n",
      "           </div>\n",
      "           <ul class=\"kwd_lst _kwd_list\">\n",
      "           </ul>\n",
      "           <div class=\"atcmp_alert _alert\">\n",
      "            <div class=\"dsc_election\">\n",
      "             <p class=\"dsc\">\n",
      "              <i class=\"imgsvg ico_election\">\n",
      "              </i>\n",
      "              <span class=\"_alert_passage\">\n",
      "              </span>\n",
      "             </p>\n",
      "             <span class=\"dsc_inner\">\n",
      "              <span class=\"_alert_passage2\">\n",
      "              </span>\n",
      "              <a class=\"link _alert_link\" href=\"#\" target=\"_blank\">\n",
      "               자세히보기\n",
      "              </a>\n",
      "             </span>\n",
      "            </div>\n",
      "           </div>\n",
      "           <div class=\"atcmp_plus _plus\">\n",
      "            <div class=\"dsc_plus\">\n",
      "             <a class=\"link_dsc\" data-clk=\"sug.cxhelp\" href=\"https://help.naver.com/alias/search/word/word_16.naver\" target=\"_blank\">\n",
      "              관심사를 반영한 컨텍스트 자동완성\n",
      "              <i class=\"imgsvg ico_help\">\n",
      "               도움말\n",
      "              </i>\n",
      "             </a>\n",
      "            </div>\n",
      "            <div class=\"switch\">\n",
      "             <a aria-pressed=\"false\" class=\"bt_switch active _plus_btn\" href=\"#\" role=\"button\">\n",
      "              <i class=\"imgsvg ico_option\">\n",
      "               컨텍스트 자동완성\n",
      "              </i>\n",
      "             </a>\n",
      "            </div>\n",
      "            <div class=\"layer_plus _plus_layer\">\n",
      "             <strong class=\"tit\">\n",
      "              컨텍스트 자동완성\n",
      "             </strong>\n",
      "             <div class=\"_plus_layer_isloggedin\" style=\"display:none\">\n",
      "              <p class=\"dsc\">\n",
      "               ON/OFF 설정은 해당기기(브라우저)에 저장됩니다.\n",
      "              </p>\n",
      "              <div class=\"btn_area\">\n",
      "               <a class=\"link_view\" data-clk=\"sug.cxlink\" href=\"https://help.naver.com/alias/search/word/word_16.naver\" target=\"_blank\">\n",
      "                자세히 보기\n",
      "               </a>\n",
      "              </div>\n",
      "             </div>\n",
      "             <div class=\"_plus_layer_isnotloggedin\" style=\"display:none\">\n",
      "              <p class=\"dsc\">\n",
      "               동일한 시간대・연령대・남녀별 사용자 그룹의 관심사에 맞춰 자동완성을 제공합니다.\n",
      "               <a class=\"link_view\" data-clk=\"sug.cxlink\" href=\"https://help.naver.com/support/alias/search/word/word_16.naver\" target=\"_blank\">\n",
      "                자세히 보기\n",
      "               </a>\n",
      "              </p>\n",
      "              <div class=\"btn_area\">\n",
      "               <a class=\"btn btn_login\" data-clk=\"sug.cxlogin\" href=\"https://nid.naver.com/nidlogin.login\">\n",
      "                <i class=\"imgsvg ico_naver\">\n",
      "                 네이버\n",
      "                </i>\n",
      "                로그인\n",
      "               </a>\n",
      "              </div>\n",
      "             </div>\n",
      "             <a class=\"btn_close _plus_layer_close\" href=\"#\" role=\"button\">\n",
      "              <i class=\"imgsvg ico_close\">\n",
      "               컨텍스트 자동완성 레이어 닫기\n",
      "              </i>\n",
      "             </a>\n",
      "            </div>\n",
      "           </div>\n",
      "          </div>\n",
      "          <div class=\"atcmp_footer\">\n",
      "           <span class=\"side_opt_area\">\n",
      "            <span class=\"opt_item\">\n",
      "             <a class=\"close _suggestOnOff\" href=\"#\">\n",
      "              자동완성 끄기\n",
      "             </a>\n",
      "            </span>\n",
      "            <span class=\"opt_item\">\n",
      "             <a data-clk=\"sug.help\" href=\"https://help.naver.com/alias/search/word/word_17.naver\" target=\"_blank\">\n",
      "              도움말\n",
      "             </a>\n",
      "            </span>\n",
      "            <span class=\"opt_item\">\n",
      "             <a class=\"report\" data-clk=\"sug.report\" href=\"https://help.naver.com/alias/search/word/word_18.naver\" target=\"_blank\">\n",
      "              신고\n",
      "             </a>\n",
      "            </span>\n",
      "           </span>\n",
      "           <span class=\"rside_opt_area\">\n",
      "            <span class=\"opt_item\">\n",
      "             <a class=\"close _close\" href=\"#\">\n",
      "              닫기\n",
      "             </a>\n",
      "            </span>\n",
      "           </span>\n",
      "          </div>\n",
      "         </div>\n",
      "        </div>\n",
      "       </div>\n",
      "      </div>\n",
      "     </div>\n",
      "    </div>\n",
      "   </div>\n",
      "   <div id=\"search-right-first\">\n",
      "   </div>\n",
      "   <div id=\"search-right-second\">\n",
      "   </div>\n",
      "   <div aria-label=\"주요 서비스\" class=\"shortcut_area\" id=\"shortcutArea\" role=\"navigation\">\n",
      "   </div>\n",
      "   <div class=\"menu_area\" id=\"topAsideArea\">\n",
      "   </div>\n",
      "   <div class=\"pay_area\" id=\"topPayArea\">\n",
      "   </div>\n",
      "   <div class=\"talk_area\" id=\"topTalkArea\">\n",
      "   </div>\n",
      "   <div class=\"notify_area\" id=\"topNotiArea\">\n",
      "   </div>\n",
      "   <div class=\"shopping_area\" id=\"topShoppingArea\">\n",
      "   </div>\n",
      "  </div>\n",
      " </div>\n",
      " <div id=\"container\" role=\"main\">\n",
      "  <div id=\"root\">\n",
      "  </div>\n",
      " </div>\n",
      " <div id=\"footer\" role=\"contentinfo\">\n",
      " </div>\n",
      "</div>\n",
      "\n"
     ]
    }
   ],
   "source": [
    "import requests \n",
    "from bs4 import BeautifulSoup\n",
    "\n",
    "url = 'https://www.naver.com/'\n",
    "response = requests.get(url)\n",
    "print(response.status_code)\n",
    "\n",
    "soup = BeautifulSoup(response.text, 'html.parser')\n",
    "\n",
    "# ID를 사용하여 'wrap' 영역 크롤링\n",
    "wrap = soup.find(id='wrap')\n",
    "print(wrap.prettify())"
   ]
  },
  {
   "cell_type": "code",
   "execution_count": 53,
   "metadata": {},
   "outputs": [
    {
     "name": "stdout",
     "output_type": "stream",
     "text": [
      "상단영역 바로가기 #topAsideButton\n",
      "서비스 메뉴 바로가기 #shortcutArea\n",
      "새소식 블록 바로가기 #newsstand\n",
      "쇼핑 블록 바로가기 #shopping\n",
      "관심사 블록 바로가기 #feed\n",
      "MY 영역 바로가기 #account\n",
      "위젯 보드 바로가기 #widgetboard\n",
      "보기 설정 바로가기 #viewSetting\n",
      "전체삭제 #\n",
      "도움말 https://help.naver.com/alias/search/word/word_35.naver\n",
      "도움말 https://help.naver.com/alias/search/word/word_35.naver\n",
      "자동저장 끄기 #\n",
      "도움말 https://help.naver.com/alias/search/word/word_35.naver\n",
      "닫기 #\n",
      "이 정보가 표시된 이유 #\n",
      "레이어 닫기 #\n",
      "이전 #\n",
      "다음 #\n",
      "자세히보기 #\n",
      "관심사를 반영한 컨텍스트 자동완성도움말 https://help.naver.com/alias/search/word/word_16.naver\n",
      "컨텍스트 자동완성 #\n",
      "자세히 보기 https://help.naver.com/alias/search/word/word_16.naver\n",
      "자세히 보기 https://help.naver.com/support/alias/search/word/word_16.naver\n",
      "네이버로그인 https://nid.naver.com/nidlogin.login\n",
      "컨텍스트 자동완성 레이어 닫기 #\n",
      "자동완성 끄기 #\n",
      "도움말 https://help.naver.com/alias/search/word/word_17.naver\n",
      "신고 https://help.naver.com/alias/search/word/word_18.naver\n",
      "닫기 #\n"
     ]
    }
   ],
   "source": [
    "texts = soup.find_all('a',)\n",
    "for i in texts:\n",
    "    print(i.text,i['href'])"
   ]
  },
  {
   "cell_type": "code",
   "execution_count": 54,
   "metadata": {},
   "outputs": [
    {
     "name": "stdout",
     "output_type": "stream",
     "text": [
      "상단영역 바로가기 #topAsideButton\n",
      "서비스 메뉴 바로가기 #shortcutArea\n",
      "새소식 블록 바로가기 #newsstand\n",
      "쇼핑 블록 바로가기 #shopping\n",
      "관심사 블록 바로가기 #feed\n",
      "MY 영역 바로가기 #account\n",
      "위젯 보드 바로가기 #widgetboard\n",
      "보기 설정 바로가기 #viewSetting\n",
      "전체삭제 #\n",
      "도움말 https://help.naver.com/alias/search/word/word_35.naver\n",
      "도움말 https://help.naver.com/alias/search/word/word_35.naver\n",
      "자동저장 끄기 #\n",
      "도움말 https://help.naver.com/alias/search/word/word_35.naver\n",
      "닫기 #\n",
      "이 정보가 표시된 이유 #\n",
      "레이어 닫기 #\n",
      "이전 #\n",
      "다음 #\n",
      "자세히보기 #\n",
      "관심사를 반영한 컨텍스트 자동완성도움말 https://help.naver.com/alias/search/word/word_16.naver\n",
      "컨텍스트 자동완성 #\n",
      "자세히 보기 https://help.naver.com/alias/search/word/word_16.naver\n",
      "자세히 보기 https://help.naver.com/support/alias/search/word/word_16.naver\n",
      "네이버로그인 https://nid.naver.com/nidlogin.login\n",
      "컨텍스트 자동완성 레이어 닫기 #\n",
      "자동완성 끄기 #\n",
      "도움말 https://help.naver.com/alias/search/word/word_17.naver\n",
      "신고 https://help.naver.com/alias/search/word/word_18.naver\n",
      "닫기 #\n"
     ]
    }
   ],
   "source": [
    "links = soup.find_all('a')\n",
    "for link in links:\n",
    "    print(link.get_text(),link['href'])"
   ]
  },
  {
   "cell_type": "code",
   "execution_count": 65,
   "metadata": {},
   "outputs": [
    {
     "name": "stdout",
     "output_type": "stream",
     "text": [
      "<div class=\"search_area\" id=\"search_area\" style=\"border-color:#fff\">\n",
      " <div class=\"search_group\">\n",
      "  <div class=\"search_group_inner\" id=\"search\">\n",
      "   <h1 class=\"search_logo\" id=\"special-input-logo\">\n",
      "   </h1>\n",
      "   <form action=\"https://search.naver.com/search.naver\" id=\"sform\" method=\"get\" name=\"search\" role=\"search\">\n",
      "    <fieldset>\n",
      "     <legend class=\"blind\">\n",
      "      검색\n",
      "     </legend>\n",
      "     <input name=\"where\" type=\"hidden\" value=\"nexearch\"/>\n",
      "     <input id=\"sm\" name=\"sm\" type=\"hidden\" value=\"top_hty\"/>\n",
      "     <input id=\"fbm\" name=\"fbm\" type=\"hidden\" value=\"0\"/>\n",
      "     <input disabled=\"disabled\" id=\"acr\" name=\"acr\" type=\"hidden\" value=\"\"/>\n",
      "     <input disabled=\"disabled\" id=\"acq\" name=\"acq\" type=\"hidden\" value=\"\"/>\n",
      "     <input disabled=\"disabled\" id=\"qdt\" name=\"qdt\" type=\"hidden\" value=\"\"/>\n",
      "     <input id=\"ie\" name=\"ie\" type=\"hidden\" value=\"utf8\"/>\n",
      "     <input disabled=\"disabled\" id=\"acir\" name=\"acir\" type=\"hidden\" value=\"\"/>\n",
      "     <input disabled=\"disabled\" id=\"os\" name=\"os\" type=\"hidden\" value=\"\"/>\n",
      "     <input disabled=\"disabled\" id=\"bid\" name=\"bid\" type=\"hidden\" value=\"\"/>\n",
      "     <input disabled=\"disabled\" id=\"pkid\" name=\"pkid\" type=\"hidden\" value=\"\"/>\n",
      "     <input disabled=\"disabled\" id=\"eid\" name=\"eid\" type=\"hidden\" value=\"\"/>\n",
      "     <input disabled=\"disabled\" id=\"mra\" name=\"mra\" type=\"hidden\" value=\"\"/>\n",
      "     <div class=\"search_input_box\">\n",
      "      <input autocomplete=\"off\" class=\"search_input\" data-atcmp-element=\"\" id=\"query\" maxlength=\"255\" name=\"query\" placeholder=\"검색어를 입력해 주세요.\" title=\"검색어를 입력해 주세요.\" type=\"search\"/>\n",
      "     </div>\n",
      "     <button class=\"btn_search\" onclick='window.nclk_v2(this,\"sch.action\")' type=\"submit\">\n",
      "      <span class=\"ico_btn_search_svg\">\n",
      "       <svg id=\"search-btn\" viewbox=\"0 0 50 50\" xmlns=\"http://www.w3.org/2000/svg\">\n",
      "        <path d=\"M22.13.5c11.378 0 20.632 9.256 20.632 20.63 0 4.699-1.566 9.155-4.439 12.782l10.164 10.165a2.41 2.41 0 0 1-1.706 4.115 2.412 2.412 0 0 1-1.706-.705L33.31 35.719a2.41 2.41 0 0 1 0-3.41 15.71 15.71 0 0 0 4.628-11.178c0-8.718-7.09-15.808-15.807-15.808-8.718 0-15.808 7.09-15.808 15.808 0 7.15 4.817 13.43 11.714 15.273a2.41 2.41 0 0 1 1.705 2.954 2.41 2.41 0 0 1-2.95 1.705C7.788 38.658 1.5 30.46 1.5 21.131 1.5 9.756 10.756.5 22.13.5zm4.716 34.746a3.483 3.483 0 1 1 0 6.966 3.483 3.483 0 0 1 0-6.966z\">\n",
      "        </path>\n",
      "       </svg>\n",
      "      </span>\n",
      "      <span class=\"blind\">\n",
      "       검색\n",
      "      </span>\n",
      "     </button>\n",
      "    </fieldset>\n",
      "   </form>\n",
      "   <div class=\"search_box\">\n",
      "    <button aria-pressed=\"false\" class=\"btn_keyboard\" id=\"ke_kbd_btn\" type=\"button\">\n",
      "     <span class=\"keybord_text\">\n",
      "      <span class=\"blind\">\n",
      "       입력도구\n",
      "      </span>\n",
      "     </span>\n",
      "    </button>\n",
      "    <div id=\"_nx_kbd\" style=\"display:none\">\n",
      "    </div>\n",
      "    <button class=\"btn_arrow\" data-atcmp-element=\"\" id=\"nautocomplete\" type=\"button\">\n",
      "     <span class=\"blind\">\n",
      "      자동완성/최근검색어펼치기\n",
      "     </span>\n",
      "    </button>\n",
      "   </div>\n",
      "   <div class=\"layer_atcmp\" id=\"autoFrame\" style=\"display:none\">\n",
      "    <div class=\"ly_atcmp\" data-atcmp-element=\"\">\n",
      "     <div class=\"api_atcmp_wrap\">\n",
      "      <div class=\"atcmp_fixer _recent_layer\" style=\"display:none\">\n",
      "       <div class=\"atcmp_header _recent_header\">\n",
      "        <strong class=\"tit\">\n",
      "         최근 검색어\n",
      "        </strong>\n",
      "        <div class=\"option\">\n",
      "         <a aria-pressed=\"false\" class=\"item _delAll\" href=\"#\" role=\"button\">\n",
      "          전체삭제\n",
      "         </a>\n",
      "        </div>\n",
      "       </div>\n",
      "       <div class=\"atcmp_container\">\n",
      "        <ul class=\"kwd_lst _recent\">\n",
      "        </ul>\n",
      "        <div class=\"kwd_info kwd_off _offMsg\" style=\"display:none\">\n",
      "         검색어 저장 기능이 꺼져 있습니다.\n",
      "         <br/>\n",
      "         <span class=\"kwd_dsc\">\n",
      "          설정이 초기화 된다면\n",
      "          <a class=\"kwd_help\" data-clk=\"sly.help\" href=\"https://help.naver.com/alias/search/word/word_35.naver\" target=\"_blank\">\n",
      "           도움말\n",
      "          </a>\n",
      "          을 확인해주세요.\n",
      "         </span>\n",
      "        </div>\n",
      "        <div class=\"kwd_info kwd_none _recentNone\" style=\"display:none\">\n",
      "         최근 검색어 내역이 없습니다.\n",
      "         <br/>\n",
      "         <span class=\"kwd_dsc\">\n",
      "          설정이 초기화 된다면\n",
      "          <a class=\"kwd_help\" data-clk=\"sly.help\" href=\"https://help.naver.com/alias/search/word/word_35.naver\" target=\"_blank\">\n",
      "           도움말\n",
      "          </a>\n",
      "          을 확인해주세요.\n",
      "         </span>\n",
      "        </div>\n",
      "       </div>\n",
      "       <div class=\"atcmp_footer\">\n",
      "        <span class=\"side_opt_area\">\n",
      "         <span class=\"opt_item\">\n",
      "          <a class=\"close _keywordOnOff\" href=\"#\">\n",
      "           자동저장 끄기\n",
      "          </a>\n",
      "         </span>\n",
      "         <span class=\"opt_item\">\n",
      "          <a data-clk=\"sly.help\" href=\"https://help.naver.com/alias/search/word/word_35.naver\" target=\"_blank\">\n",
      "           도움말\n",
      "          </a>\n",
      "         </span>\n",
      "        </span>\n",
      "        <span class=\"rside_opt_area\">\n",
      "         <span class=\"opt_item\">\n",
      "          <a class=\"close _close\" href=\"#\">\n",
      "           닫기\n",
      "          </a>\n",
      "         </span>\n",
      "        </span>\n",
      "       </div>\n",
      "      </div>\n",
      "      <div class=\"atcmp_fixer _atcmp_layer\" style=\"display:none\">\n",
      "       <div class=\"atcmp_container _words\">\n",
      "        <div class=\"atcmp_cue type_line _cue_root\">\n",
      "         <div class=\"cue_header\">\n",
      "          <i class=\"imgsvg ico_cue\">\n",
      "           CUE\n",
      "          </i>\n",
      "          대화하듯 질문해 보세요\n",
      "          <a aria-pressed=\"false\" class=\"btn_help _tg_btn\" href=\"#\" role=\"button\">\n",
      "           <i class=\"imgsvg ico_alert\">\n",
      "            이 정보가 표시된 이유\n",
      "           </i>\n",
      "          </a>\n",
      "          <div class=\"layer_plus\">\n",
      "           <p class=\"dsc\">\n",
      "            검색어와 포함된 키워드를 기반으로 AI 기술을 활용하여 연관된 추천 질문을 제공합니다.\n",
      "           </p>\n",
      "           <a class=\"btn_close _tg_btn\" href=\"#\" role=\"button\">\n",
      "            <i class=\"imgsvg ico_close\">\n",
      "             레이어 닫기\n",
      "            </i>\n",
      "           </a>\n",
      "          </div>\n",
      "         </div>\n",
      "         <div class=\"atcmp_pcpg_wrap cue_list\">\n",
      "          <ul class=\"atcmp_flicking_wrap _ul\">\n",
      "          </ul>\n",
      "          <div class=\"atcmp_btn_page\">\n",
      "           <div class=\"btn_prev _prev\">\n",
      "            <a class=\"btn\" href=\"#\" role=\"button\">\n",
      "             <i class=\"imgsvg ico_arr\">\n",
      "              이전\n",
      "             </i>\n",
      "            </a>\n",
      "           </div>\n",
      "           <div class=\"btn_next _next\">\n",
      "            <a class=\"btn\" href=\"#\" role=\"button\">\n",
      "             <i class=\"imgsvg ico_arr\">\n",
      "              다음\n",
      "             </i>\n",
      "            </a>\n",
      "           </div>\n",
      "          </div>\n",
      "         </div>\n",
      "        </div>\n",
      "        <ul class=\"kwd_lst _kwd_list\">\n",
      "        </ul>\n",
      "        <div class=\"atcmp_alert _alert\">\n",
      "         <div class=\"dsc_election\">\n",
      "          <p class=\"dsc\">\n",
      "           <i class=\"imgsvg ico_election\">\n",
      "           </i>\n",
      "           <span class=\"_alert_passage\">\n",
      "           </span>\n",
      "          </p>\n",
      "          <span class=\"dsc_inner\">\n",
      "           <span class=\"_alert_passage2\">\n",
      "           </span>\n",
      "           <a class=\"link _alert_link\" href=\"#\" target=\"_blank\">\n",
      "            자세히보기\n",
      "           </a>\n",
      "          </span>\n",
      "         </div>\n",
      "        </div>\n",
      "        <div class=\"atcmp_plus _plus\">\n",
      "         <div class=\"dsc_plus\">\n",
      "          <a class=\"link_dsc\" data-clk=\"sug.cxhelp\" href=\"https://help.naver.com/alias/search/word/word_16.naver\" target=\"_blank\">\n",
      "           관심사를 반영한 컨텍스트 자동완성\n",
      "           <i class=\"imgsvg ico_help\">\n",
      "            도움말\n",
      "           </i>\n",
      "          </a>\n",
      "         </div>\n",
      "         <div class=\"switch\">\n",
      "          <a aria-pressed=\"false\" class=\"bt_switch active _plus_btn\" href=\"#\" role=\"button\">\n",
      "           <i class=\"imgsvg ico_option\">\n",
      "            컨텍스트 자동완성\n",
      "           </i>\n",
      "          </a>\n",
      "         </div>\n",
      "         <div class=\"layer_plus _plus_layer\">\n",
      "          <strong class=\"tit\">\n",
      "           컨텍스트 자동완성\n",
      "          </strong>\n",
      "          <div class=\"_plus_layer_isloggedin\" style=\"display:none\">\n",
      "           <p class=\"dsc\">\n",
      "            ON/OFF 설정은 해당기기(브라우저)에 저장됩니다.\n",
      "           </p>\n",
      "           <div class=\"btn_area\">\n",
      "            <a class=\"link_view\" data-clk=\"sug.cxlink\" href=\"https://help.naver.com/alias/search/word/word_16.naver\" target=\"_blank\">\n",
      "             자세히 보기\n",
      "            </a>\n",
      "           </div>\n",
      "          </div>\n",
      "          <div class=\"_plus_layer_isnotloggedin\" style=\"display:none\">\n",
      "           <p class=\"dsc\">\n",
      "            동일한 시간대・연령대・남녀별 사용자 그룹의 관심사에 맞춰 자동완성을 제공합니다.\n",
      "            <a class=\"link_view\" data-clk=\"sug.cxlink\" href=\"https://help.naver.com/support/alias/search/word/word_16.naver\" target=\"_blank\">\n",
      "             자세히 보기\n",
      "            </a>\n",
      "           </p>\n",
      "           <div class=\"btn_area\">\n",
      "            <a class=\"btn btn_login\" data-clk=\"sug.cxlogin\" href=\"https://nid.naver.com/nidlogin.login\">\n",
      "             <i class=\"imgsvg ico_naver\">\n",
      "              네이버\n",
      "             </i>\n",
      "             로그인\n",
      "            </a>\n",
      "           </div>\n",
      "          </div>\n",
      "          <a class=\"btn_close _plus_layer_close\" href=\"#\" role=\"button\">\n",
      "           <i class=\"imgsvg ico_close\">\n",
      "            컨텍스트 자동완성 레이어 닫기\n",
      "           </i>\n",
      "          </a>\n",
      "         </div>\n",
      "        </div>\n",
      "       </div>\n",
      "       <div class=\"atcmp_footer\">\n",
      "        <span class=\"side_opt_area\">\n",
      "         <span class=\"opt_item\">\n",
      "          <a class=\"close _suggestOnOff\" href=\"#\">\n",
      "           자동완성 끄기\n",
      "          </a>\n",
      "         </span>\n",
      "         <span class=\"opt_item\">\n",
      "          <a data-clk=\"sug.help\" href=\"https://help.naver.com/alias/search/word/word_17.naver\" target=\"_blank\">\n",
      "           도움말\n",
      "          </a>\n",
      "         </span>\n",
      "         <span class=\"opt_item\">\n",
      "          <a class=\"report\" data-clk=\"sug.report\" href=\"https://help.naver.com/alias/search/word/word_18.naver\" target=\"_blank\">\n",
      "           신고\n",
      "          </a>\n",
      "         </span>\n",
      "        </span>\n",
      "        <span class=\"rside_opt_area\">\n",
      "         <span class=\"opt_item\">\n",
      "          <a class=\"close _close\" href=\"#\">\n",
      "           닫기\n",
      "          </a>\n",
      "         </span>\n",
      "        </span>\n",
      "       </div>\n",
      "      </div>\n",
      "     </div>\n",
      "    </div>\n",
      "   </div>\n",
      "  </div>\n",
      " </div>\n",
      "</div>\n",
      "\n"
     ]
    }
   ],
   "source": [
    "# 클래스 이름을 사용하여 검색영역을 크롤링\n",
    "target = soup.find(class_='search_area')\n",
    "print(target.prettify())"
   ]
  },
  {
   "cell_type": "code",
   "execution_count": 67,
   "metadata": {},
   "outputs": [
    {
     "name": "stdout",
     "output_type": "stream",
     "text": [
      "<script data-gfp-banner-size=\"830x130\" data-gfp-banner-type=\"full\" id=\"ad-timeboard-response\" type=\"text/plain\">\n",
      " {\"payload\":{\"requestId\":\"9ff5d47ffb944fa4b1d5ddc46d571555\",\"head\":{\"version\":\"0.0.1\",\"description\":\"Naver SSP Waterfall List\"},\"eventTracking\":{\"ackImpressions\":[{\"url\":\"https://tivan.naver.com/sc2/1/\"}],\"activeViewImpressions\":[{\"url\":\"https://tivan.naver.com/sc2/2/\"}],\"clicks\":[{\"url\":\"https://tivan.naver.com/sc2/3/\"}],\"completions\":[{\"url\":\"https://tivan.naver.com/sc2/4/\"}],\"attached\":[{\"url\":\"https://tivan.naver.com/sc2/10/\"}],\"renderedImpressions\":[{\"url\":\"https://tivan.naver.com/sc2/11/\"}],\"viewableImpressions\":[{\"url\":\"https://tivan.naver.com/sc2/12/\"}],\"loadErrors\":[{\"url\":\"https://tivan.naver.com/sc2/91/\"}],\"startErrors\":[{\"url\":\"https://tivan.naver.com/sc2/92/\"}],\"lazyRenderMediaFailed\":[{\"url\":\"https://tivan.naver.com/sc2/93/\"}],\"mute\":[{\"url\":\"https://tivan.naver.com/sc2/5/\"}],\"close\":[{\"url\":\"https://tivan.naver.com/sc2/6/\"}]},\"adUnit\":\"p_main_timeboard_v1\",\"randomNumber\":37,\"adDivId\":\"ad_timeboard\",\"advertiserDomains\":[\"go.sdu.ac.kr\"],\"adDuplicationKeys\":[\"URL:http://go.sdu.ac.kr\"],\"ads\":[{\"encrypted\":\"HtsG7x5U1ba8lCIqt481uFYtkjL2E7dYJIaO1RAlEBIWyjPOCC9APSjh3UFHanPEW9kGB3Q6iWF3fdDXhbJOj0xzOxDbY2Lun191CQXJpbRfCskeV6r6iWHTB10108a8BfGZ76zD8eMowDt-XsyN-OXla3iIH8G7kMoJwHTBUW5IpKZXJ95EDslaC8cPXv9A3LFyZVMVPJNi3IN7bHXptr-kWDYE3vi86zuHdBd-AzMEeHQVHM0dywuSd9viV-uNUXn7Au_-lAA6eg6a3QrWyxvJdeox_BIbi9TpBtTyrrx92slN76bFiby-NG1e5I6OgLwSC0Hr835d6cgleVWN6ApDQsQetiRX7y_rftTddcQB7TXFW4vQQxTixNO0WHxf7OO3uouppRv80XAZy1a1ZWbQcmu9ZdmC5pTPUPXym0yAQTdzRUX-DIO_WzLC1um3ENBHew-oEaKI7SSsLey8TktolSLXV066urKA2hy5zTMEw4JprgVkQ8xCIrcrts4FxZ_2qHxR_ObDBGDLrI49cTzmlRiWZTMtm1ZiBrdi6Wbw2Tok2byBTqMDJQQI99ViiSSd6JDKiG154gHz-aFVD_Q1qMfuYIu5w8QBf02Q7Gj71sbFq9e_HRLdVdFmsa372tsir9ruSP7Zdt9aBbtZXce1EdkrA5fl2UaLLCNt0HPAj4MMYG8m13WkgGQeDkqI_HkQRHB2iCF7pXjSl6GeJDbbdS9jOg4m5PKqiEIxd-c=\",\"connectionType\":\"S2S\",\"adProviderType\":\"IN_NAVER\",\"adProviderName\":\"NDP_SF\",\"layoutType\":\"FLUID\",\"creativeType\":\"BANNER\",\"renderType\":\"SF\",\"eventTracking\":{\"ackImpressions\":[{\"url\":\"https://siape.veta.naver.com/openrtb/nurl?eu=EU10043565\\u0026calp=-\\u0026oj=cQgn6aire5MYry%2FBI1UUvsXX4xVn8MRoQYSblWmI1mB5aJ6%2BI3o1RwSGpC7sdf7XJL1qM2Pf%2Fan4%2Bj3iYD%2BMRbG3mFG%2B5vYbVmYfiHL7crDIBWexIpibH0plqdgUSG%2BUXrQSw%2B%2FX1bbNCF9%2F110BZDp0hCNKO%2BcHo2M9jEOAPSLbaIdXv9YIFqKzdZWOwZvbdMAtSn%2B9Id4vH4MuGzFJiErLLp1Ox71Vg1K%2FFXnNMQA\\u0026ac=8976244\\u0026src=7119747\\u0026evtcd=BID_WIN\\u0026x_ti=1506\\u0026rk=Rg9aLynKaSS95N2ub4QsiQ\\u0026eltts=5Cm6WC8LmxjdSmGBRjLW8g%3D%3D\\u0026brs=Y\\u0026\"}],\"attached\":[],\"activeViewImpressions\":[],\"renderedImpressions\":[],\"viewableImpressions\":[],\"clicks\":[],\"vimp1px\":[],\"vimp100\":[],\"vimp100p\":[],\"admute\":[],\"advmute\":[],\"like\":[],\"unlike\":[],\"close\":[],\"bounce\":[]},\"adInfo\":{\"placeId\":\"6436232db28a76002ea3f30c\",\"adomain\":[\"go.sdu.ac.kr\"],\"cid\":\"1496452\",\"crid\":\"2640332\",\"exp\":774,\"adm\":\"%3Cscript%20src%3D%22https%3A%2F%2Fssl.pstatic.net%2Fmelona%2Flibs%2Fglad%2Fbridge%2Fgfp-bridge.js%22%3E%3C%2Fscript%3E%0D%0A%3Clink%20rel%3D%22stylesheet%22%20href%3D%22https%3A%2F%2Fssl.pstatic.net%2Fmelona%2Flibs%2Fassets%2Fcss%2Fpc%2Fmain%2Fmin%2Fmain_image_rolling_830.min.css%3F20221021%22%20%2F%3E%0D%0A%0D%0A%3Cdiv%20class%3D%22image_rolling_area%20time_board_type%22%3E%0D%0A%20%20%20%20%3Ca%20href%3D%22https%3A%2F%2Fsiape.veta.naver.com%2Ffxclick%3Feu%3DEU10043565%26calp%3D-%26oj%3DcQgn6aire5MYry%252FBI1UUvsXX4xVn8MRoQYSblWmI1mB5aJ6%252BI3o1RwSGpC7sdf7XJL1qM2Pf%252Fan4%252Bj3iYD%252BMRbG3mFG%252B5vYbVmYfiHL7crDIBWexIpibH0plqdgUSG%252BUXrQSw%252B%252FX1bbNCF9%252F110BZDp0hCNKO%252BcHo2M9jEOAPSLbaIdXv9YIFqKzdZWOwZvbdMAtSn%252B9Id4vH4MuGzFJiErLLp1Ox71Vg1K%252FFXnNMQA%26ac%3D8976244%26src%3D7119747%26br%3D4528896%26evtcd%3DP901%26x_ti%3D1506%26tb%3D%26oid%3D%26sid1%3D%26sid2%3D%26rk%3DRg9aLynKaSS95N2ub4QsiQ%26eltts%3D5Cm6WC8LmxjdSmGBRjLW8g%253D%253D%26lu%3D%26brs%3DY%26%22%20class%3D%22image_rolling_link%22%20target%3D%22_blank%22%3E%0D%0A%20%20%20%20%20%20%20%20%3Cdiv%20class%3D%22image_area%22%3E%0D%0A%20%20%20%20%20%20%20%20%20%20%20%20%3Cimg%20src%3D%22https%3A%2F%2Fssl.pstatic.net%2Fmelona%2Flibs%2F1496%2F1496452%2F4b5cae20e7b72d4de06f_20240610145714000.jpg%22%20width%3D%22830%22%20height%3D%22130%22%20alt%3D%22%5B%EA%B4%91%EA%B3%A0%5D%EC%84%9C%EC%9A%B8%EB%94%94%EC%A7%80%ED%84%B8%EB%8C%80%ED%95%99%EA%B5%90%20%EA%B4%91%EA%B3%A0%EC%9E%85%EB%8B%88%EB%8B%A4%22%3E%0D%0A%20%20%20%20%20%20%20%20%20%20%20%20%3Cimg%20src%3D%22https%3A%2F%2Fssl.pstatic.net%2Fmelona%2Flibs%2F1496%2F1496452%2F701545800c88f4bdfeab_20240610145716011.jpg%22%20width%3D%22830%22%20height%3D%22130%22%20alt%3D%22%22%3E%0D%0A%20%20%20%20%20%20%20%20%20%20%20%20%3Cimg%20src%3D%22https%3A%2F%2Fssl.pstatic.net%2Fmelona%2Flibs%2F1496%2F1496452%2F2f8b94a64495ad4a76a7_20240610145717700.jpg%22%20width%3D%22830%22%20height%3D%22130%22%20alt%3D%22%22%3E%0D%0A%20%20%20%20%20%20%20%20%20%20%20%20%3Cimg%20src%3D%22https%3A%2F%2Fssl.pstatic.net%2Fmelona%2Flibs%2F1496%2F1496452%2Fad5c8a23b3448eaa219d_20240610145722575.jpg%22%20width%3D%22830%22%20height%3D%22130%22%20alt%3D%22%22%3E%0D%0A%20%20%20%20%20%20%20%20%3C%2Fdiv%3E%0D%0A%20%20%20%20%3C%2Fa%3E%0D%0A%3C%2Fdiv%3E%0D%0A%0D%0A%3Cscript%20type%3D%22text%2Fjavascript%22%20src%3D%22https%3A%2F%2Fssl.pstatic.net%2Fmelona%2Flibs%2Fassets%2Fjs%2Fpc%2Fmain%2Fmin%2Fpc.veta.core.min.js%3F20221021%22%3E%3C%2Fscript%3E%0D%0A%3Cscript%20type%3D%22text%2Fjavascript%22%3E%0D%0A%20%20%20%20%28function%28ns%2C%20bridge%29%20%7B%0D%0A%20%20%20%20%20%20%20%20var%20LOG%20%3D%20%7B%0D%0A%20%20%20%20%20%20%20%20%20%20%20%20VIEWABLED%3A%20%22https%3A%2F%2Fsiape.veta.naver.com%2Ffxview%3Feu%3DEU10043565%26calp%3D-%26oj%3DcQgn6aire5MYry%252FBI1UUvsXX4xVn8MRoQYSblWmI1mB5aJ6%252BI3o1RwSGpC7sdf7XJL1qM2Pf%252Fan4%252Bj3iYD%252BMRbG3mFG%252B5vYbVmYfiHL7crDIBWexIpibH0plqdgUSG%252BUXrQSw%252B%252FX1bbNCF9%252F110BZDp0hCNKO%252BcHo2M9jEOAPSLbaIdXv9YIFqKzdZWOwZvbdMAtSn%252B9Id4vH4MuGzFJiErLLp1Ox71Vg1K%252FFXnNMQA%26ac%3D8976244%26src%3D7119747%26evtcd%3DV900%26x_ti%3D1506%26tb%3D%26oid%3D%26sid1%3D%26sid2%3D%26rk%3DRg9aLynKaSS95N2ub4QsiQ%26eltts%3D5Cm6WC8LmxjdSmGBRjLW8g%253D%253D%26brs%3DY%26%26eid%3DV900%22%2C%0D%0A%20%20%20%20%20%20%20%20%20%20%20%20RENDERED%3A%20%22https%3A%2F%2Fsiape.veta.naver.com%2Ffxview%3Feu%3DEU10043565%26calp%3D-%26oj%3DcQgn6aire5MYry%252FBI1UUvsXX4xVn8MRoQYSblWmI1mB5aJ6%252BI3o1RwSGpC7sdf7XJL1qM2Pf%252Fan4%252Bj3iYD%252BMRbG3mFG%252B5vYbVmYfiHL7crDIBWexIpibH0plqdgUSG%252BUXrQSw%252B%252FX1bbNCF9%252F110BZDp0hCNKO%252BcHo2M9jEOAPSLbaIdXv9YIFqKzdZWOwZvbdMAtSn%252B9Id4vH4MuGzFJiErLLp1Ox71Vg1K%252FFXnNMQA%26ac%3D8976244%26src%3D7119751%26evtcd%3DV602%26x_ti%3D1506%26tb%3D%26oid%3D%26sid1%3D%26sid2%3D%26rk%3DRg9aLynKaSS95N2ub4QsiQ%26eltts%3D5Cm6WC8LmxjdSmGBRjLW8g%253D%253D%26brs%3DY%26%26eid%3DV810%22%0D%0A%20%20%20%20%20%20%20%20%7D%3B%0D%0A%0D%0A%20%20%20%20%20%20%20%20var%20util%20%3D%20ns.Util%20%3F%20new%20ns.Util%28%29%20%3A%20new%20NBP_CORP.Nimp%28%29%3B%0D%0A%20%20%20%20%20%20%20%20var%20gladSdkBridge%20%3D%20bridge.createSdkBridge%28%29%3B%0D%0A%20%20%20%20%20%20%20%20var%20eventList%20%3D%20%7B%7D%3B%0D%0A%0D%0A%20%20%20%20%20%20%20%20%2F%2F%20%EC%9D%91%EB%8B%B5%EB%85%B8%EC%B6%9C%0D%0A%20%20%20%20%20%20%20%20util.log%28LOG.RENDERED%29%3B%0D%0A%0D%0A%20%20%20%20%20%20%20%20%2F%2F%20%EC%9C%A0%ED%9A%A8%EB%85%B8%EC%B6%9C%0D%0A%20%20%20%20%20%20%20%20eventList%5Bbridge.EVENT.VIEWABLED%5D%20%3D%20function%28%29%20%7B%0D%0A%20%20%20%20%20%20%20%20%20%20%20%20util.log%28LOG.VIEWABLED%29%3B%0D%0A%20%20%20%20%20%20%20%20%7D%3B%0D%0A%0D%0A%20%20%20%20%20%20%20%20gladSdkBridge.setEventListeners%28eventList%29%3B%0D%0A%0D%0A%20%20%20%20%20%20%20%20window.onload%20%3D%20function%28%29%20%7B%0D%0A%20%20%20%20%20%20%20%20%20%20%20%20document.querySelector%28%27.image_area%27%29.classList.add%28%27animation_start%27%29%3B%0D%0A%20%20%20%20%20%20%20%20%7D%3B%0D%0A%20%20%20%20%7D%29%28%0D%0A%20%20%20%20%20%20%20%20window.naver_corp_da%20%7C%7C%20%7B%7D%2C%0D%0A%20%20%20%20%20%20%20%20window.gladBridge%0D%0A%20%20%20%20%29%3B%0D%0A%3C%2Fscript%3E\",\"encoded\":1,\"responseSize\":{\"height\":130,\"width\":830,\"force\":0},\"template\":\"%3C%21doctype%20html%3E%3Chtml%3E%3Chead%3E%3Cmeta%20name%3D%22viewport%22%20content%3D%22width%3Ddevice-width%2C%20user-scalable%3Dno%22%2F%3E%3Cstyle%20data-gfp-role%3D%22adMarkLegacyStyle%22%3E%5Bdata-gfp-role%3D%22adMarkLegacy%22%5D%20%7Bdisplay%3A%20none%3B%7D%3C%2Fstyle%3E%3Cscript%3Ewindow.gladBridge%20%3D%20%7BRUNTIME%3A%20%22InApp%22%7D%3B%3C%2Fscript%3E%3C%2Fhead%3E%3Cbody%20style%3D%22margin%3A%200%3B%20padding%3A%200%22%3E%7B%7Badm%7D%7D%3Cscript%20src%3D%22https%3A%2F%2Fssl.pstatic.net%2Ftveta%2Flibs%2Fglad_admute%2Fprod%2Fglad-admute.js%22%3E%3C%2Fscript%3E%3Cscript%3Econst%20adMuteOptions%20%3D%20%7BmuteUrl%3A%20%22%25%25MUTE_URL%25%25%22%2C%20privacyUrl%3A%20%22%25%25PRIV_URL%25%25%22%2C%20creativeType%3A%20%22BANNER%22%2C%20runtimeType%3A%20%22InApp%22%7D%3B%20if%28adMuteOptions.muteUrl%20%7C%7C%20adMuteOptions.privacyUrl%29%20%7B%20window.gladAdMute.checkAdMarkLegacyStyle%28adMuteOptions%29%3B%20const%20adMuteController%20%3D%20window.gladAdMute.createAdMuteController%28adMuteOptions%29%3B%20adMuteController.render%28%29%3B%20%7D%3C%2Fscript%3E%3C%2Fbody%3E%3C%2Fhtml%3E\"}},{\"encrypted\":\"MbTk16C3tFCfiTicWCTV3ZeXaF5gmY3hJaZHYzB4XcVrMSyqS_ZSdaNj4EsPNtVEvqOWFTcYSH7B07EdPJ2v5HMxkH-XeSai5MN07Lds9MBvFG-d_S5YR1hpQssZ71gvcFlGnVcxpFKhx71hFV4nxuIr9f9f_HL4w2-VrE2m33fuI9q7EPyHuTH4nbIGBBesJx_IUDZ_o8t048fGrwICMxlzDUqktRwMUnOXOsP1pI1x8JoziBXi49Ij6PluujBDcEnA0WUTOISUrQfq2lD57yW0Y39vvUTPFc-RuRhZHazS2towFS1brfocsZ-cBX4kHEro8ceEbw0Ag5TFhsEGipxEGTIhTuQUZn2vn0qCBkPeIy_oDQL52eZSPPc7qM6x301XD0e53rHCS9iyDXwT4HauFnGI7fkaJB1FGp8ksjiw5phTe6ESooEP4f_dQmIgIPgOiyRHqq6uoZ9hGA4v2QTlTb9DuK8NnHMK28DZOHLuy9ZEUCZX1H2G7l4yonl0\",\"connectionType\":\"S2S\",\"adProviderName\":\"GFP\",\"layoutType\":\"FLUID\",\"creativeType\":\"BANNER\",\"renderType\":\"EMPTY\",\"eventTracking\":{\"ackImpressions\":[{\"url\":\"https://siape.veta.naver.com/openrtb/nbackimp?eu=EU10043565\\u0026oj=cQgn6aire5MYry%2FBI1UUvsXX4xVn8MRoQYSblWmI1mB5aJ6%2BI3o1RwSGpC7sdf7XJL1qM2Pf%2Fan4%2Bj3iYD%2BMRbG3mFG%2B5vYbVmYfiHL7crDIBWexIpibH0plqdgUSG%2BUXrQSw%2B%2FX1bbNCF9%2F110BZDp0hCNKO%2BcHo2M9jEOAPSLbaIdXv9YIFqKzdZWOwZvbdMAtSn%2B9Id4vH4MuGzFJiErLLp1Ox71Vg1K%2FFXnNMQA\\u0026evtcd=BID_LOSE\\u0026rk=Rg9aLynKaSS95N2ub4QsiQ\\u0026eltts=5Cm6WC8LmxjdSmGBRjLW8g%3D%3D\\u0026calp=-\\u0026ac=8976244\\u0026src=7119747\\u0026x_ti=1506\\u0026brs=Y\"}],\"attached\":[],\"activeViewImpressions\":[{\"url\":\"https://siape.veta.naver.com/openrtb/nbimp?oj=cQgn6aire5MYry%2FBI1UUvsXX4xVn8MRoQYSblWmI1mB5aJ6%2BI3o1RwSGpC7sdf7XJL1qM2Pf%2Fan4%2Bj3iYD%2BMRbG3mFG%2B5vYbVmYfiHL7crDIBWexIpibH0plqdgUSG%2BUXrQSw%2B%2FX1bbNCF9%2F110BZDp0hCNKO%2BcHo2M9jEOAPSLbaIdXv9YIFqKzdZWOwZvbdMAtSn%2B9Id4vH4MuGzFJiErLLp1Ox71Vg1K%2FFXnNMQA\\u0026rk=Rg9aLynKaSS95N2ub4QsiQ\\u0026eltts=5Cm6WC8LmxjdSmGBRjLW8g%3D%3D\"}],\"renderedImpressions\":[],\"viewableImpressions\":[{\"url\":\"https://siape.veta.naver.com/openrtb/nbimp?oj=cQgn6aire5MYry%2FBI1UUvsXX4xVn8MRoQYSblWmI1mB5aJ6%2BI3o1RwSGpC7sdf7XJL1qM2Pf%2Fan4%2Bj3iYD%2BMRbG3mFG%2B5vYbVmYfiHL7crDIBWexIpibH0plqdgUSG%2BUXrQSw%2B%2FX1bbNCF9%2F110BZDp0hCNKO%2BcHo2M9jEOAPSLbaIdXv9YIFqKzdZWOwZvbdMAtSn%2B9Id4vH4MuGzFJiErLLp1Ox71Vg1K%2FFXnNMQA\\u0026rk=Rg9aLynKaSS95N2ub4QsiQ\\u0026eltts=5Cm6WC8LmxjdSmGBRjLW8g%3D%3D\"}],\"clicks\":[],\"vimp1px\":[],\"vimp100\":[],\"vimp100p\":[],\"admute\":[],\"advmute\":[],\"like\":[],\"unlike\":[],\"close\":[],\"bounce\":[]},\"adInfo\":{\"responseSize\":{\"height\":0,\"width\":0}}}],\"config\":{\"imp\":{\"ratio\":100,\"ms\":0}}},\"additionalInfo\":{\"adCount\":1,\"adDuplicate\":{\"advertiserDomains\":[\"go.sdu.ac.kr\"],\"adDuplicationKeys\":[\"URL:http://go.sdu.ac.kr\"]},\"adSize\":{\"h\":130,\"w\":830}}}\n",
      "</script>\n",
      "\n"
     ]
    }
   ],
   "source": []
  },
  {
   "cell_type": "code",
   "execution_count": 68,
   "metadata": {},
   "outputs": [
    {
     "name": "stdout",
     "output_type": "stream",
     "text": [
      "상단영역 바로가기\n",
      "서비스 메뉴 바로가기\n",
      "새소식 블록 바로가기\n",
      "쇼핑 블록 바로가기\n",
      "관심사 블록 바로가기\n",
      "MY 영역 바로가기\n",
      "위젯 보드 바로가기\n",
      "보기 설정 바로가기\n"
     ]
    }
   ],
   "source": [
    "# 1. ID가 'u_skip'인 div 내부의 모든 a 태그 선택\n",
    "u_skip_links = soup.select('#u_skip a')\n",
    "for link in u_skip_links:\n",
    "    print(link.text)"
   ]
  },
  {
   "cell_type": "code",
   "execution_count": null,
   "metadata": {},
   "outputs": [],
   "source": [
    "# 2. data-gfp-banner-size 속성을 가진 태그 크롤링\n",
    "banners = soup.find_all(attrs={'data-gfp-banner-size':'830x130'})\n",
    "for banner in banners:\n",
    "    print(banner.prettify())"
   ]
  },
  {
   "cell_type": "code",
   "execution_count": 69,
   "metadata": {},
   "outputs": [
    {
     "name": "stdout",
     "output_type": "stream",
     "text": [
      "           검색                       검색       입력도구     자동완성/최근검색어펼치기        최근 검색어  전체삭제     검색어 저장 기능이 꺼져 있습니다.설정이 초기화 된다면 도움말을 확인해주세요. 최근 검색어 내역이 없습니다.설정이 초기화 된다면 도움말을 확인해주세요.     자동저장 끄기  도움말   닫기       CUE대화하듯 질문해 보세요이 정보가 표시된 이유  검색어와 포함된 키워드를 기반으로 AI 기술을 활용하여 연관된 추천 질문을 제공합니다. 레이어 닫기      이전 다음             자세히보기      관심사를 반영한 컨텍스트 자동완성도움말   컨텍스트 자동완성   컨텍스트 자동완성  ON/OFF 설정은 해당기기(브라우저)에 저장됩니다.  자세히 보기    동일한 시간대・연령대・남녀별 사용자 그룹의 관심사에 맞춰 자동완성을 제공합니다. 자세히 보기   네이버로그인   컨텍스트 자동완성 레이어 닫기       자동완성 끄기  도움말 신고   닫기                   \n"
     ]
    }
   ],
   "source": [
    "# 3. ID가 'wrap'인 div 내부의 ID가 'header'인 div  선택\n",
    "header_div = soup.select_one('#wrap #header')\n",
    "print(header_div.text if header_div else 'No header')"
   ]
  },
  {
   "cell_type": "code",
   "execution_count": 72,
   "metadata": {},
   "outputs": [
    {
     "name": "stdout",
     "output_type": "stream",
     "text": [
      "830x130\n"
     ]
    }
   ],
   "source": [
    "# ID가 'ad-timeboard-response'인 script 태그의 data-gfp-banner-size 속성 값 선택\n",
    "ad_timeboard_response = soup.select_one('script#ad-timeboard-response')\n",
    "banner_size = ad_timeboard_response['data-gfp-banner-size'] if ad_timeboard_response else 'No data-gfp-banner-size found!'\n",
    "print(banner_size)"
   ]
  },
  {
   "cell_type": "code",
   "execution_count": 4,
   "metadata": {},
   "outputs": [
    {
     "ename": "NameError",
     "evalue": "name 'soup' is not defined",
     "output_type": "error",
     "traceback": [
      "\u001b[1;31m---------------------------------------------------------------------------\u001b[0m",
      "\u001b[1;31mNameError\u001b[0m                                 Traceback (most recent call last)",
      "Cell \u001b[1;32mIn[4], line 2\u001b[0m\n\u001b[0;32m      1\u001b[0m \u001b[38;5;66;03m# 네이버에서 뉴스 스텐드 출력\u001b[39;00m\n\u001b[1;32m----> 2\u001b[0m target \u001b[38;5;241m=\u001b[39m \u001b[43msoup\u001b[49m\u001b[38;5;241m.\u001b[39mselect(\u001b[38;5;124m'\u001b[39m\u001b[38;5;124ma\u001b[39m\u001b[38;5;124m'\u001b[39m, class_\u001b[38;5;241m=\u001b[39m\u001b[38;5;124m'\u001b[39m\u001b[38;5;124mContentHeaderView-module__tab_text___IuWnG\u001b[39m\u001b[38;5;124m'\u001b[39m)\n\u001b[0;32m      3\u001b[0m \u001b[38;5;28;01mfor\u001b[39;00m i \u001b[38;5;129;01min\u001b[39;00m target:\n\u001b[0;32m      4\u001b[0m     \u001b[38;5;28;01mif\u001b[39;00m i[\u001b[38;5;124m'\u001b[39m\u001b[38;5;124mhref\u001b[39m\u001b[38;5;124m'\u001b[39m]\u001b[38;5;241m==\u001b[39m\u001b[38;5;124m'\u001b[39m\u001b[38;5;124m#\u001b[39m\u001b[38;5;124m'\u001b[39m:\n",
      "\u001b[1;31mNameError\u001b[0m: name 'soup' is not defined"
     ]
    }
   ],
   "source": [
    "# 네이버에서 뉴스 스텐드 출력\n",
    "target = soup.select('a', class_='ContentHeaderView-module__tab_text___IuWnG')\n",
    "for i in target:\n",
    "    if i['href']=='#':\n",
    "        print(i.text)"
   ]
  },
  {
   "cell_type": "markdown",
   "metadata": {},
   "source": [
    "Copy Selector\n",
    "\n",
    "- copy selector는 해당 요소로 접근할 수 있는 CSS 선택자를 복사합니다.\n",
    "- 이를 통해 JavaScript나 Selenium과 같은 도구에서 해당 요소를 선택할 수 있습니다."
   ]
  },
  {
   "cell_type": "code",
   "execution_count": 1,
   "metadata": {},
   "outputs": [
    {
     "name": "stdout",
     "output_type": "stream",
     "text": [
      "뉴스스탠드\n"
     ]
    }
   ],
   "source": [
    "# 동적 콘텐츠 로딩: selenium 사용\n",
    "from selenium import webdriver\n",
    "from selenium.webdriver.chrome.options import Options\n",
    "from selenium.webdriver.common.by import By\n",
    "import time\n",
    "\n",
    "options = Options()\n",
    "options.add_argument(\"--start-maximized\")\n",
    "options.add_experimental_option(\"detach\", True)\n",
    "\n",
    "driver = webdriver.Chrome(options=options)\n",
    "\n",
    "# Naver 페이지 열기\n",
    "url = 'https://www.naver.com/'\n",
    "driver.get(url)\n",
    "\n",
    "#페이지 로딩 대기\n",
    "time.sleep(2) #2초 대기 (필요에 따라 조정)\n",
    "\n",
    "# 뉴스스텐드 링크 찾기\n",
    "try:\n",
    "    newsstand_link = driver.find_element(By.CSS_SELECTOR, '#newsstand > div.ContentHeaderView-module__content_header___nSgPg > div > ul > li:nth-child(1) > span > a:nth-child(1)')\n",
    "    print(newsstand_link.text)\n",
    "except:\n",
    "    print(\"뉴스스탠드 링크를 찾을 수 없습니다.\")\n",
    "\n",
    "# 브라우저 닫기\n",
    "driver.quit()"
   ]
  },
  {
   "cell_type": "markdown",
   "metadata": {},
   "source": [
    " Copy XPath\n",
    "\n",
    "- copy XPath는 해당 요소로 접근할 수 있는 XPath를 복사합니다.\n",
    "- XPath는 XML 문서의 특정 요소를 선택할 때 사용되는 언어로, HTML에도 적용할 수 있습니다.\n"
   ]
  },
  {
   "cell_type": "code",
   "execution_count": 3,
   "metadata": {},
   "outputs": [
    {
     "name": "stdout",
     "output_type": "stream",
     "text": [
      "뉴스스탠드\n"
     ]
    }
   ],
   "source": [
    "By.CSS_SELECTOR\n",
    "By.XPATH \n",
    "\n",
    "\n",
    "driver = webdriver.Chrome(options=options)\n",
    "\n",
    "# Naver 페이지 열기\n",
    "url = 'https://www.naver.com/'\n",
    "driver.get(url)\n",
    "try:\n",
    "    newsstand_link = driver.find_element(By.XPATH , '//*[@id=\"newsstand\"]/div[1]/div/ul/li[1]/span/a[1]')\n",
    "    print(newsstand_link.text)\n",
    "except:\n",
    "    print(\"뉴스스탠드 링크를 찾을 수 없습니다.\")\n",
    "\n",
    "# 브라우저 닫기\n",
    "driver.quit()\n",
    "\n"
   ]
  }
 ],
 "metadata": {
  "kernelspec": {
   "display_name": "myenv",
   "language": "python",
   "name": "python3"
  },
  "language_info": {
   "codemirror_mode": {
    "name": "ipython",
    "version": 3
   },
   "file_extension": ".py",
   "mimetype": "text/x-python",
   "name": "python",
   "nbconvert_exporter": "python",
   "pygments_lexer": "ipython3",
   "version": "3.10.11"
  }
 },
 "nbformat": 4,
 "nbformat_minor": 2
}
