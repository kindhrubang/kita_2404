{
  "nbformat": 4,
  "nbformat_minor": 0,
  "metadata": {
    "colab": {
      "provenance": []
    },
    "kernelspec": {
      "name": "python3",
      "display_name": "Python 3"
    },
    "language_info": {
      "name": "python"
    }
  },
  "cells": [
    {
      "cell_type": "markdown",
      "source": [
        "- 함수의 종류 및 예제\n",
        "- 패키지, 모듈, 함수, 클래스\n",
        "- 함수 vs 메소드\n",
        "- 내장함수 연습\n",
        "- 외장함수 연습 : 날짜 함수, os\n",
        "- 외부 라이브러리 연습\n",
        "- 람다함수 연습\n",
        "- 사용자 함수 연습\n",
        "- 함수 유형 : 입력 인자와 리턴값에 따른 4가지 형태\n",
        "- 지역변수와 전역변수\n",
        "- 프로그램 작성"
      ],
      "metadata": {
        "id": "6bjk-hh7iusQ"
      }
    },
    {
      "cell_type": "markdown",
      "source": [
        "파이썬에서 함수는 크게 내장 함수(Built-in Functions)와 외장 함수(External Functions)로 나뉩니다.\n",
        "\n",
        "1. 내장 함수 (Built-in Functions):\n",
        "- 내장 함수는 파이썬 인터프리터에 포함되어 있어, 별도의 모듈을 임포트(import)하지 않고도 사용 예를 들어, print(), len(), type(), range(), zip() 등이 내장 함수입니다.\n",
        "- 이러한 함수들은 기본적인 작업을 수행하며, 파이썬 프로그래밍의 기본적인 빌딩 블록(building blocks)으로 작동\n",
        "\n",
        "2. 외장 함수 (External Functions):\n",
        "- 표준 라이브러리에 포함된 모듈과 함수를 가리키는 것으로 모듈을 임포트하여 사용\n",
        "- 파이썬 표준 라이브러리의 os, sys, math, random, datetime 등의 모듈에는 다양한 외장 함수가 포함\n",
        "\n",
        "3. 외부 라이브러리나 패키지\n",
        "- 표준 라이브러리에 포함되지 않아 기본 설치에는 포함되지 않는다.\n",
        "- 이를 사용하려면 먼저 해당 라이브러리나 패키지를 설치\n",
        "- 외부 라이브러리는 통상적으로 파이썬의 패키지 관리자인 pip를 사용하여 설치\n",
        "- 설치 후에는 외장 함수와 마찬가지로 필요한 모듈을 임포트하여 사용\n",
        "- 예: numpy, pandas, requests 등의 외부 라이브러리에 포함된 함수들.\n",
        "\n",
        "3. 사용자 정의 함수(User-Defined Functions):\n",
        "- 사용자가 직접 정의하여 사용하는 함수\n",
        "- def 키워드를 사용하여 함수를 정의하며, 필요에 따라 매개변수와 반환 값을 지정\n",
        "\n",
        "4. 람다 함수(Lambda Functions):\n",
        "- 이름 없는 간단한 함수를 정의할 때 사용하는 익명 함수\n",
        "- lambda 키워드를 사용하여 한 줄로 함수를 정의하며, 주로 간단한 연산이 필요할 때 사용"
      ],
      "metadata": {
        "id": "HttC2jsBEMN6"
      }
    },
    {
      "cell_type": "code",
      "execution_count": null,
      "metadata": {
        "colab": {
          "base_uri": "https://localhost:8080/"
        },
        "id": "-p1z1F5MDxdI",
        "outputId": "ca27cc40-6ea3-4438-b555-9d11b18b703e"
      },
      "outputs": [
        {
          "output_type": "stream",
          "name": "stdout",
          "text": [
            "Hello, World!\n",
            "5\n",
            "<class 'int'>\n"
          ]
        }
      ],
      "source": [
        "#내장 함수 예제\n",
        "print('Hello, World!')\n",
        "print(len([1,2,3,4,5]))\n",
        "print(type(10))"
      ]
    },
    {
      "cell_type": "code",
      "source": [
        "# Q. 내장함수로 다음을 수행하세요.\n",
        "a = [1,2,3,4,5]\n",
        "print(sum(a))\n",
        "print(max(a))\n",
        "print(min(a))\n",
        "print(sorted(a))\n",
        "print(list(reversed(a)))"
      ],
      "metadata": {
        "colab": {
          "base_uri": "https://localhost:8080/"
        },
        "id": "phCFExuCGbvS",
        "outputId": "31863eea-8b25-40b5-dc23-7544c861da97"
      },
      "execution_count": null,
      "outputs": [
        {
          "output_type": "stream",
          "name": "stdout",
          "text": [
            "15\n",
            "5\n",
            "1\n",
            "[1, 2, 3, 4, 5]\n",
            "[5, 4, 3, 2, 1]\n"
          ]
        }
      ]
    },
    {
      "cell_type": "code",
      "source": [
        "print(type('a'))\n",
        "print(abs(-4))#절대값\n",
        "print(round(3.141592458, 3))#반올림\n",
        "print(pow(2,3))#2의 3승"
      ],
      "metadata": {
        "colab": {
          "base_uri": "https://localhost:8080/"
        },
        "id": "Edp_NnhfHGZN",
        "outputId": "53b37c80-102e-4f29-8324-682192033259"
      },
      "execution_count": null,
      "outputs": [
        {
          "output_type": "stream",
          "name": "stdout",
          "text": [
            "<class 'str'>\n",
            "4\n",
            "3.142\n",
            "8\n"
          ]
        }
      ]
    },
    {
      "cell_type": "code",
      "source": [
        "# 외장 함수 예제\n",
        "import math\n",
        "print(math.sqrt(16))\n",
        "\n",
        "import random\n",
        "print(random.randint(1,10))\n",
        "\n",
        "import datetime\n",
        "print(datetime.datetime.now())"
      ],
      "metadata": {
        "colab": {
          "base_uri": "https://localhost:8080/"
        },
        "id": "mOUlfEDGHmDL",
        "outputId": "06286da8-513a-4c69-9cdc-3051eb2b3d47"
      },
      "execution_count": null,
      "outputs": [
        {
          "output_type": "stream",
          "name": "stdout",
          "text": [
            "4.0\n",
            "10\n",
            "2024-05-03 06:25:12.663198\n"
          ]
        }
      ]
    },
    {
      "cell_type": "code",
      "source": [
        "# Q. datetime.datetime.now()에서 연도, 월, 일, 시, 분, 초, 마이크로초를 각각 출력하세요\n",
        "from datetime import datetime as dt\n",
        "\n",
        "now = dt.now()\n",
        "print(dt.now().year)\n",
        "print(now.month)\n",
        "print(now.day)\n",
        "print(now.hour)\n",
        "print(now.minute)\n",
        "print(now.second)\n",
        "print(now.microsecond)\n"
      ],
      "metadata": {
        "colab": {
          "base_uri": "https://localhost:8080/"
        },
        "id": "D0e7ljSjIJKt",
        "outputId": "00861bc0-9f44-49c6-8d03-d36361763d88"
      },
      "execution_count": null,
      "outputs": [
        {
          "output_type": "stream",
          "name": "stdout",
          "text": [
            "2024\n",
            "5\n",
            "3\n",
            "6\n",
            "33\n",
            "34\n",
            "223093\n"
          ]
        }
      ]
    },
    {
      "cell_type": "code",
      "source": [
        "import os\n",
        "print(os.getcwd())\n",
        "print(os)"
      ],
      "metadata": {
        "colab": {
          "base_uri": "https://localhost:8080/"
        },
        "id": "ZFNVwLNaJ8qh",
        "outputId": "21bcba55-6e79-4249-d63a-b26247220476"
      },
      "execution_count": null,
      "outputs": [
        {
          "output_type": "stream",
          "name": "stdout",
          "text": [
            "/content\n",
            "<module 'os' from '/usr/lib/python3.10/os.py'>\n"
          ]
        }
      ]
    },
    {
      "cell_type": "code",
      "source": [
        "os.mkdir('new_folder')"
      ],
      "metadata": {
        "id": "F_W6NYhULGC_"
      },
      "execution_count": null,
      "outputs": []
    },
    {
      "cell_type": "code",
      "source": [
        "os.rmdir('new_folder')"
      ],
      "metadata": {
        "id": "n0K8qFBzLlC_"
      },
      "execution_count": null,
      "outputs": []
    },
    {
      "cell_type": "code",
      "source": [
        "!ls -o"
      ],
      "metadata": {
        "colab": {
          "base_uri": "https://localhost:8080/"
        },
        "id": "DwRZj5jVLKcL",
        "outputId": "4c54959f-a567-46cc-8d8f-866f05971643"
      },
      "execution_count": null,
      "outputs": [
        {
          "output_type": "stream",
          "name": "stdout",
          "text": [
            "total 4\n",
            "drwxr-xr-x 1 root 4096 May  1 13:20 sample_data\n"
          ]
        }
      ]
    },
    {
      "cell_type": "code",
      "source": [
        "!pip install pandas"
      ],
      "metadata": {
        "colab": {
          "base_uri": "https://localhost:8080/"
        },
        "id": "bu1USoCjKinf",
        "outputId": "5ba22cbf-3aa5-40b5-9c7e-d5c8ced032ee"
      },
      "execution_count": null,
      "outputs": [
        {
          "output_type": "stream",
          "name": "stdout",
          "text": [
            "Requirement already satisfied: pandas in /usr/local/lib/python3.10/dist-packages (2.0.3)\n",
            "Requirement already satisfied: python-dateutil>=2.8.2 in /usr/local/lib/python3.10/dist-packages (from pandas) (2.8.2)\n",
            "Requirement already satisfied: pytz>=2020.1 in /usr/local/lib/python3.10/dist-packages (from pandas) (2023.4)\n",
            "Requirement already satisfied: tzdata>=2022.1 in /usr/local/lib/python3.10/dist-packages (from pandas) (2024.1)\n",
            "Requirement already satisfied: numpy>=1.21.0 in /usr/local/lib/python3.10/dist-packages (from pandas) (1.25.2)\n",
            "Requirement already satisfied: six>=1.5 in /usr/local/lib/python3.10/dist-packages (from python-dateutil>=2.8.2->pandas) (1.16.0)\n"
          ]
        }
      ]
    },
    {
      "cell_type": "code",
      "source": [
        "#외부 라이브러리 예제\n",
        "\n",
        "import pandas as pd\n",
        "\n",
        "#pandas의 DataFrame 객체 생성\n",
        "data = {'Name':['Alice', 'Bob', 'Charlie'], 'Age':[25,30,35]}\n",
        "df = pd.DataFrame(data)\n",
        "\n",
        "# pandas의 head() 함수를 사용하여 DataFrame의 처음 5행 출력 (여기서는 3행만 존재)\n",
        "print(df.head())"
      ],
      "metadata": {
        "colab": {
          "base_uri": "https://localhost:8080/"
        },
        "id": "ihoFmh5gL-PV",
        "outputId": "2f78d120-1747-44eb-c30d-b19077fa27b4"
      },
      "execution_count": null,
      "outputs": [
        {
          "output_type": "stream",
          "name": "stdout",
          "text": [
            "      Name  Age\n",
            "0    Alice   25\n",
            "1      Bob   30\n",
            "2  Charlie   35\n"
          ]
        }
      ]
    },
    {
      "cell_type": "code",
      "source": [
        "import numpy as np\n",
        "data = [1,2,3,4]\n",
        "arr = np.array(data)\n",
        "print(arr,type(arr))\n",
        "data_ar = list(arr)\n",
        "print(data_ar)"
      ],
      "metadata": {
        "colab": {
          "base_uri": "https://localhost:8080/"
        },
        "id": "5Or84YAqMp2S",
        "outputId": "9076111d-cfc4-43c1-dedc-ad255bdc9eb9"
      },
      "execution_count": null,
      "outputs": [
        {
          "output_type": "stream",
          "name": "stdout",
          "text": [
            "[1 2 3 4] <class 'numpy.ndarray'>\n",
            "[1, 2, 3, 4]\n"
          ]
        }
      ]
    },
    {
      "cell_type": "code",
      "source": [
        "# 사용자 함수 예제\n",
        "\n",
        "def greet(name):\n",
        "    return f\"Hello, {name}!\"\n",
        "\n",
        "print(greet('홍길동'))"
      ],
      "metadata": {
        "colab": {
          "base_uri": "https://localhost:8080/"
        },
        "id": "8cCMdS42Q8mg",
        "outputId": "83d1e087-b2a0-48d3-a473-3811840bbe21"
      },
      "execution_count": null,
      "outputs": [
        {
          "output_type": "stream",
          "name": "stdout",
          "text": [
            "Hello, 홍길동!\n"
          ]
        }
      ]
    },
    {
      "cell_type": "markdown",
      "source": [
        "##람다함수"
      ],
      "metadata": {
        "id": "TcABO92tSZvE"
      }
    },
    {
      "cell_type": "code",
      "source": [
        "# 람다 함수는 간단한 한 줄의 함수를 작성할 때 유용\n",
        "multiply = lambda x,y : x*y\n",
        "print(multiply(5,5))"
      ],
      "metadata": {
        "colab": {
          "base_uri": "https://localhost:8080/"
        },
        "id": "LCfruwyzSUlb",
        "outputId": "9e085c38-456a-4564-ad11-1d589b0b4da2"
      },
      "execution_count": null,
      "outputs": [
        {
          "output_type": "stream",
          "name": "stdout",
          "text": [
            "25\n"
          ]
        }
      ]
    },
    {
      "cell_type": "code",
      "source": [
        "# 조건 사용\n",
        "is_even = lambda x:True if x%2 ==0 else False\n",
        "print(is_even(4))\n",
        "print(is_even(3))"
      ],
      "metadata": {
        "colab": {
          "base_uri": "https://localhost:8080/"
        },
        "id": "Q-r4B9uQS7BV",
        "outputId": "1bdb63e0-097d-4cc7-c497-7bf689f1a810"
      },
      "execution_count": null,
      "outputs": [
        {
          "output_type": "stream",
          "name": "stdout",
          "text": [
            "True\n",
            "False\n"
          ]
        }
      ]
    },
    {
      "cell_type": "markdown",
      "source": [
        "#### 파이썬 패키지,  모듈, 함수, 클래스\n",
        "- 코드 작성 시 이미 만들어져 있는 함수들을 활용하면 보다 효율적이고 빠르게 개발 가능\n",
        "- 이미 만들어져 있고 안정성이 검증된 함수들을 성격에 맞게 하나의 파이썬 파일에 묶어 만들어 놓을 것을 모듈이라 함\n",
        "- 외부 모듈에 있는 함수들을 활용하려면 이 모듈을 먼저 가져와서 사용해야 하는데 이것을 모듈을 임포트한다고 한다.\n",
        "- 파이썬 모듈이 하나의 파이썬 파일이라면 패키지는 디렉토리로 볼 수 있다.\n",
        "\n",
        "패키지\n",
        "1. 라이브러리라고도 부름\n",
        "2. 특정 기능과 관련된 여러 모듈을 한 그룹으로 묶은 것\n",
        "3. 패키지 안에 서브패키지가 있을 수도 있다.\n",
        "4. import 패키지/모듈, from 패키지/모듈 import 서브패키지/모듈\n",
        "  \n",
        "   \n",
        "모듈\n",
        "1. 여러 기능들이 뭉쳐진 하나의. py파일\n",
        "2. 함수, 클래스, 변수 등 포함\n",
        "3. import 모듈\n",
        "\n",
        "함수\n",
        "1. 하나의 기능을 가진 코드의 집합\n",
        "2. 함수를 사용한다 = 함수를 호출한다\n",
        "3. 함수 사용 형태: 함수( )\n",
        "   - 필요한 경우 () 안에 매개변수 또는 옵션\n",
        "4. 종류\n",
        "   - 내장 함수(built in function)\n",
        "   - 외장 함수: import 해주어야 함\n",
        "   \n",
        "클래스   \n",
        "- 파이썬은 객체 지향 언어로클래스를 기반으로 객체를 만들어 사용한다.\n",
        "- 한 파이썬 파일(. py) 내에서 \"class class명():\"을 통해 클래스 선언"
      ],
      "metadata": {
        "id": "ZLHhZgH6ABiY"
      }
    },
    {
      "cell_type": "markdown",
      "source": [
        "#### 함수 vs 메소드\n",
        "- 함수 (Function)\n",
        "    - 함수는 특정 작업을 수행하거나 값을 계산하기 위해 정의된 코드의 블록\n",
        "    - 함수는 def 키워드를 사용하여 정의\n",
        "    - 함수는 전역적으로 호출할 수 있거나 다른 함수 내부에서 호출할 수 있다.    \n",
        "- 메소드 (Method)\n",
        "    - 메소드는 객체에 속한 함수, 메소드는 특정 객체의 기능으로 정의\n",
        "    - 메소드는 객체와 연결되어 있으며, . (점) 표기법을 사용하여 해당 객체에 대한 메소드를 호출\n",
        "    - 메소드는 첫 번째 매개변수로 self를 사용하여 객체 자체를 참조 (클래스 내부에서 메소드를 정의할 때)\n",
        "- 주요 차이점\n",
        "    - 정의: 함수는 독립적으로 정의되지만, 메소드는 클래스 내부에서 정의\n",
        "    - 호출: 함수는 이름만으로 호출될 수 있지만, 메소드는 객체를 통해 호출\n",
        "    - 참조: 메소드는 첫 번째 매개변수로 객체 자신을 참조(self), 반면 함수는 이런 자체 참조 매개변수를 갖지 않는다."
      ],
      "metadata": {
        "id": "D_kVM-XXd1T5"
      }
    },
    {
      "cell_type": "code",
      "source": [
        "def my_function():\n",
        "    print(\"Hello from a function\")\n",
        "\n",
        "my_function()"
      ],
      "metadata": {
        "id": "QAT2ONn5TdNe",
        "colab": {
          "base_uri": "https://localhost:8080/"
        },
        "outputId": "b4255cfd-f44a-499c-a83c-dcae7bf31ad1"
      },
      "execution_count": null,
      "outputs": [
        {
          "output_type": "stream",
          "name": "stdout",
          "text": [
            "Hello from a function\n"
          ]
        }
      ]
    },
    {
      "cell_type": "code",
      "source": [
        "class MyClass:\n",
        "    def my_method(self):\n",
        "        print(\"Hello from a method\")\n",
        "\n",
        "obj = MyClass()\n",
        "obj.my_method()"
      ],
      "metadata": {
        "colab": {
          "base_uri": "https://localhost:8080/"
        },
        "id": "SnrVt8mXg6MP",
        "outputId": "2807670c-d67b-4bf9-e97e-187fb0628949"
      },
      "execution_count": null,
      "outputs": [
        {
          "output_type": "stream",
          "name": "stdout",
          "text": [
            "Hello from a method\n"
          ]
        }
      ]
    },
    {
      "cell_type": "markdown",
      "source": [
        "내장함수 연습"
      ],
      "metadata": {
        "id": "PO2ugjMhiTMu"
      }
    },
    {
      "cell_type": "code",
      "source": [
        "print(abs(-3))\n",
        "print(all([1,2,3,0]))#x가 모두참이면 True 거짓이 하나라도있으면 False\n",
        "print(any([1,2,3,0]))#x가 하나라도 참이면 True 모두 거짓이면 False\n",
        "print(chr(65))#아스키 코드\n",
        "print(float(3))\n",
        "print(int(3.9))\n",
        "print(max(1,10))\n",
        "print(min(1,10))\n",
        "print(pow(10,2))#거듭제곱\n",
        "print(round(2.675,2))"
      ],
      "metadata": {
        "colab": {
          "base_uri": "https://localhost:8080/"
        },
        "id": "HVp5ymsdhIJM",
        "outputId": "7dd96c47-ae64-45a7-8b68-0d18bf5cdfad"
      },
      "execution_count": null,
      "outputs": [
        {
          "output_type": "stream",
          "name": "stdout",
          "text": [
            "3\n",
            "False\n",
            "True\n",
            "A\n",
            "3.0\n",
            "3\n",
            "10\n",
            "1\n",
            "100\n",
            "2.67\n"
          ]
        }
      ]
    },
    {
      "cell_type": "code",
      "source": [
        "type(pow)"
      ],
      "metadata": {
        "colab": {
          "base_uri": "https://localhost:8080/"
        },
        "id": "g9ex3jmti2_B",
        "outputId": "04f74968-850e-43b0-e315-a9f636c4f9be"
      },
      "execution_count": null,
      "outputs": [
        {
          "output_type": "execute_result",
          "data": {
            "text/plain": [
              "builtin_function_or_method"
            ]
          },
          "metadata": {},
          "execution_count": 2
        }
      ]
    },
    {
      "cell_type": "code",
      "source": [
        "#함수가 다른 객체와 마찬가지로 변수에 할당되거나, 다른 함수로 전달되거나, 다른 함수로부터 반환될 수 있음.\n",
        "#pow를 다른 변수에 할당\n",
        "my_pow = pow\n",
        "result = my_pow(2,3)\n",
        "print(result)\n",
        "\n",
        "def apply_func(func, x, y):\n",
        "    return func(x,y)\n",
        "result = apply_func(my_pow, 3, 4)# pow(3,4)\n",
        "print(result)"
      ],
      "metadata": {
        "colab": {
          "base_uri": "https://localhost:8080/"
        },
        "id": "v8boFwinjunk",
        "outputId": "8682c640-ee29-4326-ce6d-27539bf8f2e1"
      },
      "execution_count": null,
      "outputs": [
        {
          "output_type": "stream",
          "name": "stdout",
          "text": [
            "8\n",
            "81\n"
          ]
        }
      ]
    },
    {
      "cell_type": "code",
      "source": [
        "age = 30\n",
        "print(\"I am\"+ age + \"years old.\")"
      ],
      "metadata": {
        "colab": {
          "base_uri": "https://localhost:8080/",
          "height": 166
        },
        "id": "ceJ03U9skClY",
        "outputId": "3f8fc90f-7ca3-4a2e-d25a-23d7e0afdc76"
      },
      "execution_count": null,
      "outputs": [
        {
          "output_type": "error",
          "ename": "TypeError",
          "evalue": "can only concatenate str (not \"int\") to str",
          "traceback": [
            "\u001b[0;31m---------------------------------------------------------------------------\u001b[0m",
            "\u001b[0;31mTypeError\u001b[0m                                 Traceback (most recent call last)",
            "\u001b[0;32m<ipython-input-5-cc15f8e657a0>\u001b[0m in \u001b[0;36m<cell line: 2>\u001b[0;34m()\u001b[0m\n\u001b[1;32m      1\u001b[0m \u001b[0mage\u001b[0m \u001b[0;34m=\u001b[0m \u001b[0;36m30\u001b[0m\u001b[0;34m\u001b[0m\u001b[0;34m\u001b[0m\u001b[0m\n\u001b[0;32m----> 2\u001b[0;31m \u001b[0mprint\u001b[0m\u001b[0;34m(\u001b[0m\u001b[0;34m\"I am\"\u001b[0m\u001b[0;34m+\u001b[0m \u001b[0mage\u001b[0m \u001b[0;34m+\u001b[0m \u001b[0;34m\"years old.\"\u001b[0m\u001b[0;34m)\u001b[0m\u001b[0;34m\u001b[0m\u001b[0;34m\u001b[0m\u001b[0m\n\u001b[0m",
            "\u001b[0;31mTypeError\u001b[0m: can only concatenate str (not \"int\") to str"
          ]
        }
      ]
    },
    {
      "cell_type": "code",
      "source": [
        "age = 30\n",
        "print(\"I am\", age , \"years old.\")"
      ],
      "metadata": {
        "colab": {
          "base_uri": "https://localhost:8080/"
        },
        "id": "yCNQTN4LlaHc",
        "outputId": "14288b23-b455-4895-ccd6-a3fdd783bf20"
      },
      "execution_count": null,
      "outputs": [
        {
          "output_type": "stream",
          "name": "stdout",
          "text": [
            "I am 30 years old.\n"
          ]
        }
      ]
    },
    {
      "cell_type": "code",
      "source": [
        "age = 30\n",
        "print(\"I am \"+ str(age) + \" years old.\")"
      ],
      "metadata": {
        "colab": {
          "base_uri": "https://localhost:8080/"
        },
        "id": "hRn1gb1JlTEg",
        "outputId": "2fe06e8a-d412-4958-c38c-a8ca661bdb1b"
      },
      "execution_count": null,
      "outputs": [
        {
          "output_type": "stream",
          "name": "stdout",
          "text": [
            "I am 30 years old.\n"
          ]
        }
      ]
    },
    {
      "cell_type": "markdown",
      "source": [
        "##sort, sorted 모두 key,reverse 매개변수를 갖고 있다.\n",
        " - reverse : 기본값은 reverse=False(오름차순), reverse=True를 매개변수로 입력하면 내림차순으로 정렬\n",
        " - key:정렬을 목적으로 하는 함수를 값으로 넣는다. lambda를 이용할 수 있고 key값을 기준으로 정렬되고 기본값은 오름차순"
      ],
      "metadata": {
        "id": "xCG6oH-QmDhj"
      }
    },
    {
      "cell_type": "code",
      "source": [
        "my_list = [3,1,4,2]\n",
        "print(sorted(my_list))\n",
        "my_list"
      ],
      "metadata": {
        "colab": {
          "base_uri": "https://localhost:8080/"
        },
        "id": "0GDGLl85lYQo",
        "outputId": "630f2986-dc29-4641-8f62-7371a469de4a"
      },
      "execution_count": null,
      "outputs": [
        {
          "output_type": "stream",
          "name": "stdout",
          "text": [
            "[1, 2, 3, 4]\n"
          ]
        },
        {
          "output_type": "execute_result",
          "data": {
            "text/plain": [
              "[3, 1, 4, 2]"
            ]
          },
          "metadata": {},
          "execution_count": 9
        }
      ]
    },
    {
      "cell_type": "markdown",
      "source": [
        "Q.students = [('Alice',90), ('Bob',85),('Charlie',88)]를 점수를 기준으로 정렬하세요"
      ],
      "metadata": {
        "id": "is2y-wIto99u"
      }
    },
    {
      "cell_type": "code",
      "source": [
        "students = [('Alice',90), ('Bob',85),('Charlie',88)]\n",
        "students=sorted(students,key= lambda x : x[1] , reverse=True)\n",
        "print(students)"
      ],
      "metadata": {
        "colab": {
          "base_uri": "https://localhost:8080/"
        },
        "id": "bCErdNbqmk4a",
        "outputId": "0810cff1-718d-4339-c4c1-f933162d8c5d"
      },
      "execution_count": null,
      "outputs": [
        {
          "output_type": "stream",
          "name": "stdout",
          "text": [
            "[('Bob', 85), ('Alice', 90), ('Charlie', 88)]\n"
          ]
        }
      ]
    },
    {
      "cell_type": "code",
      "source": [
        "my_string = \"Python\"\n",
        "print(type(my_string))"
      ],
      "metadata": {
        "colab": {
          "base_uri": "https://localhost:8080/"
        },
        "id": "Bi3gezdgpXpT",
        "outputId": "69095ec6-cffc-40f4-ebec-1a51e9b11f94"
      },
      "execution_count": null,
      "outputs": [
        {
          "output_type": "stream",
          "name": "stdout",
          "text": [
            "<class 'str'>\n"
          ]
        }
      ]
    },
    {
      "cell_type": "code",
      "source": [
        "print(list(range(5)))\n",
        "print(list(range(1,6)))\n",
        "print(list(range(1,10,2)))\n",
        "print(list(range(0,-10,-1)))"
      ],
      "metadata": {
        "colab": {
          "base_uri": "https://localhost:8080/"
        },
        "id": "MYci2W2ltbVh",
        "outputId": "769c9340-3a03-4a9a-86ee-acf89ce13b0c"
      },
      "execution_count": null,
      "outputs": [
        {
          "output_type": "stream",
          "name": "stdout",
          "text": [
            "[0, 1, 2, 3, 4]\n",
            "[1, 2, 3, 4, 5]\n",
            "[1, 3, 5, 7, 9]\n",
            "[0, -1, -2, -3, -4, -5, -6, -7, -8, -9]\n"
          ]
        }
      ]
    },
    {
      "cell_type": "markdown",
      "source": [
        "Q. 실행 가능한 숫자를 문자열('5+5') 입력으로 받아 문자열을 숫자 연산으로 실행한 결과값을 출력하세요.\n"
      ],
      "metadata": {
        "id": "XLQynBFXuRKN"
      }
    },
    {
      "cell_type": "code",
      "source": [
        "print(eval(input('연산을 입력하세요.')))#eval함수"
      ],
      "metadata": {
        "colab": {
          "base_uri": "https://localhost:8080/"
        },
        "id": "mbi7SBqytf_a",
        "outputId": "2bdb7778-a854-47d4-a7fb-6afd8c702c68"
      },
      "execution_count": null,
      "outputs": [
        {
          "output_type": "stream",
          "name": "stdout",
          "text": [
            "연산을 입력하세요.100*1000\n",
            "100000\n"
          ]
        }
      ]
    },
    {
      "cell_type": "code",
      "source": [
        "expression = input(\"계산할 수식을 입력하세요: \")\n",
        "result = eval(expression)\n",
        "print(f\"계산 결과 :{result}\")"
      ],
      "metadata": {
        "colab": {
          "base_uri": "https://localhost:8080/"
        },
        "id": "XwTSXFgLuh_P",
        "outputId": "2f92bfb3-50e6-4b92-905f-5aa44d0d6f9b"
      },
      "execution_count": null,
      "outputs": [
        {
          "output_type": "stream",
          "name": "stdout",
          "text": [
            "계산할 수식을 입력하세요: 5-4\n",
            "계산 결과 :1\n"
          ]
        }
      ]
    },
    {
      "cell_type": "code",
      "source": [
        "data = [1,2,3,4,5]\n",
        "operation = input(\"실행할 리스트 연산을 입력하세요(예: 'data.append(6), data.pop()').>\")\n",
        "eval(operation)\n",
        "print(f'계산 결과 : {data}')"
      ],
      "metadata": {
        "colab": {
          "base_uri": "https://localhost:8080/"
        },
        "id": "kfHD20J3vBjE",
        "outputId": "bfa0c988-1812-4102-ad4d-560fe4155083"
      },
      "execution_count": null,
      "outputs": [
        {
          "output_type": "stream",
          "name": "stdout",
          "text": [
            "실행할 리스트 연산을 입력하세요(예: 'data.append(6), data.pop()').>data.pop(3)\n",
            "계산 결과 : [1, 2, 3, 5]\n"
          ]
        }
      ]
    },
    {
      "cell_type": "code",
      "source": [
        "for idx, element in enumerate(['ele1','ele2','ele3']):\n",
        "    print(idx+1,element)"
      ],
      "metadata": {
        "colab": {
          "base_uri": "https://localhost:8080/"
        },
        "id": "JHHfQ9bkvlkL",
        "outputId": "2b18d2ab-d0d1-477a-f71a-ddcace1fd9e2"
      },
      "execution_count": null,
      "outputs": [
        {
          "output_type": "stream",
          "name": "stdout",
          "text": [
            "1 ele1\n",
            "2 ele2\n",
            "3 ele3\n"
          ]
        }
      ]
    },
    {
      "cell_type": "code",
      "source": [
        "#Q. enumerate와 f-string을 사용해서 특정 리스트에서 원하는 형태로 출력을 하세요.(인덱스와 내용을 믹스하여)"
      ],
      "metadata": {
        "id": "SJS5BOtlxLGv"
      },
      "execution_count": null,
      "outputs": []
    },
    {
      "cell_type": "markdown",
      "source": [
        "과일의 종류\n",
        "0. 사과\n",
        "1. 키위\n",
        "2. 딸기\n",
        "3. 참외\n",
        "4. 수박"
      ],
      "metadata": {
        "id": "q2cq3Ayz2BzY"
      }
    },
    {
      "cell_type": "code",
      "source": [
        "frouts = ['사과', '키위', '딸기', '참외', '수박']\n",
        "print('과일의 종류')\n",
        "for idx , elements in enumerate(frouts):\n",
        "    print(f'{idx}. {elements}')"
      ],
      "metadata": {
        "colab": {
          "base_uri": "https://localhost:8080/"
        },
        "id": "NO77A8fqxdIM",
        "outputId": "afc05823-3f7f-47b6-ebe2-d9426a34b7e7"
      },
      "execution_count": null,
      "outputs": [
        {
          "output_type": "stream",
          "name": "stdout",
          "text": [
            "과일의 종류\n",
            "0. 사과\n",
            "1. 키위\n",
            "2. 딸기\n",
            "3. 참외\n",
            "4. 수박\n"
          ]
        }
      ]
    },
    {
      "cell_type": "code",
      "source": [
        "print(range(10),type(range(10)))\n",
        "print([i for i in  range(10)])\n",
        "print(type([ i for i in range(10)]))"
      ],
      "metadata": {
        "id": "mXR0hUbJxveD",
        "colab": {
          "base_uri": "https://localhost:8080/"
        },
        "outputId": "8286716b-f658-4509-c8cc-32d561e31d85"
      },
      "execution_count": null,
      "outputs": [
        {
          "output_type": "stream",
          "name": "stdout",
          "text": [
            "range(0, 10) <class 'range'>\n",
            "[0, 1, 2, 3, 4, 5, 6, 7, 8, 9]\n",
            "<class 'list'>\n"
          ]
        }
      ]
    },
    {
      "cell_type": "code",
      "source": [
        "print(list(range(10)))\n",
        "print(type(list(range(10))))"
      ],
      "metadata": {
        "colab": {
          "base_uri": "https://localhost:8080/"
        },
        "id": "-zaW2-oy1xa7",
        "outputId": "7c65f6db-a3f0-4a1b-bdf0-1b1820c2313c"
      },
      "execution_count": null,
      "outputs": [
        {
          "output_type": "stream",
          "name": "stdout",
          "text": [
            "[0, 1, 2, 3, 4, 5, 6, 7, 8, 9]\n",
            "<class 'list'>\n"
          ]
        }
      ]
    },
    {
      "cell_type": "code",
      "source": [
        "# 몫과 나머지\n",
        "print(divmod(7,3))"
      ],
      "metadata": {
        "colab": {
          "base_uri": "https://localhost:8080/"
        },
        "id": "1fjomQqH2H1y",
        "outputId": "7e997af4-df4e-4edd-b136-60ec254e0057"
      },
      "execution_count": null,
      "outputs": [
        {
          "output_type": "stream",
          "name": "stdout",
          "text": [
            "(2, 1)\n"
          ]
        }
      ]
    },
    {
      "cell_type": "code",
      "source": [
        "# Q. 150분을 시간과 분으로 변환해서 출력하세요.\n",
        "ah, mi = divmod(150,60)\n",
        "print(f'{ah}시간 {mi}분')"
      ],
      "metadata": {
        "colab": {
          "base_uri": "https://localhost:8080/"
        },
        "id": "aoQ1niH-2tgB",
        "outputId": "0e954fae-9eff-456e-c74a-398e5698893a"
      },
      "execution_count": null,
      "outputs": [
        {
          "output_type": "stream",
          "name": "stdout",
          "text": [
            "2시간 30분\n"
          ]
        }
      ]
    },
    {
      "cell_type": "code",
      "source": [
        "#예시\n",
        "def convert_time(minutes):\n",
        "    hours, minutes = divmod(minutes, 60)\n",
        "    return hours, minutes\n",
        "\n",
        "minutes = 150\n",
        "hours, minutes = convert_time(minutes)\n",
        "print(f'{hours}시간 {minutes}분')"
      ],
      "metadata": {
        "colab": {
          "base_uri": "https://localhost:8080/"
        },
        "id": "SAWO8tZT4gwW",
        "outputId": "4fcc8671-b5b6-4bd8-e7c8-fb98c9def2fc"
      },
      "execution_count": null,
      "outputs": [
        {
          "output_type": "stream",
          "name": "stdout",
          "text": [
            "2시간 30분\n"
          ]
        }
      ]
    },
    {
      "cell_type": "code",
      "source": [
        "#Q: url에서 쿼리문을 추출하여 출력하세요.\n",
        "#url에서 '?'뒤에 표시되는 문자열을 쿼리 문자열이라고 하며 변수=값 사이&로 구분되어 나열된다.\n",
        "url = 'http://news.naver.com/main/read.nhn?mode=LSD&mid=shm&sid1=105&oid=028&aid=0002334601'"
      ],
      "metadata": {
        "id": "JxjM-8H33Y1T"
      },
      "execution_count": null,
      "outputs": []
    },
    {
      "cell_type": "code",
      "source": [
        "tmp1 = url.split('/')\n",
        "tmp2 = tmp1[-1].split('?')\n",
        "result = tmp2[-1].split('&')\n",
        "\n",
        "print(result)"
      ],
      "metadata": {
        "colab": {
          "base_uri": "https://localhost:8080/"
        },
        "id": "BgXmu0bK5q_c",
        "outputId": "f290c7c6-3bd4-432d-9a22-1cdafeb6d87a"
      },
      "execution_count": null,
      "outputs": [
        {
          "output_type": "stream",
          "name": "stdout",
          "text": [
            "['mode=LSD', 'mid=shm', 'sid1=105', 'oid=028', 'aid=0002334601']\n"
          ]
        }
      ]
    },
    {
      "cell_type": "code",
      "source": [
        "#Q. List안의 단어가 있으면 해당 제목을 출력\n",
        "x = input(\"단어를 검색해 보세요 >>>\")\n",
        "tlist = ['Hello Word!', 'Nice Day', 'HappyBin', 'enDing_Story']\n",
        "n_tlist =[]\n",
        "\n",
        "x=x.lower()\n",
        "for i in range(len(tlist)):\n",
        "    n_tlist.append(tlist[i].lower())\n",
        "    if x in n_tlist[i]:\n",
        "        print(tlist[i])"
      ],
      "metadata": {
        "id": "38KAN-KN6THl",
        "colab": {
          "base_uri": "https://localhost:8080/"
        },
        "outputId": "4875b747-a701-46aa-86ec-1bc631af1df3"
      },
      "execution_count": null,
      "outputs": [
        {
          "output_type": "stream",
          "name": "stdout",
          "text": [
            "단어를 검색해 보세요 >>>d\n",
            "Hello Word!\n",
            "Nice Day\n",
            "enDing_Story\n"
          ]
        }
      ]
    },
    {
      "cell_type": "code",
      "source": [
        "#Q. 영어 이름을 적으면 앞에 글자를 대문자로 바꾸어 주는 프로그램\n",
        "wiyname = input('이름 입력 : ')\n",
        "\n",
        "txt = wiyname.title()\n",
        "\n",
        "print(txt)"
      ],
      "metadata": {
        "colab": {
          "base_uri": "https://localhost:8080/"
        },
        "id": "nTbEnSkz-Yay",
        "outputId": "2314726a-c5bc-44f5-f451-e2d60a670857"
      },
      "execution_count": null,
      "outputs": [
        {
          "output_type": "stream",
          "name": "stdout",
          "text": [
            "이름 입력 : lee sang hyeop\n",
            "Lee Sang Hyeop\n"
          ]
        }
      ]
    },
    {
      "cell_type": "code",
      "source": [
        "# 문자열에서 좌우 공백 제거\n",
        "txt = '   양쪽에 공백이 있는 문자열입니다   '\n",
        "ret1 = txt.lstrip()\n",
        "ret2 = txt.rstrip()\n",
        "ret3 = txt.strip()\n",
        "print('<' + ret1 + '>')\n",
        "print('<' + ret2 + '>')\n",
        "print('<' + ret3 + '>')"
      ],
      "metadata": {
        "colab": {
          "base_uri": "https://localhost:8080/"
        },
        "id": "29Oz0tYLB5SH",
        "outputId": "2cd970e5-4f67-4356-d248-65b616a94948"
      },
      "execution_count": null,
      "outputs": [
        {
          "output_type": "stream",
          "name": "stdout",
          "text": [
            "<양쪽에 공백이 있는 문자열입니다   >\n",
            "<   양쪽에 공백이 있는 문자열입니다>\n",
            "<양쪽에 공백이 있는 문자열입니다>\n"
          ]
        }
      ]
    },
    {
      "cell_type": "code",
      "source": [
        "# join : 특정 문자로 결합\n",
        "loglist = ['2016/08/26 10:12:11', '200', 'OK', '이 또한 지나가리라']\n",
        "bond = ', '\n",
        "log=bond.join(loglist)\n",
        "print(log)"
      ],
      "metadata": {
        "colab": {
          "base_uri": "https://localhost:8080/"
        },
        "id": "5SxRxoBlDnOF",
        "outputId": "641621b2-8dba-4a2b-c1ad-508cff729eae"
      },
      "execution_count": null,
      "outputs": [
        {
          "output_type": "stream",
          "name": "stdout",
          "text": [
            "2016/08/26 10:12:11, 200, OK, 이 또한 지나가리라\n"
          ]
        }
      ]
    },
    {
      "cell_type": "code",
      "source": [
        "#특정 문자(열)을 다른 문자(열)로 바꾸기 (replace)\n",
        "txt = \"My password is 1234\"\n",
        "ret1 = txt.replace('1', '0')\n",
        "ret2 = txt.replace('1','python')\n",
        "\n",
        "print(ret1)\n",
        "print(ret2)\n",
        "\n",
        "txt = '매일 많은 일들이 일어납니다.'\n",
        "\n",
        "ret3 = txt.replace(\"많은 일들이\", '아침 일찍')\n",
        "\n",
        "print(ret3)"
      ],
      "metadata": {
        "colab": {
          "base_uri": "https://localhost:8080/"
        },
        "id": "LoORLD15EWTc",
        "outputId": "d82611d3-4a78-4415-c998-a187f6f150a5"
      },
      "execution_count": null,
      "outputs": [
        {
          "output_type": "stream",
          "name": "stdout",
          "text": [
            "My password is 0234\n",
            "My password is python234\n",
            "매일 아침 일찍 일어납니다.\n"
          ]
        }
      ]
    },
    {
      "cell_type": "code",
      "source": [
        "# Q. 입력된 문장에서 'bad'를 'good'로 교체해서 출력하세요. (입력 예시 : This is a bad example)\n",
        "\n",
        "txt = input('문장 입력 >>')\n",
        "#txt = 'This is a bad example'\n",
        "\n",
        "ret1= txt.replace('bad', 'good')\n",
        "print(ret1)"
      ],
      "metadata": {
        "colab": {
          "base_uri": "https://localhost:8080/"
        },
        "id": "Tf93r_DmFquO",
        "outputId": "a8b1234b-57a0-46af-dd18-e90ca66ac1f6"
      },
      "execution_count": null,
      "outputs": [
        {
          "output_type": "stream",
          "name": "stdout",
          "text": [
            "문장 입력 >>This is a bad examplebadbadbadbadbadbadbad\n",
            "This is a good examplegoodgoodgoodgoodgoodgoodgood\n"
          ]
        }
      ]
    },
    {
      "cell_type": "code",
      "source": [
        "val = int(input('문자 코드값을 입력하세요 : '))\n",
        "ch = chr(val)\n",
        "\n",
        "print('코드값: %d  문자 : %s' %(val, ch))"
      ],
      "metadata": {
        "colab": {
          "base_uri": "https://localhost:8080/"
        },
        "id": "kzQsu3xoGj-h",
        "outputId": "ce2feb6e-b4d5-43ae-deda-b9577e93f904"
      },
      "execution_count": null,
      "outputs": [
        {
          "output_type": "stream",
          "name": "stdout",
          "text": [
            "문자 코드값을 입력하세요 : 60\n",
            "코드값: 60  문자 : <\n"
          ]
        }
      ]
    },
    {
      "cell_type": "code",
      "source": [
        "for i in range(128):\n",
        "    print(chr(i),end = \"\")"
      ],
      "metadata": {
        "colab": {
          "base_uri": "https://localhost:8080/"
        },
        "id": "H3A9GSHQJyd4",
        "outputId": "8ea18565-f58a-499f-b9e0-33bf58bc1813"
      },
      "execution_count": null,
      "outputs": [
        {
          "output_type": "stream",
          "name": "stdout",
          "text": [
            "\u0000\u0001\u0002\u0003\u0004\u0005\u0006\u0007\b\t\n",
            "\u000b\f\r\u000e\u000f\u0010\u0011\u0012\u0013\u0014\u0015\u0016\u0017\u0018\u0019\u001a\u001b\u001c\u001d\u001e\u001f !\"#$%&'()*+,-./0123456789:;<=>?@ABCDEFGHIJKLMNOPQRSTUVWXYZ[\\]^_`abcdefghijklmnopqrstuvwxyz{|}~"
          ]
        }
      ]
    },
    {
      "cell_type": "code",
      "source": [
        "while True:\n",
        "    val = int(input('문자 코드값을 입력하세요 (0을 입력하면 종료) : '))\n",
        "    if val == 0:\n",
        "        break\n",
        "\n",
        "    ch = chr(val)\n",
        "\n",
        "    print('코드값: %d  문자 : %s' %(val, ch))"
      ],
      "metadata": {
        "colab": {
          "base_uri": "https://localhost:8080/"
        },
        "id": "7p_WlXo7Kd6u",
        "outputId": "c8450067-f8d8-4245-a6fb-2342692fc32b"
      },
      "execution_count": null,
      "outputs": [
        {
          "name": "stdout",
          "output_type": "stream",
          "text": [
            "문자 코드값을 입력하세요 (0번 입력하면 종료) : 1\n",
            "코드값: 1  문자 : \u0001\n",
            "문자 코드값을 입력하세요 (0번 입력하면 종료) : 2\n",
            "코드값: 2  문자 : \u0002\n",
            "문자 코드값을 입력하세요 (0번 입력하면 종료) : 3\n",
            "코드값: 3  문자 : \u0003\n",
            "문자 코드값을 입력하세요 (0번 입력하면 종료) : 4\n",
            "코드값: 4  문자 : \u0004\n",
            "문자 코드값을 입력하세요 (0번 입력하면 종료) : 5\n",
            "코드값: 5  문자 : \u0005\n",
            "문자 코드값을 입력하세요 (0번 입력하면 종료) : 0\n"
          ]
        }
      ]
    },
    {
      "cell_type": "code",
      "source": [
        "# 문자열이 문자인지 검사\n",
        "txt1 = 'A'\n",
        "txt2 = '안녕'\n",
        "txt3 = 'Warcraft Three'\n",
        "txt4 = '3PO'\n",
        "ret1 = txt1.isalpha()\n",
        "ret2 = txt2.isalpha()\n",
        "ret3 = txt3.isalpha()\n",
        "ret4 = txt4.isalpha()\n",
        "print(ret1)\n",
        "print(ret2)\n",
        "print(ret3)\n",
        "print(ret4)"
      ],
      "metadata": {
        "colab": {
          "base_uri": "https://localhost:8080/"
        },
        "id": "-s-3A7E6Kxpw",
        "outputId": "db79e67c-b6de-4c45-89d0-ac196e7b1c08"
      },
      "execution_count": null,
      "outputs": [
        {
          "output_type": "stream",
          "name": "stdout",
          "text": [
            "True\n",
            "True\n",
            "False\n",
            "True\n"
          ]
        }
      ]
    },
    {
      "cell_type": "code",
      "source": [
        "# isdigit() 문자열이 숫자인지 검사\n",
        "\n",
        "txt1 = '010-1234-5678'\n",
        "txt2 = 'R2D2'\n",
        "txt3 = '1212'\n",
        "\n",
        "ret1= txt1.isdigit()\n",
        "ret2= txt2.isdigit()\n",
        "ret3= txt3.isdigit()\n",
        "\n",
        "print(ret1)\n",
        "print(ret2)\n",
        "print(ret3)"
      ],
      "metadata": {
        "colab": {
          "base_uri": "https://localhost:8080/"
        },
        "id": "4FChSR8UMEY6",
        "outputId": "f95cd964-8043-4310-b969-b7629e981999"
      },
      "execution_count": null,
      "outputs": [
        {
          "output_type": "stream",
          "name": "stdout",
          "text": [
            "False\n",
            "False\n",
            "True\n"
          ]
        }
      ]
    },
    {
      "cell_type": "code",
      "source": [
        "# isalnum() : 문자열이 문자 또는 숫자인지 검사: 문자열이 영어, 한글 혹은 숫자로 되어있으면 참 리턴 , 아니면 거짓 리턴\n",
        "txt1 = '안녕하세요?'\n",
        "txt2 = '1. Title-제목을 넣으세요'\n",
        "txt3 = '3피오R2D2'\n",
        "\n",
        "ret1 = txt1.isalnum()\n",
        "ret2 = txt2.isalnum()\n",
        "ret3 = txt3.isalnum()\n",
        "\n",
        "print(ret1,ret2,ret3)"
      ],
      "metadata": {
        "colab": {
          "base_uri": "https://localhost:8080/"
        },
        "id": "6S75HzcVM96m",
        "outputId": "72292616-ed2e-4ce0-8279-b2be67326d0d"
      },
      "execution_count": null,
      "outputs": [
        {
          "output_type": "stream",
          "name": "stdout",
          "text": [
            "False False True\n"
          ]
        }
      ]
    },
    {
      "cell_type": "code",
      "source": [
        "txt = \"A lot of Things occur each day.\"\n",
        "ret1 = txt.upper()\n",
        "ret2 = txt.lower()\n",
        "ret3 = txt.title()\n",
        "ret4 = txt.capitalize()\n",
        "\n",
        "print(ret1)\n",
        "print(ret2)\n",
        "print(ret3)\n",
        "print(ret4)"
      ],
      "metadata": {
        "colab": {
          "base_uri": "https://localhost:8080/"
        },
        "id": "Re1XUBuVPBrJ",
        "outputId": "216ab3dd-6889-4693-f111-40188fa1b672"
      },
      "execution_count": null,
      "outputs": [
        {
          "output_type": "stream",
          "name": "stdout",
          "text": [
            "A LOT OF THINGS OCCUR EACH DAY.\n",
            "a lot of things occur each day.\n",
            "A Lot Of Things Occur Each Day.\n",
            "A lot of things occur each day.\n"
          ]
        }
      ]
    },
    {
      "cell_type": "code",
      "source": [
        "#Q. numbers 내부에 들어 있는 숫자가 몇 번 등장하는지를 출력하는 코드를 작성하세요.\n",
        "numbers = [3,6,3,5,8,2,9,7,4,3,6,3,5,8,2,9,7,4]\n",
        "\n",
        "se_nums = set(numbers)\n",
        "\n",
        "output={}\n",
        "\n",
        "for se_num in se_nums:\n",
        "    count = 0\n",
        "    for i in numbers:\n",
        "        if i == se_num:\n",
        "            count += 1\n",
        "\n",
        "    output[se_num]=count\n",
        "\n",
        "print(output)\n",
        "for i in se_nums:\n",
        "    print(f'{i}는 {output[i]}번 나왔습니다.')"
      ],
      "metadata": {
        "colab": {
          "base_uri": "https://localhost:8080/"
        },
        "id": "-4_ixfLbQvN8",
        "outputId": "6c99cce9-06ce-4783-ad58-5784a14f6afa"
      },
      "execution_count": null,
      "outputs": [
        {
          "output_type": "stream",
          "name": "stdout",
          "text": [
            "{2: 2, 3: 4, 4: 2, 5: 2, 6: 2, 7: 2, 8: 2, 9: 2}\n",
            "2는 2번 나왔습니다.\n",
            "3는 4번 나왔습니다.\n",
            "4는 2번 나왔습니다.\n",
            "5는 2번 나왔습니다.\n",
            "6는 2번 나왔습니다.\n",
            "7는 2번 나왔습니다.\n",
            "8는 2번 나왔습니다.\n",
            "9는 2번 나왔습니다.\n"
          ]
        }
      ]
    },
    {
      "cell_type": "code",
      "source": [
        "\n",
        "numbers = [3,6,3,5,8,2,9,7,4,3,6,3,5,8,2,9,7,4]\n",
        "\n",
        "counter = {}\n",
        "for value in numbers:\n",
        "    if value in counter:\n",
        "        counter[value] += 1\n",
        "    else:\n",
        "        counter[value] = 1\n",
        "\n",
        "print(counter)"
      ],
      "metadata": {
        "colab": {
          "base_uri": "https://localhost:8080/"
        },
        "id": "-PqgU9Y2Rij6",
        "outputId": "8a26bc41-d749-4c8f-fb7d-373f557ae7c4"
      },
      "execution_count": null,
      "outputs": [
        {
          "output_type": "stream",
          "name": "stdout",
          "text": [
            "{3: 4, 6: 2, 5: 2, 8: 2, 2: 2, 9: 2, 7: 2, 4: 2}\n"
          ]
        }
      ]
    },
    {
      "cell_type": "code",
      "source": [
        "#list a의 모든 원소를 실수형으로 바꾸어 출력하세요\n",
        "a=[1,2,3,4,5]\n",
        "a_float = list(map(float, a))\n",
        "print(a_float)"
      ],
      "metadata": {
        "colab": {
          "base_uri": "https://localhost:8080/"
        },
        "id": "vdDe_pAXTTsk",
        "outputId": "de3f11d6-bc54-4f5f-bf98-ff65c2dba2b6"
      },
      "execution_count": null,
      "outputs": [
        {
          "output_type": "stream",
          "name": "stdout",
          "text": [
            "[1.0, 2.0, 3.0, 4.0, 5.0]\n"
          ]
        }
      ]
    },
    {
      "cell_type": "code",
      "source": [
        "a=[1.0,2.0,3.0,4.0,5.0]\n",
        "a_float = list(map(int, a))\n",
        "print(a_float)"
      ],
      "metadata": {
        "colab": {
          "base_uri": "https://localhost:8080/"
        },
        "id": "iznodObll1QB",
        "outputId": "9bdde225-6daa-4782-9cdb-b2433b1c23b4"
      },
      "execution_count": null,
      "outputs": [
        {
          "output_type": "stream",
          "name": "stdout",
          "text": [
            "[1, 2, 3, 4, 5]\n"
          ]
        }
      ]
    },
    {
      "cell_type": "code",
      "source": [
        "#Q. 데이터를 입력하지 않으면 종료되는 코딩을 수행하세요. 단 반복적으로 작업을 수행할 수 있음.\n",
        "while 1:\n",
        "    a =input('데이터 입력하세용: ')\n",
        "    if a =='':\n",
        "        break\n",
        "    else:\n",
        "        print(a)"
      ],
      "metadata": {
        "colab": {
          "base_uri": "https://localhost:8080/"
        },
        "id": "G45hBLkZmJGa",
        "outputId": "722f5cea-5210-49b1-888d-e3763d6e5ed0"
      },
      "execution_count": null,
      "outputs": [
        {
          "name": "stdout",
          "output_type": "stream",
          "text": [
            "데이터 입력하세용: asd\n",
            "asd\n",
            "데이터 입력하세용: sdf\n",
            "sdf\n",
            "데이터 입력하세용: qwe\n",
            "qwe\n",
            "데이터 입력하세용: asdzx`1\n",
            "asdzx`1\n",
            "데이터 입력하세용: 1\n",
            "1\n",
            "데이터 입력하세용:  \n",
            " \n",
            "데이터 입력하세용: \n"
          ]
        }
      ]
    },
    {
      "cell_type": "code",
      "source": [
        "while 1:\n",
        "    data = input()\n",
        "    if not data: break\n",
        "    print(data)"
      ],
      "metadata": {
        "colab": {
          "base_uri": "https://localhost:8080/"
        },
        "id": "BvmyNJkAmk7X",
        "outputId": "352ec3aa-0468-4d23-8144-f4c84133fc6a"
      },
      "execution_count": null,
      "outputs": [
        {
          "name": "stdout",
          "output_type": "stream",
          "text": [
            "as\n",
            "as\n",
            "qe\n",
            "qe\n",
            "zxc\n",
            "zxc\n",
            "\n"
          ]
        }
      ]
    },
    {
      "cell_type": "markdown",
      "source": [
        "##표준 라이브러리 외장함수"
      ],
      "metadata": {
        "id": "ZzykzRICnf67"
      }
    },
    {
      "cell_type": "markdown",
      "source": [
        "[ 날짜 함수 ]\n",
        "\n",
        "날짜와 시간을 처리하기 위한 주요 라이브러리는 datetime입니다. 이 라이브러리는 날짜, 시간, 시간대와 관련된 다양한 클래스와 함수를 제공하며, 날짜와 시간 연산에 매우 유용\n",
        "- datetime.date: 날짜(연, 월, 일)를 표현하는 클래스\n",
        "    - today(): 오늘의 날짜를 반환\n",
        "- datetime.time: 시간(시, 분, 초, 마이크로초)을 표현하는 클래스\n",
        "- datetime.datetime: 날짜와 시간을 모두 포함하는 클래스\n",
        "    - now(): 현재의 날짜와 시간을 반환\n",
        "- datetime.timedelta: 두 날짜/시간 간의 차이를 표현하는 클래스\n",
        "- datetime.tzinfo: 시간대 정보를 위한 기본 클래스\n",
        "\n",
        "datetime 모듈의 날짜와 시간 객체들을 문자열 형식으로 포맷팅하거나 문자열로부터 날짜와 시간 객체를 생성하기 위해 사용하는 주요 메서드는 strftime()와 strptime()\n",
        "- strftime() (String Format Time)\n",
        "    - 날짜와 시간 객체를 문자열로 변환하는 데 사용\n",
        "    - 사용자가 지정한 형식 문자열을 기반으로 날짜와 시간 정보를 문자열로 표현\n",
        "- strptime() (String Parse Time)\n",
        "    - 문자열을 날짜와 시간 객체로 변환하는 데 사용\n",
        "    - 주어진 형식 문자열을 기반으로 문자열에서 날짜와 시간 정보를 파싱"
      ],
      "metadata": {
        "id": "Ljv9rqfmnlrD"
      }
    },
    {
      "cell_type": "code",
      "source": [
        "import datetime\n",
        "\n",
        "print(datetime.datetime.now())"
      ],
      "metadata": {
        "colab": {
          "base_uri": "https://localhost:8080/"
        },
        "id": "iaJnevK0nQNH",
        "outputId": "b92f4c60-6e53-46a0-b533-c45b6536e00a"
      },
      "execution_count": null,
      "outputs": [
        {
          "output_type": "stream",
          "name": "stdout",
          "text": [
            "2024-05-08 05:16:25.552763\n"
          ]
        }
      ]
    },
    {
      "cell_type": "code",
      "source": [
        "now =datetime.datetime.now()\n",
        "a = now.strftime('%y-%m-%d')\n",
        "print(a)\n",
        "b=[]\n",
        "b.append(a)\n",
        "print(b)"
      ],
      "metadata": {
        "colab": {
          "base_uri": "https://localhost:8080/"
        },
        "id": "zBQ0QKtSopc0",
        "outputId": "a37072ad-ca6b-4209-eabf-473beedca131"
      },
      "execution_count": null,
      "outputs": [
        {
          "output_type": "stream",
          "name": "stdout",
          "text": [
            "24-05-08\n",
            "['24-05-08']\n"
          ]
        }
      ]
    },
    {
      "cell_type": "code",
      "source": [
        "import datetime\n",
        "\n",
        "#현재 날짜와 시간 가져오기\n",
        "now = datetime.datetime.now()\n",
        "print(now)\n",
        "\n",
        "#오늘의 날짜만 가져오기\n",
        "today = datetime.date.today()\n",
        "print(today)\n",
        "\n",
        "#특정 날짜와 시간을 직접 지정\n",
        "d = datetime.datetime(2023, 11, 2, 14, 29, 45)\n",
        "print(d)\n",
        "\n",
        "#날짜 간의 차이 계산\n",
        "delta = datetime.timedelta(days=7)\n",
        "new_date = today + delta\n",
        "print(new_date)\n",
        "\n",
        "#두 날짜 간의 차이 계산\n",
        "date1 = datetime.date(2023, 1, 1)\n",
        "date2 = datetime.date(2023, 12, 31)\n",
        "diff = date2 -date1\n",
        "print(diff.days)\n",
        "print(diff)"
      ],
      "metadata": {
        "colab": {
          "base_uri": "https://localhost:8080/"
        },
        "id": "Ia25nVQHpYoa",
        "outputId": "d2f2bce3-f0ca-4fbc-9d72-d743bf578be3"
      },
      "execution_count": null,
      "outputs": [
        {
          "output_type": "stream",
          "name": "stdout",
          "text": [
            "2024-05-08 05:26:12.886733\n",
            "2024-05-08\n",
            "2023-11-02 14:29:45\n",
            "2024-05-15\n",
            "364\n",
            "364 days, 0:00:00\n"
          ]
        }
      ]
    },
    {
      "cell_type": "markdown",
      "source": [
        "포맷 코드 표<BR>\n",
        "포맷코드   설명   예<BR>\n",
        "%a   요일 줄임말   Sun, Mon, ... Sat<BR>\n",
        "%A   요일   Sunday, Monday, ..., Saturday<BR>\n",
        "%w   요일을 숫자로 표시, 월요일일요일, 06   0, 1, ..., 6<BR>\n",
        "%d   일   01, 02, ..., 31<BR>\n",
        "%b   월 줄임말   Jan, Feb, ..., Dec<BR>\n",
        "%B   월   January, February, …, December<BR>\n",
        "%m   숫자 월   01, 02, ..., 12<BR>\n",
        "%y   두 자릿수 연도   01, 02, ..., 99<BR>\n",
        "%Y   네 자릿수 연도   0001, 0002, ..., 2017, 2018, 9999<BR>\n",
        "%H   시간(24시간)   00, 01, ..., 23<BR>\n",
        "%I   시간(12시간)   01, 02, ..., 12<BR>\n",
        "%p   AM, PM   AM, PM<BR>\n",
        "%M   분   00, 01, ..., 59<BR>\n",
        "%S   초   00, 01, ..., 59<BR>\n",
        "%Z   시간대   대한민국 표준시<BR>\n",
        "%j   1월 1일부터 경과한 일수   001, 002, ..., 366<BR>\n",
        "%U   1년중 주차, 월요일이 한 주의 시작으로   00, 01, ..., 53<BR>\n",
        "%W   1년중 주차, 월요일이 한 주의 시작으로   00, 01, ..., 53<BR>\n",
        "%c   날짜, 요일, 시간을 출력, 현재 시간대 기준   Sat May 19 11:14:27 2018<BR>\n",
        "%x   날짜를 출력, 현재 시간대 기준   05/19/18<BR>\n",
        "%X   시간을 출력, 현재 시간대 기준   '11:44:22'"
      ],
      "metadata": {
        "id": "1uJLskzJsHlf"
      }
    },
    {
      "cell_type": "code",
      "source": [
        "import datetime\n",
        "\n",
        "now = datetime.datetime.now()\n",
        "print(now, type(now))\n",
        "formatted = now.strftime(\"%Y-%m-%d %H:%M:%S\")\n",
        "print(formatted,type(formatted))"
      ],
      "metadata": {
        "colab": {
          "base_uri": "https://localhost:8080/"
        },
        "id": "jOP74XiGpm2M",
        "outputId": "78f23b10-f9b8-4086-f45d-a82526c6a959"
      },
      "execution_count": null,
      "outputs": [
        {
          "output_type": "stream",
          "name": "stdout",
          "text": [
            "2024-05-08 05:36:06.511871 <class 'datetime.datetime'>\n",
            "2024-05-08  05:36:06 <class 'str'>\n"
          ]
        }
      ]
    },
    {
      "cell_type": "code",
      "source": [
        "import datetime\n",
        "\n",
        "date_string = \"2023-11-02 14:45:30\"\n",
        "print(date_string,type(date_string))\n",
        "dt = datetime.datetime.strptime(date_string ,\"%Y-%m-%d %H:%M:%S\")\n",
        "print(dt,type(dt))"
      ],
      "metadata": {
        "colab": {
          "base_uri": "https://localhost:8080/"
        },
        "id": "QbcU2pdSsrS5",
        "outputId": "2b402ddf-1e96-4c83-eb09-c7603bc1017b"
      },
      "execution_count": null,
      "outputs": [
        {
          "output_type": "stream",
          "name": "stdout",
          "text": [
            "2023-11-02 14:45:30 <class 'str'>\n",
            "2023-11-02 14:45:30 <class 'datetime.datetime'>\n"
          ]
        }
      ]
    },
    {
      "cell_type": "markdown",
      "source": [
        "time 모듈\n",
        "- 시스템 시간에 접근하거나 간단한 타이머 기능을 구현\n",
        "- 함수와 같이 프로그램을 일정 시간 동안 중지시키는 데 사용\n",
        "- 시간을 연도, 월, 일, 시, 분, 초 등의 구성 요소로 변환하고 다룰 수 있는 struct_time 객체를 제공\n",
        "- time 모듈은 날짜와 시간을 처리하는 다양한 프로그래밍 요구에 대응할 수 있는 기본적인 기능을 제공하지만, 더 복잡한 날짜 시간 처리나 시간대 변환 등은 datetime 모듈 또는 외부 라이브러리를 사용"
      ],
      "metadata": {
        "id": "HGjGrTpouJgd"
      }
    },
    {
      "cell_type": "code",
      "source": [
        "# # localtime() 함수는 파이썬의 time 모듈에 포함되어 있으며, 이함수는 초로 표시되는 시간을 구조화된 시간 튜플형태\n",
        "import time\n",
        "local_time = time.localtime()\n",
        "print(local_time)"
      ],
      "metadata": {
        "colab": {
          "base_uri": "https://localhost:8080/"
        },
        "id": "0WllwCVUu2Zn",
        "outputId": "c56b9a3a-2fbd-47e9-fb61-61a8cc1832d5"
      },
      "execution_count": null,
      "outputs": [
        {
          "output_type": "stream",
          "name": "stdout",
          "text": [
            "time.struct_time(tm_year=2024, tm_mon=5, tm_mday=8, tm_hour=5, tm_min=45, tm_sec=24, tm_wday=2, tm_yday=129, tm_isdst=0)\n"
          ]
        }
      ]
    },
    {
      "cell_type": "code",
      "source": [
        "import time\n",
        "a=0\n",
        "while 1:\n",
        "    a= a+1\n",
        "    time.sleep(0.5)\n",
        "    print('asd', end = \"\")\n",
        "\n",
        "    if a>100:\n",
        "        break"
      ],
      "metadata": {
        "colab": {
          "base_uri": "https://localhost:8080/"
        },
        "id": "vQ_H01udtn07",
        "outputId": "8a4b3b07-254d-4281-fb18-fba63bfe15f1"
      },
      "execution_count": null,
      "outputs": [
        {
          "output_type": "stream",
          "name": "stdout",
          "text": [
            "asdasdasdasdasdasdasdasdasdasdasdasdasdasdasdasdasdasdasdasdasdasdasdasdasdasdasdasdasdasdasdasdasdasdasdasdasdasdasdasdasdasdasdasdasdasdasdasdasdasdasdasdasdasdasdasdasdasdasdasdasdasdasdasdasdasdasdasdasdasdasdasdasdasdasdasdasdasdasdasdasdasdasdasdasdasdasdasdasdasdasdasdasdasdasdasdasdasdasdasdasd"
          ]
        }
      ]
    },
    {
      "cell_type": "code",
      "source": [
        "# 현재 시간을 1975년 1월 1일 0시 0분 0초(유닉스 시간의 시작)부터 현재까지의 초(second)로 표현한 값을 반환\n",
        "\n",
        "import time\n",
        "\n",
        "print(time.time())"
      ],
      "metadata": {
        "colab": {
          "base_uri": "https://localhost:8080/"
        },
        "id": "s9j9SHRZuLqV",
        "outputId": "574b9893-23d1-4fe4-8df1-a6e6efc487a2"
      },
      "execution_count": null,
      "outputs": [
        {
          "output_type": "stream",
          "name": "stdout",
          "text": [
            "1715147332.0479226\n"
          ]
        }
      ]
    },
    {
      "cell_type": "code",
      "source": [
        "# 초로 표현된 시간을 구조화된 시간 튜플 형태로 반환\n",
        "t = time.time()\n",
        "time.localtime(t)"
      ],
      "metadata": {
        "colab": {
          "base_uri": "https://localhost:8080/"
        },
        "id": "IbId3wSpvoZk",
        "outputId": "1d956861-efc6-4672-a32a-63022ec8f2e4"
      },
      "execution_count": null,
      "outputs": [
        {
          "output_type": "execute_result",
          "data": {
            "text/plain": [
              "time.struct_time(tm_year=2024, tm_mon=5, tm_mday=8, tm_hour=5, tm_min=50, tm_sec=1, tm_wday=2, tm_yday=129, tm_isdst=0)"
            ]
          },
          "metadata": {},
          "execution_count": 69
        }
      ]
    },
    {
      "cell_type": "code",
      "source": [
        "# strftime 함수는 시간에 관계된 것을 세밀하게 표현할 수 있는 여러 가지 포맷 코드 제공\n",
        "# time.localtime() 함수는 초로 표현된 시간을 구조화된 시간 튜플 형태로 변환\n",
        "import time\n",
        "d = time.strftime('%d', time.localtime(time.time()))\n",
        "m = time.strftime('%m', time.localtime(time.time()))\n",
        "y = time.strftime('%Y', time.localtime(time.time()))\n",
        "a = time.strftime('%A', time.localtime(time.time()))\n",
        "\n",
        "print(d)\n",
        "print(m)\n",
        "print(y)\n",
        "print(a)"
      ],
      "metadata": {
        "colab": {
          "base_uri": "https://localhost:8080/"
        },
        "id": "DxPUiIjowD8S",
        "outputId": "9faab5fd-c02a-4294-f668-d61d0575371e"
      },
      "execution_count": null,
      "outputs": [
        {
          "output_type": "stream",
          "name": "stdout",
          "text": [
            "08\n",
            "05\n",
            "2024\n",
            "Wednesday\n"
          ]
        }
      ]
    },
    {
      "cell_type": "code",
      "source": [
        "import time\n",
        "qwe = time.localtime(time.time())\n",
        "d = time.strftime('%d', qwe)\n",
        "m = time.strftime('%m', qwe)\n",
        "y = time.strftime('%Y', qwe)\n",
        "a = time.strftime('%A', qwe)\n",
        "print(d)\n",
        "print(m)\n",
        "print(y)\n",
        "print(a)"
      ],
      "metadata": {
        "colab": {
          "base_uri": "https://localhost:8080/"
        },
        "id": "Vax4tDBCz3EZ",
        "outputId": "8361b95b-5b5e-4b1b-bf2f-87c23841e9b0"
      },
      "execution_count": null,
      "outputs": [
        {
          "output_type": "stream",
          "name": "stdout",
          "text": [
            "08\n",
            "05\n",
            "2024\n",
            "Wednesday\n"
          ]
        }
      ]
    },
    {
      "cell_type": "code",
      "source": [
        "#Q. 1609160537.371015 을 \"Sat jun 26 08:35:03 2021\" 포멧으로 출력하세요\n",
        "tm = 1609160537.371015\n",
        "tm_data = time.localtime(tm)\n",
        "output = time.strftime(\"%a %b %d %H:%M:%S %Y\" , tm_data)\n",
        "print(output)"
      ],
      "metadata": {
        "colab": {
          "base_uri": "https://localhost:8080/"
        },
        "id": "6lQU8Aq40D2c",
        "outputId": "5a48d157-4613-4083-cf08-939e817f98a5"
      },
      "execution_count": null,
      "outputs": [
        {
          "output_type": "stream",
          "name": "stdout",
          "text": [
            "Mon Dec 28 13:02:17 2020\n"
          ]
        }
      ]
    },
    {
      "cell_type": "code",
      "source": [
        "import time\n",
        "current_time = time.localtime(1609160537.371015)\n",
        "print(current_time)\n",
        "#struct_time 객체를 인간이 읽을 수 있는 형태로 변환합니다.\n",
        "readable_time = time.asctime(current_time)\n",
        "print(readable_time)\n"
      ],
      "metadata": {
        "colab": {
          "base_uri": "https://localhost:8080/"
        },
        "id": "F479hrgw0d53",
        "outputId": "5d3fcaa5-3fb9-44dc-e6b0-3b6f59affc50"
      },
      "execution_count": null,
      "outputs": [
        {
          "output_type": "stream",
          "name": "stdout",
          "text": [
            "time.struct_time(tm_year=2020, tm_mon=12, tm_mday=28, tm_hour=13, tm_min=2, tm_sec=17, tm_wday=0, tm_yday=363, tm_isdst=0)\n",
            "Mon Dec 28 13:02:17 2020\n"
          ]
        }
      ]
    },
    {
      "cell_type": "code",
      "source": [
        "output = time.strftime(\"%a %b %d %H:%M:%S %Y\")\n",
        "print(output)"
      ],
      "metadata": {
        "colab": {
          "base_uri": "https://localhost:8080/"
        },
        "id": "yc959U5i1pBK",
        "outputId": "f3835f9c-fed1-425e-c082-35267f911e1a"
      },
      "execution_count": null,
      "outputs": [
        {
          "output_type": "stream",
          "name": "stdout",
          "text": [
            "Wed May 08 06:14:41 2024\n"
          ]
        }
      ]
    },
    {
      "cell_type": "code",
      "source": [
        "# timestamp => str\n",
        "\n",
        "import time\n",
        "t = time.time()#<= time.time() 이형식이 타임스템프\n",
        "print(t, type(t))\n",
        "s = str(t)\n",
        "print(s, type(s))\n",
        "i = int(t)\n",
        "print(i, type(i))"
      ],
      "metadata": {
        "colab": {
          "base_uri": "https://localhost:8080/"
        },
        "id": "2-FjR_9D1wy5",
        "outputId": "bc3fca02-1d0d-499a-a52a-611a305bc6ea"
      },
      "execution_count": null,
      "outputs": [
        {
          "output_type": "stream",
          "name": "stdout",
          "text": [
            "1715149284.2841566 <class 'float'>\n",
            "1715149284.2841566 <class 'str'>\n",
            "1715149284 <class 'int'>\n"
          ]
        }
      ]
    },
    {
      "cell_type": "code",
      "source": [
        "# timestamp => datetime\n",
        "from datetime import datetime\n",
        "t = time.time()\n",
        "print(t,type(t))\n",
        "d = datetime.fromtimestamp(t)\n",
        "print(d, type(d))"
      ],
      "metadata": {
        "colab": {
          "base_uri": "https://localhost:8080/"
        },
        "id": "H2MQWBcv3GcR",
        "outputId": "6ebcee67-4bd2-429e-cc4a-6ebea09eea8f"
      },
      "execution_count": null,
      "outputs": [
        {
          "output_type": "stream",
          "name": "stdout",
          "text": [
            "1715149426.581876 <class 'float'>\n",
            "2024-05-08 06:23:46.581876 <class 'datetime.datetime'>\n"
          ]
        }
      ]
    },
    {
      "cell_type": "code",
      "source": [
        "# datetime => str\n",
        "from datetime import datetime\n",
        "\n",
        "s = datetime.now()\n",
        "print(s, type(s))\n",
        "\n",
        "s1 = s.strftime(\"%Y-%m-%d %H:%M:%S\")\n",
        "print(s1, type(s1))"
      ],
      "metadata": {
        "colab": {
          "base_uri": "https://localhost:8080/"
        },
        "id": "KDRlA9tH3vzR",
        "outputId": "d02a1254-ac7a-4aa6-aafa-6c335bcfb3ff"
      },
      "execution_count": null,
      "outputs": [
        {
          "output_type": "stream",
          "name": "stdout",
          "text": [
            "2024-05-08 06:31:07.178660 <class 'datetime.datetime'>\n",
            "2024-05-08 06:31:07 <class 'str'>\n"
          ]
        }
      ]
    },
    {
      "cell_type": "code",
      "source": [
        "# timestamp => datetime => str\n",
        "# Q. 현재 시간을 년-월-일 시:분:초로 출력하세요\n",
        "import time\n",
        "from datetime import datetime\n",
        "\n",
        "t=time.time()\n",
        "d = datetime.fromtimestamp(t)       #timestamp => datetime\n",
        "s = d.strftime(\"%y-%m-%d %H:%M:%S\") #datetime => str, %X 시간을 출력, 현재 시간대 기준 \"11:44:22\"\n",
        "s\n"
      ],
      "metadata": {
        "colab": {
          "base_uri": "https://localhost:8080/",
          "height": 35
        },
        "id": "9crraWr54h3I",
        "outputId": "caac2b22-5e3c-4ed5-8df4-3eee1f7a219f"
      },
      "execution_count": null,
      "outputs": [
        {
          "output_type": "execute_result",
          "data": {
            "text/plain": [
              "'24-05-08 06:38:28'"
            ],
            "application/vnd.google.colaboratory.intrinsic+json": {
              "type": "string"
            }
          },
          "metadata": {},
          "execution_count": 112
        }
      ]
    },
    {
      "cell_type": "code",
      "source": [
        "#str => datetime\n",
        "from datetime import datetime\n",
        "s = '2021-07-20 11:13:58'\n",
        "print(s,type(s))\n",
        "d = datetime.strptime(s, \"%Y-%m-%d %H:%M:%S\")\n",
        "print(d, type(d))"
      ],
      "metadata": {
        "colab": {
          "base_uri": "https://localhost:8080/"
        },
        "id": "HlvKpfqP61M3",
        "outputId": "203dcd4f-68d2-47cc-f317-f91836ec628d"
      },
      "execution_count": null,
      "outputs": [
        {
          "output_type": "stream",
          "name": "stdout",
          "text": [
            "2021-07-20 11:13:58 <class 'str'>\n",
            "2021-07-20 11:13:58 <class 'datetime.datetime'>\n"
          ]
        }
      ]
    },
    {
      "cell_type": "code",
      "source": [
        "# datetime => timestamp\n",
        "d = datetime.today()\n",
        "print(d, type(d))\n",
        "timestamp = time.mktime(d.timetuple())# 이거 중요\n",
        "print(timestamp, type(timestamp))"
      ],
      "metadata": {
        "colab": {
          "base_uri": "https://localhost:8080/"
        },
        "id": "8qUqLX_87x9Q",
        "outputId": "d5f29b1b-f27c-457b-a313-173d1a5c4cdc"
      },
      "execution_count": null,
      "outputs": [
        {
          "output_type": "stream",
          "name": "stdout",
          "text": [
            "2024-05-08 06:45:03.101299 <class 'datetime.datetime'>\n",
            "1715150703.0 <class 'float'>\n"
          ]
        }
      ]
    },
    {
      "cell_type": "code",
      "source": [
        "d = datetime.today()\n",
        "print(d.timetuple())\n"
      ],
      "metadata": {
        "colab": {
          "base_uri": "https://localhost:8080/"
        },
        "id": "XUiv9DmF8VRn",
        "outputId": "d9278c92-28ca-4387-eec9-e7226bbe09e6"
      },
      "execution_count": null,
      "outputs": [
        {
          "output_type": "stream",
          "name": "stdout",
          "text": [
            "time.struct_time(tm_year=2024, tm_mon=5, tm_mday=8, tm_hour=6, tm_min=45, tm_sec=3, tm_wday=2, tm_yday=129, tm_isdst=-1)\n"
          ]
        }
      ]
    },
    {
      "cell_type": "code",
      "source": [
        "# str => datetime => timestamp\n",
        "s = '2021-07-20 11:13:58'\n",
        "timestamp = time.mktime(datetime.strptime(s,'%Y-%m-%d %H:%M:%S').timetuple())\n",
        "print(timestamp, type(timestamp))"
      ],
      "metadata": {
        "id": "O0vreEGt86TX",
        "colab": {
          "base_uri": "https://localhost:8080/"
        },
        "outputId": "03640f4d-c3d8-419b-b1aa-d3feef187adf"
      },
      "execution_count": null,
      "outputs": [
        {
          "output_type": "stream",
          "name": "stdout",
          "text": [
            "1626779638.0 <class 'float'>\n"
          ]
        }
      ]
    },
    {
      "cell_type": "code",
      "source": [
        "#외장함수: 파이썬을 설치할 때 자동으로 설치\n",
        "#pickle은 객채의 형태를 유지하면서 파일에 저장하고 불러올 수 있게 하는 모듈\n",
        "import pickle\n",
        "f = open('test3.txt' , 'wb')\n",
        "data = {1:'python', 2:'you need'}\n",
        "pickle.dump(data, f)\n",
        "f.close()"
      ],
      "metadata": {
        "id": "1wqxVHkL9Vjd"
      },
      "execution_count": 2,
      "outputs": []
    },
    {
      "cell_type": "code",
      "source": [
        "!cat /content/test3.txt"
      ],
      "metadata": {
        "colab": {
          "base_uri": "https://localhost:8080/"
        },
        "id": "vtpwbL4cFw7e",
        "outputId": "383fc50f-6cd0-4d0d-faf7-f0c1562f3dd7"
      },
      "execution_count": 4,
      "outputs": [
        {
          "output_type": "stream",
          "name": "stdout",
          "text": [
            "�\u0004�\u001d\u0000\u0000\u0000\u0000\u0000\u0000\u0000}�(K\u0001�\u0006python�K\u0002�\byou need�u."
          ]
        }
      ]
    },
    {
      "cell_type": "code",
      "source": [
        "import pickle\n",
        "f=open('test3.txt', 'rb')\n",
        "data = pickle.load(f)\n",
        "print(data)\n",
        "f.close()"
      ],
      "metadata": {
        "colab": {
          "base_uri": "https://localhost:8080/"
        },
        "id": "TMBRtDToF6Y0",
        "outputId": "ad6d34ad-8cc8-4d47-8fe5-49b17e99deda"
      },
      "execution_count": 3,
      "outputs": [
        {
          "output_type": "stream",
          "name": "stdout",
          "text": [
            "{1: 'python', 2: 'you need'}\n"
          ]
        }
      ]
    },
    {
      "cell_type": "code",
      "source": [
        "#os.environ['PATH']명령의 출력 결과는 운영 체제가 프로그램이나 실행 파일을 찾기 위해 검색하는 디랙터리들의 리스트\n",
        "#PATH 설정은 시스템이 사용자가 입력하는 명령어를 인식하고 해당 실행 파일을 효율적으로 찾아내도록 도와준다\n",
        "\n",
        "import os\n",
        "os.environ['PATH']"
      ],
      "metadata": {
        "colab": {
          "base_uri": "https://localhost:8080/",
          "height": 35
        },
        "id": "YOTD7E1HIFen",
        "outputId": "907c3a0c-0926-442d-90c6-b7c3eb53f4ae"
      },
      "execution_count": 5,
      "outputs": [
        {
          "output_type": "execute_result",
          "data": {
            "text/plain": [
              "'/opt/bin:/usr/local/nvidia/bin:/usr/local/cuda/bin:/usr/local/sbin:/usr/local/bin:/usr/sbin:/usr/bin:/sbin:/bin:/tools/node/bin:/tools/google-cloud-sdk/bin'"
            ],
            "application/vnd.google.colaboratory.intrinsic+json": {
              "type": "string"
            }
          },
          "metadata": {},
          "execution_count": 5
        }
      ]
    },
    {
      "cell_type": "code",
      "source": [
        "ls /"
      ],
      "metadata": {
        "colab": {
          "base_uri": "https://localhost:8080/"
        },
        "id": "dMXogI-9JELo",
        "outputId": "32076563-8518-4572-aa28-e3e00c7cde44"
      },
      "execution_count": 10,
      "outputs": [
        {
          "output_type": "stream",
          "name": "stdout",
          "text": [
            "\u001b[0m\u001b[01;36mbin\u001b[0m@                        \u001b[01;34mdatalab\u001b[0m/  \u001b[01;34mkaggle\u001b[0m/  \u001b[01;36mlibx32\u001b[0m@                   \u001b[01;34mopt\u001b[0m/   \u001b[01;36msbin\u001b[0m@  \u001b[01;34mtools\u001b[0m/\n",
            "\u001b[01;34mboot\u001b[0m/                       \u001b[01;34mdev\u001b[0m/      \u001b[01;36mlib\u001b[0m@     \u001b[01;34mmedia\u001b[0m/                    \u001b[01;34mproc\u001b[0m/  \u001b[01;34msrv\u001b[0m/   \u001b[01;34musr\u001b[0m/\n",
            "\u001b[01;34mcontent\u001b[0m/                    \u001b[01;34metc\u001b[0m/      \u001b[01;36mlib32\u001b[0m@   \u001b[01;34mmnt\u001b[0m/                      \u001b[01;34mroot\u001b[0m/  \u001b[01;34msys\u001b[0m/   \u001b[01;34mvar\u001b[0m/\n",
            "cuda-keyring_1.0-1_all.deb  \u001b[01;34mhome\u001b[0m/     \u001b[01;36mlib64\u001b[0m@   NGC-DL-CONTAINER-LICENSE  \u001b[01;34mrun\u001b[0m/   \u001b[30;42mtmp\u001b[0m/\n"
          ]
        }
      ]
    },
    {
      "cell_type": "code",
      "source": [
        "!ls /"
      ],
      "metadata": {
        "colab": {
          "base_uri": "https://localhost:8080/"
        },
        "id": "vRzZSuAVJe3a",
        "outputId": "58a7e150-b6aa-43a4-ef42-b50f099fe930"
      },
      "execution_count": 11,
      "outputs": [
        {
          "output_type": "stream",
          "name": "stdout",
          "text": [
            "bin\t\t\t    datalab  kaggle  libx32\t\t       opt   sbin  tools\n",
            "boot\t\t\t    dev      lib     media\t\t       proc  srv   usr\n",
            "content\t\t\t    etc      lib32   mnt\t\t       root  sys   var\n",
            "cuda-keyring_1.0-1_all.deb  home     lib64   NGC-DL-CONTAINER-LICENSE  run   tmp\n"
          ]
        }
      ]
    },
    {
      "cell_type": "code",
      "source": [
        "#현제 작업폴더\n",
        "import os\n",
        "os.getcwd()"
      ],
      "metadata": {
        "colab": {
          "base_uri": "https://localhost:8080/",
          "height": 35
        },
        "id": "-TcJZqK0KaCx",
        "outputId": "99f2ce1a-5a8f-4825-c645-b631bef0ebbc"
      },
      "execution_count": 14,
      "outputs": [
        {
          "output_type": "execute_result",
          "data": {
            "text/plain": [
              "'/content'"
            ],
            "application/vnd.google.colaboratory.intrinsic+json": {
              "type": "string"
            }
          },
          "metadata": {},
          "execution_count": 14
        }
      ]
    },
    {
      "cell_type": "code",
      "source": [
        "!ls"
      ],
      "metadata": {
        "colab": {
          "base_uri": "https://localhost:8080/"
        },
        "id": "ApUkjfLdK4go",
        "outputId": "c9ac9765-a5e8-4c81-8609-ecc3b8febd06"
      },
      "execution_count": 15,
      "outputs": [
        {
          "output_type": "stream",
          "name": "stdout",
          "text": [
            "drive  sample_data  test3.txt\n"
          ]
        }
      ]
    },
    {
      "cell_type": "code",
      "source": [
        "!mkdir /content/test"
      ],
      "metadata": {
        "id": "9z2bw1kZLNlb"
      },
      "execution_count": 16,
      "outputs": []
    },
    {
      "cell_type": "code",
      "source": [
        "!ls -la"
      ],
      "metadata": {
        "colab": {
          "base_uri": "https://localhost:8080/"
        },
        "id": "YTTPD5VCLirN",
        "outputId": "ddc9ef8f-0828-4bd2-e767-1ab47047fb46"
      },
      "execution_count": 19,
      "outputs": [
        {
          "output_type": "stream",
          "name": "stdout",
          "text": [
            "total 28\n",
            "drwxr-xr-x 1 root root 4096 May  9 02:28 .\n",
            "drwxr-xr-x 1 root root 4096 May  9 02:13 ..\n",
            "drwxr-xr-x 4 root root 4096 May  7 13:21 .config\n",
            "drwx------ 5 root root 4096 May  9 02:22 drive\n",
            "drwxr-xr-x 1 root root 4096 May  7 13:22 sample_data\n",
            "drwxr-xr-x 2 root root 4096 May  9 02:28 test\n",
            "-rw-r--r-- 1 root root   40 May  9 02:14 test3.txt\n"
          ]
        }
      ]
    },
    {
      "cell_type": "code",
      "source": [
        "# 폴더 변경\n",
        "os.chdir('/content/test')"
      ],
      "metadata": {
        "id": "tL00z9WXLmb2"
      },
      "execution_count": 25,
      "outputs": []
    },
    {
      "cell_type": "code",
      "source": [
        "%pwd"
      ],
      "metadata": {
        "colab": {
          "base_uri": "https://localhost:8080/",
          "height": 35
        },
        "id": "6O5GyijlMRsq",
        "outputId": "f61686d3-1ef4-49cf-e1d9-67aafdd2c1d6"
      },
      "execution_count": 26,
      "outputs": [
        {
          "output_type": "execute_result",
          "data": {
            "text/plain": [
              "'/content/test'"
            ],
            "application/vnd.google.colaboratory.intrinsic+json": {
              "type": "string"
            }
          },
          "metadata": {},
          "execution_count": 26
        }
      ]
    },
    {
      "cell_type": "code",
      "source": [
        "os.chdir('/content/')"
      ],
      "metadata": {
        "id": "DsOYp9GoMSwJ"
      },
      "execution_count": 23,
      "outputs": []
    },
    {
      "cell_type": "code",
      "source": [
        "# 빈파일 만들기\n",
        "!touch test1.txt"
      ],
      "metadata": {
        "id": "HPIH0NwAMftD"
      },
      "execution_count": 27,
      "outputs": []
    },
    {
      "cell_type": "code",
      "source": [
        "!ls"
      ],
      "metadata": {
        "colab": {
          "base_uri": "https://localhost:8080/"
        },
        "id": "9S9l5ygtMmB0",
        "outputId": "a0db6c52-fdb1-4543-87c8-0b989ec0fbb7"
      },
      "execution_count": 31,
      "outputs": [
        {
          "output_type": "stream",
          "name": "stdout",
          "text": [
            "test_new.txt\n"
          ]
        }
      ]
    },
    {
      "cell_type": "code",
      "source": [
        "# 파일 이름 변경\n",
        "os.rename('test1.txt', 'test_new.txt')"
      ],
      "metadata": {
        "id": "OfR-YF66MmsP"
      },
      "execution_count": 30,
      "outputs": []
    },
    {
      "cell_type": "code",
      "source": [
        "!ls"
      ],
      "metadata": {
        "colab": {
          "base_uri": "https://localhost:8080/"
        },
        "id": "gP2WK_0UM3wK",
        "outputId": "e659b8aa-694a-4165-b2d8-b4cb0710307e"
      },
      "execution_count": 33,
      "outputs": [
        {
          "output_type": "stream",
          "name": "stdout",
          "text": [
            "test_new.txt\n"
          ]
        }
      ]
    },
    {
      "cell_type": "code",
      "source": [
        "!touch test2.txt"
      ],
      "metadata": {
        "id": "ksuGWmalNT_X"
      },
      "execution_count": 34,
      "outputs": []
    },
    {
      "cell_type": "code",
      "source": [
        "#glob() 함수는 인자로 받은 패턴과 이름이 일치하는 모든 파일과 디랙토리의 리스트를 반환\n",
        "import glob\n",
        "glob.glob('/content/test/*.txt')"
      ],
      "metadata": {
        "colab": {
          "base_uri": "https://localhost:8080/"
        },
        "id": "dJKvk66GM_y5",
        "outputId": "6d147005-9afe-4452-cab4-4ccb14f26482"
      },
      "execution_count": 35,
      "outputs": [
        {
          "output_type": "execute_result",
          "data": {
            "text/plain": [
              "['/content/test/test2.txt', '/content/test/test_new.txt']"
            ]
          },
          "metadata": {},
          "execution_count": 35
        }
      ]
    },
    {
      "cell_type": "code",
      "source": [
        "with open('mydata.txt','w') as f:\n",
        "    f.write(\n",
        "'''\n",
        "a lot of things occur each day\n",
        "we've got to live with on our way\n",
        "there's so much misery on the screen\n",
        "with commercials in between\n",
        "\n",
        "and the russians won't be so late\n",
        "uncle sam don't want to wait\n",
        "no matter if you're black or white\n",
        "you never ever had a right\n",
        "\n",
        "and look up to the eternal skies\n",
        "see warfare even there\n",
        "what once has been a paradise\n",
        "now destruction and despair\n",
        "\n",
        "in other worlds the children die\n",
        "lacking food ill from a fly\n",
        "oppressed by troops to tame their land\n",
        "it's all the same again\n",
        "\n",
        "\n",
        "if any man is free on earth\n",
        "then tormentors steal his birth\n",
        "they slam gun butts in his face\n",
        "and leave his woman choked in mace\n",
        "\n",
        "so stand up for our human rights\n",
        "push back this pest of hate\n",
        "raise you voice pass on the light\n",
        "unite! it's not too late\n",
        "\n",
        "how many tears flow away\n",
        "to become a sea of fears\n",
        "how many hearts are torn apart\n",
        "till another torment starts\n",
        "\n",
        "but before the world\n",
        "turns into a sun\n",
        "all cruelty and violence\n",
        "on earth will be dead and gone\n",
        "\n",
        "so stand up for our human rights\n",
        "push back this pest of hate\n",
        "raise you voice pass on the light\n",
        "unite! it's not too late\n",
        "''')\n",
        "with open('mydata.txt', 'r') as f:\n",
        "    data = f.read()\n",
        "    print(data)"
      ],
      "metadata": {
        "colab": {
          "base_uri": "https://localhost:8080/"
        },
        "id": "klrHs42VNd53",
        "outputId": "ebc6c193-d628-46ce-fc29-2ce9194ffc43"
      },
      "execution_count": 36,
      "outputs": [
        {
          "output_type": "stream",
          "name": "stdout",
          "text": [
            "\n",
            "a lot of things occur each day\n",
            "we've got to live with on our way\n",
            "there's so much misery on the screen\n",
            "with commercials in between\n",
            "\n",
            "and the russians won't be so late\n",
            "uncle sam don't want to wait\n",
            "no matter if you're black or white\n",
            "you never ever had a right\n",
            "\n",
            "and look up to the eternal skies\n",
            "see warfare even there\n",
            "what once has been a paradise\n",
            "now destruction and despair\n",
            "\n",
            "in other worlds the children die\n",
            "lacking food ill from a fly\n",
            "oppressed by troops to tame their land\n",
            "it's all the same again\n",
            "\n",
            "\n",
            "if any man is free on earth\n",
            "then tormentors steal his birth\n",
            "they slam gun butts in his face\n",
            "and leave his woman choked in mace\n",
            "\n",
            "so stand up for our human rights\n",
            "push back this pest of hate\n",
            "raise you voice pass on the light\n",
            "unite! it's not too late\n",
            "\n",
            "how many tears flow away\n",
            "to become a sea of fears\n",
            "how many hearts are torn apart\n",
            "till another torment starts\n",
            "\n",
            "but before the world\n",
            "turns into a sun\n",
            "all cruelty and violence\n",
            "on earth will be dead and gone\n",
            "\n",
            "so stand up for our human rights\n",
            "push back this pest of hate\n",
            "raise you voice pass on the light\n",
            "unite! it's not too late\n",
            "\n"
          ]
        }
      ]
    },
    {
      "cell_type": "code",
      "source": [
        "words_list = data\n",
        "words_list = data.replace('.', '').replace('\\'', '').replace('?', '').replace('\\n', '').replace('!', '').lower().split()\n",
        "len(words_list)"
      ],
      "metadata": {
        "colab": {
          "base_uri": "https://localhost:8080/"
        },
        "id": "HYPFOY7KPAfk",
        "outputId": "a43ce821-b4dc-4fd2-d75f-45c02877b8da"
      },
      "execution_count": 37,
      "outputs": [
        {
          "output_type": "execute_result",
          "data": {
            "text/plain": [
              "178"
            ]
          },
          "metadata": {},
          "execution_count": 37
        }
      ]
    },
    {
      "cell_type": "code",
      "source": [
        "import re\n",
        "\n",
        "#데이터 받음\n",
        "words_list = data\n",
        "#정규 표현식을 사용하여 모든 구드점을 제거하고 소문자로 반환\n",
        "words_list = re.sub(r\"[.,!\\n\\']\" , \"\" ,  words_list).lower()\n",
        "#공백으로 단어 분리\n",
        "words_list = words_list.split()\n",
        "#단어 리스트의 길이 출력\n",
        "print(len(words_list))"
      ],
      "metadata": {
        "colab": {
          "base_uri": "https://localhost:8080/"
        },
        "id": "ECNKTKCDP4SU",
        "outputId": "4acb1f3c-f2c3-4eca-aaf4-1b4b19928063"
      },
      "execution_count": 39,
      "outputs": [
        {
          "output_type": "stream",
          "name": "stdout",
          "text": [
            "178\n"
          ]
        }
      ]
    },
    {
      "cell_type": "markdown",
      "source": [
        "Q. 주어진 텍스트에서 단어 빈도를 아래와 같이 출력하세요.\n",
        "\n",
        " ======================================\\\n",
        "가장 많이 나온 단어 5개를 뽑아 봤습니다.\\\n",
        "[the] -> [8]회 나타남\\\n",
        "[a  ] -> [6]회 나타남\\\n",
        "[on ] -> [5]회 나타남\\\n",
        "[of ] -> [4]회 나타남\\\n",
        "[to ] -> [4]회 나타남"
      ],
      "metadata": {
        "id": "d8a2XxbSTqwT"
      }
    },
    {
      "cell_type": "code",
      "source": [
        "keys = set(words_list)\n",
        "\n",
        "output = {}\n",
        "for i in keys:\n",
        "    count = 0\n",
        "    for k in words_list:\n",
        "        if i==k:\n",
        "            count +=1\n",
        "\n",
        "    output[i] = count\n",
        "\n",
        "st_output = sorted(output.items(), key = lambda x : x[1],reverse = True)#key = lambda x : x[1] <=value값으로 정렬하는 키워드\n",
        "\n",
        "for i in range(5):\n",
        "    print(f'[{st_output[i][0]}]=>[{st_output[i][1]}]회 나타남')\n"
      ],
      "metadata": {
        "colab": {
          "base_uri": "https://localhost:8080/"
        },
        "id": "3OpjV0dFQcRa",
        "outputId": "0c6488e9-fa9a-463b-99e9-59ebac14e299"
      },
      "execution_count": 60,
      "outputs": [
        {
          "output_type": "stream",
          "name": "stdout",
          "text": [
            "[the]=>[8]회 나타남\n",
            "[a]=>[6]회 나타남\n",
            "[on]=>[5]회 나타남\n",
            "[of]=>[4]회 나타남\n",
            "[to]=>[4]회 나타남\n"
          ]
        }
      ]
    },
    {
      "cell_type": "code",
      "source": [
        "# 예시\n",
        "word_frequency = {}\n",
        "for word in words_list:\n",
        "    if word in word_frequency:\n",
        "        word_frequency[word] +=1\n",
        "    else:\n",
        "        word_frequency[word] = 1\n",
        "#dic.items : {}'the':5 , 'a':3} => ('the':5) 튜플로 바꿔서 인덱스가 생김\n",
        "word_frequency = sorted(output.items(), key = lambda x : x[1],reverse = True)\n",
        "\n",
        "print('=' * 50)\n",
        "print('가장 많이 나온 단어 5개를 뽑아 봤습니다.')\n",
        "\n",
        "for i in range(min(5, len(word_frequency))):#인덱스 에러를 방지하기 위해 검사합니다\n",
        "    word, count = word_frequency[i]\n",
        "    print(f'[{word:<3}]=>[{count}]회 나타남')"
      ],
      "metadata": {
        "colab": {
          "base_uri": "https://localhost:8080/"
        },
        "id": "8bSbIfUuTsqh",
        "outputId": "9f2b862c-5630-4844-964f-a6abd04c0b9e"
      },
      "execution_count": 69,
      "outputs": [
        {
          "output_type": "stream",
          "name": "stdout",
          "text": [
            "==================================================\n",
            "가장 많이 나온 단어 5개를 뽑아 봤습니다.\n",
            "[the]=>[8]회 나타남\n",
            "[a  ]=>[6]회 나타남\n",
            "[on ]=>[5]회 나타남\n",
            "[of ]=>[4]회 나타남\n",
            "[to ]=>[4]회 나타남\n"
          ]
        }
      ]
    },
    {
      "cell_type": "code",
      "source": [
        "name = 'John'\n",
        "age = 23\n",
        "balance = 1234.567\n",
        "\n",
        "#문자열 정렬\n",
        "tormatted_string = f\"{name:<10} is {age:>3} years old\"\n",
        "print(tormatted_string)\n",
        "\n",
        "#숫자 정밀도 및 포맷\n",
        "tormatted_number = f\"{balance:<20.99f}\"\n",
        "print(tormatted_number)\n",
        "\n",
        "## 숫자 자리수 채우기\n",
        "formatted_number_padded = f\"{age:05}\"\n",
        "print(formatted_number_padded)"
      ],
      "metadata": {
        "colab": {
          "base_uri": "https://localhost:8080/"
        },
        "id": "reXnuUNUa0Sp",
        "outputId": "884d2ebf-3561-4b4d-b6d2-d35d2b20a43e"
      },
      "execution_count": 93,
      "outputs": [
        {
          "output_type": "stream",
          "name": "stdout",
          "text": [
            "John       is  23 years old\n",
            "1234.567000000000007275957614183425903320312500000000000000000000000000000000000000000000000000000000000\n",
            "00023\n"
          ]
        }
      ]
    },
    {
      "cell_type": "code",
      "source": [
        "import pandas as pd\n",
        "import seaborn as sns\n",
        "\n",
        "titanic = sns.load_dataset('titanic')\n",
        "\n",
        "titanic.head()"
      ],
      "metadata": {
        "colab": {
          "base_uri": "https://localhost:8080/",
          "height": 246
        },
        "id": "xthf8p_lbL23",
        "outputId": "dbc02d33-bb13-4e9b-bc29-5378e7a7ac4f"
      },
      "execution_count": 100,
      "outputs": [
        {
          "output_type": "execute_result",
          "data": {
            "text/plain": [
              "   survived  pclass     sex   age  sibsp  parch     fare embarked  class  \\\n",
              "0         0       3    male  22.0      1      0   7.2500        S  Third   \n",
              "1         1       1  female  38.0      1      0  71.2833        C  First   \n",
              "2         1       3  female  26.0      0      0   7.9250        S  Third   \n",
              "3         1       1  female  35.0      1      0  53.1000        S  First   \n",
              "4         0       3    male  35.0      0      0   8.0500        S  Third   \n",
              "\n",
              "     who  adult_male deck  embark_town alive  alone  \n",
              "0    man        True  NaN  Southampton    no  False  \n",
              "1  woman       False    C    Cherbourg   yes  False  \n",
              "2  woman       False  NaN  Southampton   yes   True  \n",
              "3  woman       False    C  Southampton   yes  False  \n",
              "4    man        True  NaN  Southampton    no   True  "
            ],
            "text/html": [
              "\n",
              "  <div id=\"df-43ac30cc-b014-4d40-bdb8-868fc49d26ca\" class=\"colab-df-container\">\n",
              "    <div>\n",
              "<style scoped>\n",
              "    .dataframe tbody tr th:only-of-type {\n",
              "        vertical-align: middle;\n",
              "    }\n",
              "\n",
              "    .dataframe tbody tr th {\n",
              "        vertical-align: top;\n",
              "    }\n",
              "\n",
              "    .dataframe thead th {\n",
              "        text-align: right;\n",
              "    }\n",
              "</style>\n",
              "<table border=\"1\" class=\"dataframe\">\n",
              "  <thead>\n",
              "    <tr style=\"text-align: right;\">\n",
              "      <th></th>\n",
              "      <th>survived</th>\n",
              "      <th>pclass</th>\n",
              "      <th>sex</th>\n",
              "      <th>age</th>\n",
              "      <th>sibsp</th>\n",
              "      <th>parch</th>\n",
              "      <th>fare</th>\n",
              "      <th>embarked</th>\n",
              "      <th>class</th>\n",
              "      <th>who</th>\n",
              "      <th>adult_male</th>\n",
              "      <th>deck</th>\n",
              "      <th>embark_town</th>\n",
              "      <th>alive</th>\n",
              "      <th>alone</th>\n",
              "    </tr>\n",
              "  </thead>\n",
              "  <tbody>\n",
              "    <tr>\n",
              "      <th>0</th>\n",
              "      <td>0</td>\n",
              "      <td>3</td>\n",
              "      <td>male</td>\n",
              "      <td>22.0</td>\n",
              "      <td>1</td>\n",
              "      <td>0</td>\n",
              "      <td>7.2500</td>\n",
              "      <td>S</td>\n",
              "      <td>Third</td>\n",
              "      <td>man</td>\n",
              "      <td>True</td>\n",
              "      <td>NaN</td>\n",
              "      <td>Southampton</td>\n",
              "      <td>no</td>\n",
              "      <td>False</td>\n",
              "    </tr>\n",
              "    <tr>\n",
              "      <th>1</th>\n",
              "      <td>1</td>\n",
              "      <td>1</td>\n",
              "      <td>female</td>\n",
              "      <td>38.0</td>\n",
              "      <td>1</td>\n",
              "      <td>0</td>\n",
              "      <td>71.2833</td>\n",
              "      <td>C</td>\n",
              "      <td>First</td>\n",
              "      <td>woman</td>\n",
              "      <td>False</td>\n",
              "      <td>C</td>\n",
              "      <td>Cherbourg</td>\n",
              "      <td>yes</td>\n",
              "      <td>False</td>\n",
              "    </tr>\n",
              "    <tr>\n",
              "      <th>2</th>\n",
              "      <td>1</td>\n",
              "      <td>3</td>\n",
              "      <td>female</td>\n",
              "      <td>26.0</td>\n",
              "      <td>0</td>\n",
              "      <td>0</td>\n",
              "      <td>7.9250</td>\n",
              "      <td>S</td>\n",
              "      <td>Third</td>\n",
              "      <td>woman</td>\n",
              "      <td>False</td>\n",
              "      <td>NaN</td>\n",
              "      <td>Southampton</td>\n",
              "      <td>yes</td>\n",
              "      <td>True</td>\n",
              "    </tr>\n",
              "    <tr>\n",
              "      <th>3</th>\n",
              "      <td>1</td>\n",
              "      <td>1</td>\n",
              "      <td>female</td>\n",
              "      <td>35.0</td>\n",
              "      <td>1</td>\n",
              "      <td>0</td>\n",
              "      <td>53.1000</td>\n",
              "      <td>S</td>\n",
              "      <td>First</td>\n",
              "      <td>woman</td>\n",
              "      <td>False</td>\n",
              "      <td>C</td>\n",
              "      <td>Southampton</td>\n",
              "      <td>yes</td>\n",
              "      <td>False</td>\n",
              "    </tr>\n",
              "    <tr>\n",
              "      <th>4</th>\n",
              "      <td>0</td>\n",
              "      <td>3</td>\n",
              "      <td>male</td>\n",
              "      <td>35.0</td>\n",
              "      <td>0</td>\n",
              "      <td>0</td>\n",
              "      <td>8.0500</td>\n",
              "      <td>S</td>\n",
              "      <td>Third</td>\n",
              "      <td>man</td>\n",
              "      <td>True</td>\n",
              "      <td>NaN</td>\n",
              "      <td>Southampton</td>\n",
              "      <td>no</td>\n",
              "      <td>True</td>\n",
              "    </tr>\n",
              "  </tbody>\n",
              "</table>\n",
              "</div>\n",
              "    <div class=\"colab-df-buttons\">\n",
              "\n",
              "  <div class=\"colab-df-container\">\n",
              "    <button class=\"colab-df-convert\" onclick=\"convertToInteractive('df-43ac30cc-b014-4d40-bdb8-868fc49d26ca')\"\n",
              "            title=\"Convert this dataframe to an interactive table.\"\n",
              "            style=\"display:none;\">\n",
              "\n",
              "  <svg xmlns=\"http://www.w3.org/2000/svg\" height=\"24px\" viewBox=\"0 -960 960 960\">\n",
              "    <path d=\"M120-120v-720h720v720H120Zm60-500h600v-160H180v160Zm220 220h160v-160H400v160Zm0 220h160v-160H400v160ZM180-400h160v-160H180v160Zm440 0h160v-160H620v160ZM180-180h160v-160H180v160Zm440 0h160v-160H620v160Z\"/>\n",
              "  </svg>\n",
              "    </button>\n",
              "\n",
              "  <style>\n",
              "    .colab-df-container {\n",
              "      display:flex;\n",
              "      gap: 12px;\n",
              "    }\n",
              "\n",
              "    .colab-df-convert {\n",
              "      background-color: #E8F0FE;\n",
              "      border: none;\n",
              "      border-radius: 50%;\n",
              "      cursor: pointer;\n",
              "      display: none;\n",
              "      fill: #1967D2;\n",
              "      height: 32px;\n",
              "      padding: 0 0 0 0;\n",
              "      width: 32px;\n",
              "    }\n",
              "\n",
              "    .colab-df-convert:hover {\n",
              "      background-color: #E2EBFA;\n",
              "      box-shadow: 0px 1px 2px rgba(60, 64, 67, 0.3), 0px 1px 3px 1px rgba(60, 64, 67, 0.15);\n",
              "      fill: #174EA6;\n",
              "    }\n",
              "\n",
              "    .colab-df-buttons div {\n",
              "      margin-bottom: 4px;\n",
              "    }\n",
              "\n",
              "    [theme=dark] .colab-df-convert {\n",
              "      background-color: #3B4455;\n",
              "      fill: #D2E3FC;\n",
              "    }\n",
              "\n",
              "    [theme=dark] .colab-df-convert:hover {\n",
              "      background-color: #434B5C;\n",
              "      box-shadow: 0px 1px 3px 1px rgba(0, 0, 0, 0.15);\n",
              "      filter: drop-shadow(0px 1px 2px rgba(0, 0, 0, 0.3));\n",
              "      fill: #FFFFFF;\n",
              "    }\n",
              "  </style>\n",
              "\n",
              "    <script>\n",
              "      const buttonEl =\n",
              "        document.querySelector('#df-43ac30cc-b014-4d40-bdb8-868fc49d26ca button.colab-df-convert');\n",
              "      buttonEl.style.display =\n",
              "        google.colab.kernel.accessAllowed ? 'block' : 'none';\n",
              "\n",
              "      async function convertToInteractive(key) {\n",
              "        const element = document.querySelector('#df-43ac30cc-b014-4d40-bdb8-868fc49d26ca');\n",
              "        const dataTable =\n",
              "          await google.colab.kernel.invokeFunction('convertToInteractive',\n",
              "                                                    [key], {});\n",
              "        if (!dataTable) return;\n",
              "\n",
              "        const docLinkHtml = 'Like what you see? Visit the ' +\n",
              "          '<a target=\"_blank\" href=https://colab.research.google.com/notebooks/data_table.ipynb>data table notebook</a>'\n",
              "          + ' to learn more about interactive tables.';\n",
              "        element.innerHTML = '';\n",
              "        dataTable['output_type'] = 'display_data';\n",
              "        await google.colab.output.renderOutput(dataTable, element);\n",
              "        const docLink = document.createElement('div');\n",
              "        docLink.innerHTML = docLinkHtml;\n",
              "        element.appendChild(docLink);\n",
              "      }\n",
              "    </script>\n",
              "  </div>\n",
              "\n",
              "\n",
              "<div id=\"df-97734abc-0d8e-48a1-9742-f9932653ef26\">\n",
              "  <button class=\"colab-df-quickchart\" onclick=\"quickchart('df-97734abc-0d8e-48a1-9742-f9932653ef26')\"\n",
              "            title=\"Suggest charts\"\n",
              "            style=\"display:none;\">\n",
              "\n",
              "<svg xmlns=\"http://www.w3.org/2000/svg\" height=\"24px\"viewBox=\"0 0 24 24\"\n",
              "     width=\"24px\">\n",
              "    <g>\n",
              "        <path d=\"M19 3H5c-1.1 0-2 .9-2 2v14c0 1.1.9 2 2 2h14c1.1 0 2-.9 2-2V5c0-1.1-.9-2-2-2zM9 17H7v-7h2v7zm4 0h-2V7h2v10zm4 0h-2v-4h2v4z\"/>\n",
              "    </g>\n",
              "</svg>\n",
              "  </button>\n",
              "\n",
              "<style>\n",
              "  .colab-df-quickchart {\n",
              "      --bg-color: #E8F0FE;\n",
              "      --fill-color: #1967D2;\n",
              "      --hover-bg-color: #E2EBFA;\n",
              "      --hover-fill-color: #174EA6;\n",
              "      --disabled-fill-color: #AAA;\n",
              "      --disabled-bg-color: #DDD;\n",
              "  }\n",
              "\n",
              "  [theme=dark] .colab-df-quickchart {\n",
              "      --bg-color: #3B4455;\n",
              "      --fill-color: #D2E3FC;\n",
              "      --hover-bg-color: #434B5C;\n",
              "      --hover-fill-color: #FFFFFF;\n",
              "      --disabled-bg-color: #3B4455;\n",
              "      --disabled-fill-color: #666;\n",
              "  }\n",
              "\n",
              "  .colab-df-quickchart {\n",
              "    background-color: var(--bg-color);\n",
              "    border: none;\n",
              "    border-radius: 50%;\n",
              "    cursor: pointer;\n",
              "    display: none;\n",
              "    fill: var(--fill-color);\n",
              "    height: 32px;\n",
              "    padding: 0;\n",
              "    width: 32px;\n",
              "  }\n",
              "\n",
              "  .colab-df-quickchart:hover {\n",
              "    background-color: var(--hover-bg-color);\n",
              "    box-shadow: 0 1px 2px rgba(60, 64, 67, 0.3), 0 1px 3px 1px rgba(60, 64, 67, 0.15);\n",
              "    fill: var(--button-hover-fill-color);\n",
              "  }\n",
              "\n",
              "  .colab-df-quickchart-complete:disabled,\n",
              "  .colab-df-quickchart-complete:disabled:hover {\n",
              "    background-color: var(--disabled-bg-color);\n",
              "    fill: var(--disabled-fill-color);\n",
              "    box-shadow: none;\n",
              "  }\n",
              "\n",
              "  .colab-df-spinner {\n",
              "    border: 2px solid var(--fill-color);\n",
              "    border-color: transparent;\n",
              "    border-bottom-color: var(--fill-color);\n",
              "    animation:\n",
              "      spin 1s steps(1) infinite;\n",
              "  }\n",
              "\n",
              "  @keyframes spin {\n",
              "    0% {\n",
              "      border-color: transparent;\n",
              "      border-bottom-color: var(--fill-color);\n",
              "      border-left-color: var(--fill-color);\n",
              "    }\n",
              "    20% {\n",
              "      border-color: transparent;\n",
              "      border-left-color: var(--fill-color);\n",
              "      border-top-color: var(--fill-color);\n",
              "    }\n",
              "    30% {\n",
              "      border-color: transparent;\n",
              "      border-left-color: var(--fill-color);\n",
              "      border-top-color: var(--fill-color);\n",
              "      border-right-color: var(--fill-color);\n",
              "    }\n",
              "    40% {\n",
              "      border-color: transparent;\n",
              "      border-right-color: var(--fill-color);\n",
              "      border-top-color: var(--fill-color);\n",
              "    }\n",
              "    60% {\n",
              "      border-color: transparent;\n",
              "      border-right-color: var(--fill-color);\n",
              "    }\n",
              "    80% {\n",
              "      border-color: transparent;\n",
              "      border-right-color: var(--fill-color);\n",
              "      border-bottom-color: var(--fill-color);\n",
              "    }\n",
              "    90% {\n",
              "      border-color: transparent;\n",
              "      border-bottom-color: var(--fill-color);\n",
              "    }\n",
              "  }\n",
              "</style>\n",
              "\n",
              "  <script>\n",
              "    async function quickchart(key) {\n",
              "      const quickchartButtonEl =\n",
              "        document.querySelector('#' + key + ' button');\n",
              "      quickchartButtonEl.disabled = true;  // To prevent multiple clicks.\n",
              "      quickchartButtonEl.classList.add('colab-df-spinner');\n",
              "      try {\n",
              "        const charts = await google.colab.kernel.invokeFunction(\n",
              "            'suggestCharts', [key], {});\n",
              "      } catch (error) {\n",
              "        console.error('Error during call to suggestCharts:', error);\n",
              "      }\n",
              "      quickchartButtonEl.classList.remove('colab-df-spinner');\n",
              "      quickchartButtonEl.classList.add('colab-df-quickchart-complete');\n",
              "    }\n",
              "    (() => {\n",
              "      let quickchartButtonEl =\n",
              "        document.querySelector('#df-97734abc-0d8e-48a1-9742-f9932653ef26 button');\n",
              "      quickchartButtonEl.style.display =\n",
              "        google.colab.kernel.accessAllowed ? 'block' : 'none';\n",
              "    })();\n",
              "  </script>\n",
              "</div>\n",
              "\n",
              "    </div>\n",
              "  </div>\n"
            ],
            "application/vnd.google.colaboratory.intrinsic+json": {
              "type": "dataframe",
              "variable_name": "titanic",
              "summary": "{\n  \"name\": \"titanic\",\n  \"rows\": 891,\n  \"fields\": [\n    {\n      \"column\": \"survived\",\n      \"properties\": {\n        \"dtype\": \"number\",\n        \"std\": 0,\n        \"min\": 0,\n        \"max\": 1,\n        \"num_unique_values\": 2,\n        \"samples\": [\n          1,\n          0\n        ],\n        \"semantic_type\": \"\",\n        \"description\": \"\"\n      }\n    },\n    {\n      \"column\": \"pclass\",\n      \"properties\": {\n        \"dtype\": \"number\",\n        \"std\": 0,\n        \"min\": 1,\n        \"max\": 3,\n        \"num_unique_values\": 3,\n        \"samples\": [\n          3,\n          1\n        ],\n        \"semantic_type\": \"\",\n        \"description\": \"\"\n      }\n    },\n    {\n      \"column\": \"sex\",\n      \"properties\": {\n        \"dtype\": \"category\",\n        \"num_unique_values\": 2,\n        \"samples\": [\n          \"female\",\n          \"male\"\n        ],\n        \"semantic_type\": \"\",\n        \"description\": \"\"\n      }\n    },\n    {\n      \"column\": \"age\",\n      \"properties\": {\n        \"dtype\": \"number\",\n        \"std\": 14.526497332334042,\n        \"min\": 0.42,\n        \"max\": 80.0,\n        \"num_unique_values\": 88,\n        \"samples\": [\n          0.75,\n          22.0\n        ],\n        \"semantic_type\": \"\",\n        \"description\": \"\"\n      }\n    },\n    {\n      \"column\": \"sibsp\",\n      \"properties\": {\n        \"dtype\": \"number\",\n        \"std\": 1,\n        \"min\": 0,\n        \"max\": 8,\n        \"num_unique_values\": 7,\n        \"samples\": [\n          1,\n          0\n        ],\n        \"semantic_type\": \"\",\n        \"description\": \"\"\n      }\n    },\n    {\n      \"column\": \"parch\",\n      \"properties\": {\n        \"dtype\": \"number\",\n        \"std\": 0,\n        \"min\": 0,\n        \"max\": 6,\n        \"num_unique_values\": 7,\n        \"samples\": [\n          0,\n          1\n        ],\n        \"semantic_type\": \"\",\n        \"description\": \"\"\n      }\n    },\n    {\n      \"column\": \"fare\",\n      \"properties\": {\n        \"dtype\": \"number\",\n        \"std\": 49.6934285971809,\n        \"min\": 0.0,\n        \"max\": 512.3292,\n        \"num_unique_values\": 248,\n        \"samples\": [\n          11.2417,\n          51.8625\n        ],\n        \"semantic_type\": \"\",\n        \"description\": \"\"\n      }\n    },\n    {\n      \"column\": \"embarked\",\n      \"properties\": {\n        \"dtype\": \"category\",\n        \"num_unique_values\": 3,\n        \"samples\": [\n          \"S\",\n          \"C\"\n        ],\n        \"semantic_type\": \"\",\n        \"description\": \"\"\n      }\n    },\n    {\n      \"column\": \"class\",\n      \"properties\": {\n        \"dtype\": \"category\",\n        \"num_unique_values\": 3,\n        \"samples\": [\n          \"Third\",\n          \"First\"\n        ],\n        \"semantic_type\": \"\",\n        \"description\": \"\"\n      }\n    },\n    {\n      \"column\": \"who\",\n      \"properties\": {\n        \"dtype\": \"category\",\n        \"num_unique_values\": 3,\n        \"samples\": [\n          \"man\",\n          \"woman\"\n        ],\n        \"semantic_type\": \"\",\n        \"description\": \"\"\n      }\n    },\n    {\n      \"column\": \"adult_male\",\n      \"properties\": {\n        \"dtype\": \"boolean\",\n        \"num_unique_values\": 2,\n        \"samples\": [\n          false,\n          true\n        ],\n        \"semantic_type\": \"\",\n        \"description\": \"\"\n      }\n    },\n    {\n      \"column\": \"deck\",\n      \"properties\": {\n        \"dtype\": \"category\",\n        \"num_unique_values\": 7,\n        \"samples\": [\n          \"C\",\n          \"E\"\n        ],\n        \"semantic_type\": \"\",\n        \"description\": \"\"\n      }\n    },\n    {\n      \"column\": \"embark_town\",\n      \"properties\": {\n        \"dtype\": \"category\",\n        \"num_unique_values\": 3,\n        \"samples\": [\n          \"Southampton\",\n          \"Cherbourg\"\n        ],\n        \"semantic_type\": \"\",\n        \"description\": \"\"\n      }\n    },\n    {\n      \"column\": \"alive\",\n      \"properties\": {\n        \"dtype\": \"category\",\n        \"num_unique_values\": 2,\n        \"samples\": [\n          \"yes\",\n          \"no\"\n        ],\n        \"semantic_type\": \"\",\n        \"description\": \"\"\n      }\n    },\n    {\n      \"column\": \"alone\",\n      \"properties\": {\n        \"dtype\": \"boolean\",\n        \"num_unique_values\": 2,\n        \"samples\": [\n          true,\n          false\n        ],\n        \"semantic_type\": \"\",\n        \"description\": \"\"\n      }\n    }\n  ]\n}"
            }
          },
          "metadata": {},
          "execution_count": 100
        }
      ]
    },
    {
      "cell_type": "code",
      "source": [
        "import numpy as np\n",
        "\n",
        "ar = np.arange(200,301)\n",
        "print(ar , type(ar))"
      ],
      "metadata": {
        "colab": {
          "base_uri": "https://localhost:8080/"
        },
        "id": "_AcnE5CTdhUz",
        "outputId": "f6f0a4f8-67f4-4a79-ceae-176eab226d86"
      },
      "execution_count": 104,
      "outputs": [
        {
          "output_type": "stream",
          "name": "stdout",
          "text": [
            "[200 201 202 203 204 205 206 207 208 209 210 211 212 213 214 215 216 217\n",
            " 218 219 220 221 222 223 224 225 226 227 228 229 230 231 232 233 234 235\n",
            " 236 237 238 239 240 241 242 243 244 245 246 247 248 249 250 251 252 253\n",
            " 254 255 256 257 258 259 260 261 262 263 264 265 266 267 268 269 270 271\n",
            " 272 273 274 275 276 277 278 279 280 281 282 283 284 285 286 287 288 289\n",
            " 290 291 292 293 294 295 296 297 298 299 300] <class 'numpy.ndarray'>\n"
          ]
        }
      ]
    },
    {
      "cell_type": "code",
      "source": [
        "# 가변적인 인자값\n",
        "def sum(*args):\n",
        "    sum=0\n",
        "    for i in args:\n",
        "        sum += i\n",
        "    return sum\n",
        "\n",
        "\n",
        "sum(200, 201, 202, 203, 204, 205, 206, 207, 208, 209, 210, 211, 212,\n",
        "    213, 214, 215, 216, 217, 218, 219, 220, 221, 222, 223, 224, 225,\n",
        "    226, 227, 228, 229, 230, 231, 232, 233, 234, 235, 236, 237, 238,\n",
        "       239, 240, 241, 242, 243, 244, 245, 246, 247, 248, 249, 250, 251,\n",
        "       252, 253, 254, 255, 256, 257, 258, 259, 260, 261, 262, 263, 264,\n",
        "       265, 266, 267, 268, 269, 270, 271, 272, 273, 274, 275, 276, 277,\n",
        "       278, 279, 280, 281, 282, 283, 284, 285, 286, 287, 288, 289, 290,\n",
        "       291, 292, 293, 294, 295, 296, 297, 298, 299, 300)\n",
        "\n"
      ],
      "metadata": {
        "colab": {
          "base_uri": "https://localhost:8080/"
        },
        "id": "4ED3AWuTvrzO",
        "outputId": "dca41f7e-a7a0-4ac8-8817-5a7812e1f4a9"
      },
      "execution_count": 109,
      "outputs": [
        {
          "output_type": "execute_result",
          "data": {
            "text/plain": [
              "25250"
            ]
          },
          "metadata": {},
          "execution_count": 109
        }
      ]
    },
    {
      "cell_type": "markdown",
      "source": [
        "####람다 함수 연습"
      ],
      "metadata": {
        "id": "wkI2_IdIxTvj"
      }
    },
    {
      "cell_type": "code",
      "source": [
        "sum = lambda a,b:a+b\n",
        "sum(3,4)"
      ],
      "metadata": {
        "colab": {
          "base_uri": "https://localhost:8080/"
        },
        "id": "T9dkDcFJwx9i",
        "outputId": "be9bd195-aebf-448f-f12c-a6fd444b6f43"
      },
      "execution_count": 110,
      "outputs": [
        {
          "output_type": "execute_result",
          "data": {
            "text/plain": [
              "7"
            ]
          },
          "metadata": {},
          "execution_count": 110
        }
      ]
    },
    {
      "cell_type": "code",
      "source": [
        "def sum(a,b):\n",
        "    return a+b\n",
        "\n",
        "print(sum(3,4))"
      ],
      "metadata": {
        "colab": {
          "base_uri": "https://localhost:8080/"
        },
        "id": "Ddswd0KCxa2z",
        "outputId": "4bd9bb1a-442b-4a27-be69-f3474d65b236"
      },
      "execution_count": 111,
      "outputs": [
        {
          "output_type": "stream",
          "name": "stdout",
          "text": [
            "7\n"
          ]
        }
      ]
    },
    {
      "cell_type": "code",
      "source": [
        "myList = [lambda a,b:a+b , lambda a,b:a-b, lambda a,b:a*b, lambda a,b:a/b]\n",
        "for i in range(len(myList)):\n",
        "    print(myList[i](5,5))"
      ],
      "metadata": {
        "colab": {
          "base_uri": "https://localhost:8080/"
        },
        "id": "HyguJKLVxjg4",
        "outputId": "68080882-299b-4883-c9cd-d4672eaf0f0c"
      },
      "execution_count": 115,
      "outputs": [
        {
          "output_type": "stream",
          "name": "stdout",
          "text": [
            "10\n",
            "0\n",
            "25\n",
            "1.0\n"
          ]
        }
      ]
    },
    {
      "cell_type": "markdown",
      "source": [
        "####사용자 함수 연습"
      ],
      "metadata": {
        "id": "6HvzJZJQzbv2"
      }
    },
    {
      "cell_type": "code",
      "source": [
        "#반복문으로 팩토리얼을 구하는 사용자 함수를 작성하고 5!, 10!을 구하세요\n",
        "\n",
        "import math\n",
        "def cal_factorlal(x):\n",
        "    y = range(1,x+1)\n",
        "    return math.prod(y)\n",
        "\n",
        "print(cal_factorlal(5))\n",
        "print(cal_factorlal(100))"
      ],
      "metadata": {
        "colab": {
          "base_uri": "https://localhost:8080/"
        },
        "id": "4c-99HwNx43l",
        "outputId": "b5509c64-2037-4a80-ded4-4bf15a8ce72f"
      },
      "execution_count": 139,
      "outputs": [
        {
          "output_type": "stream",
          "name": "stdout",
          "text": [
            "120\n",
            "93326215443944152681699238856266700490715968264381621468592963895217599993229915608941463976156518286253697920827223758251185210916864000000000000000000000000\n"
          ]
        }
      ]
    },
    {
      "cell_type": "code",
      "source": [
        "def factorial(n):\n",
        "    result =1\n",
        "    for i in range(1 ,n+1):\n",
        "        result *= i\n",
        "    return result\n",
        "\n",
        "print(factorial(5))\n",
        "print(factorial(100))"
      ],
      "metadata": {
        "colab": {
          "base_uri": "https://localhost:8080/"
        },
        "id": "zK2KZurazycJ",
        "outputId": "0c7f38f1-4b28-426f-f806-41b707ce6009"
      },
      "execution_count": 141,
      "outputs": [
        {
          "output_type": "stream",
          "name": "stdout",
          "text": [
            "120\n",
            "93326215443944152681699238856266700490715968264381621468592963895217599993229915608941463976156518286253697920827223758251185210916864000000000000000000000000\n"
          ]
        }
      ]
    },
    {
      "cell_type": "code",
      "source": [
        "def add_number(n1, n2):\n",
        "    ret = n1 + n2\n",
        "    return ret\n",
        "def add_txt(t1, t2):\n",
        "    print(t1+t2)\n",
        "\n",
        "ans1 = add_number(10,15)\n",
        "print(ans1)\n",
        "\n",
        "ans2 = add_number(20,25)\n",
        "print(ans2)\n",
        "\n",
        "txt1 = '나는'\n",
        "txt2 = '민간'\n",
        "add_txt(txt1, txt2)"
      ],
      "metadata": {
        "colab": {
          "base_uri": "https://localhost:8080/"
        },
        "id": "cUngaDaL0fIv",
        "outputId": "c993b3b0-62f3-4e31-8f43-4620bb457b06"
      },
      "execution_count": 121,
      "outputs": [
        {
          "output_type": "stream",
          "name": "stdout",
          "text": [
            "25\n",
            "45\n",
            "나는민간\n"
          ]
        }
      ]
    },
    {
      "cell_type": "code",
      "source": [
        "#함수 인자 : 기본적으로 인자 순서에 대응되는 것을 함수 코드에 대입\n",
        "def add_txt(t1, t2='파이썬'):#t2 기본값을 대입한 기본 인자는 마지막에 위치해야함\n",
        "    print(t1 + ':' + t2)\n",
        "\n",
        "add_txt('베스트',)\n",
        "add_txt(t2='대한', t1='민국')"
      ],
      "metadata": {
        "colab": {
          "base_uri": "https://localhost:8080/"
        },
        "id": "jITmTPkQ1R1K",
        "outputId": "87a1db0b-82c1-4cf8-9647-025ff2e890bd"
      },
      "execution_count": 125,
      "outputs": [
        {
          "output_type": "stream",
          "name": "stdout",
          "text": [
            "베스트:파이썬\n",
            "민국:대한\n"
          ]
        }
      ]
    },
    {
      "cell_type": "code",
      "source": [
        "def func1(*args):# 인자의 개수가 불명확한 경우 가변 인자 사용 args는 함수 내부에서 튜플로 처리\n",
        "    print(args)\n",
        "\n",
        "def func2(width, height, **kwargs):#키워드 인자가 불명확한 경우 **kwargs를 사용 함수 내부에서 사전으로 처리\n",
        "    print(kwargs)\n",
        "\n",
        "func1()\n",
        "func1(1,2,3,4,5)\n",
        "func2(10,20)\n",
        "func2(10,20, depth=50, color='blue')"
      ],
      "metadata": {
        "colab": {
          "base_uri": "https://localhost:8080/"
        },
        "id": "vjIgRCS32PEC",
        "outputId": "d24f18df-be90-4b66-cd08-7236abbb0487"
      },
      "execution_count": 132,
      "outputs": [
        {
          "output_type": "stream",
          "name": "stdout",
          "text": [
            "()\n",
            "(1, 2, 3, 4, 5)\n",
            "{}\n",
            "{'depth': 50, 'color': 'blue'}\n"
          ]
        }
      ]
    },
    {
      "cell_type": "code",
      "source": [
        "def func2(width, height, **kwargs):\n",
        "    return width, height, kwargs\n",
        "\n",
        "func2(10,20,depth = 50, color = 'Blue')"
      ],
      "metadata": {
        "colab": {
          "base_uri": "https://localhost:8080/"
        },
        "id": "kJvE3UXk2zzo",
        "outputId": "b8801992-3f3e-4df5-b074-ed31ca6951bc"
      },
      "execution_count": 142,
      "outputs": [
        {
          "output_type": "execute_result",
          "data": {
            "text/plain": [
              "(10, 20, {'depth': 50, 'color': 'Blue'})"
            ]
          },
          "metadata": {},
          "execution_count": 142
        }
      ]
    },
    {
      "cell_type": "code",
      "source": [
        "# 가변적인 인풋\n",
        "list1 = []\n",
        "\n",
        "def listchng(*args):\n",
        "    for i in args:\n",
        "        i = float(i)\n",
        "        list1.append(i)\n",
        "    return list1\n",
        "listchng(1,2,3,4,5,6)"
      ],
      "metadata": {
        "colab": {
          "base_uri": "https://localhost:8080/"
        },
        "id": "SFjNd7Du5AOf",
        "outputId": "21966cd8-ce68-42d7-9f01-88c9ab38fc6d"
      },
      "execution_count": 143,
      "outputs": [
        {
          "output_type": "execute_result",
          "data": {
            "text/plain": [
              "[1.0, 2.0, 3.0, 4.0, 5.0, 6.0]"
            ]
          },
          "metadata": {},
          "execution_count": 143
        }
      ]
    },
    {
      "cell_type": "markdown",
      "source": [
        "### 함수 유형\n",
        "- 입력 인자와 리턴값 여부에 따른 함수 유형"
      ],
      "metadata": {
        "id": "VIKE5dlW8iQM"
      }
    },
    {
      "cell_type": "code",
      "source": [
        "#입력값이 없고 결과값만 있는 함수\n",
        "def say():\n",
        "    return 'hi'\n",
        "\n",
        "a = say()\n",
        "print(a)"
      ],
      "metadata": {
        "colab": {
          "base_uri": "https://localhost:8080/"
        },
        "id": "slKzCV1c5lhW",
        "outputId": "8f03e58b-681c-43e9-ee47-42acfb8dbc25"
      },
      "execution_count": 144,
      "outputs": [
        {
          "output_type": "stream",
          "name": "stdout",
          "text": [
            "hi\n"
          ]
        }
      ]
    },
    {
      "cell_type": "code",
      "source": [
        "#입력값은 있고 결과값이 없는 함수\n",
        "#결과값은 오직 return 명령어로만 돌려 받을 수 있음\n",
        "\n",
        "def add(a,b):\n",
        "    print('%d, %d의 합은 %d입니다' %(a,b,a+b))\n",
        "\n",
        "a =add(3,4)\n",
        "print(a)"
      ],
      "metadata": {
        "colab": {
          "base_uri": "https://localhost:8080/"
        },
        "id": "HGfpIXSb8v1Z",
        "outputId": "8191b861-38cf-4ab6-89af-f659a346a6b7"
      },
      "execution_count": 148,
      "outputs": [
        {
          "output_type": "stream",
          "name": "stdout",
          "text": [
            "3, 4의 합은 7입니다\n"
          ]
        }
      ]
    },
    {
      "cell_type": "code",
      "source": [
        "# 입력값도 결과값도 없는 함수\n",
        "\n",
        "def say():\n",
        "    print('hi')\n",
        "\n",
        "a= say()\n",
        "print(a)"
      ],
      "metadata": {
        "colab": {
          "base_uri": "https://localhost:8080/"
        },
        "id": "8kG2poci9H99",
        "outputId": "2b5f4df4-b12c-4dfe-97c2-d0b376be35df"
      },
      "execution_count": 149,
      "outputs": [
        {
          "output_type": "stream",
          "name": "stdout",
          "text": [
            "hi\n",
            "None\n"
          ]
        }
      ]
    },
    {
      "cell_type": "code",
      "source": [
        "# 입력값과 결과값이 모두 있는 함수\n",
        "def add(a,b):\n",
        "    return a+b\n",
        "\n",
        "a = add(3,4)\n",
        "print(a)"
      ],
      "metadata": {
        "colab": {
          "base_uri": "https://localhost:8080/"
        },
        "id": "k8iOvuRX9lhn",
        "outputId": "419c1401-43a3-460f-f11b-64819d2ad583"
      },
      "execution_count": 150,
      "outputs": [
        {
          "output_type": "stream",
          "name": "stdout",
          "text": [
            "7\n"
          ]
        }
      ]
    },
    {
      "cell_type": "code",
      "source": [
        "# 입력값과 결과값이 모두 있는 함수\n",
        "def max(a,b,c):\n",
        "    if a>b:\n",
        "        if a>c:\n",
        "            return a\n",
        "        elif a<c:\n",
        "            return c\n",
        "    if a<b:\n",
        "        if b>c:\n",
        "            return b\n",
        "        else:\n",
        "            return c\n",
        "\n",
        "print(\"가장 큰 수는 %d 입니다\" %(max(20,1,30)))\n",
        "max(10,20,0)"
      ],
      "metadata": {
        "colab": {
          "base_uri": "https://localhost:8080/"
        },
        "id": "4erKy3QR9wgg",
        "outputId": "89d40a28-eafd-4ff1-d9d5-decd24e22166"
      },
      "execution_count": 152,
      "outputs": [
        {
          "output_type": "stream",
          "name": "stdout",
          "text": [
            "가장 큰 수는 30 입니다\n"
          ]
        },
        {
          "output_type": "execute_result",
          "data": {
            "text/plain": [
              "20"
            ]
          },
          "metadata": {},
          "execution_count": 152
        }
      ]
    },
    {
      "cell_type": "code",
      "source": [
        "def math(x,y,z):\n",
        "    if z =='+':\n",
        "        return x + y\n",
        "    elif z =='-':\n",
        "        return x - y\n",
        "    elif z =='*':\n",
        "        return x * y\n",
        "    elif z =='/':\n",
        "        return x / y\n",
        "    elif z =='%':\n",
        "        return x % y\n",
        "    elif z =='//':\n",
        "        return x // y\n",
        "    elif z =='**':\n",
        "        return x**y\n",
        "    else:\n",
        "        return\n",
        "\n",
        "a = int(input('숫자 1 >'))\n",
        "b = int(input('숫자 2 >'))\n",
        "c = input('연산자 >')\n",
        "\n",
        "print(math(a,b,c))"
      ],
      "metadata": {
        "colab": {
          "base_uri": "https://localhost:8080/"
        },
        "id": "LgvpANKj-guk",
        "outputId": "f2933855-db47-4cd7-baad-8fc2d3c644a5"
      },
      "execution_count": 157,
      "outputs": [
        {
          "output_type": "stream",
          "name": "stdout",
          "text": [
            "숫자 1 >5\n",
            "숫자 2 >4\n",
            "연산자 >**\n",
            "625\n"
          ]
        }
      ]
    },
    {
      "cell_type": "code",
      "source": [
        "# 함수의 반환 값은 언제나 하나임 - 결과 값으로 튜플 값 하나를 갖게됨\n",
        "\n",
        "def add_and_mul(a,b):\n",
        "    return a+b, a*b\n",
        "\n",
        "result = add_and_mul(3,4)\n",
        "print(result)"
      ],
      "metadata": {
        "colab": {
          "base_uri": "https://localhost:8080/"
        },
        "id": "x8FrADQ6Ages",
        "outputId": "f18d0034-6cde-48d4-fa29-05e2bfa1267b"
      },
      "execution_count": 159,
      "outputs": [
        {
          "output_type": "stream",
          "name": "stdout",
          "text": [
            "7 12\n"
          ]
        }
      ]
    },
    {
      "cell_type": "markdown",
      "source": [
        "#### 지역변수와 전역변수\n",
        "- 지역변수는 함수 내부에서만 유효하고\n",
        "- 전역변수는 코드 전반에 걸쳐 유효\n",
        "- 함수의 인자는 지역변수"
      ],
      "metadata": {
        "id": "0za1F29DC1QL"
      }
    },
    {
      "cell_type": "code",
      "source": [
        "strdata = '전역변수'\n",
        "\n",
        "def func1():\n",
        "    strdata = '지역변수'\n",
        "    print(strdata)\n",
        "\n",
        "func1()"
      ],
      "metadata": {
        "colab": {
          "base_uri": "https://localhost:8080/"
        },
        "id": "6Teih9a6CSps",
        "outputId": "03851263-2399-4b19-b055-99a15ab7f354"
      },
      "execution_count": 160,
      "outputs": [
        {
          "output_type": "stream",
          "name": "stdout",
          "text": [
            "지역변수\n"
          ]
        }
      ]
    },
    {
      "cell_type": "code",
      "source": [
        "print(strdata)"
      ],
      "metadata": {
        "colab": {
          "base_uri": "https://localhost:8080/"
        },
        "id": "LrduSnAnDBM-",
        "outputId": "d977511e-812a-4acf-fc9e-4a650c25bfa1"
      },
      "execution_count": 161,
      "outputs": [
        {
          "output_type": "stream",
          "name": "stdout",
          "text": [
            "전역변수\n"
          ]
        }
      ]
    },
    {
      "cell_type": "code",
      "source": [
        "param = 10\n",
        "def func2(param):\n",
        "    print('a')\n",
        "    param =1\n",
        "print(param)"
      ],
      "metadata": {
        "colab": {
          "base_uri": "https://localhost:8080/"
        },
        "id": "5WeffGOsD943",
        "outputId": "c525e539-c4b1-4a3f-ff22-7d7554d783f5"
      },
      "execution_count": 164,
      "outputs": [
        {
          "output_type": "stream",
          "name": "stdout",
          "text": [
            "10\n"
          ]
        }
      ]
    },
    {
      "cell_type": "code",
      "source": [
        "param = 10\n",
        "def func3():\n",
        "    global param\n",
        "    param=50\n",
        "\n",
        "func3()\n",
        "print(param)"
      ],
      "metadata": {
        "colab": {
          "base_uri": "https://localhost:8080/"
        },
        "id": "4VCyA__DDD0P",
        "outputId": "6516cd59-0503-4f25-bc84-9cfebd65e02f"
      },
      "execution_count": 162,
      "outputs": [
        {
          "output_type": "stream",
          "name": "stdout",
          "text": [
            "50\n"
          ]
        }
      ]
    },
    {
      "cell_type": "code",
      "source": [],
      "metadata": {
        "id": "rgrF6FZOD9BC"
      },
      "execution_count": null,
      "outputs": []
    }
  ]
}