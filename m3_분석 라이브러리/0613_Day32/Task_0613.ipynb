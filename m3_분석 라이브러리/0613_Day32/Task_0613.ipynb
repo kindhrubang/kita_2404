{
  "nbformat": 4,
  "nbformat_minor": 0,
  "metadata": {
    "colab": {
      "provenance": []
    },
    "kernelspec": {
      "name": "python3",
      "display_name": "Python 3"
    },
    "language_info": {
      "name": "python"
    }
  },
  "cells": [
    {
      "cell_type": "markdown",
      "source": [
        "Task1_0613 pandas를 이용해서 위의 과제를 수행하세요\n"
      ],
      "metadata": {
        "id": "k8DhZl6SYinl"
      }
    },
    {
      "cell_type": "markdown",
      "source": [
        "Q. 다음 사항을 수행하세요.\n",
        "\n",
        "평균 50, 표준편차 10인 정규분포에서 100개 샘플 생성\n",
        "기본 데이터의 평균과 중앙값 계산\n",
        "데이터에 이상치 500추가\n",
        "이상치가 포함된 데이터의 평균과 중앙값 계산\n",
        "이상치 포함에 따른 평균값과 중앙값간의 변화 설명\n"
      ],
      "metadata": {
        "id": "Kn1if0d5Yvxw"
      }
    },
    {
      "cell_type": "code",
      "execution_count": null,
      "metadata": {
        "id": "5BCE_Os9YiNw"
      },
      "outputs": [],
      "source": []
    }
  ]
}