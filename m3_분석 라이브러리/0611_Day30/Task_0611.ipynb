{
  "nbformat": 4,
  "nbformat_minor": 0,
  "metadata": {
    "colab": {
      "provenance": []
    },
    "kernelspec": {
      "name": "python3",
      "display_name": "Python 3"
    },
    "language_info": {
      "name": "python"
    }
  },
  "cells": [
    {
      "cell_type": "markdown",
      "source": [
        "Task1_0611. 주어진 대각 행렬의 역행렬을 구하고, 역행렬이 맞는지 확인하세요.\n",
        "\n",
        "D = np.diag([1, 2, 3])"
      ],
      "metadata": {
        "id": "PlqxTFQtsAMs"
      }
    },
    {
      "cell_type": "code",
      "source": [
        "D = np.diag([1, 2, 3])\n",
        "D1 = np.linalg.inv(D)\n",
        "print(D1)\n",
        "D @ D1"
      ],
      "metadata": {
        "colab": {
          "base_uri": "https://localhost:8080/"
        },
        "id": "gS_qDZ--r_ew",
        "outputId": "7240bf4e-077f-4a1e-8f23-80f5e9cbecdb"
      },
      "execution_count": 4,
      "outputs": [
        {
          "output_type": "stream",
          "name": "stdout",
          "text": [
            "[[1.         0.         0.        ]\n",
            " [0.         0.5        0.        ]\n",
            " [0.         0.         0.33333333]]\n"
          ]
        },
        {
          "output_type": "execute_result",
          "data": {
            "text/plain": [
              "array([[1., 0., 0.],\n",
              "       [0., 1., 0.],\n",
              "       [0., 0., 1.]])"
            ]
          },
          "metadata": {},
          "execution_count": 4
        }
      ]
    },
    {
      "cell_type": "markdown",
      "source": [
        "Task2_0611. 임의의 상삼각 행렬을 생성하고, 그 행렬로 부터 하삼각 행렬을 구하여 출력하세요."
      ],
      "metadata": {
        "id": "Dl6S-2uisA6Z"
      }
    },
    {
      "cell_type": "code",
      "execution_count": 7,
      "metadata": {
        "colab": {
          "base_uri": "https://localhost:8080/"
        },
        "id": "uLSKzEfbr8i4",
        "outputId": "678eece0-800c-454f-f894-cde1fa05cc5a"
      },
      "outputs": [
        {
          "output_type": "stream",
          "name": "stdout",
          "text": [
            "[[0.57979967 0.55821489 0.84239667]\n",
            " [0.         0.12089193 0.31144289]\n",
            " [0.         0.         0.78702106]]\n",
            "\n",
            "\n",
            "[[0.57979967 0.         0.        ]\n",
            " [0.         0.12089193 0.        ]\n",
            " [0.         0.         0.78702106]]\n"
          ]
        }
      ],
      "source": [
        "A = np.random.rand(3, 3)\n",
        "Au = np.triu(A)\n",
        "print(Au)\n",
        "\n",
        "print('\\n')\n",
        "\n",
        "Al = np.tril(Au)\n",
        "print(Al)"
      ]
    },
    {
      "cell_type": "markdown",
      "source": [
        "Task3_0611. 주어진 행렬의 역행렬을 구하고, 역행렬이 맞는지 확인하세요.\n",
        "\n",
        "A = np.array([[4, 7], [2, 6]])"
      ],
      "metadata": {
        "id": "Di8HAU4vsGGg"
      }
    },
    {
      "cell_type": "code",
      "source": [
        "A = np.array([[4,7],[2,6]])\n",
        "a1 = np.linalg.inv(A)\n",
        "print(a1)\n",
        "np.dot(A, a1)"
      ],
      "metadata": {
        "colab": {
          "base_uri": "https://localhost:8080/"
        },
        "id": "b4umefDTsHI7",
        "outputId": "c1fad853-eb66-4cd0-c34d-a90f3d9771fc"
      },
      "execution_count": 9,
      "outputs": [
        {
          "output_type": "stream",
          "name": "stdout",
          "text": [
            "[[ 0.6 -0.7]\n",
            " [-0.2  0.4]]\n"
          ]
        },
        {
          "output_type": "execute_result",
          "data": {
            "text/plain": [
              "array([[ 1.00000000e+00, -1.11022302e-16],\n",
              "       [ 1.11022302e-16,  1.00000000e+00]])"
            ]
          },
          "metadata": {},
          "execution_count": 9
        }
      ]
    },
    {
      "cell_type": "markdown",
      "source": [
        "Task4_0611. 주어진 데이터 포인트와 모델 파라미터를 사용하여 선형 회귀 모델의 예측값을 계산하세요.\n",
        "\n",
        "X = np.array([1, 2, 3])\n",
        "\n",
        "- 1단계 : 주어진 입력 데이터 포인트 X와 모델 파라미터 θ를 정의.\n",
        "- 2단계 : 행렬 곱을 사용하여 예측값 y를 계산."
      ],
      "metadata": {
        "id": "woUJKsKC-Uux"
      }
    },
    {
      "cell_type": "code",
      "source": [
        "import numpy as np\n",
        "X = np.array([[1, 2, 3]])\n",
        "w = np.array([\n",
        "    [1],\n",
        "    [1],\n",
        "    [1]\n",
        "])\n",
        "\n",
        "y = np.dot(X, w)\n",
        "print(y)"
      ],
      "metadata": {
        "colab": {
          "base_uri": "https://localhost:8080/"
        },
        "id": "bw2pStwj-ZkW",
        "outputId": "b69edce7-4fd6-4abb-8bc4-043072f752f8"
      },
      "execution_count": 25,
      "outputs": [
        {
          "output_type": "stream",
          "name": "stdout",
          "text": [
            "[[6]]\n"
          ]
        }
      ]
    },
    {
      "cell_type": "markdown",
      "source": [
        "Task5_0611. 주어진 입력 벡터와 가중치 행렬을 사용하여 신경망의 단일 계층 출력을 계산하세요.\n",
        "\n",
        "X = np.array([0.5, 1.0, -1.5])\n",
        "\n",
        "- 1단계: 입력 벡터 X와 가중치 행렬 W를 정의.\n",
        "- 2단계: 행렬 곱을 사용하여 계층의 출력을 계산."
      ],
      "metadata": {
        "id": "Z_RcNQmt-WI9"
      }
    },
    {
      "cell_type": "code",
      "source": [
        "X = np.array([0.5, 1.0, -1.5])\n",
        "w = np.array([\n",
        "    [1],\n",
        "    [2],\n",
        "    [-1]\n",
        "])\n",
        "print(X,'\\n')\n",
        "print('\\n',w,'\\n')\n",
        "z = np.dot(X, w)\n",
        "print(z)"
      ],
      "metadata": {
        "colab": {
          "base_uri": "https://localhost:8080/"
        },
        "id": "IIbedPlz-aKv",
        "outputId": "e63b5c46-da29-480a-dea9-207db0259065"
      },
      "execution_count": 15,
      "outputs": [
        {
          "output_type": "stream",
          "name": "stdout",
          "text": [
            "[ 0.5  1.  -1.5] \n",
            "\n",
            "\n",
            " [[ 1]\n",
            " [ 2]\n",
            " [-1]] \n",
            "\n",
            "[4.]\n"
          ]
        }
      ]
    },
    {
      "cell_type": "markdown",
      "source": [
        "Task6_0611. 주어진 입력 벡터에 대해 신경망의 활성화 함수(ReLU, 시그모이드)를 적용하여 출력을 계산하세요.\n",
        "\n",
        "X = np.array([1, -2, 3])\n",
        "\n",
        "- 1단계: 입력 벡터 X를 정의.\n",
        "- 2단계: 가중치 행렬 W와 편향 벡터 b를 정의.\n",
        "- 3단계: 활성화 함수(ReLU, 시그모이드)를 적용하여 출력을 계산\n",
        "활성화 함수 적용<br>\n",
        "output_relu = relu(Z)<br>\n",
        "output_sigmoid = sigmoid(Z)"
      ],
      "metadata": {
        "id": "MHkL5FVt-Xum"
      }
    },
    {
      "cell_type": "code",
      "source": [
        "X = np.array([1, -2, 3])\n",
        "W = np.array([\n",
        "    [1],\n",
        "    [0.5],\n",
        "    [2]\n",
        "])\n",
        "b = np.array([\n",
        "    [1],\n",
        "    [1],\n",
        "    [1]\n",
        "])\n",
        "print(np.dot(X, W),'\\n')\n",
        "\n",
        "Z = np.dot(X, W) - b\n",
        "print(Z)"
      ],
      "metadata": {
        "colab": {
          "base_uri": "https://localhost:8080/"
        },
        "id": "TiNl-ZaE-ajG",
        "outputId": "7e03bb2b-17bf-4acf-8775-61004d83f1e6"
      },
      "execution_count": 24,
      "outputs": [
        {
          "output_type": "stream",
          "name": "stdout",
          "text": [
            "[6.] \n",
            "\n",
            "[[5.]\n",
            " [5.]\n",
            " [5.]]\n"
          ]
        }
      ]
    },
    {
      "cell_type": "code",
      "source": [
        "def sigmoid(x):\n",
        "    return 1 / (1 + np.exp(-x))\n",
        "\n",
        "sigmoid(Z)"
      ],
      "metadata": {
        "colab": {
          "base_uri": "https://localhost:8080/"
        },
        "id": "eV5bg3I8NUFO",
        "outputId": "d6ae52a2-134d-4406-c525-bd2ff09c991b"
      },
      "execution_count": 22,
      "outputs": [
        {
          "output_type": "execute_result",
          "data": {
            "text/plain": [
              "array([[0.99330715],\n",
              "       [0.99330715],\n",
              "       [0.99330715]])"
            ]
          },
          "metadata": {},
          "execution_count": 22
        }
      ]
    },
    {
      "cell_type": "markdown",
      "source": [
        "Task7_0611. 주어진 선형 방정식을 행렬 형태로 나타내고, 역행렬을 사용하여\n",
        "x와 y를 구하세요.\n",
        "\n",
        "$\\begin{cases}\n",
        "3x + 4y = 10 \\\\\n",
        "2x + y = 5\n",
        "\\end{cases}$\n",
        "\n",
        "단계:\n",
        "1. 계수 행렬 A와 결과 벡터 b를 정의.\n",
        "2. 행렬 A의 역행렬을 구한다.\n",
        "3. 역행렬을 사용하여 변수 x를 구한다."
      ],
      "metadata": {
        "id": "MUDOrBffGbvV"
      }
    },
    {
      "cell_type": "code",
      "source": [
        "A = np.array([\n",
        "    [3, 4],\n",
        "    [2, 1]\n",
        "])\n",
        "b = np.array([\n",
        "    [10],\n",
        "    [5]\n",
        "])\n",
        "A_inv = np.linalg.inv(A)\n",
        "x = np.dot(A_inv, b)\n",
        "print(x)"
      ],
      "metadata": {
        "colab": {
          "base_uri": "https://localhost:8080/"
        },
        "id": "D3S1_VINGcJP",
        "outputId": "66801b69-209a-4128-a14a-00dd2eab302d"
      },
      "execution_count": 27,
      "outputs": [
        {
          "output_type": "stream",
          "name": "stdout",
          "text": [
            "[[2.]\n",
            " [1.]]\n"
          ]
        }
      ]
    },
    {
      "cell_type": "markdown",
      "source": [
        "Task8_0611. 주어진 2D 평면의 점을 특정 변환 행렬을 사용하여 변환한 후, 변환된 좌표를 원래 좌표로 되돌리세요.\n",
        "\n",
        "원래 점의 좌표 p와 변환 행렬 T 정의<br>\n",
        "p = np.array([1, 2])<br>\n",
        "T = np.array([[2, 0], [0, 3]])\n",
        "\n",
        "단계\n",
        "1. 원래 점의 좌표 p와 변환 행렬 T를 정의.\n",
        "2. 변환 행렬 T를 사용하여 새로운 좌표 p를 계산.\n",
        "3. 변환 행렬 T의 역행렬을 사용하여 새로운 좌표 p에서 원래 좌표 p를 복원."
      ],
      "metadata": {
        "id": "I8mbj2WMHSdG"
      }
    },
    {
      "cell_type": "code",
      "source": [
        "p = np.array([1, 2])\n",
        "T = np.array([[2, 0], [0, 3]])\n",
        "print(p,'\\n')\n",
        "print(T,'\\n')\n",
        "p_new = np.dot(T, p)\n",
        "print(p_new,'\\n')\n",
        "\n",
        "\n",
        "p_old = np.dot(np.linalg.inv(T), p_new)\n",
        "print(p_old)"
      ],
      "metadata": {
        "colab": {
          "base_uri": "https://localhost:8080/"
        },
        "id": "u_JJqn--QCt-",
        "outputId": "3a2f4643-b597-422b-d4ed-f4dbdb6b88fa"
      },
      "execution_count": 31,
      "outputs": [
        {
          "output_type": "stream",
          "name": "stdout",
          "text": [
            "[1 2] \n",
            "\n",
            "[[2 0]\n",
            " [0 3]] \n",
            "\n",
            "[2 6] \n",
            "\n",
            "[1. 2.]\n"
          ]
        }
      ]
    },
    {
      "cell_type": "code",
      "source": [
        "p @ T @ np.linalg.inv(T)"
      ],
      "metadata": {
        "colab": {
          "base_uri": "https://localhost:8080/"
        },
        "id": "qtQLyLx7RMSs",
        "outputId": "e4c044b7-7ac8-4aa3-f898-a6bb317e07ee"
      },
      "execution_count": 30,
      "outputs": [
        {
          "output_type": "execute_result",
          "data": {
            "text/plain": [
              "array([1., 2.])"
            ]
          },
          "metadata": {},
          "execution_count": 30
        }
      ]
    },
    {
      "cell_type": "code",
      "source": [],
      "metadata": {
        "id": "mKm48uBARa04"
      },
      "execution_count": null,
      "outputs": []
    }
  ]
}