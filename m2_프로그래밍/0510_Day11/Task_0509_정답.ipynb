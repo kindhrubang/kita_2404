{
  "nbformat": 4,
  "nbformat_minor": 0,
  "metadata": {
    "colab": {
      "provenance": [],
      "toc_visible": true
    },
    "kernelspec": {
      "name": "python3",
      "display_name": "Python 3"
    },
    "language_info": {
      "name": "python"
    }
  },
  "cells": [
    {
      "cell_type": "code",
      "source": [
        "with open('mydata.txt','w') as f:\n",
        "    f.write(\n",
        "'''\n",
        "a lot of things occur each day\n",
        "we've got to live with on our way\n",
        "there's so much misery on the screen\n",
        "with commercials in between\n",
        "\n",
        "and the russians won't be so late\n",
        "uncle sam don't want to wait\n",
        "no matter if you're black or white\n",
        "you never ever had a right\n",
        "\n",
        "and look up to the eternal skies\n",
        "see warfare even there\n",
        "what once has been a paradise\n",
        "now destruction and despair\n",
        "\n",
        "in other worlds the children die\n",
        "lacking food ill from a fly\n",
        "oppressed by troops to tame their land\n",
        "it's all the same again\n",
        "\n",
        "\n",
        "if any man is free on earth\n",
        "then tormentors steal his birth\n",
        "they slam gun butts in his face\n",
        "and leave his woman choked in mace\n",
        "\n",
        "so stand up for our human rights\n",
        "push back this pest of hate\n",
        "raise you voice pass on the light\n",
        "unite! it's not too late\n",
        "\n",
        "how many tears flow away\n",
        "to become a sea of fears\n",
        "how many hearts are torn apart\n",
        "till another torment starts\n",
        "\n",
        "but before the world\n",
        "turns into a sun\n",
        "all cruelty and violence\n",
        "on earth will be dead and gone\n",
        "\n",
        "so stand up for our human rights\n",
        "push back this pest of hate\n",
        "raise you voice pass on the light\n",
        "unite! it's not too late\n",
        "''')\n",
        "with open('mydata.txt', 'r') as f:\n",
        "    data = f.read()\n",
        "    print(data)"
      ],
      "metadata": {
        "id": "2RJdbRm8UqIC"
      },
      "execution_count": null,
      "outputs": []
    },
    {
      "cell_type": "code",
      "source": [
        "import re\n",
        "with open('mydata.txt','r') as f:\n",
        "    text = f.read()\n",
        "char_list = re.sub(r'[ ,.!\\n\\']', '' ,text)\n",
        "word_list = re.sub(r'[,.!\\n\\']', '',text).lower().split()\n",
        "\n",
        "print(len(text))\n",
        "print(len(char_list))\n",
        "print(len(word_list))"
      ],
      "metadata": {
        "colab": {
          "base_uri": "https://localhost:8080/"
        },
        "id": "o0O-IwX72mA5",
        "outputId": "b9b21508-16ac-4f88-92fb-2b1606cf38c9"
      },
      "execution_count": 2,
      "outputs": [
        {
          "output_type": "stream",
          "name": "stdout",
          "text": [
            "1073\n",
            "840\n",
            "178\n"
          ]
        }
      ]
    },
    {
      "cell_type": "code",
      "source": [
        "txt = '''unite! itls not\n",
        "too late\n",
        "'''\n",
        "\n",
        "char_list = re.sub(r'[, .i!\\n\\']', '', txt)\n",
        "print(char_list, len(char_list))"
      ],
      "metadata": {
        "colab": {
          "base_uri": "https://localhost:8080/"
        },
        "id": "dGrxZ-Fp4K1f",
        "outputId": "471f6739-3346-48f6-8ec8-271ec7a3752f"
      },
      "execution_count": 8,
      "outputs": [
        {
          "output_type": "stream",
          "name": "stdout",
          "text": [
            "untetlsnottoolate 17\n"
          ]
        }
      ]
    },
    {
      "cell_type": "markdown",
      "source": [
        "Task1_0509. 주어진 텍스트에서 문자 빈도를 아래와 같이 출력하세요.(사용자 함수 사용)\n",
        "\n",
        "가장 많이 나온 문자 5개를 뽑아 봤습니다.\\\n",
        "[e] -> [97]회 나타남\\\n",
        "[t] -> [85]회 나타남\\\n",
        "[a] -> [78]회 나타남\\\n",
        "[o] -> [73]회 나타남\\\n",
        "[s] -> [60]회 나타남"
      ],
      "metadata": {
        "id": "sq4n09Pfafzk"
      }
    },
    {
      "cell_type": "code",
      "execution_count": null,
      "metadata": {
        "colab": {
          "base_uri": "https://localhost:8080/"
        },
        "id": "IYjhhIZgab_l",
        "outputId": "799a7582-a908-4e24-d7a2-7ff3d83bcbe0"
      },
      "outputs": [
        {
          "output_type": "stream",
          "name": "stdout",
          "text": [
            "가장 많이 나온 문자 5개를 뽑아 봤습니다.\n",
            "[e]=>[97]회 나타남\n",
            "[t]=>[85]회 나타남\n",
            "[a]=>[78]회 나타남\n",
            "[o]=>[73]회 나타남\n",
            "[n]=>[60]회 나타남\n"
          ]
        }
      ],
      "source": [
        "def text_frequency(filename):\n",
        "    with open(filename, 'r') as f:\n",
        "        data = f.read()\n",
        "    words_list = data\n",
        "    words_list = data.replace('.', '').replace('\\'', '').replace('?', '').replace('\\n', '').replace('!', '').replace(\" \" , '').lower().split()\n",
        "    save = words_list[0]\n",
        "    rsave = list(save)\n",
        "    output = {}\n",
        "    for i in rsave:\n",
        "        if i in output:\n",
        "            output[i] += 1\n",
        "        else:\n",
        "            output[i] = 1\n",
        "\n",
        "    st_output = sorted(output.items(), key = lambda x : x[1],reverse = True)\n",
        "    print('가장 많이 나온 문자 5개를 뽑아 봤습니다.')\n",
        "    for i in range(5):\n",
        "        a,b=st_output[i]\n",
        "        print(f'[{a}]=>[{b}]회 나타남')\n",
        "\n",
        "\n",
        "text_frequency('mydata.txt')"
      ]
    },
    {
      "cell_type": "code",
      "source": [
        "!ls"
      ],
      "metadata": {
        "colab": {
          "base_uri": "https://localhost:8080/"
        },
        "id": "1hw1rN1AaieK",
        "outputId": "cbbb340e-651c-4ec8-c83f-29415bc2d6b1"
      },
      "execution_count": null,
      "outputs": [
        {
          "output_type": "stream",
          "name": "stdout",
          "text": [
            "mydata.txt  sample_data\n"
          ]
        }
      ]
    },
    {
      "cell_type": "markdown",
      "source": [
        "Task2_0509.  람다함수와 적합한 내장함수를 사용하여 아래와 같이 출력하세요.\n",
        "\n",
        "[1,2,3,4,5] -> [1,4,9,16,25]\\\n",
        "[1,2,3,4,5] -> [1,2]"
      ],
      "metadata": {
        "id": "jxYO4odnzCgV"
      }
    },
    {
      "cell_type": "code",
      "source": [
        "l1 =[1,2,3,4,5]\n",
        "db = lambda x: x*x\n",
        "output= list(map(db, l1))\n",
        "print(output)\n",
        "\n",
        "\n",
        "l2 =[1,2,3,4,5]\n",
        "db = lambda x: x<3\n",
        "output= list(filter(db, l2))\n",
        "print(output)"
      ],
      "metadata": {
        "colab": {
          "base_uri": "https://localhost:8080/"
        },
        "id": "b1lckT5NzEUF",
        "outputId": "660af85a-bf82-4c27-ea46-8565fb3cf864"
      },
      "execution_count": null,
      "outputs": [
        {
          "output_type": "stream",
          "name": "stdout",
          "text": [
            "[1, 4, 9, 16, 25]\n",
            "[1, 2]\n"
          ]
        }
      ]
    },
    {
      "cell_type": "markdown",
      "source": [
        "Task3_0509. [1,-3,2,0,-5,6] 에서 양수만 필터링해서 출력하세요(내장함수, 사용자함수 각각 이용)"
      ],
      "metadata": {
        "id": "F0UrXvHPzEvb"
      }
    },
    {
      "cell_type": "code",
      "source": [
        "def filtering(l1):\n",
        "    zover = []\n",
        "    for i in l1:\n",
        "        if i >0:\n",
        "            zover.append(i)\n",
        "\n",
        "    print(zover)\n",
        "\n",
        "l1 =  [1,-3,2,0,-5,6]\n",
        "\n",
        "filtering(l1)\n",
        "\n"
      ],
      "metadata": {
        "colab": {
          "base_uri": "https://localhost:8080/"
        },
        "id": "jPubGOWvzFkD",
        "outputId": "e564e5d7-5ddf-46f5-fdd4-42ea79e2aef9"
      },
      "execution_count": null,
      "outputs": [
        {
          "output_type": "stream",
          "name": "stdout",
          "text": [
            "[1, 2, 6]\n"
          ]
        }
      ]
    },
    {
      "cell_type": "markdown",
      "source": [
        "Task4_0509. **args를 이용하여 아래와 같이 출력할 수 있는 사용자 함수 func2를 작성하세요.\n",
        "\n",
        "Width: 100\\\n",
        "Height: 200\\\n",
        "Other arguments: {'color': 'red', 'thickness': 5}\n",
        "\n",
        "Width: 100\\\n",
        "Height: 200\\\n",
        "Other arguments: {'color': 'red', 'thickness': 5, 'type': 'large'}"
      ],
      "metadata": {
        "id": "lEgoSL6e7-CA"
      }
    },
    {
      "cell_type": "code",
      "source": [
        "def func2(Width, Height, **args):\n",
        "    print(f'Width: {Width}')\n",
        "    print(f'Height: {Height}')\n",
        "    print(f'Other arguments: {args}')\n",
        "\n",
        "func2(100,200,color='red', thickness= 5)\n",
        "print()\n",
        "func2(100,200,color='red', thickness= 5, type= 'large')\n"
      ],
      "metadata": {
        "colab": {
          "base_uri": "https://localhost:8080/"
        },
        "id": "w8QAMRLG7-bt",
        "outputId": "d957e4df-4a8d-41b9-9b81-21d984e12905"
      },
      "execution_count": null,
      "outputs": [
        {
          "output_type": "stream",
          "name": "stdout",
          "text": [
            "Width: 100\n",
            "Height: 200\n",
            "Other arguments: {'color': 'red', 'thickness': 5}\n",
            "\n",
            "Width: 100\n",
            "Height: 200\n",
            "Other arguments: {'color': 'red', 'thickness': 5, 'type': 'large'}\n"
          ]
        }
      ]
    },
    {
      "cell_type": "markdown",
      "source": [
        "Task5_0509. 아래와 같은 결과를 얻을 수 있도록 사용자 함수 func3를 작성하세요.\n",
        "\n",
        "Width: 100, Height: 200, Color: blue, Thickness: 1\\\n",
        "Width: 100, Height: 200, Color: red, Thickness: 15"
      ],
      "metadata": {
        "id": "uf1EuHDx7_qx"
      }
    },
    {
      "cell_type": "code",
      "source": [
        "def func3(**args):\n",
        "    for a in args:\n",
        "        print(f'{a}:{args[a]}' , end = ',')\n",
        "\n",
        "func3(Width=100,Height=200,Color='blue', Thickness=1)\n",
        "print()\n",
        "func3(Width=100,Height=200,Color='red', Thickness=15)"
      ],
      "metadata": {
        "colab": {
          "base_uri": "https://localhost:8080/"
        },
        "id": "O9fJE9i27__y",
        "outputId": "625c9da4-f578-4038-fb11-1d6e8a17c632"
      },
      "execution_count": null,
      "outputs": [
        {
          "output_type": "stream",
          "name": "stdout",
          "text": [
            "Width:100,Height:200,Color:blue,Thickness:1,\n",
            "Width:100,Height:200,Color:red,Thickness:15,"
          ]
        }
      ]
    },
    {
      "cell_type": "markdown",
      "source": [
        "Task6_0509. 입력으로 들어오는 모든 수의 평균 값을 계산해 주는 함수를 작성한 후 1,2,3을 입력한 결과를 출력하세요."
      ],
      "metadata": {
        "id": "kan0ei1t8Aqt"
      }
    },
    {
      "cell_type": "code",
      "source": [
        "def avg(*args):\n",
        "    sum = 0\n",
        "    for i in args:\n",
        "        sum += i\n",
        "    return sum / len(args)\n",
        "\n",
        "print(avg(1,2,3))"
      ],
      "metadata": {
        "colab": {
          "base_uri": "https://localhost:8080/"
        },
        "id": "GdpR6fPM-oLf",
        "outputId": "466a8203-6124-4b87-ab25-fd7fdb5f0ea3"
      },
      "execution_count": 10,
      "outputs": [
        {
          "output_type": "stream",
          "name": "stdout",
          "text": [
            "2.0\n"
          ]
        }
      ]
    },
    {
      "cell_type": "code",
      "source": [
        "#예시\n",
        "def avg(*args):\n",
        "    return sum(args) / len(args)\n",
        "\n",
        "print(avg(1,2,3))"
      ],
      "metadata": {
        "colab": {
          "base_uri": "https://localhost:8080/"
        },
        "id": "fsyjCta18A6C",
        "outputId": "f2e133c2-d623-4b93-c1ac-5b52f3432eec"
      },
      "execution_count": 9,
      "outputs": [
        {
          "output_type": "stream",
          "name": "stdout",
          "text": [
            "2.0\n"
          ]
        }
      ]
    },
    {
      "cell_type": "markdown",
      "source": [
        "Task7_0509. 원의 면적과 둘레의 길이를 구하는 사용자 함수를 작성하여 반지름이 5와 10일때 면적과 둘레를 구하세요(반올림:round())"
      ],
      "metadata": {
        "id": "-Ylxeatl-rAr"
      }
    },
    {
      "cell_type": "code",
      "source": [
        "def src(ardius):\n",
        "    area = (ardius **2) * 3.141592\n",
        "    cir = 2*ardius*3.141592\n",
        "    print(f'반지름이{ardius}인 원의 면적은 : {area} 둘레는 : {cir: 0.2f}')\n",
        "\n",
        "src(5)\n",
        "src(10)"
      ],
      "metadata": {
        "colab": {
          "base_uri": "https://localhost:8080/"
        },
        "id": "8XpZqu4i-rXt",
        "outputId": "af5277db-11b0-445d-b8cd-23c3a716c5e1"
      },
      "execution_count": 12,
      "outputs": [
        {
          "output_type": "stream",
          "name": "stdout",
          "text": [
            "반지름이5인 원의 면적은 : 78.5398 둘레는 :  31.42\n",
            "반지름이10인 원의 면적은 : 314.1592 둘레는 :  62.83\n"
          ]
        }
      ]
    },
    {
      "cell_type": "code",
      "source": [
        "#예시\n",
        "import math\n",
        "def area_circumference(r):\n",
        "    area = math.pi*r*r\n",
        "    circumference = 2*math.pi*r\n",
        "    print(f\"면적: {round(area,2)}, 둘레: {round(circumference,2)}\")\n",
        "\n",
        "area_circumference(5)\n",
        "area_circumference(10)"
      ],
      "metadata": {
        "colab": {
          "base_uri": "https://localhost:8080/"
        },
        "id": "wDQWsiBFBIaI",
        "outputId": "fe952906-99f1-40c3-ba90-b442af217e9c"
      },
      "execution_count": 11,
      "outputs": [
        {
          "output_type": "stream",
          "name": "stdout",
          "text": [
            "면적: 78.54, 둘레: 31.42\n",
            "면적: 314.16, 둘레: 62.83\n"
          ]
        }
      ]
    },
    {
      "cell_type": "markdown",
      "source": [
        "Task8_0509. 게시물의 총 건수와 한 페이지에 보여 줄 게시물 수를 입력시 총 페이지 수를 출력하는 프로그램을 작성하세요."
      ],
      "metadata": {
        "id": "Lg1kcmEN-sG2"
      }
    },
    {
      "cell_type": "code",
      "source": [
        "page = lambda a,b: a*b\n",
        "total = int(input('게시물의 총 건수는? >>'))\n",
        "op = int(input('한 페이지에 보여줄 게시물의 수는? >>'))\n",
        "print(f'총 페이지 수는{page(total,op)}')"
      ],
      "metadata": {
        "colab": {
          "base_uri": "https://localhost:8080/"
        },
        "id": "hM_uQTyH-sXN",
        "outputId": "09684354-fd02-45ee-e5b3-e944bdf13a95"
      },
      "execution_count": null,
      "outputs": [
        {
          "output_type": "stream",
          "name": "stdout",
          "text": [
            "게시물의 총 건수는? >>5\n",
            "한 페이지에 보여줄 게시물의 수는? >>20\n",
            "총 페이지 수는100\n"
          ]
        }
      ]
    },
    {
      "cell_type": "code",
      "source": [
        "#예시\n",
        "import math\n",
        "total = int(input('게시물의 총 건수는? >>'))\n",
        "show = int(input('한 페이지에 보여줄 게시물의 수는? >>'))\n",
        "result = math.ceil(total/show)\n",
        "print(f'총페이지수는 {result} 입니다.')"
      ],
      "metadata": {
        "colab": {
          "base_uri": "https://localhost:8080/"
        },
        "id": "mpHlTzLSCCBX",
        "outputId": "9a7f9797-ac36-4ce7-baf5-755a7f372b50"
      },
      "execution_count": 13,
      "outputs": [
        {
          "output_type": "stream",
          "name": "stdout",
          "text": [
            "게시물의 총 건수는? >>500\n",
            "한 페이지에 보여줄 게시물의 수는? >>12\n",
            "총페이지수는 42 입니다.\n"
          ]
        }
      ]
    },
    {
      "cell_type": "markdown",
      "source": [
        "Task9_0509. 위의 문제를 *args를 사용한 사용자 함수 bignum을 작성하여 bignum(20,1,30)과 bignum(20,10,50,70, 100)의 결과를 출력하세요."
      ],
      "metadata": {
        "id": "TrYLfvxd_Opn"
      }
    },
    {
      "cell_type": "code",
      "source": [
        "def bignum(*args):\n",
        "    save = 0\n",
        "    for i in args:\n",
        "        if i > save:\n",
        "            save= i\n",
        "        else:\n",
        "            continue\n",
        "    print(f'큰수 is {save}')\n",
        "\n",
        "bignum(20,1,30)\n",
        "bignum(20,10,50,70, 100)"
      ],
      "metadata": {
        "colab": {
          "base_uri": "https://localhost:8080/"
        },
        "id": "omiWxKrI_PGr",
        "outputId": "3a696702-a164-4597-d67f-10933bb39d28"
      },
      "execution_count": null,
      "outputs": [
        {
          "output_type": "stream",
          "name": "stdout",
          "text": [
            "큰수 is 30\n",
            "큰수 is 100\n"
          ]
        }
      ]
    },
    {
      "cell_type": "code",
      "source": [
        "def bignum(*args):\n",
        "    return max(args)\n",
        "\n",
        "print(bignum(5,4,8,7,5,505,95,77,89))\n",
        "print(bignum(5,4,8,7,5,50,95,77,89))"
      ],
      "metadata": {
        "colab": {
          "base_uri": "https://localhost:8080/"
        },
        "id": "me46Cg6bC9Si",
        "outputId": "c747e6c8-8c79-4b56-f69a-a65b1dabeaa8"
      },
      "execution_count": 14,
      "outputs": [
        {
          "output_type": "stream",
          "name": "stdout",
          "text": [
            "505\n",
            "95\n"
          ]
        }
      ]
    },
    {
      "cell_type": "markdown",
      "source": [
        "Task10_0509. 위의 계산을 연산자를 choice로 가변적인 숫자들을 *args로 사용한 사용자 함수 cal을 이용하여 다음을 수행하세요.\n",
        "\n",
        "cal('*',1,2,3,4,5)\n",
        "\n",
        "cal('+',1,2,3,4,5,6,7)\n",
        "\n",
        "cal('-', 1,2,3,4,5,6)\n",
        "\n",
        "cal('/' 10,4,5) = 0예외처리할것"
      ],
      "metadata": {
        "id": "q7HYGcZTBpb0"
      }
    },
    {
      "cell_type": "code",
      "source": [
        "def cal(choice, *args):\n",
        "\n",
        "    if choice == '*':\n",
        "        save = 1\n",
        "        for i in args:\n",
        "            save *= i\n",
        "        print(save)\n",
        "\n",
        "    elif choice == '+':\n",
        "        save = 0\n",
        "        for i in args:\n",
        "            save += i\n",
        "        print(save)\n",
        "    elif choice == '-':\n",
        "        save = 0\n",
        "        for i in args:\n",
        "            save -= i\n",
        "        print(save)\n",
        "    elif choice == '/':\n",
        "        try:\n",
        "            save = 1\n",
        "            for i in args:\n",
        "                save /= i\n",
        "            print(save)\n",
        "        except ZeroDivisionError:\n",
        "            print(\"0으로 나누기 금지!\")\n",
        "    else:\n",
        "        print('올바른 값을 입력해주세용')\n",
        "\n",
        "cal('*',1,2,3,4,5)\n",
        "\n",
        "cal('+',1,2,3,4,5,6,7)\n",
        "\n",
        "cal('-', 1,2,3,4,5,6)\n",
        "\n",
        "cal('/', 10,4,0)"
      ],
      "metadata": {
        "colab": {
          "base_uri": "https://localhost:8080/"
        },
        "id": "dTtKCy8P_fXm",
        "outputId": "ee22dd13-71d1-49d3-f94a-42cc832a42cc"
      },
      "execution_count": null,
      "outputs": [
        {
          "output_type": "stream",
          "name": "stdout",
          "text": [
            "120\n",
            "28\n",
            "-21\n",
            "0으로 나누기 금지!\n"
          ]
        }
      ]
    },
    {
      "cell_type": "code",
      "source": [
        "def cal(choice, *args):\n",
        "    result = args[0]\n",
        "    for i in args[1:]:\n",
        "        if choice == '*':\n",
        "            result *= i\n",
        "        elif choice == '+':\n",
        "            result += i\n",
        "        elif choice == '-':\n",
        "            result -= i\n",
        "        elif choice == '/':\n",
        "            try:\n",
        "                result /= i\n",
        "            except ZeroDivisionError:\n",
        "                print(\"0으로 나누기 금지!\")\n",
        "                return\n",
        "        else:\n",
        "            print('올바른 값을 입력해주세용')\n",
        "    print(result)\n",
        "\n",
        "cal('*',1,2,3,4,5)\n",
        "\n",
        "cal('+',1,2,3,4,5,6,7)\n",
        "\n",
        "cal('-', 1,2,3,4,5,6)\n",
        "\n",
        "cal('/', 10,4,0)"
      ],
      "metadata": {
        "id": "5MdCAeEiMunS",
        "colab": {
          "base_uri": "https://localhost:8080/"
        },
        "outputId": "f0926ee5-8836-45ea-e8cd-3dbe14164861"
      },
      "execution_count": 19,
      "outputs": [
        {
          "output_type": "stream",
          "name": "stdout",
          "text": [
            "120\n",
            "28\n",
            "-19\n",
            "0으로 나누기 금지!\n"
          ]
        }
      ]
    },
    {
      "cell_type": "code",
      "source": [],
      "metadata": {
        "id": "4mjeZIeEEPwg"
      },
      "execution_count": null,
      "outputs": []
    }
  ]
}