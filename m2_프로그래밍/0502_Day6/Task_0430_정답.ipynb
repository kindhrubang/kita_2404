{
  "nbformat": 4,
  "nbformat_minor": 0,
  "metadata": {
    "colab": {
      "provenance": []
    },
    "kernelspec": {
      "name": "python3",
      "display_name": "Python 3"
    },
    "language_info": {
      "name": "python"
    }
  },
  "cells": [
    {
      "cell_type": "markdown",
      "source": [
        "Task1_0430. 남녀 파트너 정해주기 프로그램(zip)\n",
        "\n",
        "같은 수의 남녀 모임에서 파트너를 랜덤하게 정해주는 프로그램을 만들어 보세요\n",
        "\n",
        "male = ['철수','갑돌','로미오','이몽룡','온돌']\n",
        "\n",
        "female = ['미미','갑순','줄리엣','성춘향','평강']"
      ],
      "metadata": {
        "id": "bsINM46Bwr-H"
      }
    },
    {
      "cell_type": "code",
      "execution_count": 3,
      "metadata": {
        "colab": {
          "base_uri": "https://localhost:8080/"
        },
        "id": "Vbnwa4ptwl8-",
        "outputId": "84f1e0ea-b02b-401d-e540-93538b7fbe4c"
      },
      "outputs": [
        {
          "output_type": "stream",
          "name": "stdout",
          "text": [
            "남자: 갑돌 , 여자: 성춘향 짝궁입니다\n",
            "남자: 로미오 , 여자: 미미 짝궁입니다\n",
            "남자: 온돌 , 여자: 갑순 짝궁입니다\n",
            "남자: 철수 , 여자: 줄리엣 짝궁입니다\n",
            "남자: 이몽룡 , 여자: 평강 짝궁입니다\n"
          ]
        }
      ],
      "source": [
        "from random import shuffle as sf\n",
        "\n",
        "male = ['철수','갑돌','로미오','이몽룡','온돌']\n",
        "\n",
        "female = ['미미','갑순','줄리엣','성춘향','평강']\n",
        "\n",
        "sf(male)\n",
        "sf(female)\n",
        "\n",
        "couple = zip(male, female)\n",
        "\n",
        "for ma, fe in couple:\n",
        "    print(f'남자: {ma} , 여자: {fe} 짝궁입니다')"
      ]
    },
    {
      "cell_type": "code",
      "source": [
        "#예시 (enumerate사용하여 index값을 같이 뽑음)\n",
        "male = ['철수','갑돌','로미오','이몽룡','온돌']\n",
        "\n",
        "female = ['미미','갑순','줄리엣','성춘향','평강']\n",
        "\n",
        "sf(male)\n",
        "sf(female)\n",
        "\n",
        "couples = zip(male, female)\n",
        "couples = list(couples)\n",
        "for i, couple in enumerate(couples):\n",
        "    print(f'커플{i +1}: {couple[0]}, {couple[1]} ')"
      ],
      "metadata": {
        "colab": {
          "base_uri": "https://localhost:8080/"
        },
        "id": "zZ6a9DIAtRl7",
        "outputId": "de684b01-569a-4447-cca6-c7567a38c908"
      },
      "execution_count": 6,
      "outputs": [
        {
          "output_type": "stream",
          "name": "stdout",
          "text": [
            "커플1: 로미오, 평강 \n",
            "커플2: 철수, 미미 \n",
            "커플3: 갑돌, 갑순 \n",
            "커플4: 온돌, 성춘향 \n",
            "커플5: 이몽룡, 줄리엣 \n"
          ]
        }
      ]
    },
    {
      "cell_type": "code",
      "source": [
        "male = ['철수','갑돌','로미오','이몽룡','온돌']\n",
        "\n",
        "female = ['미미','갑순','줄리엣','성춘향','평강']\n",
        "\n",
        "sf(male)\n",
        "sf(female)\n",
        "\n",
        "couples = zip(male, female)\n",
        "print(couples)\n",
        "print(list(couples))\n"
      ],
      "metadata": {
        "colab": {
          "base_uri": "https://localhost:8080/"
        },
        "id": "AXAL1nbFv-NO",
        "outputId": "35b64f63-7f5f-4c41-b5c0-0ed2b6f32751"
      },
      "execution_count": 7,
      "outputs": [
        {
          "output_type": "stream",
          "name": "stdout",
          "text": [
            "<zip object at 0x7da92b595e00>\n",
            "[('이몽룡', '미미'), ('온돌', '갑순'), ('갑돌', '성춘향'), ('철수', '줄리엣'), ('로미오', '평강')]\n"
          ]
        }
      ]
    },
    {
      "cell_type": "markdown",
      "source": [
        "zip 함수는 이터레이터를 반환하고 이 이터레이터를 단 한 번만 소비할 수 있음. list() 함수를 사용하여 이터레이터의 모든 원소를 한 번에 소비해 버리면, 그 결과는 빈 이터레이터가 되기 때문에 리스로 다시 저장후 사용해야함"
      ],
      "metadata": {
        "id": "kEhih56y31qq"
      }
    },
    {
      "cell_type": "code",
      "source": [
        "male = ['철수','갑돌','로미오','이몽룡','온돌']\n",
        "female = ['미미','갑순','줄리엣','성춘향','평강']\n",
        "\n",
        "sf(male)\n",
        "print(male)\n",
        "sf(female)\n",
        "print(female)\n",
        "\n",
        "couples = list(zip(male, female))\n",
        "print(couples)\n",
        "list(couples)\n",
        "for i, couple in enumerate(couples):\n",
        "    print(f'커플{i +1}: {couple[0]}, {couple[1]} ')"
      ],
      "metadata": {
        "colab": {
          "base_uri": "https://localhost:8080/"
        },
        "id": "i1ZikSVWwKNP",
        "outputId": "8618b7eb-d98a-4147-c6d7-7e77d29999a4"
      },
      "execution_count": 79,
      "outputs": [
        {
          "output_type": "stream",
          "name": "stdout",
          "text": [
            "['이몽룡', '온돌', '갑돌', '로미오', '철수']\n",
            "['미미', '평강', '성춘향', '줄리엣', '갑순']\n",
            "[('이몽룡', '미미'), ('온돌', '평강'), ('갑돌', '성춘향'), ('로미오', '줄리엣'), ('철수', '갑순')]\n",
            "커플1: 이몽룡, 미미 \n",
            "커플2: 온돌, 평강 \n",
            "커플3: 갑돌, 성춘향 \n",
            "커플4: 로미오, 줄리엣 \n",
            "커플5: 철수, 갑순 \n"
          ]
        }
      ]
    },
    {
      "cell_type": "markdown",
      "source": [
        "Task2_0430. 대문자, 소문자, 숫자를 포함하는 8자리 랜덤 비밀번호를 생성하는 프로그램을 작성하세요."
      ],
      "metadata": {
        "id": "15eEPZWywsXn"
      }
    },
    {
      "cell_type": "code",
      "source": [
        "import random as rd\n",
        "\n",
        "print('<랜덤 비밀번호 생성기>')\n",
        "aList =[chr(i) for i in range(97,123)]\n",
        "AList =[chr(i) for i in range(65,91)]\n",
        "num = ['1','2','3','4','5','6','7','8','9']\n",
        "save_point = aList+AList+num\n",
        "sit = rd.sample(save_point, 8)\n",
        "output =''\n",
        "for i in sit:\n",
        "    output =output + i\n",
        "print(f'추천 비밀 번호는 : {output}')"
      ],
      "metadata": {
        "colab": {
          "base_uri": "https://localhost:8080/"
        },
        "id": "tAWJ-Ay9KOM3",
        "outputId": "f70477b0-602f-4b3f-854d-b8e63039a992"
      },
      "execution_count": 68,
      "outputs": [
        {
          "output_type": "stream",
          "name": "stdout",
          "text": [
            "<랜덤 비밀번호 생성기>\n",
            "추천 비밀 번호는 : pkRq7oQd\n"
          ]
        }
      ]
    },
    {
      "cell_type": "code",
      "source": [
        "#예시\n",
        "import string\n",
        "import random#문자열 상수를 제공하는 모듈로, 여기서는 알파벳 문자와 숫자를 포함\n",
        "\n",
        "characters = string.ascii_letters + string.digits\n",
        "password = ''.join(random.choice(characters)for i in range(8))\n",
        "\n",
        "print('렌덤 비밀번호: ',password)"
      ],
      "metadata": {
        "colab": {
          "base_uri": "https://localhost:8080/"
        },
        "id": "Kt36JHJ5ukkf",
        "outputId": "20a596fe-c7df-49bb-bc5f-5c6edf8997ac"
      },
      "execution_count": 70,
      "outputs": [
        {
          "output_type": "stream",
          "name": "stdout",
          "text": [
            "렌덤 비밀번호:  uRZ4zDtx\n"
          ]
        }
      ]
    },
    {
      "cell_type": "code",
      "source": [
        "#예시\n",
        "import string\n",
        "import random#문자열 상수를 제공하는 모듈로, 여기서는 알파벳 문자와 숫자를 포함\n",
        "\n",
        "upper = random.choice(string.ascii_uppercase)\n",
        "lower = random.choice(string.ascii_lowercase)\n",
        "digit = random.choice(string.digits)\n",
        "\n",
        "characters = string.ascii_letters + string.digits\n",
        "rest = ''.join(random.choice(characters) for i in range(5))\n",
        "\n",
        "password = upper + lower + digit + rest\n",
        "\n",
        "password = ''.join(random.sample(password, len(password)))\n",
        "\n",
        "print('렌덤 비밀번호: ',password)"
      ],
      "metadata": {
        "colab": {
          "base_uri": "https://localhost:8080/"
        },
        "id": "ozvPK1F50kHb",
        "outputId": "b30dc4c7-7636-46c9-a723-bd7bf21319fe"
      },
      "execution_count": 71,
      "outputs": [
        {
          "output_type": "stream",
          "name": "stdout",
          "text": [
            "렌덤 비밀번호:  YWeFg4br\n"
          ]
        }
      ]
    },
    {
      "cell_type": "markdown",
      "source": [
        "Task3_0430. 발표자 수를 랜덤하게 출력하는 프로그램을 작성하세요.(발표자 수 입력)\n",
        "\n",
        "kita = ['김성현','황강민','윤호준','류윤선','이상협','박지환','최환욱','서보선','김한결','김도현','김하준',\n",
        "        '김도원','신현진','소지승','이범석','이현석','이명신','박윤경','이도헌','김홍준']"
      ],
      "metadata": {
        "id": "DaJ8BloHws61"
      }
    },
    {
      "cell_type": "code",
      "source": [
        "from random import sample as sp\n",
        "kita = ['김성현','황강민','윤호준','류윤선','이상협','박지환','최환욱','서보선','김한결','김도현','김하준', '김도원','신현진','소지승','이범석','이현석','이명신','박윤경','이도헌','김홍준']\n",
        "while True:\n",
        "    try:\n",
        "        choice = int(input('뽑을 인원을 입력하세요: '))\n",
        "        break\n",
        "    except ValueError:\n",
        "        print('정수를 입력하세요')\n",
        "\n",
        "print(sp(kita, choice), '당첨!')\n"
      ],
      "metadata": {
        "colab": {
          "base_uri": "https://localhost:8080/"
        },
        "id": "wvP_zz0FwtNY",
        "outputId": "d9821312-88df-40fe-e91a-bed67a0e5e43"
      },
      "execution_count": null,
      "outputs": [
        {
          "output_type": "stream",
          "name": "stdout",
          "text": [
            "뽑을 인원을 입력하세요: 3\n",
            "['박윤경', '황강민', '윤호준'] 당첨!\n"
          ]
        }
      ]
    },
    {
      "cell_type": "markdown",
      "source": [
        "Task4_0430. 사용자로부터 숫자를 입력받아 해당 숫자의 구구단을 출력하는 프로그램을 작성하세요."
      ],
      "metadata": {
        "id": "gmYF1UNgwtZf"
      }
    },
    {
      "cell_type": "code",
      "source": [
        "while True:\n",
        "    try:\n",
        "        num = int(input('1에서 9사이의 정수를 입력하세요: '))\n",
        "        if num>=10:\n",
        "            print(\"9이하의 숫자만!!!\")\n",
        "            continue\n",
        "\n",
        "        break\n",
        "    except ValueError:\n",
        "        print('정수를 입력하세요')\n",
        "\n",
        "\n",
        "for b in range(1, 10):\n",
        "    print(f'{num}*{b} = {num * b}')"
      ],
      "metadata": {
        "colab": {
          "base_uri": "https://localhost:8080/"
        },
        "id": "PNA9_dkXwtut",
        "outputId": "1ec681dc-b7c7-4274-cd3c-4d607e0ba636"
      },
      "execution_count": null,
      "outputs": [
        {
          "output_type": "stream",
          "name": "stdout",
          "text": [
            "1에서 9사이의 정수를 입력하세요: 4\n",
            "4*1 = 4\n",
            "4*2 = 8\n",
            "4*3 = 12\n",
            "4*4 = 16\n",
            "4*5 = 20\n",
            "4*6 = 24\n",
            "4*7 = 28\n",
            "4*8 = 32\n",
            "4*9 = 36\n"
          ]
        }
      ]
    },
    {
      "cell_type": "code",
      "source": [
        "for i in range(1, 10):\n",
        "    print(f'\\n<{i}단> ')\n",
        "    for b in range(1, 10):\n",
        "        print(f'{i } * {b} = {i * b}', end = '\\t')"
      ],
      "metadata": {
        "colab": {
          "base_uri": "https://localhost:8080/"
        },
        "id": "W2xinPeQ7AaV",
        "outputId": "1db02f22-d416-4458-c96a-838aec56d41c"
      },
      "execution_count": 97,
      "outputs": [
        {
          "output_type": "stream",
          "name": "stdout",
          "text": [
            "\n",
            "<1단> \n",
            "1 * 1 = 1\t1 * 2 = 2\t1 * 3 = 3\t1 * 4 = 4\t1 * 5 = 5\t1 * 6 = 6\t1 * 7 = 7\t1 * 8 = 8\t1 * 9 = 9\t\n",
            "<2단> \n",
            "2 * 1 = 2\t2 * 2 = 4\t2 * 3 = 6\t2 * 4 = 8\t2 * 5 = 10\t2 * 6 = 12\t2 * 7 = 14\t2 * 8 = 16\t2 * 9 = 18\t\n",
            "<3단> \n",
            "3 * 1 = 3\t3 * 2 = 6\t3 * 3 = 9\t3 * 4 = 12\t3 * 5 = 15\t3 * 6 = 18\t3 * 7 = 21\t3 * 8 = 24\t3 * 9 = 27\t\n",
            "<4단> \n",
            "4 * 1 = 4\t4 * 2 = 8\t4 * 3 = 12\t4 * 4 = 16\t4 * 5 = 20\t4 * 6 = 24\t4 * 7 = 28\t4 * 8 = 32\t4 * 9 = 36\t\n",
            "<5단> \n",
            "5 * 1 = 5\t5 * 2 = 10\t5 * 3 = 15\t5 * 4 = 20\t5 * 5 = 25\t5 * 6 = 30\t5 * 7 = 35\t5 * 8 = 40\t5 * 9 = 45\t\n",
            "<6단> \n",
            "6 * 1 = 6\t6 * 2 = 12\t6 * 3 = 18\t6 * 4 = 24\t6 * 5 = 30\t6 * 6 = 36\t6 * 7 = 42\t6 * 8 = 48\t6 * 9 = 54\t\n",
            "<7단> \n",
            "7 * 1 = 7\t7 * 2 = 14\t7 * 3 = 21\t7 * 4 = 28\t7 * 5 = 35\t7 * 6 = 42\t7 * 7 = 49\t7 * 8 = 56\t7 * 9 = 63\t\n",
            "<8단> \n",
            "8 * 1 = 8\t8 * 2 = 16\t8 * 3 = 24\t8 * 4 = 32\t8 * 5 = 40\t8 * 6 = 48\t8 * 7 = 56\t8 * 8 = 64\t8 * 9 = 72\t\n",
            "<9단> \n",
            "9 * 1 = 9\t9 * 2 = 18\t9 * 3 = 27\t9 * 4 = 36\t9 * 5 = 45\t9 * 6 = 54\t9 * 7 = 63\t9 * 8 = 72\t9 * 9 = 81\t"
          ]
        }
      ]
    },
    {
      "cell_type": "markdown",
      "source": [
        "f-string내에서 {}안에는 변수 뿐만 아니라 Python 표현식도 올 수 있음."
      ],
      "metadata": {
        "id": "q9wdaPchFfah"
      }
    },
    {
      "cell_type": "markdown",
      "source": [
        "표현식(Expression)\n",
        "- 하나 이상의 값, 변수, 연산자, 함수 호출 등을 조합하여 평가(evaluate)될 때 값을 생성하거나 반환하는 코드\n",
        "- 표현식은 계산되어 값이 되는 모든 것을 의미\n",
        "\n",
        "표현식의 예시:\n",
        "- 수치 계산: 2 + 3는 5라는 값을 반환\n",
        "- 문자열 조합: \"Hello \" + \"World\"는 \"Hello World\"라는 문자열을 생성\n",
        "- 논리 연산: x > 5는 x의 값에 따라 True 또는 False를 반환\n",
        "- 함수 호출: sum([1, 2, 3])은 리스트의 합인 6을 반환\n",
        "- 조건식: x if x > 0 else -x는 x가 양수면 x를, 음수면 -x를 반환"
      ],
      "metadata": {
        "id": "PWLD_gLzGid8"
      }
    },
    {
      "cell_type": "code",
      "source": [
        "for i in range(1,10):\n",
        "    print(f'    {i}단     \\t', end = '')\n",
        "print()\n",
        "for i in range(1,10):\n",
        "    print(f'========== \\t', end = '')\n",
        "print()\n",
        "for i in range(1,10):\n",
        "    for b in range(1,10):\n",
        "        print(f'{b} * {i} = {b*i}\\t', end = '')\n",
        "    print()"
      ],
      "metadata": {
        "colab": {
          "base_uri": "https://localhost:8080/"
        },
        "id": "Scgw5mPpCGP3",
        "outputId": "ddda3393-6c23-4ac2-99ec-14b5463fe5cb"
      },
      "execution_count": 117,
      "outputs": [
        {
          "output_type": "stream",
          "name": "stdout",
          "text": [
            "    1단     \t    2단     \t    3단     \t    4단     \t    5단     \t    6단     \t    7단     \t    8단     \t    9단     \t\n",
            "========== \t========== \t========== \t========== \t========== \t========== \t========== \t========== \t========== \t\n",
            "1 * 1 = 1\t2 * 1 = 2\t3 * 1 = 3\t4 * 1 = 4\t5 * 1 = 5\t6 * 1 = 6\t7 * 1 = 7\t8 * 1 = 8\t9 * 1 = 9\t\n",
            "1 * 2 = 2\t2 * 2 = 4\t3 * 2 = 6\t4 * 2 = 8\t5 * 2 = 10\t6 * 2 = 12\t7 * 2 = 14\t8 * 2 = 16\t9 * 2 = 18\t\n",
            "1 * 3 = 3\t2 * 3 = 6\t3 * 3 = 9\t4 * 3 = 12\t5 * 3 = 15\t6 * 3 = 18\t7 * 3 = 21\t8 * 3 = 24\t9 * 3 = 27\t\n",
            "1 * 4 = 4\t2 * 4 = 8\t3 * 4 = 12\t4 * 4 = 16\t5 * 4 = 20\t6 * 4 = 24\t7 * 4 = 28\t8 * 4 = 32\t9 * 4 = 36\t\n",
            "1 * 5 = 5\t2 * 5 = 10\t3 * 5 = 15\t4 * 5 = 20\t5 * 5 = 25\t6 * 5 = 30\t7 * 5 = 35\t8 * 5 = 40\t9 * 5 = 45\t\n",
            "1 * 6 = 6\t2 * 6 = 12\t3 * 6 = 18\t4 * 6 = 24\t5 * 6 = 30\t6 * 6 = 36\t7 * 6 = 42\t8 * 6 = 48\t9 * 6 = 54\t\n",
            "1 * 7 = 7\t2 * 7 = 14\t3 * 7 = 21\t4 * 7 = 28\t5 * 7 = 35\t6 * 7 = 42\t7 * 7 = 49\t8 * 7 = 56\t9 * 7 = 63\t\n",
            "1 * 8 = 8\t2 * 8 = 16\t3 * 8 = 24\t4 * 8 = 32\t5 * 8 = 40\t6 * 8 = 48\t7 * 8 = 56\t8 * 8 = 64\t9 * 8 = 72\t\n",
            "1 * 9 = 9\t2 * 9 = 18\t3 * 9 = 27\t4 * 9 = 36\t5 * 9 = 45\t6 * 9 = 54\t7 * 9 = 63\t8 * 9 = 72\t9 * 9 = 81\t\n"
          ]
        }
      ]
    },
    {
      "cell_type": "markdown",
      "source": [
        "Task5_0430. 사용자로부터 숫자를 입력받아 해당 숫자의 팩토리얼을 계산하세요."
      ],
      "metadata": {
        "id": "LkjmShS2zPdM"
      }
    },
    {
      "cell_type": "code",
      "source": [
        "while True:\n",
        "    try:\n",
        "        num = int(input('정수를 입력하세요: '))\n",
        "        break\n",
        "    except ValueError:\n",
        "        print('정수를 입력하세요')\n",
        "a = 1\n",
        "gob = 1\n",
        "while a<(num+1):\n",
        "    gob = a * gob\n",
        "    a += 1\n",
        "print(f'{num}!의 결과는 : {gob}')"
      ],
      "metadata": {
        "colab": {
          "base_uri": "https://localhost:8080/"
        },
        "id": "mmNeFSlYzQrP",
        "outputId": "059924bd-a889-4cb2-97ff-253668b55227"
      },
      "execution_count": 118,
      "outputs": [
        {
          "output_type": "stream",
          "name": "stdout",
          "text": [
            "정수를 입력하세요: 10\n",
            "10!의 결과는 : 3628800\n"
          ]
        }
      ]
    },
    {
      "cell_type": "markdown",
      "source": [
        "Task6_0430. 0부터 20까지의 숫자 중에서 짝수와 홀수를 분리하여 두 개의 리스트에 저장하세요."
      ],
      "metadata": {
        "id": "lEBipKC7zSzB"
      }
    },
    {
      "cell_type": "code",
      "source": [
        "cp = []\n",
        "so = []\n",
        "\n",
        "for i in range(21):\n",
        "    if i%2==0:\n",
        "        cp.append(i)\n",
        "    else:\n",
        "        so.append(i)\n",
        "print(cp, so)"
      ],
      "metadata": {
        "colab": {
          "base_uri": "https://localhost:8080/"
        },
        "id": "ljW8tUnVzTMH",
        "outputId": "afad3350-761a-4aa6-f10e-a58d52ada741"
      },
      "execution_count": 119,
      "outputs": [
        {
          "output_type": "stream",
          "name": "stdout",
          "text": [
            "[0, 2, 4, 6, 8, 10, 12, 14, 16, 18, 20] [1, 3, 5, 7, 9, 11, 13, 15, 17, 19]\n"
          ]
        }
      ]
    },
    {
      "cell_type": "markdown",
      "source": [
        "Task7_0430. 주어진 리스트에서 최대값을 찾아 출력하세요.\n",
        "\n",
        "numbers = [34,78,2,45,99,23]"
      ],
      "metadata": {
        "id": "AdiCLXgzzUj_"
      }
    },
    {
      "cell_type": "code",
      "source": [
        "numbers = [34,78,2,45,99,23]\n",
        "numbers.sort(reverse = True)\n",
        "print(numbers[0])"
      ],
      "metadata": {
        "colab": {
          "base_uri": "https://localhost:8080/"
        },
        "id": "K_E7brLJzU-K",
        "outputId": "853a9f5c-2955-4692-9120-ad84d58f0e79"
      },
      "execution_count": null,
      "outputs": [
        {
          "output_type": "stream",
          "name": "stdout",
          "text": [
            "99\n"
          ]
        }
      ]
    },
    {
      "cell_type": "code",
      "source": [
        "numbers = [34,78,2,45,99,23]\n",
        "max = 0\n",
        "for i in numbers:\n",
        "    if i>max:\n",
        "        max = i\n",
        "\n",
        "print(max)"
      ],
      "metadata": {
        "colab": {
          "base_uri": "https://localhost:8080/"
        },
        "id": "kdkxYxUZImQx",
        "outputId": "f01ac060-47cd-43d1-93e3-aadec8000acf"
      },
      "execution_count": 120,
      "outputs": [
        {
          "output_type": "stream",
          "name": "stdout",
          "text": [
            "99\n"
          ]
        }
      ]
    },
    {
      "cell_type": "markdown",
      "source": [
        "Task8_0430.  1부터 10 사이의 임의의 숫자를 맞추는 게임을 만드세요. 사용자가 숫자를 맞출 때까지 입력을 계속 받으며, 정답을 맞추면 게임을 종료하세요."
      ],
      "metadata": {
        "id": "NeqbOD7CzW7x"
      }
    },
    {
      "cell_type": "code",
      "source": [
        "import random as rd\n",
        "\n",
        "print('숫자 맞추기 게임에 오신것을\\n\\t환영합니다!!!\\n\\n')\n",
        "\n",
        "target=rd.randint(1,10)\n",
        "print('콤퓨타가 숫자 선택을 완료했습니다\\n')\n",
        "\n",
        "while True:\n",
        "\n",
        "    yes_or_no = ''\n",
        "    while True:\n",
        "        try:\n",
        "            num = int(input('1부터 10사이의 숫자를 골라주세요~: '))\n",
        "            if num not in range(1,11):\n",
        "                print('올바른 값을 입력하세요\\n')\n",
        "                continue\n",
        "            break\n",
        "        except ValueError:\n",
        "            print('정수를 입력하세요\\n')\n",
        "    if num > target:\n",
        "        print(f'{num}보다 작은수입니다!\\n')\n",
        "    elif num < target:\n",
        "        print(f'{num}보다 큰수입니다!\\n')\n",
        "    else:\n",
        "        print('정답입니다~')\n",
        "        yes_or_no = input(\"다시 허실? (y/n) :\")\n",
        "\n",
        "        if yes_or_no == 'y':\n",
        "            target=rd.randint(1,10)\n",
        "            print('콤퓨타가 숫자 선택을 완료했습니다\\n')\n",
        "            continue\n",
        "        else:\n",
        "            break"
      ],
      "metadata": {
        "colab": {
          "base_uri": "https://localhost:8080/"
        },
        "id": "wkItRCUmzXMm",
        "outputId": "6c07b8c7-e909-468a-e3a6-8deac34d4498"
      },
      "execution_count": 130,
      "outputs": [
        {
          "name": "stdout",
          "output_type": "stream",
          "text": [
            "숫자 맞추기 게임에 오신것을\n",
            "\t환영합니다!!!\n",
            "\n",
            "\n",
            "콤퓨타가 숫자 선택을 완료했습니다\n",
            "\n",
            "1부터 10사이의 숫자를 골라주세요~: 9\n",
            "9보다 작은수입니다!\n",
            "\n",
            "1부터 10사이의 숫자를 골라주세요~: 1\n",
            "1보다 큰수입니다!\n",
            "\n",
            "1부터 10사이의 숫자를 골라주세요~: 5\n",
            "정답입니다~\n",
            "다시 허실? (y/n) :y\n",
            "콤퓨타가 숫자 선택을 완료했습니다\n",
            "\n",
            "1부터 10사이의 숫자를 골라주세요~: 9\n",
            "9보다 작은수입니다!\n",
            "\n",
            "1부터 10사이의 숫자를 골라주세요~: 1\n",
            "1보다 큰수입니다!\n",
            "\n",
            "1부터 10사이의 숫자를 골라주세요~: 5\n",
            "5보다 큰수입니다!\n",
            "\n",
            "1부터 10사이의 숫자를 골라주세요~: 8\n",
            "8보다 작은수입니다!\n",
            "\n",
            "1부터 10사이의 숫자를 골라주세요~: 7\n",
            "7보다 작은수입니다!\n",
            "\n",
            "1부터 10사이의 숫자를 골라주세요~: 6\n",
            "정답입니다~\n",
            "다시 허실? (y/n) :n\n"
          ]
        }
      ]
    },
    {
      "cell_type": "markdown",
      "source": [
        "Task9_0430. 태어난 연도를 입력받아 띠를 출력하는 프로그램을 작성하세요"
      ],
      "metadata": {
        "id": "KGWAnH7dzYL3"
      }
    },
    {
      "cell_type": "code",
      "source": [
        "while True:\n",
        "    try:\n",
        "        year = int(input('태어난 연도를 입력하세요: '))\n",
        "        break\n",
        "    except ValueError:\n",
        "        print('정수를 입력하세요')\n",
        "\n",
        "zodiac = ['쥐', '소', '호랑이', '토끼', '용', '뱀', '말', '양', '원숭이', '닭', '개', '돼지']\n",
        "print(f'{year}년 출생자의 띠는 {zodiac[(year%12)-4]}')"
      ],
      "metadata": {
        "colab": {
          "base_uri": "https://localhost:8080/"
        },
        "id": "6KewYWU1zYaz",
        "outputId": "c48fc4ca-b91e-4ab0-d593-923e67167a98"
      },
      "execution_count": 132,
      "outputs": [
        {
          "output_type": "stream",
          "name": "stdout",
          "text": [
            "태어난 연도를 입력하세요: 2024\n",
            "2024년 출생자의 띠는 용\n"
          ]
        }
      ]
    },
    {
      "cell_type": "markdown",
      "source": [
        "Task10_0430. 아래 사항을 반영하여 커피 자판기 프로그램을 작성하세요.\n",
        "- 시나리오 : 자판기 커피 재고 5잔, 커피 1잔 가격 300원, 재고 범위내에서 300원 이상 돈을 넣으면 거스름돈과 커피를 주고 그렇지 않으면 반환하며 재고가 소진되면 안내멘트 출력\n",
        "- 각 Case별 멘트 출력은 상황에 맞게 창작\n",
        "- while, if ~ elif ~ else 제어문을 사용하여 작성"
      ],
      "metadata": {
        "id": "eIIj5Y3IzZgq"
      }
    },
    {
      "cell_type": "code",
      "source": [
        "prize={1:['Coffe', 500, 5], 2:['Hot Milk', 300, 3], 3:['Monster', 700, 4] }\n",
        "\n",
        "\n",
        "\n",
        "while True:\n",
        "    print('<자판기>')\n",
        "    for i in range(1,4):\n",
        "        print(f'{i}. {prize[i][0]}', end = ' ')\n",
        "\n",
        "    print('\\n')\n",
        "    while True:\n",
        "        try:\n",
        "            num = int(input('원하시는 음료의 번호를 입력하세요(4번은 종료): '))\n",
        "            if num not in range(1,5):\n",
        "                print('올바른 번호를 입력하세요\\n')\n",
        "                continue\n",
        "            break\n",
        "        except ValueError:\n",
        "            print('정수를 입력하세요')\n",
        "\n",
        "    if num == 1: # 1번\n",
        "\n",
        "        if prize[num][2]==0:\n",
        "            print('\\n<남아있는 음료가 없습니다!>')\n",
        "            continue\n",
        "\n",
        "        print(f'{prize[num][0]}을 선택하셧습니다 가격은 {prize[num][1]}원 입니다')\n",
        "        while True:\n",
        "            try:\n",
        "                money = int(input('투입할 금액을 입력하세요: '))\n",
        "                break\n",
        "            except ValueError:\n",
        "                print('올바른 금액을 입력하세요')\n",
        "\n",
        "        if money < prize[num][1]:\n",
        "            print('금액이 부족합니다')\n",
        "            continue\n",
        "        elif money > prize[num][1]:\n",
        "            print(f'{money-prize[num][1]}원을 거슬러 드렸습니다 음료수를 챙겨가세요!')\n",
        "            prize[num][2] -= 1\n",
        "        else:\n",
        "            print('음료가 준비되었습니다 챙겨가세요!')\n",
        "            prize[num][2] -= 1\n",
        "\n",
        "\n",
        "    elif num ==2:\n",
        "        if prize[num][2]==0:\n",
        "            print('\\n<남아있는 음료가 없습니다!>')\n",
        "            continue\n",
        "\n",
        "        print(f'{prize[num][0]}을 선택하셧습니다 가격은 {prize[num][1]}원 입니다')\n",
        "        while True:\n",
        "            try:\n",
        "                money = int(input('투입할 금액을 입력하세요: '))\n",
        "                break\n",
        "            except ValueError:\n",
        "                print('<올바른 금액을 입력하세요>')\n",
        "\n",
        "        if money < prize[num][1]:\n",
        "            print('금액이 부족합니다')\n",
        "            continue\n",
        "        elif money > prize[num][1]:\n",
        "            print(f'{money-prize[num][1]}원을 거슬러 드렸습니다 음료수를 챙겨가세요!')\n",
        "            prize[num][2] -= 1\n",
        "        else:\n",
        "            print('<음료가 준비되었습니다 챙겨가세요!>')\n",
        "            prize[num][2] -= 1\n",
        "\n",
        "\n",
        "    elif num == 3:\n",
        "        if prize[num][2]==0:\n",
        "            print('\\n<남아있는 음료가 없습니다!>')\n",
        "            continue\n",
        "\n",
        "        print(f'{prize[num][0]}을 선택하셧습니다 가격은 {prize[num][1]}원 입니다')\n",
        "        while True:\n",
        "            try:\n",
        "                money = int(input('투입할 금액을 입력하세요: '))\n",
        "                break\n",
        "            except ValueError:\n",
        "                print('올바른 금액을 입력하세요')\n",
        "\n",
        "        if money < prize[num][1]:\n",
        "            print('금액이 부족합니다')\n",
        "            continue\n",
        "        elif money > prize[num][1]:\n",
        "            print(f'{money-prize[num][1]}원을 거슬러 드렸습니다 음료수를 챙겨가세요!')\n",
        "            prize[num][2] -= 1\n",
        "        else:\n",
        "            print('<음료가 준비되었습니다 챙겨가세요!>')\n",
        "            prize[num][2] -= 1\n",
        "\n",
        "    else:\n",
        "        break"
      ],
      "metadata": {
        "colab": {
          "base_uri": "https://localhost:8080/"
        },
        "id": "7h6Ske1izZ5-",
        "outputId": "20ac12f5-e89b-4d62-ca44-f9db5fbc86b3"
      },
      "execution_count": null,
      "outputs": [
        {
          "name": "stdout",
          "output_type": "stream",
          "text": [
            "<자판기>\n",
            "1. Coffe 2. Hot Milk 3. Monster \n",
            "\n",
            "원하시는 음료의 번호를 입력하세요(4번은 종료): 1\n",
            "Coffe을 선택하셧습니다 가격은 500원 입니다\n",
            "투입할 금액을 입력하세요: 500\n",
            "음료가 준비되었습니다 챙겨가세요!\n",
            "<자판기>\n",
            "1. Coffe 2. Hot Milk 3. Monster \n",
            "\n",
            "원하시는 음료의 번호를 입력하세요(4번은 종료): 1\n",
            "Coffe을 선택하셧습니다 가격은 500원 입니다\n",
            "투입할 금액을 입력하세요: 700\n",
            "200원을 거슬러 드렸습니다 음료수를 챙겨가세요!\n",
            "<자판기>\n",
            "1. Coffe 2. Hot Milk 3. Monster \n",
            "\n",
            "원하시는 음료의 번호를 입력하세요(4번은 종료): 3\n",
            "Monster을 선택하셧습니다 가격은 700원 입니다\n",
            "투입할 금액을 입력하세요: 700\n",
            "음료가 준비되었습니다 챙겨가세요!\n",
            "<자판기>\n",
            "1. Coffe 2. Hot Milk 3. Monster \n",
            "\n",
            "원하시는 음료의 번호를 입력하세요(4번은 종료): 1\n",
            "Coffe을 선택하셧습니다 가격은 500원 입니다\n",
            "투입할 금액을 입력하세요: 5000\n",
            "4500원을 거슬러 드렸습니다 음료수를 챙겨가세요!\n",
            "<자판기>\n",
            "1. Coffe 2. Hot Milk 3. Monster \n",
            "\n",
            "원하시는 음료의 번호를 입력하세요(4번은 종료): 1\n",
            "Coffe을 선택하셧습니다 가격은 500원 입니다\n",
            "투입할 금액을 입력하세요: 7000\n",
            "6500원을 거슬러 드렸습니다 음료수를 챙겨가세요!\n",
            "<자판기>\n",
            "1. Coffe 2. Hot Milk 3. Monster \n",
            "\n",
            "원하시는 음료의 번호를 입력하세요(4번은 종료): 1\n",
            "Coffe을 선택하셧습니다 가격은 500원 입니다\n",
            "투입할 금액을 입력하세요: 90000\n",
            "89500원을 거슬러 드렸습니다 음료수를 챙겨가세요!\n",
            "<자판기>\n",
            "1. Coffe 2. Hot Milk 3. Monster \n",
            "\n",
            "원하시는 음료의 번호를 입력하세요(4번은 종료): 1\n",
            "남아있는 음료가 없습니다!\n",
            "<자판기>\n",
            "1. Coffe 2. Hot Milk 3. Monster \n",
            "\n",
            "원하시는 음료의 번호를 입력하세요(4번은 종료): 4\n"
          ]
        }
      ]
    },
    {
      "cell_type": "code",
      "source": [],
      "metadata": {
        "id": "vnCRNHkvMsJe"
      },
      "execution_count": null,
      "outputs": []
    }
  ]
}