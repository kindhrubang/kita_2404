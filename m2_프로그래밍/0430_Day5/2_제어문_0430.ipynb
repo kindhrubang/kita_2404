{
  "nbformat": 4,
  "nbformat_minor": 0,
  "metadata": {
    "colab": {
      "provenance": [],
      "toc_visible": true
    },
    "kernelspec": {
      "name": "python3",
      "display_name": "Python 3"
    },
    "language_info": {
      "name": "python"
    }
  },
  "cells": [
    {
      "cell_type": "markdown",
      "source": [
        "제어문(control statement)은 프로그램의 흐름을 제어하는데 사용\n",
        "\n",
        "#### 조건문 (Conditional Statements):\n",
        "- if: 특정 조건이 참(True)일 때 코드 블록을 실행\n",
        "    - 조건은 비교 연산자(==, !=, <, >, <=, >=)와 논리 연산자(and, or, not)를 사용하여 표현할 수 있다\n",
        "- elif: 이전의 if 또는 elif 조건이 거짓(False)일 때 다른 조건을 검사\n",
        "    - elif는 'else if'의 축약형으로, 이전 if 또는 elif 문의 조건이 거짓(False)일 때 다른 조건을 검사\n",
        "    - 여러 elif 문을 사용하여 다양한 조건을 검사할 수 있다\n",
        "- else:\n",
        "    - 이전의 if 또는 elif 문의 조건이 모두 거짓일 때 실행할 코드 블록을 지정"
      ],
      "metadata": {
        "id": "ITv76F0S8R6z"
      }
    },
    {
      "cell_type": "code",
      "source": [
        "x = int(input('숫자 입력 :'))\n",
        "if x > 5:\n",
        "    print('x는 5보다 큽니다.')\n",
        "elif x==5:\n",
        "    print('x는 5입니다.')\n",
        "else:\n",
        "    print('x는 5보다 작습니다.')"
      ],
      "metadata": {
        "colab": {
          "base_uri": "https://localhost:8080/"
        },
        "id": "jYBNqdCo8pPl",
        "outputId": "2d9ab1aa-56d6-441f-eb01-45b11023679e"
      },
      "execution_count": null,
      "outputs": [
        {
          "output_type": "stream",
          "name": "stdout",
          "text": [
            "숫자 입력 :22\n",
            "x는 5보다 큽니다.\n"
          ]
        }
      ]
    },
    {
      "cell_type": "code",
      "source": [
        "x = int(input('숫자 입력 :'))\n",
        "if x >= 5:\n",
        "    print(\"x는 5보다 크거나 같습니다.\")\n",
        "else:\n",
        "    print(\"x는 5보다 작습니다\")"
      ],
      "metadata": {
        "colab": {
          "base_uri": "https://localhost:8080/"
        },
        "id": "hC4tGYT--QpI",
        "outputId": "a6047f39-f7d6-4b74-f032-7ca67b00bc64"
      },
      "execution_count": null,
      "outputs": [
        {
          "output_type": "stream",
          "name": "stdout",
          "text": [
            "숫자 입력 :1\n",
            "x는 5보다 작습니다\n"
          ]
        }
      ]
    },
    {
      "cell_type": "code",
      "source": [
        "x = int(input('숫자 입력 :'))\n",
        "y = int(input('숫자 입력 :'))\n",
        "if x>5:\n",
        "    print('x는 5보다 큽니다.')\n",
        "if y<10:\n",
        "    print('y 는 10보다 작습니다.')\n",
        "if x>y:\n",
        "    print('x는 y보다 큽니다')"
      ],
      "metadata": {
        "colab": {
          "base_uri": "https://localhost:8080/"
        },
        "id": "aN8PpaZ1R1Xu",
        "outputId": "a3ffb304-4acc-4de4-e3ab-cf237036e077"
      },
      "execution_count": null,
      "outputs": [
        {
          "output_type": "stream",
          "name": "stdout",
          "text": [
            "숫자 입력 :4\n",
            "숫자 입력 :2\n",
            "y 는 10보다 작습니다.\n",
            "x는 y보다 큽니다\n"
          ]
        }
      ]
    },
    {
      "cell_type": "code",
      "source": [
        "x = int(input('숫자 입력 :'))\n",
        "y = int(input('숫자 입력 :'))\n",
        "if x>5:\n",
        "    if y>=3:\n",
        "        print('x는 5보다 크고  y는 3보다 크거나 같습니다.')\n",
        "    else:\n",
        "        print('x는 5보다 크고 y는 3보다 작습니다.')\n",
        "else:\n",
        "    print('x는 5보다 작거나 같습니다.')"
      ],
      "metadata": {
        "colab": {
          "base_uri": "https://localhost:8080/"
        },
        "id": "R02jH3TwSYP-",
        "outputId": "43e40cef-8fca-4638-f91a-2313492d98a3"
      },
      "execution_count": null,
      "outputs": [
        {
          "output_type": "stream",
          "name": "stdout",
          "text": [
            "숫자 입력 :50\n",
            "숫자 입력 :3\n",
            "x는 5보다 크고  y는 3보다 크거나 같습니다.\n"
          ]
        }
      ]
    },
    {
      "cell_type": "code",
      "source": [
        "x = int(input('숫자 입력 :'))\n",
        "y = int(input('숫자 입력 :'))\n",
        "if x > y:\n",
        "    if x+y > 20:\n",
        "        print('욕심이 과했습니다!')\n",
        "    elif x+y == 20:\n",
        "        print('최대 상금을 수령했습니다!')\n",
        "    else:\n",
        "        if x+y==7:\n",
        "            print(f'행운의 숫자 당첨!{x**(-y)}만원!!')\n",
        "        else:\n",
        "            print(f'{x+y}만원 당첨!')\n",
        "elif x == y:\n",
        "    print('더블! 2만원 당첨!')\n",
        "else:\n",
        "    print('조건을 만족하지 못하여 0원!')"
      ],
      "metadata": {
        "colab": {
          "base_uri": "https://localhost:8080/"
        },
        "id": "cjJegm_wTyFR",
        "outputId": "e86c6941-daf7-4016-9fb5-cc5924d983e1"
      },
      "execution_count": null,
      "outputs": [
        {
          "output_type": "stream",
          "name": "stdout",
          "text": [
            "숫자 입력 :10\n",
            "숫자 입력 :-3\n",
            "행운의 숫자 당첨!1000만원!!\n"
          ]
        }
      ]
    },
    {
      "cell_type": "code",
      "source": [
        "listdata = ['a', 'b', 'c']\n",
        "\n",
        "if 'a' in listdata:\n",
        "    print('a가 listdata에 있습니다.')\n",
        "if 'b' in listdata:\n",
        "    print('b가 listdata에 있습니다.')\n",
        "if 'c' in listdata:\n",
        "    print('c가 listdata에 있습니다.')"
      ],
      "metadata": {
        "colab": {
          "base_uri": "https://localhost:8080/"
        },
        "id": "DpSc5NL0ViDJ",
        "outputId": "5e3dcaa4-2128-43b4-bdfc-2063dfa90d82"
      },
      "execution_count": null,
      "outputs": [
        {
          "output_type": "stream",
          "name": "stdout",
          "text": [
            "a가 listdata에 있습니다.\n",
            "b가 listdata에 있습니다.\n",
            "c가 listdata에 있습니다.\n"
          ]
        }
      ]
    },
    {
      "cell_type": "code",
      "source": [
        "listdata = ['a', 'b', 'c']\n",
        "\n",
        "for i in listdata:\n",
        "    print(f'{i}가 listdata에 있습니다.')"
      ],
      "metadata": {
        "colab": {
          "base_uri": "https://localhost:8080/"
        },
        "id": "zV1pilxKY1ya",
        "outputId": "6a632040-8448-4a97-c928-f232c7ae0589"
      },
      "execution_count": null,
      "outputs": [
        {
          "output_type": "stream",
          "name": "stdout",
          "text": [
            "a가 listdata에 있습니다.\n",
            "b가 listdata에 있습니다.\n",
            "c가 listdata에 있습니다.\n"
          ]
        }
      ]
    },
    {
      "cell_type": "code",
      "source": [
        "#Q.\"돈이 있으면 택시를 타고, 돈이 없으면 걸어 간다\"를 만족하는 조건문을 작성하세요\n",
        "money = int(input('지금 갖고있는 돈은?(숫자로 입력): '))\n",
        "way = float(input('목적지 까지의 거리를 입력(1.5키로일 경우 1.5):'))\n",
        "\n",
        "if money<5000:\n",
        "    print('돈이 없으니 걸어가자')\n",
        "if money<5000*way:\n",
        "    print('돈이 부족하다! 걸어가도록 하자!')\n",
        "else:\n",
        "    print('택시타고 편하게 가자!')"
      ],
      "metadata": {
        "colab": {
          "base_uri": "https://localhost:8080/"
        },
        "id": "cZzA5nyBZcWw",
        "outputId": "fe04798b-fd98-4b57-d108-f14b695cbf28"
      },
      "execution_count": null,
      "outputs": [
        {
          "output_type": "stream",
          "name": "stdout",
          "text": [
            "지금 갖고있는 돈은?(숫자로 입력): 61651651\n",
            "목적지 까지의 거리를 입력(1.5키로일 경우 1.5):34\n",
            "택시타고 편하게 가자!\n"
          ]
        }
      ]
    },
    {
      "cell_type": "code",
      "source": [
        "score = 69\n",
        "a= [\"sucess\" if score >= 70 else \"failure\"]\n",
        "a"
      ],
      "metadata": {
        "colab": {
          "base_uri": "https://localhost:8080/"
        },
        "id": "Lop73DyXev_n",
        "outputId": "7365feae-4440-4e78-d710-b8852f582230"
      },
      "execution_count": null,
      "outputs": [
        {
          "output_type": "execute_result",
          "data": {
            "text/plain": [
              "['failure']"
            ]
          },
          "metadata": {},
          "execution_count": 42
        }
      ]
    },
    {
      "cell_type": "code",
      "source": [
        "# Q. \"수입과 지출금액을 비교해서 수입이 많으면 저축 증가, 반대이면 빚이 증가\" 프로그램을 작성해보시오\n",
        "\n",
        "\n",
        "total = 0\n",
        "i = 0\n",
        "while i < 12:\n",
        "    income = int(input(\"이번달 소득을 입력하세요 :\"))\n",
        "    spend = int(input(\"이번달 지출금액을 입력하세요 :\"))\n",
        "    if income > spend:\n",
        "        total += (income - spend)\n",
        "        print(f'잔고에 {income - spend}원이 추가되었습니다. 현제 잔액은{total}원 입니다.')\n",
        "    elif income == spend:\n",
        "        print(f\"현상 유지 현제 잔액은{total}원 입니다.\")\n",
        "    else:\n",
        "        total -= (spend - income)\n",
        "        print(f'통장에 {spend - income}원만큼  차감되었습니다 현제 잔액은{total}원 입니다.')\n",
        "    i += 1"
      ],
      "metadata": {
        "colab": {
          "base_uri": "https://localhost:8080/"
        },
        "id": "gjSPqPmCfm5g",
        "outputId": "dc19ab82-eb60-4388-8ac4-ce61b2e1c9fe"
      },
      "execution_count": null,
      "outputs": [
        {
          "output_type": "stream",
          "name": "stdout",
          "text": [
            "이번달 소득을 입력하세요 :49999\n",
            "이번달 지출금액을 입력하세요 :500\n",
            "잔고에 49499원이 추가되었습니다. 현제 잔액은49499원 입니다.\n",
            "이번달 소득을 입력하세요 :50\n",
            "이번달 지출금액을 입력하세요 :100000\n",
            "통장에 99950원만큼  차감되었습니다 현제 잔액은-50451원 입니다.\n",
            "이번달 소득을 입력하세요 :99999\n",
            "이번달 지출금액을 입력하세요 :500\n",
            "잔고에 99499원이 추가되었습니다. 현제 잔액은49048원 입니다.\n",
            "이번달 소득을 입력하세요 :5000\n",
            "이번달 지출금액을 입력하세요 :40000\n",
            "통장에 35000원만큼  차감되었습니다 현제 잔액은14048원 입니다.\n",
            "이번달 소득을 입력하세요 :5000\n",
            "이번달 지출금액을 입력하세요 :20000\n",
            "통장에 15000원만큼  차감되었습니다 현제 잔액은-952원 입니다.\n",
            "이번달 소득을 입력하세요 :100000\n",
            "이번달 지출금액을 입력하세요 :555\n",
            "잔고에 99445원이 추가되었습니다. 현제 잔액은98493원 입니다.\n",
            "이번달 소득을 입력하세요 :3132132\n",
            "이번달 지출금액을 입력하세요 :15515\n",
            "잔고에 3116617원이 추가되었습니다. 현제 잔액은3215110원 입니다.\n",
            "이번달 소득을 입력하세요 :231213\n",
            "이번달 지출금액을 입력하세요 :51515\n",
            "잔고에 179698원이 추가되었습니다. 현제 잔액은3394808원 입니다.\n",
            "이번달 소득을 입력하세요 :1351531\n",
            "이번달 지출금액을 입력하세요 :51351321\n",
            "통장에 49999790원만큼  차감되었습니다 현제 잔액은-46604982원 입니다.\n",
            "이번달 소득을 입력하세요 :5151515161\n",
            "이번달 지출금액을 입력하세요 :50500000\n",
            "잔고에 5101015161원이 추가되었습니다. 현제 잔액은5054410179원 입니다.\n",
            "이번달 소득을 입력하세요 :50000\n",
            "이번달 지출금액을 입력하세요 :50000\n",
            "현상 유지 현제 잔액은5054410179원 입니다.\n",
            "이번달 소득을 입력하세요 :5000\n",
            "이번달 지출금액을 입력하세요 :5000\n",
            "현상 유지 현제 잔액은5054410179원 입니다.\n"
          ]
        }
      ]
    },
    {
      "cell_type": "markdown",
      "source": [
        "## 반복문 (Loop Statements):\n",
        "- for:시퀀스(리스트, 튜플,문자열 등)의 아이템을 순회하면서 코드 블록을 실행\n",
        "- while: 특정 조건이 참인 동안 코드 블록을 반복하여 실행"
      ],
      "metadata": {
        "id": "HiPaUjnXiBRM"
      }
    },
    {
      "cell_type": "code",
      "source": [
        "for i in range(5):\n",
        "    print(i, end='\\t')\n",
        "print('\\n\\n\\n\\n\\n\\n\\n')\n",
        "count = 0\n",
        "while count < 5:\n",
        "    count += 1\n",
        "    print(count, end='       ')\n"
      ],
      "metadata": {
        "colab": {
          "base_uri": "https://localhost:8080/"
        },
        "id": "uLihPr7YhjwH",
        "outputId": "699c1aa6-4128-4e70-f674-a6956895b826"
      },
      "execution_count": null,
      "outputs": [
        {
          "output_type": "stream",
          "name": "stdout",
          "text": [
            "0\t1\t2\t3\t4\t\n",
            "\n",
            "\n",
            "\n",
            "\n",
            "\n",
            "\n",
            "\n",
            "1       2       3       4       5       "
          ]
        }
      ]
    },
    {
      "cell_type": "code",
      "source": [
        "for i in [1,2,3,4,5]:\n",
        "    print(i,end='    ')\n",
        "print('\\n\\n')\n",
        "\n",
        "for char in \"hello\":\n",
        "    print(char, end=' ')"
      ],
      "metadata": {
        "colab": {
          "base_uri": "https://localhost:8080/"
        },
        "id": "ZSZU0ZsrkE_8",
        "outputId": "2cd702aa-989d-4725-c8b4-6b3056a89bcd"
      },
      "execution_count": null,
      "outputs": [
        {
          "output_type": "stream",
          "name": "stdout",
          "text": [
            "1    2    3    4    5    \n",
            "\n",
            "\n",
            "h e l l o "
          ]
        }
      ]
    },
    {
      "cell_type": "code",
      "source": [
        "count = 0\n",
        "sum = 0\n",
        "while count < 5:\n",
        "    sum += count\n",
        "    print(sum, end='       ')\n",
        "    count += 1\n"
      ],
      "metadata": {
        "colab": {
          "base_uri": "https://localhost:8080/"
        },
        "id": "Xey95TAVlKJ6",
        "outputId": "0f8362d0-5984-4be1-c5a4-ddc860d2e65b"
      },
      "execution_count": null,
      "outputs": [
        {
          "output_type": "stream",
          "name": "stdout",
          "text": [
            "0       1       3       6       10       "
          ]
        }
      ]
    },
    {
      "cell_type": "code",
      "source": [
        "# Q. d에서 반복문을 사용하여 97 98 99 를 출력하세요.\n",
        "d = {'a':97, 'b':98, 'c':99}\n",
        "\n",
        "for i in d:\n",
        "    print(d[i], end=' ')\n",
        "    print(type(d[i]))"
      ],
      "metadata": {
        "colab": {
          "base_uri": "https://localhost:8080/"
        },
        "id": "nErOKCtFlzVT",
        "outputId": "d76aa1a3-f650-4fc9-f411-b2fa96e21d5b"
      },
      "execution_count": 1,
      "outputs": [
        {
          "output_type": "stream",
          "name": "stdout",
          "text": [
            "97 <class 'int'>\n",
            "98 <class 'int'>\n",
            "99 <class 'int'>\n"
          ]
        }
      ]
    },
    {
      "cell_type": "markdown",
      "source": [
        "dict_values 클래스의 이해: <=어려움\n",
        "- 클래스 정의: 파이썬에서 클래스는 객체를 생성하는 데 사용되는 템플릿. dict_values는 딕셔너리의 값을 보여주는 뷰 객체를 생성하는 특별한 내장 클래스.\n",
        "- 뷰 객체: dict_values 객체는 딕셔너리의 값에 대한 동적인 뷰를 제공. \"뷰(view)\"란 원본 딕셔너리 객체의 값이 변하면 그 변화가 dict_values 객체에도 반영되는, 원본 데이터의 실시간 반영본을 의미. 이는 딕셔너리의 값들이 수정, 추가, 삭제될 때 dict_values 객체가 자동으로 업데이트된다는 의미.\n",
        "- 객체 인스턴스: dict_values 객체는 dict_values 클래스의 인스턴스. 이 클래스는 파이썬의 다른 모든 클래스처럼 특정 데이터 구조와 메서드를 가진다. 예를 들어, dict_values 객체는 순회 가능하며 (iterable), 딕셔너리의 모든 값을 순차적으로 접근할 수 있는 메서드를 제공."
      ],
      "metadata": {
        "id": "DXiwUnylxlJ-"
      }
    },
    {
      "cell_type": "code",
      "source": [
        "d['b'] = 100\n",
        "print(d)\n",
        "print(d.values())"
      ],
      "metadata": {
        "id": "I2jVDe14DTfz",
        "colab": {
          "base_uri": "https://localhost:8080/"
        },
        "outputId": "e4128ece-be0d-4d16-842e-0b3c3a4c2ae9"
      },
      "execution_count": 3,
      "outputs": [
        {
          "output_type": "stream",
          "name": "stdout",
          "text": [
            "{'a': 97, 'b': 100, 'c': 99, 'd': 100}\n",
            "dict_values([97, 100, 99, 100])\n"
          ]
        }
      ]
    },
    {
      "cell_type": "markdown",
      "source": [
        "#### 제어문 관련 키워드:\n",
        "- break: 현재의 반복문을 중단하고, 반복문 바깥의 코드를 실행\n",
        "- continue: 반복문의 나머지 부분을 건너뛰고, 다음 반복을 시작"
      ],
      "metadata": {
        "id": "fRi4J8eIzJ8X"
      }
    },
    {
      "cell_type": "code",
      "source": [
        "for i in range(5):\n",
        "    if i == 3:\n",
        "        break\n",
        "    print(i,end='')\n",
        "print('\\n\\n')\n",
        "\n",
        "for i in range(5):\n",
        "    if i ==3:\n",
        "        continue\n",
        "    print(i,end='')"
      ],
      "metadata": {
        "colab": {
          "base_uri": "https://localhost:8080/"
        },
        "id": "Imfa_TeNygkn",
        "outputId": "2ba5595b-f30b-4a61-ade0-120207caa28b"
      },
      "execution_count": 5,
      "outputs": [
        {
          "output_type": "stream",
          "name": "stdout",
          "text": [
            "012\n",
            "\n",
            "\n",
            "0124"
          ]
        }
      ]
    },
    {
      "cell_type": "code",
      "source": [
        "for i in range(10):\n",
        "    if i == 5:\n",
        "        break\n",
        "    print(i, end = ' ')\n",
        "print('\\n\\n\\n')\n",
        "for i in range(10):\n",
        "    if i % 2 ==0:\n",
        "        continue\n",
        "    print(i, end = ' ')"
      ],
      "metadata": {
        "colab": {
          "base_uri": "https://localhost:8080/"
        },
        "id": "YmPgirf3zrMG",
        "outputId": "8b769868-f1b6-413c-b18d-a3bcf65e9b9f"
      },
      "execution_count": 10,
      "outputs": [
        {
          "output_type": "stream",
          "name": "stdout",
          "text": [
            "0 1 2 3 4 \n",
            "\n",
            "\n",
            "\n",
            "1 3 5 7 9 "
          ]
        }
      ]
    },
    {
      "cell_type": "code",
      "source": [
        "# for 또는 while 루프에 else 절을 사용하면, 루프가 정상적으로 완료된 후에 실행할 코드를 지정\n",
        "for i in range(5):\n",
        "    print(i, end=' ')\n",
        "else:\n",
        "    print('\\n루프 완\\n\\n\\n')\n",
        "\n",
        "count = 0\n",
        "while count < 5:\n",
        "    print(count, end = ' ')\n",
        "    count += 1\n",
        "else:\n",
        "    print('\\n루프 완')"
      ],
      "metadata": {
        "colab": {
          "base_uri": "https://localhost:8080/"
        },
        "id": "O3_r9mUk0HNs",
        "outputId": "3c374fc5-7ec4-4506-ee7e-0b5aca3de87c"
      },
      "execution_count": 15,
      "outputs": [
        {
          "output_type": "stream",
          "name": "stdout",
          "text": [
            "0 1 2 3 4 \n",
            "루프 완\n",
            "\n",
            "\n",
            "\n",
            "0 1 2 3 4 \n",
            "루프 완\n"
          ]
        }
      ]
    },
    {
      "cell_type": "code",
      "source": [
        "#break 문을 사용하여 루프를 중단하면 else 절은 실행되지 않음\n",
        "for i in range(5):\n",
        "    if i == 3:\n",
        "        print(f'{i}에서 루프를 중단합니다.')\n",
        "        break\n",
        "else:\n",
        "    print('루프가 정상적으로 완료되었습니다')\n"
      ],
      "metadata": {
        "colab": {
          "base_uri": "https://localhost:8080/"
        },
        "id": "DFzXIG190-cD",
        "outputId": "988688ca-aa43-44ec-85fd-1f01a1792186"
      },
      "execution_count": 21,
      "outputs": [
        {
          "output_type": "stream",
          "name": "stdout",
          "text": [
            "3에서 루프를 중단합니다.\n"
          ]
        }
      ]
    },
    {
      "cell_type": "markdown",
      "source": [
        "##조건과 반복을 결합"
      ],
      "metadata": {
        "id": "OCgtnDY036xA"
      }
    },
    {
      "cell_type": "code",
      "source": [
        "#홀수만 출력\n",
        "for i in range(10):\n",
        "    if i% 2 !=0:\n",
        "        print(i, end =' ')"
      ],
      "metadata": {
        "colab": {
          "base_uri": "https://localhost:8080/"
        },
        "id": "XhuAujMl3dkA",
        "outputId": "ca646c8f-15a4-4089-d8bb-f373a107d6ad"
      },
      "execution_count": 22,
      "outputs": [
        {
          "output_type": "stream",
          "name": "stdout",
          "text": [
            "1 3 5 7 9 "
          ]
        }
      ]
    },
    {
      "cell_type": "code",
      "source": [
        "# Q. 1~10 범위의 정수에서 1부터 5까지만 출력하세요\n",
        "\n",
        "for i in range(1,11):\n",
        "    if i >5:\n",
        "        break\n",
        "\n",
        "    print(i,end = ' ')"
      ],
      "metadata": {
        "colab": {
          "base_uri": "https://localhost:8080/"
        },
        "id": "l7PEx9Sx4DQN",
        "outputId": "1d24638d-fa21-4e2c-b805-45965a44d25c"
      },
      "execution_count": 31,
      "outputs": [
        {
          "output_type": "stream",
          "name": "stdout",
          "text": [
            "1 2 3 4 5 6 7 8 9 10 "
          ]
        }
      ]
    },
    {
      "cell_type": "code",
      "source": [
        "# Q. numbers 리스트에서 15,20,25를 출력하세요. (for문과 if 조건 사용 필수)\n",
        "numbers = [5,15,6,20,7,25]\n",
        "output = []\n",
        "\n",
        "for number in numbers:\n",
        "    if number % 5 ==0 and number>5:\n",
        "        output.append(number)\n",
        "\n",
        "print(output)"
      ],
      "metadata": {
        "colab": {
          "base_uri": "https://localhost:8080/"
        },
        "id": "5kRP8twJ4xOZ",
        "outputId": "afdfac76-66b8-40a6-a206-983f5113fca3"
      },
      "execution_count": 38,
      "outputs": [
        {
          "output_type": "stream",
          "name": "stdout",
          "text": [
            "[15, 20, 25]\n"
          ]
        }
      ]
    },
    {
      "cell_type": "code",
      "source": [
        "# 특정 조건을 만족할 때까지 반복\n",
        "count = 0\n",
        "while 1:\n",
        "    count += 50\n",
        "    if count>500:\n",
        "        break\n",
        "    print(count)\n",
        "print('루프 끝!')"
      ],
      "metadata": {
        "colab": {
          "base_uri": "https://localhost:8080/"
        },
        "id": "uij1yUDB58r-",
        "outputId": "01d7adae-676b-4501-d8e7-7bc2ed52ffcc"
      },
      "execution_count": 49,
      "outputs": [
        {
          "output_type": "stream",
          "name": "stdout",
          "text": [
            "50\n",
            "100\n",
            "150\n",
            "200\n",
            "250\n",
            "300\n",
            "350\n",
            "400\n",
            "450\n",
            "500\n",
            "루프 끝!\n"
          ]
        }
      ]
    },
    {
      "cell_type": "code",
      "source": [
        "#Q. 리스트에서 특정값 찾으면 \"값을 찾았습니다\"를 출력하고 못찾으면 \"값을 찾지 못했습니다.\"를 출력하세요\n",
        "numbers = [1,2,3,4,5]\n",
        "target = 3\n",
        "\n",
        "if target in numbers:\n",
        "    print(f'{target}을 찾았습니다!')\n",
        "else:\n",
        "    print(f'{target}을 찾지 못했습니다!')\n"
      ],
      "metadata": {
        "colab": {
          "base_uri": "https://localhost:8080/"
        },
        "id": "qIsn3G-B-Wzt",
        "outputId": "924be564-4ef0-4506-d388-1a467805f8e0"
      },
      "execution_count": 68,
      "outputs": [
        {
          "output_type": "stream",
          "name": "stdout",
          "text": [
            "7을 찾았습니다!\n"
          ]
        }
      ]
    },
    {
      "cell_type": "code",
      "source": [
        "numbers = [1,2,3,4,5]\n",
        "target = 3\n",
        "\n",
        "for i in numbers:\n",
        "    if i == target:\n",
        "        print(f'{target}을 찾았습니다!')\n",
        "        break\n",
        "else:\n",
        "    print(f'{target}을 찾지 못했습니다!')"
      ],
      "metadata": {
        "colab": {
          "base_uri": "https://localhost:8080/"
        },
        "id": "sfKOTh3YAIMb",
        "outputId": "2e4000f2-4b36-479c-a40e-c9362210728a"
      },
      "execution_count": 64,
      "outputs": [
        {
          "output_type": "stream",
          "name": "stdout",
          "text": [
            "3을 찾았습니다!\n"
          ]
        }
      ]
    },
    {
      "cell_type": "code",
      "source": [
        "# Q. 1~20 사이의 정수에서 10보다 작은 홀수만 출력\n",
        "\n",
        "for i in range(1,21):\n",
        "    if i <10 and i%2 == 1:\n",
        "        print(i)"
      ],
      "metadata": {
        "colab": {
          "base_uri": "https://localhost:8080/"
        },
        "id": "Rqw8xe7ZC9Zo",
        "outputId": "57abd441-75ad-4a25-c4f2-c225f2bea3d0"
      },
      "execution_count": 74,
      "outputs": [
        {
          "output_type": "stream",
          "name": "stdout",
          "text": [
            "1\n",
            "3\n",
            "5\n",
            "7\n",
            "9\n"
          ]
        }
      ]
    },
    {
      "cell_type": "code",
      "source": [
        "# while ~ continue ~ break\n",
        "# 20 보다 작은 정수에서 1 3 5 7 9 만을 출력\n",
        "a = 0\n",
        "while a < 20:\n",
        "    a += 1\n",
        "    if a % 2 ==0:\n",
        "        continue\n",
        "    if a >= 10:\n",
        "        break\n",
        "    print(a, end=' ')"
      ],
      "metadata": {
        "colab": {
          "base_uri": "https://localhost:8080/"
        },
        "id": "pESGApsnDSvV",
        "outputId": "fd0b52d4-5b92-409a-8bc0-5e1c9f969e14"
      },
      "execution_count": 76,
      "outputs": [
        {
          "output_type": "stream",
          "name": "stdout",
          "text": [
            "1 3 5 7 9 "
          ]
        }
      ]
    },
    {
      "cell_type": "code",
      "source": [
        "# Q. 정수 1부터 n까지 더할 때 그 합이 1000보다 커지게 되는 n과 합을 구하세요. (while~ break)\n",
        "n = 0\n",
        "total = 0\n",
        "\n",
        "while 1:\n",
        "    n += 1\n",
        "    total = total + n\n",
        "\n",
        "    if total > 1000:\n",
        "        print(f'{n}일때 합이 1000이상입니다')\n",
        "        print(total)\n",
        "        break"
      ],
      "metadata": {
        "colab": {
          "base_uri": "https://localhost:8080/"
        },
        "id": "xLybOSoJE354",
        "outputId": "65abe221-2565-4538-93a9-51c39463d1ee"
      },
      "execution_count": 85,
      "outputs": [
        {
          "output_type": "stream",
          "name": "stdout",
          "text": [
            "45일때 합이 1000이상입니다\n",
            "1035\n"
          ]
        }
      ]
    },
    {
      "cell_type": "code",
      "source": [
        "#예시\n",
        "x = 0\n",
        "sum = 0\n",
        "while sum < 1000:\n",
        "    x+=1\n",
        "    sum += x\n",
        "print(x)\n",
        "print(sum)"
      ],
      "metadata": {
        "colab": {
          "base_uri": "https://localhost:8080/"
        },
        "id": "7U3zkKR_bg3U",
        "outputId": "d9e5edb7-3857-4bf6-e21b-9f26a0030f98"
      },
      "execution_count": 87,
      "outputs": [
        {
          "output_type": "stream",
          "name": "stdout",
          "text": [
            "45\n",
            "1035\n"
          ]
        }
      ]
    },
    {
      "cell_type": "code",
      "source": [
        "# Q. while 문을 사용해 1 부터 1000까지의 정수 중 3의 배수의 합을 구해보세요.\n",
        "i = 0\n",
        "sum = 0\n",
        "while 1:\n",
        "    i+= 1\n",
        "    if i % 3 ==0:\n",
        "        sum += i\n",
        "    if i>1000:\n",
        "        break\n",
        "\n",
        "print(sum)"
      ],
      "metadata": {
        "colab": {
          "base_uri": "https://localhost:8080/"
        },
        "id": "ok3u5b5JF8U0",
        "outputId": "9e9f4ff3-7cc7-4a01-f4a9-e501adb99de6"
      },
      "execution_count": 79,
      "outputs": [
        {
          "output_type": "stream",
          "name": "stdout",
          "text": [
            "166833\n"
          ]
        }
      ]
    },
    {
      "cell_type": "code",
      "source": [
        "#예시\n",
        "i = 0\n",
        "sum = 0\n",
        "while i<1000:\n",
        "    i+= 1\n",
        "    if i % 3 ==0:\n",
        "        sum += i\n",
        "\n",
        "print(sum)"
      ],
      "metadata": {
        "colab": {
          "base_uri": "https://localhost:8080/"
        },
        "id": "UYYmXE2ZdQSi",
        "outputId": "8bfe18a8-309a-4e2c-fc13-42084908840b"
      },
      "execution_count": 89,
      "outputs": [
        {
          "output_type": "stream",
          "name": "stdout",
          "text": [
            "166833\n"
          ]
        }
      ]
    },
    {
      "cell_type": "code",
      "source": [
        "#예시\n",
        "n = 3\n",
        "sum = 0\n",
        "while n <= 1000:\n",
        "    sum += n\n",
        "    n+= 3\n",
        "print(sum)"
      ],
      "metadata": {
        "colab": {
          "base_uri": "https://localhost:8080/"
        },
        "id": "T-mKV4ZTfNj9",
        "outputId": "05b809ed-0738-45c7-9032-9e2194435927"
      },
      "execution_count": 90,
      "outputs": [
        {
          "output_type": "stream",
          "name": "stdout",
          "text": [
            "166833\n"
          ]
        }
      ]
    },
    {
      "cell_type": "code",
      "source": [
        "# Q. 정수를 입력하면 홀수 짝수를 판별하는 프로그램 작성\n",
        "\n",
        "i = int(input(\"숫자 입력 :\"))\n",
        "\n",
        "if i % 2 == 0:\n",
        "    print('짝수')\n",
        "else:\n",
        "    print('홀수')"
      ],
      "metadata": {
        "colab": {
          "base_uri": "https://localhost:8080/"
        },
        "id": "AEXyLKfkF8ig",
        "outputId": "80cb7d9e-6239-4c86-a0e1-3a7bbbc5bc0e"
      },
      "execution_count": 91,
      "outputs": [
        {
          "output_type": "stream",
          "name": "stdout",
          "text": [
            "숫자 입력 :55551\n",
            "홀수\n"
          ]
        }
      ]
    },
    {
      "cell_type": "code",
      "source": [
        "# 예외처리\n",
        "while True:\n",
        "    try:\n",
        "        i = int(input(\"숫자 입력 :\"))\n",
        "\n",
        "        if i % 2 == 0:\n",
        "            print('짝수')\n",
        "            break\n",
        "        else:\n",
        "            print('홀수')\n",
        "            break\n",
        "    except ValueError:\n",
        "        print('정수를 입력하세요')"
      ],
      "metadata": {
        "colab": {
          "base_uri": "https://localhost:8080/"
        },
        "id": "14DL5wNpHV9V",
        "outputId": "1cc5d9a2-e460-4e08-9b0d-32213e46d7a6"
      },
      "execution_count": 95,
      "outputs": [
        {
          "output_type": "stream",
          "name": "stdout",
          "text": [
            "숫자 입력 :sa\n",
            "정수를 입력하세요\n",
            "숫자 입력 :1\n",
            "홀수\n"
          ]
        }
      ]
    },
    {
      "cell_type": "code",
      "source": [
        "# 예외처리\n",
        "while True:\n",
        "    try:\n",
        "        i = int(input(\"숫자 입력 :\"))\n",
        "        break\n",
        "\n",
        "    except ValueError:\n",
        "        print('정수를 입력하세요')\n",
        "\n",
        "if i % 2 == 0:\n",
        "    print('짝수')\n",
        "else:\n",
        "    print('홀수')\n"
      ],
      "metadata": {
        "colab": {
          "base_uri": "https://localhost:8080/"
        },
        "id": "aKpvgCT8hk0J",
        "outputId": "315f6fd0-eebf-4fb6-8ca5-3b212ef6f893"
      },
      "execution_count": 98,
      "outputs": [
        {
          "output_type": "stream",
          "name": "stdout",
          "text": [
            "숫자 입력 :asd\n",
            "정수를 입력하세요\n",
            "숫자 입력 :1\n",
            "홀수\n"
          ]
        }
      ]
    },
    {
      "cell_type": "code",
      "source": [
        "# Q. 입력받은 문자열의 각 문자를 그 다음 문자로 변경하여 출력하세요. (ABC -> BCA)\n",
        "main = []\n",
        "main = input('입력 :')\n",
        "\n",
        "main = main.split()\n",
        "\n",
        "print(main)\n"
      ],
      "metadata": {
        "colab": {
          "base_uri": "https://localhost:8080/"
        },
        "id": "EQ7_G42jiv1j",
        "outputId": "36de3c48-f5a8-4c8a-d0b0-a791d19bfb10"
      },
      "execution_count": 100,
      "outputs": [
        {
          "output_type": "stream",
          "name": "stdout",
          "text": [
            "입력 :sdfsdf\n",
            "['sdfsdf']\n"
          ]
        }
      ]
    },
    {
      "cell_type": "code",
      "source": [
        "data = input(\"입력 :\")\n",
        "#string은 인덱싱이 가능함\n",
        "for i in range(len(data)):\n",
        "    if i ==0:\n",
        "        continue\n",
        "    print(data[i],end='')\n",
        "else:\n",
        "    print(data[0])"
      ],
      "metadata": {
        "colab": {
          "base_uri": "https://localhost:8080/"
        },
        "id": "ChUKQc4cmHNi",
        "outputId": "b8bc71c0-0d70-46c7-e864-7d82e606c2f7"
      },
      "execution_count": 101,
      "outputs": [
        {
          "output_type": "stream",
          "name": "stdout",
          "text": [
            "입력 :asdasdasd\n",
            "sdasdasda\n"
          ]
        }
      ]
    },
    {
      "cell_type": "markdown",
      "source": [
        "###zip() 함수 <= 매우 중요\n",
        "- 여러 개의 이터러블(리스트, 튜플 등)을 인자로 받아, 동일한 인덱스에 있는 요소들을 하나의 튜플로 묶어서 이터레이터를 반환\n",
        "- 데이터를 병렬로 처리할 때 유용"
      ],
      "metadata": {
        "id": "4zc5JJGtnHZ3"
      }
    },
    {
      "cell_type": "code",
      "source": [
        "list1 = [1,2,3,4]\n",
        "list2 = ['a','b','c','d']\n",
        "\n",
        "zipped = zip(list1, list2)\n",
        "print(list(zipped))"
      ],
      "metadata": {
        "colab": {
          "base_uri": "https://localhost:8080/"
        },
        "id": "Xopj55y-l6lI",
        "outputId": "6037526e-21fc-4c96-a87f-5402abdd242b"
      },
      "execution_count": 108,
      "outputs": [
        {
          "output_type": "stream",
          "name": "stdout",
          "text": [
            "[(1, 'a'), (2, 'b'), (3, 'c'), (4, 'd')]\n"
          ]
        }
      ]
    },
    {
      "cell_type": "code",
      "source": [
        "# Q. 두 개의 리스트(이름과 성)를 사용하여 각 사람의 전체 이름을 생성하세요.\n",
        "first_names =[\"John\", \"Jane\",\"Corey\",\"Travis\"]\n",
        "last_names = [\"Doe\", \"Smith\", \"Turner\", \"Williams\"]\n",
        "\n",
        "comb = zip(first_names, last_names)\n",
        "comb_list = list(comb)\n",
        "\n",
        "for i in comb_list:\n",
        "    print(i[0],i[1])"
      ],
      "metadata": {
        "colab": {
          "base_uri": "https://localhost:8080/"
        },
        "id": "NBSs7Cf1nmUT",
        "outputId": "e3f91671-2c6c-4a77-cb3b-e2db9469dd66"
      },
      "execution_count": 112,
      "outputs": [
        {
          "output_type": "stream",
          "name": "stdout",
          "text": [
            "John Doe\n",
            "Jane Smith\n",
            "Corey Turner\n",
            "Travis Williams\n"
          ]
        }
      ]
    },
    {
      "cell_type": "code",
      "source": [
        "# 예시\n",
        "first_names =[\"John\", \"Jane\",\"Corey\",\"Travis\"]\n",
        "last_names = [\"Doe\", \"Smith\", \"Turner\", \"Williams\"]\n",
        "\n",
        "full_name = [first + \" \" + last for first, last in zip(first_names, last_names)]\n",
        "print(full_name)"
      ],
      "metadata": {
        "colab": {
          "base_uri": "https://localhost:8080/"
        },
        "id": "-cB9bBkcpkZ-",
        "outputId": "8749076c-1164-48dc-9438-0fb80d239a9f"
      },
      "execution_count": 114,
      "outputs": [
        {
          "output_type": "stream",
          "name": "stdout",
          "text": [
            "['John Doe', 'Jane Smith', 'Corey Turner', 'Travis Williams']\n"
          ]
        }
      ]
    },
    {
      "cell_type": "code",
      "source": [
        "# Q. 학생들의 수학과 영어 점수를 각각의 리스트로 받아 평균 점수를 계산하세요.\n",
        "math_scores = [88,92,79,93,85]\n",
        "english_scores = [90,91,85,88,86]\n",
        "\n",
        "average_score = [(math + englisg) / 2 for math, englisg in zip(math_scores, english_scores)]\n",
        "print(average_score)"
      ],
      "metadata": {
        "colab": {
          "base_uri": "https://localhost:8080/"
        },
        "id": "ozhGNO5DoiNL",
        "outputId": "8af7f1ed-abc1-4296-80ed-b4818e581a3c"
      },
      "execution_count": 118,
      "outputs": [
        {
          "output_type": "stream",
          "name": "stdout",
          "text": [
            "[89.0, 91.5, 82.0, 90.5, 85.5]\n"
          ]
        }
      ]
    },
    {
      "cell_type": "code",
      "source": [
        "# Q. 상품 이름과 가격이 각각 다른 리스트에 저장되어 있을 때, 상품명과 가격을 튜플로 묶어 출력하세요\n",
        "products = [\"apple\", \"banana\", \"cherry\"]\n",
        "prices = [1.2 , 0.5, 2.5]\n",
        "\n",
        "for product, price in zip(products, prices):\n",
        "    print(f'상품명: {product} \\n가격: {price}$')\n"
      ],
      "metadata": {
        "colab": {
          "base_uri": "https://localhost:8080/"
        },
        "id": "XTQ-XogIo7-d",
        "outputId": "77b1a414-9110-4f98-cc14-d3d9c6099649"
      },
      "execution_count": 120,
      "outputs": [
        {
          "output_type": "stream",
          "name": "stdout",
          "text": [
            "상품명: apple \n",
            "가격: 1.2$\n",
            "상품명: banana \n",
            "가격: 0.5$\n",
            "상품명: cherry \n",
            "가격: 2.5$\n"
          ]
        }
      ]
    },
    {
      "cell_type": "markdown",
      "source": [
        "#### 파이썬의 random 모듈\n",
        "난수를 생성하기 위한 다양한 함수를 제공\n",
        "- 기본 난수 생성:\n",
        "  - random.random(): 0과 1 사이의 무작위 부동소수점 숫자를 반환.\n",
        "- 범위 지정 난수 생성:\n",
        "  - random.randint(a, b): a와 b 사이의 무작위 정수를 반환(b 포함).\n",
        "  - random.randrange(start, stop[, step]): 지정된 범위에서 무작위 정수를 반환. step을 설정하여 수의 간격을 조정할 수 있다.\n",
        "- 시퀀스용 함수:\n",
        "  - random.choice(sequence): 주어진 시퀀스(리스트, 튜플 등)에서 무작위로 아이템을 선택하여 반환.\n",
        "  - random.shuffle(x[, random]): 리스트의 항목들을 무작위로 섞는다. random은 섞기를 위한 함수를 커스텀할 때 사용.\n",
        "  - random.sample(population, k): 주어진 시퀀스에서 무작위로 k개의 항목을 뽑아 새 리스트로 반환.\n",
        "- 분포 기반 난수 생성:\n",
        "  - random.uniform(a, b): a와 b 사이의 무작위 부동소수점 숫자를 균등 분포로 반환.\n",
        "  - random.gauss(mu, sigma): 평균 mu와 표준편차 sigma를 가지는 정규 분포에서 난수를 반환."
      ],
      "metadata": {
        "id": "RnglzGNLrVQj"
      }
    },
    {
      "cell_type": "code",
      "source": [
        "import random as rd\n",
        "\n",
        "print(rd.random())\n",
        "\n",
        "print(rd.randint(1,10))\n",
        "\n",
        "items = [1,2,3,4,5]\n",
        "print(rd.choice(items))\n",
        "\n",
        "rd.shuffle(items)\n",
        "print(items)\n",
        "\n",
        "mean = 0\n",
        "std_dev = 1\n",
        "\n",
        "print(rd.gauss(mean, std_dev))"
      ],
      "metadata": {
        "colab": {
          "base_uri": "https://localhost:8080/"
        },
        "id": "gEMfhk1ArKUw",
        "outputId": "ee00aad5-55a9-4bb8-bf8f-8b27bbb4a381"
      },
      "execution_count": 219,
      "outputs": [
        {
          "output_type": "stream",
          "name": "stdout",
          "text": [
            "0.15438368392969626\n",
            "10\n",
            "3\n",
            "[5, 2, 4, 1, 3]\n",
            "0.5687674807169455\n"
          ]
        }
      ]
    },
    {
      "cell_type": "code",
      "source": [
        "from random import shuffle as sh\n",
        "# from ~~~ import ~~로 random.shuffle()같은걸 그냥 shuffle()로 줄여쓰기 가능\n",
        "male = ['철수','갑돌','로미오','이몽룡','온돌']\n",
        "sh(male)\n",
        "print(male)"
      ],
      "metadata": {
        "colab": {
          "base_uri": "https://localhost:8080/"
        },
        "id": "F3YFRS0VuiVr",
        "outputId": "204a8795-c8d5-475e-ede4-72e8dd3a0326"
      },
      "execution_count": 246,
      "outputs": [
        {
          "output_type": "stream",
          "name": "stdout",
          "text": [
            "['이몽룡', '로미오', '철수', '온돌', '갑돌']\n"
          ]
        }
      ]
    },
    {
      "cell_type": "code",
      "source": [],
      "metadata": {
        "id": "-Lg-ix1owjHM"
      },
      "execution_count": null,
      "outputs": []
    },
    {
      "cell_type": "code",
      "source": [],
      "metadata": {
        "id": "Wa9di_ZlwCT4"
      },
      "execution_count": null,
      "outputs": []
    }
  ]
}