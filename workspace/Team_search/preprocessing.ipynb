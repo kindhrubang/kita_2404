{
 "cells": [
  {
   "cell_type": "code",
   "execution_count": 1,
   "metadata": {},
   "outputs": [],
   "source": [
    "import pandas as pd"
   ]
  },
  {
   "cell_type": "code",
   "execution_count": 197,
   "metadata": {},
   "outputs": [
    {
     "data": {
      "text/html": [
       "<div>\n",
       "<style scoped>\n",
       "    .dataframe tbody tr th:only-of-type {\n",
       "        vertical-align: middle;\n",
       "    }\n",
       "\n",
       "    .dataframe tbody tr th {\n",
       "        vertical-align: top;\n",
       "    }\n",
       "\n",
       "    .dataframe thead th {\n",
       "        text-align: right;\n",
       "    }\n",
       "</style>\n",
       "<table border=\"1\" class=\"dataframe\">\n",
       "  <thead>\n",
       "    <tr style=\"text-align: right;\">\n",
       "      <th></th>\n",
       "      <th>title</th>\n",
       "      <th>coment</th>\n",
       "      <th>region</th>\n",
       "      <th>price</th>\n",
       "    </tr>\n",
       "  </thead>\n",
       "  <tbody>\n",
       "    <tr>\n",
       "      <th>0</th>\n",
       "      <td>아이폰11 + 박스 + 케이스</td>\n",
       "      <td>아이폰11 64GB입니다\\n사진에 보이듯 액정 파손이 있으며 이외 후면과 기능, 카...</td>\n",
       "      <td>\\n        광주 광산구 어룡동\\n</td>\n",
       "      <td>\\n        150,000원\\n</td>\n",
       "    </tr>\n",
       "    <tr>\n",
       "      <th>1</th>\n",
       "      <td>마지막 가격 내림 아이폰5s 골드 16기가</td>\n",
       "      <td>사용감 좀 있지만, 상태좋고 깨끗한편 입니다 (사진참고)\\n원하시면 같이 사용하던 ...</td>\n",
       "      <td>\\n        경기도 동두천시 상패동\\n</td>\n",
       "      <td>\\n        80,000원\\n</td>\n",
       "    </tr>\n",
       "    <tr>\n",
       "      <th>2</th>\n",
       "      <td>아이폰 12 케이스티파이 케이스 프릭스</td>\n",
       "      <td>프릭스 x 케이스티파이 아이폰 12 모델입니다 사용감이 없지 않아 저렴하게 올립니다</td>\n",
       "      <td>\\n        경기도 용인시 수지구 죽전1동\\n</td>\n",
       "      <td>\\n        20,000원\\n</td>\n",
       "    </tr>\n",
       "    <tr>\n",
       "      <th>3</th>\n",
       "      <td>아이폰 X 애플 정품 가죽케이스 팔아요(박스X)</td>\n",
       "      <td>4년 됐어요.\\n검은색이고요 가죽 상태 괜찮아요.\\n\\nXs는 안 맞습니다, 제가 ...</td>\n",
       "      <td>\\n        서울 관악구 봉천동\\n</td>\n",
       "      <td>\\n        2,000원\\n</td>\n",
       "    </tr>\n",
       "    <tr>\n",
       "      <th>4</th>\n",
       "      <td>📱아이폰 13 풀 박스📱</td>\n",
       "      <td>풀 박스 아이폰 13입니다.\\n찍힘 정도는 사진 확인 부탁드려요!\\n(7번째 사진 ...</td>\n",
       "      <td>\\n        서울 송파구 오금동\\n</td>\n",
       "      <td>\\n        500,000원\\n</td>\n",
       "    </tr>\n",
       "    <tr>\n",
       "      <th>...</th>\n",
       "      <td>...</td>\n",
       "      <td>...</td>\n",
       "      <td>...</td>\n",
       "      <td>...</td>\n",
       "    </tr>\n",
       "    <tr>\n",
       "      <th>5407</th>\n",
       "      <td>3피스 비키니 수영복 (최종가격)</td>\n",
       "      <td>한번 착용 후 보관한 3피스 비키니 수영복 입니다.(수영복이 200벌 넘게 있어서 ...</td>\n",
       "      <td>\\n        서울 용산구 이촌제2동\\n</td>\n",
       "      <td>\\n        6,000원\\n</td>\n",
       "    </tr>\n",
       "    <tr>\n",
       "      <th>5408</th>\n",
       "      <td>꾸비올로하이브리드범퍼케이스2개</td>\n",
       "      <td>기종은 아이폰x/xs입니다\\n몇번 사용 안했어요\\n연락주세요</td>\n",
       "      <td>\\n        경남 거제시 옥포동\\n</td>\n",
       "      <td>\\n        18,000원\\n</td>\n",
       "    </tr>\n",
       "    <tr>\n",
       "      <th>5409</th>\n",
       "      <td>벨킨 듀얼 라이트닝 아이폰 젠더</td>\n",
       "      <td>아이폰 포트가 하나라서 발생하는 불편 해결용 젠더입니다. \\n벨킨 정품으로 mfi ...</td>\n",
       "      <td>\\n        부산 연제구 연산제9동\\n</td>\n",
       "      <td>\\n        37,000원\\n</td>\n",
       "    </tr>\n",
       "    <tr>\n",
       "      <th>5410</th>\n",
       "      <td>케이스티파이 라인프렌즈 콜라보 케이스 12프로맥스(미개봉 새제품)</td>\n",
       "      <td>케이스티파이 x 라인프렌즈 콜라보 케이스 팝니다.\\n미개봉 새제품이고 기종은 아이폰...</td>\n",
       "      <td>\\n        서울 성북구 안암동5가\\n</td>\n",
       "      <td>\\n        50,000원\\n</td>\n",
       "    </tr>\n",
       "    <tr>\n",
       "      <th>5411</th>\n",
       "      <td>아이폰 12 프로 맥스 케이스</td>\n",
       "      <td>아이폰 12 pro max 케이스입니다 \\n곰인형 있는 투명 젤리에요\\n새 것입니다...</td>\n",
       "      <td>\\n        강원도 원주시 행구동\\n</td>\n",
       "      <td>\\n        8,000원\\n</td>\n",
       "    </tr>\n",
       "  </tbody>\n",
       "</table>\n",
       "<p>5412 rows × 4 columns</p>\n",
       "</div>"
      ],
      "text/plain": [
       "                                     title  \\\n",
       "0                         아이폰11 + 박스 + 케이스   \n",
       "1                  마지막 가격 내림 아이폰5s 골드 16기가   \n",
       "2                    아이폰 12 케이스티파이 케이스 프릭스   \n",
       "3               아이폰 X 애플 정품 가죽케이스 팔아요(박스X)   \n",
       "4                            📱아이폰 13 풀 박스📱   \n",
       "...                                    ...   \n",
       "5407                    3피스 비키니 수영복 (최종가격)   \n",
       "5408                      꾸비올로하이브리드범퍼케이스2개   \n",
       "5409                     벨킨 듀얼 라이트닝 아이폰 젠더   \n",
       "5410  케이스티파이 라인프렌즈 콜라보 케이스 12프로맥스(미개봉 새제품)   \n",
       "5411                      아이폰 12 프로 맥스 케이스   \n",
       "\n",
       "                                                 coment  \\\n",
       "0     아이폰11 64GB입니다\\n사진에 보이듯 액정 파손이 있으며 이외 후면과 기능, 카...   \n",
       "1     사용감 좀 있지만, 상태좋고 깨끗한편 입니다 (사진참고)\\n원하시면 같이 사용하던 ...   \n",
       "2        프릭스 x 케이스티파이 아이폰 12 모델입니다 사용감이 없지 않아 저렴하게 올립니다   \n",
       "3     4년 됐어요.\\n검은색이고요 가죽 상태 괜찮아요.\\n\\nXs는 안 맞습니다, 제가 ...   \n",
       "4     풀 박스 아이폰 13입니다.\\n찍힘 정도는 사진 확인 부탁드려요!\\n(7번째 사진 ...   \n",
       "...                                                 ...   \n",
       "5407  한번 착용 후 보관한 3피스 비키니 수영복 입니다.(수영복이 200벌 넘게 있어서 ...   \n",
       "5408                  기종은 아이폰x/xs입니다\\n몇번 사용 안했어요\\n연락주세요   \n",
       "5409  아이폰 포트가 하나라서 발생하는 불편 해결용 젠더입니다. \\n벨킨 정품으로 mfi ...   \n",
       "5410  케이스티파이 x 라인프렌즈 콜라보 케이스 팝니다.\\n미개봉 새제품이고 기종은 아이폰...   \n",
       "5411  아이폰 12 pro max 케이스입니다 \\n곰인형 있는 투명 젤리에요\\n새 것입니다...   \n",
       "\n",
       "                                  region                       price  \n",
       "0           \\n        광주 광산구 어룡동\\n        \\n        150,000원\\n        \n",
       "1         \\n        경기도 동두천시 상패동\\n         \\n        80,000원\\n        \n",
       "2     \\n        경기도 용인시 수지구 죽전1동\\n         \\n        20,000원\\n        \n",
       "3           \\n        서울 관악구 봉천동\\n          \\n        2,000원\\n        \n",
       "4           \\n        서울 송파구 오금동\\n        \\n        500,000원\\n        \n",
       "...                                  ...                         ...  \n",
       "5407      \\n        서울 용산구 이촌제2동\\n          \\n        6,000원\\n        \n",
       "5408        \\n        경남 거제시 옥포동\\n         \\n        18,000원\\n        \n",
       "5409      \\n        부산 연제구 연산제9동\\n         \\n        37,000원\\n        \n",
       "5410      \\n        서울 성북구 안암동5가\\n         \\n        50,000원\\n        \n",
       "5411       \\n        강원도 원주시 행구동\\n          \\n        8,000원\\n        \n",
       "\n",
       "[5412 rows x 4 columns]"
      ]
     },
     "execution_count": 197,
     "metadata": {},
     "output_type": "execute_result"
    }
   ],
   "source": [
    "df = pd.read_csv('아이폰_x검색결과.csv')\n",
    "df"
   ]
  },
  {
   "cell_type": "code",
   "execution_count": 198,
   "metadata": {},
   "outputs": [
    {
     "data": {
      "text/plain": [
       "5412"
      ]
     },
     "execution_count": 198,
     "metadata": {},
     "output_type": "execute_result"
    }
   ],
   "source": [
    "len(df)"
   ]
  },
  {
   "cell_type": "code",
   "execution_count": 199,
   "metadata": {},
   "outputs": [],
   "source": [
    "#price 전처리\n",
    "df['price']=df['price'].str.replace('\\n','')\n",
    "df['price']=df['price'].str.replace(' ','')\n",
    "df['price']=df['price'].str.replace(',','')\n",
    "df['price']=df['price'].str.replace('만원','0000')\n",
    "df['price']=df['price'].str.replace('원','')\n",
    "#df['price']=df['price'].astype(int) 가격없음, 나눔"
   ]
  },
  {
   "cell_type": "code",
   "execution_count": 200,
   "metadata": {},
   "outputs": [],
   "source": [
    "#price를 int로\n",
    "idx = df[df['price'] == \"나눔🧡\"].index\n",
    "df.drop(idx,inplace=True)"
   ]
  },
  {
   "cell_type": "code",
   "execution_count": 201,
   "metadata": {},
   "outputs": [],
   "source": [
    "idx = df[df['price'] =='가격없음'].index\n",
    "df.drop(idx,inplace=True)"
   ]
  },
  {
   "cell_type": "code",
   "execution_count": 202,
   "metadata": {},
   "outputs": [],
   "source": [
    "idx = df[df['price'].str.contains('억')].index\n",
    "df.drop(idx,inplace=True)"
   ]
  },
  {
   "cell_type": "code",
   "execution_count": 203,
   "metadata": {},
   "outputs": [],
   "source": [
    "idx = df[df['price'].str.contains('만')].index\n",
    "df.drop(idx,inplace=True)"
   ]
  },
  {
   "cell_type": "code",
   "execution_count": 204,
   "metadata": {},
   "outputs": [],
   "source": [
    "df['price']=df['price'].astype(int)"
   ]
  },
  {
   "cell_type": "code",
   "execution_count": 205,
   "metadata": {},
   "outputs": [],
   "source": [
    "idx = df[df['price']<10001].index\n",
    "df.drop(idx,inplace=True)"
   ]
  },
  {
   "cell_type": "code",
   "execution_count": 206,
   "metadata": {},
   "outputs": [],
   "source": [
    "idx = df[df['title'].str.contains('케이스')].index\n",
    "df.drop(idx,inplace=True)"
   ]
  },
  {
   "cell_type": "code",
   "execution_count": 207,
   "metadata": {},
   "outputs": [],
   "source": [
    "idx = df[df['title'].str.contains('필름')].index\n",
    "df.drop(idx,inplace=True)"
   ]
  },
  {
   "cell_type": "code",
   "execution_count": 208,
   "metadata": {},
   "outputs": [],
   "source": [
    "df = df.reset_index()"
   ]
  },
  {
   "cell_type": "code",
   "execution_count": 209,
   "metadata": {},
   "outputs": [],
   "source": [
    "# 중복 제거\n",
    "df = df.drop_duplicates()"
   ]
  },
  {
   "cell_type": "code",
   "execution_count": 210,
   "metadata": {},
   "outputs": [],
   "source": [
    "df = df.drop('index',axis=1)"
   ]
  },
  {
   "cell_type": "code",
   "execution_count": 211,
   "metadata": {},
   "outputs": [
    {
     "data": {
      "text/plain": [
       "2206"
      ]
     },
     "execution_count": 211,
     "metadata": {},
     "output_type": "execute_result"
    }
   ],
   "source": [
    "len(df['title'].unique())"
   ]
  },
  {
   "cell_type": "code",
   "execution_count": 212,
   "metadata": {},
   "outputs": [],
   "source": [
    "#region 전처리\n",
    "df['region']=df['region'].str.replace('\\n','')"
   ]
  },
  {
   "cell_type": "code",
   "execution_count": 319,
   "metadata": {},
   "outputs": [
    {
     "data": {
      "text/html": [
       "<div>\n",
       "<style scoped>\n",
       "    .dataframe tbody tr th:only-of-type {\n",
       "        vertical-align: middle;\n",
       "    }\n",
       "\n",
       "    .dataframe tbody tr th {\n",
       "        vertical-align: top;\n",
       "    }\n",
       "\n",
       "    .dataframe thead th {\n",
       "        text-align: right;\n",
       "    }\n",
       "</style>\n",
       "<table border=\"1\" class=\"dataframe\">\n",
       "  <thead>\n",
       "    <tr style=\"text-align: right;\">\n",
       "      <th></th>\n",
       "      <th>title</th>\n",
       "      <th>coment</th>\n",
       "      <th>region</th>\n",
       "      <th>price</th>\n",
       "    </tr>\n",
       "  </thead>\n",
       "  <tbody>\n",
       "    <tr>\n",
       "      <th>3</th>\n",
       "      <td>아이폰X 256GB</td>\n",
       "      <td>중고로 샀는데 2주일도 안 지나고 떨궈버려서 화면이 조금 까매졌어요..\\n폰 위쪽 ...</td>\n",
       "      <td>울산 남구 야음동</td>\n",
       "      <td>198000</td>\n",
       "    </tr>\n",
       "    <tr>\n",
       "      <th>4</th>\n",
       "      <td>아이폰X 256GB</td>\n",
       "      <td>아이폰X 배터리효율 85퍼이고 모든 기능 정상작동 합니다. 생활기스 조금있지만 눈에...</td>\n",
       "      <td>인천 미추홀구 숭의동</td>\n",
       "      <td>230000</td>\n",
       "    </tr>\n",
       "    <tr>\n",
       "      <th>5</th>\n",
       "      <td>아이폰x(64G)</td>\n",
       "      <td>외부생활기스\\n(페이스 아이디 안됨)\\n기능정상 입니다\\n배터리 100프로🔋\\n전통...</td>\n",
       "      <td>대구 달성군 유가읍</td>\n",
       "      <td>190000</td>\n",
       "    </tr>\n",
       "    <tr>\n",
       "      <th>6</th>\n",
       "      <td>아이폰x 256g 판매합니다</td>\n",
       "      <td>아이폰x 256g 판매합니다. 배터리76프로 박스있습니다.</td>\n",
       "      <td>서울 송파구 풍납동</td>\n",
       "      <td>200000</td>\n",
       "    </tr>\n",
       "    <tr>\n",
       "      <th>7</th>\n",
       "      <td>아이폰 X 256GB(쿨거네고/상태좋음)</td>\n",
       "      <td>15pro로 바꾸면서 세컨폰으로 가지고 있다가 판매합니다.\\n스페이스그레이\\n배터리...</td>\n",
       "      <td>서울 송파구 위례동</td>\n",
       "      <td>170000</td>\n",
       "    </tr>\n",
       "    <tr>\n",
       "      <th>...</th>\n",
       "      <td>...</td>\n",
       "      <td>...</td>\n",
       "      <td>...</td>\n",
       "      <td>...</td>\n",
       "    </tr>\n",
       "    <tr>\n",
       "      <th>2361</th>\n",
       "      <td>아이폰XR 64GB 레드 (81%)</td>\n",
       "      <td>아이폰XR 64GB (이어폰X박스X케이블X)\\n배터리 81%\\n액정 하단 두줄 있으...</td>\n",
       "      <td>경기도 성남시 분당구 이매동</td>\n",
       "      <td>162000</td>\n",
       "    </tr>\n",
       "    <tr>\n",
       "      <th>2364</th>\n",
       "      <td>아이폰xr 128기가 뒷판파손</td>\n",
       "      <td>전체적으로 사용감은 있지만 침수없이(x) 잘쓰다\\n팔아봅니다!  배터리80 프로 이...</td>\n",
       "      <td>경기도 안산시 상록구 성포동</td>\n",
       "      <td>180000</td>\n",
       "    </tr>\n",
       "    <tr>\n",
       "      <th>2429</th>\n",
       "      <td>아이폰 xs 실버 64gb</td>\n",
       "      <td>아이폰 xs 64gb\\n전면 카메라에 약간의 금이 있습니다\\n페이스아이디x \\n배터...</td>\n",
       "      <td>경기도 용인시 기흥구 서천동</td>\n",
       "      <td>170000</td>\n",
       "    </tr>\n",
       "    <tr>\n",
       "      <th>2443</th>\n",
       "      <td>아이폰xs 256기가 (단품)</td>\n",
       "      <td>사진 보시면 오른쪽 상단 맨위에 액정나갔습니다 ㅠ \\n작동은 잘되요!  고쳐서 사용...</td>\n",
       "      <td>인천 미추홀구 주안3동</td>\n",
       "      <td>230000</td>\n",
       "    </tr>\n",
       "    <tr>\n",
       "      <th>2462</th>\n",
       "      <td>아이폰 xr 64기가</td>\n",
       "      <td>네고xxxxxxxxx\\n아이폰 화이트 XR 64기가 \\n액정 기스X \\n카메라 기스...</td>\n",
       "      <td>서울 강동구 길동</td>\n",
       "      <td>200000</td>\n",
       "    </tr>\n",
       "  </tbody>\n",
       "</table>\n",
       "<p>978 rows × 4 columns</p>\n",
       "</div>"
      ],
      "text/plain": [
       "                       title  \\\n",
       "3                 아이폰X 256GB   \n",
       "4                 아이폰X 256GB   \n",
       "5                  아이폰x(64G)   \n",
       "6            아이폰x 256g 판매합니다   \n",
       "7     아이폰 X 256GB(쿨거네고/상태좋음)   \n",
       "...                      ...   \n",
       "2361     아이폰XR 64GB 레드 (81%)   \n",
       "2364        아이폰xr 128기가 뒷판파손   \n",
       "2429          아이폰 xs 실버 64gb   \n",
       "2443        아이폰xs 256기가 (단품)   \n",
       "2462             아이폰 xr 64기가   \n",
       "\n",
       "                                                 coment  \\\n",
       "3     중고로 샀는데 2주일도 안 지나고 떨궈버려서 화면이 조금 까매졌어요..\\n폰 위쪽 ...   \n",
       "4     아이폰X 배터리효율 85퍼이고 모든 기능 정상작동 합니다. 생활기스 조금있지만 눈에...   \n",
       "5     외부생활기스\\n(페이스 아이디 안됨)\\n기능정상 입니다\\n배터리 100프로🔋\\n전통...   \n",
       "6                      아이폰x 256g 판매합니다. 배터리76프로 박스있습니다.   \n",
       "7     15pro로 바꾸면서 세컨폰으로 가지고 있다가 판매합니다.\\n스페이스그레이\\n배터리...   \n",
       "...                                                 ...   \n",
       "2361  아이폰XR 64GB (이어폰X박스X케이블X)\\n배터리 81%\\n액정 하단 두줄 있으...   \n",
       "2364  전체적으로 사용감은 있지만 침수없이(x) 잘쓰다\\n팔아봅니다!  배터리80 프로 이...   \n",
       "2429  아이폰 xs 64gb\\n전면 카메라에 약간의 금이 있습니다\\n페이스아이디x \\n배터...   \n",
       "2443  사진 보시면 오른쪽 상단 맨위에 액정나갔습니다 ㅠ \\n작동은 잘되요!  고쳐서 사용...   \n",
       "2462  네고xxxxxxxxx\\n아이폰 화이트 XR 64기가 \\n액정 기스X \\n카메라 기스...   \n",
       "\n",
       "                             region   price  \n",
       "3                   울산 남구 야음동        198000  \n",
       "4                 인천 미추홀구 숭의동        230000  \n",
       "5                  대구 달성군 유가읍        190000  \n",
       "6                  서울 송파구 풍납동        200000  \n",
       "7                  서울 송파구 위례동        170000  \n",
       "...                             ...     ...  \n",
       "2361          경기도 성남시 분당구 이매동        162000  \n",
       "2364          경기도 안산시 상록구 성포동        180000  \n",
       "2429          경기도 용인시 기흥구 서천동        170000  \n",
       "2443             인천 미추홀구 주안3동        230000  \n",
       "2462                서울 강동구 길동        200000  \n",
       "\n",
       "[978 rows x 4 columns]"
      ]
     },
     "execution_count": 319,
     "metadata": {},
     "output_type": "execute_result"
    }
   ],
   "source": [
    "df"
   ]
  },
  {
   "cell_type": "code",
   "execution_count": 318,
   "metadata": {},
   "outputs": [],
   "source": [
    "idx = df[df['title'].str.contains('아이폰9')].index\n",
    "df.drop(idx,inplace=True)"
   ]
  },
  {
   "cell_type": "code",
   "execution_count": 320,
   "metadata": {},
   "outputs": [],
   "source": [
    "df.to_csv('아이폰_x_전처리.csv',index=False, encoding=\"utf-8-sig\")"
   ]
  },
  {
   "cell_type": "code",
   "execution_count": null,
   "metadata": {},
   "outputs": [],
   "source": []
  }
 ],
 "metadata": {
  "kernelspec": {
   "display_name": "myenv",
   "language": "python",
   "name": "python3"
  },
  "language_info": {
   "codemirror_mode": {
    "name": "ipython",
    "version": 3
   },
   "file_extension": ".py",
   "mimetype": "text/x-python",
   "name": "python",
   "nbconvert_exporter": "python",
   "pygments_lexer": "ipython3",
   "version": "3.10.11"
  }
 },
 "nbformat": 4,
 "nbformat_minor": 2
}
