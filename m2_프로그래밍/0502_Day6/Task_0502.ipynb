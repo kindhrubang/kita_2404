{
  "nbformat": 4,
  "nbformat_minor": 0,
  "metadata": {
    "colab": {
      "provenance": [],
      "toc_visible": true
    },
    "kernelspec": {
      "name": "python3",
      "display_name": "Python 3"
    },
    "language_info": {
      "name": "python"
    }
  },
  "cells": [
    {
      "cell_type": "markdown",
      "source": [
        "Task1_0502. 짝수와 짝수를 입력하면 곱한 값을 출력하고 홀수와 홀수를 입력하면 덧셈 값을 출력하고 그외는 다시 입력하라는 메시지를 출력하세요."
      ],
      "metadata": {
        "id": "wBw2q06D2PpJ"
      }
    },
    {
      "cell_type": "code",
      "execution_count": 5,
      "metadata": {
        "colab": {
          "base_uri": "https://localhost:8080/"
        },
        "id": "f-pVihiE2NMq",
        "outputId": "fa90b7d8-58bc-44a1-a535-2f2be178b550"
      },
      "outputs": [
        {
          "output_type": "stream",
          "name": "stdout",
          "text": [
            "첫번째 숫자 입력 : 1\n",
            "두번째 숫자 입력 : 1\n",
            "1과 1의 합은 2입니다\n"
          ]
        }
      ],
      "source": [
        "while True:\n",
        "    num1 = int(input('첫번째 숫자 입력 : '))\n",
        "    num2 = int(input('두번째 숫자 입력 : '))\n",
        "\n",
        "    if num1 % 2 == 0 and num2 % 2 ==0:\n",
        "        print(f'{num1}과 {num2}의 곱은 {num1 * num2}입니다')\n",
        "        break\n",
        "    elif num1 % 2 == 1 and num2 % 2 ==1:\n",
        "        print(f'{num1}과 {num2}의 합은 {num1 + num2}입니다')\n",
        "        break\n",
        "    else:\n",
        "        print('다시 입력하세요\\n')"
      ]
    },
    {
      "cell_type": "markdown",
      "source": [
        "Task2_0502. 현재 계절 구분 프로그램\n",
        "- 시나리오 : 3 ~ 5월은 봄, 6 ~ 8월은 여름, 9 ~ 11월은 가을, 12 ~ 2월은 겨울로 구분. 지금 계절을 알려주는 프로그램\n",
        "- 각 계절별 출력 멘트는 계절에 맞게 창작\n",
        "- if 조건문으로 datetime 모듈을 import해서 datetime.now 함수를 사용해서 작성"
      ],
      "metadata": {
        "id": "3YhTBmif5YsT"
      }
    },
    {
      "cell_type": "code",
      "source": [
        "import datetime\n",
        "\n",
        "now_time=str(datetime.datetime.now())\n",
        "main = int(now_time[5:7])\n",
        "if main >= 3 and main <=5:\n",
        "    print('꽃가루~')\n",
        "elif main >= 6 and main <=8:\n",
        "    print('더워~')\n",
        "elif main >= 9 and main <=11:\n",
        "    print('살쪄~')\n",
        "elif main >= 12 and main <=2:\n",
        "    print('추워~')"
      ],
      "metadata": {
        "colab": {
          "base_uri": "https://localhost:8080/"
        },
        "id": "GS-SelrK5Y_Q",
        "outputId": "5339b32d-35be-4b68-f8d7-aa1299985cca"
      },
      "execution_count": 17,
      "outputs": [
        {
          "output_type": "stream",
          "name": "stdout",
          "text": [
            "꽃가루~\n"
          ]
        }
      ]
    },
    {
      "cell_type": "markdown",
      "source": [
        "Task3_0502. 1부터 99까지 아래와 같이 2개의 수를 곱해서 가장 큰 수를 구하세요.\n",
        "\n",
        "`1*99, 2*98 ...99*1`"
      ],
      "metadata": {
        "id": "HLA4ffZJ5pGK"
      }
    },
    {
      "cell_type": "code",
      "source": [
        "keep = 0\n",
        "c=0\n",
        "y = 0\n",
        "z = 0\n",
        "for a in range(1,100):\n",
        "    c=a*(100 - a)\n",
        "    if c>keep:\n",
        "        keep = c\n",
        "        y = a\n",
        "print(f'{y} 와 {100-y}의 값이 {keep}으로 가장 큽니다')"
      ],
      "metadata": {
        "colab": {
          "base_uri": "https://localhost:8080/"
        },
        "id": "Wxj86uuL5pW_",
        "outputId": "b7b56330-c5c2-41e6-949f-d39646f13639"
      },
      "execution_count": 19,
      "outputs": [
        {
          "output_type": "stream",
          "name": "stdout",
          "text": [
            "50 와 50의 값이 2500으로 가장 큽니다\n"
          ]
        }
      ]
    },
    {
      "cell_type": "markdown",
      "source": [
        "Task4_0502. [    ]을 채워서 아래의 출력과 같이 출력하세요.\n",
        "\n",
        "numbers = [1,2,3,4,5,6,7,8,9]\n",
        "output = [[], [], []]\n",
        "\n",
        "\n",
        "`[[1,4,7],[2,5,8],[3,6,9]]`"
      ],
      "metadata": {
        "id": "46RM3jBB6Bme"
      }
    },
    {
      "cell_type": "code",
      "source": [
        "numbers = [1,2,3,4,5,6,7,8,9]\n",
        "output = [[], [], []]\n",
        "output = [numbers[i::3] for i in range(3) ]\n",
        "print(output)"
      ],
      "metadata": {
        "colab": {
          "base_uri": "https://localhost:8080/"
        },
        "id": "EzH3YJqU6B-F",
        "outputId": "13352225-63b7-461f-bb91-b34de1edfc27"
      },
      "execution_count": 20,
      "outputs": [
        {
          "output_type": "stream",
          "name": "stdout",
          "text": [
            "[[1, 4, 7], [2, 5, 8], [3, 6, 9]]\n"
          ]
        }
      ]
    },
    {
      "cell_type": "markdown",
      "source": [
        "Task5_0502. 주어진 리스트에서 중복된 요소를 제거하고, 남은 요소만을 포함하는 새 리스트를 반환합니다. 순서는 유지해야 합니다."
      ],
      "metadata": {
        "id": "ugI92oFP6Sxo"
      }
    },
    {
      "cell_type": "code",
      "source": [
        "input_list = [1, 2, 2, 3, 4, 4, 4, 5, 6, 7, 7]\n",
        "list_set = set(input_list)\n",
        "new_list = list(list_set)\n",
        "print(new_list)"
      ],
      "metadata": {
        "colab": {
          "base_uri": "https://localhost:8080/"
        },
        "id": "F7CJyNPS6T0u",
        "outputId": "cf0431ee-6629-438a-a6f8-65d9de12ce59"
      },
      "execution_count": 22,
      "outputs": [
        {
          "output_type": "stream",
          "name": "stdout",
          "text": [
            "[1, 2, 3, 4, 5, 6, 7]\n"
          ]
        }
      ]
    },
    {
      "cell_type": "markdown",
      "source": [
        "Task6_0502.주어진 문자열을 모스 코드로 변환하는 함수를 작성하세요. 공백은 무시하고 알파벳만 변환하세요.\n",
        "\n",
        "input_text = \"Hello World\""
      ],
      "metadata": {
        "id": "JKuYbqtW6veU"
      }
    },
    {
      "cell_type": "code",
      "source": [
        "morse_code = {\n",
        "        'A': '.-', 'B': '-...', 'C': '-.-.', 'D': '-..', 'E': '.', 'F': '..-.',\n",
        "        'G': '--.', 'H': '....', 'I': '..', 'J': '.---', 'K': '-.-', 'L': '.-..',\n",
        "        'M': '--', 'N': '-.', 'O': '---', 'P': '.--.', 'Q': '--.-', 'R': '.-.',\n",
        "        'S': '...', 'T': '-', 'U': '..-', 'V': '...-', 'W': '.--', 'X': '-..-',\n",
        "        'Y': '-.--', 'Z': '--..'\n",
        "    }\n",
        "\n",
        "input_text = input('모스코드로 바꿀 문자열 입력 : ')\n",
        "#input_text = \"Hello World\"\n",
        "\n",
        "upper_text = input_text.upper()\n",
        "upper_text = upper_text.replace(' ', '')\n",
        "text_list = [upper_text[i] for i in range(len(upper_text))]\n",
        "output = ''\n",
        "for i in text_list:\n",
        "    output=output + morse_code[i]\n",
        "\n",
        "print(text_list)\n",
        "print(output)"
      ],
      "metadata": {
        "colab": {
          "base_uri": "https://localhost:8080/"
        },
        "id": "Z_QjBLPl6d7Z",
        "outputId": "9328d634-d5fb-4fdf-d3b7-80ff5cea8519"
      },
      "execution_count": 34,
      "outputs": [
        {
          "output_type": "stream",
          "name": "stdout",
          "text": [
            "모스코드로 바꿀 문자열 입력 : Hello World\n",
            "['H', 'E', 'L', 'L', 'O', 'W', 'O', 'R', 'L', 'D']\n",
            "......-...-..---.-----.-..-..-..\n"
          ]
        }
      ]
    },
    {
      "cell_type": "markdown",
      "source": [
        "Task7_0502. 주어진 비대칭 m×n 매트릭스(2차원 리스트)에서, 모든 대각선 상의 합을 계산하는 함수를 작성하세요. 결과는 각 대각선의 합을 리스트로 반환해야 합니다."
      ],
      "metadata": {
        "id": "PFCXc8d_7I9U"
      }
    },
    {
      "cell_type": "code",
      "source": [
        "input_matrix = [\n",
        "    [1,  2,   3],\n",
        "    [4,  5,   6],\n",
        "    [7,  8,   9],\n",
        "    [10, 11, 12]\n",
        "]\n",
        "#a=0\n",
        "#input_matrix[0][0] a a\n",
        "\n",
        "#a=1             a, a-1            a1, a\n",
        "#input_matrix[1][0] +input_matrix[0][1]\n",
        "#a=2             a  a-2              a-1 a-1            a-2 a\n",
        "#input_matrix[2][0] +input_matrix[1][1]+input_matrix[0][2]\n",
        "#a=3\n",
        "#input_matrix[3][0] +input_matrix[2][1]+input_matrix[1][2] +input_matrix[0][3]\n",
        "#....\n",
        "#input_matrix[3][1] + input_matrix[2][2]\n",
        "#input_matrix[3][2]\n",
        "output_list = []\n",
        "count = 0\n",
        "for a in range(len(input_matrix)):\n",
        "    sum = 0\n",
        "    if a < len(input_matrix[0]):\n",
        "        for i in range(a+1):\n",
        "            sum = sum + input_matrix[abs(a-i)][abs(i)]\n",
        "        output_list.append(sum)\n",
        "    elif a == len(input_matrix[0]):\n",
        "        for i in range(a):\n",
        "            sum = sum + input_matrix[abs(a-i)][abs(i)]\n",
        "        output_list.append(sum)\n",
        "        for d in range(len(input_matrix[0])):\n",
        "\n",
        "\n",
        "\n",
        "\n",
        "\n",
        "\n",
        "print(output_list)"
      ],
      "metadata": {
        "colab": {
          "base_uri": "https://localhost:8080/"
        },
        "id": "WH4eP1nO7D2K",
        "outputId": "a01c2774-67cc-47e1-a52a-4e358fedebb4"
      },
      "execution_count": 107,
      "outputs": [
        {
          "output_type": "stream",
          "name": "stdout",
          "text": [
            "[1, 6, 15, 24]\n"
          ]
        }
      ]
    },
    {
      "cell_type": "code",
      "source": [
        "for i in range(0):\n",
        "    print(i)"
      ],
      "metadata": {
        "id": "m-4_lTV7UApZ"
      },
      "execution_count": 53,
      "outputs": []
    },
    {
      "cell_type": "code",
      "source": [
        "for a in range(4):\n",
        "    for i in range(a):\n",
        "        print(a)"
      ],
      "metadata": {
        "colab": {
          "base_uri": "https://localhost:8080/"
        },
        "id": "LqnoSYcIOixJ",
        "outputId": "7f3d0930-1188-43f5-d7c7-5f3a4e113fb1"
      },
      "execution_count": 42,
      "outputs": [
        {
          "output_type": "stream",
          "name": "stdout",
          "text": [
            "1\n",
            "2\n",
            "2\n",
            "3\n",
            "3\n",
            "3\n"
          ]
        }
      ]
    },
    {
      "cell_type": "code",
      "source": [],
      "metadata": {
        "id": "u0mSn8RBRF1t"
      },
      "execution_count": null,
      "outputs": []
    }
  ]
}