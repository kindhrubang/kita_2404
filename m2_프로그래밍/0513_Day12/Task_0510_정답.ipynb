{
  "nbformat": 4,
  "nbformat_minor": 0,
  "metadata": {
    "colab": {
      "provenance": []
    },
    "kernelspec": {
      "name": "python3",
      "display_name": "Python 3"
    },
    "language_info": {
      "name": "python"
    }
  },
  "cells": [
    {
      "cell_type": "markdown",
      "source": [
        "Task1_0510. try ~ except, try ~ except ~ finally, try ~ except ~else, try ~ except ~else ~finally 4가지 예외 처리가 필요한 경우에 대해서 코딩을 수행하세요."
      ],
      "metadata": {
        "id": "cCQNGA7dVj3H"
      }
    },
    {
      "cell_type": "code",
      "source": [
        "try:\n",
        "    ans = int(input('정수값을 입력하세요:'))\n",
        "except:\n",
        "    print('잘못 입력하셧습니다')\n",
        "\n",
        "try:\n",
        "    ans = int(input('정수값을 입력하세요:'))\n",
        "except:\n",
        "    print('잘못 입력하셧습니다')\n",
        "finally:\n",
        "    print('프로그램을 종료합니다')\n"
      ],
      "metadata": {
        "colab": {
          "base_uri": "https://localhost:8080/"
        },
        "id": "KCNPeu3rRz8i",
        "outputId": "a395d37a-b703-4d90-a110-70bb825573aa"
      },
      "execution_count": 1,
      "outputs": [
        {
          "output_type": "stream",
          "name": "stdout",
          "text": [
            "정수값을 입력하세요:qwe\n",
            "잘못 입력하셧습니다\n",
            "정수값을 입력하세요:zxc\n",
            "잘못 입력하셧습니다\n",
            "프로그램을 종료합니다\n",
            "정수값을 입력하세요:1\n",
            "asdasd\n"
          ]
        }
      ]
    },
    {
      "cell_type": "code",
      "execution_count": null,
      "metadata": {
        "id": "CPenB_8aVdqD"
      },
      "outputs": [],
      "source": [
        "\n",
        "try:\n",
        "    ans = int(input('정수값을 입력하세요:'))\n",
        "except:\n",
        "    print('잘못 입력하셧습니다')\n",
        "else:\n",
        "    print(f'오늘의 행운의 숫자는 {ans}입니다.')\n",
        "\n",
        "try:\n",
        "    ans = int(input('정수값을 입력하세요:'))\n",
        "except:\n",
        "    print('잘못 입력하셧습니다')\n",
        "else:\n",
        "    print(f'오늘의 행운의 숫자는 {ans}입니다.')\n",
        "finally:\n",
        "    print('프로그램을 종료합니다.')"
      ]
    },
    {
      "cell_type": "markdown",
      "source": [
        "Task2_0510. 리스트 ['52','273','32','문자','103']에서 숫자 부분만 출력하세요(예외 처리 수행)"
      ],
      "metadata": {
        "id": "mM0_fepZVqQ4"
      }
    },
    {
      "cell_type": "code",
      "source": [
        "mlist =  ['52','273','32','문자','103']\n",
        "nlist = []\n",
        "for i in mlist:\n",
        "\n",
        "    try:\n",
        "        a= int(i)\n",
        "    except:\n",
        "        continue\n",
        "    nlist.append(a)\n",
        "\n",
        "print(nlist)"
      ],
      "metadata": {
        "id": "LnEJnLhJVsJG",
        "colab": {
          "base_uri": "https://localhost:8080/"
        },
        "outputId": "48428cb3-767b-4bb3-cdd6-a9db4d35753d"
      },
      "execution_count": 4,
      "outputs": [
        {
          "output_type": "stream",
          "name": "stdout",
          "text": [
            "[52, 273, 32, 103]\n"
          ]
        }
      ]
    },
    {
      "cell_type": "markdown",
      "source": [
        "Task3_0510. 두가지 시나리오를 예외처리를 하여 코드 작업을 수행하세요\n",
        "- 정수를 입력하면 > '예외 발생하지 않음' > '프로그램 종료'\n",
        "- 정수를 입력하지 않으면 > '정수 아님' > '프로그램 종료'"
      ],
      "metadata": {
        "id": "rtWImWdRV1rF"
      }
    },
    {
      "cell_type": "code",
      "source": [
        "try:\n",
        "    n = int(input('정수입력'))\n",
        "except:\n",
        "    print('정수 아님')\n",
        "else:\n",
        "    print(n)\n",
        "    print('예외 발생하지 않음')\n",
        "finally:\n",
        "    print('프로그램 종료')"
      ],
      "metadata": {
        "id": "AGHhXug_V19H",
        "colab": {
          "base_uri": "https://localhost:8080/"
        },
        "outputId": "df970ea5-894c-4298-dc34-a493c817768b"
      },
      "execution_count": 7,
      "outputs": [
        {
          "output_type": "stream",
          "name": "stdout",
          "text": [
            "정수입력123ㅂ\n",
            "정수 아님\n",
            "프로그램 종료\n"
          ]
        }
      ]
    },
    {
      "cell_type": "markdown",
      "source": [
        "Task4_0510. 생성자만으로 구성된 클래스를 작성하고 객체 3개를 만들어서 결과를 출력하세요."
      ],
      "metadata": {
        "id": "kA_7p7g2hxxI"
      }
    },
    {
      "cell_type": "code",
      "source": [
        "class Test:\n",
        "    def __init__(self, a, b):\n",
        "        self.a =a\n",
        "        self.b = b\n",
        "        print(a+b)\n",
        "\n",
        "obj1 = Test(1,2)\n",
        "obj2 = Test(4,2)\n",
        "obj3 = Test(2,8)"
      ],
      "metadata": {
        "id": "fbuSejMchyEV",
        "colab": {
          "base_uri": "https://localhost:8080/"
        },
        "outputId": "50c20172-ec1c-4321-cba0-f4c46961e8ed"
      },
      "execution_count": 8,
      "outputs": [
        {
          "output_type": "stream",
          "name": "stdout",
          "text": [
            "3\n",
            "6\n",
            "10\n"
          ]
        }
      ]
    },
    {
      "cell_type": "markdown",
      "source": [
        "Task5_0510. 생성자, 메소드를 모두 포함하는 클래스를 작성하고 객체 3개를 만들어서 결과를 출력하세요"
      ],
      "metadata": {
        "id": "ceLZg_GthyWD"
      }
    },
    {
      "cell_type": "code",
      "source": [
        "class MyCar:\n",
        "\n",
        "    def __init__(self, name, color='white', price=2000):\n",
        "        self.name = name\n",
        "        self.color = color\n",
        "        self.price = price\n",
        "\n",
        "    def car_sound(self):\n",
        "        if self.price>15000:\n",
        "            print('부아아아앙')\n",
        "        elif self.price>10000:\n",
        "            print('위이이이잉')\n",
        "        else:\n",
        "            print('털털털털')\n",
        "\n",
        "a = MyCar('아반때')\n",
        "b = MyCar('페라리', 'red', 17000)\n",
        "c = MyCar('벤츠', 'black', 14000)\n",
        "\n",
        "print(a.name)\n",
        "print(b.name)\n",
        "print(c.name)\n",
        "print()\n",
        "a.car_sound()\n",
        "b.car_sound()\n",
        "c.car_sound()"
      ],
      "metadata": {
        "id": "8DaRczClh0FX",
        "colab": {
          "base_uri": "https://localhost:8080/"
        },
        "outputId": "4f1121c0-c47e-4d3f-800c-ad979dad2d23"
      },
      "execution_count": 20,
      "outputs": [
        {
          "output_type": "stream",
          "name": "stdout",
          "text": [
            "아반때\n",
            "페라리\n",
            "벤츠\n",
            "\n",
            "털털털털\n",
            "부아아아앙\n",
            "위이이이잉\n"
          ]
        }
      ]
    },
    {
      "cell_type": "markdown",
      "source": [
        "Task6_0510. 여러개의 음식을 주문할 수 있는 주문 시스템을 작성하세요.(클래스 활용 - 객체 지향)"
      ],
      "metadata": {
        "id": "vIjm14ww4fOW"
      }
    },
    {
      "cell_type": "code",
      "source": [
        "class OrderSystem:\n",
        "    def __init__(self):\n",
        "        self.menu_items = {\n",
        "            '1': (\"불고기 비빔밥\", 12000),\n",
        "            '2': (\"야채 비빔밥\", 8000),\n",
        "            '3': (\"전주 비빔밥\", 10000)\n",
        "        }\n",
        "        self.set_price = 3000\n",
        "        self.orders = {}\n",
        "        self.price_total = 0\n",
        "\n",
        "    def display_menu(self):\n",
        "        print(\"\\n♣♣♣ KITA 식당에 오신 것을 환영합니다 ♣♣♣\")\n",
        "        print(\"========================================\")\n",
        "        print(\"           - 메뉴 -\")\n",
        "        for key, (name, price) in self.menu_items.items():\n",
        "            print(f\"  {key}. {name} : {price}원\")\n",
        "        print(\"\\n  세트 주문시 : 3000원 추가 (세트는 밥과 반찬이 추가됩니다.)\")\n",
        "        print(\"========================================\")\n",
        "\n",
        "    def display_order_summary(self):\n",
        "        print(\"\\n■장바구니\")\n",
        "        self.price_total = 0\n",
        "        for key, (name, price) in self.menu_items.items():\n",
        "            count = self.orders.get((key, False), 0)\n",
        "            count_set = self.orders.get((key, True), 0)\n",
        "            print(f\" {name} {count}개: {count * price}원\")\n",
        "            print(f\" {name} 세트 {count_set}개: {count_set * (price + self.set_price)}원\")\n",
        "            self.price_total += (count * price) + (count_set * (price + self.set_price))\n",
        "        print(f\" 총 금액 {self.price_total}원\\n\")\n",
        "\n",
        "    def add_order(self, menu_id, is_set):\n",
        "        item_name, item_price = self.menu_items[menu_id]\n",
        "        if is_set:\n",
        "            item_price += self.set_price\n",
        "        num = input(f\"\\n● {item_name}{' 세트' if is_set else ''} 몇 개 주문 하시겠습니까?\\n\")\n",
        "        if num.isdigit() and int(num) > 0:\n",
        "            self.orders[(menu_id, is_set)] = self.orders.get((menu_id, is_set), 0) + int(num)\n",
        "            print(f\"\\n{item_name}{' 세트' if is_set else ''} {num}개가 장바구니에 담겼습니다.\\n\")\n",
        "        else:\n",
        "            print('★양수만 입력하세요.★')\n",
        "\n",
        "    def process_order(self):\n",
        "        while True:\n",
        "            print('★비빔밥 주문 KIOSK★','\\n')\n",
        "            msg = input(\"● 주문을 하시겠습니까? (y 또는 n) >> \").strip().lower()\n",
        "            if msg == 'y':\n",
        "                while True:\n",
        "                    self.display_menu()\n",
        "                    self.display_order_summary()\n",
        "                    choice = input(\"● 주문할 메뉴를 골라주세요. (불고기 비빔밥:1, 야채 비빔밥:2, 전주 비빔밥:3, 전체 취소:0, 결제:5) >> \").strip().lower()\n",
        "                    if choice in self.menu_items:\n",
        "                        set_choice = input(\"\\n●3000원을 추가해 세트로 주문하시겠습니까? (일반주문시:n, 세트주문시:y)\\n\").strip().lower()\n",
        "                        if set_choice in ['y', 'n']:\n",
        "                            self.add_order(choice, set_choice == 'y')\n",
        "                        else:\n",
        "                            print('★올바른 선택을 입력하세요 (y 또는 n).★')\n",
        "\n",
        "                    elif choice == '0':\n",
        "                        self.orders.clear()\n",
        "                        print('\\n모든 주문이 취소되었습니다.')\n",
        "\n",
        "                    elif choice == '5':\n",
        "                        if self.price_total > 0:\n",
        "                            print(f'\\n●주문하려면 결제해주세요. 결제금액은 {self.price_total}원 입니다.\\n')\n",
        "                            input(\"결제를 완료하려면 아무 키나 누르세요...\")  # 사용자가 결제를 확인할 수 있도록 입력 대기\n",
        "                            print(f\"\\n총 금액은 {self.price_total}원이 결제 되었습니다. 감사합니다.\",'\\n')\n",
        "                            self.orders.clear()\n",
        "                            break\n",
        "                        else:\n",
        "                            print('★메뉴를 고르고 주문해주세요!★')\n",
        "\n",
        "                    else:\n",
        "                        print('★메뉴의 지정된 숫자로 입력하세요★')\n",
        "\n",
        "            else:\n",
        "                print('감사합니다.')\n",
        "                break\n",
        "\n",
        "if __name__ == \"__main__\":\n",
        "    order_system = OrderSystem()\n",
        "    order_system.process_order()"
      ],
      "metadata": {
        "id": "h2XxNl1dXQE5"
      },
      "execution_count": 19,
      "outputs": []
    }
  ]
}