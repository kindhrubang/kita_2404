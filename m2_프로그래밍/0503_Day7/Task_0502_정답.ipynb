{
  "nbformat": 4,
  "nbformat_minor": 0,
  "metadata": {
    "colab": {
      "provenance": [],
      "toc_visible": true
    },
    "kernelspec": {
      "name": "python3",
      "display_name": "Python 3"
    },
    "language_info": {
      "name": "python"
    }
  },
  "cells": [
    {
      "cell_type": "markdown",
      "source": [
        "Task1_0502. 짝수와 짝수를 입력하면 곱한 값을 출력하고 홀수와 홀수를 입력하면 덧셈 값을 출력하고 그외는 다시 입력하라는 메시지를 출력하세요."
      ],
      "metadata": {
        "id": "wBw2q06D2PpJ"
      }
    },
    {
      "cell_type": "code",
      "execution_count": null,
      "metadata": {
        "colab": {
          "base_uri": "https://localhost:8080/"
        },
        "id": "f-pVihiE2NMq",
        "outputId": "fa90b7d8-58bc-44a1-a535-2f2be178b550"
      },
      "outputs": [
        {
          "output_type": "stream",
          "name": "stdout",
          "text": [
            "첫번째 숫자 입력 : 1\n",
            "두번째 숫자 입력 : 1\n",
            "1과 1의 합은 2입니다\n"
          ]
        }
      ],
      "source": [
        "while True:\n",
        "    num1 = int(input('첫번째 숫자 입력 : '))\n",
        "    num2 = int(input('두번째 숫자 입력 : '))\n",
        "\n",
        "    if num1 % 2 == 0 and num2 % 2 ==0:\n",
        "        print(f'{num1}과 {num2}의 곱은 {num1 * num2}입니다')\n",
        "        break\n",
        "    elif num1 % 2 == 1 and num2 % 2 ==1:\n",
        "        print(f'{num1}과 {num2}의 합은 {num1 + num2}입니다')\n",
        "        break\n",
        "    else:\n",
        "        print('다시 입력하세요\\n')"
      ]
    },
    {
      "cell_type": "markdown",
      "source": [
        "Task2_0502. 현재 계절 구분 프로그램\n",
        "- 시나리오 : 3 ~ 5월은 봄, 6 ~ 8월은 여름, 9 ~ 11월은 가을, 12 ~ 2월은 겨울로 구분. 지금 계절을 알려주는 프로그램\n",
        "- 각 계절별 출력 멘트는 계절에 맞게 창작\n",
        "- if 조건문으로 datetime 모듈을 import해서 datetime.now 함수를 사용해서 작성"
      ],
      "metadata": {
        "id": "3YhTBmif5YsT"
      }
    },
    {
      "cell_type": "code",
      "source": [
        "import datetime\n",
        "\n",
        "now_time=str(datetime.datetime.now())\n",
        "main = int(now_time[5:7])\n",
        "if main >= 3 and main <=5:\n",
        "    print('꽃가루~')\n",
        "elif main >= 6 and main <=8:\n",
        "    print('더워~')\n",
        "elif main >= 9 and main <=11:\n",
        "    print('살쪄~')\n",
        "elif main >= 12 and main <=2:\n",
        "    print('추워~')"
      ],
      "metadata": {
        "colab": {
          "base_uri": "https://localhost:8080/"
        },
        "id": "GS-SelrK5Y_Q",
        "outputId": "5339b32d-35be-4b68-f8d7-aa1299985cca"
      },
      "execution_count": null,
      "outputs": [
        {
          "output_type": "stream",
          "name": "stdout",
          "text": [
            "꽃가루~\n"
          ]
        }
      ]
    },
    {
      "cell_type": "code",
      "source": [
        "#예시\n",
        "from datetime import datetime\n",
        "spring = [3,4,5]\n",
        "summer = [6,7,8]\n",
        "autumn = [9,10,11]\n",
        "winter = [12,1,2]\n",
        "\n",
        "today = datetime.now()\n",
        "month = today.month\n",
        "if month in spring:\n",
        "    print('봄')\n",
        "elif month in summer:\n",
        "    print('여름')\n",
        "elif month in autumn:\n",
        "    print('가을')\n",
        "else:\n",
        "    print('겨울')"
      ],
      "metadata": {
        "colab": {
          "base_uri": "https://localhost:8080/"
        },
        "id": "VYC23oSoyvLz",
        "outputId": "df535c88-772b-451d-e651-3cfdbba5d1dd"
      },
      "execution_count": 1,
      "outputs": [
        {
          "output_type": "stream",
          "name": "stdout",
          "text": [
            "봄\n"
          ]
        }
      ]
    },
    {
      "cell_type": "markdown",
      "source": [
        "Task3_0502. 1부터 99까지 아래와 같이 2개의 수를 곱해서 가장 큰 수를 구하세요.\n",
        "\n",
        "`1*99, 2*98 ...99*1`"
      ],
      "metadata": {
        "id": "HLA4ffZJ5pGK"
      }
    },
    {
      "cell_type": "code",
      "source": [
        "keep = 0\n",
        "c=0\n",
        "y = 0\n",
        "z = 0\n",
        "for a in range(1,100):\n",
        "    c=a*(100 - a)\n",
        "    if c>keep:\n",
        "        keep = c\n",
        "        y = a\n",
        "print(f'{y} 와 {100-y}의 값이 {keep}으로 가장 큽니다')"
      ],
      "metadata": {
        "colab": {
          "base_uri": "https://localhost:8080/"
        },
        "id": "Wxj86uuL5pW_",
        "outputId": "b7b56330-c5c2-41e6-949f-d39646f13639"
      },
      "execution_count": null,
      "outputs": [
        {
          "output_type": "stream",
          "name": "stdout",
          "text": [
            "50 와 50의 값이 2500으로 가장 큽니다\n"
          ]
        }
      ]
    },
    {
      "cell_type": "code",
      "source": [
        "#예시\n",
        "max =0\n",
        "for i in range(1,100):\n",
        "    if max >=(i*(100-i)):\n",
        "        continue\n",
        "    else:\n",
        "        max= i*(100-i)\n",
        "print(max)"
      ],
      "metadata": {
        "colab": {
          "base_uri": "https://localhost:8080/"
        },
        "id": "6YEBzlGr1kDV",
        "outputId": "a007b175-5679-40b2-d982-9d5e230ae338"
      },
      "execution_count": 3,
      "outputs": [
        {
          "output_type": "stream",
          "name": "stdout",
          "text": [
            "2500\n"
          ]
        }
      ]
    },
    {
      "cell_type": "code",
      "source": [
        "#예시\n",
        "n = 1\n",
        "result = 0\n",
        "while n <= 100:\n",
        "    a = n*(100-n)\n",
        "    if a >result:\n",
        "        result = a\n",
        "        n += 1\n",
        "    else:\n",
        "        n +=1\n",
        "        continue\n",
        "\n",
        "print(result)"
      ],
      "metadata": {
        "colab": {
          "base_uri": "https://localhost:8080/"
        },
        "id": "6LX7CGHy2rgt",
        "outputId": "79296a71-6150-4530-ac5b-4f291b836841"
      },
      "execution_count": 4,
      "outputs": [
        {
          "output_type": "stream",
          "name": "stdout",
          "text": [
            "2500\n"
          ]
        }
      ]
    },
    {
      "cell_type": "code",
      "source": [
        "def findBiggestOne():\n",
        "    n = 1\n",
        "    result = 0\n",
        "    while n <= 100:\n",
        "        a = n*(100-n)\n",
        "        if a >result:\n",
        "            result = a\n",
        "            n += 1\n",
        "        else:\n",
        "            n +=1\n",
        "            continue\n",
        "    return result\n",
        "\n",
        "print(findBiggestOne())"
      ],
      "metadata": {
        "colab": {
          "base_uri": "https://localhost:8080/"
        },
        "id": "JJ-YA4Hd3IYl",
        "outputId": "25848149-b519-49fa-d56f-554374869562"
      },
      "execution_count": 6,
      "outputs": [
        {
          "output_type": "stream",
          "name": "stdout",
          "text": [
            "2500\n"
          ]
        }
      ]
    },
    {
      "cell_type": "markdown",
      "source": [
        "Task4_0502. [    ]을 채워서 아래의 출력과 같이 출력하세요.\n",
        "\n",
        "numbers = [1,2,3,4,5,6,7,8,9]\n",
        "output = [[], [], []]\n",
        "\n",
        "\n",
        "`[[1,4,7],[2,5,8],[3,6,9]]`"
      ],
      "metadata": {
        "id": "46RM3jBB6Bme"
      }
    },
    {
      "cell_type": "code",
      "source": [
        "numbers = [1,2,3,4,5,6,7,8,9]\n",
        "output = [[], [], []]\n",
        "output = [numbers[i::3] for i in range(3) ]\n",
        "print(output)"
      ],
      "metadata": {
        "colab": {
          "base_uri": "https://localhost:8080/"
        },
        "id": "EzH3YJqU6B-F",
        "outputId": "13352225-63b7-461f-bb91-b34de1edfc27"
      },
      "execution_count": null,
      "outputs": [
        {
          "output_type": "stream",
          "name": "stdout",
          "text": [
            "[[1, 4, 7], [2, 5, 8], [3, 6, 9]]\n"
          ]
        }
      ]
    },
    {
      "cell_type": "code",
      "source": [
        "\n",
        "for i in range(99,0,-1):\n",
        "\n",
        "    print(i, end=\" \")"
      ],
      "metadata": {
        "colab": {
          "base_uri": "https://localhost:8080/"
        },
        "id": "6uxCyU_D-OM9",
        "outputId": "2cb204e6-5244-439f-ce4b-ce2db6ad1b42"
      },
      "execution_count": 10,
      "outputs": [
        {
          "output_type": "stream",
          "name": "stdout",
          "text": [
            "99 98 97 96 95 94 93 92 91 90 89 88 87 86 85 84 83 82 81 80 79 78 77 76 75 74 73 72 71 70 69 68 67 66 65 64 63 62 61 60 59 58 57 56 55 54 53 52 51 50 49 48 47 46 45 44 43 42 41 40 39 38 37 36 35 34 33 32 31 30 29 28 27 26 25 24 23 22 21 20 19 18 17 16 15 14 13 12 11 10 9 8 7 6 5 4 3 2 1 "
          ]
        }
      ]
    },
    {
      "cell_type": "code",
      "source": [
        "numbers = [i for i in range(99,0,-1)]\n",
        "print(type(numbers))\n",
        "print(type(numbers[0]))\n",
        "print(numbers)"
      ],
      "metadata": {
        "colab": {
          "base_uri": "https://localhost:8080/"
        },
        "id": "rVhbTp4h-ji1",
        "outputId": "177802cf-8d9a-41d0-c366-aa4f8c3dd463"
      },
      "execution_count": 17,
      "outputs": [
        {
          "output_type": "stream",
          "name": "stdout",
          "text": [
            "[99, 98, 97, 96, 95, 94, 93, 92, 91, 90, 89, 88, 87, 86, 85, 84, 83, 82, 81, 80, 79, 78, 77, 76, 75, 74, 73, 72, 71, 70, 69, 68, 67, 66, 65, 64, 63, 62, 61, 60, 59, 58, 57, 56, 55, 54, 53, 52, 51, 50, 49, 48, 47, 46, 45, 44, 43, 42, 41, 40, 39, 38, 37, 36, 35, 34, 33, 32, 31, 30, 29, 28, 27, 26, 25, 24, 23, 22, 21, 20, 19, 18, 17, 16, 15, 14, 13, 12, 11, 10, 9, 8, 7, 6, 5, 4, 3, 2, 1]\n"
          ]
        }
      ]
    },
    {
      "cell_type": "code",
      "source": [
        "numbers = [str(i) for i in range(99,0,-1)]\n",
        "print(type(numbers))\n",
        "print(type(numbers[0]))\n",
        "print(numbers)"
      ],
      "metadata": {
        "colab": {
          "base_uri": "https://localhost:8080/"
        },
        "id": "xdkHVl2g_Byt",
        "outputId": "d5b3a864-6fcf-4e61-f5a7-e3fd583da5ce"
      },
      "execution_count": 20,
      "outputs": [
        {
          "output_type": "stream",
          "name": "stdout",
          "text": [
            "<class 'list'>\n",
            "<class 'str'>\n",
            "['99', '98', '97', '96', '95', '94', '93', '92', '91', '90', '89', '88', '87', '86', '85', '84', '83', '82', '81', '80', '79', '78', '77', '76', '75', '74', '73', '72', '71', '70', '69', '68', '67', '66', '65', '64', '63', '62', '61', '60', '59', '58', '57', '56', '55', '54', '53', '52', '51', '50', '49', '48', '47', '46', '45', '44', '43', '42', '41', '40', '39', '38', '37', '36', '35', '34', '33', '32', '31', '30', '29', '28', '27', '26', '25', '24', '23', '22', '21', '20', '19', '18', '17', '16', '15', '14', '13', '12', '11', '10', '9', '8', '7', '6', '5', '4', '3', '2', '1']\n"
          ]
        }
      ]
    },
    {
      "cell_type": "markdown",
      "source": [
        "Task5_0502. 주어진 리스트에서 중복된 요소를 제거하고, 남은 요소만을 포함하는 새 리스트를 반환합니다. 순서는 유지해야 합니다."
      ],
      "metadata": {
        "id": "ugI92oFP6Sxo"
      }
    },
    {
      "cell_type": "code",
      "source": [
        "input_list = [1, 2, 2, 3, 4, 4, 4, 5, 6, 7, 7]\n",
        "list_set = set(input_list)\n",
        "new_list = list(list_set)\n",
        "print(new_list)"
      ],
      "metadata": {
        "colab": {
          "base_uri": "https://localhost:8080/"
        },
        "id": "F7CJyNPS6T0u",
        "outputId": "cf0431ee-6629-438a-a6f8-65d9de12ce59"
      },
      "execution_count": null,
      "outputs": [
        {
          "output_type": "stream",
          "name": "stdout",
          "text": [
            "[1, 2, 3, 4, 5, 6, 7]\n"
          ]
        }
      ]
    },
    {
      "cell_type": "code",
      "source": [
        "input_list = [1, 2, 2, 3, 4, 4, 4, 5, 6, 7, 7]\n",
        "\n",
        "\n",
        "for i in input_list:\n",
        "    if input_list.count(i) > 1:\n",
        "        input_list.remove(i)\n",
        "\n",
        "\n",
        "print(input_list)"
      ],
      "metadata": {
        "colab": {
          "base_uri": "https://localhost:8080/"
        },
        "id": "XvtyZDE_BGOo",
        "outputId": "52686500-e313-4d4b-bcf7-64e8fffda77f"
      },
      "execution_count": 22,
      "outputs": [
        {
          "output_type": "stream",
          "name": "stdout",
          "text": [
            "[1, 2, 3, 4, 5, 6, 7]\n"
          ]
        }
      ]
    },
    {
      "cell_type": "code",
      "source": [
        "input_list = [1, 2, 6, 2, 3, 7, 4, 4, 5, 6, 7, 7]\n",
        "\n",
        "def remove_dup(input_list):\n",
        "  num = []\n",
        "\n",
        "  for item in input_list:\n",
        "    if item not in num:\n",
        "      num.append(item)\n",
        "  return num\n",
        "\n",
        "result=remove_dup(input_list)\n",
        "print(result)\n"
      ],
      "metadata": {
        "colab": {
          "base_uri": "https://localhost:8080/"
        },
        "id": "GLA10hgEazOO",
        "outputId": "c8b80e09-0d7b-4a94-e7a8-c56c9a994b05"
      },
      "execution_count": 30,
      "outputs": [
        {
          "output_type": "stream",
          "name": "stdout",
          "text": [
            "[1, 2, 6, 3, 7, 4, 5]\n"
          ]
        }
      ]
    },
    {
      "cell_type": "markdown",
      "source": [
        "Task6_0502.주어진 문자열을 모스 코드로 변환하는 함수를 작성하세요. 공백은 무시하고 알파벳만 변환하세요.\n",
        "\n",
        "input_text = \"Hello World\""
      ],
      "metadata": {
        "id": "JKuYbqtW6veU"
      }
    },
    {
      "cell_type": "code",
      "source": [
        "morse_code = {\n",
        "        'A': '.-', 'B': '-...', 'C': '-.-.', 'D': '-..', 'E': '.', 'F': '..-.',\n",
        "        'G': '--.', 'H': '....', 'I': '..', 'J': '.---', 'K': '-.-', 'L': '.-..',\n",
        "        'M': '--', 'N': '-.', 'O': '---', 'P': '.--.', 'Q': '--.-', 'R': '.-.',\n",
        "        'S': '...', 'T': '-', 'U': '..-', 'V': '...-', 'W': '.--', 'X': '-..-',\n",
        "        'Y': '-.--', 'Z': '--..'\n",
        "    }\n",
        "\n",
        "input_text = input('모스코드로 바꿀 문자열 입력 : ')\n",
        "#input_text = \"Hello World\"\n",
        "\n",
        "upper_text = input_text.upper()\n",
        "upper_text = upper_text.replace(' ', '')\n",
        "text_list = [upper_text[i] for i in range(len(upper_text))]\n",
        "output = ''\n",
        "for i in text_list:\n",
        "    output=output + morse_code[i]\n",
        "\n",
        "print(text_list)\n",
        "print(output)"
      ],
      "metadata": {
        "colab": {
          "base_uri": "https://localhost:8080/"
        },
        "id": "Z_QjBLPl6d7Z",
        "outputId": "9328d634-d5fb-4fdf-d3b7-80ff5cea8519"
      },
      "execution_count": null,
      "outputs": [
        {
          "output_type": "stream",
          "name": "stdout",
          "text": [
            "모스코드로 바꿀 문자열 입력 : Hello World\n",
            "['H', 'E', 'L', 'L', 'O', 'W', 'O', 'R', 'L', 'D']\n",
            "......-...-..---.-----.-..-..-..\n"
          ]
        }
      ]
    },
    {
      "cell_type": "markdown",
      "source": [
        "Task7_0502. 주어진 비대칭 m×n 매트릭스(2차원 리스트)에서, 모든 대각선 상의 합을 계산하는 함수를 작성하세요. 결과는 각 대각선의 합을 리스트로 반환해야 합니다."
      ],
      "metadata": {
        "id": "PFCXc8d_7I9U"
      }
    },
    {
      "cell_type": "markdown",
      "source": [
        "[ 대각선 수 구하기 ]\n",
        "\n",
        "4행 3열에서\n",
        "첫 번째 행은 3개의 대각선에 각각 기여합니다.\n",
        "첫 번째 열은 4개의 대각선에 각각 기여합니다.\n",
        "하지만 가장 왼쪽 상단의 원소가 두 방향에서 모두 카운트되므로, 총 대각선 수는 3 + 4 − 1 = 6개가 됩니다.\n",
        "\n",
        "[ 대각선 합 구하기 ]\n",
        "\n",
        "a b c\\\n",
        "d e f\\\n",
        "g h i\\\n",
        "j k l\n",
        "\n",
        "대각선 0: a\\\n",
        "대각선 1: b + d\\\n",
        "대각선 2: c + e + g\\\n",
        "대각선 3: f + h + j\\\n",
        "대각선 4: i + k\\\n",
        "대각선 5: l"
      ],
      "metadata": {
        "id": "Vhj3cg68bqFG"
      }
    },
    {
      "cell_type": "code",
      "source": [
        "input_matrix = [\n",
        "    [1,  2,   3],\n",
        "    [4,  5,   6],\n",
        "    [7,  8,   9],\n",
        "    [10, 11, 12]\n",
        "]\n",
        "#a=0\n",
        "#input_matrix[0][0] a a\n",
        "\n",
        "#a=1             a, a-1            a1, a\n",
        "#input_matrix[1][0] +input_matrix[0][1]\n",
        "#a=2             a  a-2              a-1 a-1            a-2 a\n",
        "#input_matrix[2][0] +input_matrix[1][1]+input_matrix[0][2]\n",
        "#a=3\n",
        "#input_matrix[3][0] +input_matrix[2][1]+input_matrix[1][2] +input_matrix[0][3]\n",
        "#....\n",
        "#input_matrix[3][1] + input_matrix[2][2]\n",
        "#input_matrix[3][2]\n",
        "\n",
        "output_list = []\n",
        "count = 0\n",
        "for a in range(len(input_matrix)):\n",
        "    sum = 0\n",
        "    if a < len(input_matrix[0]):\n",
        "        for i in range(a+1):\n",
        "            sum = sum + input_matrix[abs(a-i)][abs(i)]\n",
        "        output_list.append(sum)\n",
        "    elif a == len(input_matrix[0]):\n",
        "        for i in range(a):\n",
        "            sum = sum + input_matrix[abs(a-i)][abs(i)]\n",
        "            print(sum)\n",
        "            print('a')\n",
        "        output_list.append(sum)\n",
        "\n",
        "\n",
        "\n",
        "\n",
        "\n",
        "\n",
        "\n",
        "print(output_list)"
      ],
      "metadata": {
        "colab": {
          "base_uri": "https://localhost:8080/"
        },
        "id": "WH4eP1nO7D2K",
        "outputId": "e43a072d-8edd-480b-e946-dc26a6a9cd98"
      },
      "execution_count": 27,
      "outputs": [
        {
          "output_type": "stream",
          "name": "stdout",
          "text": [
            "10\n",
            "a\n",
            "18\n",
            "a\n",
            "24\n",
            "a\n",
            "[1, 6, 15, 24]\n"
          ]
        }
      ]
    },
    {
      "cell_type": "code",
      "source": [
        " #Task7_0502. 주어진 비대칭 m×n 매트릭스(2차원 리스트)에서, 모든 대각선 상의 합을 계산하는 함수를 작성하세요. 결과는 각 대각선의 합을 리스트로 반환해야 합니다.\n",
        "input_arr = [\n",
        "    [1, 2, 3],\n",
        "    [4, 5, 6],\n",
        "    [7, 8, 9],\n",
        "    [10, 11, 12]\n",
        "]\n",
        "# input_arr = [\n",
        "#     [1,  2,  3,  7],\n",
        "#     [4,  5,  6,  5],\n",
        "#     [7,  8,  9,  1],\n",
        "#     [10, 11, 12, 2]\n",
        "# ]\n",
        "# input_arr = [\n",
        "    # [1,  2,  3,  7, 20],\n",
        "    # [4,  5,  6,  5, 21],\n",
        "    # [7,  8,  9,  1, 34],\n",
        "    # [10, 11, 12, 2, 23]\n",
        "# ]\n",
        "# input_arr = [\n",
        "    # [1,  2,  3,  7, 20],\n",
        "    # [4,  5,  6,  5, 21],\n",
        "    # [7,  8,  9,  1, 34],\n",
        "    # [10, 11, 12, 2, 23],\n",
        "    # [3,  16, 42, 21,3]\n",
        "# ]\n",
        "\n",
        "def cal_sum_diag(input_arr):\n",
        "  row_n=len(input_arr); col_n=len(input_arr[0]); sum_diag_list=[]\n",
        "  # Calculating along with the most outer element in an anticlockwise direction\n",
        "  for i in range(row_n):\n",
        "    sum_diag=0; l=0;\n",
        "    for j in range(0,min(i+1, col_n),1):\n",
        "     sum_diag=sum_diag+input_arr[i-l][j]\n",
        "     l += 1\n",
        "    sum_diag_list.append(sum_diag)\n",
        "\n",
        "  l=0\n",
        "  for j in range(1, col_n):\n",
        "    sum_diag=0; k=0\n",
        "    for i in range(row_n-1,row_n-col_n+l,-1):\n",
        "      sum_diag=sum_diag+input_arr[i][j+k]\n",
        "      k += 1\n",
        "    l += 1\n",
        "    sum_diag_list.append(sum_diag)\n",
        "  return sum_diag_list\n",
        "\n",
        "print(f\"주어진 M x N 매트릭스의 대각선 상에 있는 요소의 합을 계산, 각 대각선의 합을 리스트로 출력: {cal_sum_diag(input_arr)}\")"
      ],
      "metadata": {
        "colab": {
          "base_uri": "https://localhost:8080/"
        },
        "id": "9nVcVNWXw9Af",
        "outputId": "5e7f2102-73f1-4d8e-f94b-7a4b81bd216c"
      },
      "execution_count": 23,
      "outputs": [
        {
          "output_type": "stream",
          "name": "stdout",
          "text": [
            "주어진 M x N 매트릭스의 대각선 상에 있는 요소의 합을 계산, 각 대각선의 합을 리스트로 출력: [1, 6, 15, 24, 20, 12]\n"
          ]
        }
      ]
    },
    {
      "cell_type": "markdown",
      "source": [
        "대각선 수 구하기:\n",
        "\n",
        "4행 3열에서\n",
        "첫 번째 행은 3개의 대각선에 각각 기여합니다.\n",
        "첫 번째 열은 4개의 대각선에 각각 기여합니다.\n",
        "하지만 가장 왼쪽 상단의 원소가 두 방향에서 모두 카운트되므로, 총 대각선 수는 3 + 4 − 1 = 6개가 됩니다."
      ],
      "metadata": {
        "id": "7laA_SukMzRF"
      }
    },
    {
      "cell_type": "markdown",
      "source": [
        "# 대각선 합 구하기\n",
        "a b c\n",
        "\n",
        "d e f\n",
        "\n",
        "g h i\n",
        "\n",
        "j k l\n",
        "\n",
        "대각선 0: a\n",
        "대각선 1: b + d\n",
        "대각선 2: c + e + g\n",
        "대각선 3: f + h + j\n",
        "대각선 4: i + k\n",
        "대각선 5: l"
      ],
      "metadata": {
        "id": "ocYcSYbiNJP0"
      }
    },
    {
      "cell_type": "code",
      "source": [
        "#예시 코딩시험에 자주나옴\n",
        "\n",
        "input_matrix = [\n",
        "    [1, 2, 3],\n",
        "    [4, 5, 6],\n",
        "    [7, 8, 9],\n",
        "    [10, 11, 12]\n",
        "]\n",
        "print(len(input_matrix))\n",
        "print(len(input_matrix[0]))\n",
        "\n",
        "def diagonal_sums(matrix):\n",
        "    if not matrix:\n",
        "        return []\n",
        "    m, n = len(matrix), len(matrix[0])\n",
        "    # 최대 가능한 대각선 수는 m + n - 1\n",
        "    print(m,n)\n",
        "    max_diagonals = m + n - 1\n",
        "    result = [0] * max_diagonals\n",
        "\n",
        "    # 모든 원소를 순회하면서 해당 대각선 인덱스에 값을 더함\n",
        "    for i in range(m):\n",
        "        for j in range(n):\n",
        "            # 대각선 인덱스는 행 인덱스와 열 인덱스의 차의 절댓값\n",
        "            diagonal_index = i + j\n",
        "            result[diagonal_index] += matrix[i][j]\n",
        "\n",
        "    return result\n",
        "\n",
        "# 매트릭스 입력\n",
        "input_matrix = [\n",
        "    [1, 2, 3],\n",
        "    [4, 5, 6],\n",
        "    [7, 8, 9],\n",
        "    [10, 11, 12]\n",
        "]\n",
        "\n",
        "# 대각선 합 결과 출력\n",
        "print(diagonal_sums(input_matrix))"
      ],
      "metadata": {
        "colab": {
          "base_uri": "https://localhost:8080/"
        },
        "id": "mhJ-Rb9bNRlG",
        "outputId": "faa4ce0e-d119-4a7b-98a2-925d8cbbe7cf"
      },
      "execution_count": 28,
      "outputs": [
        {
          "output_type": "stream",
          "name": "stdout",
          "text": [
            "4\n",
            "3\n",
            "4 3\n",
            "[1, 6, 15, 24, 20, 12]\n"
          ]
        }
      ]
    },
    {
      "cell_type": "code",
      "source": [],
      "metadata": {
        "id": "BJzjxg-iIbYO"
      },
      "execution_count": null,
      "outputs": []
    },
    {
      "cell_type": "code",
      "source": [
        "for i in range(0):\n",
        "    print(i)"
      ],
      "metadata": {
        "id": "m-4_lTV7UApZ"
      },
      "execution_count": null,
      "outputs": []
    },
    {
      "cell_type": "code",
      "source": [
        "for a in range(4):\n",
        "    for i in range(a):\n",
        "        print(a)"
      ],
      "metadata": {
        "colab": {
          "base_uri": "https://localhost:8080/"
        },
        "id": "LqnoSYcIOixJ",
        "outputId": "7f3d0930-1188-43f5-d7c7-5f3a4e113fb1"
      },
      "execution_count": null,
      "outputs": [
        {
          "output_type": "stream",
          "name": "stdout",
          "text": [
            "1\n",
            "2\n",
            "2\n",
            "3\n",
            "3\n",
            "3\n"
          ]
        }
      ]
    },
    {
      "cell_type": "code",
      "source": [],
      "metadata": {
        "id": "u0mSn8RBRF1t"
      },
      "execution_count": null,
      "outputs": []
    }
  ]
}