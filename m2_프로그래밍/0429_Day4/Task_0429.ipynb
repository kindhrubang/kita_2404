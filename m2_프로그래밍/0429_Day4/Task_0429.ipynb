{
  "nbformat": 4,
  "nbformat_minor": 0,
  "metadata": {
    "colab": {
      "provenance": []
    },
    "kernelspec": {
      "name": "python3",
      "display_name": "Python 3"
    },
    "language_info": {
      "name": "python"
    }
  },
  "cells": [
    {
      "cell_type": "markdown",
      "source": [
        "Task1_0429. input_str을 아래와 같이 단어로 분리하여 출력하세요.\n",
        "\n",
        "input_str = \"Hello, world! How are you today? i am fine. Thank you!\"\n",
        "\n",
        "['Hello', 'world', 'How', 'are', 'you', 'today', 'i', 'am', 'fine', 'Thank', 'you',' ']"
      ],
      "metadata": {
        "id": "kDovMNMJojnK"
      }
    },
    {
      "cell_type": "code",
      "source": [
        "input_str = \"Hello, world! How are you today? i am fine. Thank you!\"\n",
        "words = input_str.split()\n",
        "\n",
        "\n",
        "i = ''\n",
        "output = []\n",
        "\n",
        "\n",
        "for value in words:\n",
        "    for spe in [',', '.', '!', '?']:\n",
        "        value = value.strip(spe)\n",
        "    output.append(value)\n",
        "\n",
        "print(output)\n"
      ],
      "metadata": {
        "colab": {
          "base_uri": "https://localhost:8080/"
        },
        "id": "I_HQ5974pJ1_",
        "outputId": "79580738-0d9b-4ddf-c91f-57f0cbce6208"
      },
      "execution_count": 3,
      "outputs": [
        {
          "output_type": "stream",
          "name": "stdout",
          "text": [
            "['Hello', 'world', 'How', 'are', 'you', 'today', 'i', 'am', 'fine', 'Thank', 'you']\n"
          ]
        }
      ]
    },
    {
      "cell_type": "code",
      "source": [
        "input_str = \"Hello, world! How are you today? i am fine. Thank you!\"\n",
        "words = input_str.split()\n",
        "i = ''\n",
        "output = []\n",
        "for value in words:\n",
        "    output.append(value.strip(\"\"))\n",
        "\n",
        "print(output)\n"
      ],
      "metadata": {
        "id": "Qc4JIuQfB5Ya"
      },
      "execution_count": null,
      "outputs": []
    },
    {
      "cell_type": "code",
      "source": [
        "words[0].strip(',')\n",
        "\n",
        "for word in words\n"
      ],
      "metadata": {
        "colab": {
          "base_uri": "https://localhost:8080/",
          "height": 35
        },
        "id": "VKGAYCdzBC-U",
        "outputId": "94073930-5249-447b-cf52-457fa9eceb62"
      },
      "execution_count": null,
      "outputs": [
        {
          "output_type": "execute_result",
          "data": {
            "text/plain": [
              "'Hello'"
            ],
            "application/vnd.google.colaboratory.intrinsic+json": {
              "type": "string"
            }
          },
          "metadata": {},
          "execution_count": 82
        }
      ]
    },
    {
      "cell_type": "markdown",
      "source": [
        "Task2_0429. 십진수 122를 2진수, 8진수, 16진수로 변경하여 출력하세요."
      ],
      "metadata": {
        "id": "r6BcPP526ayD"
      }
    },
    {
      "cell_type": "code",
      "source": [
        "a = 122\n",
        "print(a)\n",
        "print(bin(a))\n",
        "print(oct(a))\n",
        "print(hex(a))"
      ],
      "metadata": {
        "colab": {
          "base_uri": "https://localhost:8080/"
        },
        "id": "7-2VspXb6s61",
        "outputId": "3704e666-06c1-4aea-daf0-e7134b0783ca"
      },
      "execution_count": null,
      "outputs": [
        {
          "output_type": "stream",
          "name": "stdout",
          "text": [
            "122\n",
            "0b1111010\n",
            "0o172\n",
            "0x7a\n"
          ]
        }
      ]
    },
    {
      "cell_type": "markdown",
      "source": [
        "Task3_0429. 두 수의 곱셈 결과를 계산하고, 그 결과에 10을 더하세요.\n"
      ],
      "metadata": {
        "id": "qoWR9KkN7xc3"
      }
    },
    {
      "cell_type": "code",
      "source": [
        "num1 = int(input(\"수 입력 :\"))\n",
        "num2 = int(input(\"수 입력 :\"))\n",
        "\n",
        "def n1_n2(a,b):\n",
        "    print(a*b+10)\n",
        "\n",
        "n1_n2(num1,num2)"
      ],
      "metadata": {
        "colab": {
          "base_uri": "https://localhost:8080/"
        },
        "id": "YCfhbapSsim8",
        "outputId": "95e63db6-2449-4f9e-a0e2-46320e95c323"
      },
      "execution_count": null,
      "outputs": [
        {
          "output_type": "stream",
          "name": "stdout",
          "text": [
            "수 입력 :4\n",
            "수 입력 :4\n",
            "26\n"
          ]
        }
      ]
    },
    {
      "cell_type": "markdown",
      "source": [
        "Task4_0429. 주어진 리스트에서 두 번째 요소를 삭제하고, 마지막에 새로운 요소 'Python'을 추가하세요.\n",
        "\n",
        "리스트: ['Java', 'C', 'JavaScript']"
      ],
      "metadata": {
        "id": "i2o0i1VN70J5"
      }
    },
    {
      "cell_type": "code",
      "source": [
        "list_task = ['Java', 'C', 'JavaScript']\n",
        "\n",
        "del(list_task[1])\n",
        "list_task.append('Python')\n",
        "print(list_task)\n"
      ],
      "metadata": {
        "colab": {
          "base_uri": "https://localhost:8080/"
        },
        "id": "um_upWoLs6p2",
        "outputId": "8e9ce1a4-bc1e-43ca-cb5d-80818e6a4313"
      },
      "execution_count": null,
      "outputs": [
        {
          "output_type": "stream",
          "name": "stdout",
          "text": [
            "['Java', 'JavaScript', 'Python']\n"
          ]
        }
      ]
    },
    {
      "cell_type": "markdown",
      "source": [
        "Task5_0429. 주어진 문자열에서 처음 세 글자와 마지막 세 글자를 연결하여 새로운 문자열을 만드세요.\n",
        "\n",
        "문자열: 'Incredible'"
      ],
      "metadata": {
        "id": "yFV1kp8t719M"
      }
    },
    {
      "cell_type": "code",
      "source": [
        "task_str = 'incredible'\n",
        "test = (f'{task_str[0:3]}{task_str[-3:]}')\n",
        "print(test)"
      ],
      "metadata": {
        "colab": {
          "base_uri": "https://localhost:8080/"
        },
        "id": "4COuLHCDteYf",
        "outputId": "829c6c53-3dc2-4077-ec57-846838fe6115"
      },
      "execution_count": null,
      "outputs": [
        {
          "output_type": "stream",
          "name": "stdout",
          "text": [
            "incble\n"
          ]
        }
      ]
    },
    {
      "cell_type": "markdown",
      "source": [
        "Task6_0429. 사용자의 이름과 이메일을 딕셔너리로 저장하고, 이름을 입력받아 해당하는 이메일을 출력하세요.\n",
        "\n",
        "사용자 정보: 이름 - 'Alice', 이메일 - 'alice@example.com'"
      ],
      "metadata": {
        "id": "FrUXODeB74Ra"
      }
    },
    {
      "cell_type": "code",
      "source": [
        "def account_reg():\n",
        "    name = input('사용자 이름을 등록하세요 : ')\n",
        "    email = input('사용자 이메일을 등록하세요 :')\n",
        "    key_value = {}\n",
        "    key_value[name] = email\n",
        "    return name , email\n",
        "\n",
        "def surch_surv(account):\n",
        "    name = input('이름을 입력하세요 : ')\n",
        "    if name in account:\n",
        "        print(account[name])\n",
        "\n",
        "account_dic = dict()\n",
        "while True:\n",
        "\n",
        "    survice = int(input('원하시는 서비스의 번호를 골라주세요\\n1:계정 등록\\n2.이메일 찾기\\n3.서비스종료\\n입력 : '))\n",
        "    if survice ==1:\n",
        "        a , b =account_reg()\n",
        "        account_dic[a] = b\n",
        "    elif survice ==2:\n",
        "        surch_surv(account_dic)\n",
        "    elif survice ==3:\n",
        "        break\n",
        "    else:\n",
        "        print('올바른 번호를 골라주세요')\n"
      ],
      "metadata": {
        "colab": {
          "base_uri": "https://localhost:8080/"
        },
        "id": "xi2ez14FvQ5t",
        "outputId": "7769726b-51b8-4c8f-eaa2-315fd4200904"
      },
      "execution_count": null,
      "outputs": [
        {
          "name": "stdout",
          "output_type": "stream",
          "text": [
            "원하시는 서비스의 번호를 골라주세요\n",
            "1:계정 등록\n",
            "2.이메일 찾기\n",
            "3.서비스종료\n",
            "입력 : 1\n",
            "사용자 이름을 등록하세요 : Alice\n",
            "사용자 이메일을 등록하세요 :alice@gmail.com\n",
            "원하시는 서비스의 번호를 골라주세요\n",
            "1:계정 등록\n",
            "2.이메일 찾기\n",
            "3.서비스종료\n",
            "입력 : 2\n",
            "이름을 입력하세요 : Alice\n",
            "alice@gmail.com\n",
            "원하시는 서비스의 번호를 골라주세요\n",
            "1:계정 등록\n",
            "2.이메일 찾기\n",
            "3.서비스종료\n",
            "입력 : 3\n"
          ]
        }
      ]
    },
    {
      "cell_type": "markdown",
      "source": [
        "Task7_0429. 주어진 두 튜플에서 공통 요소만을 찾아 집합으로 만드세요.\n",
        "\n",
        "튜플: (1, 2, 3, 4, 5)와 (4, 5, 6, 7, 8)ㅇ"
      ],
      "metadata": {
        "id": "u5vn9am875mv"
      }
    },
    {
      "cell_type": "code",
      "source": [
        "a = (1,2,3,4,5)\n",
        "b = (4,5,6,7,8)\n",
        "a_set = set(a)\n",
        "b_set = set(b)\n",
        "c = a_set & b_set\n",
        "print(c)"
      ],
      "metadata": {
        "colab": {
          "base_uri": "https://localhost:8080/"
        },
        "id": "kGY_DQFHzv04",
        "outputId": "2fce6744-ab4a-4560-d944-c33f5a6bc49b"
      },
      "execution_count": null,
      "outputs": [
        {
          "output_type": "stream",
          "name": "stdout",
          "text": [
            "{4, 5}\n"
          ]
        }
      ]
    },
    {
      "cell_type": "markdown",
      "source": [
        "Task8_Challenge_0429. 다음 요구 사항을 충족하는 프로그램을 작성하세요:\n",
        "\n",
        "- 사용자로부터 이름, 나이, 좋아하는 색상을 입력받습니다.\n",
        "- 입력받은 정보를 딕셔너리로 저장하고, 모든 사용자 정보를 리스트에 저장합니다.\n",
        "- 이름이 'John'인 사용자의 정보만 출력하세요.\n",
        "- 전체 사용자의 평균 나이를 계산하고 출력하세요."
      ],
      "metadata": {
        "id": "noLRNzVp77AB"
      }
    },
    {
      "cell_type": "markdown",
      "source": [
        "1. 사용자 데이터:\n",
        "- 이름: John\n",
        "- 나이: 28\n",
        "- 좋아하는 색상: Blue\n",
        "2. 사용자 데이터:\n",
        "- 이름: Alice\n",
        "- 나이: 24\n",
        "- 좋아하는 색상: Red\n",
        "3. 사용자 데이터:\n",
        "- 이름: Maria\n",
        "- 나이: 32\n",
        "- 좋아하는 색상: Green"
      ],
      "metadata": {
        "id": "Ua-nG1iD8a4j"
      }
    },
    {
      "cell_type": "code",
      "source": [
        "def account_reg():\n",
        "    name = input('이름을 입력하세요: ')\n",
        "    age = int(input('나이를 입력하세요: '))\n",
        "    color = input('좋아하는 색을 입력하세요: ')\n",
        "    info = [age, color]\n",
        "    return name , info\n",
        "\n",
        "def account_surch(account_dict):\n",
        "    name = input('찾으실 사용자의 이름을 입력하세요 : ')\n",
        "    print(account_dict[name])\n",
        "\n",
        "def account_div(account_dict):\n",
        "    a = 0\n",
        "    sum = 0\n",
        "    for i in account_dict:\n",
        "        age = account_dict[i]\n",
        "        sum += age[0]\n",
        "        a += 1\n",
        "    return sum/a\n",
        "\n",
        "account_dict={'John':[28, 'Blue'], 'Alice':[24,'Red'], 'Maria':[32,'Green']}\n",
        "while True:\n",
        "    survice = int(input('\\n\\n\\n\\n원하시는 서비스의 번호를 골라주세요\\n1:계정 등록\\n2.유저 정보\\n3.총사용자 평균나이\\n4.나가기\\n입력 : '))\n",
        "    if survice ==1:\n",
        "        name , info =account_reg()\n",
        "        account_dict[name] = info\n",
        "    elif survice ==2:\n",
        "        account_surch(account_dict)\n",
        "    elif survice ==3:\n",
        "        print(account_div(account_dict))\n",
        "    elif survice==4:\n",
        "        break\n",
        "    else:\n",
        "        print('올바른 번호를 골라주세요')\n"
      ],
      "metadata": {
        "colab": {
          "base_uri": "https://localhost:8080/"
        },
        "id": "DEusYZcl64hv",
        "outputId": "f08111b3-492b-4f70-9bab-2d409f4961f9"
      },
      "execution_count": null,
      "outputs": [
        {
          "name": "stdout",
          "output_type": "stream",
          "text": [
            "\n",
            "\n",
            "\n",
            "\n",
            "원하시는 서비스의 번호를 골라주세요\n",
            "1:계정 등록\n",
            "2.유저 정보\n",
            "3.총사용자 평균나이\n",
            "4.나가기\n",
            "입력 : 1\n",
            "이름을 입력하세요: 이상협\n",
            "나이를 입력하세요: 26\n",
            "좋아하는 색을 입력하세요: Green\n",
            "\n",
            "\n",
            "\n",
            "\n",
            "원하시는 서비스의 번호를 골라주세요\n",
            "1:계정 등록\n",
            "2.유저 정보\n",
            "3.총사용자 평균나이\n",
            "4.나가기\n",
            "입력 : 2\n",
            "찾으실 사용자의 이름을 입력하세요 : John\n",
            "[28, 'Blue']\n",
            "\n",
            "\n",
            "\n",
            "\n",
            "원하시는 서비스의 번호를 골라주세요\n",
            "1:계정 등록\n",
            "2.유저 정보\n",
            "3.총사용자 평균나이\n",
            "4.나가기\n",
            "입력 : 3\n",
            "27.5\n",
            "\n",
            "\n",
            "\n",
            "\n",
            "원하시는 서비스의 번호를 골라주세요\n",
            "1:계정 등록\n",
            "2.유저 정보\n",
            "3.총사용자 평균나이\n",
            "4.나가기\n",
            "입력 : 4\n"
          ]
        }
      ]
    },
    {
      "cell_type": "code",
      "source": [
        "account_dict={'John':[28, 'Blue'], 'Alice':[24,'Red'], 'Maria':[32,'Green']}\n",
        "for i in account_dict:\n",
        "    print(account_dict[i])"
      ],
      "metadata": {
        "colab": {
          "base_uri": "https://localhost:8080/"
        },
        "id": "-udnA59T6hp8",
        "outputId": "865dd45e-79d6-43b5-9fe8-e18aba73a08e"
      },
      "execution_count": null,
      "outputs": [
        {
          "output_type": "stream",
          "name": "stdout",
          "text": [
            "[28, 'Blue']\n",
            "[24, 'Red']\n",
            "[32, 'Green']\n"
          ]
        }
      ]
    },
    {
      "cell_type": "code",
      "source": [],
      "metadata": {
        "id": "ac7JqVIL60ET"
      },
      "execution_count": null,
      "outputs": []
    }
  ]
}