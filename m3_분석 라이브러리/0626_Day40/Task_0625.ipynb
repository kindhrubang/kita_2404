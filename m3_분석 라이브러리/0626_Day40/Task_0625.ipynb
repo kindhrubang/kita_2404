{
 "cells": [
  {
   "cell_type": "markdown",
   "metadata": {},
   "source": [
    "Task1_0625. 다음 Selenium execute_script 메서드에 사용할 수 있는 JavaScript 명령어를 이용한 사례를 작성해서 실행 결과를 확인하세요.\n",
    "단 주어진 file_tesk1.html을 각 과제 항목 수행에 적합하게 수정해서 진행하세요\n",
    "\n",
    "[과제]\n",
    " - document.getElementById(id) : 특정 ID를 가진 요소를 선택합니다.\n",
    " - document.getElementsByClassName(className) : 특정 클래스 이름을 가진 요소를 선택합니다.\n",
    " - document.getElementsByTagName(tagName) : 특정 태그 이름을 가진 요소를 선택합니다.\n",
    " - document.querySelector(selector) : CSS 선택자를 사용하여 첫 번째 일치하는 요소를 선택합니다.\n",
    " - document.querySelectorAll(selector) : CSS 선택자를 사용하여 일치하는 모든 요소를 선택합니다.\n",
    "\n",
    "[참고]\n",
    " - element.innerText : 요소의 텍스트 콘텐츠를 설정하거나 가져옵니다.\n",
    " - element.innerHTML : 요소의 HTML 콘텐츠를 설정하거나 가져옵니다.\n",
    " - element.value : 입력 필드의 값을 설정하거나 가져옵니다.\n",
    " - element.style.property : 요소의 CSS 스타일 속성을 설정합니다.\n",
    " - element.click() : 요소를 클릭합니다.\n",
    " - element.focus() : 요소에 포커스를 설정합니다.\n",
    " - element.blur() : 요소에서 포커스를 제거합니다.\n",
    " - window.scrollTo(x, y) : 페이지를 지정된 좌표로 스크롤합니다.\n",
    " - window.scrollBy(x, y) : 현재 위치에서 지정된 거리만큼 페이지를 스크롤합니다.\n",
    " - alert(message) : 경고창을 표시합니다.\n",
    " - confirm(message) : 확인창을 표시하고 사용자의 응답을 반환합니다.\n",
    " - prompt(message, default) : 입력창을 표시하고 사용자의 입력을 반환합니다.\n",
    " - form.submit() : 폼을 제출합니다.\n",
    " - form.reset() : 폼을 초기화합니다."
   ]
  },
  {
   "cell_type": "code",
   "execution_count": 4,
   "metadata": {},
   "outputs": [],
   "source": [
    "from selenium import webdriver\n",
    "from selenium.webdriver.common.by import By\n",
    "import time\n",
    "from selenium.webdriver.common.keys import Keys\n",
    "import requests\n",
    "from pandas import DataFrame\n",
    "from bs4 import BeautifulSoup\n",
    "import re\n",
    "from datetime import datetime\n",
    "import os"
   ]
  },
  {
   "cell_type": "code",
   "execution_count": 3,
   "metadata": {},
   "outputs": [
    {
     "name": "stdout",
     "output_type": "stream",
     "text": [
      "Change title: new title\n"
     ]
    }
   ],
   "source": [
    "from selenium import webdriver\n",
    "import time\n",
    "\n",
    "# 웹 드라이버 인스턴스 생성 (여기서는 Chrome를 예로 사용)\n",
    "driver = webdriver.Chrome()\n",
    "\n",
    "# 로컬 HTML 파일 경로\n",
    "file_path = 'http://127.0.0.1:5001/file_task1.html'\n",
    "driver.get(file_path)\n",
    "time.sleep(2)\n",
    "\n",
    "\n",
    "driver.execute_script(\"document.getElementById('title').innerText = 'new title';\")\n",
    "\n",
    "new_title = driver.execute_script(\"return document.getElementById('title').innerText\")\n",
    "print(\"Change title:\", new_title)\n",
    "time.sleep(5)\n",
    "driver.quit()"
   ]
  },
  {
   "cell_type": "code",
   "execution_count": 6,
   "metadata": {},
   "outputs": [
    {
     "name": "stdout",
     "output_type": "stream",
     "text": [
      "Hidden Button Clicked\n"
     ]
    }
   ],
   "source": [
    "from selenium import webdriver\n",
    "import time\n",
    "\n",
    "# 웹 드라이버 인스턴스 생성 (여기서는 Chrome를 예로 사용)\n",
    "driver = webdriver.Chrome()\n",
    "\n",
    "# 로컬 HTML 파일 경로\n",
    "file_path = 'http://127.0.0.1:5001/file_task1.html'\n",
    "driver.get(file_path)\n",
    "time.sleep(2)\n",
    "\n",
    "# Selenium 에서 Python에서 정의한 객체를 JavaScript로 전달하기 위해 arguments 배열을 사용\n",
    "hidden_element = driver.find_element(By.ID, \"hidden_element_id\")\n",
    "driver.execute_script(\"arguments[0].click();\", hidden_element)\n",
    "\n",
    "message = driver.find_element(By.ID,\"message\").text\n",
    "\n",
    "# new_title = driver.execute_script(\"return document.getElementById('title').innerText\")\n",
    "# print(\"Change title:\", new_title)\n",
    "print(message)\n",
    "time.sleep(5)\n",
    "driver.quit()"
   ]
  },
  {
   "cell_type": "code",
   "execution_count": 13,
   "metadata": {},
   "outputs": [
    {
     "name": "stdout",
     "output_type": "stream",
     "text": [
      "Utdated paragraph: Updated First Paragraph\n"
     ]
    }
   ],
   "source": [
    "from selenium import webdriver\n",
    "import time\n",
    "\n",
    "# 웹 드라이버 인스턴스 생성 (여기서는 Chrome를 예로 사용)\n",
    "driver = webdriver.Chrome()\n",
    "file_path = 'http://127.0.0.1:5001/file_task3.html'\n",
    "driver.get(file_path)\n",
    "\n",
    "time.sleep(2)\n",
    "\n",
    "driver.execute_script(\"document.getElementsByTagName('p')[0].innerText = 'Updated First Paragraph';\")\n",
    "\n",
    "# 모든 <button> 태그들의 배경색 변경\n",
    "driver.execute_script(\"\"\"\n",
    "    var buttons = document.getElementsByTagName('button');\n",
    "    for (var i = 0; i < buttons.length ; i++){\n",
    "        buttons[i].style.backgroundColor='green';\n",
    "    }\n",
    "\"\"\")\n",
    "\n",
    "# 첫번째 <p> 태그의 텍스트 가져오기\n",
    "updated_paragraph = driver.execute_script(\"return document.getElementsByTagName('p')[0].innerText;\")\n",
    "print(\"Utdated paragraph:\", updated_paragraph)\n",
    "\n",
    "# 첫 번째 <button> 태그의 배경색 가져오기\n",
    "button_background_color = driver.execute_script(\"return document.getElementsByTagName('button')[0].style.backgroundColor;\")\n",
    "\n",
    "\n",
    "\n",
    "time.sleep(5)\n",
    "driver.quit()"
   ]
  },
  {
   "cell_type": "code",
   "execution_count": null,
   "metadata": {},
   "outputs": [],
   "source": [
    "# 특정 CSS 선택자를 가진 요소를 선택하고, 그 요소의 스타일과 텍스트를 변경\n",
    "from selenium import webdriver\n",
    "import time\n",
    "\n",
    "# 웹 드라이버 인스턴스 생성 (여기서는 Chrome를 예로 사용)\n",
    "driver = webdriver.Chrome()\n",
    "file_path = 'http://127.0.0.1:5001/file_task3.html'\n",
    "driver.get(file_path)\n",
    "\n",
    "time.sleep(2)\n",
    "\n",
    "# 첫 번째 p 태그의 텍스트 변경\n",
    "driver.execute_script(\"document.querySelector('#firstParagraph').innerText='Updated First Paragraph';\")\n",
    "\n",
    "# 첫번째 changeTextButton의 텍스트 변경\n",
    "driver.execute_script(\"document.querySelector('.changeTextButton').innerText = 'Text Changed';\")\n",
    "\n",
    "# 두 번째 p 테그의 배경색 변경\n",
    "driver.execute_script(\"document.querySelector('#secondParagraph').style.backgroundColor = 'lightblue';\")\n",
    "\n",
    "# # 첫번째 p 태그의 텍스트 가져오기\n",
    "# updated_paragarph = driver.execute_script(\"return document.querySelector('#firstParagraph').innerText';\")\n",
    "# print(\"Updated paragraph:\", updated_paragarph)\n",
    "\n",
    "# 첫 번째 changeTextButton의 텍스트 가져오기\n",
    "# updated_button_text = driver.execute_script(\"return document.querySelector('.changeTextButton').innerText';\")\n",
    "# print(\"Updated button text:\", updated_button_text)\n",
    "\n",
    "\n",
    "time.sleep(5)\n",
    "driver.quit()"
   ]
  },
  {
   "cell_type": "code",
   "execution_count": 29,
   "metadata": {},
   "outputs": [
    {
     "name": "stdout",
     "output_type": "stream",
     "text": [
      "paragraph highlighted: True\n"
     ]
    }
   ],
   "source": [
    "# 첫 번째 버튼 클릭 시 첫번째 단락의 배경색을 노란색으로 변경하기.\n",
    "from selenium import webdriver\n",
    "import time\n",
    "\n",
    "# 웹 드라이버 인스턴스 생성 (여기서는 Chrome를 예로 사용)\n",
    "driver = webdriver.Chrome()\n",
    "file_path = 'http://127.0.0.1:5001/file_task2.html'\n",
    "driver.get(file_path)\n",
    "time.sleep(2)\n",
    "first_button = driver.find_element(By.CSS_SELECTOR, 'button')\n",
    "driver.execute_script(\"\"\"\n",
    "                    arguments[0].addEventListener('click', function() {\n",
    "                    document.querySelector('.paragraph').classList.add('highlight');\n",
    "                    });\n",
    "                    \"\"\",first_button)\n",
    "first_button.click()\n",
    "\n",
    "first_paragraph = driver.find_element(By.CSS_SELECTOR,'.paragraph')\n",
    "highlighted = driver.execute_script(\"return arguments[0].classList.contains('highlight');\",first_paragraph)\n",
    "print(\"paragraph highlighted:\",highlighted)\n",
    "\n",
    "time.sleep(5)\n",
    "driver.quit()"
   ]
  },
  {
   "cell_type": "code",
   "execution_count": 35,
   "metadata": {},
   "outputs": [
    {
     "name": "stdout",
     "output_type": "stream",
     "text": [
      "Updated first paragraph: Updated Paragraph 1\n",
      "First button background color: pink\n"
     ]
    }
   ],
   "source": [
    "from selenium import webdriver\n",
    "import time\n",
    "\n",
    "# 웹 드라이버 인스턴스 생성 (여기서는 Chrome를 예로 사용)\n",
    "driver = webdriver.Chrome()\n",
    "\n",
    "# 로컬 HTML 파일 경로\n",
    "file_path = 'http://127.0.0.1:5001/file_task5.html'\n",
    "driver.get(file_path)\n",
    "time.sleep(2)\n",
    "\n",
    "# 클래스가 'paragraph'인 모든 요소들의 텍스트 변경\n",
    "driver.execute_script(\"\"\"\n",
    "    var paragraphs = document.querySelectorAll('.Paragraph');\n",
    "    paragraphs.forEach(function(p, index){\n",
    "        p.innerText = 'Updated Paragraph '+ (index +1);\n",
    "    });\n",
    "\"\"\")\n",
    "\n",
    "# 클래스가 'changeColorButton'인 모든 버튼들의 배경색 변경\n",
    "driver.execute_script(\"\"\"\n",
    "    var buttons = document.querySelectorAll('.changeColorButton');\n",
    "    buttons.forEach(function(button){\n",
    "        button.style.backgroundColor= 'pink';\n",
    "    });\n",
    "\"\"\")\n",
    "\n",
    "# 클래스가 'paragraph'인 첫번째 요소의 텍스트 가져오기\n",
    "updated_paragraph = driver.execute_script(\"return document.querySelector('.Paragraph').innerText;\")\n",
    "print(\"Updated first paragraph:\", updated_paragraph)\n",
    "\n",
    "#클래스가 'changeColroButton'인 두번째 버튼의 배경색 가져오기\n",
    "button_background_color = driver.execute_script(\"return document.querySelector('.changeColorButton').style.backgroundColor;\")\n",
    "print(\"First button background color:\", button_background_color)\n",
    "\n",
    "\n",
    "time.sleep(5)\n",
    "driver.quit()"
   ]
  },
  {
   "cell_type": "code",
   "execution_count": 2,
   "metadata": {},
   "outputs": [],
   "source": [
    "from selenium import webdriver\n",
    "import time\n",
    "\n",
    "# 웹 드라이버 인스턴스 생성 (여기서는 Chrome를 예로 사용)\n",
    "driver = webdriver.Chrome()\n",
    "\n",
    "# 로컬 HTML 파일 경로\n",
    "file_path = 'http://127.0.0.1:5001/file_task1.html'\n",
    "driver.get(file_path)\n",
    "time.sleep(2)\n",
    "# script=\"\"\"\n",
    "# document.getElementsByTagName('changeTextButton').forEach(function(element) {\n",
    "#     // 클릭 이벤트 리스너 추가\n",
    "#     element.addEventListener('click', function() {\n",
    "#         document.getElementById('changeTextButton').text = 'new value';\n",
    "#     });\n",
    "# });\n",
    "# \"\"\"\n",
    "# driver.execute_script(script)\n",
    "driver.execute_script(\"document.getElementById('textInput').value = 'new value';\")\n",
    "\n",
    "driver.execute_script(\"document.getElementById('title').innerText = 'new title';\")\n",
    "\n",
    "driver.execute_script(\"document.getElementById('paragraph').innerHTML.text = 'new value';\")\n",
    "\n",
    "time.sleep(5)\n"
   ]
  },
  {
   "cell_type": "code",
   "execution_count": 43,
   "metadata": {},
   "outputs": [
    {
     "name": "stdout",
     "output_type": "stream",
     "text": [
      "1\n"
     ]
    }
   ],
   "source": [
    "#Task3_0621. 네이버 로그인한 후 안읽은 메일의 개수를 가져와서 출력하세요.\n",
    "\n",
    "from selenium import webdriver\n",
    "from selenium.webdriver.chrome.options import Options\n",
    "from selenium.webdriver.common.by import By\n",
    "from selenium.webdriver.support import expected_conditions as EC\n",
    "from selenium.webdriver.support.ui import WebDriverWait\n",
    "import time\n",
    "# Chrome 옵션 설정\n",
    "options= Options()\n",
    "options.add_argument(\"--start-maximized\")# 브라우저를 최대화된 상태로 시작하도록 설정\n",
    "options.add_experimental_option(\"detach\",True) # 스크립트가 종료된 후에도 브라우저가 닫히지 않도록 설장\n",
    "\n",
    "# WEBdRIVER 실행\n",
    "driver = webdriver.Chrome(options=options)\n",
    "\n",
    "# Google 웹사이트 열기\n",
    "driver.get('https://www.naver.com/')\n",
    "\n",
    "\n",
    "try:\n",
    "    driver.find_element(By.XPATH, '//*[@id=\"account\"]/div/a').click()\n",
    "    time.sleep(0.55)\n",
    "    id = driver.find_element(By.XPATH, '//*[@id=\"id\"]')\n",
    "    id.click()\n",
    "    time.sleep(1)\n",
    "    id.send_keys('kindhrubang')\n",
    "    pw = driver.find_element(By.XPATH, '//*[@id=\"pw\"]')\n",
    "    time.sleep(1)\n",
    "    pw.click()\n",
    "    pw.send_keys('tkdguq@@@2')\n",
    "    time.sleep(0.45)\n",
    "\n",
    "    driver.find_element(By.XPATH, '//*[@id=\"log.login\"]').click()\n",
    "    time.sleep(0.45)\n",
    "\n",
    "\n",
    "except Exception as e:\n",
    "    # 예외 발생 시 메시지 출력\n",
    "    print(\"An error occurred:\",e)\n",
    "finally:\n",
    "    # WebDriver 종료\n",
    "    print(1)"
   ]
  },
  {
   "cell_type": "code",
   "execution_count": 46,
   "metadata": {},
   "outputs": [],
   "source": [
    "\n",
    "from selenium import webdriver\n",
    "from selenium.webdriver.chrome.options import Options\n",
    "from selenium.webdriver.common.by import By\n",
    "from selenium.webdriver.support import expected_conditions as EC\n",
    "from selenium.webdriver.support.ui import WebDriverWait\n",
    "import time\n",
    "# Chrome 옵션 설정\n",
    "options= Options()\n",
    "options.add_argument(\"--start-maximized\")# 브라우저를 최대화된 상태로 시작하도록 설정\n",
    "options.add_experimental_option(\"detach\",True) # 스크립트가 종료된 후에도 브라우저가 닫히지 않도록 설장\n",
    "\n",
    "# WEBdRIVER 실행\n",
    "driver = webdriver.Chrome(options=options)\n",
    "\n",
    "# Google 웹사이트 열기\n",
    "driver.get('https://www.naver.com/')\n",
    "element = driver.find_element(By.XPATH, '//*[@id=\"account\"]/div/a').click()\n",
    "\n",
    "\n",
    "\n",
    "id = 'kindgrubang'\n",
    "pw='tkdguq@@@2'\n",
    "\n",
    "driver.execute_script(\"document.getElementById('id').value=\\'\" + id + \"\\'\") \n",
    "time.sleep(1)\n",
    "driver.execute_script(\"document.getElementById('pw').value=\\'\" + pw + \"\\'\")\n",
    "time.sleep(1)\n",
    "\n",
    "element = driver.find_element(By.CLASS_NAME, 'btn_login')\n",
    "element.click()\n",
    "time.sleep(1)"
   ]
  },
  {
   "cell_type": "code",
   "execution_count": null,
   "metadata": {},
   "outputs": [],
   "source": [
    "from bs4 import BeautifulSoup\n",
    "soup = BeautifulSoup(page_source, 'html.parser')\n",
    "\n",
    "# 'class=\"count\"' 요소 찾기\n",
    "unread_mail_count = soup.select_one('.unread_mail .count')\n",
    "\n",
    "if unread_mail_count:\n",
    "    print(\"Unread mail count :\", unread_mail_count.text)\n",
    "else:\n",
    "    print(\"Unread mail count not found\")\n",
    "\n",
    "driver.quti()\n"
   ]
  }
 ],
 "metadata": {
  "kernelspec": {
   "display_name": "myenv",
   "language": "python",
   "name": "python3"
  },
  "language_info": {
   "codemirror_mode": {
    "name": "ipython",
    "version": 3
   },
   "file_extension": ".py",
   "mimetype": "text/x-python",
   "name": "python",
   "nbconvert_exporter": "python",
   "pygments_lexer": "ipython3",
   "version": "3.10.11"
  }
 },
 "nbformat": 4,
 "nbformat_minor": 2
}
