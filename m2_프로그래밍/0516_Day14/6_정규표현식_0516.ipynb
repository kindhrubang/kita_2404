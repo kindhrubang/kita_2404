{
  "nbformat": 4,
  "nbformat_minor": 0,
  "metadata": {
    "colab": {
      "provenance": []
    },
    "kernelspec": {
      "name": "python3",
      "display_name": "Python 3"
    },
    "language_info": {
      "name": "python"
    }
  },
  "cells": [
    {
      "cell_type": "markdown",
      "source": [
        "파이썬에서 정규 표현식(Regular Expressions)은 문자열을 처리할 때 매우 강력하고 유연한 도구\n",
        "\n",
        "기본 개념:\n",
        "- 패턴 매칭 (Pattern Matching): 특정 패턴이 문자열에 존재하는지 확인. 예를 들어, 이메일 주소나 전화번호와 같은 특정 형식을 갖는 문자열을 찾을 때 사용\n",
        "\n",
        "- 메타 문자 (Meta Characters): 정규 표현식의 핵심 요소로, 특별한 의미를 가진 문자들. 예를 들어, ^, $, *, +, ?, {}, [], \\, |, () 등이 있습니다.\n",
        "\n",
        "- 리터럴 (Literal): 일반 텍스트 문자. 특별한 의미 없이 문자 그대로를 의미\n",
        "\n",
        "re 모듈 : 파이썬은 정규표현식을 지원하기 위해 기본으로 제공\n",
        "- re.compile의 결과로 리턴되는 객체를 이용하여 그 이후 작업 수행\n",
        "\n",
        "주요 기능:\n",
        "- re.match(pattern, string): 문자열 내에서 시작 부분부터 정규표현식과 일치하는지 확인\n",
        "- re.search(pattern, string): 문자열 전체를 검색하여 주어진 정규표현식과 일치하는 첫번째 위치를 확인\n",
        "- re.findall(pattern, string): 문자열 내에서 주어진 패턴과 일치하는 모든 부분을 찾아 리스트로 반환\n",
        "- re.finditer(): 정규식과 매치되는 모든 문자열을 반복 가능한 객체로 리턴\n",
        "- re.sub(pattern, repl, string): 문자열 내에서 주어진 패턴과 일치하는 부분을 다른 문자열로 대체\n",
        "- re.compile(pattern): 주어진 패턴을 컴파일하여 재사용 가능한 정규 표현식 객체를 생성"
      ],
      "metadata": {
        "id": "xLDeHljdwIKq"
      }
    },
    {
      "cell_type": "markdown",
      "source": [
        "re.match에서 반환되는 match 객체는 클래스의 인스턴스\n",
        "- Python의 re 모듈에서 match 객체는 re.Match 클래스의 인스턴스로, 정규 표현식과의 일치에 대한 정보를 담고 있다.\n",
        "\n",
        "- re.Match 클래스의 인스턴스는 다음과 같은 중요한 메소드와 속성을 가지고 있다:\n",
        "  - group(): 일치하는 문자열을 반환. group(0) 또는 group()은 전체 일치를 반환\n",
        "  - start() 및 end(): 일치하는 부분의 시작과 끝 인덱스를 반환.\n",
        "  - span(): 일치하는 부분의 시작과 끝 인덱스를 포함하는 튜플을 반환.\n",
        "  \n",
        "re.match() 함수의 작동원리\n",
        "- 입력: re.match() 함수는 두 가지 주요 인자를 받는다:\n",
        "    - pattern: 검사할 정규 표현식 패턴. 이 패턴은 문자열에서 찾고자 하는 문자의 시퀀스를 정의.\n",
        "    - string: 검사할 전체 문자열입니다.\n",
        "- 패턴 일치 검사: 함수는 주어진 string의 시작 부분부터 pattern에 정의된 정규 표현식과 일치하는지 확인. 여기서 \"시작 부분\"이 중요한데, 이는 함수가 문자열의 처음부터 패턴과 일치하는 부분을 찾는다는 것을 의미.\n",
        "\n",
        "- 결과 반환:\n",
        "    - 일치하는 경우: 패턴이 문자열의 시작 부분과 일치하는 경우, 함수는 re.Match 객체를 반환. 이 객체는 일치에 대한 상세한 정보(예: 일치하는 문자열, 시작 및 끝 인덱스, 캡처된 그룹 등)를 포함.\n",
        "    - 일치하지 않는 경우: 패턴이 문자열의 시작 부분과 일치하지 않으면, 함수는 None을 반환."
      ],
      "metadata": {
        "id": "Yd6PfxmvyoyZ"
      }
    },
    {
      "cell_type": "code",
      "execution_count": null,
      "metadata": {
        "colab": {
          "base_uri": "https://localhost:8080/"
        },
        "id": "SLtN6BfWvxU2",
        "outputId": "00f47cda-7708-4000-f5d5-fdfe3175fdf9"
      },
      "outputs": [
        {
          "output_type": "stream",
          "name": "stdout",
          "text": [
            "apple\n",
            "apple\n",
            "0\n",
            "5\n",
            "(0, 5)\n"
          ]
        }
      ],
      "source": [
        "import re\n",
        "\n",
        "match = re.match('apple', 'apple pie')\n",
        "print(match.group())\n",
        "print(match.group(0))\n",
        "print(match.start())\n",
        "print(match.end())\n",
        "print(match.span())\n"
      ]
    },
    {
      "cell_type": "code",
      "source": [
        "# 괄호는 문자열 \"apple\"을 \"캡처 그룹\"으로 지정하는 역할\n",
        "p = '(apple) pie'\n",
        "t = 'apple pie'\n",
        "match = re.match(p,t)\n",
        "print(match.group())\n",
        "print(match.group(1))"
      ],
      "metadata": {
        "colab": {
          "base_uri": "https://localhost:8080/"
        },
        "id": "QtkOMGX5x9aP",
        "outputId": "cfe1ef81-b54c-4017-beae-44a63159cd98"
      },
      "execution_count": null,
      "outputs": [
        {
          "output_type": "stream",
          "name": "stdout",
          "text": [
            "apple pie\n",
            "apple pie\n"
          ]
        }
      ]
    },
    {
      "cell_type": "code",
      "source": [
        "# ()가 단순한 문자열로 매치되길 원할 때는 이스케이프 처리\n",
        "p = '\\\\(apple\\\\) pie'\n",
        "t = '(apple) pie'\n",
        "\n",
        "match = re.match(p,t)\n",
        "print(match.group())"
      ],
      "metadata": {
        "colab": {
          "base_uri": "https://localhost:8080/"
        },
        "id": "3j8pAwWNz_Vb",
        "outputId": "271a1ce2-1444-499e-8f06-315e955f6f96"
      },
      "execution_count": null,
      "outputs": [
        {
          "output_type": "stream",
          "name": "stdout",
          "text": [
            "(apple) pie\n"
          ]
        }
      ]
    },
    {
      "cell_type": "code",
      "source": [
        "# 로우스트링 r'...'을 사용하면 ,백슬래시를 두 번 연속해서 쓰는 것을 피할 수 있어 코드가 더 깔끔해지고 오류 발생 가능성을 줄여줌\n",
        "\n",
        "p=r'\\(apple\\) pie'\n",
        "t = '(apple) pie'\n",
        "match = re.match(p ,t)\n",
        "print(match.group())"
      ],
      "metadata": {
        "colab": {
          "base_uri": "https://localhost:8080/"
        },
        "id": "_cVZjR_I0cB7",
        "outputId": "a516ee06-7725-44a1-dd06-5e70ae3d1b00"
      },
      "execution_count": null,
      "outputs": [
        {
          "output_type": "stream",
          "name": "stdout",
          "text": [
            "(apple) pie\n"
          ]
        }
      ]
    },
    {
      "cell_type": "code",
      "source": [
        "p = '(apple) (pie)'\n",
        "t = 'apple pie'\n",
        "\n",
        "match = re.match(p,t)\n",
        "print(match.group())\n",
        "print(match.group(0))\n",
        "print(match.group(1))\n",
        "print(match.group(2))"
      ],
      "metadata": {
        "colab": {
          "base_uri": "https://localhost:8080/"
        },
        "id": "YfUYJpnA1Mbd",
        "outputId": "cbf95627-fd13-4f6e-96a6-c1e39f1385dd"
      },
      "execution_count": null,
      "outputs": [
        {
          "output_type": "stream",
          "name": "stdout",
          "text": [
            "apple pie\n",
            "apple pie\n",
            "apple\n",
            "pie\n"
          ]
        }
      ]
    },
    {
      "cell_type": "code",
      "source": [
        "p = 'apple'\n",
        "t = 'sweet apple pie'\n",
        "\n",
        "match = re.match(p,t)\n",
        "print(match.group())"
      ],
      "metadata": {
        "colab": {
          "base_uri": "https://localhost:8080/",
          "height": 184
        },
        "id": "l9wzO4WD16df",
        "outputId": "1df944d8-27dc-481c-ecd1-b6400962cde9"
      },
      "execution_count": null,
      "outputs": [
        {
          "output_type": "error",
          "ename": "AttributeError",
          "evalue": "'NoneType' object has no attribute 'group'",
          "traceback": [
            "\u001b[0;31m---------------------------------------------------------------------------\u001b[0m",
            "\u001b[0;31mAttributeError\u001b[0m                            Traceback (most recent call last)",
            "\u001b[0;32m<ipython-input-13-e9a04af82616>\u001b[0m in \u001b[0;36m<cell line: 5>\u001b[0;34m()\u001b[0m\n\u001b[1;32m      3\u001b[0m \u001b[0;34m\u001b[0m\u001b[0m\n\u001b[1;32m      4\u001b[0m \u001b[0mmatch\u001b[0m \u001b[0;34m=\u001b[0m \u001b[0mre\u001b[0m\u001b[0;34m.\u001b[0m\u001b[0mmatch\u001b[0m\u001b[0;34m(\u001b[0m\u001b[0mp\u001b[0m\u001b[0;34m,\u001b[0m\u001b[0mt\u001b[0m\u001b[0;34m)\u001b[0m\u001b[0;34m\u001b[0m\u001b[0;34m\u001b[0m\u001b[0m\n\u001b[0;32m----> 5\u001b[0;31m \u001b[0mprint\u001b[0m\u001b[0;34m(\u001b[0m\u001b[0mmatch\u001b[0m\u001b[0;34m.\u001b[0m\u001b[0mgroup\u001b[0m\u001b[0;34m(\u001b[0m\u001b[0;34m)\u001b[0m\u001b[0;34m)\u001b[0m\u001b[0;34m\u001b[0m\u001b[0;34m\u001b[0m\u001b[0m\n\u001b[0m",
            "\u001b[0;31mAttributeError\u001b[0m: 'NoneType' object has no attribute 'group'"
          ]
        }
      ]
    },
    {
      "cell_type": "code",
      "source": [
        "search = re.search('apple', 'sweet apple pie')\n",
        "print(search.group())\n",
        "print(search.group(0))\n",
        "print(search.start())\n",
        "print(search.end())\n",
        "print(search.span())\n",
        "a,b=search.span()"
      ],
      "metadata": {
        "colab": {
          "base_uri": "https://localhost:8080/"
        },
        "id": "7xulJ7yZ2K0J",
        "outputId": "c21170d2-5e4c-4c58-b404-e269487a3e36"
      },
      "execution_count": null,
      "outputs": [
        {
          "output_type": "stream",
          "name": "stdout",
          "text": [
            "apple\n",
            "apple\n",
            "6\n",
            "11\n",
            "(6, 11)\n"
          ]
        }
      ]
    },
    {
      "cell_type": "code",
      "source": [
        "import re\n",
        "#검색하기\n",
        "if re.search('apple', 'apple pie'):\n",
        "    print(\"Found an apple!\")\n",
        "# 모든 일치 항목 찾기\n",
        "print(re.findall('a', 'ab ac ad'))#어떤 한 문자와 일치\n",
        "# 문자열 대체하기\n",
        "print(re.sub('blue', 'red', 'blue sky and blue ocean'))\n",
        "#패턴 컴파일하기\n",
        "\n",
        "pattern = re.compile('[a-e]')\n",
        "print(pattern.findall('hello world'))"
      ],
      "metadata": {
        "id": "CjaXmuaV2WhR",
        "colab": {
          "base_uri": "https://localhost:8080/"
        },
        "outputId": "2ba165ea-5d77-46f8-cae4-7628312d4206"
      },
      "execution_count": null,
      "outputs": [
        {
          "output_type": "stream",
          "name": "stdout",
          "text": [
            "Found an apple!\n",
            "['a', 'a', 'a']\n",
            "red sky and red ocean\n",
            "['e', 'd']\n"
          ]
        }
      ]
    },
    {
      "cell_type": "code",
      "source": [
        "import re\n",
        "\n",
        "pattern = r'\\d+'\n",
        "string = '123 apple '\n",
        "match = re.search(pattern, string)# match는 re.Match의 인스턴스\n",
        "\n",
        "if match:\n",
        "    print(match.group())\n",
        "    print(match.start())\n",
        "    print(match.end())\n",
        "    print(match.span())\n",
        "else:\n",
        "    print('No match found')"
      ],
      "metadata": {
        "colab": {
          "base_uri": "https://localhost:8080/"
        },
        "id": "5H2P3bzUqrO2",
        "outputId": "ba48ab3e-a497-4cc7-a1dd-d78580fee1f0"
      },
      "execution_count": null,
      "outputs": [
        {
          "output_type": "stream",
          "name": "stdout",
          "text": [
            "123\n",
            "0\n",
            "3\n",
            "(0, 3)\n"
          ]
        }
      ]
    },
    {
      "cell_type": "markdown",
      "source": [
        "#### 정규 표현식의 기본 구성 요소\n",
        "1. 리터럴(Literals): 일반 텍스트 문자(예: a, b, 1, 2)\n",
        "\n",
        "2. 메타 문자(Meta Characters): 특별한 의미를 지닌 문자들\n",
        "- `.`: 어떤 한 문자와 일치 (\\n 제외)\n",
        "- ^: 문자열의 시작과 일치\n",
        "- $: 문자열의 끝과 일치\n",
        "- *: 0번 이상 반복되는 경우와 일치\n",
        "- +: 1번 이상 반복되는 경우와 일치\n",
        "- ?: 0번 또는 1번 등장하는 경우와 일치\n",
        "- {m,n}: 최소 m번, 최대 n번 반복\n",
        "- []: 문자 집합 중 하나와 일치 (예: [abc]는 a, b, c 중 하나와 일치)\n",
        "- |: OR 조건 (예: a|b는 a 또는 b)\n",
        "- (...): 그룹화\n",
        "\n",
        "3. 특수 시퀀스(Special Sequences):\n",
        "- \\d: 숫자와 일치\n",
        "- \\D: 숫자가 아닌 공백, 문자, 구두점 등 모든 문자와 일치\n",
        "- \\s: 스페이스(' '), 탭('\\t'), 캐리지 리턴('\\r'), 뉴라인('\\n'), 폼 피드('\\f') 등 공백 문자와 일치\n",
        "- \\S: 공백이 아닌 문자, 숫자, 특수 문자 등 모든 것과 일치\n",
        "- \\w: 단어 문자(문자, 숫자, 밑줄)와 일치\n",
        "- \\W: 단어 문자가 아닌 특수 문자, 공백 문자, 구두점 등과 일치"
      ],
      "metadata": {
        "id": "9yE5JTL5tSGt"
      }
    },
    {
      "cell_type": "markdown",
      "source": [
        "1. `.` (마침표)\n",
        "- 의미: 어떤 한 문자와 일치(줄바꿈 문자 제외)\n",
        "- 예시:\n",
        "  - 패턴: a.b\n",
        "  - 매칭 예시: \"acb\", \"a*b\", \"a3b\"\n",
        "  - 불일치 예시: \"ab\", \"a\\nb\"\n",
        "2. ^ (캐럿)\n",
        "- 의미: 문자열의 시작과 일치\n",
        "- 예시:\n",
        "  - 패턴: ^Hello\n",
        "  - 매칭 예시: \"Hello world\"\n",
        "  - 불일치 예시: \"world, Hello\"\n",
        "3. \\$ (달러 기호)\n",
        "- 의미: 문자열의 끝과 일치\n",
        "- 예시:\n",
        "  - 패턴: end$\n",
        "  - 매칭 예시: \"It's the end\"\n",
        "  - 불일치 예시: \"end of the story\"\n",
        "4. \\* (별표)\n",
        "- 의미: 앞의 문자가 0번 이상 반복\n",
        "- 예시:\n",
        "  - 패턴: a*b\n",
        "  - 매칭 예시: \"b\", \"ab\", \"aaab\"\n",
        "  - 불일치 예시: \"a\"\n",
        "5. \\+ (플러스)\n",
        "- 의미: 앞의 문자가 1번 이상 반복\n",
        "- 예시:\n",
        "  - 패턴: a+b\n",
        "  - 매칭 예시: \"ab\", \"aaab\"\n",
        "  - 불일치 예시: \"b\", \"a\"\n",
        "6. ? (물음표)\n",
        "- 의미: 앞의 문자가 0번 또는 1번 등장\n",
        "- 예시:\n",
        "  - 패턴: a?b\n",
        "  - 매칭 예시: \"ab\", \"b\"\n",
        "  - 불일치 예시: \"aab\"\n",
        "7. {m,n} (중괄호)\n",
        "- 의미: 앞의 문자가 최소 m번, 최대 n번 반복\n",
        "- 예시:\n",
        "  - 패턴: a{2,3}\n",
        "  - 매칭 예시: \"aa\", \"aaa\"\n",
        "  - 불일치 예시: \"a\", \"aaaa\"\n",
        "8. `[]` (대괄호)\n",
        "- 의미: 대괄호 안의 문자 중 하나와 일치\n",
        "- 예시:\n",
        "  - 패턴: [abc]\n",
        "  - 매칭 예시: \"a\", \"b\", \"c\"\n",
        "  - 불일치 예시: \"d\"\n",
        "9. | (파이프)\n",
        "- 의미: OR 조건\n",
        "- 예시:\n",
        "  - 패턴: a|b\n",
        "  - 매칭 예시: \"a\", \"b\"\n",
        "  - 불일치 예시: \"c\"\n",
        "10. (...) (괄호)\n",
        "- 의미: 그룹화, 캡처 그룹\n",
        "- 예시:\n",
        "  - 패턴: (a|b)c\n",
        "  - 매칭 예시: \"ac\", \"bc\""
      ],
      "metadata": {
        "id": "p3olj8c7teGc"
      }
    },
    {
      "cell_type": "markdown",
      "source": [
        "이스케이프 문자(escape character) vs 이스케이프 시퀀스(escape sequence)\n",
        "\n",
        "이스케이프 문자\n",
        "- 이스케이프 문자는 문자열 내에서 특수한 목적을 가지고 사용되는 문자. 대표적인 예로는 백슬래시(\\\\)가 있다.\n",
        "- 이 문자는 문자열 내에서 다른 문자와 결합하여 다양한 이스케이프 시퀀스를 형성하거나 특정 문자를 리터럴 값으로 표현하는 데 사용.\n",
        "\n",
        "이스케이프 시퀀스\n",
        "- 이스케이프 시퀀스는 이스케이프 문자에 이어지는 하나 또는 그 이상의 문자로 구성된 문자열.\n",
        "- 이스케이프 시퀀스는 일반적으로 출력할 수 없는 특수한 명령이나 문자를 표현하는 데 사용. 예를 들어, \\n은 새 줄(new line)을, \\t는 탭(tab)을 의미. 이스케이프 시퀀스는 이스케이프 문자를 통해 특별한 처리를 필요로 하는 여러 문자를 문자열 안에 포함시킬 수 있게 한다."
      ],
      "metadata": {
        "id": "69ZHCfKhwnp5"
      }
    },
    {
      "cell_type": "code",
      "source": [
        "#이스케이프 문자 사용 예\n",
        "text = 'He said, \\\"Hello.\\\"'\n",
        "print(text)\n",
        "# 이스케이프 시퀀스 사용 예\n",
        "text = 'First Line\\nSecond Line'\n",
        "print(text)"
      ],
      "metadata": {
        "colab": {
          "base_uri": "https://localhost:8080/"
        },
        "id": "2SdnNlKhs85V",
        "outputId": "f32badec-712c-47bb-90f6-e0223c644c92"
      },
      "execution_count": null,
      "outputs": [
        {
          "output_type": "stream",
          "name": "stdout",
          "text": [
            "He said, \"Hello.\"\n",
            "First Line\n",
            "Second Line\n"
          ]
        }
      ]
    },
    {
      "cell_type": "markdown",
      "source": [
        "Python에서 로우 스트링\n",
        "- 문자열 앞에 r이나 R을 붙여 정의\n",
        "- 주요 목적은 문자열 내에서 백슬래시(\\\\)와 같은 이스케이프 문자를 문자 그대로 처리하여, 특수 문자열을 이스케이프하는 복잡성을 줄인다.\n",
        "- 로우스트링 사용이 필수적인 경우\n",
        "  - 백슬래시 다음에 특정 문자가 오는 경우: 만약 문자열 내에 백슬래시(\\) 다음에 특별한 의미를 가지는 문자(n, t, b, r, u, x 등)가 오면, 이들은 각각 줄바꿈(\\n), 탭(\\t), 백스페이스(\\b), 캐리지 리턴(\\r), 유니코드 문자(\\uXXXX), 16진수 문자(\\xXX) 등으로 해석. 이런 경우 로우스트링을 사용하지 않으면 문자열이 의도치 않게 변경될 수 있다.\n",
        "\n",
        "  - 정규 표현식의 메타문자를 이스케이프 해야 할 때: 정규 표현식에서 메타문자(예: *, +, [, ], (, ), {, }, ^, $, ., |, ?, \\\\ 등)를 리터럴 문자로 사용하고 싶다면, 이스케이프 처리(\\\\)를 해야 합니다. 이때 로우스트링을 사용하지 않으면, \\ 자체를 이스케이프해야 하므로 코드가 복잡해질 수 있다."
      ],
      "metadata": {
        "id": "e4vmX2PxyHKl"
      }
    },
    {
      "cell_type": "code",
      "source": [
        "#일반 문자열에서의 이스케이프 시퀀스 사용\n",
        "path = \"C:\\\\Users\\\\Username\\\\Documents\"\n",
        "print(path)\n",
        "\n",
        "# 로우 스트링 사용\n",
        "raw_path = r\"C:\\Users\\Username\\Documents\"\n",
        "print(raw_path)"
      ],
      "metadata": {
        "colab": {
          "base_uri": "https://localhost:8080/"
        },
        "id": "7TTPEZCjxx0D",
        "outputId": "8a16b89e-4296-41c6-cf69-42e3a3dbe498"
      },
      "execution_count": null,
      "outputs": [
        {
          "output_type": "stream",
          "name": "stdout",
          "text": [
            "C:\\Users\\Username\\Documents\n",
            "C:\\Users\\Username\\Documents\n"
          ]
        }
      ]
    },
    {
      "cell_type": "code",
      "source": [
        "pattern = r'(\\d{4})-(\\d{2})-(\\d{2})'\n",
        "text = \"오늘의 날짜는 2023-04-30 입니다.\"\n",
        "\n",
        "match = re.search(pattern, text)\n",
        "print('전체 날짜: ', match.group())"
      ],
      "metadata": {
        "colab": {
          "base_uri": "https://localhost:8080/"
        },
        "id": "DF7XLpaY13-o",
        "outputId": "f67fceac-e61c-4f8f-9f25-9e20a8ff4958"
      },
      "execution_count": null,
      "outputs": [
        {
          "output_type": "stream",
          "name": "stdout",
          "text": [
            "전체 날짜:  2023-04-30\n"
          ]
        }
      ]
    },
    {
      "cell_type": "code",
      "source": [
        "import re\n",
        "\n",
        "#정규 표현식\n",
        "pattern = r'(\\d{4})-(\\d{2})-(\\d{2})'\n",
        "text = \"오늘의 날짜는 2023-04-30 입니다.\"\n",
        "\n",
        "match = re.search(pattern, text)\n",
        "\n",
        "\n",
        "if match:\n",
        "    print('전체 날짜: ', match.group())\n",
        "    print('년도: ', match.group(1) )\n",
        "    print('월: ', match.group(2))\n",
        "    print('일: ', match.group(3))\n",
        "else:\n",
        "    print('매치되는 날짜가 없습니다.')"
      ],
      "metadata": {
        "colab": {
          "base_uri": "https://localhost:8080/"
        },
        "id": "G2T_yZxx4DUZ",
        "outputId": "7001da52-863e-4f0d-f126-f282c9a019b1"
      },
      "execution_count": null,
      "outputs": [
        {
          "output_type": "stream",
          "name": "stdout",
          "text": [
            "전체 날짜:  2023-04-30\n",
            "년도:  2023\n",
            "월:  04\n",
            "일:  30\n"
          ]
        }
      ]
    },
    {
      "cell_type": "markdown",
      "source": [
        "Q. 문자열 \"The cat in the hat.\"에서 \"cat\"과 'hat'을 찾으세요."
      ],
      "metadata": {
        "id": "G9uLGMrV5R3x"
      }
    },
    {
      "cell_type": "code",
      "source": [
        "import re\n",
        "\n",
        "print(re.findall(\"[hc]*at\", \"The cat in the hat.\"))\n",
        "print(re.findall(\"[hc]+at\", \"The cat in the hat.\"))\n",
        "print(re.findall(\"[hc]at\", \"The cat in the hat.\"))\n",
        "print(re.findall(\"[hc]at\", \"The chat in the hat.\"))"
      ],
      "metadata": {
        "colab": {
          "base_uri": "https://localhost:8080/"
        },
        "id": "889s__3X4nuZ",
        "outputId": "cca46f7c-e438-4ac9-ef61-e6721ff5c647"
      },
      "execution_count": null,
      "outputs": [
        {
          "output_type": "stream",
          "name": "stdout",
          "text": [
            "['cat', 'hat']\n",
            "['cat', 'hat']\n",
            "['cat', 'hat']\n",
            "['hat', 'hat']\n"
          ]
        }
      ]
    },
    {
      "cell_type": "code",
      "source": [
        "#matches는 리스트 객체\n",
        "import re\n",
        "\n",
        "text = \"bat, cat, rat, fat\"\n",
        "#pattern=r\"[bcr]at\"\n",
        "pattern=r\"[^f]at\"#f가 아닌것\n",
        "matches = re.findall(pattern, text)\n",
        "print(matches)"
      ],
      "metadata": {
        "colab": {
          "base_uri": "https://localhost:8080/"
        },
        "id": "wr2nkO3w5m8l",
        "outputId": "baf1854e-14ce-4f7d-e3f7-340562d284d6"
      },
      "execution_count": null,
      "outputs": [
        {
          "output_type": "stream",
          "name": "stdout",
          "text": [
            "['bat', 'cat', 'rat']\n"
          ]
        }
      ]
    },
    {
      "cell_type": "markdown",
      "source": [
        "Q.문자열 \"123 abc 456\"에서 모든 숫자를 찾으세요.\n"
      ],
      "metadata": {
        "id": "At5Hx1iL7XxV"
      }
    },
    {
      "cell_type": "code",
      "source": [
        "txt = '123 abc 456'\n",
        "pattern = r\"\\d+\"\n",
        "matches = re.findall(pattern , txt)\n",
        "\n",
        "print(matches)"
      ],
      "metadata": {
        "colab": {
          "base_uri": "https://localhost:8080/"
        },
        "id": "fggdbFB16mfb",
        "outputId": "49944106-a059-41d0-a019-6ad74fb61add"
      },
      "execution_count": null,
      "outputs": [
        {
          "output_type": "stream",
          "name": "stdout",
          "text": [
            "['123', '456']\n"
          ]
        }
      ]
    },
    {
      "cell_type": "markdown",
      "source": [
        "Q. 문자열 \"Hello, my name is John.\"에서 첫 단어 \"Hello\"를 찾으세요."
      ],
      "metadata": {
        "id": "ZzYmDmnf8daT"
      }
    },
    {
      "cell_type": "code",
      "source": [
        "import re\n",
        "txt= \"Hello, my name is John.\"\n",
        "pattern = r\"^Hello\"\n",
        "\n",
        "matches = re.match(pattern, txt)\n",
        "\n",
        "if matches:\n",
        "    print(matches.group())"
      ],
      "metadata": {
        "colab": {
          "base_uri": "https://localhost:8080/"
        },
        "id": "Gruqp4hn7vsp",
        "outputId": "5840498d-c9cb-4373-a753-fc71b28693c5"
      },
      "execution_count": null,
      "outputs": [
        {
          "output_type": "stream",
          "name": "stdout",
          "text": [
            "Hello\n"
          ]
        }
      ]
    },
    {
      "cell_type": "markdown",
      "source": [
        "Q.'The car parked in the garage #42'에서 문장의 마지막 단어 \"garage\"를 찾으세요."
      ],
      "metadata": {
        "id": "9xQE6g1k-bv-"
      }
    },
    {
      "cell_type": "code",
      "source": [
        "print(re.search('garage', 'The car parked in the garage #42.').group())"
      ],
      "metadata": {
        "colab": {
          "base_uri": "https://localhost:8080/"
        },
        "id": "w9N2BMzX8zJB",
        "outputId": "04012a32-3635-49f3-930b-e65fca543607"
      },
      "execution_count": null,
      "outputs": [
        {
          "output_type": "stream",
          "name": "stdout",
          "text": [
            "garage\n"
          ]
        }
      ]
    },
    {
      "cell_type": "code",
      "source": [
        "# 문자 클래스 : []\n",
        "pattern = re.compile('[a-z]+')\n",
        "p1 = pattern.search('Banker')\n",
        "p2 = pattern.search('banker')\n",
        "\n",
        "print(p1)\n",
        "print(p2)"
      ],
      "metadata": {
        "colab": {
          "base_uri": "https://localhost:8080/"
        },
        "id": "uqHFstdN-a1_",
        "outputId": "82d00c06-65cf-4f22-c8fd-b91baf396a3c"
      },
      "execution_count": null,
      "outputs": [
        {
          "output_type": "stream",
          "name": "stdout",
          "text": [
            "<re.Match object; span=(1, 6), match='anker'>\n",
            "<re.Match object; span=(0, 6), match='banker'>\n"
          ]
        }
      ]
    },
    {
      "cell_type": "code",
      "source": [
        "#Q. 'abc123456Abc'에서 'A'만 출력하세요.\n",
        "import re\n",
        "regex = re.compile('[A-Z]')\n",
        "text = 'abc123456Abc'\n",
        "\n",
        "p1 = regex.search(text)\n",
        "print(p1.group())"
      ],
      "metadata": {
        "colab": {
          "base_uri": "https://localhost:8080/"
        },
        "id": "R7qWtqkc--2k",
        "outputId": "9448bc73-b057-4f09-e6b2-60ca66c0fc6d"
      },
      "execution_count": null,
      "outputs": [
        {
          "output_type": "stream",
          "name": "stdout",
          "text": [
            "A\n"
          ]
        }
      ]
    },
    {
      "cell_type": "code",
      "source": [
        "#Q. 'KOREA 아대한민국'에서 '아'만 출력하세요\n",
        "import re\n",
        "regex = re.compile('[가-힣]')\n",
        "text = 'KOREA 아대한민국'\n",
        "m = regex.search(text)\n",
        "m.group()"
      ],
      "metadata": {
        "colab": {
          "base_uri": "https://localhost:8080/",
          "height": 35
        },
        "id": "2X9bdgUbAFxh",
        "outputId": "c5f01a6c-2311-42f7-c47e-1a2b5fdc393d"
      },
      "execution_count": null,
      "outputs": [
        {
          "output_type": "execute_result",
          "data": {
            "text/plain": [
              "'아'"
            ],
            "application/vnd.google.colaboratory.intrinsic+json": {
              "type": "string"
            }
          },
          "metadata": {},
          "execution_count": 44
        }
      ]
    },
    {
      "cell_type": "code",
      "source": [
        "# search는 문자열 전체를 검색하여 정규식과 매칭되는 패턴을 찾는다.\n",
        "# a{2}는 a를 2회 반복하여 사용\n",
        "# Q. '122333c'를 모두 출력하세요\n",
        "import re\n",
        "regex = re.compile('12{2}3{3}c')\n",
        "text = '122333c'\n",
        "m = regex.search(text)\n",
        "print(m.group())"
      ],
      "metadata": {
        "colab": {
          "base_uri": "https://localhost:8080/"
        },
        "id": "4d1BZmiWAo4n",
        "outputId": "a2a3701c-245f-437f-dc1d-582978615eb5"
      },
      "execution_count": null,
      "outputs": [
        {
          "output_type": "stream",
          "name": "stdout",
          "text": [
            "122333c\n"
          ]
        }
      ]
    },
    {
      "cell_type": "code",
      "source": [
        "# Q. 'aaaaBBBcccDDDeee'를 모두 출력하세요.\n",
        "\n",
        "import re\n",
        "regex = re.compile('a{4}B{3}c{3}D{3}e{3}')\n",
        "text =  'aaaaBBBcccDDDeee'\n",
        "m = regex.search(text)\n",
        "print(m.group())"
      ],
      "metadata": {
        "colab": {
          "base_uri": "https://localhost:8080/"
        },
        "id": "7JrpNRikD0Id",
        "outputId": "38274d60-440b-4e8e-a2e9-e011abcf641a"
      },
      "execution_count": null,
      "outputs": [
        {
          "output_type": "stream",
          "name": "stdout",
          "text": [
            "aaaaBBBcccDDDeee\n"
          ]
        }
      ]
    },
    {
      "cell_type": "code",
      "source": [
        "p = re.compile('[a-z]+')\n",
        "result = p.findall('life is too short')\n",
        "# result = p.search('life is too short') <= 'life'가 나옴 서치는 처음꺼\n",
        "print(result)\n",
        "#for r in result:print(r)"
      ],
      "metadata": {
        "colab": {
          "base_uri": "https://localhost:8080/"
        },
        "id": "zWb_MVKbEH_o",
        "outputId": "3cd079de-7f55-4756-d1ea-a557b8b7c81b"
      },
      "execution_count": null,
      "outputs": [
        {
          "output_type": "stream",
          "name": "stdout",
          "text": [
            "['life', 'is', 'too', 'short']\n",
            "life\n",
            "is\n",
            "too\n",
            "short\n"
          ]
        }
      ]
    },
    {
      "cell_type": "code",
      "source": [
        "#finditer는 findall과 동일하지만 그 결과로 반복 가능한 객체(iterator object)를 돌려준다.\n",
        "#반복 가능한 객체가 포함하는 각각의 요소는 match 객체이다.\n",
        "p = re.compile('[a-z]+')\n",
        "result = p.finditer('life is too short')\n",
        "#print(result)\n",
        "#print(list(result))\n",
        "for r in result:print(r.group(), end = ' ')"
      ],
      "metadata": {
        "colab": {
          "base_uri": "https://localhost:8080/"
        },
        "id": "s52uwRTBFLPD",
        "outputId": "69aa8512-4a58-4434-da47-7bd6359b473a"
      },
      "execution_count": null,
      "outputs": [
        {
          "output_type": "stream",
          "name": "stdout",
          "text": [
            "life is too short "
          ]
        }
      ]
    },
    {
      "cell_type": "code",
      "source": [
        "# Q. '1234a1234'에서 '1', '2', '3', '4'를 모두 출력하세요\n",
        "regex = re.compile('[1234]')\n",
        "text = '1234a1234'\n",
        "\n",
        "regex.findall(text)"
      ],
      "metadata": {
        "colab": {
          "base_uri": "https://localhost:8080/"
        },
        "id": "_i_nZ18PGGQ8",
        "outputId": "b3bd7597-8cfa-4aff-f994-774e1f8f3607"
      },
      "execution_count": null,
      "outputs": [
        {
          "output_type": "execute_result",
          "data": {
            "text/plain": [
              "['1', '2', '3', '4', '1', '2', '3', '4']"
            ]
          },
          "metadata": {},
          "execution_count": 52
        }
      ]
    },
    {
      "cell_type": "code",
      "source": [
        "# dot(.) 옵션은 문자열에서 (\\n제외) 검색시 사용\n",
        "import re\n",
        "p = re.compile('a.+b')\n",
        "m1 = p.match('a\\nb')\n",
        "m2 = p.match('acb')\n",
        "m3 = p.match('a12?Ab')\n",
        "print(m1)\n",
        "print(m2.group())\n",
        "print(m3.group())"
      ],
      "metadata": {
        "id": "8k7KV87-Gwdw",
        "colab": {
          "base_uri": "https://localhost:8080/"
        },
        "outputId": "170a5598-6dfb-4b03-d618-0762eea64826"
      },
      "execution_count": 2,
      "outputs": [
        {
          "output_type": "stream",
          "name": "stdout",
          "text": [
            "None\n",
            "acb\n",
            "a12?Ab\n"
          ]
        }
      ]
    },
    {
      "cell_type": "code",
      "source": [
        "# re.DOTALL 옵션은 여러 줄로 이루어진 문자열에서 \\n에 상관없이 검색시 사용\n",
        "p = re.compile('a.b', re.DOTALL)\n",
        "m = p.match('a\\nb')\n",
        "print(m)\n",
        "print(m.group())"
      ],
      "metadata": {
        "colab": {
          "base_uri": "https://localhost:8080/"
        },
        "id": "UHjabzGe3Bkr",
        "outputId": "359d8fcb-a647-4c63-f6b0-489d6707e2c6"
      },
      "execution_count": 3,
      "outputs": [
        {
          "output_type": "stream",
          "name": "stdout",
          "text": [
            "<re.Match object; span=(0, 3), match='a\\nb'>\n",
            "a\n",
            "b\n"
          ]
        }
      ]
    },
    {
      "cell_type": "code",
      "source": [
        "# Q. text에서 what are you doing?만 출력하세요\n",
        "text = 'what are you doing?\\nit is going to be late for school \\nwe need to hurry up'\n",
        "p = re.compile('.*')\n",
        "\n",
        "print(p.search(text).group())\n"
      ],
      "metadata": {
        "colab": {
          "base_uri": "https://localhost:8080/"
        },
        "id": "PQ3PBVhW3ycU",
        "outputId": "2fc7c1fc-182d-4648-abde-d73a264f3654"
      },
      "execution_count": 5,
      "outputs": [
        {
          "output_type": "stream",
          "name": "stdout",
          "text": [
            "what are you doing?\n"
          ]
        }
      ]
    },
    {
      "cell_type": "code",
      "source": [
        "# Q. text에서 전체문장 모두 출력하세요\n",
        "# 줄바꿈 문자가 있는 파일의 모든 범위를 매치하려면 compile 메소드에 두번째 매개변수를 re.DOTALL로 지정한다.\n",
        "text = 'what are you doing?\\nit is going to be late for school \\nwe need to hurry up'\n",
        "regex = re.compile('.*', re.DOTALL)\n",
        "\n",
        "print(regex.search(text).group())"
      ],
      "metadata": {
        "colab": {
          "base_uri": "https://localhost:8080/"
        },
        "id": "fvBP7vuN4KXR",
        "outputId": "054b3815-86dd-4c72-b464-403d71c7825e"
      },
      "execution_count": 8,
      "outputs": [
        {
          "output_type": "stream",
          "name": "stdout",
          "text": [
            "what are you doing?\n",
            "it is going to be late for school\n"
          ]
        }
      ]
    },
    {
      "cell_type": "code",
      "source": [
        "# re.IGNORECASE 또는 re.I 옵션은 대소문자 구분 없이 매치를 수행시 사용\n",
        "p = re.compile('[a-z]+', re.I)\n",
        "print(p.match('python'))\n",
        "print(p.match('Python'))\n",
        "print(p.match('PYTHON'))"
      ],
      "metadata": {
        "colab": {
          "base_uri": "https://localhost:8080/"
        },
        "id": "qcL8l-lS4mXt",
        "outputId": "72203408-39bd-4f67-b7d2-cadb7230fc3e"
      },
      "execution_count": 11,
      "outputs": [
        {
          "output_type": "stream",
          "name": "stdout",
          "text": [
            "<re.Match object; span=(0, 6), match='python'>\n",
            "<re.Match object; span=(0, 6), match='Python'>\n",
            "<re.Match object; span=(0, 6), match='PYTHON'>\n"
          ]
        }
      ]
    },
    {
      "cell_type": "code",
      "source": [
        "# Q. text에서 대소문자 구분없이 전체문장 모두 출력하세요\n",
        "text = 'Friend fRiend friEnd FRIEND'\n",
        "regex = re.compile('[a-z]+' , re.I)\n",
        "matchs = regex.findall(text)\n",
        "print(matchs)\n",
        "for i in matchs:\n",
        "    print(i,end=' ')"
      ],
      "metadata": {
        "colab": {
          "base_uri": "https://localhost:8080/"
        },
        "id": "VnVl79Hk5itW",
        "outputId": "ea43af5a-2026-4b1b-b916-6812e228b955"
      },
      "execution_count": 16,
      "outputs": [
        {
          "output_type": "stream",
          "name": "stdout",
          "text": [
            "['Friend', 'fRiend', 'friEnd', 'FRIEND']\n",
            "Friend fRiend friEnd FRIEND "
          ]
        }
      ]
    },
    {
      "cell_type": "code",
      "source": [
        "#python이라는 문자열로 시작하고 그 뒤에 whitespace, 그뒤에 단어가 오는 경우\n",
        "import re\n",
        "p = re.compile('^python\\s\\w+')\n",
        "\n",
        "data = '''python one\n",
        "life is too short\n",
        "python two\n",
        "you need python\n",
        "python three'''\n",
        "\n",
        "print(p.findall(data))"
      ],
      "metadata": {
        "colab": {
          "base_uri": "https://localhost:8080/"
        },
        "id": "0YBvpX4e58za",
        "outputId": "9fbb6c7c-0958-4b89-f820-5328f0ed9bb4"
      },
      "execution_count": 22,
      "outputs": [
        {
          "output_type": "stream",
          "name": "stdout",
          "text": [
            "['python one']\n"
          ]
        }
      ]
    },
    {
      "cell_type": "code",
      "source": [
        "# re.MULTILINE 또는 re.M옵션으로 ^메타 문자를 각 라인의 처음으로 인식시킴\n",
        "import re\n",
        "p = re.compile('^python\\s\\w+', re.M)\n",
        "\n",
        "data = '''python one\n",
        "life is too short\n",
        "python two\n",
        "you need python\n",
        "python three'''\n",
        "\n",
        "print(p.findall(data))"
      ],
      "metadata": {
        "colab": {
          "base_uri": "https://localhost:8080/"
        },
        "id": "T-Q-klem6wMf",
        "outputId": "e9b1be5c-7a57-4767-884c-a62d4b0b04b2"
      },
      "execution_count": 23,
      "outputs": [
        {
          "output_type": "stream",
          "name": "stdout",
          "text": [
            "['python one', 'python two', 'python three']\n"
          ]
        }
      ]
    },
    {
      "cell_type": "code",
      "source": [
        "# r'\\\\section'은 로우 스트링을 사용하여 백슬래시를 이스케이프하고, 정규 표현식에서 \\section을 리터럴로 매치\n",
        "# 파이썬 문자열 리터럴 규칙에 의하여 \\\\이 \\으로 변경되어 \\section이 전달\n",
        "p = re.compile(r'\\\\section')\n",
        "\n",
        "print(p.match(r'\\section'))\n",
        "p.findall(r'\\section\\section')"
      ],
      "metadata": {
        "colab": {
          "base_uri": "https://localhost:8080/"
        },
        "id": "JqKQG8zX7coP",
        "outputId": "b0d96c96-063c-4ba0-d7ce-dc4c4514b758"
      },
      "execution_count": 24,
      "outputs": [
        {
          "output_type": "stream",
          "name": "stdout",
          "text": [
            "<re.Match object; span=(0, 8), match='\\\\section'>\n"
          ]
        },
        {
          "output_type": "execute_result",
          "data": {
            "text/plain": [
              "['\\\\section', '\\\\section']"
            ]
          },
          "metadata": {},
          "execution_count": 24
        }
      ]
    },
    {
      "cell_type": "code",
      "source": [
        "#메타 문자\n",
        "#|(or와 동일한 의미), ^(문자열의 맨처음), $(문자열의 끝과 매치)\n",
        "import re\n",
        "p = re.compile('Crow|Servo')\n",
        "m = p.match('CrowHello')\n",
        "print(m)\n",
        "print()\n",
        "print(re.search('^Life', 'Life is too short'))\n",
        "print(re.search('^Life', 'My Life'))\n",
        "print()\n",
        "print(re.search('Life$', 'Life is too short'))\n",
        "print(re.search('Life$', 'My Life'))"
      ],
      "metadata": {
        "colab": {
          "base_uri": "https://localhost:8080/"
        },
        "id": "Dy4hun1w8EEq",
        "outputId": "20934742-d374-4435-e2f7-646f97e78722"
      },
      "execution_count": 27,
      "outputs": [
        {
          "output_type": "stream",
          "name": "stdout",
          "text": [
            "<re.Match object; span=(0, 4), match='Crow'>\n",
            "\n",
            "<re.Match object; span=(0, 4), match='Life'>\n",
            "None\n",
            "\n",
            "None\n",
            "<re.Match object; span=(3, 7), match='Life'>\n"
          ]
        }
      ]
    },
    {
      "cell_type": "code",
      "source": [
        "# \\b whitespace에 의해 구분\n",
        "# \\B whitespace로 구분된 단어가 아닌 경우에만 매치\n",
        "p = re.compile(r'\\bclass\\b')\n",
        "print(p.search('no class at all'))\n",
        "print(p.search('the declassified algorithim'))\n",
        "print()\n",
        "q= re.compile(r'\\Bclass\\B')\n",
        "print(q.search('no class at all'))\n",
        "print(q.search('the declassified algorithim'))"
      ],
      "metadata": {
        "colab": {
          "base_uri": "https://localhost:8080/"
        },
        "id": "AUdvcabX8vge",
        "outputId": "f1e1134b-9390-42c7-ce79-c3212f74feb9"
      },
      "execution_count": 30,
      "outputs": [
        {
          "output_type": "stream",
          "name": "stdout",
          "text": [
            "<re.Match object; span=(3, 8), match='class'>\n",
            "None\n",
            "\n",
            "None\n",
            "<re.Match object; span=(6, 11), match='class'>\n"
          ]
        }
      ]
    },
    {
      "cell_type": "markdown",
      "source": [
        "#### 그룹화\n",
        "괄호 ()는 '그룹화'를 위해 사용 : 주로 여러 문자열 패턴을 하나의 단위로 묶거나, 특정 부분의 문자열을 추출하는 데 사용\n",
        "\n",
        "그룹화의 주요 용도:\n",
        "- 패턴의 일부를 하나의 단위로 묶기 : 괄호는 여러 문자 또는 문자 집합을 하나의 단위로 묶어서, 그 전체에 대해 수량자 (예: *, +, ?, {m,n} 등)를 적용할 수 있게 한다.\n",
        "\n",
        "- 텍스트 캡처 : 괄호로 묶인 부분은 '캡처 그룹'이 되어, 매칭된 텍스트를 나중에 사용하기 위해 저장. 예를 들어, re.search()나 re.match() 등의 함수로 매치 객체를 얻은 후, group() 메서드를 사용하여 이 텍스트를 추출할 수 있다.\n",
        "\n",
        "- 백레퍼런스(backreferences): 정규 표현식 내에서 앞서 정의된 그룹을 다시 참조할 수 있다. 이는 패턴이 이전에 매치된 동일한 텍스트와 일치해야 할 때 유용.\n",
        "\n",
        "- 비캡처 그룹(non-capturing groups): 때로는 괄호를 사용하여 그룹을 만들지만, 매치된 내용을 나중에 사용하고 싶지 않을 때가 있다. 이 경우 (?:...) 형태를 사용하여 그룹을 만든다. 이 그룹은 매칭에는 영향을 주지만, 결과를 저장하지는 않는다."
      ],
      "metadata": {
        "id": "YVmMGPVKBFlq"
      }
    },
    {
      "cell_type": "code",
      "source": [
        "# '(ha)+' 패턴은 'ha' 문자열이 하나 이상 반복되는 부분을 찾는다.\n",
        "import re\n",
        "\n",
        "pattern = r'(ha)+'\n",
        "text = \"hahaha, that's funny!\"\n",
        "\n",
        "match = re.search(pattern, text)\n",
        "\n",
        "if match:\n",
        "    print(match.group())"
      ],
      "metadata": {
        "colab": {
          "base_uri": "https://localhost:8080/"
        },
        "id": "5XdCKtBbAkZT",
        "outputId": "a17e4de4-be15-4105-ee5e-ddb84c55833e"
      },
      "execution_count": 34,
      "outputs": [
        {
          "output_type": "stream",
          "name": "stdout",
          "text": [
            "hahaha\n"
          ]
        }
      ]
    },
    {
      "cell_type": "markdown",
      "source": [
        "- \\1은 첫 번째 캡처 그룹 ((\\b\\w+))을 다시 참조. 이는 앞서 찾은 단어와 정확히 동일한 단어가 연속해서 나타나야 함을 의미\n",
        "- Capturing Group ((\\b\\w+)): 괄호는 캡처 그룹을 만든다.이 경우 \\b\\w+는 단어 경계로 시작하는 하나 이상의 단어 문자로 이루어진 시퀀스를 캡처"
      ],
      "metadata": {
        "id": "KOegcZ4qCcxN"
      }
    },
    {
      "cell_type": "code",
      "source": [
        "import re\n",
        "\n",
        "pattern = r'(\\b\\w+)\\s+\\1'\n",
        "text = '이것은 중복 중복 단어입니다.'\n",
        "\n",
        "match = re.search(pattern, text)\n",
        "\n",
        "if match:\n",
        "    print(match.group())"
      ],
      "metadata": {
        "colab": {
          "base_uri": "https://localhost:8080/"
        },
        "id": "MG5u51rPCKF_",
        "outputId": "d206e400-c722-4153-ffe0-a1cdb8763d79"
      },
      "execution_count": 37,
      "outputs": [
        {
          "output_type": "stream",
          "name": "stdout",
          "text": [
            "중복 중복\n"
          ]
        }
      ]
    },
    {
      "cell_type": "code",
      "source": [
        "# 첫 번째 숫자 그룹은 비캡처 그룹 (?:\\d{4})로 설정되어 있어, 매치 결과는 저장되지 않고 '월' 과 '일'만 캡처된다.\n",
        "import re\n",
        "\n",
        "pattern = r'(?:\\d{4})-(\\d{2})-(\\d{2})'\n",
        "text = \"오늘의 날짜는 2023-04-30입니다.\"\n",
        "\n",
        "match = re.search(pattern, text)\n",
        "\n",
        "if match:\n",
        "    print('월 : ',match.group(1))\n",
        "    print('일 : ',match.group(2))\n",
        "    print(match.group())"
      ],
      "metadata": {
        "colab": {
          "base_uri": "https://localhost:8080/"
        },
        "id": "znSFqNaMC7OQ",
        "outputId": "3a2fa013-f8f6-4122-8e11-df4c20d713bc"
      },
      "execution_count": 40,
      "outputs": [
        {
          "output_type": "stream",
          "name": "stdout",
          "text": [
            "월 :  04\n",
            "일 :  30\n",
            "2023-04-30\n"
          ]
        }
      ]
    },
    {
      "cell_type": "code",
      "source": [
        "# 그룹이 중첨되어 있는 경우는 바깥쪽부터 시작하여 안쪽으로 들어갈수록 인덱스 증가\n",
        "# Q. 정규표현식을 사용하여 'park 010-1234-5678'에서 지역코드만 출력하세요.\n",
        "\n",
        "p = re.compile(r'(\\w+)\\s+((\\d+)[-](\\d+)[-](\\d+))')\n",
        "m = p.search('park 010-1234-5678')\n",
        "\n",
        "print(m.group())\n",
        "print(m.group(1))\n",
        "print(m.group(2))\n",
        "print(m.group(3))\n",
        "print(m.group(4))\n",
        "print(m.group(5))"
      ],
      "metadata": {
        "colab": {
          "base_uri": "https://localhost:8080/"
        },
        "id": "W9uJ5f7rEgZY",
        "outputId": "0834f85b-b051-40f7-f005-5a2d7c4d39cc"
      },
      "execution_count": 43,
      "outputs": [
        {
          "output_type": "stream",
          "name": "stdout",
          "text": [
            "park 010-1234-5678\n",
            "park\n",
            "010-1234-5678\n",
            "010\n",
            "1234\n",
            "5678\n"
          ]
        }
      ]
    },
    {
      "cell_type": "markdown",
      "source": [
        "그룹화 이름\n",
        "- `(?P<name>\\w+)는 하나 이상의 단어 문자(\\w+)에 일치하며, 이 부분을 'name'이라는 이름으로 그룹화`\n",
        "- `\\s+는 하나 이상의 공백 문자에 일치합니다.`\n",
        "- `(?P<phone>(\\d+)[-]\\d+[-]\\d+)는 전화번호 형식에 일치하는 부분을 찾으며, 이 부분을 'phone'이라는 이름으로 그룹화. 여기서 \\d+는 하나 이상의 숫자에 일치하고, [-]는 리터럴 대시 문자에 일치.`"
      ],
      "metadata": {
        "id": "-wDP9QoQGKnS"
      }
    },
    {
      "cell_type": "code",
      "source": [
        "#그룹핑된 문자열에 이름 붙이기 : 확장 구문 (?P<name>\\w+)\n",
        "p = re.compile(r'(?P<name>\\w+)\\s+((\\d+)[-]\\d+[-]\\d+)')\n",
        "m = p.search('park 010-1234-5678')\n",
        "print(m.group('name'))\n",
        "print(m.group(1))\n",
        "print(m.group(2))\n",
        "print(m.group(3))"
      ],
      "metadata": {
        "colab": {
          "base_uri": "https://localhost:8080/"
        },
        "id": "e24GR8VcFy4i",
        "outputId": "488c1078-4c66-4393-ec91-61c4fff59dd9"
      },
      "execution_count": 45,
      "outputs": [
        {
          "output_type": "stream",
          "name": "stdout",
          "text": [
            "park\n",
            "park\n",
            "010-1234-5678\n",
            "010\n"
          ]
        }
      ]
    },
    {
      "cell_type": "code",
      "source": [
        "# 그룹명을 이용하여 정규식 내에서 재참조\n",
        "p = re.compile(r'(?P<word>\\w+)\\s+(?P=word)')\n",
        "p.search('Paris in the the spring').group()"
      ],
      "metadata": {
        "colab": {
          "base_uri": "https://localhost:8080/",
          "height": 35
        },
        "id": "8gTwQOREHAtC",
        "outputId": "71f0ae21-d8f5-45d1-da95-eb27c8a2fbd3"
      },
      "execution_count": 46,
      "outputs": [
        {
          "output_type": "execute_result",
          "data": {
            "text/plain": [
              "'the the'"
            ],
            "application/vnd.google.colaboratory.intrinsic+json": {
              "type": "string"
            }
          },
          "metadata": {},
          "execution_count": 46
        }
      ]
    },
    {
      "cell_type": "markdown",
      "source": [
        "정규 표현식에서 전방탐색(Lookahead)\n",
        "- 특정 패턴 뒤에 오는 문자열을 확인하는 방법으로, 긍정 전방탐색과 부정 전방탐색 두 가지 형태가 있다.\n",
        "- 이들은 매칭을 결정하는 조건을 설정하지만, 실제로 해당 문자열을 결과에 포함시키지는 않는다. 즉, 문자열을 '소모(consume)'하지 않는다..\n",
        "\n",
        "- 긍정 전방탐색 (Positive Lookahead)\n",
        "    - 형식: (?=...)\n",
        "    - 설명: 긍정 전방탐색은 ...에 해당하는 정규식 패턴이 일치해야 하지만, 해당 부분은 결과에 포함되지 않는다.\n",
        "    - 예시: X(?=Y)는 'Y'가 뒤따르는 'X'에 일치합니다. 'X'는 결과에 포함되지만, 'Y'는 포함되지 않는다.\n",
        "- 부정 전방탐색 (Negative Lookahead)\n",
        "    - 형식: (?!...)\n",
        "    - 설명: 부정 전방탐색은 ...에 해당하는 정규식 패턴이 일치하지 않아야 합니다. 여기서도 일치하는 부분은 결과에 포함되지 않는다.\n",
        "    - 예시: X(?!Y)는 'Y'가 뒤따르지 않는 'X'에 일치합니다. 'X'는 결과에 포함되지만, 'Y'는 검사 대상이지 결과에 포함되지 않는다."
      ],
      "metadata": {
        "id": "kNky3mIjHsft"
      }
    },
    {
      "cell_type": "code",
      "source": [
        "# 전방 탐색\n",
        "# 긍정(?=...) ...에 해당되는 정규식과 매치되어야 하며 조건이 통과되어도 문자열이 소모되지 않음\n",
        "# 부정(?!...) ...에 해당되는 정규식과 매치되지 않아야 하며 조건이 통과되었어도 문자열이 소모되지 않음\n",
        "\n",
        "p= re.compile(r'.+:')\n",
        "m=p.search('http://google.com')\n",
        "print(m.group())\n",
        "print()\n",
        "p= re.compile(r'.+(?=:)')\n",
        "m=p.search('http://google.com')\n",
        "print(m.group())\n",
        "print\n",
        "p= re.compile(r'.+(?!:)')\n",
        "m=p.search('http\\n://google.com')\n",
        "print(m.group())\n",
        "print"
      ],
      "metadata": {
        "colab": {
          "base_uri": "https://localhost:8080/"
        },
        "id": "DWqc9v8mHfSQ",
        "outputId": "adb338f5-9fe8-44e2-d8df-cd39a154ccf3"
      },
      "execution_count": 50,
      "outputs": [
        {
          "output_type": "stream",
          "name": "stdout",
          "text": [
            "http:\n",
            "\n",
            "http\n",
            "http\n"
          ]
        },
        {
          "output_type": "execute_result",
          "data": {
            "text/plain": [
              "<function print>"
            ]
          },
          "metadata": {},
          "execution_count": 50
        }
      ]
    },
    {
      "cell_type": "markdown",
      "source": [
        "긍정적 후방 탐색 (?<=B)A 'A'앞에 'B'가 있는 경우에만 A에 매칭\n",
        "\n",
        "긍정적 후방 탐색은 현재 위치의 앞쪽에 일치하는 패턴이 있을 경우에만 일치를 성공시키는 조건. 이 탐색은 패턴을 찾지만, 결과에는 포함시키지 않는다. 즉, @ 기호는 포함되지 않지만, 이 기호 뒤에 오는 특정 패턴을 검사하는 데 사용.\n",
        "\n",
        "부정적 후방 탐색 (?<!B)A  'A' 앞에 'B'가 없는 경우에만 'A'에 매칭"
      ],
      "metadata": {
        "id": "snMWpwfiKD6r"
      }
    },
    {
      "cell_type": "code",
      "source": [],
      "metadata": {
        "id": "T8ImD28DNZEG"
      },
      "execution_count": null,
      "outputs": []
    },
    {
      "cell_type": "code",
      "source": [
        "# Q. 다음 텍스트에서 'com'으로 끝나는 이메일 주소의 도메인 부분만 추출하세요, (예:'example%domain.com)\n",
        "\n",
        "text2 = \"Contact us as support@company.com, sales@enterpris.com of info@organization.org.\"\n",
        "pattern2 = r'(?<=@)[a-zA-Z0-9.-]+(?=\\.com)'\n",
        "matches2 = re.findall(pattern2, text2)\n",
        "print(matches2)"
      ],
      "metadata": {
        "colab": {
          "base_uri": "https://localhost:8080/"
        },
        "id": "QCEevSE1KBx-",
        "outputId": "e9331927-87b9-44d8-c8e9-f18b69fb0d82"
      },
      "execution_count": 58,
      "outputs": [
        {
          "output_type": "stream",
          "name": "stdout",
          "text": [
            "['company', 'enterpris']\n"
          ]
        }
      ]
    },
    {
      "cell_type": "markdown",
      "source": [
        "Greedy (탐욕스러운) 매칭\n",
        "- Greedy 매칭은 가능한 한 많은 문자와 일치하려고 한다. 즉, 주어진 패턴과 일치하는 문자열 중 가장 긴 것을 찾는다.\n",
        "- 예를 들어, 정규 표현식 a.*b는 a로 시작하고 b로 끝나는 가장 긴 문자열 부분과 일치한다.\n",
        "\n",
        "Non-Greedy (비탐욕스러운) 매칭\n",
        "- Non-Greedy 매칭은 가능한 한 적은 문자와 일치하려고 한다. 즉, 주어진 패턴과 일치하는 문자열 중 가장 짧은 것을 찾는다.\n",
        "- 예를 들어, 정규 표현식 a.*?b는 a로 시작하고 b로 끝나는 가장 짧은 문자열 부분과 일치합니다."
      ],
      "metadata": {
        "id": "FPedTHG4NwqN"
      }
    },
    {
      "cell_type": "code",
      "source": [
        "import re\n",
        "\n",
        "text = \"<div>Hello</div><div>World</div>\"\n",
        "pattern = r'<div>.*</div>'\n",
        "matches = re.findall(pattern, text)\n",
        "print(matches)"
      ],
      "metadata": {
        "colab": {
          "base_uri": "https://localhost:8080/"
        },
        "id": "yr98XT5kLMNW",
        "outputId": "7d7315a9-8bf8-4013-9d8e-3440ea511b61"
      },
      "execution_count": 59,
      "outputs": [
        {
          "output_type": "stream",
          "name": "stdout",
          "text": [
            "['<div>Hello</div><div>World</div>']\n"
          ]
        }
      ]
    },
    {
      "cell_type": "code",
      "source": [
        "text = \"<div>Hello</div><div>World</div>\"\n",
        "pattern_ng = r'<div>.*?</div>'\n",
        "matches_ng = re.findall(pattern_ng, text)\n",
        "print(matches_ng)"
      ],
      "metadata": {
        "colab": {
          "base_uri": "https://localhost:8080/"
        },
        "id": "Elsz5kgYOz8m",
        "outputId": "dbb8d47c-05ed-4aab-9af6-fb8994c5ca97"
      },
      "execution_count": 60,
      "outputs": [
        {
          "output_type": "stream",
          "name": "stdout",
          "text": [
            "['<div>Hello</div>', '<div>World</div>']\n"
          ]
        }
      ]
    },
    {
      "cell_type": "code",
      "source": [],
      "metadata": {
        "id": "Q8nzTKY7O6vy"
      },
      "execution_count": null,
      "outputs": []
    }
  ]
}