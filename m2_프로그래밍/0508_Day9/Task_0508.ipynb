{
  "nbformat": 4,
  "nbformat_minor": 0,
  "metadata": {
    "colab": {
      "provenance": [],
      "toc_visible": true
    },
    "kernelspec": {
      "name": "python3",
      "display_name": "Python 3"
    },
    "language_info": {
      "name": "python"
    }
  },
  "cells": [
    {
      "cell_type": "markdown",
      "source": [
        "Task1_0508. title() 함수를 사용하지 않고 동일한 결과를 출력하세요.\n",
        "\n",
        "lee sang hyeop => Lee Sang Hyeop\n"
      ],
      "metadata": {
        "id": "7pGX5M9BDDnK"
      }
    },
    {
      "cell_type": "code",
      "source": [
        "name = 'lee sang hyeop'\n",
        "sp_name = name.split()\n",
        "print(sp_name)\n",
        "for i in range(len(sp_name)):\n",
        "    sp_name[i] = str(sp_name[i][0].upper()) + str(sp_name[i][1:])\n",
        "uname = ''\n",
        "for a in sp_name:\n",
        "    uname=uname+a+' '\n",
        "print(uname)"
      ],
      "metadata": {
        "colab": {
          "base_uri": "https://localhost:8080/"
        },
        "id": "7nBbvgxIDEMV",
        "outputId": "4c3b20d6-304a-4561-9863-025d7342730d"
      },
      "execution_count": 21,
      "outputs": [
        {
          "output_type": "stream",
          "name": "stdout",
          "text": [
            "['lee', 'sang', 'hyeop']\n",
            "Lee Sang Hyeop \n"
          ]
        }
      ]
    },
    {
      "cell_type": "code",
      "source": [
        "name = 'lee sang hyeop'\n",
        "sp_name = name.split()\n",
        "print(sp_name[0][0].upper())"
      ],
      "metadata": {
        "colab": {
          "base_uri": "https://localhost:8080/"
        },
        "id": "mKMeKOz7BBv0",
        "outputId": "17cc1894-7a8e-433d-9e33-6f0a62ed2a25"
      },
      "execution_count": 17,
      "outputs": [
        {
          "output_type": "stream",
          "name": "stdout",
          "text": [
            "L\n"
          ]
        }
      ]
    },
    {
      "cell_type": "markdown",
      "source": [
        "Task2_0507. join 함수를 이용해서 ['a','b','c']을 아래와 같이 출력하세요.\n",
        "\n",
        "a::b::c"
      ],
      "metadata": {
        "id": "JuppzBg4JUUb"
      }
    },
    {
      "cell_type": "code",
      "source": [
        "list1 = ['a','b','c']\n",
        "bond = '::'\n",
        "output= bond.join(list1)\n",
        "print(output)"
      ],
      "metadata": {
        "colab": {
          "base_uri": "https://localhost:8080/"
        },
        "id": "_fe-dREdJUxx",
        "outputId": "72a17f8e-1151-4a66-ecc3-800b90f268eb"
      },
      "execution_count": 22,
      "outputs": [
        {
          "output_type": "stream",
          "name": "stdout",
          "text": [
            "a::b::c\n"
          ]
        }
      ]
    },
    {
      "cell_type": "markdown",
      "source": [
        "Task3_0508. 다음을 수행하세요.\n",
        "- 사용자로부터 문자열을 입력받습니다.\n",
        "- 입력받은 문자열이 숫자로만 이루어져 있는지 확인합니다.\n",
        "- 만약 숫자로만 이루어져 있다면, 그 숫자를 정수로 변환하여 100을 더한 결과를 출력합니다.\n",
        "- 숫자가 아닌 문자가 포함되어 있다면, 사용자에게 숫자만 입력하라는 메시지를 출력합니다.\n",
        "- 연산이 수행이 완료될 때까지 반복하고 수행이 완료되면 break 합니다."
      ],
      "metadata": {
        "id": "ePHf95w3OpEq"
      }
    },
    {
      "cell_type": "code",
      "source": [
        "while 1:\n",
        "    strings = input(\"문자열을 입력하세요 : \")\n",
        "    str_sp = strings.replace(\" \", \"\")\n",
        "    if not str_sp.isdigit():\n",
        "        print(\"숫자로만 입력해주세요\")\n",
        "        continue\n",
        "    else:\n",
        "        int_str = int(str_sp)\n",
        "        print(int_str +100)\n",
        "        break\n"
      ],
      "metadata": {
        "colab": {
          "base_uri": "https://localhost:8080/"
        },
        "id": "0ltbb3oQOpgT",
        "outputId": "0c7728b0-dc0e-463a-d4c9-e3b41c8237a4"
      },
      "execution_count": 28,
      "outputs": [
        {
          "output_type": "stream",
          "name": "stdout",
          "text": [
            "문자열을 입력하세요 : qwe\n",
            "숫자로만 입력해주세요\n",
            "문자열을 입력하세요 : 56454 6548971  1561\n",
            "5645465489711661\n"
          ]
        }
      ]
    },
    {
      "cell_type": "markdown",
      "source": [
        "Task4_0508. 문자와 숫자로만 구성된 아이디만 유효한 규칙을 만들려고 한다. 아래 사항을 참조하여 프로그램을 작성하세요.\n",
        "- 사용자로부터 문자열을 입력받습니다.\n",
        "- 입력받은 문자열이 알파벳과 숫자로만 이루어져 있는지 확인합니다.\n",
        "- 만약 조건을 만족한다면 \"유효한 아이디입니다\"라고 출력합니다.\n",
        "- 그렇지 않다면, \"아이디는 알파벳과 숫자만 포함할 수 있습니다\"라고 메시지를 출력합니다."
      ],
      "metadata": {
        "id": "7eXszWXtQCk7"
      }
    },
    {
      "cell_type": "code",
      "source": [
        "while 1:\n",
        "    strings = input(\"문자열을 입력하세요 : \")\n",
        "    if not strings.isalnum():\n",
        "        print(\"아이디는 알파벳과 숫자만 포함할 수 있습니다\")\n",
        "        continue\n",
        "    else:\n",
        "        print('유효한 아이디입니다')\n",
        "        break\n"
      ],
      "metadata": {
        "colab": {
          "base_uri": "https://localhost:8080/"
        },
        "id": "UIG3MM6ZQC7v",
        "outputId": "daf881ca-a81f-43db-e517-11d2d843ed48"
      },
      "execution_count": 31,
      "outputs": [
        {
          "output_type": "stream",
          "name": "stdout",
          "text": [
            "문자열을 입력하세요 : asfjalkj ``13`13\n",
            "아이디는 알파벳과 숫자만 포함할 수 있습니다\n",
            "문자열을 입력하세요 : sdf\n",
            "유효한 아이디입니다\n"
          ]
        }
      ]
    },
    {
      "cell_type": "markdown",
      "source": [
        "Task5_0508. 코딩을 한줄로 작성해서 동일한 결과를 출력하세요.\n"
      ],
      "metadata": {
        "id": "098SDzpxTfM5"
      }
    },
    {
      "cell_type": "code",
      "source": [
        "list = []\n",
        "\n",
        "for i in range(0,20,2):\n",
        "\n",
        "    list.append(i*i)\n",
        "\n",
        "print(list)"
      ],
      "metadata": {
        "colab": {
          "base_uri": "https://localhost:8080/"
        },
        "id": "MwCdL_GLUNCi",
        "outputId": "f87ea33c-216e-4f27-81d9-499e7e5932cb"
      },
      "execution_count": 8,
      "outputs": [
        {
          "output_type": "stream",
          "name": "stdout",
          "text": [
            "[0, 4, 16, 36, 64, 100, 144, 196, 256, 324]\n"
          ]
        }
      ]
    },
    {
      "cell_type": "code",
      "source": [
        "print([i*i  for i in range(0,20,2)])"
      ],
      "metadata": {
        "colab": {
          "base_uri": "https://localhost:8080/"
        },
        "id": "ZKzPsgF8T6aI",
        "outputId": "48dce39d-83e8-4404-c730-337782a684af"
      },
      "execution_count": 7,
      "outputs": [
        {
          "output_type": "stream",
          "name": "stdout",
          "text": [
            "[0, 4, 16, 36, 64, 100, 144, 196, 256, 324]\n"
          ]
        }
      ]
    },
    {
      "cell_type": "markdown",
      "source": [
        "Task6_0508. 유닉스 타임스탬프를 받아서 해당 시간을 datetime.datetime 객체로 변환하고, 그 결과를 출력하는 사용자 함수를 작성하여 임의의 타임스탬프를 입력하여 결과를 출력하세요."
      ],
      "metadata": {
        "id": "MnxpFjQX48VJ"
      }
    },
    {
      "cell_type": "code",
      "source": [
        "import time\n",
        "import datetime\n",
        "def ts_to_dt():\n",
        "    now = time.time()\n",
        "    dt = datetime.datetime.fromtimestamp(now)\n",
        "    print(dt)\n",
        "\n",
        "if __name__ =='__main__':\n",
        "    ts_to_dt()"
      ],
      "metadata": {
        "colab": {
          "base_uri": "https://localhost:8080/"
        },
        "id": "PSwhrz0O47xD",
        "outputId": "8f021f9a-e0b1-47dc-cab4-fc4d73a25759"
      },
      "execution_count": 35,
      "outputs": [
        {
          "output_type": "stream",
          "name": "stdout",
          "text": [
            "2024-05-08 07:19:53.355590\n"
          ]
        }
      ]
    },
    {
      "cell_type": "markdown",
      "source": [
        "Task7_0508. datetime 객체를 문자열로 변환하는 사용자 함수를 작성하여 datetime 객체를 \"YYYY-MM-DD HH:MM:SS\" 형식의 문자열로 변환하고 출력하세요."
      ],
      "metadata": {
        "id": "btyB9AhN5zuN"
      }
    },
    {
      "cell_type": "code",
      "source": [
        "from datetime import datetime\n",
        "\n",
        "def day_display():\n",
        "    now = datetime.now()\n",
        "    formatted=now.strftime('%Y-%m-%d %H:%M:%S')\n",
        "    print(formatted,type(formatted))\n",
        "\n",
        "day_display()"
      ],
      "metadata": {
        "colab": {
          "base_uri": "https://localhost:8080/"
        },
        "id": "hO0FXHFBysPS",
        "outputId": "d5e06d88-af90-4f8d-b4d7-1fda8b619dc8"
      },
      "execution_count": 40,
      "outputs": [
        {
          "output_type": "stream",
          "name": "stdout",
          "text": [
            "2024-05-08 07:23:59 <class 'str'>\n"
          ]
        }
      ]
    },
    {
      "cell_type": "markdown",
      "source": [
        "Task8_0508. 올해 경과된 날짜수 계산하세요."
      ],
      "metadata": {
        "id": "8Veeqm7X9q27"
      }
    },
    {
      "cell_type": "code",
      "source": [
        "import time\n",
        "\n",
        "output = time.strftime('%j', time.localtime(time.time()))\n",
        "print(f'올해는 {output}일만큼 지나갔습니다')"
      ],
      "metadata": {
        "colab": {
          "base_uri": "https://localhost:8080/"
        },
        "id": "8cQFIBAYFrUP",
        "outputId": "8d5c9c6a-c1d4-4847-a1d8-581f45bc4f3a"
      },
      "execution_count": 46,
      "outputs": [
        {
          "output_type": "stream",
          "name": "stdout",
          "text": [
            "올해는 129일만큼 지나갔습니다\n"
          ]
        }
      ]
    },
    {
      "cell_type": "markdown",
      "source": [
        "Task9_0508. 현재 요일을 \"2021-6-26 오늘은 토요일입니다.\"와 같은 형식으로 출력하세요."
      ],
      "metadata": {
        "id": "d9ElnMuA9sIQ"
      }
    },
    {
      "cell_type": "code",
      "source": [
        "now = datetime.now()\n",
        "dow = {'Mon':'월요일', 'Tue':'화요일','Wed':'수요일','Thu':'목요일','Fri':'금요일', 'Sat':'토요일', 'Sun':'일요일'}\n",
        "formatted=now.strftime('%Y %m %d %a')\n",
        "sp_fm = formatted.split(\" \")\n",
        "print(f'{sp_fm[0]}-{sp_fm[1]}-{sp_fm[2]} 오늘은 {dow[sp_fm[3]]}입니다.')"
      ],
      "metadata": {
        "colab": {
          "base_uri": "https://localhost:8080/"
        },
        "id": "Amb_EqPwGV7I",
        "outputId": "96acdf40-5f92-4741-f770-4573193c4ee8"
      },
      "execution_count": 84,
      "outputs": [
        {
          "output_type": "stream",
          "name": "stdout",
          "text": [
            "2024-05-08 오늘은 수요일입니다.\n"
          ]
        }
      ]
    },
    {
      "cell_type": "code",
      "source": [
        "now = datetime.now()\n",
        "dow = {'Mon':'월요일', 'Tue':'화요일','Wed':'수요일','Thu':'목요일','Fri':'금요일', 'Sat':'토요일', 'Sun':'일요일'}\n",
        "formatted=now.strftime('%Y-%m-%d 오늘은 %a입니다')\n",
        "formatted"
      ],
      "metadata": {
        "colab": {
          "base_uri": "https://localhost:8080/",
          "height": 35
        },
        "id": "AjB8lkYdPHY1",
        "outputId": "71bbd362-169d-45d5-be4c-8e4d3c8a8525"
      },
      "execution_count": 87,
      "outputs": [
        {
          "output_type": "execute_result",
          "data": {
            "text/plain": [
              "'2024-05-08 오늘은 Wed입니다'"
            ],
            "application/vnd.google.colaboratory.intrinsic+json": {
              "type": "string"
            }
          },
          "metadata": {},
          "execution_count": 87
        }
      ]
    },
    {
      "cell_type": "markdown",
      "source": [
        "Task10_0508. 1에서 백만까지 더하는데 걸리는 프로그램 실행 시간을 밀리초(ms) 단위로 구하세요.(1ms=0.001초)\n"
      ],
      "metadata": {
        "id": "WZ7BgMnJ9v5e"
      }
    },
    {
      "cell_type": "code",
      "source": [
        "import time\n",
        "from datetime import datetime\n",
        "i = 0\n",
        "now = datetime.now()\n",
        "sf = float(now.strftime('%s.%f'))\n",
        "for i in range(1, 1000001):\n",
        "    i += i\n",
        "now = datetime.now()\n",
        "ff = float(now.strftime('%s.%f'))\n",
        "tt=round((ff-sf),3)\n",
        "\n",
        "print(f'프로그램이 {tt}초만큼 돌아갔습니다')\n"
      ],
      "metadata": {
        "colab": {
          "base_uri": "https://localhost:8080/"
        },
        "id": "kxEBlNys9uRK",
        "outputId": "bc5f18f0-6317-405e-df78-15417d8d23c0"
      },
      "execution_count": 79,
      "outputs": [
        {
          "output_type": "stream",
          "name": "stdout",
          "text": [
            "프로그램이 0.218초만큼 돌아갔습니다\n"
          ]
        }
      ]
    },
    {
      "cell_type": "code",
      "source": [],
      "metadata": {
        "id": "sbMTZHYHILI0"
      },
      "execution_count": null,
      "outputs": []
    }
  ]
}